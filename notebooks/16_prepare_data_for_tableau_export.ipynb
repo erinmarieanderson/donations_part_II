{
 "cells": [
  {
   "cell_type": "code",
   "execution_count": 1,
   "metadata": {},
   "outputs": [
    {
     "name": "stderr",
     "output_type": "stream",
     "text": [
      "C:\\Users\\erinm\\Anaconda3\\lib\\site-packages\\statsmodels\\tools\\_testing.py:19: FutureWarning: pandas.util.testing is deprecated. Use the functions in the public API at pandas.testing instead.\n",
      "  import pandas.util.testing as tm\n"
     ]
    }
   ],
   "source": [
    "import numpy as np\n",
    "import pandas as pd\n",
    "\n",
    "import plotly.express as px\n",
    "import plotly.graph_objects as go\n",
    "import plotly.io as pio\n",
    "from plotly.subplots import make_subplots\n",
    "import plotly.figure_factory as ff\n",
    "\n",
    "#from ipywidgets import widgets\n",
    "\n",
    "#import re\n",
    "# import dash\n",
    "# import dash_core_components as dcc\n",
    "# import dash_html_components as html\n",
    "\n",
    "import seaborn as sns\n",
    "import matplotlib.pyplot as plt\n",
    "sns.set_style(\"white\")\n",
    "%matplotlib inline\n",
    "\n",
    "#import mysql.connector\n",
    "#from sqlalchemy import create_engine"
   ]
  },
  {
   "cell_type": "code",
   "execution_count": 2,
   "metadata": {},
   "outputs": [],
   "source": [
    "donations=pd.read_pickle('donations_cohort_with_cycle.pkl')"
   ]
  },
  {
   "cell_type": "code",
   "execution_count": 3,
   "metadata": {},
   "outputs": [],
   "source": [
    "year0=donations[['id',\n",
    "                 'cohort',\n",
    "                 'count_yr0',\n",
    "                 'amount_yr0',\n",
    "'upgraded_amount_yr0',\n",
    "'downgraded_amount_yr0',\n",
    "'yr0_TF',\n",
    "'yr0_TF_accum',\n",
    "'yr0_behavior',\n",
    "'yr0_behavior2',\n",
    "'cohort_gift_pattern',\n",
    "'donation_counts',\n",
    "'yr0_amount_groups',]].copy()"
   ]
  },
  {
   "cell_type": "code",
   "execution_count": 4,
   "metadata": {},
   "outputs": [],
   "source": [
    "year0['gift_year']='yr0'"
   ]
  },
  {
   "cell_type": "code",
   "execution_count": 5,
   "metadata": {},
   "outputs": [],
   "source": [
    "conditions=[year0['amount_yr0'] > 0]\n",
    "choices=['1']\n",
    "year0['yes']=np.select(conditions, choices, default=0)"
   ]
  },
  {
   "cell_type": "code",
   "execution_count": 6,
   "metadata": {},
   "outputs": [],
   "source": [
    "conditions=[year0['amount_yr0'] == 0]\n",
    "choices=['1']\n",
    "year0['no']=np.select(conditions, choices, default=0)"
   ]
  },
  {
   "cell_type": "code",
   "execution_count": 7,
   "metadata": {},
   "outputs": [],
   "source": [
    "year0.columns=['id', 'cohort', 'count', 'amount', 'upgraded_amount', 'downgraded_amount', 'TF', 'TF_accum', 'behavior', 'behavior2', 'cohort_gift_pattern', 'donation_counts', 'yr0_amount_groups', 'gift_year', 'yes', 'no']"
   ]
  },
  {
   "cell_type": "code",
   "execution_count": 9,
   "metadata": {},
   "outputs": [],
   "source": [
    "year1=donations[['id',\n",
    "                 'cohort',\n",
    "                 'count_yr1',\n",
    "                 'amount_yr1',\n",
    "'upgraded_amount_yr1',\n",
    "'downgraded_amount_yr1',\n",
    "'yr1_TF',\n",
    "'yr1_TF_accum',\n",
    "'yr1_behavior',\n",
    "'yr1_behavior2',\n",
    "'cohort_gift_pattern',\n",
    "'donation_counts',\n",
    "'yr0_amount_groups',]].copy()"
   ]
  },
  {
   "cell_type": "code",
   "execution_count": 10,
   "metadata": {},
   "outputs": [],
   "source": [
    "year1['gift_year']='yr1'"
   ]
  },
  {
   "cell_type": "code",
   "execution_count": 11,
   "metadata": {},
   "outputs": [],
   "source": [
    "conditions=[year1['amount_yr1'] > 0]\n",
    "choices=['1']\n",
    "year1['yes']=np.select(conditions, choices, default=0)"
   ]
  },
  {
   "cell_type": "code",
   "execution_count": 12,
   "metadata": {},
   "outputs": [],
   "source": [
    "conditions=[year1['amount_yr1'] == 0]\n",
    "choices=['1']\n",
    "year1['no']=np.select(conditions, choices, default=0)"
   ]
  },
  {
   "cell_type": "code",
   "execution_count": 14,
   "metadata": {},
   "outputs": [],
   "source": [
    "year1.columns=['id', 'cohort', 'count', 'amount', 'upgraded_amount', 'downgraded_amount', 'TF', 'TF_accum', 'behavior', 'behavior2', 'cohort_gift_pattern', 'donation_counts', 'yr0_amount_groups', 'gift_year','yes', 'no']"
   ]
  },
  {
   "cell_type": "code",
   "execution_count": 15,
   "metadata": {},
   "outputs": [],
   "source": [
    "year2=donations[['id',\n",
    "                 'cohort',\n",
    "                 'count_yr2',\n",
    "                 'amount_yr2',\n",
    "'upgraded_amount_yr2',\n",
    "'downgraded_amount_yr2',\n",
    "'yr2_TF',\n",
    "'yr2_TF_accum',\n",
    "'yr2_behavior',\n",
    "'yr2_behavior2',\n",
    "'cohort_gift_pattern',\n",
    "'donation_counts',\n",
    "'yr0_amount_groups',]].copy()"
   ]
  },
  {
   "cell_type": "code",
   "execution_count": 16,
   "metadata": {},
   "outputs": [],
   "source": [
    "year2['gift_year']='yr2'"
   ]
  },
  {
   "cell_type": "code",
   "execution_count": 17,
   "metadata": {},
   "outputs": [],
   "source": [
    "conditions=[year2['amount_yr2'] > 0]\n",
    "choices=['1']\n",
    "year2['yes']=np.select(conditions, choices, default=0)"
   ]
  },
  {
   "cell_type": "code",
   "execution_count": 18,
   "metadata": {},
   "outputs": [],
   "source": [
    "conditions=[year2['amount_yr2'] == 0]\n",
    "choices=['1']\n",
    "year2['no']=np.select(conditions, choices, default=0)"
   ]
  },
  {
   "cell_type": "code",
   "execution_count": 19,
   "metadata": {},
   "outputs": [],
   "source": [
    "year2.columns=['id', 'cohort', 'count', 'amount', 'upgraded_amount', 'downgraded_amount', 'TF', 'TF_accum', 'behavior', 'behavior2', 'cohort_gift_pattern', 'donation_counts', 'yr0_amount_groups', 'gift_year', 'yes', 'no']"
   ]
  },
  {
   "cell_type": "code",
   "execution_count": 20,
   "metadata": {},
   "outputs": [],
   "source": [
    "year3=donations[['id',\n",
    "                 'cohort',\n",
    "                 'count_yr3',\n",
    "                 'amount_yr3',\n",
    "'upgraded_amount_yr3',\n",
    "'downgraded_amount_yr3',\n",
    "'yr3_TF',\n",
    "'yr3_TF_accum',\n",
    "'yr3_behavior',\n",
    "'yr3_behavior2',\n",
    "'cohort_gift_pattern',\n",
    "'donation_counts',\n",
    "'yr0_amount_groups',]].copy()"
   ]
  },
  {
   "cell_type": "code",
   "execution_count": 21,
   "metadata": {},
   "outputs": [],
   "source": [
    "year3['gift_year']='yr3'"
   ]
  },
  {
   "cell_type": "code",
   "execution_count": 22,
   "metadata": {},
   "outputs": [],
   "source": [
    "conditions=[year3['amount_yr3'] > 0]\n",
    "choices=['1']\n",
    "year3['yes']=np.select(conditions, choices, default=0)"
   ]
  },
  {
   "cell_type": "code",
   "execution_count": 23,
   "metadata": {},
   "outputs": [],
   "source": [
    "conditions=[year3['amount_yr3'] == 0]\n",
    "choices=['1']\n",
    "year3['no']=np.select(conditions, choices, default=0)"
   ]
  },
  {
   "cell_type": "code",
   "execution_count": 24,
   "metadata": {},
   "outputs": [],
   "source": [
    "year3.columns=['id', 'cohort', 'count', 'amount', 'upgraded_amount', 'downgraded_amount', 'TF', 'TF_accum', 'behavior', 'behavior2', 'cohort_gift_pattern', 'donation_counts', 'yr0_amount_groups', 'gift_year', 'yes', 'no']"
   ]
  },
  {
   "cell_type": "code",
   "execution_count": 25,
   "metadata": {},
   "outputs": [],
   "source": [
    "year4=donations[['id',\n",
    "                 'cohort',\n",
    "                 'count_yr4',\n",
    "                 'amount_yr4',\n",
    "'upgraded_amount_yr4',\n",
    "'downgraded_amount_yr4',\n",
    "'yr4_TF',\n",
    "'yr4_TF_accum',\n",
    "'yr4_behavior',\n",
    "'yr4_behavior2',\n",
    "'cohort_gift_pattern',\n",
    "'donation_counts',\n",
    "'yr0_amount_groups',]].copy()"
   ]
  },
  {
   "cell_type": "code",
   "execution_count": 26,
   "metadata": {},
   "outputs": [],
   "source": [
    "year4['gift_year']='yr4'"
   ]
  },
  {
   "cell_type": "code",
   "execution_count": 27,
   "metadata": {},
   "outputs": [],
   "source": [
    "conditions=[year4['amount_yr4'] > 0]\n",
    "choices=['1']\n",
    "year4['yes']=np.select(conditions, choices, default=0)"
   ]
  },
  {
   "cell_type": "code",
   "execution_count": 28,
   "metadata": {},
   "outputs": [],
   "source": [
    "conditions=[year4['amount_yr4'] == 0]\n",
    "choices=['1']\n",
    "year4['no']=np.select(conditions, choices, default=0)"
   ]
  },
  {
   "cell_type": "code",
   "execution_count": 29,
   "metadata": {},
   "outputs": [],
   "source": [
    "year4.columns=['id', 'cohort', 'count', 'amount', 'upgraded_amount', 'downgraded_amount', 'TF', 'TF_accum', 'behavior', 'behavior2', 'cohort_gift_pattern', 'donation_counts', 'yr0_amount_groups', 'gift_year', 'yes', 'no']"
   ]
  },
  {
   "cell_type": "code",
   "execution_count": 30,
   "metadata": {},
   "outputs": [],
   "source": [
    "donations_cohort_years=pd.concat([year0, year1, year2,year3,year4])"
   ]
  },
  {
   "cell_type": "code",
   "execution_count": 31,
   "metadata": {},
   "outputs": [
    {
     "data": {
      "text/plain": [
       "Index(['id', 'cohort', 'count', 'amount', 'upgraded_amount',\n",
       "       'downgraded_amount', 'TF', 'TF_accum', 'behavior', 'behavior2',\n",
       "       'cohort_gift_pattern', 'donation_counts', 'yr0_amount_groups',\n",
       "       'gift_year', 'yes', 'no'],\n",
       "      dtype='object')"
      ]
     },
     "execution_count": 31,
     "metadata": {},
     "output_type": "execute_result"
    }
   ],
   "source": [
    "donations_cohort_years.columns"
   ]
  },
  {
   "cell_type": "code",
   "execution_count": 191,
   "metadata": {},
   "outputs": [],
   "source": [
    "#donations_cohort_years.to_csv('donations_cohort_years.csv')"
   ]
  },
  {
   "cell_type": "code",
   "execution_count": 32,
   "metadata": {},
   "outputs": [],
   "source": [
    "donations_cohort_years.to_pickle('donations_cohort_years.pkl')"
   ]
  },
  {
   "cell_type": "code",
   "execution_count": null,
   "metadata": {},
   "outputs": [],
   "source": []
  }
 ],
 "metadata": {
  "kernelspec": {
   "display_name": "Python 3",
   "language": "python",
   "name": "python3"
  },
  "language_info": {
   "codemirror_mode": {
    "name": "ipython",
    "version": 3
   },
   "file_extension": ".py",
   "mimetype": "text/x-python",
   "name": "python",
   "nbconvert_exporter": "python",
   "pygments_lexer": "ipython3",
   "version": "3.7.4"
  }
 },
 "nbformat": 4,
 "nbformat_minor": 2
}
