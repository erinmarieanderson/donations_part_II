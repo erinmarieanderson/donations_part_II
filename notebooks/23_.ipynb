{
 "cells": [
  {
   "cell_type": "code",
   "execution_count": 1,
   "metadata": {},
   "outputs": [
    {
     "name": "stderr",
     "output_type": "stream",
     "text": [
      "C:\\Users\\erinm\\Anaconda3\\lib\\site-packages\\statsmodels\\tools\\_testing.py:19: FutureWarning: pandas.util.testing is deprecated. Use the functions in the public API at pandas.testing instead.\n",
      "  import pandas.util.testing as tm\n"
     ]
    }
   ],
   "source": [
    "import numpy as np\n",
    "import pandas as pd\n",
    "\n",
    "import seaborn as sns\n",
    "import matplotlib.pyplot as plt\n",
    "sns.set_style(\"white\")\n",
    "%matplotlib inline\n",
    "\n",
    "from matplotlib.ticker import FuncFormatter\n",
    "\n",
    "import plotly.express as px\n",
    "import plotly.graph_objects as go"
   ]
  },
  {
   "cell_type": "code",
   "execution_count": 2,
   "metadata": {},
   "outputs": [],
   "source": [
    "donations13to17=pd.read_feather('donations13to17.ftr')"
   ]
  },
  {
   "cell_type": "code",
   "execution_count": 3,
   "metadata": {},
   "outputs": [],
   "source": [
    "#keep only relevant columnns from full dataset\n",
    "amounts1=donations13to17[['id','cohort','yr0','yr1','amount_yr0','amount_yr1']].copy().sort_values('amount_yr0').reset_index(drop=True)"
   ]
  },
  {
   "cell_type": "code",
   "execution_count": 8,
   "metadata": {},
   "outputs": [],
   "source": [
    "amounts1['retention_yr1']=amounts1['yr1']/amounts1['yr0']"
   ]
  },
  {
   "cell_type": "code",
   "execution_count": 9,
   "metadata": {},
   "outputs": [],
   "source": [
    "c13=amounts1.query('cohort==\"cohort13\"')"
   ]
  },
  {
   "cell_type": "code",
   "execution_count": 10,
   "metadata": {},
   "outputs": [
    {
     "data": {
      "text/html": [
       "<div>\n",
       "<style scoped>\n",
       "    .dataframe tbody tr th:only-of-type {\n",
       "        vertical-align: middle;\n",
       "    }\n",
       "\n",
       "    .dataframe tbody tr th {\n",
       "        vertical-align: top;\n",
       "    }\n",
       "\n",
       "    .dataframe thead th {\n",
       "        text-align: right;\n",
       "    }\n",
       "</style>\n",
       "<table border=\"1\" class=\"dataframe\">\n",
       "  <thead>\n",
       "    <tr style=\"text-align: right;\">\n",
       "      <th></th>\n",
       "      <th>id</th>\n",
       "      <th>cohort</th>\n",
       "      <th>yr0</th>\n",
       "      <th>yr1</th>\n",
       "      <th>amount_yr0</th>\n",
       "      <th>amount_yr1</th>\n",
       "      <th>retention_yr1</th>\n",
       "    </tr>\n",
       "  </thead>\n",
       "  <tbody>\n",
       "    <tr>\n",
       "      <th>5</th>\n",
       "      <td>69a7c6fed3094256c371fdd946585c15</td>\n",
       "      <td>cohort13</td>\n",
       "      <td>1</td>\n",
       "      <td>0</td>\n",
       "      <td>0.40</td>\n",
       "      <td>0.00</td>\n",
       "      <td>0.0</td>\n",
       "    </tr>\n",
       "    <tr>\n",
       "      <th>8</th>\n",
       "      <td>2bb12d73c1b7859ad4e045ad455a03c3</td>\n",
       "      <td>cohort13</td>\n",
       "      <td>1</td>\n",
       "      <td>0</td>\n",
       "      <td>1.00</td>\n",
       "      <td>0.00</td>\n",
       "      <td>0.0</td>\n",
       "    </tr>\n",
       "    <tr>\n",
       "      <th>9</th>\n",
       "      <td>54738e4163f3a49cc6f405c1ef221b26</td>\n",
       "      <td>cohort13</td>\n",
       "      <td>1</td>\n",
       "      <td>0</td>\n",
       "      <td>1.00</td>\n",
       "      <td>0.00</td>\n",
       "      <td>0.0</td>\n",
       "    </tr>\n",
       "    <tr>\n",
       "      <th>11</th>\n",
       "      <td>e9c19a42c4965f0f91262bd56ff98cda</td>\n",
       "      <td>cohort13</td>\n",
       "      <td>1</td>\n",
       "      <td>0</td>\n",
       "      <td>1.00</td>\n",
       "      <td>0.00</td>\n",
       "      <td>0.0</td>\n",
       "    </tr>\n",
       "    <tr>\n",
       "      <th>12</th>\n",
       "      <td>a614620bb7ac42c58e6740bdddf420e9</td>\n",
       "      <td>cohort13</td>\n",
       "      <td>1</td>\n",
       "      <td>0</td>\n",
       "      <td>1.00</td>\n",
       "      <td>0.00</td>\n",
       "      <td>0.0</td>\n",
       "    </tr>\n",
       "    <tr>\n",
       "      <th>...</th>\n",
       "      <td>...</td>\n",
       "      <td>...</td>\n",
       "      <td>...</td>\n",
       "      <td>...</td>\n",
       "      <td>...</td>\n",
       "      <td>...</td>\n",
       "      <td>...</td>\n",
       "    </tr>\n",
       "    <tr>\n",
       "      <th>1876458</th>\n",
       "      <td>2144d56b1947ebb26a19e7f1d07c970a</td>\n",
       "      <td>cohort13</td>\n",
       "      <td>1</td>\n",
       "      <td>1</td>\n",
       "      <td>90140.60</td>\n",
       "      <td>159344.38</td>\n",
       "      <td>1.0</td>\n",
       "    </tr>\n",
       "    <tr>\n",
       "      <th>1876459</th>\n",
       "      <td>96c4f21513cd8962acb147ab384e6434</td>\n",
       "      <td>cohort13</td>\n",
       "      <td>1</td>\n",
       "      <td>1</td>\n",
       "      <td>94901.50</td>\n",
       "      <td>215995.85</td>\n",
       "      <td>1.0</td>\n",
       "    </tr>\n",
       "    <tr>\n",
       "      <th>1876463</th>\n",
       "      <td>0e01e632606c230914fe73c2d2ccead3</td>\n",
       "      <td>cohort13</td>\n",
       "      <td>1</td>\n",
       "      <td>1</td>\n",
       "      <td>113360.94</td>\n",
       "      <td>77656.30</td>\n",
       "      <td>1.0</td>\n",
       "    </tr>\n",
       "    <tr>\n",
       "      <th>1876465</th>\n",
       "      <td>8f70fc7370842e0709cd9af3d29b4b0b</td>\n",
       "      <td>cohort13</td>\n",
       "      <td>1</td>\n",
       "      <td>1</td>\n",
       "      <td>163192.85</td>\n",
       "      <td>30893.09</td>\n",
       "      <td>1.0</td>\n",
       "    </tr>\n",
       "    <tr>\n",
       "      <th>1876466</th>\n",
       "      <td>a0e1d358aa17745ff3d3f4e4909356f3</td>\n",
       "      <td>cohort13</td>\n",
       "      <td>1</td>\n",
       "      <td>1</td>\n",
       "      <td>442794.38</td>\n",
       "      <td>570161.90</td>\n",
       "      <td>1.0</td>\n",
       "    </tr>\n",
       "  </tbody>\n",
       "</table>\n",
       "<p>320069 rows × 7 columns</p>\n",
       "</div>"
      ],
      "text/plain": [
       "                                       id    cohort  yr0  yr1  amount_yr0  \\\n",
       "5        69a7c6fed3094256c371fdd946585c15  cohort13    1    0        0.40   \n",
       "8        2bb12d73c1b7859ad4e045ad455a03c3  cohort13    1    0        1.00   \n",
       "9        54738e4163f3a49cc6f405c1ef221b26  cohort13    1    0        1.00   \n",
       "11       e9c19a42c4965f0f91262bd56ff98cda  cohort13    1    0        1.00   \n",
       "12       a614620bb7ac42c58e6740bdddf420e9  cohort13    1    0        1.00   \n",
       "...                                   ...       ...  ...  ...         ...   \n",
       "1876458  2144d56b1947ebb26a19e7f1d07c970a  cohort13    1    1    90140.60   \n",
       "1876459  96c4f21513cd8962acb147ab384e6434  cohort13    1    1    94901.50   \n",
       "1876463  0e01e632606c230914fe73c2d2ccead3  cohort13    1    1   113360.94   \n",
       "1876465  8f70fc7370842e0709cd9af3d29b4b0b  cohort13    1    1   163192.85   \n",
       "1876466  a0e1d358aa17745ff3d3f4e4909356f3  cohort13    1    1   442794.38   \n",
       "\n",
       "         amount_yr1  retention_yr1  \n",
       "5              0.00            0.0  \n",
       "8              0.00            0.0  \n",
       "9              0.00            0.0  \n",
       "11             0.00            0.0  \n",
       "12             0.00            0.0  \n",
       "...             ...            ...  \n",
       "1876458   159344.38            1.0  \n",
       "1876459   215995.85            1.0  \n",
       "1876463    77656.30            1.0  \n",
       "1876465    30893.09            1.0  \n",
       "1876466   570161.90            1.0  \n",
       "\n",
       "[320069 rows x 7 columns]"
      ]
     },
     "execution_count": 10,
     "metadata": {},
     "output_type": "execute_result"
    }
   ],
   "source": [
    "c13"
   ]
  },
  {
   "cell_type": "code",
   "execution_count": 17,
   "metadata": {},
   "outputs": [],
   "source": [
    "c13_1=c13.groupby('amount_yr0').agg({'retention_yr1':'mean'}).reset_index()"
   ]
  },
  {
   "cell_type": "code",
   "execution_count": 24,
   "metadata": {},
   "outputs": [
    {
     "data": {
      "text/plain": [
       "0.000000    11343\n",
       "1.000000     7864\n",
       "0.500000     1545\n",
       "0.333333      482\n",
       "0.666667      190\n",
       "            ...  \n",
       "0.458621        1\n",
       "0.441860        1\n",
       "0.267606        1\n",
       "0.505415        1\n",
       "0.730769        1\n",
       "Name: retention_yr1, Length: 231, dtype: int64"
      ]
     },
     "execution_count": 24,
     "metadata": {},
     "output_type": "execute_result"
    }
   ],
   "source": [
    "c13_1.retention_yr1.value_counts()"
   ]
  },
  {
   "cell_type": "code",
   "execution_count": 21,
   "metadata": {},
   "outputs": [],
   "source": [
    "c13_1['diff']=c13_1['retention_yr1']-c13_1['retention_yr1'].shift(1)"
   ]
  },
  {
   "cell_type": "code",
   "execution_count": 23,
   "metadata": {},
   "outputs": [
    {
     "data": {
      "text/plain": [
       " 0.000000    9969\n",
       "-1.000000    3519\n",
       " 1.000000    3491\n",
       " 0.500000    1309\n",
       "-0.500000    1264\n",
       "             ... \n",
       " 0.239130       1\n",
       " 0.203704       1\n",
       " 0.230769       1\n",
       "-0.428571       1\n",
       "-0.651163       1\n",
       "Name: diff, Length: 533, dtype: int64"
      ]
     },
     "execution_count": 23,
     "metadata": {},
     "output_type": "execute_result"
    }
   ],
   "source": [
    "c13_1['diff'].value_counts()"
   ]
  },
  {
   "cell_type": "code",
   "execution_count": 20,
   "metadata": {},
   "outputs": [
    {
     "data": {
      "text/plain": [
       "0        NaN\n",
       "1        NaN\n",
       "2        NaN\n",
       "3        0.0\n",
       "4        0.0\n",
       "        ... \n",
       "22105    0.0\n",
       "22106    0.0\n",
       "22107    0.0\n",
       "22108    0.0\n",
       "22109    0.0\n",
       "Name: retention_yr1, Length: 22110, dtype: float64"
      ]
     },
     "execution_count": 20,
     "metadata": {},
     "output_type": "execute_result"
    }
   ],
   "source": [
    "c13_1.groupby('retention_yr1')['retention_yr1'].apply(lambda x: x.shift(1)-x)"
   ]
  },
  {
   "cell_type": "code",
   "execution_count": 26,
   "metadata": {},
   "outputs": [],
   "source": [
    "c13_1.to_csv('c13_1.csv')"
   ]
  },
  {
   "cell_type": "code",
   "execution_count": 27,
   "metadata": {},
   "outputs": [
    {
     "data": {
      "text/html": [
       "<div>\n",
       "<style scoped>\n",
       "    .dataframe tbody tr th:only-of-type {\n",
       "        vertical-align: middle;\n",
       "    }\n",
       "\n",
       "    .dataframe tbody tr th {\n",
       "        vertical-align: top;\n",
       "    }\n",
       "\n",
       "    .dataframe thead th {\n",
       "        text-align: right;\n",
       "    }\n",
       "</style>\n",
       "<table border=\"1\" class=\"dataframe\">\n",
       "  <thead>\n",
       "    <tr style=\"text-align: right;\">\n",
       "      <th></th>\n",
       "      <th>amount_yr0</th>\n",
       "      <th>retention_yr1</th>\n",
       "      <th>diff</th>\n",
       "    </tr>\n",
       "  </thead>\n",
       "  <tbody>\n",
       "    <tr>\n",
       "      <th>0</th>\n",
       "      <td>0.40</td>\n",
       "      <td>0.000000</td>\n",
       "      <td>NaN</td>\n",
       "    </tr>\n",
       "    <tr>\n",
       "      <th>1</th>\n",
       "      <td>1.00</td>\n",
       "      <td>0.040034</td>\n",
       "      <td>0.040034</td>\n",
       "    </tr>\n",
       "    <tr>\n",
       "      <th>2</th>\n",
       "      <td>1.02</td>\n",
       "      <td>1.000000</td>\n",
       "      <td>0.959966</td>\n",
       "    </tr>\n",
       "    <tr>\n",
       "      <th>3</th>\n",
       "      <td>1.15</td>\n",
       "      <td>0.000000</td>\n",
       "      <td>-1.000000</td>\n",
       "    </tr>\n",
       "    <tr>\n",
       "      <th>4</th>\n",
       "      <td>1.19</td>\n",
       "      <td>1.000000</td>\n",
       "      <td>1.000000</td>\n",
       "    </tr>\n",
       "    <tr>\n",
       "      <th>...</th>\n",
       "      <td>...</td>\n",
       "      <td>...</td>\n",
       "      <td>...</td>\n",
       "    </tr>\n",
       "    <tr>\n",
       "      <th>22105</th>\n",
       "      <td>90140.60</td>\n",
       "      <td>1.000000</td>\n",
       "      <td>0.000000</td>\n",
       "    </tr>\n",
       "    <tr>\n",
       "      <th>22106</th>\n",
       "      <td>94901.50</td>\n",
       "      <td>1.000000</td>\n",
       "      <td>0.000000</td>\n",
       "    </tr>\n",
       "    <tr>\n",
       "      <th>22107</th>\n",
       "      <td>113360.94</td>\n",
       "      <td>1.000000</td>\n",
       "      <td>0.000000</td>\n",
       "    </tr>\n",
       "    <tr>\n",
       "      <th>22108</th>\n",
       "      <td>163192.85</td>\n",
       "      <td>1.000000</td>\n",
       "      <td>0.000000</td>\n",
       "    </tr>\n",
       "    <tr>\n",
       "      <th>22109</th>\n",
       "      <td>442794.38</td>\n",
       "      <td>1.000000</td>\n",
       "      <td>0.000000</td>\n",
       "    </tr>\n",
       "  </tbody>\n",
       "</table>\n",
       "<p>22110 rows × 3 columns</p>\n",
       "</div>"
      ],
      "text/plain": [
       "       amount_yr0  retention_yr1      diff\n",
       "0            0.40       0.000000       NaN\n",
       "1            1.00       0.040034  0.040034\n",
       "2            1.02       1.000000  0.959966\n",
       "3            1.15       0.000000 -1.000000\n",
       "4            1.19       1.000000  1.000000\n",
       "...           ...            ...       ...\n",
       "22105    90140.60       1.000000  0.000000\n",
       "22106    94901.50       1.000000  0.000000\n",
       "22107   113360.94       1.000000  0.000000\n",
       "22108   163192.85       1.000000  0.000000\n",
       "22109   442794.38       1.000000  0.000000\n",
       "\n",
       "[22110 rows x 3 columns]"
      ]
     },
     "execution_count": 27,
     "metadata": {},
     "output_type": "execute_result"
    }
   ],
   "source": [
    "c13_1"
   ]
  },
  {
   "cell_type": "code",
   "execution_count": null,
   "metadata": {},
   "outputs": [],
   "source": []
  }
 ],
 "metadata": {
  "kernelspec": {
   "display_name": "Python 3",
   "language": "python",
   "name": "python3"
  },
  "language_info": {
   "codemirror_mode": {
    "name": "ipython",
    "version": 3
   },
   "file_extension": ".py",
   "mimetype": "text/x-python",
   "name": "python",
   "nbconvert_exporter": "python",
   "pygments_lexer": "ipython3",
   "version": "3.7.4"
  }
 },
 "nbformat": 4,
 "nbformat_minor": 2
}
