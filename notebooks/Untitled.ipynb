{
 "cells": [
  {
   "cell_type": "code",
   "execution_count": 1,
   "metadata": {},
   "outputs": [
    {
     "name": "stderr",
     "output_type": "stream",
     "text": [
      "C:\\Users\\erinm\\Anaconda3\\lib\\site-packages\\statsmodels\\tools\\_testing.py:19: FutureWarning: pandas.util.testing is deprecated. Use the functions in the public API at pandas.testing instead.\n",
      "  import pandas.util.testing as tm\n"
     ]
    }
   ],
   "source": [
    "import numpy as np\n",
    "import pandas as pd\n",
    "\n",
    "import seaborn as sns\n",
    "import matplotlib.pyplot as plt\n",
    "sns.set_style(\"white\")\n",
    "%matplotlib inline\n",
    "\n",
    "from matplotlib.ticker import FuncFormatter\n",
    "\n",
    "import plotly.express as px\n",
    "import plotly.graph_objects as go"
   ]
  },
  {
   "cell_type": "code",
   "execution_count": 2,
   "metadata": {},
   "outputs": [],
   "source": [
    "donations13to17=pd.read_feather('donations13to17.ftr')"
   ]
  },
  {
   "cell_type": "code",
   "execution_count": 29,
   "metadata": {},
   "outputs": [],
   "source": [
    "#keep only relevant columnns from full dataset\n",
    "amounts1=donations13to17[['id','cohort','yr0','yr1','amount_yr0','amount_yr1']].copy().sort_values('amount_yr0').reset_index(drop=True)"
   ]
  },
  {
   "cell_type": "code",
   "execution_count": 30,
   "metadata": {},
   "outputs": [],
   "source": [
    "amounts1['retention_yr1']=amounts1['yr1']/amounts1['yr0']"
   ]
  },
  {
   "cell_type": "code",
   "execution_count": 31,
   "metadata": {},
   "outputs": [],
   "source": [
    "amounts1['group1024']=pd.qcut(amounts1.index, q=1024, labels=False)"
   ]
  },
  {
   "cell_type": "code",
   "execution_count": 114,
   "metadata": {},
   "outputs": [],
   "source": [
    "c13=amounts1.query('cohort==\"cohort13\"')"
   ]
  },
  {
   "cell_type": "code",
   "execution_count": 115,
   "metadata": {},
   "outputs": [
    {
     "data": {
      "text/html": [
       "<div>\n",
       "<style scoped>\n",
       "    .dataframe tbody tr th:only-of-type {\n",
       "        vertical-align: middle;\n",
       "    }\n",
       "\n",
       "    .dataframe tbody tr th {\n",
       "        vertical-align: top;\n",
       "    }\n",
       "\n",
       "    .dataframe thead th {\n",
       "        text-align: right;\n",
       "    }\n",
       "</style>\n",
       "<table border=\"1\" class=\"dataframe\">\n",
       "  <thead>\n",
       "    <tr style=\"text-align: right;\">\n",
       "      <th></th>\n",
       "      <th>id</th>\n",
       "      <th>cohort</th>\n",
       "      <th>yr0</th>\n",
       "      <th>yr1</th>\n",
       "      <th>amount_yr0</th>\n",
       "      <th>amount_yr1</th>\n",
       "      <th>retention_yr1</th>\n",
       "      <th>group1024</th>\n",
       "    </tr>\n",
       "  </thead>\n",
       "  <tbody>\n",
       "    <tr>\n",
       "      <th>5</th>\n",
       "      <td>69a7c6fed3094256c371fdd946585c15</td>\n",
       "      <td>cohort13</td>\n",
       "      <td>1</td>\n",
       "      <td>0</td>\n",
       "      <td>0.40</td>\n",
       "      <td>0.00</td>\n",
       "      <td>0.0</td>\n",
       "      <td>0</td>\n",
       "    </tr>\n",
       "    <tr>\n",
       "      <th>8</th>\n",
       "      <td>2bb12d73c1b7859ad4e045ad455a03c3</td>\n",
       "      <td>cohort13</td>\n",
       "      <td>1</td>\n",
       "      <td>0</td>\n",
       "      <td>1.00</td>\n",
       "      <td>0.00</td>\n",
       "      <td>0.0</td>\n",
       "      <td>0</td>\n",
       "    </tr>\n",
       "    <tr>\n",
       "      <th>9</th>\n",
       "      <td>54738e4163f3a49cc6f405c1ef221b26</td>\n",
       "      <td>cohort13</td>\n",
       "      <td>1</td>\n",
       "      <td>0</td>\n",
       "      <td>1.00</td>\n",
       "      <td>0.00</td>\n",
       "      <td>0.0</td>\n",
       "      <td>0</td>\n",
       "    </tr>\n",
       "    <tr>\n",
       "      <th>11</th>\n",
       "      <td>e9c19a42c4965f0f91262bd56ff98cda</td>\n",
       "      <td>cohort13</td>\n",
       "      <td>1</td>\n",
       "      <td>0</td>\n",
       "      <td>1.00</td>\n",
       "      <td>0.00</td>\n",
       "      <td>0.0</td>\n",
       "      <td>0</td>\n",
       "    </tr>\n",
       "    <tr>\n",
       "      <th>12</th>\n",
       "      <td>a614620bb7ac42c58e6740bdddf420e9</td>\n",
       "      <td>cohort13</td>\n",
       "      <td>1</td>\n",
       "      <td>0</td>\n",
       "      <td>1.00</td>\n",
       "      <td>0.00</td>\n",
       "      <td>0.0</td>\n",
       "      <td>0</td>\n",
       "    </tr>\n",
       "    <tr>\n",
       "      <th>...</th>\n",
       "      <td>...</td>\n",
       "      <td>...</td>\n",
       "      <td>...</td>\n",
       "      <td>...</td>\n",
       "      <td>...</td>\n",
       "      <td>...</td>\n",
       "      <td>...</td>\n",
       "      <td>...</td>\n",
       "    </tr>\n",
       "    <tr>\n",
       "      <th>1876458</th>\n",
       "      <td>2144d56b1947ebb26a19e7f1d07c970a</td>\n",
       "      <td>cohort13</td>\n",
       "      <td>1</td>\n",
       "      <td>1</td>\n",
       "      <td>90140.60</td>\n",
       "      <td>159344.38</td>\n",
       "      <td>1.0</td>\n",
       "      <td>1023</td>\n",
       "    </tr>\n",
       "    <tr>\n",
       "      <th>1876459</th>\n",
       "      <td>96c4f21513cd8962acb147ab384e6434</td>\n",
       "      <td>cohort13</td>\n",
       "      <td>1</td>\n",
       "      <td>1</td>\n",
       "      <td>94901.50</td>\n",
       "      <td>215995.85</td>\n",
       "      <td>1.0</td>\n",
       "      <td>1023</td>\n",
       "    </tr>\n",
       "    <tr>\n",
       "      <th>1876463</th>\n",
       "      <td>0e01e632606c230914fe73c2d2ccead3</td>\n",
       "      <td>cohort13</td>\n",
       "      <td>1</td>\n",
       "      <td>1</td>\n",
       "      <td>113360.94</td>\n",
       "      <td>77656.30</td>\n",
       "      <td>1.0</td>\n",
       "      <td>1023</td>\n",
       "    </tr>\n",
       "    <tr>\n",
       "      <th>1876465</th>\n",
       "      <td>8f70fc7370842e0709cd9af3d29b4b0b</td>\n",
       "      <td>cohort13</td>\n",
       "      <td>1</td>\n",
       "      <td>1</td>\n",
       "      <td>163192.85</td>\n",
       "      <td>30893.09</td>\n",
       "      <td>1.0</td>\n",
       "      <td>1023</td>\n",
       "    </tr>\n",
       "    <tr>\n",
       "      <th>1876466</th>\n",
       "      <td>a0e1d358aa17745ff3d3f4e4909356f3</td>\n",
       "      <td>cohort13</td>\n",
       "      <td>1</td>\n",
       "      <td>1</td>\n",
       "      <td>442794.38</td>\n",
       "      <td>570161.90</td>\n",
       "      <td>1.0</td>\n",
       "      <td>1023</td>\n",
       "    </tr>\n",
       "  </tbody>\n",
       "</table>\n",
       "<p>320069 rows × 8 columns</p>\n",
       "</div>"
      ],
      "text/plain": [
       "                                       id    cohort  yr0  yr1  amount_yr0  \\\n",
       "5        69a7c6fed3094256c371fdd946585c15  cohort13    1    0        0.40   \n",
       "8        2bb12d73c1b7859ad4e045ad455a03c3  cohort13    1    0        1.00   \n",
       "9        54738e4163f3a49cc6f405c1ef221b26  cohort13    1    0        1.00   \n",
       "11       e9c19a42c4965f0f91262bd56ff98cda  cohort13    1    0        1.00   \n",
       "12       a614620bb7ac42c58e6740bdddf420e9  cohort13    1    0        1.00   \n",
       "...                                   ...       ...  ...  ...         ...   \n",
       "1876458  2144d56b1947ebb26a19e7f1d07c970a  cohort13    1    1    90140.60   \n",
       "1876459  96c4f21513cd8962acb147ab384e6434  cohort13    1    1    94901.50   \n",
       "1876463  0e01e632606c230914fe73c2d2ccead3  cohort13    1    1   113360.94   \n",
       "1876465  8f70fc7370842e0709cd9af3d29b4b0b  cohort13    1    1   163192.85   \n",
       "1876466  a0e1d358aa17745ff3d3f4e4909356f3  cohort13    1    1   442794.38   \n",
       "\n",
       "         amount_yr1  retention_yr1  group1024  \n",
       "5              0.00            0.0          0  \n",
       "8              0.00            0.0          0  \n",
       "9              0.00            0.0          0  \n",
       "11             0.00            0.0          0  \n",
       "12             0.00            0.0          0  \n",
       "...             ...            ...        ...  \n",
       "1876458   159344.38            1.0       1023  \n",
       "1876459   215995.85            1.0       1023  \n",
       "1876463    77656.30            1.0       1023  \n",
       "1876465    30893.09            1.0       1023  \n",
       "1876466   570161.90            1.0       1023  \n",
       "\n",
       "[320069 rows x 8 columns]"
      ]
     },
     "execution_count": 115,
     "metadata": {},
     "output_type": "execute_result"
    }
   ],
   "source": [
    "c13"
   ]
  },
  {
   "cell_type": "code",
   "execution_count": 116,
   "metadata": {},
   "outputs": [],
   "source": [
    "df=c13.groupby(['group1024']).agg({'yr0':'sum','yr1':'sum','retention_yr1':'mean'}).reset_index()"
   ]
  },
  {
   "cell_type": "code",
   "execution_count": 117,
   "metadata": {},
   "outputs": [],
   "source": [
    "dfc=c13.groupby('group1024')['amount_yr0']"
   ]
  },
  {
   "cell_type": "code",
   "execution_count": 118,
   "metadata": {},
   "outputs": [],
   "source": [
    "dfc1=c13.assign(min=dfc.transform(min), max=dfc.transform(max))"
   ]
  },
  {
   "cell_type": "code",
   "execution_count": 119,
   "metadata": {},
   "outputs": [],
   "source": [
    "dfc1['group_range']=dfc1['min'].astype(str) + \" - \" + dfc1['max'].astype(str)"
   ]
  },
  {
   "cell_type": "code",
   "execution_count": 120,
   "metadata": {},
   "outputs": [
    {
     "data": {
      "text/html": [
       "<div>\n",
       "<style scoped>\n",
       "    .dataframe tbody tr th:only-of-type {\n",
       "        vertical-align: middle;\n",
       "    }\n",
       "\n",
       "    .dataframe tbody tr th {\n",
       "        vertical-align: top;\n",
       "    }\n",
       "\n",
       "    .dataframe thead th {\n",
       "        text-align: right;\n",
       "    }\n",
       "</style>\n",
       "<table border=\"1\" class=\"dataframe\">\n",
       "  <thead>\n",
       "    <tr style=\"text-align: right;\">\n",
       "      <th></th>\n",
       "      <th>id</th>\n",
       "      <th>cohort</th>\n",
       "      <th>yr0</th>\n",
       "      <th>yr1</th>\n",
       "      <th>amount_yr0</th>\n",
       "      <th>amount_yr1</th>\n",
       "      <th>retention_yr1</th>\n",
       "      <th>group1024</th>\n",
       "      <th>min</th>\n",
       "      <th>max</th>\n",
       "      <th>group_range</th>\n",
       "    </tr>\n",
       "  </thead>\n",
       "  <tbody>\n",
       "    <tr>\n",
       "      <th>5</th>\n",
       "      <td>69a7c6fed3094256c371fdd946585c15</td>\n",
       "      <td>cohort13</td>\n",
       "      <td>1</td>\n",
       "      <td>0</td>\n",
       "      <td>0.40</td>\n",
       "      <td>0.00</td>\n",
       "      <td>0.0</td>\n",
       "      <td>0</td>\n",
       "      <td>0.40</td>\n",
       "      <td>1.00</td>\n",
       "      <td>0.4 - 1.0</td>\n",
       "    </tr>\n",
       "    <tr>\n",
       "      <th>8</th>\n",
       "      <td>2bb12d73c1b7859ad4e045ad455a03c3</td>\n",
       "      <td>cohort13</td>\n",
       "      <td>1</td>\n",
       "      <td>0</td>\n",
       "      <td>1.00</td>\n",
       "      <td>0.00</td>\n",
       "      <td>0.0</td>\n",
       "      <td>0</td>\n",
       "      <td>0.40</td>\n",
       "      <td>1.00</td>\n",
       "      <td>0.4 - 1.0</td>\n",
       "    </tr>\n",
       "    <tr>\n",
       "      <th>9</th>\n",
       "      <td>54738e4163f3a49cc6f405c1ef221b26</td>\n",
       "      <td>cohort13</td>\n",
       "      <td>1</td>\n",
       "      <td>0</td>\n",
       "      <td>1.00</td>\n",
       "      <td>0.00</td>\n",
       "      <td>0.0</td>\n",
       "      <td>0</td>\n",
       "      <td>0.40</td>\n",
       "      <td>1.00</td>\n",
       "      <td>0.4 - 1.0</td>\n",
       "    </tr>\n",
       "    <tr>\n",
       "      <th>11</th>\n",
       "      <td>e9c19a42c4965f0f91262bd56ff98cda</td>\n",
       "      <td>cohort13</td>\n",
       "      <td>1</td>\n",
       "      <td>0</td>\n",
       "      <td>1.00</td>\n",
       "      <td>0.00</td>\n",
       "      <td>0.0</td>\n",
       "      <td>0</td>\n",
       "      <td>0.40</td>\n",
       "      <td>1.00</td>\n",
       "      <td>0.4 - 1.0</td>\n",
       "    </tr>\n",
       "    <tr>\n",
       "      <th>12</th>\n",
       "      <td>a614620bb7ac42c58e6740bdddf420e9</td>\n",
       "      <td>cohort13</td>\n",
       "      <td>1</td>\n",
       "      <td>0</td>\n",
       "      <td>1.00</td>\n",
       "      <td>0.00</td>\n",
       "      <td>0.0</td>\n",
       "      <td>0</td>\n",
       "      <td>0.40</td>\n",
       "      <td>1.00</td>\n",
       "      <td>0.4 - 1.0</td>\n",
       "    </tr>\n",
       "    <tr>\n",
       "      <th>...</th>\n",
       "      <td>...</td>\n",
       "      <td>...</td>\n",
       "      <td>...</td>\n",
       "      <td>...</td>\n",
       "      <td>...</td>\n",
       "      <td>...</td>\n",
       "      <td>...</td>\n",
       "      <td>...</td>\n",
       "      <td>...</td>\n",
       "      <td>...</td>\n",
       "      <td>...</td>\n",
       "    </tr>\n",
       "    <tr>\n",
       "      <th>1876458</th>\n",
       "      <td>2144d56b1947ebb26a19e7f1d07c970a</td>\n",
       "      <td>cohort13</td>\n",
       "      <td>1</td>\n",
       "      <td>1</td>\n",
       "      <td>90140.60</td>\n",
       "      <td>159344.38</td>\n",
       "      <td>1.0</td>\n",
       "      <td>1023</td>\n",
       "      <td>3647.16</td>\n",
       "      <td>442794.38</td>\n",
       "      <td>3647.16 - 442794.38</td>\n",
       "    </tr>\n",
       "    <tr>\n",
       "      <th>1876459</th>\n",
       "      <td>96c4f21513cd8962acb147ab384e6434</td>\n",
       "      <td>cohort13</td>\n",
       "      <td>1</td>\n",
       "      <td>1</td>\n",
       "      <td>94901.50</td>\n",
       "      <td>215995.85</td>\n",
       "      <td>1.0</td>\n",
       "      <td>1023</td>\n",
       "      <td>3647.16</td>\n",
       "      <td>442794.38</td>\n",
       "      <td>3647.16 - 442794.38</td>\n",
       "    </tr>\n",
       "    <tr>\n",
       "      <th>1876463</th>\n",
       "      <td>0e01e632606c230914fe73c2d2ccead3</td>\n",
       "      <td>cohort13</td>\n",
       "      <td>1</td>\n",
       "      <td>1</td>\n",
       "      <td>113360.94</td>\n",
       "      <td>77656.30</td>\n",
       "      <td>1.0</td>\n",
       "      <td>1023</td>\n",
       "      <td>3647.16</td>\n",
       "      <td>442794.38</td>\n",
       "      <td>3647.16 - 442794.38</td>\n",
       "    </tr>\n",
       "    <tr>\n",
       "      <th>1876465</th>\n",
       "      <td>8f70fc7370842e0709cd9af3d29b4b0b</td>\n",
       "      <td>cohort13</td>\n",
       "      <td>1</td>\n",
       "      <td>1</td>\n",
       "      <td>163192.85</td>\n",
       "      <td>30893.09</td>\n",
       "      <td>1.0</td>\n",
       "      <td>1023</td>\n",
       "      <td>3647.16</td>\n",
       "      <td>442794.38</td>\n",
       "      <td>3647.16 - 442794.38</td>\n",
       "    </tr>\n",
       "    <tr>\n",
       "      <th>1876466</th>\n",
       "      <td>a0e1d358aa17745ff3d3f4e4909356f3</td>\n",
       "      <td>cohort13</td>\n",
       "      <td>1</td>\n",
       "      <td>1</td>\n",
       "      <td>442794.38</td>\n",
       "      <td>570161.90</td>\n",
       "      <td>1.0</td>\n",
       "      <td>1023</td>\n",
       "      <td>3647.16</td>\n",
       "      <td>442794.38</td>\n",
       "      <td>3647.16 - 442794.38</td>\n",
       "    </tr>\n",
       "  </tbody>\n",
       "</table>\n",
       "<p>320069 rows × 11 columns</p>\n",
       "</div>"
      ],
      "text/plain": [
       "                                       id    cohort  yr0  yr1  amount_yr0  \\\n",
       "5        69a7c6fed3094256c371fdd946585c15  cohort13    1    0        0.40   \n",
       "8        2bb12d73c1b7859ad4e045ad455a03c3  cohort13    1    0        1.00   \n",
       "9        54738e4163f3a49cc6f405c1ef221b26  cohort13    1    0        1.00   \n",
       "11       e9c19a42c4965f0f91262bd56ff98cda  cohort13    1    0        1.00   \n",
       "12       a614620bb7ac42c58e6740bdddf420e9  cohort13    1    0        1.00   \n",
       "...                                   ...       ...  ...  ...         ...   \n",
       "1876458  2144d56b1947ebb26a19e7f1d07c970a  cohort13    1    1    90140.60   \n",
       "1876459  96c4f21513cd8962acb147ab384e6434  cohort13    1    1    94901.50   \n",
       "1876463  0e01e632606c230914fe73c2d2ccead3  cohort13    1    1   113360.94   \n",
       "1876465  8f70fc7370842e0709cd9af3d29b4b0b  cohort13    1    1   163192.85   \n",
       "1876466  a0e1d358aa17745ff3d3f4e4909356f3  cohort13    1    1   442794.38   \n",
       "\n",
       "         amount_yr1  retention_yr1  group1024      min        max  \\\n",
       "5              0.00            0.0          0     0.40       1.00   \n",
       "8              0.00            0.0          0     0.40       1.00   \n",
       "9              0.00            0.0          0     0.40       1.00   \n",
       "11             0.00            0.0          0     0.40       1.00   \n",
       "12             0.00            0.0          0     0.40       1.00   \n",
       "...             ...            ...        ...      ...        ...   \n",
       "1876458   159344.38            1.0       1023  3647.16  442794.38   \n",
       "1876459   215995.85            1.0       1023  3647.16  442794.38   \n",
       "1876463    77656.30            1.0       1023  3647.16  442794.38   \n",
       "1876465    30893.09            1.0       1023  3647.16  442794.38   \n",
       "1876466   570161.90            1.0       1023  3647.16  442794.38   \n",
       "\n",
       "                 group_range  \n",
       "5                  0.4 - 1.0  \n",
       "8                  0.4 - 1.0  \n",
       "9                  0.4 - 1.0  \n",
       "11                 0.4 - 1.0  \n",
       "12                 0.4 - 1.0  \n",
       "...                      ...  \n",
       "1876458  3647.16 - 442794.38  \n",
       "1876459  3647.16 - 442794.38  \n",
       "1876463  3647.16 - 442794.38  \n",
       "1876465  3647.16 - 442794.38  \n",
       "1876466  3647.16 - 442794.38  \n",
       "\n",
       "[320069 rows x 11 columns]"
      ]
     },
     "execution_count": 120,
     "metadata": {},
     "output_type": "execute_result"
    }
   ],
   "source": [
    "dfc1"
   ]
  },
  {
   "cell_type": "code",
   "execution_count": 57,
   "metadata": {},
   "outputs": [
    {
     "data": {
      "text/html": [
       "<div>\n",
       "<style scoped>\n",
       "    .dataframe tbody tr th:only-of-type {\n",
       "        vertical-align: middle;\n",
       "    }\n",
       "\n",
       "    .dataframe tbody tr th {\n",
       "        vertical-align: top;\n",
       "    }\n",
       "\n",
       "    .dataframe thead th {\n",
       "        text-align: right;\n",
       "    }\n",
       "</style>\n",
       "<table border=\"1\" class=\"dataframe\">\n",
       "  <thead>\n",
       "    <tr style=\"text-align: right;\">\n",
       "      <th></th>\n",
       "      <th>group1024</th>\n",
       "      <th>min</th>\n",
       "      <th>max</th>\n",
       "    </tr>\n",
       "  </thead>\n",
       "  <tbody>\n",
       "    <tr>\n",
       "      <th>0</th>\n",
       "      <td>0</td>\n",
       "      <td>0.40</td>\n",
       "      <td>1.00</td>\n",
       "    </tr>\n",
       "    <tr>\n",
       "      <th>1</th>\n",
       "      <td>1</td>\n",
       "      <td>1.00</td>\n",
       "      <td>1.00</td>\n",
       "    </tr>\n",
       "    <tr>\n",
       "      <th>2</th>\n",
       "      <td>2</td>\n",
       "      <td>1.00</td>\n",
       "      <td>1.00</td>\n",
       "    </tr>\n",
       "    <tr>\n",
       "      <th>3</th>\n",
       "      <td>3</td>\n",
       "      <td>1.00</td>\n",
       "      <td>1.00</td>\n",
       "    </tr>\n",
       "    <tr>\n",
       "      <th>4</th>\n",
       "      <td>4</td>\n",
       "      <td>1.00</td>\n",
       "      <td>1.00</td>\n",
       "    </tr>\n",
       "    <tr>\n",
       "      <th>...</th>\n",
       "      <td>...</td>\n",
       "      <td>...</td>\n",
       "      <td>...</td>\n",
       "    </tr>\n",
       "    <tr>\n",
       "      <th>1019</th>\n",
       "      <td>1019</td>\n",
       "      <td>1150.00</td>\n",
       "      <td>1345.69</td>\n",
       "    </tr>\n",
       "    <tr>\n",
       "      <th>1020</th>\n",
       "      <td>1020</td>\n",
       "      <td>1347.61</td>\n",
       "      <td>1626.85</td>\n",
       "    </tr>\n",
       "    <tr>\n",
       "      <th>1021</th>\n",
       "      <td>1021</td>\n",
       "      <td>1627.36</td>\n",
       "      <td>2123.00</td>\n",
       "    </tr>\n",
       "    <tr>\n",
       "      <th>1022</th>\n",
       "      <td>1022</td>\n",
       "      <td>2125.61</td>\n",
       "      <td>3626.75</td>\n",
       "    </tr>\n",
       "    <tr>\n",
       "      <th>1023</th>\n",
       "      <td>1023</td>\n",
       "      <td>3647.16</td>\n",
       "      <td>442794.38</td>\n",
       "    </tr>\n",
       "  </tbody>\n",
       "</table>\n",
       "<p>1024 rows × 3 columns</p>\n",
       "</div>"
      ],
      "text/plain": [
       "      group1024      min        max\n",
       "0             0     0.40       1.00\n",
       "1             1     1.00       1.00\n",
       "2             2     1.00       1.00\n",
       "3             3     1.00       1.00\n",
       "4             4     1.00       1.00\n",
       "...         ...      ...        ...\n",
       "1019       1019  1150.00    1345.69\n",
       "1020       1020  1347.61    1626.85\n",
       "1021       1021  1627.36    2123.00\n",
       "1022       1022  2125.61    3626.75\n",
       "1023       1023  3647.16  442794.38\n",
       "\n",
       "[1024 rows x 3 columns]"
      ]
     },
     "execution_count": 57,
     "metadata": {},
     "output_type": "execute_result"
    }
   ],
   "source": [
    "dfc1.groupby('group1024').mean()[['min','max']].reset_index()"
   ]
  },
  {
   "cell_type": "code",
   "execution_count": 58,
   "metadata": {},
   "outputs": [
    {
     "data": {
      "text/html": [
       "<div>\n",
       "<style scoped>\n",
       "    .dataframe tbody tr th:only-of-type {\n",
       "        vertical-align: middle;\n",
       "    }\n",
       "\n",
       "    .dataframe tbody tr th {\n",
       "        vertical-align: top;\n",
       "    }\n",
       "\n",
       "    .dataframe thead th {\n",
       "        text-align: right;\n",
       "    }\n",
       "</style>\n",
       "<table border=\"1\" class=\"dataframe\">\n",
       "  <thead>\n",
       "    <tr style=\"text-align: right;\">\n",
       "      <th></th>\n",
       "      <th>id</th>\n",
       "      <th>cohort</th>\n",
       "      <th>yr0</th>\n",
       "      <th>yr1</th>\n",
       "      <th>amount_yr0</th>\n",
       "      <th>amount_yr1</th>\n",
       "      <th>retention_yr1</th>\n",
       "      <th>group1024</th>\n",
       "    </tr>\n",
       "  </thead>\n",
       "  <tbody>\n",
       "    <tr>\n",
       "      <th>5</th>\n",
       "      <td>69a7c6fed3094256c371fdd946585c15</td>\n",
       "      <td>cohort13</td>\n",
       "      <td>1</td>\n",
       "      <td>0</td>\n",
       "      <td>0.40</td>\n",
       "      <td>0.00</td>\n",
       "      <td>0.0</td>\n",
       "      <td>0</td>\n",
       "    </tr>\n",
       "    <tr>\n",
       "      <th>8</th>\n",
       "      <td>2bb12d73c1b7859ad4e045ad455a03c3</td>\n",
       "      <td>cohort13</td>\n",
       "      <td>1</td>\n",
       "      <td>0</td>\n",
       "      <td>1.00</td>\n",
       "      <td>0.00</td>\n",
       "      <td>0.0</td>\n",
       "      <td>0</td>\n",
       "    </tr>\n",
       "    <tr>\n",
       "      <th>9</th>\n",
       "      <td>54738e4163f3a49cc6f405c1ef221b26</td>\n",
       "      <td>cohort13</td>\n",
       "      <td>1</td>\n",
       "      <td>0</td>\n",
       "      <td>1.00</td>\n",
       "      <td>0.00</td>\n",
       "      <td>0.0</td>\n",
       "      <td>0</td>\n",
       "    </tr>\n",
       "    <tr>\n",
       "      <th>11</th>\n",
       "      <td>e9c19a42c4965f0f91262bd56ff98cda</td>\n",
       "      <td>cohort13</td>\n",
       "      <td>1</td>\n",
       "      <td>0</td>\n",
       "      <td>1.00</td>\n",
       "      <td>0.00</td>\n",
       "      <td>0.0</td>\n",
       "      <td>0</td>\n",
       "    </tr>\n",
       "    <tr>\n",
       "      <th>12</th>\n",
       "      <td>a614620bb7ac42c58e6740bdddf420e9</td>\n",
       "      <td>cohort13</td>\n",
       "      <td>1</td>\n",
       "      <td>0</td>\n",
       "      <td>1.00</td>\n",
       "      <td>0.00</td>\n",
       "      <td>0.0</td>\n",
       "      <td>0</td>\n",
       "    </tr>\n",
       "    <tr>\n",
       "      <th>...</th>\n",
       "      <td>...</td>\n",
       "      <td>...</td>\n",
       "      <td>...</td>\n",
       "      <td>...</td>\n",
       "      <td>...</td>\n",
       "      <td>...</td>\n",
       "      <td>...</td>\n",
       "      <td>...</td>\n",
       "    </tr>\n",
       "    <tr>\n",
       "      <th>1876458</th>\n",
       "      <td>2144d56b1947ebb26a19e7f1d07c970a</td>\n",
       "      <td>cohort13</td>\n",
       "      <td>1</td>\n",
       "      <td>1</td>\n",
       "      <td>90140.60</td>\n",
       "      <td>159344.38</td>\n",
       "      <td>1.0</td>\n",
       "      <td>1023</td>\n",
       "    </tr>\n",
       "    <tr>\n",
       "      <th>1876459</th>\n",
       "      <td>96c4f21513cd8962acb147ab384e6434</td>\n",
       "      <td>cohort13</td>\n",
       "      <td>1</td>\n",
       "      <td>1</td>\n",
       "      <td>94901.50</td>\n",
       "      <td>215995.85</td>\n",
       "      <td>1.0</td>\n",
       "      <td>1023</td>\n",
       "    </tr>\n",
       "    <tr>\n",
       "      <th>1876463</th>\n",
       "      <td>0e01e632606c230914fe73c2d2ccead3</td>\n",
       "      <td>cohort13</td>\n",
       "      <td>1</td>\n",
       "      <td>1</td>\n",
       "      <td>113360.94</td>\n",
       "      <td>77656.30</td>\n",
       "      <td>1.0</td>\n",
       "      <td>1023</td>\n",
       "    </tr>\n",
       "    <tr>\n",
       "      <th>1876465</th>\n",
       "      <td>8f70fc7370842e0709cd9af3d29b4b0b</td>\n",
       "      <td>cohort13</td>\n",
       "      <td>1</td>\n",
       "      <td>1</td>\n",
       "      <td>163192.85</td>\n",
       "      <td>30893.09</td>\n",
       "      <td>1.0</td>\n",
       "      <td>1023</td>\n",
       "    </tr>\n",
       "    <tr>\n",
       "      <th>1876466</th>\n",
       "      <td>a0e1d358aa17745ff3d3f4e4909356f3</td>\n",
       "      <td>cohort13</td>\n",
       "      <td>1</td>\n",
       "      <td>1</td>\n",
       "      <td>442794.38</td>\n",
       "      <td>570161.90</td>\n",
       "      <td>1.0</td>\n",
       "      <td>1023</td>\n",
       "    </tr>\n",
       "  </tbody>\n",
       "</table>\n",
       "<p>320069 rows × 8 columns</p>\n",
       "</div>"
      ],
      "text/plain": [
       "                                       id    cohort  yr0  yr1  amount_yr0  \\\n",
       "5        69a7c6fed3094256c371fdd946585c15  cohort13    1    0        0.40   \n",
       "8        2bb12d73c1b7859ad4e045ad455a03c3  cohort13    1    0        1.00   \n",
       "9        54738e4163f3a49cc6f405c1ef221b26  cohort13    1    0        1.00   \n",
       "11       e9c19a42c4965f0f91262bd56ff98cda  cohort13    1    0        1.00   \n",
       "12       a614620bb7ac42c58e6740bdddf420e9  cohort13    1    0        1.00   \n",
       "...                                   ...       ...  ...  ...         ...   \n",
       "1876458  2144d56b1947ebb26a19e7f1d07c970a  cohort13    1    1    90140.60   \n",
       "1876459  96c4f21513cd8962acb147ab384e6434  cohort13    1    1    94901.50   \n",
       "1876463  0e01e632606c230914fe73c2d2ccead3  cohort13    1    1   113360.94   \n",
       "1876465  8f70fc7370842e0709cd9af3d29b4b0b  cohort13    1    1   163192.85   \n",
       "1876466  a0e1d358aa17745ff3d3f4e4909356f3  cohort13    1    1   442794.38   \n",
       "\n",
       "         amount_yr1  retention_yr1  group1024  \n",
       "5              0.00            0.0          0  \n",
       "8              0.00            0.0          0  \n",
       "9              0.00            0.0          0  \n",
       "11             0.00            0.0          0  \n",
       "12             0.00            0.0          0  \n",
       "...             ...            ...        ...  \n",
       "1876458   159344.38            1.0       1023  \n",
       "1876459   215995.85            1.0       1023  \n",
       "1876463    77656.30            1.0       1023  \n",
       "1876465    30893.09            1.0       1023  \n",
       "1876466   570161.90            1.0       1023  \n",
       "\n",
       "[320069 rows x 8 columns]"
      ]
     },
     "execution_count": 58,
     "metadata": {},
     "output_type": "execute_result"
    }
   ],
   "source": [
    "c13"
   ]
  },
  {
   "cell_type": "code",
   "execution_count": 121,
   "metadata": {},
   "outputs": [],
   "source": [
    "dfc1['cohort_overall_retention']=dfc1.retention_yr1.mean()"
   ]
  },
  {
   "cell_type": "code",
   "execution_count": 122,
   "metadata": {},
   "outputs": [
    {
     "data": {
      "text/html": [
       "<div>\n",
       "<style scoped>\n",
       "    .dataframe tbody tr th:only-of-type {\n",
       "        vertical-align: middle;\n",
       "    }\n",
       "\n",
       "    .dataframe tbody tr th {\n",
       "        vertical-align: top;\n",
       "    }\n",
       "\n",
       "    .dataframe thead th {\n",
       "        text-align: right;\n",
       "    }\n",
       "</style>\n",
       "<table border=\"1\" class=\"dataframe\">\n",
       "  <thead>\n",
       "    <tr style=\"text-align: right;\">\n",
       "      <th></th>\n",
       "      <th>id</th>\n",
       "      <th>cohort</th>\n",
       "      <th>yr0</th>\n",
       "      <th>yr1</th>\n",
       "      <th>amount_yr0</th>\n",
       "      <th>amount_yr1</th>\n",
       "      <th>retention_yr1</th>\n",
       "      <th>group1024</th>\n",
       "      <th>min</th>\n",
       "      <th>max</th>\n",
       "      <th>group_range</th>\n",
       "      <th>cohort_overall_retention</th>\n",
       "    </tr>\n",
       "  </thead>\n",
       "  <tbody>\n",
       "    <tr>\n",
       "      <th>5</th>\n",
       "      <td>69a7c6fed3094256c371fdd946585c15</td>\n",
       "      <td>cohort13</td>\n",
       "      <td>1</td>\n",
       "      <td>0</td>\n",
       "      <td>0.40</td>\n",
       "      <td>0.00</td>\n",
       "      <td>0.0</td>\n",
       "      <td>0</td>\n",
       "      <td>0.40</td>\n",
       "      <td>1.00</td>\n",
       "      <td>0.4 - 1.0</td>\n",
       "      <td>0.194114</td>\n",
       "    </tr>\n",
       "    <tr>\n",
       "      <th>8</th>\n",
       "      <td>2bb12d73c1b7859ad4e045ad455a03c3</td>\n",
       "      <td>cohort13</td>\n",
       "      <td>1</td>\n",
       "      <td>0</td>\n",
       "      <td>1.00</td>\n",
       "      <td>0.00</td>\n",
       "      <td>0.0</td>\n",
       "      <td>0</td>\n",
       "      <td>0.40</td>\n",
       "      <td>1.00</td>\n",
       "      <td>0.4 - 1.0</td>\n",
       "      <td>0.194114</td>\n",
       "    </tr>\n",
       "    <tr>\n",
       "      <th>9</th>\n",
       "      <td>54738e4163f3a49cc6f405c1ef221b26</td>\n",
       "      <td>cohort13</td>\n",
       "      <td>1</td>\n",
       "      <td>0</td>\n",
       "      <td>1.00</td>\n",
       "      <td>0.00</td>\n",
       "      <td>0.0</td>\n",
       "      <td>0</td>\n",
       "      <td>0.40</td>\n",
       "      <td>1.00</td>\n",
       "      <td>0.4 - 1.0</td>\n",
       "      <td>0.194114</td>\n",
       "    </tr>\n",
       "    <tr>\n",
       "      <th>11</th>\n",
       "      <td>e9c19a42c4965f0f91262bd56ff98cda</td>\n",
       "      <td>cohort13</td>\n",
       "      <td>1</td>\n",
       "      <td>0</td>\n",
       "      <td>1.00</td>\n",
       "      <td>0.00</td>\n",
       "      <td>0.0</td>\n",
       "      <td>0</td>\n",
       "      <td>0.40</td>\n",
       "      <td>1.00</td>\n",
       "      <td>0.4 - 1.0</td>\n",
       "      <td>0.194114</td>\n",
       "    </tr>\n",
       "    <tr>\n",
       "      <th>12</th>\n",
       "      <td>a614620bb7ac42c58e6740bdddf420e9</td>\n",
       "      <td>cohort13</td>\n",
       "      <td>1</td>\n",
       "      <td>0</td>\n",
       "      <td>1.00</td>\n",
       "      <td>0.00</td>\n",
       "      <td>0.0</td>\n",
       "      <td>0</td>\n",
       "      <td>0.40</td>\n",
       "      <td>1.00</td>\n",
       "      <td>0.4 - 1.0</td>\n",
       "      <td>0.194114</td>\n",
       "    </tr>\n",
       "    <tr>\n",
       "      <th>...</th>\n",
       "      <td>...</td>\n",
       "      <td>...</td>\n",
       "      <td>...</td>\n",
       "      <td>...</td>\n",
       "      <td>...</td>\n",
       "      <td>...</td>\n",
       "      <td>...</td>\n",
       "      <td>...</td>\n",
       "      <td>...</td>\n",
       "      <td>...</td>\n",
       "      <td>...</td>\n",
       "      <td>...</td>\n",
       "    </tr>\n",
       "    <tr>\n",
       "      <th>1876458</th>\n",
       "      <td>2144d56b1947ebb26a19e7f1d07c970a</td>\n",
       "      <td>cohort13</td>\n",
       "      <td>1</td>\n",
       "      <td>1</td>\n",
       "      <td>90140.60</td>\n",
       "      <td>159344.38</td>\n",
       "      <td>1.0</td>\n",
       "      <td>1023</td>\n",
       "      <td>3647.16</td>\n",
       "      <td>442794.38</td>\n",
       "      <td>3647.16 - 442794.38</td>\n",
       "      <td>0.194114</td>\n",
       "    </tr>\n",
       "    <tr>\n",
       "      <th>1876459</th>\n",
       "      <td>96c4f21513cd8962acb147ab384e6434</td>\n",
       "      <td>cohort13</td>\n",
       "      <td>1</td>\n",
       "      <td>1</td>\n",
       "      <td>94901.50</td>\n",
       "      <td>215995.85</td>\n",
       "      <td>1.0</td>\n",
       "      <td>1023</td>\n",
       "      <td>3647.16</td>\n",
       "      <td>442794.38</td>\n",
       "      <td>3647.16 - 442794.38</td>\n",
       "      <td>0.194114</td>\n",
       "    </tr>\n",
       "    <tr>\n",
       "      <th>1876463</th>\n",
       "      <td>0e01e632606c230914fe73c2d2ccead3</td>\n",
       "      <td>cohort13</td>\n",
       "      <td>1</td>\n",
       "      <td>1</td>\n",
       "      <td>113360.94</td>\n",
       "      <td>77656.30</td>\n",
       "      <td>1.0</td>\n",
       "      <td>1023</td>\n",
       "      <td>3647.16</td>\n",
       "      <td>442794.38</td>\n",
       "      <td>3647.16 - 442794.38</td>\n",
       "      <td>0.194114</td>\n",
       "    </tr>\n",
       "    <tr>\n",
       "      <th>1876465</th>\n",
       "      <td>8f70fc7370842e0709cd9af3d29b4b0b</td>\n",
       "      <td>cohort13</td>\n",
       "      <td>1</td>\n",
       "      <td>1</td>\n",
       "      <td>163192.85</td>\n",
       "      <td>30893.09</td>\n",
       "      <td>1.0</td>\n",
       "      <td>1023</td>\n",
       "      <td>3647.16</td>\n",
       "      <td>442794.38</td>\n",
       "      <td>3647.16 - 442794.38</td>\n",
       "      <td>0.194114</td>\n",
       "    </tr>\n",
       "    <tr>\n",
       "      <th>1876466</th>\n",
       "      <td>a0e1d358aa17745ff3d3f4e4909356f3</td>\n",
       "      <td>cohort13</td>\n",
       "      <td>1</td>\n",
       "      <td>1</td>\n",
       "      <td>442794.38</td>\n",
       "      <td>570161.90</td>\n",
       "      <td>1.0</td>\n",
       "      <td>1023</td>\n",
       "      <td>3647.16</td>\n",
       "      <td>442794.38</td>\n",
       "      <td>3647.16 - 442794.38</td>\n",
       "      <td>0.194114</td>\n",
       "    </tr>\n",
       "  </tbody>\n",
       "</table>\n",
       "<p>320069 rows × 12 columns</p>\n",
       "</div>"
      ],
      "text/plain": [
       "                                       id    cohort  yr0  yr1  amount_yr0  \\\n",
       "5        69a7c6fed3094256c371fdd946585c15  cohort13    1    0        0.40   \n",
       "8        2bb12d73c1b7859ad4e045ad455a03c3  cohort13    1    0        1.00   \n",
       "9        54738e4163f3a49cc6f405c1ef221b26  cohort13    1    0        1.00   \n",
       "11       e9c19a42c4965f0f91262bd56ff98cda  cohort13    1    0        1.00   \n",
       "12       a614620bb7ac42c58e6740bdddf420e9  cohort13    1    0        1.00   \n",
       "...                                   ...       ...  ...  ...         ...   \n",
       "1876458  2144d56b1947ebb26a19e7f1d07c970a  cohort13    1    1    90140.60   \n",
       "1876459  96c4f21513cd8962acb147ab384e6434  cohort13    1    1    94901.50   \n",
       "1876463  0e01e632606c230914fe73c2d2ccead3  cohort13    1    1   113360.94   \n",
       "1876465  8f70fc7370842e0709cd9af3d29b4b0b  cohort13    1    1   163192.85   \n",
       "1876466  a0e1d358aa17745ff3d3f4e4909356f3  cohort13    1    1   442794.38   \n",
       "\n",
       "         amount_yr1  retention_yr1  group1024      min        max  \\\n",
       "5              0.00            0.0          0     0.40       1.00   \n",
       "8              0.00            0.0          0     0.40       1.00   \n",
       "9              0.00            0.0          0     0.40       1.00   \n",
       "11             0.00            0.0          0     0.40       1.00   \n",
       "12             0.00            0.0          0     0.40       1.00   \n",
       "...             ...            ...        ...      ...        ...   \n",
       "1876458   159344.38            1.0       1023  3647.16  442794.38   \n",
       "1876459   215995.85            1.0       1023  3647.16  442794.38   \n",
       "1876463    77656.30            1.0       1023  3647.16  442794.38   \n",
       "1876465    30893.09            1.0       1023  3647.16  442794.38   \n",
       "1876466   570161.90            1.0       1023  3647.16  442794.38   \n",
       "\n",
       "                 group_range  cohort_overall_retention  \n",
       "5                  0.4 - 1.0                  0.194114  \n",
       "8                  0.4 - 1.0                  0.194114  \n",
       "9                  0.4 - 1.0                  0.194114  \n",
       "11                 0.4 - 1.0                  0.194114  \n",
       "12                 0.4 - 1.0                  0.194114  \n",
       "...                      ...                       ...  \n",
       "1876458  3647.16 - 442794.38                  0.194114  \n",
       "1876459  3647.16 - 442794.38                  0.194114  \n",
       "1876463  3647.16 - 442794.38                  0.194114  \n",
       "1876465  3647.16 - 442794.38                  0.194114  \n",
       "1876466  3647.16 - 442794.38                  0.194114  \n",
       "\n",
       "[320069 rows x 12 columns]"
      ]
     },
     "execution_count": 122,
     "metadata": {},
     "output_type": "execute_result"
    }
   ],
   "source": [
    "dfc1"
   ]
  },
  {
   "cell_type": "code",
   "execution_count": 123,
   "metadata": {},
   "outputs": [],
   "source": [
    "df=dfc1.groupby(['group1024','group_range','cohort_overall_retention']).agg({'yr0':'sum','yr1':'sum','retention_yr1':'mean'}).reset_index()\n",
    "\n",
    "df['group']=df['group1024'].astype(str)\n",
    "\n",
    "df['comparative_retention']=np.where(df['retention_yr1']>df['cohort_overall_retention'],\"higher\",'lower')"
   ]
  },
  {
   "cell_type": "code",
   "execution_count": 124,
   "metadata": {},
   "outputs": [
    {
     "data": {
      "text/html": [
       "<div>\n",
       "<style scoped>\n",
       "    .dataframe tbody tr th:only-of-type {\n",
       "        vertical-align: middle;\n",
       "    }\n",
       "\n",
       "    .dataframe tbody tr th {\n",
       "        vertical-align: top;\n",
       "    }\n",
       "\n",
       "    .dataframe thead th {\n",
       "        text-align: right;\n",
       "    }\n",
       "</style>\n",
       "<table border=\"1\" class=\"dataframe\">\n",
       "  <thead>\n",
       "    <tr style=\"text-align: right;\">\n",
       "      <th></th>\n",
       "      <th>group1024</th>\n",
       "      <th>group_range</th>\n",
       "      <th>cohort_overall_retention</th>\n",
       "      <th>yr0</th>\n",
       "      <th>yr1</th>\n",
       "      <th>retention_yr1</th>\n",
       "      <th>group</th>\n",
       "      <th>comparative_retention</th>\n",
       "    </tr>\n",
       "  </thead>\n",
       "  <tbody>\n",
       "    <tr>\n",
       "      <th>0</th>\n",
       "      <td>0</td>\n",
       "      <td>0.4 - 1.0</td>\n",
       "      <td>0.194114</td>\n",
       "      <td>1322</td>\n",
       "      <td>49</td>\n",
       "      <td>0.037065</td>\n",
       "      <td>0</td>\n",
       "      <td>lower</td>\n",
       "    </tr>\n",
       "    <tr>\n",
       "      <th>1</th>\n",
       "      <td>1</td>\n",
       "      <td>1.0 - 1.0</td>\n",
       "      <td>0.194114</td>\n",
       "      <td>1374</td>\n",
       "      <td>60</td>\n",
       "      <td>0.043668</td>\n",
       "      <td>1</td>\n",
       "      <td>lower</td>\n",
       "    </tr>\n",
       "    <tr>\n",
       "      <th>2</th>\n",
       "      <td>2</td>\n",
       "      <td>1.0 - 1.0</td>\n",
       "      <td>0.194114</td>\n",
       "      <td>1352</td>\n",
       "      <td>57</td>\n",
       "      <td>0.042160</td>\n",
       "      <td>2</td>\n",
       "      <td>lower</td>\n",
       "    </tr>\n",
       "    <tr>\n",
       "      <th>3</th>\n",
       "      <td>3</td>\n",
       "      <td>1.0 - 1.0</td>\n",
       "      <td>0.194114</td>\n",
       "      <td>1370</td>\n",
       "      <td>50</td>\n",
       "      <td>0.036496</td>\n",
       "      <td>3</td>\n",
       "      <td>lower</td>\n",
       "    </tr>\n",
       "    <tr>\n",
       "      <th>4</th>\n",
       "      <td>4</td>\n",
       "      <td>1.0 - 1.0</td>\n",
       "      <td>0.194114</td>\n",
       "      <td>1328</td>\n",
       "      <td>43</td>\n",
       "      <td>0.032380</td>\n",
       "      <td>4</td>\n",
       "      <td>lower</td>\n",
       "    </tr>\n",
       "    <tr>\n",
       "      <th>...</th>\n",
       "      <td>...</td>\n",
       "      <td>...</td>\n",
       "      <td>...</td>\n",
       "      <td>...</td>\n",
       "      <td>...</td>\n",
       "      <td>...</td>\n",
       "      <td>...</td>\n",
       "      <td>...</td>\n",
       "    </tr>\n",
       "    <tr>\n",
       "      <th>1019</th>\n",
       "      <td>1019</td>\n",
       "      <td>1150.0 - 1345.69</td>\n",
       "      <td>0.194114</td>\n",
       "      <td>459</td>\n",
       "      <td>293</td>\n",
       "      <td>0.638344</td>\n",
       "      <td>1019</td>\n",
       "      <td>higher</td>\n",
       "    </tr>\n",
       "    <tr>\n",
       "      <th>1020</th>\n",
       "      <td>1020</td>\n",
       "      <td>1347.61 - 1626.85</td>\n",
       "      <td>0.194114</td>\n",
       "      <td>363</td>\n",
       "      <td>261</td>\n",
       "      <td>0.719008</td>\n",
       "      <td>1020</td>\n",
       "      <td>higher</td>\n",
       "    </tr>\n",
       "    <tr>\n",
       "      <th>1021</th>\n",
       "      <td>1021</td>\n",
       "      <td>1627.36 - 2123.0</td>\n",
       "      <td>0.194114</td>\n",
       "      <td>431</td>\n",
       "      <td>279</td>\n",
       "      <td>0.647332</td>\n",
       "      <td>1021</td>\n",
       "      <td>higher</td>\n",
       "    </tr>\n",
       "    <tr>\n",
       "      <th>1022</th>\n",
       "      <td>1022</td>\n",
       "      <td>2125.61 - 3626.75</td>\n",
       "      <td>0.194114</td>\n",
       "      <td>476</td>\n",
       "      <td>332</td>\n",
       "      <td>0.697479</td>\n",
       "      <td>1022</td>\n",
       "      <td>higher</td>\n",
       "    </tr>\n",
       "    <tr>\n",
       "      <th>1023</th>\n",
       "      <td>1023</td>\n",
       "      <td>3647.16 - 442794.38</td>\n",
       "      <td>0.194114</td>\n",
       "      <td>628</td>\n",
       "      <td>356</td>\n",
       "      <td>0.566879</td>\n",
       "      <td>1023</td>\n",
       "      <td>higher</td>\n",
       "    </tr>\n",
       "  </tbody>\n",
       "</table>\n",
       "<p>1024 rows × 8 columns</p>\n",
       "</div>"
      ],
      "text/plain": [
       "      group1024          group_range  cohort_overall_retention   yr0  yr1  \\\n",
       "0             0            0.4 - 1.0                  0.194114  1322   49   \n",
       "1             1            1.0 - 1.0                  0.194114  1374   60   \n",
       "2             2            1.0 - 1.0                  0.194114  1352   57   \n",
       "3             3            1.0 - 1.0                  0.194114  1370   50   \n",
       "4             4            1.0 - 1.0                  0.194114  1328   43   \n",
       "...         ...                  ...                       ...   ...  ...   \n",
       "1019       1019     1150.0 - 1345.69                  0.194114   459  293   \n",
       "1020       1020    1347.61 - 1626.85                  0.194114   363  261   \n",
       "1021       1021     1627.36 - 2123.0                  0.194114   431  279   \n",
       "1022       1022    2125.61 - 3626.75                  0.194114   476  332   \n",
       "1023       1023  3647.16 - 442794.38                  0.194114   628  356   \n",
       "\n",
       "      retention_yr1 group comparative_retention  \n",
       "0          0.037065     0                 lower  \n",
       "1          0.043668     1                 lower  \n",
       "2          0.042160     2                 lower  \n",
       "3          0.036496     3                 lower  \n",
       "4          0.032380     4                 lower  \n",
       "...             ...   ...                   ...  \n",
       "1019       0.638344  1019                higher  \n",
       "1020       0.719008  1020                higher  \n",
       "1021       0.647332  1021                higher  \n",
       "1022       0.697479  1022                higher  \n",
       "1023       0.566879  1023                higher  \n",
       "\n",
       "[1024 rows x 8 columns]"
      ]
     },
     "execution_count": 124,
     "metadata": {},
     "output_type": "execute_result"
    }
   ],
   "source": [
    "df"
   ]
  },
  {
   "cell_type": "code",
   "execution_count": 127,
   "metadata": {},
   "outputs": [
    {
     "data": {
      "application/vnd.plotly.v1+json": {
       "config": {
        "plotlyServerURL": "https://plot.ly"
       },
       "data": [
        {
         "alignmentgroup": "True",
         "customdata": [
          [
           "0.4 - 1.0"
          ],
          [
           "1.0 - 1.0"
          ],
          [
           "1.0 - 1.0"
          ],
          [
           "1.0 - 1.0"
          ],
          [
           "1.0 - 1.0"
          ],
          [
           "1.0 - 1.0"
          ],
          [
           "1.0 - 1.0"
          ],
          [
           "1.0 - 2.0"
          ],
          [
           "2.0 - 2.0"
          ],
          [
           "2.0 - 3.0"
          ],
          [
           "3.0 - 4.0"
          ],
          [
           "4.0 - 5.0"
          ],
          [
           "5.0 - 5.0"
          ],
          [
           "5.0 - 5.0"
          ],
          [
           "5.0 - 5.0"
          ],
          [
           "5.0 - 5.0"
          ],
          [
           "5.0 - 5.0"
          ],
          [
           "5.0 - 5.0"
          ],
          [
           "5.0 - 5.0"
          ],
          [
           "5.0 - 5.0"
          ],
          [
           "5.0 - 5.0"
          ],
          [
           "5.0 - 5.0"
          ],
          [
           "5.0 - 5.0"
          ],
          [
           "5.0 - 5.0"
          ],
          [
           "5.0 - 5.0"
          ],
          [
           "5.0 - 5.0"
          ],
          [
           "5.0 - 5.0"
          ],
          [
           "7.0 - 9.3"
          ],
          [
           "9.31 - 10.0"
          ],
          [
           "10.0 - 10.0"
          ],
          [
           "10.0 - 10.0"
          ],
          [
           "10.0 - 10.0"
          ],
          [
           "10.0 - 10.0"
          ],
          [
           "10.0 - 10.0"
          ],
          [
           "10.0 - 10.0"
          ],
          [
           "10.0 - 10.0"
          ],
          [
           "10.0 - 10.0"
          ],
          [
           "10.0 - 10.0"
          ],
          [
           "10.0 - 10.0"
          ],
          [
           "10.0 - 10.0"
          ],
          [
           "10.0 - 10.0"
          ],
          [
           "10.0 - 10.0"
          ],
          [
           "10.0 - 10.0"
          ],
          [
           "10.0 - 10.0"
          ],
          [
           "10.0 - 10.0"
          ],
          [
           "10.0 - 10.0"
          ],
          [
           "10.0 - 10.0"
          ],
          [
           "10.0 - 10.0"
          ],
          [
           "10.0 - 10.0"
          ],
          [
           "10.0 - 10.0"
          ],
          [
           "10.0 - 10.0"
          ],
          [
           "10.0 - 10.0"
          ],
          [
           "10.0 - 10.0"
          ],
          [
           "10.0 - 10.0"
          ],
          [
           "10.0 - 10.0"
          ],
          [
           "10.0 - 10.0"
          ],
          [
           "10.0 - 10.0"
          ],
          [
           "10.0 - 10.0"
          ],
          [
           "10.0 - 10.0"
          ],
          [
           "10.0 - 10.0"
          ],
          [
           "10.0 - 10.0"
          ],
          [
           "10.0 - 10.0"
          ],
          [
           "10.0 - 10.0"
          ],
          [
           "10.0 - 10.0"
          ],
          [
           "10.0 - 10.0"
          ],
          [
           "10.0 - 10.0"
          ],
          [
           "10.0 - 10.0"
          ],
          [
           "10.0 - 10.0"
          ],
          [
           "10.0 - 10.0"
          ],
          [
           "10.0 - 10.0"
          ],
          [
           "10.0 - 10.0"
          ],
          [
           "10.0 - 10.0"
          ],
          [
           "10.0 - 10.0"
          ],
          [
           "10.0 - 10.0"
          ],
          [
           "10.0 - 10.0"
          ],
          [
           "10.0 - 10.0"
          ],
          [
           "10.0 - 10.0"
          ],
          [
           "10.0 - 10.0"
          ],
          [
           "10.0 - 10.0"
          ],
          [
           "10.0 - 10.0"
          ],
          [
           "10.0 - 10.0"
          ],
          [
           "10.0 - 10.0"
          ],
          [
           "10.0 - 10.0"
          ],
          [
           "10.0 - 10.0"
          ],
          [
           "10.0 - 10.0"
          ],
          [
           "10.0 - 10.0"
          ],
          [
           "10.0 - 10.0"
          ],
          [
           "10.0 - 10.0"
          ],
          [
           "10.0 - 10.0"
          ],
          [
           "10.0 - 10.0"
          ],
          [
           "10.0 - 10.0"
          ],
          [
           "10.0 - 10.0"
          ],
          [
           "10.0 - 10.0"
          ],
          [
           "10.0 - 10.0"
          ],
          [
           "10.0 - 10.0"
          ],
          [
           "10.0 - 10.0"
          ],
          [
           "10.0 - 10.0"
          ],
          [
           "10.0 - 10.0"
          ],
          [
           "10.0 - 10.0"
          ],
          [
           "10.0 - 10.0"
          ],
          [
           "10.0 - 10.0"
          ],
          [
           "10.0 - 10.0"
          ],
          [
           "10.0 - 10.0"
          ],
          [
           "10.0 - 10.0"
          ],
          [
           "10.0 - 10.0"
          ],
          [
           "10.0 - 10.0"
          ],
          [
           "10.0 - 10.0"
          ],
          [
           "10.0 - 10.0"
          ],
          [
           "10.0 - 10.0"
          ],
          [
           "10.0 - 10.0"
          ],
          [
           "10.0 - 10.0"
          ],
          [
           "10.0 - 10.0"
          ],
          [
           "10.0 - 10.0"
          ],
          [
           "10.0 - 10.0"
          ],
          [
           "10.0 - 10.0"
          ],
          [
           "10.0 - 10.0"
          ],
          [
           "10.0 - 12.0"
          ],
          [
           "13.12 - 15.0"
          ],
          [
           "15.0 - 15.0"
          ],
          [
           "15.0 - 15.0"
          ],
          [
           "15.0 - 15.0"
          ],
          [
           "15.0 - 15.0"
          ],
          [
           "15.0 - 15.0"
          ],
          [
           "15.0 - 15.0"
          ],
          [
           "15.0 - 15.0"
          ],
          [
           "15.0 - 15.0"
          ],
          [
           "15.0 - 15.0"
          ],
          [
           "15.0 - 15.0"
          ],
          [
           "15.0 - 15.0"
          ],
          [
           "15.0 - 15.0"
          ],
          [
           "15.0 - 15.0"
          ],
          [
           "15.0 - 15.0"
          ],
          [
           "15.0 - 15.0"
          ],
          [
           "15.0 - 15.75"
          ],
          [
           "17.36 - 18.0"
          ],
          [
           "18.0 - 20.0"
          ],
          [
           "20.0 - 20.0"
          ],
          [
           "20.0 - 20.0"
          ],
          [
           "20.0 - 20.0"
          ],
          [
           "20.0 - 20.0"
          ],
          [
           "20.0 - 20.0"
          ],
          [
           "20.0 - 20.0"
          ],
          [
           "20.0 - 20.0"
          ],
          [
           "20.0 - 20.0"
          ],
          [
           "20.0 - 20.0"
          ],
          [
           "20.0 - 20.0"
          ],
          [
           "20.0 - 20.0"
          ],
          [
           "20.0 - 20.0"
          ],
          [
           "20.0 - 20.0"
          ],
          [
           "20.0 - 20.0"
          ],
          [
           "20.0 - 20.0"
          ],
          [
           "20.0 - 20.0"
          ],
          [
           "20.0 - 20.0"
          ],
          [
           "20.0 - 20.0"
          ],
          [
           "20.0 - 20.0"
          ],
          [
           "20.0 - 20.0"
          ],
          [
           "20.0 - 20.0"
          ],
          [
           "20.0 - 20.0"
          ],
          [
           "20.0 - 20.0"
          ],
          [
           "20.0 - 20.0"
          ],
          [
           "20.0 - 20.0"
          ],
          [
           "20.0 - 20.0"
          ],
          [
           "20.0 - 20.0"
          ],
          [
           "20.0 - 20.0"
          ],
          [
           "20.0 - 20.0"
          ],
          [
           "20.0 - 20.0"
          ],
          [
           "20.0 - 20.0"
          ],
          [
           "20.0 - 20.0"
          ],
          [
           "20.0 - 20.0"
          ],
          [
           "20.0 - 20.0"
          ],
          [
           "20.0 - 20.0"
          ],
          [
           "20.0 - 20.0"
          ],
          [
           "20.0 - 20.0"
          ],
          [
           "20.0 - 20.0"
          ],
          [
           "20.0 - 20.0"
          ],
          [
           "20.0 - 20.0"
          ],
          [
           "20.0 - 20.0"
          ],
          [
           "20.0 - 20.0"
          ],
          [
           "20.0 - 20.0"
          ],
          [
           "20.0 - 20.0"
          ],
          [
           "20.0 - 20.0"
          ],
          [
           "20.0 - 20.0"
          ],
          [
           "20.0 - 20.0"
          ],
          [
           "20.0 - 20.0"
          ],
          [
           "20.0 - 20.0"
          ],
          [
           "20.0 - 20.0"
          ],
          [
           "20.0 - 20.0"
          ],
          [
           "20.0 - 20.0"
          ],
          [
           "20.0 - 20.0"
          ],
          [
           "20.0 - 20.0"
          ],
          [
           "20.0 - 20.0"
          ],
          [
           "20.0 - 20.0"
          ],
          [
           "20.0 - 20.0"
          ],
          [
           "20.0 - 20.0"
          ],
          [
           "20.0 - 20.0"
          ],
          [
           "20.0 - 20.0"
          ],
          [
           "20.0 - 20.0"
          ],
          [
           "20.0 - 20.0"
          ],
          [
           "20.0 - 20.0"
          ],
          [
           "20.0 - 20.0"
          ],
          [
           "20.0 - 20.0"
          ],
          [
           "20.0 - 20.0"
          ],
          [
           "20.0 - 20.0"
          ],
          [
           "20.0 - 20.0"
          ],
          [
           "20.0 - 20.0"
          ],
          [
           "20.0 - 20.0"
          ],
          [
           "20.0 - 21.0"
          ],
          [
           "21.0 - 22.0"
          ],
          [
           "25.0 - 25.0"
          ],
          [
           "25.0 - 25.0"
          ],
          [
           "25.0 - 25.0"
          ],
          [
           "25.0 - 25.0"
          ],
          [
           "25.0 - 25.0"
          ],
          [
           "25.0 - 25.0"
          ],
          [
           "25.0 - 25.0"
          ],
          [
           "25.0 - 25.0"
          ],
          [
           "25.0 - 25.0"
          ],
          [
           "25.0 - 25.0"
          ],
          [
           "25.0 - 25.0"
          ],
          [
           "25.0 - 25.0"
          ],
          [
           "25.0 - 25.0"
          ],
          [
           "25.0 - 25.0"
          ],
          [
           "25.0 - 25.0"
          ],
          [
           "25.0 - 25.0"
          ],
          [
           "25.0 - 25.0"
          ],
          [
           "25.0 - 25.0"
          ],
          [
           "25.0 - 25.0"
          ],
          [
           "25.0 - 25.0"
          ],
          [
           "25.0 - 25.0"
          ],
          [
           "25.0 - 25.0"
          ],
          [
           "25.0 - 25.0"
          ],
          [
           "25.0 - 25.0"
          ],
          [
           "25.0 - 25.0"
          ],
          [
           "25.0 - 25.0"
          ],
          [
           "25.0 - 25.0"
          ],
          [
           "25.0 - 25.0"
          ],
          [
           "25.0 - 25.0"
          ],
          [
           "25.0 - 25.0"
          ],
          [
           "25.0 - 25.0"
          ],
          [
           "25.0 - 25.0"
          ],
          [
           "25.0 - 25.0"
          ],
          [
           "25.0 - 25.0"
          ],
          [
           "25.0 - 25.0"
          ],
          [
           "25.0 - 25.0"
          ],
          [
           "25.0 - 25.0"
          ],
          [
           "25.0 - 25.0"
          ],
          [
           "25.0 - 25.0"
          ],
          [
           "25.0 - 25.0"
          ],
          [
           "25.0 - 25.0"
          ],
          [
           "25.0 - 25.0"
          ],
          [
           "25.0 - 25.0"
          ],
          [
           "25.0 - 25.0"
          ],
          [
           "25.0 - 25.0"
          ],
          [
           "25.0 - 25.0"
          ],
          [
           "25.0 - 25.0"
          ],
          [
           "25.0 - 25.0"
          ],
          [
           "25.0 - 25.0"
          ],
          [
           "25.0 - 25.0"
          ],
          [
           "25.0 - 25.0"
          ],
          [
           "25.0 - 25.0"
          ],
          [
           "25.0 - 25.0"
          ],
          [
           "25.0 - 25.0"
          ],
          [
           "25.0 - 25.0"
          ],
          [
           "25.0 - 25.0"
          ],
          [
           "25.0 - 25.0"
          ],
          [
           "25.0 - 25.0"
          ],
          [
           "25.0 - 25.0"
          ],
          [
           "25.0 - 25.0"
          ],
          [
           "25.0 - 25.0"
          ],
          [
           "25.0 - 25.0"
          ],
          [
           "25.0 - 25.0"
          ],
          [
           "25.0 - 25.0"
          ],
          [
           "25.0 - 25.0"
          ],
          [
           "25.0 - 25.0"
          ],
          [
           "25.0 - 25.0"
          ],
          [
           "25.0 - 25.0"
          ],
          [
           "25.0 - 25.0"
          ],
          [
           "25.0 - 25.0"
          ],
          [
           "25.0 - 25.0"
          ],
          [
           "25.0 - 25.0"
          ],
          [
           "25.0 - 25.0"
          ],
          [
           "25.0 - 25.0"
          ],
          [
           "25.0 - 25.0"
          ],
          [
           "25.0 - 25.0"
          ],
          [
           "25.0 - 25.0"
          ],
          [
           "25.0 - 25.0"
          ],
          [
           "25.0 - 25.0"
          ],
          [
           "25.0 - 25.0"
          ],
          [
           "25.0 - 25.0"
          ],
          [
           "25.0 - 25.0"
          ],
          [
           "25.0 - 25.0"
          ],
          [
           "25.0 - 25.0"
          ],
          [
           "25.0 - 25.0"
          ],
          [
           "25.0 - 25.0"
          ],
          [
           "25.0 - 25.0"
          ],
          [
           "25.0 - 25.0"
          ],
          [
           "25.0 - 25.0"
          ],
          [
           "25.0 - 25.0"
          ],
          [
           "25.0 - 25.0"
          ],
          [
           "25.0 - 25.0"
          ],
          [
           "25.0 - 25.0"
          ],
          [
           "25.0 - 25.0"
          ],
          [
           "25.0 - 25.0"
          ],
          [
           "25.0 - 25.0"
          ],
          [
           "25.0 - 25.0"
          ],
          [
           "25.0 - 25.0"
          ],
          [
           "25.0 - 25.0"
          ],
          [
           "25.0 - 25.0"
          ],
          [
           "25.0 - 25.0"
          ],
          [
           "25.0 - 25.0"
          ],
          [
           "25.0 - 25.0"
          ],
          [
           "25.0 - 25.0"
          ],
          [
           "25.0 - 25.0"
          ],
          [
           "25.0 - 25.0"
          ],
          [
           "25.0 - 25.0"
          ],
          [
           "25.0 - 25.0"
          ],
          [
           "25.0 - 25.0"
          ],
          [
           "25.0 - 25.0"
          ],
          [
           "25.0 - 25.0"
          ],
          [
           "25.0 - 25.0"
          ],
          [
           "25.0 - 25.0"
          ],
          [
           "25.0 - 25.0"
          ],
          [
           "25.0 - 25.0"
          ],
          [
           "25.0 - 25.0"
          ],
          [
           "25.0 - 25.0"
          ],
          [
           "25.0 - 25.0"
          ],
          [
           "25.0 - 25.0"
          ],
          [
           "25.0 - 25.0"
          ],
          [
           "25.0 - 25.0"
          ],
          [
           "25.0 - 25.0"
          ],
          [
           "25.0 - 25.0"
          ],
          [
           "25.0 - 25.0"
          ],
          [
           "25.0 - 25.0"
          ],
          [
           "25.0 - 25.0"
          ],
          [
           "25.0 - 25.0"
          ],
          [
           "25.0 - 25.0"
          ],
          [
           "25.0 - 25.0"
          ],
          [
           "25.0 - 25.0"
          ],
          [
           "25.0 - 25.0"
          ],
          [
           "25.0 - 25.0"
          ],
          [
           "25.0 - 25.0"
          ],
          [
           "25.0 - 25.0"
          ],
          [
           "25.0 - 25.0"
          ],
          [
           "25.0 - 25.0"
          ],
          [
           "25.0 - 25.0"
          ],
          [
           "25.0 - 25.0"
          ],
          [
           "25.0 - 25.0"
          ],
          [
           "25.0 - 25.0"
          ],
          [
           "25.0 - 25.0"
          ],
          [
           "25.0 - 25.0"
          ],
          [
           "25.0 - 25.0"
          ],
          [
           "25.0 - 25.0"
          ],
          [
           "25.0 - 25.0"
          ],
          [
           "25.0 - 25.0"
          ],
          [
           "25.0 - 25.0"
          ],
          [
           "25.0 - 25.0"
          ],
          [
           "25.0 - 25.0"
          ],
          [
           "25.0 - 25.0"
          ],
          [
           "25.0 - 25.0"
          ],
          [
           "25.0 - 25.0"
          ],
          [
           "25.0 - 25.0"
          ],
          [
           "25.0 - 25.0"
          ],
          [
           "25.0 - 25.0"
          ],
          [
           "25.0 - 25.0"
          ],
          [
           "25.0 - 25.0"
          ],
          [
           "25.0 - 25.0"
          ],
          [
           "25.0 - 25.0"
          ],
          [
           "25.0 - 25.0"
          ],
          [
           "25.0 - 25.0"
          ],
          [
           "25.0 - 25.0"
          ],
          [
           "25.0 - 25.0"
          ],
          [
           "25.0 - 25.0"
          ],
          [
           "25.0 - 25.0"
          ],
          [
           "25.0 - 25.0"
          ],
          [
           "25.0 - 25.0"
          ],
          [
           "25.0 - 25.0"
          ],
          [
           "25.0 - 25.0"
          ],
          [
           "25.0 - 25.0"
          ],
          [
           "25.0 - 25.0"
          ],
          [
           "25.0 - 25.0"
          ],
          [
           "25.0 - 25.0"
          ],
          [
           "25.0 - 25.0"
          ],
          [
           "25.0 - 25.0"
          ],
          [
           "25.0 - 25.0"
          ],
          [
           "25.0 - 25.0"
          ],
          [
           "25.0 - 25.0"
          ],
          [
           "25.0 - 25.0"
          ],
          [
           "25.0 - 25.0"
          ],
          [
           "25.0 - 25.0"
          ],
          [
           "25.0 - 25.0"
          ],
          [
           "25.0 - 25.0"
          ],
          [
           "25.0 - 25.0"
          ],
          [
           "25.0 - 25.0"
          ],
          [
           "25.0 - 25.0"
          ],
          [
           "25.0 - 25.0"
          ],
          [
           "25.0 - 25.0"
          ],
          [
           "25.0 - 25.0"
          ],
          [
           "25.0 - 25.0"
          ],
          [
           "25.0 - 25.0"
          ],
          [
           "25.0 - 25.0"
          ],
          [
           "25.0 - 25.0"
          ],
          [
           "25.0 - 25.0"
          ],
          [
           "25.0 - 25.0"
          ],
          [
           "25.0 - 25.0"
          ],
          [
           "25.0 - 25.0"
          ],
          [
           "25.0 - 25.0"
          ],
          [
           "25.0 - 25.0"
          ],
          [
           "25.0 - 25.0"
          ],
          [
           "25.0 - 25.0"
          ],
          [
           "25.0 - 25.0"
          ],
          [
           "25.0 - 25.0"
          ],
          [
           "25.0 - 25.0"
          ],
          [
           "25.0 - 25.0"
          ],
          [
           "25.0 - 25.0"
          ],
          [
           "25.0 - 25.0"
          ],
          [
           "25.0 - 25.0"
          ],
          [
           "25.0 - 25.0"
          ],
          [
           "25.0 - 25.0"
          ],
          [
           "25.0 - 25.0"
          ],
          [
           "25.0 - 25.0"
          ],
          [
           "25.0 - 25.0"
          ],
          [
           "25.0 - 25.0"
          ],
          [
           "25.0 - 25.0"
          ],
          [
           "25.0 - 25.0"
          ],
          [
           "25.0 - 25.0"
          ],
          [
           "25.0 - 25.0"
          ],
          [
           "25.0 - 25.0"
          ],
          [
           "25.0 - 25.0"
          ],
          [
           "25.0 - 25.0"
          ],
          [
           "25.0 - 25.0"
          ],
          [
           "25.0 - 25.0"
          ],
          [
           "25.0 - 25.0"
          ],
          [
           "25.0 - 25.0"
          ],
          [
           "25.0 - 25.0"
          ],
          [
           "25.0 - 25.0"
          ],
          [
           "25.0 - 25.0"
          ],
          [
           "25.0 - 25.0"
          ],
          [
           "25.0 - 25.0"
          ],
          [
           "25.0 - 25.0"
          ],
          [
           "25.0 - 25.0"
          ],
          [
           "25.0 - 25.0"
          ],
          [
           "25.0 - 25.0"
          ],
          [
           "30.0 - 30.0"
          ],
          [
           "30.0 - 30.0"
          ],
          [
           "30.0 - 30.0"
          ],
          [
           "30.0 - 30.0"
          ],
          [
           "35.99 - 36.34"
          ],
          [
           "40.0 - 40.0"
          ],
          [
           "40.0 - 40.0"
          ],
          [
           "40.0 - 40.0"
          ],
          [
           "40.0 - 40.0"
          ],
          [
           "40.0 - 40.0"
          ],
          [
           "40.0 - 40.0"
          ],
          [
           "40.0 - 40.0"
          ],
          [
           "45.35 - 47.0"
          ],
          [
           "48.45 - 49.62"
          ],
          [
           "49.64 - 50.0"
          ],
          [
           "50.0 - 50.0"
          ],
          [
           "50.0 - 50.0"
          ],
          [
           "50.0 - 50.0"
          ],
          [
           "50.0 - 50.0"
          ],
          [
           "50.0 - 50.0"
          ],
          [
           "50.0 - 50.0"
          ],
          [
           "50.0 - 50.0"
          ],
          [
           "50.0 - 50.0"
          ],
          [
           "50.0 - 50.0"
          ],
          [
           "50.0 - 50.0"
          ],
          [
           "50.0 - 50.0"
          ],
          [
           "50.0 - 50.0"
          ],
          [
           "50.0 - 50.0"
          ],
          [
           "50.0 - 50.0"
          ],
          [
           "50.0 - 50.0"
          ],
          [
           "50.0 - 50.0"
          ],
          [
           "50.0 - 50.0"
          ],
          [
           "50.0 - 50.0"
          ],
          [
           "50.0 - 50.0"
          ],
          [
           "50.0 - 50.0"
          ],
          [
           "50.0 - 50.0"
          ],
          [
           "50.0 - 50.0"
          ],
          [
           "50.0 - 50.0"
          ],
          [
           "50.0 - 50.0"
          ],
          [
           "50.0 - 50.0"
          ],
          [
           "50.0 - 50.0"
          ],
          [
           "50.0 - 50.0"
          ],
          [
           "50.0 - 50.0"
          ],
          [
           "50.0 - 50.0"
          ],
          [
           "50.0 - 50.0"
          ],
          [
           "50.0 - 50.0"
          ],
          [
           "50.0 - 50.0"
          ],
          [
           "50.0 - 50.0"
          ],
          [
           "50.0 - 50.0"
          ],
          [
           "50.0 - 50.0"
          ],
          [
           "50.0 - 50.0"
          ],
          [
           "50.0 - 50.0"
          ],
          [
           "50.0 - 50.0"
          ],
          [
           "50.0 - 50.0"
          ],
          [
           "50.0 - 50.0"
          ],
          [
           "50.0 - 50.0"
          ],
          [
           "50.0 - 50.0"
          ],
          [
           "50.0 - 50.0"
          ],
          [
           "50.0 - 50.0"
          ],
          [
           "50.0 - 50.0"
          ],
          [
           "50.0 - 50.0"
          ],
          [
           "50.0 - 50.0"
          ],
          [
           "50.0 - 50.0"
          ],
          [
           "50.0 - 50.0"
          ],
          [
           "50.0 - 50.0"
          ],
          [
           "50.0 - 50.0"
          ],
          [
           "50.0 - 50.0"
          ],
          [
           "50.0 - 50.0"
          ],
          [
           "50.0 - 50.0"
          ],
          [
           "50.0 - 50.0"
          ],
          [
           "50.0 - 50.0"
          ],
          [
           "50.0 - 50.0"
          ],
          [
           "50.0 - 50.0"
          ],
          [
           "50.0 - 50.0"
          ],
          [
           "50.0 - 50.0"
          ],
          [
           "50.0 - 50.0"
          ],
          [
           "50.0 - 50.0"
          ],
          [
           "50.0 - 50.0"
          ],
          [
           "50.0 - 50.0"
          ],
          [
           "50.0 - 50.0"
          ],
          [
           "50.0 - 50.0"
          ],
          [
           "50.0 - 50.0"
          ],
          [
           "50.0 - 50.0"
          ],
          [
           "50.0 - 50.0"
          ],
          [
           "50.0 - 50.0"
          ],
          [
           "50.0 - 50.0"
          ],
          [
           "50.0 - 50.0"
          ],
          [
           "50.0 - 50.0"
          ],
          [
           "50.0 - 50.0"
          ],
          [
           "50.0 - 50.0"
          ],
          [
           "50.0 - 50.0"
          ],
          [
           "50.0 - 50.0"
          ],
          [
           "50.0 - 50.0"
          ],
          [
           "50.0 - 50.0"
          ],
          [
           "50.0 - 50.0"
          ],
          [
           "50.0 - 50.0"
          ],
          [
           "50.0 - 50.0"
          ],
          [
           "50.0 - 50.0"
          ],
          [
           "50.0 - 50.0"
          ],
          [
           "50.0 - 50.0"
          ],
          [
           "50.0 - 50.0"
          ],
          [
           "50.0 - 50.0"
          ],
          [
           "50.0 - 50.0"
          ],
          [
           "50.0 - 50.0"
          ],
          [
           "50.0 - 50.0"
          ],
          [
           "50.0 - 50.0"
          ],
          [
           "50.0 - 50.0"
          ],
          [
           "50.0 - 50.0"
          ],
          [
           "50.0 - 50.0"
          ],
          [
           "50.0 - 50.0"
          ],
          [
           "50.0 - 50.0"
          ],
          [
           "50.0 - 50.0"
          ],
          [
           "50.0 - 50.0"
          ],
          [
           "50.0 - 50.0"
          ],
          [
           "50.0 - 50.0"
          ],
          [
           "50.0 - 50.0"
          ],
          [
           "50.0 - 50.0"
          ],
          [
           "50.0 - 50.0"
          ],
          [
           "50.0 - 50.0"
          ],
          [
           "50.0 - 50.0"
          ],
          [
           "50.0 - 50.0"
          ],
          [
           "50.0 - 50.0"
          ],
          [
           "50.0 - 50.0"
          ],
          [
           "50.0 - 50.0"
          ],
          [
           "50.0 - 50.0"
          ],
          [
           "50.0 - 50.0"
          ],
          [
           "50.0 - 50.0"
          ],
          [
           "50.0 - 50.0"
          ],
          [
           "50.0 - 50.0"
          ],
          [
           "50.0 - 50.0"
          ],
          [
           "50.0 - 50.0"
          ],
          [
           "50.0 - 50.0"
          ],
          [
           "50.0 - 50.0"
          ],
          [
           "50.0 - 50.0"
          ],
          [
           "50.0 - 50.0"
          ],
          [
           "50.0 - 50.0"
          ],
          [
           "50.0 - 50.0"
          ],
          [
           "50.0 - 50.0"
          ],
          [
           "50.0 - 50.0"
          ],
          [
           "50.0 - 50.0"
          ],
          [
           "50.0 - 50.0"
          ],
          [
           "50.0 - 50.0"
          ],
          [
           "50.0 - 50.0"
          ],
          [
           "50.0 - 50.0"
          ],
          [
           "50.0 - 50.0"
          ],
          [
           "50.0 - 50.0"
          ],
          [
           "50.0 - 50.0"
          ],
          [
           "50.0 - 50.0"
          ],
          [
           "50.0 - 50.0"
          ],
          [
           "50.0 - 50.0"
          ],
          [
           "50.0 - 50.0"
          ],
          [
           "50.0 - 50.0"
          ],
          [
           "50.0 - 50.0"
          ],
          [
           "50.0 - 50.0"
          ],
          [
           "50.0 - 50.0"
          ],
          [
           "50.0 - 50.0"
          ],
          [
           "50.0 - 50.0"
          ],
          [
           "50.0 - 50.0"
          ],
          [
           "50.0 - 50.0"
          ],
          [
           "50.0 - 50.0"
          ],
          [
           "50.0 - 50.0"
          ],
          [
           "50.0 - 50.0"
          ],
          [
           "50.0 - 50.0"
          ],
          [
           "50.0 - 50.0"
          ],
          [
           "50.0 - 50.0"
          ],
          [
           "50.0 - 50.0"
          ],
          [
           "50.0 - 50.0"
          ],
          [
           "50.0 - 50.0"
          ],
          [
           "50.0 - 50.0"
          ],
          [
           "50.0 - 50.0"
          ],
          [
           "50.0 - 50.0"
          ],
          [
           "50.0 - 50.0"
          ],
          [
           "50.0 - 50.0"
          ],
          [
           "50.0 - 50.0"
          ],
          [
           "50.0 - 50.0"
          ],
          [
           "50.0 - 50.0"
          ],
          [
           "50.0 - 50.0"
          ],
          [
           "50.0 - 50.0"
          ],
          [
           "50.0 - 50.0"
          ],
          [
           "50.0 - 50.0"
          ],
          [
           "50.0 - 50.0"
          ],
          [
           "50.0 - 50.0"
          ],
          [
           "50.0 - 50.0"
          ],
          [
           "50.0 - 50.0"
          ],
          [
           "50.0 - 50.0"
          ],
          [
           "50.0 - 50.0"
          ],
          [
           "50.0 - 50.0"
          ],
          [
           "50.0 - 50.0"
          ],
          [
           "50.0 - 50.0"
          ],
          [
           "50.0 - 50.0"
          ],
          [
           "50.0 - 50.0"
          ],
          [
           "50.0 - 50.0"
          ],
          [
           "50.0 - 50.0"
          ],
          [
           "50.0 - 50.0"
          ],
          [
           "50.0 - 50.0"
          ],
          [
           "50.0 - 50.0"
          ],
          [
           "50.0 - 50.0"
          ],
          [
           "99.0 - 99.0"
          ],
          [
           "99.0 - 99.0"
          ],
          [
           "99.0 - 99.0"
          ],
          [
           "99.0 - 99.0"
          ],
          [
           "100.0 - 100.0"
          ],
          [
           "100.0 - 100.0"
          ],
          [
           "100.0 - 100.0"
          ],
          [
           "100.0 - 100.0"
          ],
          [
           "100.0 - 100.0"
          ],
          [
           "100.0 - 100.0"
          ],
          [
           "100.0 - 100.0"
          ],
          [
           "100.0 - 100.0"
          ],
          [
           "100.0 - 100.0"
          ],
          [
           "100.0 - 100.0"
          ],
          [
           "100.0 - 100.0"
          ],
          [
           "100.0 - 100.0"
          ],
          [
           "100.0 - 100.0"
          ],
          [
           "100.0 - 100.0"
          ],
          [
           "100.0 - 100.0"
          ],
          [
           "100.0 - 100.0"
          ],
          [
           "100.0 - 100.0"
          ],
          [
           "100.0 - 100.0"
          ],
          [
           "100.0 - 100.0"
          ],
          [
           "100.0 - 100.0"
          ],
          [
           "100.0 - 100.0"
          ],
          [
           "100.0 - 100.0"
          ],
          [
           "100.0 - 100.0"
          ],
          [
           "100.0 - 100.0"
          ],
          [
           "100.0 - 100.0"
          ],
          [
           "100.0 - 100.0"
          ],
          [
           "100.0 - 100.0"
          ],
          [
           "100.0 - 100.0"
          ],
          [
           "100.0 - 100.0"
          ],
          [
           "100.0 - 100.0"
          ],
          [
           "100.0 - 100.0"
          ],
          [
           "100.0 - 100.0"
          ],
          [
           "100.0 - 100.0"
          ],
          [
           "100.0 - 100.0"
          ],
          [
           "100.0 - 100.0"
          ],
          [
           "100.0 - 100.0"
          ],
          [
           "100.0 - 100.0"
          ],
          [
           "100.0 - 100.0"
          ],
          [
           "100.0 - 100.0"
          ],
          [
           "100.0 - 100.0"
          ],
          [
           "100.0 - 100.0"
          ],
          [
           "100.0 - 100.0"
          ],
          [
           "100.0 - 100.0"
          ]
         ],
         "hovertemplate": "comparative_retention=lower<br>group1024=%{x}<br>retention_yr1=%{y}<br>group_range=%{customdata[0]}<extra></extra>",
         "legendgroup": "lower",
         "marker": {
          "color": "#1F77B4"
         },
         "name": "lower",
         "offsetgroup": "lower",
         "orientation": "v",
         "showlegend": true,
         "textposition": "auto",
         "type": "bar",
         "x": [
          0,
          1,
          2,
          3,
          4,
          5,
          6,
          7,
          8,
          9,
          10,
          11,
          12,
          13,
          14,
          15,
          16,
          17,
          18,
          19,
          20,
          21,
          22,
          23,
          24,
          25,
          26,
          28,
          29,
          30,
          31,
          32,
          33,
          34,
          35,
          36,
          37,
          38,
          39,
          40,
          41,
          42,
          43,
          44,
          45,
          46,
          47,
          48,
          49,
          50,
          51,
          52,
          53,
          54,
          55,
          56,
          57,
          58,
          59,
          60,
          61,
          62,
          63,
          64,
          65,
          66,
          67,
          68,
          69,
          70,
          71,
          72,
          73,
          74,
          75,
          76,
          77,
          78,
          79,
          80,
          81,
          82,
          83,
          84,
          85,
          86,
          87,
          88,
          89,
          90,
          91,
          92,
          93,
          94,
          95,
          96,
          97,
          98,
          99,
          100,
          101,
          102,
          103,
          104,
          105,
          106,
          107,
          108,
          109,
          110,
          111,
          112,
          113,
          114,
          115,
          116,
          117,
          119,
          120,
          121,
          122,
          123,
          124,
          125,
          126,
          127,
          128,
          129,
          130,
          131,
          133,
          134,
          135,
          136,
          138,
          139,
          140,
          141,
          142,
          143,
          144,
          145,
          146,
          147,
          148,
          149,
          150,
          151,
          152,
          153,
          154,
          155,
          156,
          157,
          158,
          159,
          160,
          161,
          162,
          163,
          164,
          165,
          166,
          167,
          168,
          169,
          170,
          171,
          172,
          173,
          174,
          175,
          176,
          177,
          178,
          179,
          180,
          181,
          182,
          183,
          184,
          185,
          186,
          187,
          188,
          189,
          190,
          191,
          192,
          193,
          194,
          195,
          196,
          197,
          198,
          199,
          200,
          201,
          202,
          203,
          204,
          205,
          206,
          207,
          208,
          209,
          210,
          211,
          214,
          215,
          216,
          217,
          218,
          219,
          220,
          221,
          222,
          223,
          224,
          225,
          226,
          227,
          228,
          229,
          230,
          231,
          232,
          233,
          234,
          235,
          236,
          237,
          238,
          239,
          240,
          241,
          242,
          243,
          244,
          245,
          246,
          247,
          248,
          249,
          250,
          251,
          252,
          253,
          254,
          255,
          256,
          257,
          258,
          259,
          260,
          261,
          262,
          263,
          264,
          265,
          266,
          267,
          268,
          269,
          270,
          271,
          272,
          273,
          274,
          275,
          276,
          277,
          278,
          279,
          280,
          281,
          282,
          283,
          284,
          285,
          286,
          287,
          288,
          289,
          290,
          291,
          292,
          293,
          294,
          295,
          296,
          297,
          298,
          299,
          300,
          301,
          302,
          303,
          304,
          305,
          306,
          307,
          308,
          309,
          310,
          311,
          312,
          313,
          314,
          315,
          316,
          317,
          318,
          319,
          320,
          321,
          322,
          323,
          324,
          325,
          326,
          327,
          328,
          329,
          330,
          331,
          332,
          333,
          334,
          335,
          336,
          337,
          338,
          339,
          340,
          341,
          342,
          343,
          344,
          345,
          347,
          348,
          349,
          350,
          351,
          352,
          353,
          354,
          355,
          356,
          357,
          358,
          359,
          360,
          361,
          362,
          363,
          364,
          365,
          366,
          367,
          368,
          369,
          370,
          371,
          372,
          373,
          374,
          375,
          376,
          377,
          378,
          379,
          380,
          381,
          382,
          383,
          384,
          385,
          386,
          387,
          388,
          390,
          391,
          392,
          393,
          394,
          395,
          396,
          397,
          398,
          399,
          400,
          401,
          402,
          403,
          404,
          405,
          406,
          407,
          408,
          409,
          410,
          411,
          412,
          413,
          414,
          415,
          416,
          417,
          418,
          419,
          420,
          421,
          422,
          423,
          424,
          425,
          426,
          427,
          428,
          430,
          431,
          432,
          433,
          434,
          436,
          437,
          439,
          440,
          441,
          442,
          443,
          444,
          445,
          446,
          447,
          448,
          449,
          450,
          451,
          452,
          459,
          462,
          463,
          465,
          485,
          489,
          490,
          492,
          497,
          499,
          501,
          502,
          510,
          512,
          513,
          514,
          515,
          516,
          517,
          518,
          519,
          520,
          522,
          523,
          524,
          525,
          526,
          527,
          528,
          529,
          530,
          531,
          532,
          533,
          534,
          535,
          536,
          537,
          538,
          539,
          540,
          541,
          542,
          543,
          544,
          545,
          546,
          548,
          549,
          550,
          551,
          552,
          553,
          554,
          555,
          557,
          558,
          559,
          560,
          561,
          562,
          563,
          565,
          566,
          567,
          569,
          570,
          572,
          575,
          576,
          577,
          579,
          580,
          581,
          582,
          583,
          584,
          586,
          587,
          588,
          589,
          590,
          591,
          592,
          594,
          596,
          597,
          598,
          599,
          600,
          601,
          602,
          603,
          604,
          605,
          606,
          607,
          608,
          609,
          610,
          611,
          612,
          613,
          614,
          615,
          617,
          618,
          619,
          621,
          623,
          624,
          625,
          627,
          630,
          631,
          632,
          633,
          635,
          636,
          637,
          638,
          639,
          640,
          641,
          642,
          643,
          644,
          645,
          647,
          648,
          650,
          651,
          652,
          653,
          654,
          655,
          656,
          657,
          658,
          659,
          660,
          661,
          662,
          663,
          664,
          665,
          666,
          667,
          668,
          669,
          670,
          671,
          672,
          673,
          674,
          675,
          676,
          677,
          679,
          681,
          682,
          683,
          684,
          685,
          686,
          687,
          689,
          690,
          691,
          692,
          693,
          694,
          695,
          696,
          697,
          698,
          700,
          701,
          702,
          703,
          704,
          705,
          706,
          707,
          708,
          709,
          710,
          711,
          712,
          713,
          714,
          715,
          716,
          717,
          718,
          720,
          721,
          785,
          788,
          791,
          794,
          800,
          801,
          805,
          806,
          808,
          812,
          813,
          815,
          816,
          817,
          819,
          820,
          823,
          824,
          825,
          826,
          827,
          828,
          829,
          830,
          835,
          836,
          838,
          839,
          842,
          846,
          847,
          848,
          853,
          854,
          855,
          856,
          861,
          862,
          863,
          868,
          874,
          875,
          877,
          878,
          883,
          885,
          886
         ],
         "xaxis": "x",
         "y": [
          0.037065052950075644,
          0.043668122270742356,
          0.04215976331360947,
          0.0364963503649635,
          0.03237951807228916,
          0.04399701715137957,
          0.04373610081541883,
          0.0879848628192999,
          0.099581589958159,
          0.10727969348659004,
          0.15268817204301074,
          0.13075506445672191,
          0.08395061728395062,
          0.085,
          0.10628019323671498,
          0.08788598574821853,
          0.10591133004926108,
          0.0654911838790932,
          0.08152173913043478,
          0.09536784741144415,
          0.10789473684210527,
          0.09367088607594937,
          0.08533333333333333,
          0.08095238095238096,
          0.11450381679389313,
          0.08463251670378619,
          0.10144927536231885,
          0.19376391982182628,
          0.15920398009950248,
          0.14221218961625282,
          0.1111111111111111,
          0.1550561797752809,
          0.11868686868686869,
          0.12589073634204276,
          0.10158013544018059,
          0.12735849056603774,
          0.13701923076923078,
          0.11961722488038277,
          0.11951219512195121,
          0.11298076923076923,
          0.13978494623655913,
          0.12009237875288684,
          0.1111111111111111,
          0.1232876712328767,
          0.09798994974874371,
          0.14081145584725538,
          0.09798994974874371,
          0.1,
          0.09813084112149532,
          0.09567198177676538,
          0.116331096196868,
          0.1362530413625304,
          0.13624678663239073,
          0.12727272727272726,
          0.10677083333333333,
          0.1261904761904762,
          0.14251781472684086,
          0.1015625,
          0.10047846889952153,
          0.09280742459396751,
          0.12177985948477751,
          0.1336405529953917,
          0.12285012285012285,
          0.09178743961352658,
          0.16058394160583941,
          0.12165450121654502,
          0.13012048192771083,
          0.10835214446952596,
          0.1065989847715736,
          0.10392609699769054,
          0.1353211009174312,
          0.10772833723653395,
          0.12751677852348994,
          0.13908872901678657,
          0.12135922330097088,
          0.11816192560175055,
          0.10978520286396182,
          0.12387387387387387,
          0.12682926829268293,
          0.14153132250580047,
          0.11395348837209303,
          0.12709832134292565,
          0.10401891252955082,
          0.14084507042253522,
          0.14527845036319612,
          0.12589073634204276,
          0.12408759124087591,
          0.12300683371298406,
          0.11441647597254005,
          0.13707865168539327,
          0.1348314606741573,
          0.1318407960199005,
          0.13411764705882354,
          0.1366906474820144,
          0.11270983213429256,
          0.10268948655256724,
          0.12646370023419204,
          0.10843373493975904,
          0.141439205955335,
          0.11711711711711711,
          0.13592233009708737,
          0.12176165803108809,
          0.12555066079295155,
          0.1625,
          0.1377672209026128,
          0.11611374407582939,
          0.12831858407079647,
          0.1345707656612529,
          0.13043478260869565,
          0.10904872389791183,
          0.1211453744493392,
          0.145,
          0.14527845036319612,
          0.09803921568627451,
          0.12093023255813953,
          0.11682242990654206,
          0.18112244897959184,
          0.16816816816816818,
          0.1556420233463035,
          0.1762295081967213,
          0.1409090909090909,
          0.15948275862068967,
          0.17842323651452283,
          0.1623931623931624,
          0.11946902654867257,
          0.1276595744680851,
          0.18614718614718614,
          0.12133891213389121,
          0.18181818181818182,
          0.17333333333333334,
          0.16044776119402984,
          0.16019417475728157,
          0.15352697095435686,
          0.16541353383458646,
          0.1746987951807229,
          0.12652068126520682,
          0.08089887640449438,
          0.11387163561076605,
          0.10981308411214953,
          0.11258278145695365,
          0.09557109557109557,
          0.08296943231441048,
          0.09263657957244656,
          0.11395348837209303,
          0.11711711711711711,
          0.09954751131221719,
          0.1111111111111111,
          0.09785202863961814,
          0.11888111888111888,
          0.10786516853932585,
          0.091324200913242,
          0.09767441860465116,
          0.09174311926605505,
          0.09480812641083522,
          0.10897435897435898,
          0.08941176470588236,
          0.14692982456140352,
          0.11013215859030837,
          0.09569377990430622,
          0.08705357142857142,
          0.10158013544018059,
          0.1038135593220339,
          0.11670480549199085,
          0.06888888888888889,
          0.10638297872340426,
          0.11235955056179775,
          0.07991360691144708,
          0.12633832976445397,
          0.0867579908675799,
          0.11279826464208242,
          0.09401709401709402,
          0.11512415349887133,
          0.07506053268765134,
          0.13769751693002258,
          0.11685393258426967,
          0.10638297872340426,
          0.097799511002445,
          0.11358024691358025,
          0.14255765199161424,
          0.08686440677966102,
          0.11320754716981132,
          0.11392405063291139,
          0.1010989010989011,
          0.09133489461358314,
          0.1087962962962963,
          0.10440835266821345,
          0.10657596371882086,
          0.09813084112149532,
          0.10267857142857142,
          0.09817351598173515,
          0.11926605504587157,
          0.10141509433962265,
          0.10087719298245613,
          0.09047619047619047,
          0.08714596949891068,
          0.10412147505422993,
          0.10227272727272728,
          0.09192825112107623,
          0.11546840958605664,
          0.0892018779342723,
          0.1048951048951049,
          0.09761388286334056,
          0.0855106888361045,
          0.12719298245614036,
          0.09425287356321839,
          0.11899313501144165,
          0.13253012048192772,
          0.1882716049382716,
          0.15073529411764705,
          0.15,
          0.17562724014336917,
          0.17328519855595667,
          0.12359550561797752,
          0.1386861313868613,
          0.14344262295081966,
          0.10833333333333334,
          0.15352697095435686,
          0.12734082397003746,
          0.15891472868217055,
          0.13740458015267176,
          0.14705882352941177,
          0.16417910447761194,
          0.16906474820143885,
          0.13846153846153847,
          0.14482758620689656,
          0.16730038022813687,
          0.1056338028169014,
          0.15129151291512916,
          0.15413533834586465,
          0.14625850340136054,
          0.1407942238267148,
          0.1678082191780822,
          0.1575091575091575,
          0.17490494296577946,
          0.16176470588235295,
          0.1371841155234657,
          0.15447154471544716,
          0.13618677042801555,
          0.1527777777777778,
          0.14184397163120568,
          0.1510791366906475,
          0.16551724137931034,
          0.16845878136200718,
          0.15185185185185185,
          0.16091954022988506,
          0.136,
          0.1638655462184874,
          0.149812734082397,
          0.15357142857142858,
          0.11149825783972125,
          0.13127413127413126,
          0.1875,
          0.13043478260869565,
          0.13653136531365315,
          0.15471698113207547,
          0.15845070422535212,
          0.13953488372093023,
          0.1527777777777778,
          0.15018315018315018,
          0.16487455197132617,
          0.15234375,
          0.17894736842105263,
          0.1423487544483986,
          0.13043478260869565,
          0.12062256809338522,
          0.16730038022813687,
          0.14285714285714285,
          0.15302491103202848,
          0.13382899628252787,
          0.1626984126984127,
          0.16417910447761194,
          0.12213740458015267,
          0.1553030303030303,
          0.12043795620437957,
          0.13553113553113552,
          0.14788732394366197,
          0.13793103448275862,
          0.1471698113207547,
          0.16853932584269662,
          0.13602941176470587,
          0.15579710144927536,
          0.12152777777777778,
          0.13793103448275862,
          0.13043478260869565,
          0.14728682170542637,
          0.1597222222222222,
          0.16845878136200718,
          0.15671641791044777,
          0.11462450592885376,
          0.18439716312056736,
          0.13090909090909092,
          0.11428571428571428,
          0.16728624535315986,
          0.12627986348122866,
          0.12109375,
          0.15891472868217055,
          0.1511627906976744,
          0.14965986394557823,
          0.17,
          0.11836734693877551,
          0.18587360594795538,
          0.16796875,
          0.14772727272727273,
          0.13805970149253732,
          0.14285714285714285,
          0.11278195488721804,
          0.17041800643086816,
          0.1388888888888889,
          0.15730337078651685,
          0.16083916083916083,
          0.10526315789473684,
          0.15901060070671377,
          0.15748031496062992,
          0.12927756653992395,
          0.19402985074626866,
          0.1368421052631579,
          0.1289198606271777,
          0.1511627906976744,
          0.15613382899628253,
          0.13793103448275862,
          0.1684981684981685,
          0.1781818181818182,
          0.13043478260869565,
          0.15384615384615385,
          0.12251655629139073,
          0.1646586345381526,
          0.15849056603773584,
          0.1728395061728395,
          0.11870503597122302,
          0.14785992217898833,
          0.15358361774744028,
          0.17028985507246377,
          0.17204301075268819,
          0.11721611721611722,
          0.15359477124183007,
          0.13284132841328414,
          0.14173228346456693,
          0.17777777777777778,
          0.13857677902621723,
          0.1596958174904943,
          0.17667844522968199,
          0.136,
          0.16287878787878787,
          0.14035087719298245,
          0.15298507462686567,
          0.14432989690721648,
          0.15648854961832062,
          0.13846153846153847,
          0.1520912547528517,
          0.17391304347826086,
          0.1595744680851064,
          0.1423076923076923,
          0.13026819923371646,
          0.17307692307692307,
          0.17293233082706766,
          0.19117647058823528,
          0.1510791366906475,
          0.1524163568773234,
          0.14186851211072665,
          0.12267657992565056,
          0.10423452768729642,
          0.15217391304347827,
          0.17006802721088435,
          0.16728624535315986,
          0.16470588235294117,
          0.13962264150943396,
          0.17343173431734318,
          0.15789473684210525,
          0.13818181818181818,
          0.16981132075471697,
          0.12096774193548387,
          0.16376306620209058,
          0.11846689895470383,
          0.16044776119402984,
          0.1440329218106996,
          0.15602836879432624,
          0.16666666666666666,
          0.16911764705882354,
          0.09163346613545817,
          0.1044776119402985,
          0.17753623188405798,
          0.1532567049808429,
          0.1183206106870229,
          0.14233576642335766,
          0.1423841059602649,
          0.16312056737588654,
          0.12790697674418605,
          0.15636363636363637,
          0.13043478260869565,
          0.14396887159533073,
          0.17307692307692307,
          0.15555555555555556,
          0.12982456140350876,
          0.16153846153846155,
          0.1328125,
          0.18627450980392157,
          0.15570934256055363,
          0.13011152416356878,
          0.1450381679389313,
          0.15073529411764705,
          0.19245283018867926,
          0.15162454873646208,
          0.11524163568773234,
          0.12648221343873517,
          0.145748987854251,
          0.1505016722408027,
          0.1505016722408027,
          0.1391941391941392,
          0.11960132890365449,
          0.14334470989761092,
          0.16182572614107885,
          0.1245136186770428,
          0.15666666666666668,
          0.18149466192170818,
          0.15053763440860216,
          0.14893617021276595,
          0.12927756653992395,
          0.17537313432835822,
          0.15613382899628253,
          0.16470588235294117,
          0.13405797101449277,
          0.17142857142857143,
          0.138996138996139,
          0.1590909090909091,
          0.13745704467353953,
          0.175,
          0.12681159420289856,
          0.16296296296296298,
          0.15725806451612903,
          0.14930555555555555,
          0.1310344827586207,
          0.16352201257861634,
          0.11764705882352941,
          0.13740458015267176,
          0.17110266159695817,
          0.1225296442687747,
          0.16071428571428573,
          0.1867704280155642,
          0.17916666666666667,
          0.13818181818181818,
          0.11486486486486487,
          0.14652014652014653,
          0.18815331010452963,
          0.18151815181518152,
          0.18421052631578946,
          0.18506493506493507,
          0.1414141414141414,
          0.17434210526315788,
          0.19298245614035087,
          0.19202898550724637,
          0.15161290322580645,
          0.1828358208955224,
          0.17857142857142858,
          0.18243243243243243,
          0.1864406779661017,
          0.1901840490797546,
          0.14012738853503184,
          0.15953307392996108,
          0.18548387096774194,
          0.14345991561181434,
          0.16412213740458015,
          0.12903225806451613,
          0.1593625498007968,
          0.1896551724137931,
          0.1619047619047619,
          0.14173228346456693,
          0.18972332015810275,
          0.18803418803418803,
          0.1640625,
          0.18376068376068377,
          0.16371681415929204,
          0.13807531380753138,
          0.17105263157894737,
          0.15702479338842976,
          0.1843137254901961,
          0.18636363636363637,
          0.15207373271889402,
          0.13127413127413126,
          0.16101694915254236,
          0.13793103448275862,
          0.15925925925925927,
          0.15234375,
          0.17647058823529413,
          0.1417004048582996,
          0.18106995884773663,
          0.19183673469387755,
          0.17578125,
          0.17692307692307693,
          0.1444866920152091,
          0.14601769911504425,
          0.1686746987951807,
          0.18309859154929578,
          0.15853658536585366,
          0.1187214611872146,
          0.13278008298755187,
          0.17094017094017094,
          0.14957264957264957,
          0.14979757085020243,
          0.13389121338912133,
          0.14049586776859505,
          0.16379310344827586,
          0.15942028985507245,
          0.1894273127753304,
          0.16412213740458015,
          0.11428571428571428,
          0.14285714285714285,
          0.14566929133858267,
          0.16862745098039217,
          0.1277533039647577,
          0.18072289156626506,
          0.14522821576763487,
          0.16541353383458646,
          0.14342629482071714,
          0.1592920353982301,
          0.1836734693877551,
          0.15021459227467812,
          0.15254237288135594,
          0.15918367346938775,
          0.15040650406504066,
          0.192,
          0.1346153846153846,
          0.16666666666666666,
          0.13877551020408163,
          0.1762295081967213,
          0.1857707509881423,
          0.13445378151260504,
          0.17073170731707318,
          0.17142857142857143,
          0.16602316602316602,
          0.15517241379310345,
          0.1732283464566929,
          0.1736111111111111,
          0.18376068376068377,
          0.15637860082304528,
          0.14912280701754385,
          0.1440677966101695,
          0.17254901960784313,
          0.16810344827586207,
          0.17142857142857143,
          0.16033755274261605,
          0.15476190476190477,
          0.17721518987341772,
          0.18045112781954886,
          0.1646090534979424,
          0.16260162601626016,
          0.15447154471544716,
          0.17490494296577946,
          0.1417624521072797,
          0.18695652173913044,
          0.16170212765957448,
          0.1440329218106996,
          0.18666666666666668,
          0.15789473684210525,
          0.19166666666666668,
          0.16818181818181818,
          0.17467248908296942,
          0.1482889733840304,
          0.1684981684981685,
          0.14453125,
          0.1517509727626459,
          0.17578125,
          0.15355805243445692,
          0.14339622641509434,
          0.17391304347826086,
          0.15767634854771784,
          0.12992125984251968,
          0.15708812260536398,
          0.17391304347826086,
          0.17647058823529413,
          0.1606425702811245,
          0.15476190476190477,
          0.14682539682539683,
          0.1559633027522936,
          0.12598425196850394,
          0.15517241379310345,
          0.1680327868852459,
          0.12844036697247707,
          0.16393442622950818,
          0.18061674008810572,
          0.14122137404580154,
          0.14798206278026907,
          0.1383399209486166,
          0.1803921568627451,
          0.1651376146788991,
          0.17054263565891473,
          0.17857142857142858,
          0.17725752508361203,
          0.1520912547528517,
          0.17786561264822134,
          0.14049586776859505,
          0.12556053811659193,
          0.1646090534979424,
          0.1474820143884892,
          0.16862745098039217,
          0.17786561264822134,
          0.17829457364341086,
          0.15261044176706828,
          0.14468085106382977,
          0.13574660633484162,
          0.17768595041322313,
          0.13215859030837004,
          0.16317991631799164,
          0.1422924901185771,
          0.17154811715481172,
          0.13095238095238096,
          0.1471861471861472,
          0.1583710407239819,
          0.171875,
          0.16883116883116883,
          0.18099547511312217,
          0.19166666666666668,
          0.12605042016806722,
          0.15966386554621848,
          0.15217391304347827,
          0.1487603305785124,
          0.152,
          0.17647058823529413,
          0.16170212765957448,
          0.18951612903225806,
          0.19282511210762332,
          0.12653061224489795,
          0.1902654867256637,
          0.19130434782608696,
          0.1659919028340081,
          0.16988416988416988,
          0.15126050420168066,
          0.1646090534979424,
          0.16666666666666666,
          0.13523131672597866,
          0.17142857142857143,
          0.144,
          0.18532818532818532,
          0.15298507462686567,
          0.1799163179916318,
          0.14516129032258066,
          0.1729957805907173,
          0.17898832684824903,
          0.1752988047808765,
          0.17857142857142858,
          0.16666666666666666,
          0,
          0.16666666666666666,
          0,
          0.1806020066889632,
          0.16139240506329114,
          0.19322033898305085,
          0.15699658703071673,
          0.1896551724137931,
          0.19169329073482427,
          0.1896551724137931,
          0.1760797342192691,
          0.16845878136200718,
          0.1806020066889632,
          0.1919191919191919,
          0.1893687707641196,
          0.18597560975609756,
          0.14521452145214522,
          0.18815331010452963,
          0.18688524590163935,
          0.18452380952380953,
          0.18092105263157895,
          0.19141914191419143,
          0.15901060070671377,
          0.1917808219178082,
          0.18495297805642633,
          0.1323529411764706,
          0.1875,
          0.1815068493150685,
          0.1935483870967742,
          0.19141914191419143,
          0.19375,
          0.1858108108108108,
          0.19155844155844157,
          0.17721518987341772,
          0.1724137931034483,
          0.18181818181818182,
          0.1606060606060606,
          0.16943521594684385,
          0.19243986254295534,
          0.18471337579617833,
          0.18620689655172415,
          0.16417910447761194,
          0.16896551724137931,
          0.18983050847457628,
          0.18439716312056736,
          0.18032786885245902
         ],
         "yaxis": "y"
        },
        {
         "alignmentgroup": "True",
         "customdata": [
          [
           "5.0 - 7.0"
          ],
          [
           "12.0 - 13.1"
          ],
          [
           "15.0 - 15.0"
          ],
          [
           "15.76 - 17.36"
          ],
          [
           "22.0 - 23.79"
          ],
          [
           "23.79 - 25.0"
          ],
          [
           "25.0 - 25.0"
          ],
          [
           "25.0 - 25.0"
          ],
          [
           "25.0 - 25.0"
          ],
          [
           "25.0 - 25.0"
          ],
          [
           "25.0 - 25.0"
          ],
          [
           "25.0 - 26.26"
          ],
          [
           "26.28 - 27.51"
          ],
          [
           "27.52 - 29.0"
          ],
          [
           "29.0 - 30.0"
          ],
          [
           "30.0 - 30.0"
          ],
          [
           "30.0 - 30.0"
          ],
          [
           "30.0 - 30.0"
          ],
          [
           "30.0 - 30.0"
          ],
          [
           "30.0 - 30.0"
          ],
          [
           "30.0 - 30.0"
          ],
          [
           "30.0 - 30.0"
          ],
          [
           "30.0 - 30.0"
          ],
          [
           "30.0 - 30.0"
          ],
          [
           "30.0 - 30.0"
          ],
          [
           "30.0 - 30.0"
          ],
          [
           "30.0 - 30.0"
          ],
          [
           "30.0 - 30.0"
          ],
          [
           "30.0 - 31.11"
          ],
          [
           "31.12 - 32.56"
          ],
          [
           "32.56 - 34.0"
          ],
          [
           "34.0 - 35.0"
          ],
          [
           "35.0 - 35.0"
          ],
          [
           "35.0 - 35.0"
          ],
          [
           "35.0 - 35.0"
          ],
          [
           "35.0 - 35.0"
          ],
          [
           "35.0 - 35.0"
          ],
          [
           "35.0 - 35.0"
          ],
          [
           "35.0 - 35.96"
          ],
          [
           "36.34 - 38.0"
          ],
          [
           "38.0 - 39.22"
          ],
          [
           "39.23 - 40.0"
          ],
          [
           "40.0 - 40.0"
          ],
          [
           "40.0 - 40.0"
          ],
          [
           "40.0 - 40.0"
          ],
          [
           "40.0 - 40.0"
          ],
          [
           "40.0 - 40.0"
          ],
          [
           "40.0 - 40.0"
          ],
          [
           "40.0 - 40.0"
          ],
          [
           "40.0 - 41.89"
          ],
          [
           "41.89 - 43.4"
          ],
          [
           "43.41 - 45.0"
          ],
          [
           "45.0 - 45.0"
          ],
          [
           "45.0 - 45.0"
          ],
          [
           "45.0 - 45.0"
          ],
          [
           "45.0 - 45.32"
          ],
          [
           "47.0 - 48.44"
          ],
          [
           "50.0 - 50.0"
          ],
          [
           "50.0 - 50.0"
          ],
          [
           "50.0 - 50.0"
          ],
          [
           "50.0 - 50.0"
          ],
          [
           "50.0 - 50.0"
          ],
          [
           "50.0 - 50.0"
          ],
          [
           "50.0 - 50.0"
          ],
          [
           "50.0 - 50.0"
          ],
          [
           "50.0 - 50.0"
          ],
          [
           "50.0 - 50.0"
          ],
          [
           "50.0 - 50.0"
          ],
          [
           "50.0 - 50.0"
          ],
          [
           "50.0 - 50.0"
          ],
          [
           "50.0 - 50.0"
          ],
          [
           "50.0 - 50.0"
          ],
          [
           "50.0 - 50.0"
          ],
          [
           "50.0 - 50.0"
          ],
          [
           "50.0 - 50.0"
          ],
          [
           "50.0 - 50.0"
          ],
          [
           "50.0 - 50.0"
          ],
          [
           "50.0 - 50.0"
          ],
          [
           "50.0 - 50.0"
          ],
          [
           "50.0 - 50.0"
          ],
          [
           "50.0 - 50.0"
          ],
          [
           "50.0 - 50.0"
          ],
          [
           "50.0 - 50.0"
          ],
          [
           "50.0 - 50.0"
          ],
          [
           "50.0 - 51.0"
          ],
          [
           "51.0 - 52.47"
          ],
          [
           "52.48 - 54.0"
          ],
          [
           "54.0 - 55.0"
          ],
          [
           "55.0 - 55.0"
          ],
          [
           "55.0 - 56.0"
          ],
          [
           "56.0 - 57.77"
          ],
          [
           "57.79 - 59.53"
          ],
          [
           "59.55 - 60.0"
          ],
          [
           "60.0 - 60.0"
          ],
          [
           "60.0 - 60.0"
          ],
          [
           "60.0 - 60.0"
          ],
          [
           "60.0 - 60.0"
          ],
          [
           "60.0 - 60.0"
          ],
          [
           "60.0 - 62.0"
          ],
          [
           "62.0 - 64.0"
          ],
          [
           "64.0 - 65.0"
          ],
          [
           "65.0 - 65.0"
          ],
          [
           "65.0 - 66.38"
          ],
          [
           "66.42 - 68.48"
          ],
          [
           "68.48 - 70.0"
          ],
          [
           "70.0 - 70.0"
          ],
          [
           "70.0 - 70.0"
          ],
          [
           "70.0 - 70.78"
          ],
          [
           "70.79 - 73.0"
          ],
          [
           "73.0 - 75.0"
          ],
          [
           "75.0 - 75.0"
          ],
          [
           "75.0 - 75.0"
          ],
          [
           "75.0 - 75.0"
          ],
          [
           "75.0 - 75.0"
          ],
          [
           "75.0 - 75.0"
          ],
          [
           "75.0 - 75.0"
          ],
          [
           "75.0 - 75.0"
          ],
          [
           "75.0 - 75.0"
          ],
          [
           "75.0 - 75.0"
          ],
          [
           "75.0 - 75.0"
          ],
          [
           "75.0 - 75.0"
          ],
          [
           "75.0 - 75.0"
          ],
          [
           "75.0 - 75.0"
          ],
          [
           "75.0 - 75.0"
          ],
          [
           "75.0 - 75.0"
          ],
          [
           "75.0 - 75.0"
          ],
          [
           "75.0 - 75.0"
          ],
          [
           "75.0 - 75.02"
          ],
          [
           "75.13 - 77.26"
          ],
          [
           "77.29 - 79.56"
          ],
          [
           "79.61 - 80.0"
          ],
          [
           "80.0 - 80.0"
          ],
          [
           "80.0 - 81.48"
          ],
          [
           "81.5 - 83.8"
          ],
          [
           "83.82 - 85.0"
          ],
          [
           "85.0 - 85.87"
          ],
          [
           "85.88 - 88.01"
          ],
          [
           "88.01 - 90.0"
          ],
          [
           "90.0 - 90.0"
          ],
          [
           "90.0 - 91.4"
          ],
          [
           "91.44 - 93.99"
          ],
          [
           "94.0 - 95.0"
          ],
          [
           "95.0 - 96.63"
          ],
          [
           "96.65 - 98.49"
          ],
          [
           "98.5 - 99.0"
          ],
          [
           "99.0 - 99.0"
          ],
          [
           "99.0 - 99.0"
          ],
          [
           "99.0 - 99.0"
          ],
          [
           "99.0 - 99.0"
          ],
          [
           "99.0 - 99.0"
          ],
          [
           "99.0 - 99.0"
          ],
          [
           "99.0 - 99.0"
          ],
          [
           "99.0 - 99.0"
          ],
          [
           "99.0 - 99.75"
          ],
          [
           "99.76 - 100.0"
          ],
          [
           "100.0 - 100.0"
          ],
          [
           "100.0 - 100.0"
          ],
          [
           "100.0 - 100.0"
          ],
          [
           "100.0 - 100.0"
          ],
          [
           "100.0 - 100.0"
          ],
          [
           "100.0 - 100.0"
          ],
          [
           "100.0 - 100.0"
          ],
          [
           "100.0 - 100.0"
          ],
          [
           "100.0 - 100.0"
          ],
          [
           "100.0 - 100.0"
          ],
          [
           "100.0 - 100.0"
          ],
          [
           "100.0 - 100.0"
          ],
          [
           "100.0 - 100.0"
          ],
          [
           "100.0 - 100.0"
          ],
          [
           "100.0 - 100.0"
          ],
          [
           "100.0 - 100.0"
          ],
          [
           "100.0 - 100.0"
          ],
          [
           "100.0 - 100.0"
          ],
          [
           "100.0 - 100.0"
          ],
          [
           "100.0 - 100.0"
          ],
          [
           "100.0 - 100.0"
          ],
          [
           "100.0 - 100.0"
          ],
          [
           "100.0 - 100.0"
          ],
          [
           "100.0 - 100.0"
          ],
          [
           "100.0 - 100.0"
          ],
          [
           "100.0 - 100.0"
          ],
          [
           "100.0 - 100.0"
          ],
          [
           "100.0 - 100.0"
          ],
          [
           "100.0 - 100.0"
          ],
          [
           "100.0 - 100.0"
          ],
          [
           "100.0 - 100.0"
          ],
          [
           "100.0 - 100.0"
          ],
          [
           "100.0 - 100.0"
          ],
          [
           "100.0 - 100.0"
          ],
          [
           "100.0 - 100.0"
          ],
          [
           "100.0 - 100.0"
          ],
          [
           "100.0 - 100.0"
          ],
          [
           "100.0 - 100.0"
          ],
          [
           "100.0 - 100.0"
          ],
          [
           "100.0 - 100.0"
          ],
          [
           "100.0 - 100.0"
          ],
          [
           "100.0 - 100.0"
          ],
          [
           "100.0 - 100.0"
          ],
          [
           "100.0 - 100.0"
          ],
          [
           "100.0 - 100.0"
          ],
          [
           "100.0 - 100.0"
          ],
          [
           "100.0 - 100.0"
          ],
          [
           "100.0 - 101.0"
          ],
          [
           "101.0 - 103.69"
          ],
          [
           "103.75 - 105.0"
          ],
          [
           "105.0 - 107.69"
          ],
          [
           "107.72 - 110.0"
          ],
          [
           "110.0 - 110.0"
          ],
          [
           "110.0 - 111.69"
          ],
          [
           "111.71 - 114.34"
          ],
          [
           "114.34 - 115.0"
          ],
          [
           "115.0 - 118.0"
          ],
          [
           "118.0 - 120.0"
          ],
          [
           "120.0 - 120.0"
          ],
          [
           "120.0 - 122.03"
          ],
          [
           "122.06 - 124.41"
          ],
          [
           "124.42 - 125.0"
          ],
          [
           "125.0 - 125.0"
          ],
          [
           "125.0 - 125.0"
          ],
          [
           "125.0 - 125.0"
          ],
          [
           "125.0 - 125.0"
          ],
          [
           "125.0 - 125.0"
          ],
          [
           "125.0 - 125.0"
          ],
          [
           "125.0 - 128.07"
          ],
          [
           "128.09 - 130.0"
          ],
          [
           "130.0 - 132.45"
          ],
          [
           "132.5 - 135.0"
          ],
          [
           "135.0 - 137.81"
          ],
          [
           "137.84 - 140.0"
          ],
          [
           "140.0 - 142.37"
          ],
          [
           "142.41 - 145.0"
          ],
          [
           "145.0 - 148.52"
          ],
          [
           "148.54 - 149.83"
          ],
          [
           "149.84 - 150.0"
          ],
          [
           "150.0 - 150.0"
          ],
          [
           "150.0 - 150.0"
          ],
          [
           "150.0 - 150.0"
          ],
          [
           "150.0 - 150.0"
          ],
          [
           "150.0 - 150.0"
          ],
          [
           "150.0 - 150.0"
          ],
          [
           "150.0 - 150.0"
          ],
          [
           "150.0 - 150.0"
          ],
          [
           "150.0 - 150.0"
          ],
          [
           "150.0 - 150.0"
          ],
          [
           "150.0 - 153.11"
          ],
          [
           "153.13 - 156.04"
          ],
          [
           "156.04 - 160.0"
          ],
          [
           "160.0 - 161.58"
          ],
          [
           "161.63 - 165.0"
          ],
          [
           "165.0 - 168.71"
          ],
          [
           "168.79 - 170.6"
          ],
          [
           "170.61 - 174.79"
          ],
          [
           "174.8 - 175.0"
          ],
          [
           "175.0 - 177.45"
          ],
          [
           "177.5 - 180.0"
          ],
          [
           "180.0 - 185.0"
          ],
          [
           "185.0 - 188.99"
          ],
          [
           "189.0 - 192.68"
          ],
          [
           "192.72 - 196.91"
          ],
          [
           "196.93 - 199.0"
          ],
          [
           "199.0 - 200.0"
          ],
          [
           "200.0 - 200.0"
          ],
          [
           "200.0 - 200.0"
          ],
          [
           "200.0 - 200.0"
          ],
          [
           "200.0 - 200.0"
          ],
          [
           "200.0 - 200.0"
          ],
          [
           "200.0 - 200.0"
          ],
          [
           "200.0 - 200.0"
          ],
          [
           "200.0 - 200.0"
          ],
          [
           "200.0 - 200.0"
          ],
          [
           "200.0 - 200.0"
          ],
          [
           "200.0 - 200.0"
          ],
          [
           "200.0 - 200.0"
          ],
          [
           "200.0 - 200.4"
          ],
          [
           "200.48 - 205.16"
          ],
          [
           "205.22 - 210.0"
          ],
          [
           "210.0 - 215.0"
          ],
          [
           "215.0 - 219.77"
          ],
          [
           "219.81 - 223.86"
          ],
          [
           "223.91 - 225.0"
          ],
          [
           "225.0 - 230.0"
          ],
          [
           "230.0 - 235.0"
          ],
          [
           "235.0 - 240.0"
          ],
          [
           "240.0 - 245.7"
          ],
          [
           "245.82 - 250.0"
          ],
          [
           "250.0 - 250.0"
          ],
          [
           "250.0 - 250.0"
          ],
          [
           "250.0 - 250.0"
          ],
          [
           "250.0 - 250.0"
          ],
          [
           "250.0 - 255.69"
          ],
          [
           "255.78 - 262.0"
          ],
          [
           "262.0 - 269.5"
          ],
          [
           "269.5 - 275.0"
          ],
          [
           "275.0 - 280.0"
          ],
          [
           "280.0 - 288.25"
          ],
          [
           "288.31 - 295.68"
          ],
          [
           "295.77 - 300.0"
          ],
          [
           "300.0 - 300.0"
          ],
          [
           "300.0 - 300.0"
          ],
          [
           "300.0 - 301.03"
          ],
          [
           "301.13 - 310.0"
          ],
          [
           "310.0 - 320.0"
          ],
          [
           "320.0 - 327.29"
          ],
          [
           "327.33 - 337.25"
          ],
          [
           "337.47 - 347.55"
          ],
          [
           "347.58 - 350.11"
          ],
          [
           "350.14 - 362.0"
          ],
          [
           "362.0 - 374.05"
          ],
          [
           "374.35 - 385.0"
          ],
          [
           "385.0 - 398.41"
          ],
          [
           "398.75 - 400.0"
          ],
          [
           "400.0 - 409.91"
          ],
          [
           "409.91 - 425.0"
          ],
          [
           "425.0 - 440.87"
          ],
          [
           "440.98 - 454.87"
          ],
          [
           "454.89 - 474.55"
          ],
          [
           "474.68 - 493.16"
          ],
          [
           "493.29 - 500.0"
          ],
          [
           "500.0 - 500.0"
          ],
          [
           "500.0 - 500.0"
          ],
          [
           "500.0 - 520.0"
          ],
          [
           "520.0 - 543.57"
          ],
          [
           "543.66 - 566.85"
          ],
          [
           "566.88 - 598.64"
          ],
          [
           "598.93 - 623.79"
          ],
          [
           "623.98 - 660.54"
          ],
          [
           "661.0 - 705.0"
          ],
          [
           "705.0 - 756.0"
          ],
          [
           "756.81 - 817.62"
          ],
          [
           "818.34 - 899.52"
          ],
          [
           "899.81 - 996.19"
          ],
          [
           "996.4 - 1027.82"
          ],
          [
           "1029.81 - 1150.0"
          ],
          [
           "1150.0 - 1345.69"
          ],
          [
           "1347.61 - 1626.85"
          ],
          [
           "1627.36 - 2123.0"
          ],
          [
           "2125.61 - 3626.75"
          ],
          [
           "3647.16 - 442794.38"
          ]
         ],
         "hovertemplate": "comparative_retention=higher<br>group1024=%{x}<br>retention_yr1=%{y}<br>group_range=%{customdata[0]}<extra></extra>",
         "legendgroup": "higher",
         "marker": {
          "color": "#FF7F0E"
         },
         "name": "higher",
         "offsetgroup": "higher",
         "orientation": "v",
         "showlegend": true,
         "textposition": "auto",
         "type": "bar",
         "x": [
          27,
          118,
          132,
          137,
          212,
          213,
          346,
          389,
          429,
          435,
          438,
          453,
          454,
          455,
          456,
          457,
          458,
          460,
          461,
          464,
          466,
          467,
          468,
          469,
          470,
          471,
          472,
          473,
          474,
          475,
          476,
          477,
          478,
          479,
          480,
          481,
          482,
          483,
          484,
          486,
          487,
          488,
          491,
          493,
          494,
          495,
          496,
          498,
          500,
          503,
          504,
          505,
          506,
          507,
          508,
          509,
          511,
          521,
          547,
          556,
          564,
          568,
          571,
          573,
          574,
          578,
          585,
          593,
          595,
          616,
          620,
          622,
          626,
          628,
          629,
          634,
          646,
          649,
          678,
          680,
          688,
          699,
          719,
          722,
          723,
          724,
          725,
          726,
          727,
          728,
          729,
          730,
          731,
          732,
          733,
          734,
          735,
          736,
          737,
          738,
          739,
          740,
          741,
          742,
          743,
          744,
          745,
          746,
          747,
          748,
          749,
          750,
          751,
          752,
          753,
          754,
          755,
          756,
          757,
          758,
          759,
          760,
          761,
          762,
          763,
          764,
          765,
          766,
          767,
          768,
          769,
          770,
          771,
          772,
          773,
          774,
          775,
          776,
          777,
          778,
          779,
          780,
          781,
          782,
          783,
          784,
          786,
          787,
          789,
          790,
          792,
          793,
          795,
          796,
          797,
          798,
          799,
          802,
          803,
          804,
          807,
          809,
          810,
          811,
          814,
          818,
          821,
          822,
          831,
          832,
          833,
          834,
          837,
          840,
          841,
          843,
          844,
          845,
          849,
          850,
          851,
          852,
          857,
          858,
          859,
          860,
          864,
          865,
          866,
          867,
          869,
          870,
          871,
          872,
          873,
          876,
          879,
          880,
          881,
          882,
          884,
          887,
          888,
          889,
          890,
          891,
          892,
          893,
          894,
          895,
          896,
          897,
          898,
          899,
          900,
          901,
          902,
          903,
          904,
          905,
          906,
          907,
          908,
          909,
          910,
          911,
          912,
          913,
          914,
          915,
          916,
          917,
          918,
          919,
          920,
          921,
          922,
          923,
          924,
          925,
          926,
          927,
          928,
          929,
          930,
          931,
          932,
          933,
          934,
          935,
          936,
          937,
          938,
          939,
          940,
          941,
          942,
          943,
          944,
          945,
          946,
          947,
          948,
          949,
          950,
          951,
          952,
          953,
          954,
          955,
          956,
          957,
          958,
          959,
          960,
          961,
          962,
          963,
          964,
          965,
          966,
          967,
          968,
          969,
          970,
          971,
          972,
          973,
          974,
          975,
          976,
          977,
          978,
          979,
          980,
          981,
          982,
          983,
          984,
          985,
          986,
          987,
          988,
          989,
          990,
          991,
          992,
          993,
          994,
          995,
          996,
          997,
          998,
          999,
          1000,
          1001,
          1002,
          1003,
          1004,
          1005,
          1006,
          1007,
          1008,
          1009,
          1010,
          1011,
          1012,
          1013,
          1014,
          1015,
          1016,
          1017,
          1018,
          1019,
          1020,
          1021,
          1022,
          1023
         ],
         "xaxis": "x",
         "y": [
          0.227765726681128,
          0.20348837209302326,
          0.2026431718061674,
          0.20215633423180593,
          0.25692695214105793,
          0.21264367816091953,
          0.19834710743801653,
          0.2007168458781362,
          0.2007042253521127,
          0.20224719101123595,
          0.19548872180451127,
          0.2012779552715655,
          0.20504731861198738,
          0.19883040935672514,
          0.2118380062305296,
          0.21189591078066913,
          0.21785714285714286,
          0.20689655172413793,
          0.20567375886524822,
          0.25357142857142856,
          0.22611464968152867,
          0.23127035830618892,
          0.21532846715328466,
          0.22134387351778656,
          0.20863309352517986,
          0.21333333333333335,
          0.21100917431192662,
          0.23404255319148937,
          0.23225806451612904,
          0.2196969696969697,
          0.2118380062305296,
          0.24695121951219512,
          0.2745762711864407,
          0.3028391167192429,
          0.2807570977917981,
          0.28289473684210525,
          0.29411764705882354,
          0.25,
          0.25650557620817843,
          0.21580547112462006,
          0.20357142857142857,
          0.21241830065359477,
          0.19536423841059603,
          0.22393822393822393,
          0.19666666666666666,
          0.2048611111111111,
          0.25157232704402516,
          0.22727272727272727,
          0.2135593220338983,
          0.21364985163204747,
          0.23699421965317918,
          0.22981366459627328,
          0.3505747126436782,
          0.38023952095808383,
          0.3641791044776119,
          0.30538922155688625,
          0.2275449101796407,
          0.22140221402214022,
          0.20987654320987653,
          0.2350597609561753,
          0.1953125,
          0.2412280701754386,
          0.19915254237288135,
          0.22268907563025211,
          0.2099236641221374,
          0.1951219512195122,
          0.19480519480519481,
          0.20425531914893616,
          0.20502092050209206,
          0.20430107526881722,
          0.20085470085470086,
          0.19747899159663865,
          0.20901639344262296,
          0.2,
          0.20318725099601595,
          0.1965065502183406,
          0.20437956204379562,
          0.20535714285714285,
          0.20425531914893616,
          0.2,
          0.1946564885496183,
          0.1947565543071161,
          0.21721311475409835,
          0.22357723577235772,
          0.1986062717770035,
          0.2719546742209632,
          0.23547400611620795,
          0.3256484149855908,
          0.40947075208913647,
          0.3250883392226148,
          0.26755852842809363,
          0.24104234527687296,
          0.32507739938080493,
          0.3184713375796178,
          0.29042904290429045,
          0.3032258064516129,
          0.3225806451612903,
          0.30612244897959184,
          0.2363013698630137,
          0.2565597667638484,
          0.26112759643916916,
          0.34185303514376997,
          0.31986531986531985,
          0.27564102564102566,
          0.31268436578171094,
          0.3949843260188088,
          0.37249283667621774,
          0.3619047619047619,
          0.27692307692307694,
          0.27976190476190477,
          0.24375,
          0.23140495867768596,
          0.26498422712933756,
          0.2755681818181818,
          0.2628398791540785,
          0.25507246376811593,
          0.2622478386167147,
          0.27794561933534745,
          0.26392961876832843,
          0.24355300859598855,
          0.2727272727272727,
          0.30057803468208094,
          0.2926829268292683,
          0.26453488372093026,
          0.27837837837837837,
          0.27647058823529413,
          0.24653739612188366,
          0.24079320113314448,
          0.30333333333333334,
          0.30498533724340177,
          0.3887147335423197,
          0.2993827160493827,
          0.3072100313479624,
          0.2601880877742947,
          0.37168141592920356,
          0.3590504451038576,
          0.27184466019417475,
          0.3108974358974359,
          0.4268292682926829,
          0.3467048710601719,
          0.3201320132013201,
          0.3867403314917127,
          0.35,
          0.29283489096573206,
          0.3508771929824561,
          0.3333333333333333,
          0.2,
          0.3333333333333333,
          0.5,
          0.5,
          0.25,
          0.25,
          0.25,
          0.27702702702702703,
          0.23550724637681159,
          0.20723684210526316,
          0.21,
          0.20408163265306123,
          0.19791666666666666,
          0.22772277227722773,
          0.21476510067114093,
          0.2014388489208633,
          0.23333333333333334,
          0.2175226586102719,
          0.20875420875420875,
          0.22435897435897437,
          0.21476510067114093,
          0.19727891156462585,
          0.24437299035369775,
          0.20279720279720279,
          0.20257234726688103,
          0.23367697594501718,
          0.21602787456445993,
          0.21835443037974683,
          0.21362229102167182,
          0.20180722891566266,
          0.19444444444444445,
          0.21241830065359477,
          0.20123839009287925,
          0.2032258064516129,
          0.20754716981132076,
          0.2332155477031802,
          0.2070063694267516,
          0.22297297297297297,
          0.23952095808383234,
          0.22330097087378642,
          0.22442244224422442,
          0.20462046204620463,
          0.21543408360128619,
          0.2354948805460751,
          0.19631901840490798,
          0.21311475409836064,
          0.21103896103896103,
          0.2033898305084746,
          0.21254355400696864,
          0.21016949152542372,
          0.24115755627009647,
          0.1986062717770035,
          0.2179930795847751,
          0.21474358974358973,
          0.21305841924398625,
          0.21052631578947367,
          0.2398753894080997,
          0.2899022801302932,
          0.41076487252124644,
          0.3624161073825503,
          0.3933333333333333,
          0.4322033898305085,
          0.4208955223880597,
          0.31699346405228757,
          0.4,
          0.3051948051948052,
          0.3684210526315789,
          0.49517684887459806,
          0.3805309734513274,
          0.350253807106599,
          0.32459016393442625,
          0.3127035830618892,
          0.3170731707317073,
          0.31290322580645163,
          0.3211920529801324,
          0.31399317406143346,
          0.2904191616766467,
          0.3575949367088608,
          0.41836734693877553,
          0.3601190476190476,
          0.43322475570032576,
          0.4375,
          0.41,
          0.45751633986928103,
          0.4262295081967213,
          0.3713355048859935,
          0.3643410852713178,
          0.3388704318936877,
          0.31475409836065577,
          0.3079710144927536,
          0.33650793650793653,
          0.3344262295081967,
          0.33663366336633666,
          0.2962962962962963,
          0.3380281690140845,
          0.3057324840764331,
          0.2867647058823529,
          0.3422818791946309,
          0.33774834437086093,
          0.439873417721519,
          0.40293040293040294,
          0.5129032258064516,
          0.3951367781155015,
          0.3920265780730897,
          0.429042904290429,
          0.37906137184115524,
          0.42363112391930835,
          0.4447852760736196,
          0.44694533762057875,
          0.4228395061728395,
          0.42342342342342343,
          0.4430379746835443,
          0.4158730158730159,
          0.45,
          0.2821576763485477,
          0.24584717607973422,
          0.30141843971631205,
          0.32950191570881227,
          0.32441471571906355,
          0.2564102564102564,
          0.2608695652173913,
          0.3176895306859206,
          0.3028391167192429,
          0.2826855123674912,
          0.2775800711743772,
          0.2847222222222222,
          0.32996632996632996,
          0.275,
          0.4629080118694362,
          0.4748427672955975,
          0.47854785478547857,
          0.43214285714285716,
          0.4336569579288026,
          0.4928571428571429,
          0.46885245901639344,
          0.4125,
          0.4529616724738676,
          0.46875,
          0.3870967741935484,
          0.3442622950819672,
          0.291497975708502,
          0.3842364532019704,
          0.3393665158371041,
          0.4740484429065744,
          0.5206896551724138,
          0.4657534246575342,
          0.45614035087719296,
          0.5361842105263158,
          0.45229681978798586,
          0.5392857142857143,
          0.3923076923076923,
          0.3754152823920266,
          0.3289036544850498,
          0.32673267326732675,
          0.42700729927007297,
          0.5487012987012987,
          0.4878048780487805,
          0.4486301369863014,
          0.5169230769230769,
          0.518796992481203,
          0.44485294117647056,
          0.5610687022900763,
          0.5640138408304498,
          0.5096525096525096,
          0.3886792452830189,
          0.4828767123287671,
          0.5439739413680782,
          0.4924924924924925,
          0.47058823529411764,
          0.5052264808362369,
          0.5396341463414634,
          0.3152542372881356,
          0.24796747967479674,
          0.26506024096385544,
          0.5350877192982456,
          0.5159235668789809,
          0.578125,
          0.5563139931740614,
          0.5522875816993464,
          0.5882352941176471,
          0.61875,
          0.5885885885885885,
          0.5936599423631124,
          0.6388059701492538,
          0.6637931034482759,
          0.4656084656084656,
          0.6982758620689655,
          0.6383442265795207,
          0.71900826446281,
          0.6473317865429234,
          0.6974789915966386,
          0.5668789808917197
         ],
         "yaxis": "y"
        }
       ],
       "layout": {
        "barmode": "relative",
        "height": 400,
        "legend": {
         "title": {
          "text": "comparative_retention"
         },
         "tracegroupgap": 0
        },
        "margin": {
         "t": 60
        },
        "template": {
         "data": {
          "bar": [
           {
            "error_x": {
             "color": "rgb(36,36,36)"
            },
            "error_y": {
             "color": "rgb(36,36,36)"
            },
            "marker": {
             "line": {
              "color": "white",
              "width": 0.5
             }
            },
            "type": "bar"
           }
          ],
          "barpolar": [
           {
            "marker": {
             "line": {
              "color": "white",
              "width": 0.5
             }
            },
            "type": "barpolar"
           }
          ],
          "carpet": [
           {
            "aaxis": {
             "endlinecolor": "rgb(36,36,36)",
             "gridcolor": "white",
             "linecolor": "white",
             "minorgridcolor": "white",
             "startlinecolor": "rgb(36,36,36)"
            },
            "baxis": {
             "endlinecolor": "rgb(36,36,36)",
             "gridcolor": "white",
             "linecolor": "white",
             "minorgridcolor": "white",
             "startlinecolor": "rgb(36,36,36)"
            },
            "type": "carpet"
           }
          ],
          "choropleth": [
           {
            "colorbar": {
             "outlinewidth": 1,
             "tickcolor": "rgb(36,36,36)",
             "ticks": "outside"
            },
            "type": "choropleth"
           }
          ],
          "contour": [
           {
            "colorbar": {
             "outlinewidth": 1,
             "tickcolor": "rgb(36,36,36)",
             "ticks": "outside"
            },
            "colorscale": [
             [
              0,
              "#440154"
             ],
             [
              0.1111111111111111,
              "#482878"
             ],
             [
              0.2222222222222222,
              "#3e4989"
             ],
             [
              0.3333333333333333,
              "#31688e"
             ],
             [
              0.4444444444444444,
              "#26828e"
             ],
             [
              0.5555555555555556,
              "#1f9e89"
             ],
             [
              0.6666666666666666,
              "#35b779"
             ],
             [
              0.7777777777777778,
              "#6ece58"
             ],
             [
              0.8888888888888888,
              "#b5de2b"
             ],
             [
              1,
              "#fde725"
             ]
            ],
            "type": "contour"
           }
          ],
          "contourcarpet": [
           {
            "colorbar": {
             "outlinewidth": 1,
             "tickcolor": "rgb(36,36,36)",
             "ticks": "outside"
            },
            "type": "contourcarpet"
           }
          ],
          "heatmap": [
           {
            "colorbar": {
             "outlinewidth": 1,
             "tickcolor": "rgb(36,36,36)",
             "ticks": "outside"
            },
            "colorscale": [
             [
              0,
              "#440154"
             ],
             [
              0.1111111111111111,
              "#482878"
             ],
             [
              0.2222222222222222,
              "#3e4989"
             ],
             [
              0.3333333333333333,
              "#31688e"
             ],
             [
              0.4444444444444444,
              "#26828e"
             ],
             [
              0.5555555555555556,
              "#1f9e89"
             ],
             [
              0.6666666666666666,
              "#35b779"
             ],
             [
              0.7777777777777778,
              "#6ece58"
             ],
             [
              0.8888888888888888,
              "#b5de2b"
             ],
             [
              1,
              "#fde725"
             ]
            ],
            "type": "heatmap"
           }
          ],
          "heatmapgl": [
           {
            "colorbar": {
             "outlinewidth": 1,
             "tickcolor": "rgb(36,36,36)",
             "ticks": "outside"
            },
            "colorscale": [
             [
              0,
              "#440154"
             ],
             [
              0.1111111111111111,
              "#482878"
             ],
             [
              0.2222222222222222,
              "#3e4989"
             ],
             [
              0.3333333333333333,
              "#31688e"
             ],
             [
              0.4444444444444444,
              "#26828e"
             ],
             [
              0.5555555555555556,
              "#1f9e89"
             ],
             [
              0.6666666666666666,
              "#35b779"
             ],
             [
              0.7777777777777778,
              "#6ece58"
             ],
             [
              0.8888888888888888,
              "#b5de2b"
             ],
             [
              1,
              "#fde725"
             ]
            ],
            "type": "heatmapgl"
           }
          ],
          "histogram": [
           {
            "marker": {
             "line": {
              "color": "white",
              "width": 0.6
             }
            },
            "type": "histogram"
           }
          ],
          "histogram2d": [
           {
            "colorbar": {
             "outlinewidth": 1,
             "tickcolor": "rgb(36,36,36)",
             "ticks": "outside"
            },
            "colorscale": [
             [
              0,
              "#440154"
             ],
             [
              0.1111111111111111,
              "#482878"
             ],
             [
              0.2222222222222222,
              "#3e4989"
             ],
             [
              0.3333333333333333,
              "#31688e"
             ],
             [
              0.4444444444444444,
              "#26828e"
             ],
             [
              0.5555555555555556,
              "#1f9e89"
             ],
             [
              0.6666666666666666,
              "#35b779"
             ],
             [
              0.7777777777777778,
              "#6ece58"
             ],
             [
              0.8888888888888888,
              "#b5de2b"
             ],
             [
              1,
              "#fde725"
             ]
            ],
            "type": "histogram2d"
           }
          ],
          "histogram2dcontour": [
           {
            "colorbar": {
             "outlinewidth": 1,
             "tickcolor": "rgb(36,36,36)",
             "ticks": "outside"
            },
            "colorscale": [
             [
              0,
              "#440154"
             ],
             [
              0.1111111111111111,
              "#482878"
             ],
             [
              0.2222222222222222,
              "#3e4989"
             ],
             [
              0.3333333333333333,
              "#31688e"
             ],
             [
              0.4444444444444444,
              "#26828e"
             ],
             [
              0.5555555555555556,
              "#1f9e89"
             ],
             [
              0.6666666666666666,
              "#35b779"
             ],
             [
              0.7777777777777778,
              "#6ece58"
             ],
             [
              0.8888888888888888,
              "#b5de2b"
             ],
             [
              1,
              "#fde725"
             ]
            ],
            "type": "histogram2dcontour"
           }
          ],
          "mesh3d": [
           {
            "colorbar": {
             "outlinewidth": 1,
             "tickcolor": "rgb(36,36,36)",
             "ticks": "outside"
            },
            "type": "mesh3d"
           }
          ],
          "parcoords": [
           {
            "line": {
             "colorbar": {
              "outlinewidth": 1,
              "tickcolor": "rgb(36,36,36)",
              "ticks": "outside"
             }
            },
            "type": "parcoords"
           }
          ],
          "pie": [
           {
            "automargin": true,
            "type": "pie"
           }
          ],
          "scatter": [
           {
            "marker": {
             "colorbar": {
              "outlinewidth": 1,
              "tickcolor": "rgb(36,36,36)",
              "ticks": "outside"
             }
            },
            "type": "scatter"
           }
          ],
          "scatter3d": [
           {
            "line": {
             "colorbar": {
              "outlinewidth": 1,
              "tickcolor": "rgb(36,36,36)",
              "ticks": "outside"
             }
            },
            "marker": {
             "colorbar": {
              "outlinewidth": 1,
              "tickcolor": "rgb(36,36,36)",
              "ticks": "outside"
             }
            },
            "type": "scatter3d"
           }
          ],
          "scattercarpet": [
           {
            "marker": {
             "colorbar": {
              "outlinewidth": 1,
              "tickcolor": "rgb(36,36,36)",
              "ticks": "outside"
             }
            },
            "type": "scattercarpet"
           }
          ],
          "scattergeo": [
           {
            "marker": {
             "colorbar": {
              "outlinewidth": 1,
              "tickcolor": "rgb(36,36,36)",
              "ticks": "outside"
             }
            },
            "type": "scattergeo"
           }
          ],
          "scattergl": [
           {
            "marker": {
             "colorbar": {
              "outlinewidth": 1,
              "tickcolor": "rgb(36,36,36)",
              "ticks": "outside"
             }
            },
            "type": "scattergl"
           }
          ],
          "scattermapbox": [
           {
            "marker": {
             "colorbar": {
              "outlinewidth": 1,
              "tickcolor": "rgb(36,36,36)",
              "ticks": "outside"
             }
            },
            "type": "scattermapbox"
           }
          ],
          "scatterpolar": [
           {
            "marker": {
             "colorbar": {
              "outlinewidth": 1,
              "tickcolor": "rgb(36,36,36)",
              "ticks": "outside"
             }
            },
            "type": "scatterpolar"
           }
          ],
          "scatterpolargl": [
           {
            "marker": {
             "colorbar": {
              "outlinewidth": 1,
              "tickcolor": "rgb(36,36,36)",
              "ticks": "outside"
             }
            },
            "type": "scatterpolargl"
           }
          ],
          "scatterternary": [
           {
            "marker": {
             "colorbar": {
              "outlinewidth": 1,
              "tickcolor": "rgb(36,36,36)",
              "ticks": "outside"
             }
            },
            "type": "scatterternary"
           }
          ],
          "surface": [
           {
            "colorbar": {
             "outlinewidth": 1,
             "tickcolor": "rgb(36,36,36)",
             "ticks": "outside"
            },
            "colorscale": [
             [
              0,
              "#440154"
             ],
             [
              0.1111111111111111,
              "#482878"
             ],
             [
              0.2222222222222222,
              "#3e4989"
             ],
             [
              0.3333333333333333,
              "#31688e"
             ],
             [
              0.4444444444444444,
              "#26828e"
             ],
             [
              0.5555555555555556,
              "#1f9e89"
             ],
             [
              0.6666666666666666,
              "#35b779"
             ],
             [
              0.7777777777777778,
              "#6ece58"
             ],
             [
              0.8888888888888888,
              "#b5de2b"
             ],
             [
              1,
              "#fde725"
             ]
            ],
            "type": "surface"
           }
          ],
          "table": [
           {
            "cells": {
             "fill": {
              "color": "rgb(237,237,237)"
             },
             "line": {
              "color": "white"
             }
            },
            "header": {
             "fill": {
              "color": "rgb(217,217,217)"
             },
             "line": {
              "color": "white"
             }
            },
            "type": "table"
           }
          ]
         },
         "layout": {
          "annotationdefaults": {
           "arrowhead": 0,
           "arrowwidth": 1
          },
          "coloraxis": {
           "colorbar": {
            "outlinewidth": 1,
            "tickcolor": "rgb(36,36,36)",
            "ticks": "outside"
           }
          },
          "colorscale": {
           "diverging": [
            [
             0,
             "rgb(103,0,31)"
            ],
            [
             0.1,
             "rgb(178,24,43)"
            ],
            [
             0.2,
             "rgb(214,96,77)"
            ],
            [
             0.3,
             "rgb(244,165,130)"
            ],
            [
             0.4,
             "rgb(253,219,199)"
            ],
            [
             0.5,
             "rgb(247,247,247)"
            ],
            [
             0.6,
             "rgb(209,229,240)"
            ],
            [
             0.7,
             "rgb(146,197,222)"
            ],
            [
             0.8,
             "rgb(67,147,195)"
            ],
            [
             0.9,
             "rgb(33,102,172)"
            ],
            [
             1,
             "rgb(5,48,97)"
            ]
           ],
           "sequential": [
            [
             0,
             "#440154"
            ],
            [
             0.1111111111111111,
             "#482878"
            ],
            [
             0.2222222222222222,
             "#3e4989"
            ],
            [
             0.3333333333333333,
             "#31688e"
            ],
            [
             0.4444444444444444,
             "#26828e"
            ],
            [
             0.5555555555555556,
             "#1f9e89"
            ],
            [
             0.6666666666666666,
             "#35b779"
            ],
            [
             0.7777777777777778,
             "#6ece58"
            ],
            [
             0.8888888888888888,
             "#b5de2b"
            ],
            [
             1,
             "#fde725"
            ]
           ],
           "sequentialminus": [
            [
             0,
             "#440154"
            ],
            [
             0.1111111111111111,
             "#482878"
            ],
            [
             0.2222222222222222,
             "#3e4989"
            ],
            [
             0.3333333333333333,
             "#31688e"
            ],
            [
             0.4444444444444444,
             "#26828e"
            ],
            [
             0.5555555555555556,
             "#1f9e89"
            ],
            [
             0.6666666666666666,
             "#35b779"
            ],
            [
             0.7777777777777778,
             "#6ece58"
            ],
            [
             0.8888888888888888,
             "#b5de2b"
            ],
            [
             1,
             "#fde725"
            ]
           ]
          },
          "colorway": [
           "#1F77B4",
           "#FF7F0E",
           "#2CA02C",
           "#D62728",
           "#9467BD",
           "#8C564B",
           "#E377C2",
           "#7F7F7F",
           "#BCBD22",
           "#17BECF"
          ],
          "font": {
           "color": "rgb(36,36,36)"
          },
          "geo": {
           "bgcolor": "white",
           "lakecolor": "white",
           "landcolor": "white",
           "showlakes": true,
           "showland": true,
           "subunitcolor": "white"
          },
          "hoverlabel": {
           "align": "left"
          },
          "hovermode": "closest",
          "mapbox": {
           "style": "light"
          },
          "paper_bgcolor": "white",
          "plot_bgcolor": "white",
          "polar": {
           "angularaxis": {
            "gridcolor": "rgb(232,232,232)",
            "linecolor": "rgb(36,36,36)",
            "showgrid": false,
            "showline": true,
            "ticks": "outside"
           },
           "bgcolor": "white",
           "radialaxis": {
            "gridcolor": "rgb(232,232,232)",
            "linecolor": "rgb(36,36,36)",
            "showgrid": false,
            "showline": true,
            "ticks": "outside"
           }
          },
          "scene": {
           "xaxis": {
            "backgroundcolor": "white",
            "gridcolor": "rgb(232,232,232)",
            "gridwidth": 2,
            "linecolor": "rgb(36,36,36)",
            "showbackground": true,
            "showgrid": false,
            "showline": true,
            "ticks": "outside",
            "zeroline": false,
            "zerolinecolor": "rgb(36,36,36)"
           },
           "yaxis": {
            "backgroundcolor": "white",
            "gridcolor": "rgb(232,232,232)",
            "gridwidth": 2,
            "linecolor": "rgb(36,36,36)",
            "showbackground": true,
            "showgrid": false,
            "showline": true,
            "ticks": "outside",
            "zeroline": false,
            "zerolinecolor": "rgb(36,36,36)"
           },
           "zaxis": {
            "backgroundcolor": "white",
            "gridcolor": "rgb(232,232,232)",
            "gridwidth": 2,
            "linecolor": "rgb(36,36,36)",
            "showbackground": true,
            "showgrid": false,
            "showline": true,
            "ticks": "outside",
            "zeroline": false,
            "zerolinecolor": "rgb(36,36,36)"
           }
          },
          "shapedefaults": {
           "fillcolor": "black",
           "line": {
            "width": 0
           },
           "opacity": 0.3
          },
          "ternary": {
           "aaxis": {
            "gridcolor": "rgb(232,232,232)",
            "linecolor": "rgb(36,36,36)",
            "showgrid": false,
            "showline": true,
            "ticks": "outside"
           },
           "baxis": {
            "gridcolor": "rgb(232,232,232)",
            "linecolor": "rgb(36,36,36)",
            "showgrid": false,
            "showline": true,
            "ticks": "outside"
           },
           "bgcolor": "white",
           "caxis": {
            "gridcolor": "rgb(232,232,232)",
            "linecolor": "rgb(36,36,36)",
            "showgrid": false,
            "showline": true,
            "ticks": "outside"
           }
          },
          "title": {
           "x": 0.05
          },
          "xaxis": {
           "automargin": true,
           "gridcolor": "rgb(232,232,232)",
           "linecolor": "rgb(36,36,36)",
           "showgrid": false,
           "showline": true,
           "ticks": "outside",
           "title": {
            "standoff": 15
           },
           "zeroline": false,
           "zerolinecolor": "rgb(36,36,36)"
          },
          "yaxis": {
           "automargin": true,
           "gridcolor": "rgb(232,232,232)",
           "linecolor": "rgb(36,36,36)",
           "showgrid": false,
           "showline": true,
           "ticks": "outside",
           "title": {
            "standoff": 15
           },
           "zeroline": false,
           "zerolinecolor": "rgb(36,36,36)"
          }
         }
        },
        "width": 1000,
        "xaxis": {
         "anchor": "y",
         "domain": [
          0,
          1
         ],
         "title": {
          "text": "group1024"
         }
        },
        "yaxis": {
         "anchor": "x",
         "domain": [
          0,
          1
         ],
         "title": {
          "text": "retention_yr1"
         }
        }
       }
      },
      "text/html": [
       "<div>\n",
       "        \n",
       "        \n",
       "            <div id=\"5901ed1d-50ac-4acb-80fc-e660cc40c8a1\" class=\"plotly-graph-div\" style=\"height:400px; width:1000px;\"></div>\n",
       "            <script type=\"text/javascript\">\n",
       "                require([\"plotly\"], function(Plotly) {\n",
       "                    window.PLOTLYENV=window.PLOTLYENV || {};\n",
       "                    \n",
       "                if (document.getElementById(\"5901ed1d-50ac-4acb-80fc-e660cc40c8a1\")) {\n",
       "                    Plotly.newPlot(\n",
       "                        '5901ed1d-50ac-4acb-80fc-e660cc40c8a1',\n",
       "                        [{\"alignmentgroup\": \"True\", \"customdata\": [[\"0.4 - 1.0\"], [\"1.0 - 1.0\"], [\"1.0 - 1.0\"], [\"1.0 - 1.0\"], [\"1.0 - 1.0\"], [\"1.0 - 1.0\"], [\"1.0 - 1.0\"], [\"1.0 - 2.0\"], [\"2.0 - 2.0\"], [\"2.0 - 3.0\"], [\"3.0 - 4.0\"], [\"4.0 - 5.0\"], [\"5.0 - 5.0\"], [\"5.0 - 5.0\"], [\"5.0 - 5.0\"], [\"5.0 - 5.0\"], [\"5.0 - 5.0\"], [\"5.0 - 5.0\"], [\"5.0 - 5.0\"], [\"5.0 - 5.0\"], [\"5.0 - 5.0\"], [\"5.0 - 5.0\"], [\"5.0 - 5.0\"], [\"5.0 - 5.0\"], [\"5.0 - 5.0\"], [\"5.0 - 5.0\"], [\"5.0 - 5.0\"], [\"7.0 - 9.3\"], [\"9.31 - 10.0\"], [\"10.0 - 10.0\"], [\"10.0 - 10.0\"], [\"10.0 - 10.0\"], [\"10.0 - 10.0\"], [\"10.0 - 10.0\"], [\"10.0 - 10.0\"], [\"10.0 - 10.0\"], [\"10.0 - 10.0\"], [\"10.0 - 10.0\"], [\"10.0 - 10.0\"], [\"10.0 - 10.0\"], [\"10.0 - 10.0\"], [\"10.0 - 10.0\"], [\"10.0 - 10.0\"], [\"10.0 - 10.0\"], [\"10.0 - 10.0\"], [\"10.0 - 10.0\"], [\"10.0 - 10.0\"], [\"10.0 - 10.0\"], [\"10.0 - 10.0\"], [\"10.0 - 10.0\"], [\"10.0 - 10.0\"], [\"10.0 - 10.0\"], [\"10.0 - 10.0\"], [\"10.0 - 10.0\"], [\"10.0 - 10.0\"], [\"10.0 - 10.0\"], [\"10.0 - 10.0\"], [\"10.0 - 10.0\"], [\"10.0 - 10.0\"], [\"10.0 - 10.0\"], [\"10.0 - 10.0\"], [\"10.0 - 10.0\"], [\"10.0 - 10.0\"], [\"10.0 - 10.0\"], [\"10.0 - 10.0\"], [\"10.0 - 10.0\"], [\"10.0 - 10.0\"], [\"10.0 - 10.0\"], [\"10.0 - 10.0\"], [\"10.0 - 10.0\"], [\"10.0 - 10.0\"], [\"10.0 - 10.0\"], [\"10.0 - 10.0\"], [\"10.0 - 10.0\"], [\"10.0 - 10.0\"], [\"10.0 - 10.0\"], [\"10.0 - 10.0\"], [\"10.0 - 10.0\"], [\"10.0 - 10.0\"], [\"10.0 - 10.0\"], [\"10.0 - 10.0\"], [\"10.0 - 10.0\"], [\"10.0 - 10.0\"], [\"10.0 - 10.0\"], [\"10.0 - 10.0\"], [\"10.0 - 10.0\"], [\"10.0 - 10.0\"], [\"10.0 - 10.0\"], [\"10.0 - 10.0\"], [\"10.0 - 10.0\"], [\"10.0 - 10.0\"], [\"10.0 - 10.0\"], [\"10.0 - 10.0\"], [\"10.0 - 10.0\"], [\"10.0 - 10.0\"], [\"10.0 - 10.0\"], [\"10.0 - 10.0\"], [\"10.0 - 10.0\"], [\"10.0 - 10.0\"], [\"10.0 - 10.0\"], [\"10.0 - 10.0\"], [\"10.0 - 10.0\"], [\"10.0 - 10.0\"], [\"10.0 - 10.0\"], [\"10.0 - 10.0\"], [\"10.0 - 10.0\"], [\"10.0 - 10.0\"], [\"10.0 - 10.0\"], [\"10.0 - 10.0\"], [\"10.0 - 10.0\"], [\"10.0 - 10.0\"], [\"10.0 - 10.0\"], [\"10.0 - 10.0\"], [\"10.0 - 10.0\"], [\"10.0 - 10.0\"], [\"10.0 - 10.0\"], [\"10.0 - 12.0\"], [\"13.12 - 15.0\"], [\"15.0 - 15.0\"], [\"15.0 - 15.0\"], [\"15.0 - 15.0\"], [\"15.0 - 15.0\"], [\"15.0 - 15.0\"], [\"15.0 - 15.0\"], [\"15.0 - 15.0\"], [\"15.0 - 15.0\"], [\"15.0 - 15.0\"], [\"15.0 - 15.0\"], [\"15.0 - 15.0\"], [\"15.0 - 15.0\"], [\"15.0 - 15.0\"], [\"15.0 - 15.0\"], [\"15.0 - 15.0\"], [\"15.0 - 15.75\"], [\"17.36 - 18.0\"], [\"18.0 - 20.0\"], [\"20.0 - 20.0\"], [\"20.0 - 20.0\"], [\"20.0 - 20.0\"], [\"20.0 - 20.0\"], [\"20.0 - 20.0\"], [\"20.0 - 20.0\"], [\"20.0 - 20.0\"], [\"20.0 - 20.0\"], [\"20.0 - 20.0\"], [\"20.0 - 20.0\"], [\"20.0 - 20.0\"], [\"20.0 - 20.0\"], [\"20.0 - 20.0\"], [\"20.0 - 20.0\"], [\"20.0 - 20.0\"], [\"20.0 - 20.0\"], [\"20.0 - 20.0\"], [\"20.0 - 20.0\"], [\"20.0 - 20.0\"], [\"20.0 - 20.0\"], [\"20.0 - 20.0\"], [\"20.0 - 20.0\"], [\"20.0 - 20.0\"], [\"20.0 - 20.0\"], [\"20.0 - 20.0\"], [\"20.0 - 20.0\"], [\"20.0 - 20.0\"], [\"20.0 - 20.0\"], [\"20.0 - 20.0\"], [\"20.0 - 20.0\"], [\"20.0 - 20.0\"], [\"20.0 - 20.0\"], [\"20.0 - 20.0\"], [\"20.0 - 20.0\"], [\"20.0 - 20.0\"], [\"20.0 - 20.0\"], [\"20.0 - 20.0\"], [\"20.0 - 20.0\"], [\"20.0 - 20.0\"], [\"20.0 - 20.0\"], [\"20.0 - 20.0\"], [\"20.0 - 20.0\"], [\"20.0 - 20.0\"], [\"20.0 - 20.0\"], [\"20.0 - 20.0\"], [\"20.0 - 20.0\"], [\"20.0 - 20.0\"], [\"20.0 - 20.0\"], [\"20.0 - 20.0\"], [\"20.0 - 20.0\"], [\"20.0 - 20.0\"], [\"20.0 - 20.0\"], [\"20.0 - 20.0\"], [\"20.0 - 20.0\"], [\"20.0 - 20.0\"], [\"20.0 - 20.0\"], [\"20.0 - 20.0\"], [\"20.0 - 20.0\"], [\"20.0 - 20.0\"], [\"20.0 - 20.0\"], [\"20.0 - 20.0\"], [\"20.0 - 20.0\"], [\"20.0 - 20.0\"], [\"20.0 - 20.0\"], [\"20.0 - 20.0\"], [\"20.0 - 20.0\"], [\"20.0 - 20.0\"], [\"20.0 - 20.0\"], [\"20.0 - 20.0\"], [\"20.0 - 20.0\"], [\"20.0 - 21.0\"], [\"21.0 - 22.0\"], [\"25.0 - 25.0\"], [\"25.0 - 25.0\"], [\"25.0 - 25.0\"], [\"25.0 - 25.0\"], [\"25.0 - 25.0\"], [\"25.0 - 25.0\"], [\"25.0 - 25.0\"], [\"25.0 - 25.0\"], [\"25.0 - 25.0\"], [\"25.0 - 25.0\"], [\"25.0 - 25.0\"], [\"25.0 - 25.0\"], [\"25.0 - 25.0\"], [\"25.0 - 25.0\"], [\"25.0 - 25.0\"], [\"25.0 - 25.0\"], [\"25.0 - 25.0\"], [\"25.0 - 25.0\"], [\"25.0 - 25.0\"], [\"25.0 - 25.0\"], [\"25.0 - 25.0\"], [\"25.0 - 25.0\"], [\"25.0 - 25.0\"], [\"25.0 - 25.0\"], [\"25.0 - 25.0\"], [\"25.0 - 25.0\"], [\"25.0 - 25.0\"], [\"25.0 - 25.0\"], [\"25.0 - 25.0\"], [\"25.0 - 25.0\"], [\"25.0 - 25.0\"], [\"25.0 - 25.0\"], [\"25.0 - 25.0\"], [\"25.0 - 25.0\"], [\"25.0 - 25.0\"], [\"25.0 - 25.0\"], [\"25.0 - 25.0\"], [\"25.0 - 25.0\"], [\"25.0 - 25.0\"], [\"25.0 - 25.0\"], [\"25.0 - 25.0\"], [\"25.0 - 25.0\"], [\"25.0 - 25.0\"], [\"25.0 - 25.0\"], [\"25.0 - 25.0\"], [\"25.0 - 25.0\"], [\"25.0 - 25.0\"], [\"25.0 - 25.0\"], [\"25.0 - 25.0\"], [\"25.0 - 25.0\"], [\"25.0 - 25.0\"], [\"25.0 - 25.0\"], [\"25.0 - 25.0\"], [\"25.0 - 25.0\"], [\"25.0 - 25.0\"], [\"25.0 - 25.0\"], [\"25.0 - 25.0\"], [\"25.0 - 25.0\"], [\"25.0 - 25.0\"], [\"25.0 - 25.0\"], [\"25.0 - 25.0\"], [\"25.0 - 25.0\"], [\"25.0 - 25.0\"], [\"25.0 - 25.0\"], [\"25.0 - 25.0\"], [\"25.0 - 25.0\"], [\"25.0 - 25.0\"], [\"25.0 - 25.0\"], [\"25.0 - 25.0\"], [\"25.0 - 25.0\"], [\"25.0 - 25.0\"], [\"25.0 - 25.0\"], [\"25.0 - 25.0\"], [\"25.0 - 25.0\"], [\"25.0 - 25.0\"], [\"25.0 - 25.0\"], [\"25.0 - 25.0\"], [\"25.0 - 25.0\"], [\"25.0 - 25.0\"], [\"25.0 - 25.0\"], [\"25.0 - 25.0\"], [\"25.0 - 25.0\"], [\"25.0 - 25.0\"], [\"25.0 - 25.0\"], [\"25.0 - 25.0\"], [\"25.0 - 25.0\"], [\"25.0 - 25.0\"], [\"25.0 - 25.0\"], [\"25.0 - 25.0\"], [\"25.0 - 25.0\"], [\"25.0 - 25.0\"], [\"25.0 - 25.0\"], [\"25.0 - 25.0\"], [\"25.0 - 25.0\"], [\"25.0 - 25.0\"], [\"25.0 - 25.0\"], [\"25.0 - 25.0\"], [\"25.0 - 25.0\"], [\"25.0 - 25.0\"], [\"25.0 - 25.0\"], [\"25.0 - 25.0\"], [\"25.0 - 25.0\"], [\"25.0 - 25.0\"], [\"25.0 - 25.0\"], [\"25.0 - 25.0\"], [\"25.0 - 25.0\"], [\"25.0 - 25.0\"], [\"25.0 - 25.0\"], [\"25.0 - 25.0\"], [\"25.0 - 25.0\"], [\"25.0 - 25.0\"], [\"25.0 - 25.0\"], [\"25.0 - 25.0\"], [\"25.0 - 25.0\"], [\"25.0 - 25.0\"], [\"25.0 - 25.0\"], [\"25.0 - 25.0\"], [\"25.0 - 25.0\"], [\"25.0 - 25.0\"], [\"25.0 - 25.0\"], [\"25.0 - 25.0\"], [\"25.0 - 25.0\"], [\"25.0 - 25.0\"], [\"25.0 - 25.0\"], [\"25.0 - 25.0\"], [\"25.0 - 25.0\"], [\"25.0 - 25.0\"], [\"25.0 - 25.0\"], [\"25.0 - 25.0\"], [\"25.0 - 25.0\"], [\"25.0 - 25.0\"], [\"25.0 - 25.0\"], [\"25.0 - 25.0\"], [\"25.0 - 25.0\"], [\"25.0 - 25.0\"], [\"25.0 - 25.0\"], [\"25.0 - 25.0\"], [\"25.0 - 25.0\"], [\"25.0 - 25.0\"], [\"25.0 - 25.0\"], [\"25.0 - 25.0\"], [\"25.0 - 25.0\"], [\"25.0 - 25.0\"], [\"25.0 - 25.0\"], [\"25.0 - 25.0\"], [\"25.0 - 25.0\"], [\"25.0 - 25.0\"], [\"25.0 - 25.0\"], [\"25.0 - 25.0\"], [\"25.0 - 25.0\"], [\"25.0 - 25.0\"], [\"25.0 - 25.0\"], [\"25.0 - 25.0\"], [\"25.0 - 25.0\"], [\"25.0 - 25.0\"], [\"25.0 - 25.0\"], [\"25.0 - 25.0\"], [\"25.0 - 25.0\"], [\"25.0 - 25.0\"], [\"25.0 - 25.0\"], [\"25.0 - 25.0\"], [\"25.0 - 25.0\"], [\"25.0 - 25.0\"], [\"25.0 - 25.0\"], [\"25.0 - 25.0\"], [\"25.0 - 25.0\"], [\"25.0 - 25.0\"], [\"25.0 - 25.0\"], [\"25.0 - 25.0\"], [\"25.0 - 25.0\"], [\"25.0 - 25.0\"], [\"25.0 - 25.0\"], [\"25.0 - 25.0\"], [\"25.0 - 25.0\"], [\"25.0 - 25.0\"], [\"25.0 - 25.0\"], [\"25.0 - 25.0\"], [\"25.0 - 25.0\"], [\"25.0 - 25.0\"], [\"25.0 - 25.0\"], [\"25.0 - 25.0\"], [\"25.0 - 25.0\"], [\"25.0 - 25.0\"], [\"25.0 - 25.0\"], [\"25.0 - 25.0\"], [\"25.0 - 25.0\"], [\"25.0 - 25.0\"], [\"25.0 - 25.0\"], [\"25.0 - 25.0\"], [\"25.0 - 25.0\"], [\"25.0 - 25.0\"], [\"25.0 - 25.0\"], [\"25.0 - 25.0\"], [\"25.0 - 25.0\"], [\"25.0 - 25.0\"], [\"25.0 - 25.0\"], [\"25.0 - 25.0\"], [\"25.0 - 25.0\"], [\"25.0 - 25.0\"], [\"25.0 - 25.0\"], [\"25.0 - 25.0\"], [\"25.0 - 25.0\"], [\"25.0 - 25.0\"], [\"25.0 - 25.0\"], [\"25.0 - 25.0\"], [\"25.0 - 25.0\"], [\"25.0 - 25.0\"], [\"25.0 - 25.0\"], [\"25.0 - 25.0\"], [\"25.0 - 25.0\"], [\"25.0 - 25.0\"], [\"25.0 - 25.0\"], [\"25.0 - 25.0\"], [\"25.0 - 25.0\"], [\"25.0 - 25.0\"], [\"25.0 - 25.0\"], [\"25.0 - 25.0\"], [\"25.0 - 25.0\"], [\"25.0 - 25.0\"], [\"25.0 - 25.0\"], [\"25.0 - 25.0\"], [\"25.0 - 25.0\"], [\"25.0 - 25.0\"], [\"25.0 - 25.0\"], [\"25.0 - 25.0\"], [\"25.0 - 25.0\"], [\"25.0 - 25.0\"], [\"25.0 - 25.0\"], [\"25.0 - 25.0\"], [\"25.0 - 25.0\"], [\"25.0 - 25.0\"], [\"25.0 - 25.0\"], [\"25.0 - 25.0\"], [\"25.0 - 25.0\"], [\"30.0 - 30.0\"], [\"30.0 - 30.0\"], [\"30.0 - 30.0\"], [\"30.0 - 30.0\"], [\"35.99 - 36.34\"], [\"40.0 - 40.0\"], [\"40.0 - 40.0\"], [\"40.0 - 40.0\"], [\"40.0 - 40.0\"], [\"40.0 - 40.0\"], [\"40.0 - 40.0\"], [\"40.0 - 40.0\"], [\"45.35 - 47.0\"], [\"48.45 - 49.62\"], [\"49.64 - 50.0\"], [\"50.0 - 50.0\"], [\"50.0 - 50.0\"], [\"50.0 - 50.0\"], [\"50.0 - 50.0\"], [\"50.0 - 50.0\"], [\"50.0 - 50.0\"], [\"50.0 - 50.0\"], [\"50.0 - 50.0\"], [\"50.0 - 50.0\"], [\"50.0 - 50.0\"], [\"50.0 - 50.0\"], [\"50.0 - 50.0\"], [\"50.0 - 50.0\"], [\"50.0 - 50.0\"], [\"50.0 - 50.0\"], [\"50.0 - 50.0\"], [\"50.0 - 50.0\"], [\"50.0 - 50.0\"], [\"50.0 - 50.0\"], [\"50.0 - 50.0\"], [\"50.0 - 50.0\"], [\"50.0 - 50.0\"], [\"50.0 - 50.0\"], [\"50.0 - 50.0\"], [\"50.0 - 50.0\"], [\"50.0 - 50.0\"], [\"50.0 - 50.0\"], [\"50.0 - 50.0\"], [\"50.0 - 50.0\"], [\"50.0 - 50.0\"], [\"50.0 - 50.0\"], [\"50.0 - 50.0\"], [\"50.0 - 50.0\"], [\"50.0 - 50.0\"], [\"50.0 - 50.0\"], [\"50.0 - 50.0\"], [\"50.0 - 50.0\"], [\"50.0 - 50.0\"], [\"50.0 - 50.0\"], [\"50.0 - 50.0\"], [\"50.0 - 50.0\"], [\"50.0 - 50.0\"], [\"50.0 - 50.0\"], [\"50.0 - 50.0\"], [\"50.0 - 50.0\"], [\"50.0 - 50.0\"], [\"50.0 - 50.0\"], [\"50.0 - 50.0\"], [\"50.0 - 50.0\"], [\"50.0 - 50.0\"], [\"50.0 - 50.0\"], [\"50.0 - 50.0\"], [\"50.0 - 50.0\"], [\"50.0 - 50.0\"], [\"50.0 - 50.0\"], [\"50.0 - 50.0\"], [\"50.0 - 50.0\"], [\"50.0 - 50.0\"], [\"50.0 - 50.0\"], [\"50.0 - 50.0\"], [\"50.0 - 50.0\"], [\"50.0 - 50.0\"], [\"50.0 - 50.0\"], [\"50.0 - 50.0\"], [\"50.0 - 50.0\"], [\"50.0 - 50.0\"], [\"50.0 - 50.0\"], [\"50.0 - 50.0\"], [\"50.0 - 50.0\"], [\"50.0 - 50.0\"], [\"50.0 - 50.0\"], [\"50.0 - 50.0\"], [\"50.0 - 50.0\"], [\"50.0 - 50.0\"], [\"50.0 - 50.0\"], [\"50.0 - 50.0\"], [\"50.0 - 50.0\"], [\"50.0 - 50.0\"], [\"50.0 - 50.0\"], [\"50.0 - 50.0\"], [\"50.0 - 50.0\"], [\"50.0 - 50.0\"], [\"50.0 - 50.0\"], [\"50.0 - 50.0\"], [\"50.0 - 50.0\"], [\"50.0 - 50.0\"], [\"50.0 - 50.0\"], [\"50.0 - 50.0\"], [\"50.0 - 50.0\"], [\"50.0 - 50.0\"], [\"50.0 - 50.0\"], [\"50.0 - 50.0\"], [\"50.0 - 50.0\"], [\"50.0 - 50.0\"], [\"50.0 - 50.0\"], [\"50.0 - 50.0\"], [\"50.0 - 50.0\"], [\"50.0 - 50.0\"], [\"50.0 - 50.0\"], [\"50.0 - 50.0\"], [\"50.0 - 50.0\"], [\"50.0 - 50.0\"], [\"50.0 - 50.0\"], [\"50.0 - 50.0\"], [\"50.0 - 50.0\"], [\"50.0 - 50.0\"], [\"50.0 - 50.0\"], [\"50.0 - 50.0\"], [\"50.0 - 50.0\"], [\"50.0 - 50.0\"], [\"50.0 - 50.0\"], [\"50.0 - 50.0\"], [\"50.0 - 50.0\"], [\"50.0 - 50.0\"], [\"50.0 - 50.0\"], [\"50.0 - 50.0\"], [\"50.0 - 50.0\"], [\"50.0 - 50.0\"], [\"50.0 - 50.0\"], [\"50.0 - 50.0\"], [\"50.0 - 50.0\"], [\"50.0 - 50.0\"], [\"50.0 - 50.0\"], [\"50.0 - 50.0\"], [\"50.0 - 50.0\"], [\"50.0 - 50.0\"], [\"50.0 - 50.0\"], [\"50.0 - 50.0\"], [\"50.0 - 50.0\"], [\"50.0 - 50.0\"], [\"50.0 - 50.0\"], [\"50.0 - 50.0\"], [\"50.0 - 50.0\"], [\"50.0 - 50.0\"], [\"50.0 - 50.0\"], [\"50.0 - 50.0\"], [\"50.0 - 50.0\"], [\"50.0 - 50.0\"], [\"50.0 - 50.0\"], [\"50.0 - 50.0\"], [\"50.0 - 50.0\"], [\"50.0 - 50.0\"], [\"50.0 - 50.0\"], [\"50.0 - 50.0\"], [\"50.0 - 50.0\"], [\"50.0 - 50.0\"], [\"50.0 - 50.0\"], [\"50.0 - 50.0\"], [\"50.0 - 50.0\"], [\"50.0 - 50.0\"], [\"50.0 - 50.0\"], [\"50.0 - 50.0\"], [\"50.0 - 50.0\"], [\"50.0 - 50.0\"], [\"50.0 - 50.0\"], [\"50.0 - 50.0\"], [\"50.0 - 50.0\"], [\"50.0 - 50.0\"], [\"50.0 - 50.0\"], [\"50.0 - 50.0\"], [\"50.0 - 50.0\"], [\"50.0 - 50.0\"], [\"50.0 - 50.0\"], [\"50.0 - 50.0\"], [\"50.0 - 50.0\"], [\"50.0 - 50.0\"], [\"50.0 - 50.0\"], [\"50.0 - 50.0\"], [\"50.0 - 50.0\"], [\"50.0 - 50.0\"], [\"50.0 - 50.0\"], [\"50.0 - 50.0\"], [\"50.0 - 50.0\"], [\"50.0 - 50.0\"], [\"50.0 - 50.0\"], [\"50.0 - 50.0\"], [\"50.0 - 50.0\"], [\"50.0 - 50.0\"], [\"50.0 - 50.0\"], [\"50.0 - 50.0\"], [\"50.0 - 50.0\"], [\"50.0 - 50.0\"], [\"99.0 - 99.0\"], [\"99.0 - 99.0\"], [\"99.0 - 99.0\"], [\"99.0 - 99.0\"], [\"100.0 - 100.0\"], [\"100.0 - 100.0\"], [\"100.0 - 100.0\"], [\"100.0 - 100.0\"], [\"100.0 - 100.0\"], [\"100.0 - 100.0\"], [\"100.0 - 100.0\"], [\"100.0 - 100.0\"], [\"100.0 - 100.0\"], [\"100.0 - 100.0\"], [\"100.0 - 100.0\"], [\"100.0 - 100.0\"], [\"100.0 - 100.0\"], [\"100.0 - 100.0\"], [\"100.0 - 100.0\"], [\"100.0 - 100.0\"], [\"100.0 - 100.0\"], [\"100.0 - 100.0\"], [\"100.0 - 100.0\"], [\"100.0 - 100.0\"], [\"100.0 - 100.0\"], [\"100.0 - 100.0\"], [\"100.0 - 100.0\"], [\"100.0 - 100.0\"], [\"100.0 - 100.0\"], [\"100.0 - 100.0\"], [\"100.0 - 100.0\"], [\"100.0 - 100.0\"], [\"100.0 - 100.0\"], [\"100.0 - 100.0\"], [\"100.0 - 100.0\"], [\"100.0 - 100.0\"], [\"100.0 - 100.0\"], [\"100.0 - 100.0\"], [\"100.0 - 100.0\"], [\"100.0 - 100.0\"], [\"100.0 - 100.0\"], [\"100.0 - 100.0\"], [\"100.0 - 100.0\"], [\"100.0 - 100.0\"], [\"100.0 - 100.0\"], [\"100.0 - 100.0\"], [\"100.0 - 100.0\"]], \"hovertemplate\": \"comparative_retention=lower<br>group1024=%{x}<br>retention_yr1=%{y}<br>group_range=%{customdata[0]}<extra></extra>\", \"legendgroup\": \"lower\", \"marker\": {\"color\": \"#1F77B4\"}, \"name\": \"lower\", \"offsetgroup\": \"lower\", \"orientation\": \"v\", \"showlegend\": true, \"textposition\": \"auto\", \"type\": \"bar\", \"x\": [0, 1, 2, 3, 4, 5, 6, 7, 8, 9, 10, 11, 12, 13, 14, 15, 16, 17, 18, 19, 20, 21, 22, 23, 24, 25, 26, 28, 29, 30, 31, 32, 33, 34, 35, 36, 37, 38, 39, 40, 41, 42, 43, 44, 45, 46, 47, 48, 49, 50, 51, 52, 53, 54, 55, 56, 57, 58, 59, 60, 61, 62, 63, 64, 65, 66, 67, 68, 69, 70, 71, 72, 73, 74, 75, 76, 77, 78, 79, 80, 81, 82, 83, 84, 85, 86, 87, 88, 89, 90, 91, 92, 93, 94, 95, 96, 97, 98, 99, 100, 101, 102, 103, 104, 105, 106, 107, 108, 109, 110, 111, 112, 113, 114, 115, 116, 117, 119, 120, 121, 122, 123, 124, 125, 126, 127, 128, 129, 130, 131, 133, 134, 135, 136, 138, 139, 140, 141, 142, 143, 144, 145, 146, 147, 148, 149, 150, 151, 152, 153, 154, 155, 156, 157, 158, 159, 160, 161, 162, 163, 164, 165, 166, 167, 168, 169, 170, 171, 172, 173, 174, 175, 176, 177, 178, 179, 180, 181, 182, 183, 184, 185, 186, 187, 188, 189, 190, 191, 192, 193, 194, 195, 196, 197, 198, 199, 200, 201, 202, 203, 204, 205, 206, 207, 208, 209, 210, 211, 214, 215, 216, 217, 218, 219, 220, 221, 222, 223, 224, 225, 226, 227, 228, 229, 230, 231, 232, 233, 234, 235, 236, 237, 238, 239, 240, 241, 242, 243, 244, 245, 246, 247, 248, 249, 250, 251, 252, 253, 254, 255, 256, 257, 258, 259, 260, 261, 262, 263, 264, 265, 266, 267, 268, 269, 270, 271, 272, 273, 274, 275, 276, 277, 278, 279, 280, 281, 282, 283, 284, 285, 286, 287, 288, 289, 290, 291, 292, 293, 294, 295, 296, 297, 298, 299, 300, 301, 302, 303, 304, 305, 306, 307, 308, 309, 310, 311, 312, 313, 314, 315, 316, 317, 318, 319, 320, 321, 322, 323, 324, 325, 326, 327, 328, 329, 330, 331, 332, 333, 334, 335, 336, 337, 338, 339, 340, 341, 342, 343, 344, 345, 347, 348, 349, 350, 351, 352, 353, 354, 355, 356, 357, 358, 359, 360, 361, 362, 363, 364, 365, 366, 367, 368, 369, 370, 371, 372, 373, 374, 375, 376, 377, 378, 379, 380, 381, 382, 383, 384, 385, 386, 387, 388, 390, 391, 392, 393, 394, 395, 396, 397, 398, 399, 400, 401, 402, 403, 404, 405, 406, 407, 408, 409, 410, 411, 412, 413, 414, 415, 416, 417, 418, 419, 420, 421, 422, 423, 424, 425, 426, 427, 428, 430, 431, 432, 433, 434, 436, 437, 439, 440, 441, 442, 443, 444, 445, 446, 447, 448, 449, 450, 451, 452, 459, 462, 463, 465, 485, 489, 490, 492, 497, 499, 501, 502, 510, 512, 513, 514, 515, 516, 517, 518, 519, 520, 522, 523, 524, 525, 526, 527, 528, 529, 530, 531, 532, 533, 534, 535, 536, 537, 538, 539, 540, 541, 542, 543, 544, 545, 546, 548, 549, 550, 551, 552, 553, 554, 555, 557, 558, 559, 560, 561, 562, 563, 565, 566, 567, 569, 570, 572, 575, 576, 577, 579, 580, 581, 582, 583, 584, 586, 587, 588, 589, 590, 591, 592, 594, 596, 597, 598, 599, 600, 601, 602, 603, 604, 605, 606, 607, 608, 609, 610, 611, 612, 613, 614, 615, 617, 618, 619, 621, 623, 624, 625, 627, 630, 631, 632, 633, 635, 636, 637, 638, 639, 640, 641, 642, 643, 644, 645, 647, 648, 650, 651, 652, 653, 654, 655, 656, 657, 658, 659, 660, 661, 662, 663, 664, 665, 666, 667, 668, 669, 670, 671, 672, 673, 674, 675, 676, 677, 679, 681, 682, 683, 684, 685, 686, 687, 689, 690, 691, 692, 693, 694, 695, 696, 697, 698, 700, 701, 702, 703, 704, 705, 706, 707, 708, 709, 710, 711, 712, 713, 714, 715, 716, 717, 718, 720, 721, 785, 788, 791, 794, 800, 801, 805, 806, 808, 812, 813, 815, 816, 817, 819, 820, 823, 824, 825, 826, 827, 828, 829, 830, 835, 836, 838, 839, 842, 846, 847, 848, 853, 854, 855, 856, 861, 862, 863, 868, 874, 875, 877, 878, 883, 885, 886], \"xaxis\": \"x\", \"y\": [0.037065052950075644, 0.043668122270742356, 0.04215976331360947, 0.0364963503649635, 0.03237951807228916, 0.04399701715137957, 0.04373610081541883, 0.0879848628192999, 0.099581589958159, 0.10727969348659004, 0.15268817204301074, 0.13075506445672191, 0.08395061728395062, 0.085, 0.10628019323671498, 0.08788598574821853, 0.10591133004926108, 0.0654911838790932, 0.08152173913043478, 0.09536784741144415, 0.10789473684210527, 0.09367088607594937, 0.08533333333333333, 0.08095238095238096, 0.11450381679389313, 0.08463251670378619, 0.10144927536231885, 0.19376391982182628, 0.15920398009950248, 0.14221218961625282, 0.1111111111111111, 0.1550561797752809, 0.11868686868686869, 0.12589073634204276, 0.10158013544018059, 0.12735849056603774, 0.13701923076923078, 0.11961722488038277, 0.11951219512195121, 0.11298076923076923, 0.13978494623655913, 0.12009237875288684, 0.1111111111111111, 0.1232876712328767, 0.09798994974874371, 0.14081145584725538, 0.09798994974874371, 0.1, 0.09813084112149532, 0.09567198177676538, 0.116331096196868, 0.1362530413625304, 0.13624678663239073, 0.12727272727272726, 0.10677083333333333, 0.1261904761904762, 0.14251781472684086, 0.1015625, 0.10047846889952153, 0.09280742459396751, 0.12177985948477751, 0.1336405529953917, 0.12285012285012285, 0.09178743961352658, 0.16058394160583941, 0.12165450121654502, 0.13012048192771083, 0.10835214446952596, 0.1065989847715736, 0.10392609699769054, 0.1353211009174312, 0.10772833723653395, 0.12751677852348994, 0.13908872901678657, 0.12135922330097088, 0.11816192560175055, 0.10978520286396182, 0.12387387387387387, 0.12682926829268293, 0.14153132250580047, 0.11395348837209303, 0.12709832134292565, 0.10401891252955082, 0.14084507042253522, 0.14527845036319612, 0.12589073634204276, 0.12408759124087591, 0.12300683371298406, 0.11441647597254005, 0.13707865168539327, 0.1348314606741573, 0.1318407960199005, 0.13411764705882354, 0.1366906474820144, 0.11270983213429256, 0.10268948655256724, 0.12646370023419204, 0.10843373493975904, 0.141439205955335, 0.11711711711711711, 0.13592233009708737, 0.12176165803108809, 0.12555066079295155, 0.1625, 0.1377672209026128, 0.11611374407582939, 0.12831858407079647, 0.1345707656612529, 0.13043478260869565, 0.10904872389791183, 0.1211453744493392, 0.145, 0.14527845036319612, 0.09803921568627451, 0.12093023255813953, 0.11682242990654206, 0.18112244897959184, 0.16816816816816818, 0.1556420233463035, 0.1762295081967213, 0.1409090909090909, 0.15948275862068967, 0.17842323651452283, 0.1623931623931624, 0.11946902654867257, 0.1276595744680851, 0.18614718614718614, 0.12133891213389121, 0.18181818181818182, 0.17333333333333334, 0.16044776119402984, 0.16019417475728157, 0.15352697095435686, 0.16541353383458646, 0.1746987951807229, 0.12652068126520682, 0.08089887640449438, 0.11387163561076605, 0.10981308411214953, 0.11258278145695365, 0.09557109557109557, 0.08296943231441048, 0.09263657957244656, 0.11395348837209303, 0.11711711711711711, 0.09954751131221719, 0.1111111111111111, 0.09785202863961814, 0.11888111888111888, 0.10786516853932585, 0.091324200913242, 0.09767441860465116, 0.09174311926605505, 0.09480812641083522, 0.10897435897435898, 0.08941176470588236, 0.14692982456140352, 0.11013215859030837, 0.09569377990430622, 0.08705357142857142, 0.10158013544018059, 0.1038135593220339, 0.11670480549199085, 0.06888888888888889, 0.10638297872340426, 0.11235955056179775, 0.07991360691144708, 0.12633832976445397, 0.0867579908675799, 0.11279826464208242, 0.09401709401709402, 0.11512415349887133, 0.07506053268765134, 0.13769751693002258, 0.11685393258426967, 0.10638297872340426, 0.097799511002445, 0.11358024691358025, 0.14255765199161424, 0.08686440677966102, 0.11320754716981132, 0.11392405063291139, 0.1010989010989011, 0.09133489461358314, 0.1087962962962963, 0.10440835266821345, 0.10657596371882086, 0.09813084112149532, 0.10267857142857142, 0.09817351598173515, 0.11926605504587157, 0.10141509433962265, 0.10087719298245613, 0.09047619047619047, 0.08714596949891068, 0.10412147505422993, 0.10227272727272728, 0.09192825112107623, 0.11546840958605664, 0.0892018779342723, 0.1048951048951049, 0.09761388286334056, 0.0855106888361045, 0.12719298245614036, 0.09425287356321839, 0.11899313501144165, 0.13253012048192772, 0.1882716049382716, 0.15073529411764705, 0.15, 0.17562724014336917, 0.17328519855595667, 0.12359550561797752, 0.1386861313868613, 0.14344262295081966, 0.10833333333333334, 0.15352697095435686, 0.12734082397003746, 0.15891472868217055, 0.13740458015267176, 0.14705882352941177, 0.16417910447761194, 0.16906474820143885, 0.13846153846153847, 0.14482758620689656, 0.16730038022813687, 0.1056338028169014, 0.15129151291512916, 0.15413533834586465, 0.14625850340136054, 0.1407942238267148, 0.1678082191780822, 0.1575091575091575, 0.17490494296577946, 0.16176470588235295, 0.1371841155234657, 0.15447154471544716, 0.13618677042801555, 0.1527777777777778, 0.14184397163120568, 0.1510791366906475, 0.16551724137931034, 0.16845878136200718, 0.15185185185185185, 0.16091954022988506, 0.136, 0.1638655462184874, 0.149812734082397, 0.15357142857142858, 0.11149825783972125, 0.13127413127413126, 0.1875, 0.13043478260869565, 0.13653136531365315, 0.15471698113207547, 0.15845070422535212, 0.13953488372093023, 0.1527777777777778, 0.15018315018315018, 0.16487455197132617, 0.15234375, 0.17894736842105263, 0.1423487544483986, 0.13043478260869565, 0.12062256809338522, 0.16730038022813687, 0.14285714285714285, 0.15302491103202848, 0.13382899628252787, 0.1626984126984127, 0.16417910447761194, 0.12213740458015267, 0.1553030303030303, 0.12043795620437957, 0.13553113553113552, 0.14788732394366197, 0.13793103448275862, 0.1471698113207547, 0.16853932584269662, 0.13602941176470587, 0.15579710144927536, 0.12152777777777778, 0.13793103448275862, 0.13043478260869565, 0.14728682170542637, 0.1597222222222222, 0.16845878136200718, 0.15671641791044777, 0.11462450592885376, 0.18439716312056736, 0.13090909090909092, 0.11428571428571428, 0.16728624535315986, 0.12627986348122866, 0.12109375, 0.15891472868217055, 0.1511627906976744, 0.14965986394557823, 0.17, 0.11836734693877551, 0.18587360594795538, 0.16796875, 0.14772727272727273, 0.13805970149253732, 0.14285714285714285, 0.11278195488721804, 0.17041800643086816, 0.1388888888888889, 0.15730337078651685, 0.16083916083916083, 0.10526315789473684, 0.15901060070671377, 0.15748031496062992, 0.12927756653992395, 0.19402985074626866, 0.1368421052631579, 0.1289198606271777, 0.1511627906976744, 0.15613382899628253, 0.13793103448275862, 0.1684981684981685, 0.1781818181818182, 0.13043478260869565, 0.15384615384615385, 0.12251655629139073, 0.1646586345381526, 0.15849056603773584, 0.1728395061728395, 0.11870503597122302, 0.14785992217898833, 0.15358361774744028, 0.17028985507246377, 0.17204301075268819, 0.11721611721611722, 0.15359477124183007, 0.13284132841328414, 0.14173228346456693, 0.17777777777777778, 0.13857677902621723, 0.1596958174904943, 0.17667844522968199, 0.136, 0.16287878787878787, 0.14035087719298245, 0.15298507462686567, 0.14432989690721648, 0.15648854961832062, 0.13846153846153847, 0.1520912547528517, 0.17391304347826086, 0.1595744680851064, 0.1423076923076923, 0.13026819923371646, 0.17307692307692307, 0.17293233082706766, 0.19117647058823528, 0.1510791366906475, 0.1524163568773234, 0.14186851211072665, 0.12267657992565056, 0.10423452768729642, 0.15217391304347827, 0.17006802721088435, 0.16728624535315986, 0.16470588235294117, 0.13962264150943396, 0.17343173431734318, 0.15789473684210525, 0.13818181818181818, 0.16981132075471697, 0.12096774193548387, 0.16376306620209058, 0.11846689895470383, 0.16044776119402984, 0.1440329218106996, 0.15602836879432624, 0.16666666666666666, 0.16911764705882354, 0.09163346613545817, 0.1044776119402985, 0.17753623188405798, 0.1532567049808429, 0.1183206106870229, 0.14233576642335766, 0.1423841059602649, 0.16312056737588654, 0.12790697674418605, 0.15636363636363637, 0.13043478260869565, 0.14396887159533073, 0.17307692307692307, 0.15555555555555556, 0.12982456140350876, 0.16153846153846155, 0.1328125, 0.18627450980392157, 0.15570934256055363, 0.13011152416356878, 0.1450381679389313, 0.15073529411764705, 0.19245283018867926, 0.15162454873646208, 0.11524163568773234, 0.12648221343873517, 0.145748987854251, 0.1505016722408027, 0.1505016722408027, 0.1391941391941392, 0.11960132890365449, 0.14334470989761092, 0.16182572614107885, 0.1245136186770428, 0.15666666666666668, 0.18149466192170818, 0.15053763440860216, 0.14893617021276595, 0.12927756653992395, 0.17537313432835822, 0.15613382899628253, 0.16470588235294117, 0.13405797101449277, 0.17142857142857143, 0.138996138996139, 0.1590909090909091, 0.13745704467353953, 0.175, 0.12681159420289856, 0.16296296296296298, 0.15725806451612903, 0.14930555555555555, 0.1310344827586207, 0.16352201257861634, 0.11764705882352941, 0.13740458015267176, 0.17110266159695817, 0.1225296442687747, 0.16071428571428573, 0.1867704280155642, 0.17916666666666667, 0.13818181818181818, 0.11486486486486487, 0.14652014652014653, 0.18815331010452963, 0.18151815181518152, 0.18421052631578946, 0.18506493506493507, 0.1414141414141414, 0.17434210526315788, 0.19298245614035087, 0.19202898550724637, 0.15161290322580645, 0.1828358208955224, 0.17857142857142858, 0.18243243243243243, 0.1864406779661017, 0.1901840490797546, 0.14012738853503184, 0.15953307392996108, 0.18548387096774194, 0.14345991561181434, 0.16412213740458015, 0.12903225806451613, 0.1593625498007968, 0.1896551724137931, 0.1619047619047619, 0.14173228346456693, 0.18972332015810275, 0.18803418803418803, 0.1640625, 0.18376068376068377, 0.16371681415929204, 0.13807531380753138, 0.17105263157894737, 0.15702479338842976, 0.1843137254901961, 0.18636363636363637, 0.15207373271889402, 0.13127413127413126, 0.16101694915254236, 0.13793103448275862, 0.15925925925925927, 0.15234375, 0.17647058823529413, 0.1417004048582996, 0.18106995884773663, 0.19183673469387755, 0.17578125, 0.17692307692307693, 0.1444866920152091, 0.14601769911504425, 0.1686746987951807, 0.18309859154929578, 0.15853658536585366, 0.1187214611872146, 0.13278008298755187, 0.17094017094017094, 0.14957264957264957, 0.14979757085020243, 0.13389121338912133, 0.14049586776859505, 0.16379310344827586, 0.15942028985507245, 0.1894273127753304, 0.16412213740458015, 0.11428571428571428, 0.14285714285714285, 0.14566929133858267, 0.16862745098039217, 0.1277533039647577, 0.18072289156626506, 0.14522821576763487, 0.16541353383458646, 0.14342629482071714, 0.1592920353982301, 0.1836734693877551, 0.15021459227467812, 0.15254237288135594, 0.15918367346938775, 0.15040650406504066, 0.192, 0.1346153846153846, 0.16666666666666666, 0.13877551020408163, 0.1762295081967213, 0.1857707509881423, 0.13445378151260504, 0.17073170731707318, 0.17142857142857143, 0.16602316602316602, 0.15517241379310345, 0.1732283464566929, 0.1736111111111111, 0.18376068376068377, 0.15637860082304528, 0.14912280701754385, 0.1440677966101695, 0.17254901960784313, 0.16810344827586207, 0.17142857142857143, 0.16033755274261605, 0.15476190476190477, 0.17721518987341772, 0.18045112781954886, 0.1646090534979424, 0.16260162601626016, 0.15447154471544716, 0.17490494296577946, 0.1417624521072797, 0.18695652173913044, 0.16170212765957448, 0.1440329218106996, 0.18666666666666668, 0.15789473684210525, 0.19166666666666668, 0.16818181818181818, 0.17467248908296942, 0.1482889733840304, 0.1684981684981685, 0.14453125, 0.1517509727626459, 0.17578125, 0.15355805243445692, 0.14339622641509434, 0.17391304347826086, 0.15767634854771784, 0.12992125984251968, 0.15708812260536398, 0.17391304347826086, 0.17647058823529413, 0.1606425702811245, 0.15476190476190477, 0.14682539682539683, 0.1559633027522936, 0.12598425196850394, 0.15517241379310345, 0.1680327868852459, 0.12844036697247707, 0.16393442622950818, 0.18061674008810572, 0.14122137404580154, 0.14798206278026907, 0.1383399209486166, 0.1803921568627451, 0.1651376146788991, 0.17054263565891473, 0.17857142857142858, 0.17725752508361203, 0.1520912547528517, 0.17786561264822134, 0.14049586776859505, 0.12556053811659193, 0.1646090534979424, 0.1474820143884892, 0.16862745098039217, 0.17786561264822134, 0.17829457364341086, 0.15261044176706828, 0.14468085106382977, 0.13574660633484162, 0.17768595041322313, 0.13215859030837004, 0.16317991631799164, 0.1422924901185771, 0.17154811715481172, 0.13095238095238096, 0.1471861471861472, 0.1583710407239819, 0.171875, 0.16883116883116883, 0.18099547511312217, 0.19166666666666668, 0.12605042016806722, 0.15966386554621848, 0.15217391304347827, 0.1487603305785124, 0.152, 0.17647058823529413, 0.16170212765957448, 0.18951612903225806, 0.19282511210762332, 0.12653061224489795, 0.1902654867256637, 0.19130434782608696, 0.1659919028340081, 0.16988416988416988, 0.15126050420168066, 0.1646090534979424, 0.16666666666666666, 0.13523131672597866, 0.17142857142857143, 0.144, 0.18532818532818532, 0.15298507462686567, 0.1799163179916318, 0.14516129032258066, 0.1729957805907173, 0.17898832684824903, 0.1752988047808765, 0.17857142857142858, 0.16666666666666666, 0.0, 0.16666666666666666, 0.0, 0.1806020066889632, 0.16139240506329114, 0.19322033898305085, 0.15699658703071673, 0.1896551724137931, 0.19169329073482427, 0.1896551724137931, 0.1760797342192691, 0.16845878136200718, 0.1806020066889632, 0.1919191919191919, 0.1893687707641196, 0.18597560975609756, 0.14521452145214522, 0.18815331010452963, 0.18688524590163935, 0.18452380952380953, 0.18092105263157895, 0.19141914191419143, 0.15901060070671377, 0.1917808219178082, 0.18495297805642633, 0.1323529411764706, 0.1875, 0.1815068493150685, 0.1935483870967742, 0.19141914191419143, 0.19375, 0.1858108108108108, 0.19155844155844157, 0.17721518987341772, 0.1724137931034483, 0.18181818181818182, 0.1606060606060606, 0.16943521594684385, 0.19243986254295534, 0.18471337579617833, 0.18620689655172415, 0.16417910447761194, 0.16896551724137931, 0.18983050847457628, 0.18439716312056736, 0.18032786885245902], \"yaxis\": \"y\"}, {\"alignmentgroup\": \"True\", \"customdata\": [[\"5.0 - 7.0\"], [\"12.0 - 13.1\"], [\"15.0 - 15.0\"], [\"15.76 - 17.36\"], [\"22.0 - 23.79\"], [\"23.79 - 25.0\"], [\"25.0 - 25.0\"], [\"25.0 - 25.0\"], [\"25.0 - 25.0\"], [\"25.0 - 25.0\"], [\"25.0 - 25.0\"], [\"25.0 - 26.26\"], [\"26.28 - 27.51\"], [\"27.52 - 29.0\"], [\"29.0 - 30.0\"], [\"30.0 - 30.0\"], [\"30.0 - 30.0\"], [\"30.0 - 30.0\"], [\"30.0 - 30.0\"], [\"30.0 - 30.0\"], [\"30.0 - 30.0\"], [\"30.0 - 30.0\"], [\"30.0 - 30.0\"], [\"30.0 - 30.0\"], [\"30.0 - 30.0\"], [\"30.0 - 30.0\"], [\"30.0 - 30.0\"], [\"30.0 - 30.0\"], [\"30.0 - 31.11\"], [\"31.12 - 32.56\"], [\"32.56 - 34.0\"], [\"34.0 - 35.0\"], [\"35.0 - 35.0\"], [\"35.0 - 35.0\"], [\"35.0 - 35.0\"], [\"35.0 - 35.0\"], [\"35.0 - 35.0\"], [\"35.0 - 35.0\"], [\"35.0 - 35.96\"], [\"36.34 - 38.0\"], [\"38.0 - 39.22\"], [\"39.23 - 40.0\"], [\"40.0 - 40.0\"], [\"40.0 - 40.0\"], [\"40.0 - 40.0\"], [\"40.0 - 40.0\"], [\"40.0 - 40.0\"], [\"40.0 - 40.0\"], [\"40.0 - 40.0\"], [\"40.0 - 41.89\"], [\"41.89 - 43.4\"], [\"43.41 - 45.0\"], [\"45.0 - 45.0\"], [\"45.0 - 45.0\"], [\"45.0 - 45.0\"], [\"45.0 - 45.32\"], [\"47.0 - 48.44\"], [\"50.0 - 50.0\"], [\"50.0 - 50.0\"], [\"50.0 - 50.0\"], [\"50.0 - 50.0\"], [\"50.0 - 50.0\"], [\"50.0 - 50.0\"], [\"50.0 - 50.0\"], [\"50.0 - 50.0\"], [\"50.0 - 50.0\"], [\"50.0 - 50.0\"], [\"50.0 - 50.0\"], [\"50.0 - 50.0\"], [\"50.0 - 50.0\"], [\"50.0 - 50.0\"], [\"50.0 - 50.0\"], [\"50.0 - 50.0\"], [\"50.0 - 50.0\"], [\"50.0 - 50.0\"], [\"50.0 - 50.0\"], [\"50.0 - 50.0\"], [\"50.0 - 50.0\"], [\"50.0 - 50.0\"], [\"50.0 - 50.0\"], [\"50.0 - 50.0\"], [\"50.0 - 50.0\"], [\"50.0 - 50.0\"], [\"50.0 - 50.0\"], [\"50.0 - 51.0\"], [\"51.0 - 52.47\"], [\"52.48 - 54.0\"], [\"54.0 - 55.0\"], [\"55.0 - 55.0\"], [\"55.0 - 56.0\"], [\"56.0 - 57.77\"], [\"57.79 - 59.53\"], [\"59.55 - 60.0\"], [\"60.0 - 60.0\"], [\"60.0 - 60.0\"], [\"60.0 - 60.0\"], [\"60.0 - 60.0\"], [\"60.0 - 60.0\"], [\"60.0 - 62.0\"], [\"62.0 - 64.0\"], [\"64.0 - 65.0\"], [\"65.0 - 65.0\"], [\"65.0 - 66.38\"], [\"66.42 - 68.48\"], [\"68.48 - 70.0\"], [\"70.0 - 70.0\"], [\"70.0 - 70.0\"], [\"70.0 - 70.78\"], [\"70.79 - 73.0\"], [\"73.0 - 75.0\"], [\"75.0 - 75.0\"], [\"75.0 - 75.0\"], [\"75.0 - 75.0\"], [\"75.0 - 75.0\"], [\"75.0 - 75.0\"], [\"75.0 - 75.0\"], [\"75.0 - 75.0\"], [\"75.0 - 75.0\"], [\"75.0 - 75.0\"], [\"75.0 - 75.0\"], [\"75.0 - 75.0\"], [\"75.0 - 75.0\"], [\"75.0 - 75.0\"], [\"75.0 - 75.0\"], [\"75.0 - 75.0\"], [\"75.0 - 75.0\"], [\"75.0 - 75.0\"], [\"75.0 - 75.02\"], [\"75.13 - 77.26\"], [\"77.29 - 79.56\"], [\"79.61 - 80.0\"], [\"80.0 - 80.0\"], [\"80.0 - 81.48\"], [\"81.5 - 83.8\"], [\"83.82 - 85.0\"], [\"85.0 - 85.87\"], [\"85.88 - 88.01\"], [\"88.01 - 90.0\"], [\"90.0 - 90.0\"], [\"90.0 - 91.4\"], [\"91.44 - 93.99\"], [\"94.0 - 95.0\"], [\"95.0 - 96.63\"], [\"96.65 - 98.49\"], [\"98.5 - 99.0\"], [\"99.0 - 99.0\"], [\"99.0 - 99.0\"], [\"99.0 - 99.0\"], [\"99.0 - 99.0\"], [\"99.0 - 99.0\"], [\"99.0 - 99.0\"], [\"99.0 - 99.0\"], [\"99.0 - 99.0\"], [\"99.0 - 99.75\"], [\"99.76 - 100.0\"], [\"100.0 - 100.0\"], [\"100.0 - 100.0\"], [\"100.0 - 100.0\"], [\"100.0 - 100.0\"], [\"100.0 - 100.0\"], [\"100.0 - 100.0\"], [\"100.0 - 100.0\"], [\"100.0 - 100.0\"], [\"100.0 - 100.0\"], [\"100.0 - 100.0\"], [\"100.0 - 100.0\"], [\"100.0 - 100.0\"], [\"100.0 - 100.0\"], [\"100.0 - 100.0\"], [\"100.0 - 100.0\"], [\"100.0 - 100.0\"], [\"100.0 - 100.0\"], [\"100.0 - 100.0\"], [\"100.0 - 100.0\"], [\"100.0 - 100.0\"], [\"100.0 - 100.0\"], [\"100.0 - 100.0\"], [\"100.0 - 100.0\"], [\"100.0 - 100.0\"], [\"100.0 - 100.0\"], [\"100.0 - 100.0\"], [\"100.0 - 100.0\"], [\"100.0 - 100.0\"], [\"100.0 - 100.0\"], [\"100.0 - 100.0\"], [\"100.0 - 100.0\"], [\"100.0 - 100.0\"], [\"100.0 - 100.0\"], [\"100.0 - 100.0\"], [\"100.0 - 100.0\"], [\"100.0 - 100.0\"], [\"100.0 - 100.0\"], [\"100.0 - 100.0\"], [\"100.0 - 100.0\"], [\"100.0 - 100.0\"], [\"100.0 - 100.0\"], [\"100.0 - 100.0\"], [\"100.0 - 100.0\"], [\"100.0 - 100.0\"], [\"100.0 - 100.0\"], [\"100.0 - 100.0\"], [\"100.0 - 100.0\"], [\"100.0 - 101.0\"], [\"101.0 - 103.69\"], [\"103.75 - 105.0\"], [\"105.0 - 107.69\"], [\"107.72 - 110.0\"], [\"110.0 - 110.0\"], [\"110.0 - 111.69\"], [\"111.71 - 114.34\"], [\"114.34 - 115.0\"], [\"115.0 - 118.0\"], [\"118.0 - 120.0\"], [\"120.0 - 120.0\"], [\"120.0 - 122.03\"], [\"122.06 - 124.41\"], [\"124.42 - 125.0\"], [\"125.0 - 125.0\"], [\"125.0 - 125.0\"], [\"125.0 - 125.0\"], [\"125.0 - 125.0\"], [\"125.0 - 125.0\"], [\"125.0 - 125.0\"], [\"125.0 - 128.07\"], [\"128.09 - 130.0\"], [\"130.0 - 132.45\"], [\"132.5 - 135.0\"], [\"135.0 - 137.81\"], [\"137.84 - 140.0\"], [\"140.0 - 142.37\"], [\"142.41 - 145.0\"], [\"145.0 - 148.52\"], [\"148.54 - 149.83\"], [\"149.84 - 150.0\"], [\"150.0 - 150.0\"], [\"150.0 - 150.0\"], [\"150.0 - 150.0\"], [\"150.0 - 150.0\"], [\"150.0 - 150.0\"], [\"150.0 - 150.0\"], [\"150.0 - 150.0\"], [\"150.0 - 150.0\"], [\"150.0 - 150.0\"], [\"150.0 - 150.0\"], [\"150.0 - 153.11\"], [\"153.13 - 156.04\"], [\"156.04 - 160.0\"], [\"160.0 - 161.58\"], [\"161.63 - 165.0\"], [\"165.0 - 168.71\"], [\"168.79 - 170.6\"], [\"170.61 - 174.79\"], [\"174.8 - 175.0\"], [\"175.0 - 177.45\"], [\"177.5 - 180.0\"], [\"180.0 - 185.0\"], [\"185.0 - 188.99\"], [\"189.0 - 192.68\"], [\"192.72 - 196.91\"], [\"196.93 - 199.0\"], [\"199.0 - 200.0\"], [\"200.0 - 200.0\"], [\"200.0 - 200.0\"], [\"200.0 - 200.0\"], [\"200.0 - 200.0\"], [\"200.0 - 200.0\"], [\"200.0 - 200.0\"], [\"200.0 - 200.0\"], [\"200.0 - 200.0\"], [\"200.0 - 200.0\"], [\"200.0 - 200.0\"], [\"200.0 - 200.0\"], [\"200.0 - 200.0\"], [\"200.0 - 200.4\"], [\"200.48 - 205.16\"], [\"205.22 - 210.0\"], [\"210.0 - 215.0\"], [\"215.0 - 219.77\"], [\"219.81 - 223.86\"], [\"223.91 - 225.0\"], [\"225.0 - 230.0\"], [\"230.0 - 235.0\"], [\"235.0 - 240.0\"], [\"240.0 - 245.7\"], [\"245.82 - 250.0\"], [\"250.0 - 250.0\"], [\"250.0 - 250.0\"], [\"250.0 - 250.0\"], [\"250.0 - 250.0\"], [\"250.0 - 255.69\"], [\"255.78 - 262.0\"], [\"262.0 - 269.5\"], [\"269.5 - 275.0\"], [\"275.0 - 280.0\"], [\"280.0 - 288.25\"], [\"288.31 - 295.68\"], [\"295.77 - 300.0\"], [\"300.0 - 300.0\"], [\"300.0 - 300.0\"], [\"300.0 - 301.03\"], [\"301.13 - 310.0\"], [\"310.0 - 320.0\"], [\"320.0 - 327.29\"], [\"327.33 - 337.25\"], [\"337.47 - 347.55\"], [\"347.58 - 350.11\"], [\"350.14 - 362.0\"], [\"362.0 - 374.05\"], [\"374.35 - 385.0\"], [\"385.0 - 398.41\"], [\"398.75 - 400.0\"], [\"400.0 - 409.91\"], [\"409.91 - 425.0\"], [\"425.0 - 440.87\"], [\"440.98 - 454.87\"], [\"454.89 - 474.55\"], [\"474.68 - 493.16\"], [\"493.29 - 500.0\"], [\"500.0 - 500.0\"], [\"500.0 - 500.0\"], [\"500.0 - 520.0\"], [\"520.0 - 543.57\"], [\"543.66 - 566.85\"], [\"566.88 - 598.64\"], [\"598.93 - 623.79\"], [\"623.98 - 660.54\"], [\"661.0 - 705.0\"], [\"705.0 - 756.0\"], [\"756.81 - 817.62\"], [\"818.34 - 899.52\"], [\"899.81 - 996.19\"], [\"996.4 - 1027.82\"], [\"1029.81 - 1150.0\"], [\"1150.0 - 1345.69\"], [\"1347.61 - 1626.85\"], [\"1627.36 - 2123.0\"], [\"2125.61 - 3626.75\"], [\"3647.16 - 442794.38\"]], \"hovertemplate\": \"comparative_retention=higher<br>group1024=%{x}<br>retention_yr1=%{y}<br>group_range=%{customdata[0]}<extra></extra>\", \"legendgroup\": \"higher\", \"marker\": {\"color\": \"#FF7F0E\"}, \"name\": \"higher\", \"offsetgroup\": \"higher\", \"orientation\": \"v\", \"showlegend\": true, \"textposition\": \"auto\", \"type\": \"bar\", \"x\": [27, 118, 132, 137, 212, 213, 346, 389, 429, 435, 438, 453, 454, 455, 456, 457, 458, 460, 461, 464, 466, 467, 468, 469, 470, 471, 472, 473, 474, 475, 476, 477, 478, 479, 480, 481, 482, 483, 484, 486, 487, 488, 491, 493, 494, 495, 496, 498, 500, 503, 504, 505, 506, 507, 508, 509, 511, 521, 547, 556, 564, 568, 571, 573, 574, 578, 585, 593, 595, 616, 620, 622, 626, 628, 629, 634, 646, 649, 678, 680, 688, 699, 719, 722, 723, 724, 725, 726, 727, 728, 729, 730, 731, 732, 733, 734, 735, 736, 737, 738, 739, 740, 741, 742, 743, 744, 745, 746, 747, 748, 749, 750, 751, 752, 753, 754, 755, 756, 757, 758, 759, 760, 761, 762, 763, 764, 765, 766, 767, 768, 769, 770, 771, 772, 773, 774, 775, 776, 777, 778, 779, 780, 781, 782, 783, 784, 786, 787, 789, 790, 792, 793, 795, 796, 797, 798, 799, 802, 803, 804, 807, 809, 810, 811, 814, 818, 821, 822, 831, 832, 833, 834, 837, 840, 841, 843, 844, 845, 849, 850, 851, 852, 857, 858, 859, 860, 864, 865, 866, 867, 869, 870, 871, 872, 873, 876, 879, 880, 881, 882, 884, 887, 888, 889, 890, 891, 892, 893, 894, 895, 896, 897, 898, 899, 900, 901, 902, 903, 904, 905, 906, 907, 908, 909, 910, 911, 912, 913, 914, 915, 916, 917, 918, 919, 920, 921, 922, 923, 924, 925, 926, 927, 928, 929, 930, 931, 932, 933, 934, 935, 936, 937, 938, 939, 940, 941, 942, 943, 944, 945, 946, 947, 948, 949, 950, 951, 952, 953, 954, 955, 956, 957, 958, 959, 960, 961, 962, 963, 964, 965, 966, 967, 968, 969, 970, 971, 972, 973, 974, 975, 976, 977, 978, 979, 980, 981, 982, 983, 984, 985, 986, 987, 988, 989, 990, 991, 992, 993, 994, 995, 996, 997, 998, 999, 1000, 1001, 1002, 1003, 1004, 1005, 1006, 1007, 1008, 1009, 1010, 1011, 1012, 1013, 1014, 1015, 1016, 1017, 1018, 1019, 1020, 1021, 1022, 1023], \"xaxis\": \"x\", \"y\": [0.227765726681128, 0.20348837209302326, 0.2026431718061674, 0.20215633423180593, 0.25692695214105793, 0.21264367816091953, 0.19834710743801653, 0.2007168458781362, 0.2007042253521127, 0.20224719101123595, 0.19548872180451127, 0.2012779552715655, 0.20504731861198738, 0.19883040935672514, 0.2118380062305296, 0.21189591078066913, 0.21785714285714286, 0.20689655172413793, 0.20567375886524822, 0.25357142857142856, 0.22611464968152867, 0.23127035830618892, 0.21532846715328466, 0.22134387351778656, 0.20863309352517986, 0.21333333333333335, 0.21100917431192662, 0.23404255319148937, 0.23225806451612904, 0.2196969696969697, 0.2118380062305296, 0.24695121951219512, 0.2745762711864407, 0.3028391167192429, 0.2807570977917981, 0.28289473684210525, 0.29411764705882354, 0.25, 0.25650557620817843, 0.21580547112462006, 0.20357142857142857, 0.21241830065359477, 0.19536423841059603, 0.22393822393822393, 0.19666666666666666, 0.2048611111111111, 0.25157232704402516, 0.22727272727272727, 0.2135593220338983, 0.21364985163204747, 0.23699421965317918, 0.22981366459627328, 0.3505747126436782, 0.38023952095808383, 0.3641791044776119, 0.30538922155688625, 0.2275449101796407, 0.22140221402214022, 0.20987654320987653, 0.2350597609561753, 0.1953125, 0.2412280701754386, 0.19915254237288135, 0.22268907563025211, 0.2099236641221374, 0.1951219512195122, 0.19480519480519481, 0.20425531914893616, 0.20502092050209206, 0.20430107526881722, 0.20085470085470086, 0.19747899159663865, 0.20901639344262296, 0.2, 0.20318725099601595, 0.1965065502183406, 0.20437956204379562, 0.20535714285714285, 0.20425531914893616, 0.2, 0.1946564885496183, 0.1947565543071161, 0.21721311475409835, 0.22357723577235772, 0.1986062717770035, 0.2719546742209632, 0.23547400611620795, 0.3256484149855908, 0.40947075208913647, 0.3250883392226148, 0.26755852842809363, 0.24104234527687296, 0.32507739938080493, 0.3184713375796178, 0.29042904290429045, 0.3032258064516129, 0.3225806451612903, 0.30612244897959184, 0.2363013698630137, 0.2565597667638484, 0.26112759643916916, 0.34185303514376997, 0.31986531986531985, 0.27564102564102566, 0.31268436578171094, 0.3949843260188088, 0.37249283667621774, 0.3619047619047619, 0.27692307692307694, 0.27976190476190477, 0.24375, 0.23140495867768596, 0.26498422712933756, 0.2755681818181818, 0.2628398791540785, 0.25507246376811593, 0.2622478386167147, 0.27794561933534745, 0.26392961876832843, 0.24355300859598855, 0.2727272727272727, 0.30057803468208094, 0.2926829268292683, 0.26453488372093026, 0.27837837837837837, 0.27647058823529413, 0.24653739612188366, 0.24079320113314448, 0.30333333333333334, 0.30498533724340177, 0.3887147335423197, 0.2993827160493827, 0.3072100313479624, 0.2601880877742947, 0.37168141592920356, 0.3590504451038576, 0.27184466019417475, 0.3108974358974359, 0.4268292682926829, 0.3467048710601719, 0.3201320132013201, 0.3867403314917127, 0.35, 0.29283489096573206, 0.3508771929824561, 0.3333333333333333, 0.2, 0.3333333333333333, 0.5, 0.5, 0.25, 0.25, 0.25, 0.27702702702702703, 0.23550724637681159, 0.20723684210526316, 0.21, 0.20408163265306123, 0.19791666666666666, 0.22772277227722773, 0.21476510067114093, 0.2014388489208633, 0.23333333333333334, 0.2175226586102719, 0.20875420875420875, 0.22435897435897437, 0.21476510067114093, 0.19727891156462585, 0.24437299035369775, 0.20279720279720279, 0.20257234726688103, 0.23367697594501718, 0.21602787456445993, 0.21835443037974683, 0.21362229102167182, 0.20180722891566266, 0.19444444444444445, 0.21241830065359477, 0.20123839009287925, 0.2032258064516129, 0.20754716981132076, 0.2332155477031802, 0.2070063694267516, 0.22297297297297297, 0.23952095808383234, 0.22330097087378642, 0.22442244224422442, 0.20462046204620463, 0.21543408360128619, 0.2354948805460751, 0.19631901840490798, 0.21311475409836064, 0.21103896103896103, 0.2033898305084746, 0.21254355400696864, 0.21016949152542372, 0.24115755627009647, 0.1986062717770035, 0.2179930795847751, 0.21474358974358973, 0.21305841924398625, 0.21052631578947367, 0.2398753894080997, 0.2899022801302932, 0.41076487252124644, 0.3624161073825503, 0.3933333333333333, 0.4322033898305085, 0.4208955223880597, 0.31699346405228757, 0.4, 0.3051948051948052, 0.3684210526315789, 0.49517684887459806, 0.3805309734513274, 0.350253807106599, 0.32459016393442625, 0.3127035830618892, 0.3170731707317073, 0.31290322580645163, 0.3211920529801324, 0.31399317406143346, 0.2904191616766467, 0.3575949367088608, 0.41836734693877553, 0.3601190476190476, 0.43322475570032576, 0.4375, 0.41, 0.45751633986928103, 0.4262295081967213, 0.3713355048859935, 0.3643410852713178, 0.3388704318936877, 0.31475409836065577, 0.3079710144927536, 0.33650793650793653, 0.3344262295081967, 0.33663366336633666, 0.2962962962962963, 0.3380281690140845, 0.3057324840764331, 0.2867647058823529, 0.3422818791946309, 0.33774834437086093, 0.439873417721519, 0.40293040293040294, 0.5129032258064516, 0.3951367781155015, 0.3920265780730897, 0.429042904290429, 0.37906137184115524, 0.42363112391930835, 0.4447852760736196, 0.44694533762057875, 0.4228395061728395, 0.42342342342342343, 0.4430379746835443, 0.4158730158730159, 0.45, 0.2821576763485477, 0.24584717607973422, 0.30141843971631205, 0.32950191570881227, 0.32441471571906355, 0.2564102564102564, 0.2608695652173913, 0.3176895306859206, 0.3028391167192429, 0.2826855123674912, 0.2775800711743772, 0.2847222222222222, 0.32996632996632996, 0.275, 0.4629080118694362, 0.4748427672955975, 0.47854785478547857, 0.43214285714285716, 0.4336569579288026, 0.4928571428571429, 0.46885245901639344, 0.4125, 0.4529616724738676, 0.46875, 0.3870967741935484, 0.3442622950819672, 0.291497975708502, 0.3842364532019704, 0.3393665158371041, 0.4740484429065744, 0.5206896551724138, 0.4657534246575342, 0.45614035087719296, 0.5361842105263158, 0.45229681978798586, 0.5392857142857143, 0.3923076923076923, 0.3754152823920266, 0.3289036544850498, 0.32673267326732675, 0.42700729927007297, 0.5487012987012987, 0.4878048780487805, 0.4486301369863014, 0.5169230769230769, 0.518796992481203, 0.44485294117647056, 0.5610687022900763, 0.5640138408304498, 0.5096525096525096, 0.3886792452830189, 0.4828767123287671, 0.5439739413680782, 0.4924924924924925, 0.47058823529411764, 0.5052264808362369, 0.5396341463414634, 0.3152542372881356, 0.24796747967479674, 0.26506024096385544, 0.5350877192982456, 0.5159235668789809, 0.578125, 0.5563139931740614, 0.5522875816993464, 0.5882352941176471, 0.61875, 0.5885885885885885, 0.5936599423631124, 0.6388059701492538, 0.6637931034482759, 0.4656084656084656, 0.6982758620689655, 0.6383442265795207, 0.71900826446281, 0.6473317865429234, 0.6974789915966386, 0.5668789808917197], \"yaxis\": \"y\"}],\n",
       "                        {\"barmode\": \"relative\", \"height\": 400, \"legend\": {\"title\": {\"text\": \"comparative_retention\"}, \"tracegroupgap\": 0}, \"margin\": {\"t\": 60}, \"template\": {\"data\": {\"bar\": [{\"error_x\": {\"color\": \"rgb(36,36,36)\"}, \"error_y\": {\"color\": \"rgb(36,36,36)\"}, \"marker\": {\"line\": {\"color\": \"white\", \"width\": 0.5}}, \"type\": \"bar\"}], \"barpolar\": [{\"marker\": {\"line\": {\"color\": \"white\", \"width\": 0.5}}, \"type\": \"barpolar\"}], \"carpet\": [{\"aaxis\": {\"endlinecolor\": \"rgb(36,36,36)\", \"gridcolor\": \"white\", \"linecolor\": \"white\", \"minorgridcolor\": \"white\", \"startlinecolor\": \"rgb(36,36,36)\"}, \"baxis\": {\"endlinecolor\": \"rgb(36,36,36)\", \"gridcolor\": \"white\", \"linecolor\": \"white\", \"minorgridcolor\": \"white\", \"startlinecolor\": \"rgb(36,36,36)\"}, \"type\": \"carpet\"}], \"choropleth\": [{\"colorbar\": {\"outlinewidth\": 1, \"tickcolor\": \"rgb(36,36,36)\", \"ticks\": \"outside\"}, \"type\": \"choropleth\"}], \"contour\": [{\"colorbar\": {\"outlinewidth\": 1, \"tickcolor\": \"rgb(36,36,36)\", \"ticks\": \"outside\"}, \"colorscale\": [[0.0, \"#440154\"], [0.1111111111111111, \"#482878\"], [0.2222222222222222, \"#3e4989\"], [0.3333333333333333, \"#31688e\"], [0.4444444444444444, \"#26828e\"], [0.5555555555555556, \"#1f9e89\"], [0.6666666666666666, \"#35b779\"], [0.7777777777777778, \"#6ece58\"], [0.8888888888888888, \"#b5de2b\"], [1.0, \"#fde725\"]], \"type\": \"contour\"}], \"contourcarpet\": [{\"colorbar\": {\"outlinewidth\": 1, \"tickcolor\": \"rgb(36,36,36)\", \"ticks\": \"outside\"}, \"type\": \"contourcarpet\"}], \"heatmap\": [{\"colorbar\": {\"outlinewidth\": 1, \"tickcolor\": \"rgb(36,36,36)\", \"ticks\": \"outside\"}, \"colorscale\": [[0.0, \"#440154\"], [0.1111111111111111, \"#482878\"], [0.2222222222222222, \"#3e4989\"], [0.3333333333333333, \"#31688e\"], [0.4444444444444444, \"#26828e\"], [0.5555555555555556, \"#1f9e89\"], [0.6666666666666666, \"#35b779\"], [0.7777777777777778, \"#6ece58\"], [0.8888888888888888, \"#b5de2b\"], [1.0, \"#fde725\"]], \"type\": \"heatmap\"}], \"heatmapgl\": [{\"colorbar\": {\"outlinewidth\": 1, \"tickcolor\": \"rgb(36,36,36)\", \"ticks\": \"outside\"}, \"colorscale\": [[0.0, \"#440154\"], [0.1111111111111111, \"#482878\"], [0.2222222222222222, \"#3e4989\"], [0.3333333333333333, \"#31688e\"], [0.4444444444444444, \"#26828e\"], [0.5555555555555556, \"#1f9e89\"], [0.6666666666666666, \"#35b779\"], [0.7777777777777778, \"#6ece58\"], [0.8888888888888888, \"#b5de2b\"], [1.0, \"#fde725\"]], \"type\": \"heatmapgl\"}], \"histogram\": [{\"marker\": {\"line\": {\"color\": \"white\", \"width\": 0.6}}, \"type\": \"histogram\"}], \"histogram2d\": [{\"colorbar\": {\"outlinewidth\": 1, \"tickcolor\": \"rgb(36,36,36)\", \"ticks\": \"outside\"}, \"colorscale\": [[0.0, \"#440154\"], [0.1111111111111111, \"#482878\"], [0.2222222222222222, \"#3e4989\"], [0.3333333333333333, \"#31688e\"], [0.4444444444444444, \"#26828e\"], [0.5555555555555556, \"#1f9e89\"], [0.6666666666666666, \"#35b779\"], [0.7777777777777778, \"#6ece58\"], [0.8888888888888888, \"#b5de2b\"], [1.0, \"#fde725\"]], \"type\": \"histogram2d\"}], \"histogram2dcontour\": [{\"colorbar\": {\"outlinewidth\": 1, \"tickcolor\": \"rgb(36,36,36)\", \"ticks\": \"outside\"}, \"colorscale\": [[0.0, \"#440154\"], [0.1111111111111111, \"#482878\"], [0.2222222222222222, \"#3e4989\"], [0.3333333333333333, \"#31688e\"], [0.4444444444444444, \"#26828e\"], [0.5555555555555556, \"#1f9e89\"], [0.6666666666666666, \"#35b779\"], [0.7777777777777778, \"#6ece58\"], [0.8888888888888888, \"#b5de2b\"], [1.0, \"#fde725\"]], \"type\": \"histogram2dcontour\"}], \"mesh3d\": [{\"colorbar\": {\"outlinewidth\": 1, \"tickcolor\": \"rgb(36,36,36)\", \"ticks\": \"outside\"}, \"type\": \"mesh3d\"}], \"parcoords\": [{\"line\": {\"colorbar\": {\"outlinewidth\": 1, \"tickcolor\": \"rgb(36,36,36)\", \"ticks\": \"outside\"}}, \"type\": \"parcoords\"}], \"pie\": [{\"automargin\": true, \"type\": \"pie\"}], \"scatter\": [{\"marker\": {\"colorbar\": {\"outlinewidth\": 1, \"tickcolor\": \"rgb(36,36,36)\", \"ticks\": \"outside\"}}, \"type\": \"scatter\"}], \"scatter3d\": [{\"line\": {\"colorbar\": {\"outlinewidth\": 1, \"tickcolor\": \"rgb(36,36,36)\", \"ticks\": \"outside\"}}, \"marker\": {\"colorbar\": {\"outlinewidth\": 1, \"tickcolor\": \"rgb(36,36,36)\", \"ticks\": \"outside\"}}, \"type\": \"scatter3d\"}], \"scattercarpet\": [{\"marker\": {\"colorbar\": {\"outlinewidth\": 1, \"tickcolor\": \"rgb(36,36,36)\", \"ticks\": \"outside\"}}, \"type\": \"scattercarpet\"}], \"scattergeo\": [{\"marker\": {\"colorbar\": {\"outlinewidth\": 1, \"tickcolor\": \"rgb(36,36,36)\", \"ticks\": \"outside\"}}, \"type\": \"scattergeo\"}], \"scattergl\": [{\"marker\": {\"colorbar\": {\"outlinewidth\": 1, \"tickcolor\": \"rgb(36,36,36)\", \"ticks\": \"outside\"}}, \"type\": \"scattergl\"}], \"scattermapbox\": [{\"marker\": {\"colorbar\": {\"outlinewidth\": 1, \"tickcolor\": \"rgb(36,36,36)\", \"ticks\": \"outside\"}}, \"type\": \"scattermapbox\"}], \"scatterpolar\": [{\"marker\": {\"colorbar\": {\"outlinewidth\": 1, \"tickcolor\": \"rgb(36,36,36)\", \"ticks\": \"outside\"}}, \"type\": \"scatterpolar\"}], \"scatterpolargl\": [{\"marker\": {\"colorbar\": {\"outlinewidth\": 1, \"tickcolor\": \"rgb(36,36,36)\", \"ticks\": \"outside\"}}, \"type\": \"scatterpolargl\"}], \"scatterternary\": [{\"marker\": {\"colorbar\": {\"outlinewidth\": 1, \"tickcolor\": \"rgb(36,36,36)\", \"ticks\": \"outside\"}}, \"type\": \"scatterternary\"}], \"surface\": [{\"colorbar\": {\"outlinewidth\": 1, \"tickcolor\": \"rgb(36,36,36)\", \"ticks\": \"outside\"}, \"colorscale\": [[0.0, \"#440154\"], [0.1111111111111111, \"#482878\"], [0.2222222222222222, \"#3e4989\"], [0.3333333333333333, \"#31688e\"], [0.4444444444444444, \"#26828e\"], [0.5555555555555556, \"#1f9e89\"], [0.6666666666666666, \"#35b779\"], [0.7777777777777778, \"#6ece58\"], [0.8888888888888888, \"#b5de2b\"], [1.0, \"#fde725\"]], \"type\": \"surface\"}], \"table\": [{\"cells\": {\"fill\": {\"color\": \"rgb(237,237,237)\"}, \"line\": {\"color\": \"white\"}}, \"header\": {\"fill\": {\"color\": \"rgb(217,217,217)\"}, \"line\": {\"color\": \"white\"}}, \"type\": \"table\"}]}, \"layout\": {\"annotationdefaults\": {\"arrowhead\": 0, \"arrowwidth\": 1}, \"coloraxis\": {\"colorbar\": {\"outlinewidth\": 1, \"tickcolor\": \"rgb(36,36,36)\", \"ticks\": \"outside\"}}, \"colorscale\": {\"diverging\": [[0.0, \"rgb(103,0,31)\"], [0.1, \"rgb(178,24,43)\"], [0.2, \"rgb(214,96,77)\"], [0.3, \"rgb(244,165,130)\"], [0.4, \"rgb(253,219,199)\"], [0.5, \"rgb(247,247,247)\"], [0.6, \"rgb(209,229,240)\"], [0.7, \"rgb(146,197,222)\"], [0.8, \"rgb(67,147,195)\"], [0.9, \"rgb(33,102,172)\"], [1.0, \"rgb(5,48,97)\"]], \"sequential\": [[0.0, \"#440154\"], [0.1111111111111111, \"#482878\"], [0.2222222222222222, \"#3e4989\"], [0.3333333333333333, \"#31688e\"], [0.4444444444444444, \"#26828e\"], [0.5555555555555556, \"#1f9e89\"], [0.6666666666666666, \"#35b779\"], [0.7777777777777778, \"#6ece58\"], [0.8888888888888888, \"#b5de2b\"], [1.0, \"#fde725\"]], \"sequentialminus\": [[0.0, \"#440154\"], [0.1111111111111111, \"#482878\"], [0.2222222222222222, \"#3e4989\"], [0.3333333333333333, \"#31688e\"], [0.4444444444444444, \"#26828e\"], [0.5555555555555556, \"#1f9e89\"], [0.6666666666666666, \"#35b779\"], [0.7777777777777778, \"#6ece58\"], [0.8888888888888888, \"#b5de2b\"], [1.0, \"#fde725\"]]}, \"colorway\": [\"#1F77B4\", \"#FF7F0E\", \"#2CA02C\", \"#D62728\", \"#9467BD\", \"#8C564B\", \"#E377C2\", \"#7F7F7F\", \"#BCBD22\", \"#17BECF\"], \"font\": {\"color\": \"rgb(36,36,36)\"}, \"geo\": {\"bgcolor\": \"white\", \"lakecolor\": \"white\", \"landcolor\": \"white\", \"showlakes\": true, \"showland\": true, \"subunitcolor\": \"white\"}, \"hoverlabel\": {\"align\": \"left\"}, \"hovermode\": \"closest\", \"mapbox\": {\"style\": \"light\"}, \"paper_bgcolor\": \"white\", \"plot_bgcolor\": \"white\", \"polar\": {\"angularaxis\": {\"gridcolor\": \"rgb(232,232,232)\", \"linecolor\": \"rgb(36,36,36)\", \"showgrid\": false, \"showline\": true, \"ticks\": \"outside\"}, \"bgcolor\": \"white\", \"radialaxis\": {\"gridcolor\": \"rgb(232,232,232)\", \"linecolor\": \"rgb(36,36,36)\", \"showgrid\": false, \"showline\": true, \"ticks\": \"outside\"}}, \"scene\": {\"xaxis\": {\"backgroundcolor\": \"white\", \"gridcolor\": \"rgb(232,232,232)\", \"gridwidth\": 2, \"linecolor\": \"rgb(36,36,36)\", \"showbackground\": true, \"showgrid\": false, \"showline\": true, \"ticks\": \"outside\", \"zeroline\": false, \"zerolinecolor\": \"rgb(36,36,36)\"}, \"yaxis\": {\"backgroundcolor\": \"white\", \"gridcolor\": \"rgb(232,232,232)\", \"gridwidth\": 2, \"linecolor\": \"rgb(36,36,36)\", \"showbackground\": true, \"showgrid\": false, \"showline\": true, \"ticks\": \"outside\", \"zeroline\": false, \"zerolinecolor\": \"rgb(36,36,36)\"}, \"zaxis\": {\"backgroundcolor\": \"white\", \"gridcolor\": \"rgb(232,232,232)\", \"gridwidth\": 2, \"linecolor\": \"rgb(36,36,36)\", \"showbackground\": true, \"showgrid\": false, \"showline\": true, \"ticks\": \"outside\", \"zeroline\": false, \"zerolinecolor\": \"rgb(36,36,36)\"}}, \"shapedefaults\": {\"fillcolor\": \"black\", \"line\": {\"width\": 0}, \"opacity\": 0.3}, \"ternary\": {\"aaxis\": {\"gridcolor\": \"rgb(232,232,232)\", \"linecolor\": \"rgb(36,36,36)\", \"showgrid\": false, \"showline\": true, \"ticks\": \"outside\"}, \"baxis\": {\"gridcolor\": \"rgb(232,232,232)\", \"linecolor\": \"rgb(36,36,36)\", \"showgrid\": false, \"showline\": true, \"ticks\": \"outside\"}, \"bgcolor\": \"white\", \"caxis\": {\"gridcolor\": \"rgb(232,232,232)\", \"linecolor\": \"rgb(36,36,36)\", \"showgrid\": false, \"showline\": true, \"ticks\": \"outside\"}}, \"title\": {\"x\": 0.05}, \"xaxis\": {\"automargin\": true, \"gridcolor\": \"rgb(232,232,232)\", \"linecolor\": \"rgb(36,36,36)\", \"showgrid\": false, \"showline\": true, \"ticks\": \"outside\", \"title\": {\"standoff\": 15}, \"zeroline\": false, \"zerolinecolor\": \"rgb(36,36,36)\"}, \"yaxis\": {\"automargin\": true, \"gridcolor\": \"rgb(232,232,232)\", \"linecolor\": \"rgb(36,36,36)\", \"showgrid\": false, \"showline\": true, \"ticks\": \"outside\", \"title\": {\"standoff\": 15}, \"zeroline\": false, \"zerolinecolor\": \"rgb(36,36,36)\"}}}, \"width\": 1000, \"xaxis\": {\"anchor\": \"y\", \"domain\": [0.0, 1.0], \"title\": {\"text\": \"group1024\"}}, \"yaxis\": {\"anchor\": \"x\", \"domain\": [0.0, 1.0], \"title\": {\"text\": \"retention_yr1\"}}},\n",
       "                        {\"responsive\": true}\n",
       "                    ).then(function(){\n",
       "                            \n",
       "var gd = document.getElementById('5901ed1d-50ac-4acb-80fc-e660cc40c8a1');\n",
       "var x = new MutationObserver(function (mutations, observer) {{\n",
       "        var display = window.getComputedStyle(gd).display;\n",
       "        if (!display || display === 'none') {{\n",
       "            console.log([gd, 'removed!']);\n",
       "            Plotly.purge(gd);\n",
       "            observer.disconnect();\n",
       "        }}\n",
       "}});\n",
       "\n",
       "// Listen for the removal of the full notebook cells\n",
       "var notebookContainer = gd.closest('#notebook-container');\n",
       "if (notebookContainer) {{\n",
       "    x.observe(notebookContainer, {childList: true});\n",
       "}}\n",
       "\n",
       "// Listen for the clearing of the current output cell\n",
       "var outputEl = gd.closest('.output');\n",
       "if (outputEl) {{\n",
       "    x.observe(outputEl, {childList: true});\n",
       "}}\n",
       "\n",
       "                        })\n",
       "                };\n",
       "                });\n",
       "            </script>\n",
       "        </div>"
      ]
     },
     "metadata": {},
     "output_type": "display_data"
    }
   ],
   "source": [
    "fig = px.bar(df, x=\"group1024\", y=\"retention_yr1\", color=\"comparative_retention\", width=1000, height=400, template='simple_white',\n",
    "                # size='petal_length', \n",
    "             hover_data=['group_range']\n",
    "                )\n",
    "fig.show()"
   ]
  },
  {
   "cell_type": "code",
   "execution_count": 128,
   "metadata": {},
   "outputs": [
    {
     "data": {
      "application/vnd.plotly.v1+json": {
       "config": {
        "plotlyServerURL": "https://plot.ly"
       },
       "data": [
        {
         "customdata": [
          [
           "0.4 - 1.0"
          ],
          [
           "1.0 - 1.0"
          ],
          [
           "1.0 - 1.0"
          ],
          [
           "1.0 - 1.0"
          ],
          [
           "1.0 - 1.0"
          ],
          [
           "1.0 - 1.0"
          ],
          [
           "1.0 - 1.0"
          ],
          [
           "1.0 - 2.0"
          ],
          [
           "2.0 - 2.0"
          ],
          [
           "2.0 - 3.0"
          ],
          [
           "3.0 - 4.0"
          ],
          [
           "4.0 - 5.0"
          ],
          [
           "5.0 - 5.0"
          ],
          [
           "5.0 - 5.0"
          ],
          [
           "5.0 - 5.0"
          ],
          [
           "5.0 - 5.0"
          ],
          [
           "5.0 - 5.0"
          ],
          [
           "5.0 - 5.0"
          ],
          [
           "5.0 - 5.0"
          ],
          [
           "5.0 - 5.0"
          ],
          [
           "5.0 - 5.0"
          ],
          [
           "5.0 - 5.0"
          ],
          [
           "5.0 - 5.0"
          ],
          [
           "5.0 - 5.0"
          ],
          [
           "5.0 - 5.0"
          ],
          [
           "5.0 - 5.0"
          ],
          [
           "5.0 - 5.0"
          ],
          [
           "7.0 - 9.3"
          ],
          [
           "9.31 - 10.0"
          ],
          [
           "10.0 - 10.0"
          ],
          [
           "10.0 - 10.0"
          ],
          [
           "10.0 - 10.0"
          ],
          [
           "10.0 - 10.0"
          ],
          [
           "10.0 - 10.0"
          ],
          [
           "10.0 - 10.0"
          ],
          [
           "10.0 - 10.0"
          ],
          [
           "10.0 - 10.0"
          ],
          [
           "10.0 - 10.0"
          ],
          [
           "10.0 - 10.0"
          ],
          [
           "10.0 - 10.0"
          ],
          [
           "10.0 - 10.0"
          ],
          [
           "10.0 - 10.0"
          ],
          [
           "10.0 - 10.0"
          ],
          [
           "10.0 - 10.0"
          ],
          [
           "10.0 - 10.0"
          ],
          [
           "10.0 - 10.0"
          ],
          [
           "10.0 - 10.0"
          ],
          [
           "10.0 - 10.0"
          ],
          [
           "10.0 - 10.0"
          ],
          [
           "10.0 - 10.0"
          ],
          [
           "10.0 - 10.0"
          ],
          [
           "10.0 - 10.0"
          ],
          [
           "10.0 - 10.0"
          ],
          [
           "10.0 - 10.0"
          ],
          [
           "10.0 - 10.0"
          ],
          [
           "10.0 - 10.0"
          ],
          [
           "10.0 - 10.0"
          ],
          [
           "10.0 - 10.0"
          ],
          [
           "10.0 - 10.0"
          ],
          [
           "10.0 - 10.0"
          ],
          [
           "10.0 - 10.0"
          ],
          [
           "10.0 - 10.0"
          ],
          [
           "10.0 - 10.0"
          ],
          [
           "10.0 - 10.0"
          ],
          [
           "10.0 - 10.0"
          ],
          [
           "10.0 - 10.0"
          ],
          [
           "10.0 - 10.0"
          ],
          [
           "10.0 - 10.0"
          ],
          [
           "10.0 - 10.0"
          ],
          [
           "10.0 - 10.0"
          ],
          [
           "10.0 - 10.0"
          ],
          [
           "10.0 - 10.0"
          ],
          [
           "10.0 - 10.0"
          ],
          [
           "10.0 - 10.0"
          ],
          [
           "10.0 - 10.0"
          ],
          [
           "10.0 - 10.0"
          ],
          [
           "10.0 - 10.0"
          ],
          [
           "10.0 - 10.0"
          ],
          [
           "10.0 - 10.0"
          ],
          [
           "10.0 - 10.0"
          ],
          [
           "10.0 - 10.0"
          ],
          [
           "10.0 - 10.0"
          ],
          [
           "10.0 - 10.0"
          ],
          [
           "10.0 - 10.0"
          ],
          [
           "10.0 - 10.0"
          ],
          [
           "10.0 - 10.0"
          ],
          [
           "10.0 - 10.0"
          ],
          [
           "10.0 - 10.0"
          ],
          [
           "10.0 - 10.0"
          ],
          [
           "10.0 - 10.0"
          ],
          [
           "10.0 - 10.0"
          ],
          [
           "10.0 - 10.0"
          ],
          [
           "10.0 - 10.0"
          ],
          [
           "10.0 - 10.0"
          ],
          [
           "10.0 - 10.0"
          ],
          [
           "10.0 - 10.0"
          ],
          [
           "10.0 - 10.0"
          ],
          [
           "10.0 - 10.0"
          ],
          [
           "10.0 - 10.0"
          ],
          [
           "10.0 - 10.0"
          ],
          [
           "10.0 - 10.0"
          ],
          [
           "10.0 - 10.0"
          ],
          [
           "10.0 - 10.0"
          ],
          [
           "10.0 - 10.0"
          ],
          [
           "10.0 - 10.0"
          ],
          [
           "10.0 - 10.0"
          ],
          [
           "10.0 - 10.0"
          ],
          [
           "10.0 - 10.0"
          ],
          [
           "10.0 - 10.0"
          ],
          [
           "10.0 - 10.0"
          ],
          [
           "10.0 - 10.0"
          ],
          [
           "10.0 - 10.0"
          ],
          [
           "10.0 - 10.0"
          ],
          [
           "10.0 - 10.0"
          ],
          [
           "10.0 - 10.0"
          ],
          [
           "10.0 - 10.0"
          ],
          [
           "10.0 - 12.0"
          ],
          [
           "13.12 - 15.0"
          ],
          [
           "15.0 - 15.0"
          ],
          [
           "15.0 - 15.0"
          ],
          [
           "15.0 - 15.0"
          ],
          [
           "15.0 - 15.0"
          ],
          [
           "15.0 - 15.0"
          ],
          [
           "15.0 - 15.0"
          ],
          [
           "15.0 - 15.0"
          ],
          [
           "15.0 - 15.0"
          ],
          [
           "15.0 - 15.0"
          ],
          [
           "15.0 - 15.0"
          ],
          [
           "15.0 - 15.0"
          ],
          [
           "15.0 - 15.0"
          ],
          [
           "15.0 - 15.0"
          ],
          [
           "15.0 - 15.0"
          ],
          [
           "15.0 - 15.0"
          ],
          [
           "15.0 - 15.75"
          ],
          [
           "17.36 - 18.0"
          ],
          [
           "18.0 - 20.0"
          ],
          [
           "20.0 - 20.0"
          ],
          [
           "20.0 - 20.0"
          ],
          [
           "20.0 - 20.0"
          ],
          [
           "20.0 - 20.0"
          ],
          [
           "20.0 - 20.0"
          ],
          [
           "20.0 - 20.0"
          ],
          [
           "20.0 - 20.0"
          ],
          [
           "20.0 - 20.0"
          ],
          [
           "20.0 - 20.0"
          ],
          [
           "20.0 - 20.0"
          ],
          [
           "20.0 - 20.0"
          ],
          [
           "20.0 - 20.0"
          ],
          [
           "20.0 - 20.0"
          ],
          [
           "20.0 - 20.0"
          ],
          [
           "20.0 - 20.0"
          ],
          [
           "20.0 - 20.0"
          ],
          [
           "20.0 - 20.0"
          ],
          [
           "20.0 - 20.0"
          ],
          [
           "20.0 - 20.0"
          ],
          [
           "20.0 - 20.0"
          ],
          [
           "20.0 - 20.0"
          ],
          [
           "20.0 - 20.0"
          ],
          [
           "20.0 - 20.0"
          ],
          [
           "20.0 - 20.0"
          ],
          [
           "20.0 - 20.0"
          ],
          [
           "20.0 - 20.0"
          ],
          [
           "20.0 - 20.0"
          ],
          [
           "20.0 - 20.0"
          ],
          [
           "20.0 - 20.0"
          ],
          [
           "20.0 - 20.0"
          ],
          [
           "20.0 - 20.0"
          ],
          [
           "20.0 - 20.0"
          ],
          [
           "20.0 - 20.0"
          ],
          [
           "20.0 - 20.0"
          ],
          [
           "20.0 - 20.0"
          ],
          [
           "20.0 - 20.0"
          ],
          [
           "20.0 - 20.0"
          ],
          [
           "20.0 - 20.0"
          ],
          [
           "20.0 - 20.0"
          ],
          [
           "20.0 - 20.0"
          ],
          [
           "20.0 - 20.0"
          ],
          [
           "20.0 - 20.0"
          ],
          [
           "20.0 - 20.0"
          ],
          [
           "20.0 - 20.0"
          ],
          [
           "20.0 - 20.0"
          ],
          [
           "20.0 - 20.0"
          ],
          [
           "20.0 - 20.0"
          ],
          [
           "20.0 - 20.0"
          ],
          [
           "20.0 - 20.0"
          ],
          [
           "20.0 - 20.0"
          ],
          [
           "20.0 - 20.0"
          ],
          [
           "20.0 - 20.0"
          ],
          [
           "20.0 - 20.0"
          ],
          [
           "20.0 - 20.0"
          ],
          [
           "20.0 - 20.0"
          ],
          [
           "20.0 - 20.0"
          ],
          [
           "20.0 - 20.0"
          ],
          [
           "20.0 - 20.0"
          ],
          [
           "20.0 - 20.0"
          ],
          [
           "20.0 - 20.0"
          ],
          [
           "20.0 - 20.0"
          ],
          [
           "20.0 - 20.0"
          ],
          [
           "20.0 - 20.0"
          ],
          [
           "20.0 - 20.0"
          ],
          [
           "20.0 - 20.0"
          ],
          [
           "20.0 - 20.0"
          ],
          [
           "20.0 - 20.0"
          ],
          [
           "20.0 - 20.0"
          ],
          [
           "20.0 - 20.0"
          ],
          [
           "20.0 - 20.0"
          ],
          [
           "20.0 - 21.0"
          ],
          [
           "21.0 - 22.0"
          ],
          [
           "25.0 - 25.0"
          ],
          [
           "25.0 - 25.0"
          ],
          [
           "25.0 - 25.0"
          ],
          [
           "25.0 - 25.0"
          ],
          [
           "25.0 - 25.0"
          ],
          [
           "25.0 - 25.0"
          ],
          [
           "25.0 - 25.0"
          ],
          [
           "25.0 - 25.0"
          ],
          [
           "25.0 - 25.0"
          ],
          [
           "25.0 - 25.0"
          ],
          [
           "25.0 - 25.0"
          ],
          [
           "25.0 - 25.0"
          ],
          [
           "25.0 - 25.0"
          ],
          [
           "25.0 - 25.0"
          ],
          [
           "25.0 - 25.0"
          ],
          [
           "25.0 - 25.0"
          ],
          [
           "25.0 - 25.0"
          ],
          [
           "25.0 - 25.0"
          ],
          [
           "25.0 - 25.0"
          ],
          [
           "25.0 - 25.0"
          ],
          [
           "25.0 - 25.0"
          ],
          [
           "25.0 - 25.0"
          ],
          [
           "25.0 - 25.0"
          ],
          [
           "25.0 - 25.0"
          ],
          [
           "25.0 - 25.0"
          ],
          [
           "25.0 - 25.0"
          ],
          [
           "25.0 - 25.0"
          ],
          [
           "25.0 - 25.0"
          ],
          [
           "25.0 - 25.0"
          ],
          [
           "25.0 - 25.0"
          ],
          [
           "25.0 - 25.0"
          ],
          [
           "25.0 - 25.0"
          ],
          [
           "25.0 - 25.0"
          ],
          [
           "25.0 - 25.0"
          ],
          [
           "25.0 - 25.0"
          ],
          [
           "25.0 - 25.0"
          ],
          [
           "25.0 - 25.0"
          ],
          [
           "25.0 - 25.0"
          ],
          [
           "25.0 - 25.0"
          ],
          [
           "25.0 - 25.0"
          ],
          [
           "25.0 - 25.0"
          ],
          [
           "25.0 - 25.0"
          ],
          [
           "25.0 - 25.0"
          ],
          [
           "25.0 - 25.0"
          ],
          [
           "25.0 - 25.0"
          ],
          [
           "25.0 - 25.0"
          ],
          [
           "25.0 - 25.0"
          ],
          [
           "25.0 - 25.0"
          ],
          [
           "25.0 - 25.0"
          ],
          [
           "25.0 - 25.0"
          ],
          [
           "25.0 - 25.0"
          ],
          [
           "25.0 - 25.0"
          ],
          [
           "25.0 - 25.0"
          ],
          [
           "25.0 - 25.0"
          ],
          [
           "25.0 - 25.0"
          ],
          [
           "25.0 - 25.0"
          ],
          [
           "25.0 - 25.0"
          ],
          [
           "25.0 - 25.0"
          ],
          [
           "25.0 - 25.0"
          ],
          [
           "25.0 - 25.0"
          ],
          [
           "25.0 - 25.0"
          ],
          [
           "25.0 - 25.0"
          ],
          [
           "25.0 - 25.0"
          ],
          [
           "25.0 - 25.0"
          ],
          [
           "25.0 - 25.0"
          ],
          [
           "25.0 - 25.0"
          ],
          [
           "25.0 - 25.0"
          ],
          [
           "25.0 - 25.0"
          ],
          [
           "25.0 - 25.0"
          ],
          [
           "25.0 - 25.0"
          ],
          [
           "25.0 - 25.0"
          ],
          [
           "25.0 - 25.0"
          ],
          [
           "25.0 - 25.0"
          ],
          [
           "25.0 - 25.0"
          ],
          [
           "25.0 - 25.0"
          ],
          [
           "25.0 - 25.0"
          ],
          [
           "25.0 - 25.0"
          ],
          [
           "25.0 - 25.0"
          ],
          [
           "25.0 - 25.0"
          ],
          [
           "25.0 - 25.0"
          ],
          [
           "25.0 - 25.0"
          ],
          [
           "25.0 - 25.0"
          ],
          [
           "25.0 - 25.0"
          ],
          [
           "25.0 - 25.0"
          ],
          [
           "25.0 - 25.0"
          ],
          [
           "25.0 - 25.0"
          ],
          [
           "25.0 - 25.0"
          ],
          [
           "25.0 - 25.0"
          ],
          [
           "25.0 - 25.0"
          ],
          [
           "25.0 - 25.0"
          ],
          [
           "25.0 - 25.0"
          ],
          [
           "25.0 - 25.0"
          ],
          [
           "25.0 - 25.0"
          ],
          [
           "25.0 - 25.0"
          ],
          [
           "25.0 - 25.0"
          ],
          [
           "25.0 - 25.0"
          ],
          [
           "25.0 - 25.0"
          ],
          [
           "25.0 - 25.0"
          ],
          [
           "25.0 - 25.0"
          ],
          [
           "25.0 - 25.0"
          ],
          [
           "25.0 - 25.0"
          ],
          [
           "25.0 - 25.0"
          ],
          [
           "25.0 - 25.0"
          ],
          [
           "25.0 - 25.0"
          ],
          [
           "25.0 - 25.0"
          ],
          [
           "25.0 - 25.0"
          ],
          [
           "25.0 - 25.0"
          ],
          [
           "25.0 - 25.0"
          ],
          [
           "25.0 - 25.0"
          ],
          [
           "25.0 - 25.0"
          ],
          [
           "25.0 - 25.0"
          ],
          [
           "25.0 - 25.0"
          ],
          [
           "25.0 - 25.0"
          ],
          [
           "25.0 - 25.0"
          ],
          [
           "25.0 - 25.0"
          ],
          [
           "25.0 - 25.0"
          ],
          [
           "25.0 - 25.0"
          ],
          [
           "25.0 - 25.0"
          ],
          [
           "25.0 - 25.0"
          ],
          [
           "25.0 - 25.0"
          ],
          [
           "25.0 - 25.0"
          ],
          [
           "25.0 - 25.0"
          ],
          [
           "25.0 - 25.0"
          ],
          [
           "25.0 - 25.0"
          ],
          [
           "25.0 - 25.0"
          ],
          [
           "25.0 - 25.0"
          ],
          [
           "25.0 - 25.0"
          ],
          [
           "25.0 - 25.0"
          ],
          [
           "25.0 - 25.0"
          ],
          [
           "25.0 - 25.0"
          ],
          [
           "25.0 - 25.0"
          ],
          [
           "25.0 - 25.0"
          ],
          [
           "25.0 - 25.0"
          ],
          [
           "25.0 - 25.0"
          ],
          [
           "25.0 - 25.0"
          ],
          [
           "25.0 - 25.0"
          ],
          [
           "25.0 - 25.0"
          ],
          [
           "25.0 - 25.0"
          ],
          [
           "25.0 - 25.0"
          ],
          [
           "25.0 - 25.0"
          ],
          [
           "25.0 - 25.0"
          ],
          [
           "25.0 - 25.0"
          ],
          [
           "25.0 - 25.0"
          ],
          [
           "25.0 - 25.0"
          ],
          [
           "25.0 - 25.0"
          ],
          [
           "25.0 - 25.0"
          ],
          [
           "25.0 - 25.0"
          ],
          [
           "25.0 - 25.0"
          ],
          [
           "25.0 - 25.0"
          ],
          [
           "25.0 - 25.0"
          ],
          [
           "25.0 - 25.0"
          ],
          [
           "25.0 - 25.0"
          ],
          [
           "25.0 - 25.0"
          ],
          [
           "25.0 - 25.0"
          ],
          [
           "25.0 - 25.0"
          ],
          [
           "25.0 - 25.0"
          ],
          [
           "25.0 - 25.0"
          ],
          [
           "25.0 - 25.0"
          ],
          [
           "25.0 - 25.0"
          ],
          [
           "25.0 - 25.0"
          ],
          [
           "25.0 - 25.0"
          ],
          [
           "25.0 - 25.0"
          ],
          [
           "25.0 - 25.0"
          ],
          [
           "25.0 - 25.0"
          ],
          [
           "25.0 - 25.0"
          ],
          [
           "25.0 - 25.0"
          ],
          [
           "25.0 - 25.0"
          ],
          [
           "25.0 - 25.0"
          ],
          [
           "25.0 - 25.0"
          ],
          [
           "25.0 - 25.0"
          ],
          [
           "25.0 - 25.0"
          ],
          [
           "25.0 - 25.0"
          ],
          [
           "25.0 - 25.0"
          ],
          [
           "25.0 - 25.0"
          ],
          [
           "25.0 - 25.0"
          ],
          [
           "25.0 - 25.0"
          ],
          [
           "25.0 - 25.0"
          ],
          [
           "25.0 - 25.0"
          ],
          [
           "25.0 - 25.0"
          ],
          [
           "25.0 - 25.0"
          ],
          [
           "25.0 - 25.0"
          ],
          [
           "25.0 - 25.0"
          ],
          [
           "25.0 - 25.0"
          ],
          [
           "25.0 - 25.0"
          ],
          [
           "25.0 - 25.0"
          ],
          [
           "25.0 - 25.0"
          ],
          [
           "25.0 - 25.0"
          ],
          [
           "25.0 - 25.0"
          ],
          [
           "25.0 - 25.0"
          ],
          [
           "25.0 - 25.0"
          ],
          [
           "25.0 - 25.0"
          ],
          [
           "25.0 - 25.0"
          ],
          [
           "25.0 - 25.0"
          ],
          [
           "25.0 - 25.0"
          ],
          [
           "25.0 - 25.0"
          ],
          [
           "25.0 - 25.0"
          ],
          [
           "25.0 - 25.0"
          ],
          [
           "25.0 - 25.0"
          ],
          [
           "25.0 - 25.0"
          ],
          [
           "25.0 - 25.0"
          ],
          [
           "25.0 - 25.0"
          ],
          [
           "25.0 - 25.0"
          ],
          [
           "25.0 - 25.0"
          ],
          [
           "25.0 - 25.0"
          ],
          [
           "25.0 - 25.0"
          ],
          [
           "25.0 - 25.0"
          ],
          [
           "25.0 - 25.0"
          ],
          [
           "25.0 - 25.0"
          ],
          [
           "25.0 - 25.0"
          ],
          [
           "25.0 - 25.0"
          ],
          [
           "25.0 - 25.0"
          ],
          [
           "25.0 - 25.0"
          ],
          [
           "25.0 - 25.0"
          ],
          [
           "25.0 - 25.0"
          ],
          [
           "25.0 - 25.0"
          ],
          [
           "25.0 - 25.0"
          ],
          [
           "25.0 - 25.0"
          ],
          [
           "25.0 - 25.0"
          ],
          [
           "25.0 - 25.0"
          ],
          [
           "25.0 - 25.0"
          ],
          [
           "25.0 - 25.0"
          ],
          [
           "25.0 - 25.0"
          ],
          [
           "25.0 - 25.0"
          ],
          [
           "25.0 - 25.0"
          ],
          [
           "25.0 - 25.0"
          ],
          [
           "25.0 - 25.0"
          ],
          [
           "25.0 - 25.0"
          ],
          [
           "25.0 - 25.0"
          ],
          [
           "25.0 - 25.0"
          ],
          [
           "25.0 - 25.0"
          ],
          [
           "25.0 - 25.0"
          ],
          [
           "25.0 - 25.0"
          ],
          [
           "25.0 - 25.0"
          ],
          [
           "25.0 - 25.0"
          ],
          [
           "30.0 - 30.0"
          ],
          [
           "30.0 - 30.0"
          ],
          [
           "30.0 - 30.0"
          ],
          [
           "30.0 - 30.0"
          ],
          [
           "35.99 - 36.34"
          ],
          [
           "40.0 - 40.0"
          ],
          [
           "40.0 - 40.0"
          ],
          [
           "40.0 - 40.0"
          ],
          [
           "40.0 - 40.0"
          ],
          [
           "40.0 - 40.0"
          ],
          [
           "40.0 - 40.0"
          ],
          [
           "40.0 - 40.0"
          ],
          [
           "45.35 - 47.0"
          ],
          [
           "48.45 - 49.62"
          ],
          [
           "49.64 - 50.0"
          ],
          [
           "50.0 - 50.0"
          ],
          [
           "50.0 - 50.0"
          ],
          [
           "50.0 - 50.0"
          ],
          [
           "50.0 - 50.0"
          ],
          [
           "50.0 - 50.0"
          ],
          [
           "50.0 - 50.0"
          ],
          [
           "50.0 - 50.0"
          ],
          [
           "50.0 - 50.0"
          ],
          [
           "50.0 - 50.0"
          ],
          [
           "50.0 - 50.0"
          ],
          [
           "50.0 - 50.0"
          ],
          [
           "50.0 - 50.0"
          ],
          [
           "50.0 - 50.0"
          ],
          [
           "50.0 - 50.0"
          ],
          [
           "50.0 - 50.0"
          ],
          [
           "50.0 - 50.0"
          ],
          [
           "50.0 - 50.0"
          ],
          [
           "50.0 - 50.0"
          ],
          [
           "50.0 - 50.0"
          ],
          [
           "50.0 - 50.0"
          ],
          [
           "50.0 - 50.0"
          ],
          [
           "50.0 - 50.0"
          ],
          [
           "50.0 - 50.0"
          ],
          [
           "50.0 - 50.0"
          ],
          [
           "50.0 - 50.0"
          ],
          [
           "50.0 - 50.0"
          ],
          [
           "50.0 - 50.0"
          ],
          [
           "50.0 - 50.0"
          ],
          [
           "50.0 - 50.0"
          ],
          [
           "50.0 - 50.0"
          ],
          [
           "50.0 - 50.0"
          ],
          [
           "50.0 - 50.0"
          ],
          [
           "50.0 - 50.0"
          ],
          [
           "50.0 - 50.0"
          ],
          [
           "50.0 - 50.0"
          ],
          [
           "50.0 - 50.0"
          ],
          [
           "50.0 - 50.0"
          ],
          [
           "50.0 - 50.0"
          ],
          [
           "50.0 - 50.0"
          ],
          [
           "50.0 - 50.0"
          ],
          [
           "50.0 - 50.0"
          ],
          [
           "50.0 - 50.0"
          ],
          [
           "50.0 - 50.0"
          ],
          [
           "50.0 - 50.0"
          ],
          [
           "50.0 - 50.0"
          ],
          [
           "50.0 - 50.0"
          ],
          [
           "50.0 - 50.0"
          ],
          [
           "50.0 - 50.0"
          ],
          [
           "50.0 - 50.0"
          ],
          [
           "50.0 - 50.0"
          ],
          [
           "50.0 - 50.0"
          ],
          [
           "50.0 - 50.0"
          ],
          [
           "50.0 - 50.0"
          ],
          [
           "50.0 - 50.0"
          ],
          [
           "50.0 - 50.0"
          ],
          [
           "50.0 - 50.0"
          ],
          [
           "50.0 - 50.0"
          ],
          [
           "50.0 - 50.0"
          ],
          [
           "50.0 - 50.0"
          ],
          [
           "50.0 - 50.0"
          ],
          [
           "50.0 - 50.0"
          ],
          [
           "50.0 - 50.0"
          ],
          [
           "50.0 - 50.0"
          ],
          [
           "50.0 - 50.0"
          ],
          [
           "50.0 - 50.0"
          ],
          [
           "50.0 - 50.0"
          ],
          [
           "50.0 - 50.0"
          ],
          [
           "50.0 - 50.0"
          ],
          [
           "50.0 - 50.0"
          ],
          [
           "50.0 - 50.0"
          ],
          [
           "50.0 - 50.0"
          ],
          [
           "50.0 - 50.0"
          ],
          [
           "50.0 - 50.0"
          ],
          [
           "50.0 - 50.0"
          ],
          [
           "50.0 - 50.0"
          ],
          [
           "50.0 - 50.0"
          ],
          [
           "50.0 - 50.0"
          ],
          [
           "50.0 - 50.0"
          ],
          [
           "50.0 - 50.0"
          ],
          [
           "50.0 - 50.0"
          ],
          [
           "50.0 - 50.0"
          ],
          [
           "50.0 - 50.0"
          ],
          [
           "50.0 - 50.0"
          ],
          [
           "50.0 - 50.0"
          ],
          [
           "50.0 - 50.0"
          ],
          [
           "50.0 - 50.0"
          ],
          [
           "50.0 - 50.0"
          ],
          [
           "50.0 - 50.0"
          ],
          [
           "50.0 - 50.0"
          ],
          [
           "50.0 - 50.0"
          ],
          [
           "50.0 - 50.0"
          ],
          [
           "50.0 - 50.0"
          ],
          [
           "50.0 - 50.0"
          ],
          [
           "50.0 - 50.0"
          ],
          [
           "50.0 - 50.0"
          ],
          [
           "50.0 - 50.0"
          ],
          [
           "50.0 - 50.0"
          ],
          [
           "50.0 - 50.0"
          ],
          [
           "50.0 - 50.0"
          ],
          [
           "50.0 - 50.0"
          ],
          [
           "50.0 - 50.0"
          ],
          [
           "50.0 - 50.0"
          ],
          [
           "50.0 - 50.0"
          ],
          [
           "50.0 - 50.0"
          ],
          [
           "50.0 - 50.0"
          ],
          [
           "50.0 - 50.0"
          ],
          [
           "50.0 - 50.0"
          ],
          [
           "50.0 - 50.0"
          ],
          [
           "50.0 - 50.0"
          ],
          [
           "50.0 - 50.0"
          ],
          [
           "50.0 - 50.0"
          ],
          [
           "50.0 - 50.0"
          ],
          [
           "50.0 - 50.0"
          ],
          [
           "50.0 - 50.0"
          ],
          [
           "50.0 - 50.0"
          ],
          [
           "50.0 - 50.0"
          ],
          [
           "50.0 - 50.0"
          ],
          [
           "50.0 - 50.0"
          ],
          [
           "50.0 - 50.0"
          ],
          [
           "50.0 - 50.0"
          ],
          [
           "50.0 - 50.0"
          ],
          [
           "50.0 - 50.0"
          ],
          [
           "50.0 - 50.0"
          ],
          [
           "50.0 - 50.0"
          ],
          [
           "50.0 - 50.0"
          ],
          [
           "50.0 - 50.0"
          ],
          [
           "50.0 - 50.0"
          ],
          [
           "50.0 - 50.0"
          ],
          [
           "50.0 - 50.0"
          ],
          [
           "50.0 - 50.0"
          ],
          [
           "50.0 - 50.0"
          ],
          [
           "50.0 - 50.0"
          ],
          [
           "50.0 - 50.0"
          ],
          [
           "50.0 - 50.0"
          ],
          [
           "50.0 - 50.0"
          ],
          [
           "50.0 - 50.0"
          ],
          [
           "50.0 - 50.0"
          ],
          [
           "50.0 - 50.0"
          ],
          [
           "50.0 - 50.0"
          ],
          [
           "50.0 - 50.0"
          ],
          [
           "50.0 - 50.0"
          ],
          [
           "50.0 - 50.0"
          ],
          [
           "50.0 - 50.0"
          ],
          [
           "50.0 - 50.0"
          ],
          [
           "50.0 - 50.0"
          ],
          [
           "50.0 - 50.0"
          ],
          [
           "50.0 - 50.0"
          ],
          [
           "50.0 - 50.0"
          ],
          [
           "50.0 - 50.0"
          ],
          [
           "50.0 - 50.0"
          ],
          [
           "50.0 - 50.0"
          ],
          [
           "50.0 - 50.0"
          ],
          [
           "50.0 - 50.0"
          ],
          [
           "50.0 - 50.0"
          ],
          [
           "50.0 - 50.0"
          ],
          [
           "50.0 - 50.0"
          ],
          [
           "50.0 - 50.0"
          ],
          [
           "50.0 - 50.0"
          ],
          [
           "50.0 - 50.0"
          ],
          [
           "50.0 - 50.0"
          ],
          [
           "50.0 - 50.0"
          ],
          [
           "50.0 - 50.0"
          ],
          [
           "50.0 - 50.0"
          ],
          [
           "50.0 - 50.0"
          ],
          [
           "50.0 - 50.0"
          ],
          [
           "50.0 - 50.0"
          ],
          [
           "50.0 - 50.0"
          ],
          [
           "50.0 - 50.0"
          ],
          [
           "50.0 - 50.0"
          ],
          [
           "50.0 - 50.0"
          ],
          [
           "50.0 - 50.0"
          ],
          [
           "50.0 - 50.0"
          ],
          [
           "50.0 - 50.0"
          ],
          [
           "50.0 - 50.0"
          ],
          [
           "50.0 - 50.0"
          ],
          [
           "50.0 - 50.0"
          ],
          [
           "50.0 - 50.0"
          ],
          [
           "50.0 - 50.0"
          ],
          [
           "50.0 - 50.0"
          ],
          [
           "50.0 - 50.0"
          ],
          [
           "50.0 - 50.0"
          ],
          [
           "50.0 - 50.0"
          ],
          [
           "99.0 - 99.0"
          ],
          [
           "99.0 - 99.0"
          ],
          [
           "99.0 - 99.0"
          ],
          [
           "99.0 - 99.0"
          ],
          [
           "100.0 - 100.0"
          ],
          [
           "100.0 - 100.0"
          ],
          [
           "100.0 - 100.0"
          ],
          [
           "100.0 - 100.0"
          ],
          [
           "100.0 - 100.0"
          ],
          [
           "100.0 - 100.0"
          ],
          [
           "100.0 - 100.0"
          ],
          [
           "100.0 - 100.0"
          ],
          [
           "100.0 - 100.0"
          ],
          [
           "100.0 - 100.0"
          ],
          [
           "100.0 - 100.0"
          ],
          [
           "100.0 - 100.0"
          ],
          [
           "100.0 - 100.0"
          ],
          [
           "100.0 - 100.0"
          ],
          [
           "100.0 - 100.0"
          ],
          [
           "100.0 - 100.0"
          ],
          [
           "100.0 - 100.0"
          ],
          [
           "100.0 - 100.0"
          ],
          [
           "100.0 - 100.0"
          ],
          [
           "100.0 - 100.0"
          ],
          [
           "100.0 - 100.0"
          ],
          [
           "100.0 - 100.0"
          ],
          [
           "100.0 - 100.0"
          ],
          [
           "100.0 - 100.0"
          ],
          [
           "100.0 - 100.0"
          ],
          [
           "100.0 - 100.0"
          ],
          [
           "100.0 - 100.0"
          ],
          [
           "100.0 - 100.0"
          ],
          [
           "100.0 - 100.0"
          ],
          [
           "100.0 - 100.0"
          ],
          [
           "100.0 - 100.0"
          ],
          [
           "100.0 - 100.0"
          ],
          [
           "100.0 - 100.0"
          ],
          [
           "100.0 - 100.0"
          ],
          [
           "100.0 - 100.0"
          ],
          [
           "100.0 - 100.0"
          ],
          [
           "100.0 - 100.0"
          ],
          [
           "100.0 - 100.0"
          ],
          [
           "100.0 - 100.0"
          ],
          [
           "100.0 - 100.0"
          ],
          [
           "100.0 - 100.0"
          ],
          [
           "100.0 - 100.0"
          ],
          [
           "100.0 - 100.0"
          ]
         ],
         "hovertemplate": "comparative_retention=lower<br>group1024=%{x}<br>retention_yr1=%{y}<br>group_range=%{customdata[0]}<extra></extra>",
         "legendgroup": "lower",
         "marker": {
          "color": "#1F77B4",
          "symbol": "circle"
         },
         "mode": "markers",
         "name": "lower",
         "showlegend": true,
         "type": "scattergl",
         "x": [
          0,
          1,
          2,
          3,
          4,
          5,
          6,
          7,
          8,
          9,
          10,
          11,
          12,
          13,
          14,
          15,
          16,
          17,
          18,
          19,
          20,
          21,
          22,
          23,
          24,
          25,
          26,
          28,
          29,
          30,
          31,
          32,
          33,
          34,
          35,
          36,
          37,
          38,
          39,
          40,
          41,
          42,
          43,
          44,
          45,
          46,
          47,
          48,
          49,
          50,
          51,
          52,
          53,
          54,
          55,
          56,
          57,
          58,
          59,
          60,
          61,
          62,
          63,
          64,
          65,
          66,
          67,
          68,
          69,
          70,
          71,
          72,
          73,
          74,
          75,
          76,
          77,
          78,
          79,
          80,
          81,
          82,
          83,
          84,
          85,
          86,
          87,
          88,
          89,
          90,
          91,
          92,
          93,
          94,
          95,
          96,
          97,
          98,
          99,
          100,
          101,
          102,
          103,
          104,
          105,
          106,
          107,
          108,
          109,
          110,
          111,
          112,
          113,
          114,
          115,
          116,
          117,
          119,
          120,
          121,
          122,
          123,
          124,
          125,
          126,
          127,
          128,
          129,
          130,
          131,
          133,
          134,
          135,
          136,
          138,
          139,
          140,
          141,
          142,
          143,
          144,
          145,
          146,
          147,
          148,
          149,
          150,
          151,
          152,
          153,
          154,
          155,
          156,
          157,
          158,
          159,
          160,
          161,
          162,
          163,
          164,
          165,
          166,
          167,
          168,
          169,
          170,
          171,
          172,
          173,
          174,
          175,
          176,
          177,
          178,
          179,
          180,
          181,
          182,
          183,
          184,
          185,
          186,
          187,
          188,
          189,
          190,
          191,
          192,
          193,
          194,
          195,
          196,
          197,
          198,
          199,
          200,
          201,
          202,
          203,
          204,
          205,
          206,
          207,
          208,
          209,
          210,
          211,
          214,
          215,
          216,
          217,
          218,
          219,
          220,
          221,
          222,
          223,
          224,
          225,
          226,
          227,
          228,
          229,
          230,
          231,
          232,
          233,
          234,
          235,
          236,
          237,
          238,
          239,
          240,
          241,
          242,
          243,
          244,
          245,
          246,
          247,
          248,
          249,
          250,
          251,
          252,
          253,
          254,
          255,
          256,
          257,
          258,
          259,
          260,
          261,
          262,
          263,
          264,
          265,
          266,
          267,
          268,
          269,
          270,
          271,
          272,
          273,
          274,
          275,
          276,
          277,
          278,
          279,
          280,
          281,
          282,
          283,
          284,
          285,
          286,
          287,
          288,
          289,
          290,
          291,
          292,
          293,
          294,
          295,
          296,
          297,
          298,
          299,
          300,
          301,
          302,
          303,
          304,
          305,
          306,
          307,
          308,
          309,
          310,
          311,
          312,
          313,
          314,
          315,
          316,
          317,
          318,
          319,
          320,
          321,
          322,
          323,
          324,
          325,
          326,
          327,
          328,
          329,
          330,
          331,
          332,
          333,
          334,
          335,
          336,
          337,
          338,
          339,
          340,
          341,
          342,
          343,
          344,
          345,
          347,
          348,
          349,
          350,
          351,
          352,
          353,
          354,
          355,
          356,
          357,
          358,
          359,
          360,
          361,
          362,
          363,
          364,
          365,
          366,
          367,
          368,
          369,
          370,
          371,
          372,
          373,
          374,
          375,
          376,
          377,
          378,
          379,
          380,
          381,
          382,
          383,
          384,
          385,
          386,
          387,
          388,
          390,
          391,
          392,
          393,
          394,
          395,
          396,
          397,
          398,
          399,
          400,
          401,
          402,
          403,
          404,
          405,
          406,
          407,
          408,
          409,
          410,
          411,
          412,
          413,
          414,
          415,
          416,
          417,
          418,
          419,
          420,
          421,
          422,
          423,
          424,
          425,
          426,
          427,
          428,
          430,
          431,
          432,
          433,
          434,
          436,
          437,
          439,
          440,
          441,
          442,
          443,
          444,
          445,
          446,
          447,
          448,
          449,
          450,
          451,
          452,
          459,
          462,
          463,
          465,
          485,
          489,
          490,
          492,
          497,
          499,
          501,
          502,
          510,
          512,
          513,
          514,
          515,
          516,
          517,
          518,
          519,
          520,
          522,
          523,
          524,
          525,
          526,
          527,
          528,
          529,
          530,
          531,
          532,
          533,
          534,
          535,
          536,
          537,
          538,
          539,
          540,
          541,
          542,
          543,
          544,
          545,
          546,
          548,
          549,
          550,
          551,
          552,
          553,
          554,
          555,
          557,
          558,
          559,
          560,
          561,
          562,
          563,
          565,
          566,
          567,
          569,
          570,
          572,
          575,
          576,
          577,
          579,
          580,
          581,
          582,
          583,
          584,
          586,
          587,
          588,
          589,
          590,
          591,
          592,
          594,
          596,
          597,
          598,
          599,
          600,
          601,
          602,
          603,
          604,
          605,
          606,
          607,
          608,
          609,
          610,
          611,
          612,
          613,
          614,
          615,
          617,
          618,
          619,
          621,
          623,
          624,
          625,
          627,
          630,
          631,
          632,
          633,
          635,
          636,
          637,
          638,
          639,
          640,
          641,
          642,
          643,
          644,
          645,
          647,
          648,
          650,
          651,
          652,
          653,
          654,
          655,
          656,
          657,
          658,
          659,
          660,
          661,
          662,
          663,
          664,
          665,
          666,
          667,
          668,
          669,
          670,
          671,
          672,
          673,
          674,
          675,
          676,
          677,
          679,
          681,
          682,
          683,
          684,
          685,
          686,
          687,
          689,
          690,
          691,
          692,
          693,
          694,
          695,
          696,
          697,
          698,
          700,
          701,
          702,
          703,
          704,
          705,
          706,
          707,
          708,
          709,
          710,
          711,
          712,
          713,
          714,
          715,
          716,
          717,
          718,
          720,
          721,
          785,
          788,
          791,
          794,
          800,
          801,
          805,
          806,
          808,
          812,
          813,
          815,
          816,
          817,
          819,
          820,
          823,
          824,
          825,
          826,
          827,
          828,
          829,
          830,
          835,
          836,
          838,
          839,
          842,
          846,
          847,
          848,
          853,
          854,
          855,
          856,
          861,
          862,
          863,
          868,
          874,
          875,
          877,
          878,
          883,
          885,
          886
         ],
         "xaxis": "x",
         "y": [
          0.037065052950075644,
          0.043668122270742356,
          0.04215976331360947,
          0.0364963503649635,
          0.03237951807228916,
          0.04399701715137957,
          0.04373610081541883,
          0.0879848628192999,
          0.099581589958159,
          0.10727969348659004,
          0.15268817204301074,
          0.13075506445672191,
          0.08395061728395062,
          0.085,
          0.10628019323671498,
          0.08788598574821853,
          0.10591133004926108,
          0.0654911838790932,
          0.08152173913043478,
          0.09536784741144415,
          0.10789473684210527,
          0.09367088607594937,
          0.08533333333333333,
          0.08095238095238096,
          0.11450381679389313,
          0.08463251670378619,
          0.10144927536231885,
          0.19376391982182628,
          0.15920398009950248,
          0.14221218961625282,
          0.1111111111111111,
          0.1550561797752809,
          0.11868686868686869,
          0.12589073634204276,
          0.10158013544018059,
          0.12735849056603774,
          0.13701923076923078,
          0.11961722488038277,
          0.11951219512195121,
          0.11298076923076923,
          0.13978494623655913,
          0.12009237875288684,
          0.1111111111111111,
          0.1232876712328767,
          0.09798994974874371,
          0.14081145584725538,
          0.09798994974874371,
          0.1,
          0.09813084112149532,
          0.09567198177676538,
          0.116331096196868,
          0.1362530413625304,
          0.13624678663239073,
          0.12727272727272726,
          0.10677083333333333,
          0.1261904761904762,
          0.14251781472684086,
          0.1015625,
          0.10047846889952153,
          0.09280742459396751,
          0.12177985948477751,
          0.1336405529953917,
          0.12285012285012285,
          0.09178743961352658,
          0.16058394160583941,
          0.12165450121654502,
          0.13012048192771083,
          0.10835214446952596,
          0.1065989847715736,
          0.10392609699769054,
          0.1353211009174312,
          0.10772833723653395,
          0.12751677852348994,
          0.13908872901678657,
          0.12135922330097088,
          0.11816192560175055,
          0.10978520286396182,
          0.12387387387387387,
          0.12682926829268293,
          0.14153132250580047,
          0.11395348837209303,
          0.12709832134292565,
          0.10401891252955082,
          0.14084507042253522,
          0.14527845036319612,
          0.12589073634204276,
          0.12408759124087591,
          0.12300683371298406,
          0.11441647597254005,
          0.13707865168539327,
          0.1348314606741573,
          0.1318407960199005,
          0.13411764705882354,
          0.1366906474820144,
          0.11270983213429256,
          0.10268948655256724,
          0.12646370023419204,
          0.10843373493975904,
          0.141439205955335,
          0.11711711711711711,
          0.13592233009708737,
          0.12176165803108809,
          0.12555066079295155,
          0.1625,
          0.1377672209026128,
          0.11611374407582939,
          0.12831858407079647,
          0.1345707656612529,
          0.13043478260869565,
          0.10904872389791183,
          0.1211453744493392,
          0.145,
          0.14527845036319612,
          0.09803921568627451,
          0.12093023255813953,
          0.11682242990654206,
          0.18112244897959184,
          0.16816816816816818,
          0.1556420233463035,
          0.1762295081967213,
          0.1409090909090909,
          0.15948275862068967,
          0.17842323651452283,
          0.1623931623931624,
          0.11946902654867257,
          0.1276595744680851,
          0.18614718614718614,
          0.12133891213389121,
          0.18181818181818182,
          0.17333333333333334,
          0.16044776119402984,
          0.16019417475728157,
          0.15352697095435686,
          0.16541353383458646,
          0.1746987951807229,
          0.12652068126520682,
          0.08089887640449438,
          0.11387163561076605,
          0.10981308411214953,
          0.11258278145695365,
          0.09557109557109557,
          0.08296943231441048,
          0.09263657957244656,
          0.11395348837209303,
          0.11711711711711711,
          0.09954751131221719,
          0.1111111111111111,
          0.09785202863961814,
          0.11888111888111888,
          0.10786516853932585,
          0.091324200913242,
          0.09767441860465116,
          0.09174311926605505,
          0.09480812641083522,
          0.10897435897435898,
          0.08941176470588236,
          0.14692982456140352,
          0.11013215859030837,
          0.09569377990430622,
          0.08705357142857142,
          0.10158013544018059,
          0.1038135593220339,
          0.11670480549199085,
          0.06888888888888889,
          0.10638297872340426,
          0.11235955056179775,
          0.07991360691144708,
          0.12633832976445397,
          0.0867579908675799,
          0.11279826464208242,
          0.09401709401709402,
          0.11512415349887133,
          0.07506053268765134,
          0.13769751693002258,
          0.11685393258426967,
          0.10638297872340426,
          0.097799511002445,
          0.11358024691358025,
          0.14255765199161424,
          0.08686440677966102,
          0.11320754716981132,
          0.11392405063291139,
          0.1010989010989011,
          0.09133489461358314,
          0.1087962962962963,
          0.10440835266821345,
          0.10657596371882086,
          0.09813084112149532,
          0.10267857142857142,
          0.09817351598173515,
          0.11926605504587157,
          0.10141509433962265,
          0.10087719298245613,
          0.09047619047619047,
          0.08714596949891068,
          0.10412147505422993,
          0.10227272727272728,
          0.09192825112107623,
          0.11546840958605664,
          0.0892018779342723,
          0.1048951048951049,
          0.09761388286334056,
          0.0855106888361045,
          0.12719298245614036,
          0.09425287356321839,
          0.11899313501144165,
          0.13253012048192772,
          0.1882716049382716,
          0.15073529411764705,
          0.15,
          0.17562724014336917,
          0.17328519855595667,
          0.12359550561797752,
          0.1386861313868613,
          0.14344262295081966,
          0.10833333333333334,
          0.15352697095435686,
          0.12734082397003746,
          0.15891472868217055,
          0.13740458015267176,
          0.14705882352941177,
          0.16417910447761194,
          0.16906474820143885,
          0.13846153846153847,
          0.14482758620689656,
          0.16730038022813687,
          0.1056338028169014,
          0.15129151291512916,
          0.15413533834586465,
          0.14625850340136054,
          0.1407942238267148,
          0.1678082191780822,
          0.1575091575091575,
          0.17490494296577946,
          0.16176470588235295,
          0.1371841155234657,
          0.15447154471544716,
          0.13618677042801555,
          0.1527777777777778,
          0.14184397163120568,
          0.1510791366906475,
          0.16551724137931034,
          0.16845878136200718,
          0.15185185185185185,
          0.16091954022988506,
          0.136,
          0.1638655462184874,
          0.149812734082397,
          0.15357142857142858,
          0.11149825783972125,
          0.13127413127413126,
          0.1875,
          0.13043478260869565,
          0.13653136531365315,
          0.15471698113207547,
          0.15845070422535212,
          0.13953488372093023,
          0.1527777777777778,
          0.15018315018315018,
          0.16487455197132617,
          0.15234375,
          0.17894736842105263,
          0.1423487544483986,
          0.13043478260869565,
          0.12062256809338522,
          0.16730038022813687,
          0.14285714285714285,
          0.15302491103202848,
          0.13382899628252787,
          0.1626984126984127,
          0.16417910447761194,
          0.12213740458015267,
          0.1553030303030303,
          0.12043795620437957,
          0.13553113553113552,
          0.14788732394366197,
          0.13793103448275862,
          0.1471698113207547,
          0.16853932584269662,
          0.13602941176470587,
          0.15579710144927536,
          0.12152777777777778,
          0.13793103448275862,
          0.13043478260869565,
          0.14728682170542637,
          0.1597222222222222,
          0.16845878136200718,
          0.15671641791044777,
          0.11462450592885376,
          0.18439716312056736,
          0.13090909090909092,
          0.11428571428571428,
          0.16728624535315986,
          0.12627986348122866,
          0.12109375,
          0.15891472868217055,
          0.1511627906976744,
          0.14965986394557823,
          0.17,
          0.11836734693877551,
          0.18587360594795538,
          0.16796875,
          0.14772727272727273,
          0.13805970149253732,
          0.14285714285714285,
          0.11278195488721804,
          0.17041800643086816,
          0.1388888888888889,
          0.15730337078651685,
          0.16083916083916083,
          0.10526315789473684,
          0.15901060070671377,
          0.15748031496062992,
          0.12927756653992395,
          0.19402985074626866,
          0.1368421052631579,
          0.1289198606271777,
          0.1511627906976744,
          0.15613382899628253,
          0.13793103448275862,
          0.1684981684981685,
          0.1781818181818182,
          0.13043478260869565,
          0.15384615384615385,
          0.12251655629139073,
          0.1646586345381526,
          0.15849056603773584,
          0.1728395061728395,
          0.11870503597122302,
          0.14785992217898833,
          0.15358361774744028,
          0.17028985507246377,
          0.17204301075268819,
          0.11721611721611722,
          0.15359477124183007,
          0.13284132841328414,
          0.14173228346456693,
          0.17777777777777778,
          0.13857677902621723,
          0.1596958174904943,
          0.17667844522968199,
          0.136,
          0.16287878787878787,
          0.14035087719298245,
          0.15298507462686567,
          0.14432989690721648,
          0.15648854961832062,
          0.13846153846153847,
          0.1520912547528517,
          0.17391304347826086,
          0.1595744680851064,
          0.1423076923076923,
          0.13026819923371646,
          0.17307692307692307,
          0.17293233082706766,
          0.19117647058823528,
          0.1510791366906475,
          0.1524163568773234,
          0.14186851211072665,
          0.12267657992565056,
          0.10423452768729642,
          0.15217391304347827,
          0.17006802721088435,
          0.16728624535315986,
          0.16470588235294117,
          0.13962264150943396,
          0.17343173431734318,
          0.15789473684210525,
          0.13818181818181818,
          0.16981132075471697,
          0.12096774193548387,
          0.16376306620209058,
          0.11846689895470383,
          0.16044776119402984,
          0.1440329218106996,
          0.15602836879432624,
          0.16666666666666666,
          0.16911764705882354,
          0.09163346613545817,
          0.1044776119402985,
          0.17753623188405798,
          0.1532567049808429,
          0.1183206106870229,
          0.14233576642335766,
          0.1423841059602649,
          0.16312056737588654,
          0.12790697674418605,
          0.15636363636363637,
          0.13043478260869565,
          0.14396887159533073,
          0.17307692307692307,
          0.15555555555555556,
          0.12982456140350876,
          0.16153846153846155,
          0.1328125,
          0.18627450980392157,
          0.15570934256055363,
          0.13011152416356878,
          0.1450381679389313,
          0.15073529411764705,
          0.19245283018867926,
          0.15162454873646208,
          0.11524163568773234,
          0.12648221343873517,
          0.145748987854251,
          0.1505016722408027,
          0.1505016722408027,
          0.1391941391941392,
          0.11960132890365449,
          0.14334470989761092,
          0.16182572614107885,
          0.1245136186770428,
          0.15666666666666668,
          0.18149466192170818,
          0.15053763440860216,
          0.14893617021276595,
          0.12927756653992395,
          0.17537313432835822,
          0.15613382899628253,
          0.16470588235294117,
          0.13405797101449277,
          0.17142857142857143,
          0.138996138996139,
          0.1590909090909091,
          0.13745704467353953,
          0.175,
          0.12681159420289856,
          0.16296296296296298,
          0.15725806451612903,
          0.14930555555555555,
          0.1310344827586207,
          0.16352201257861634,
          0.11764705882352941,
          0.13740458015267176,
          0.17110266159695817,
          0.1225296442687747,
          0.16071428571428573,
          0.1867704280155642,
          0.17916666666666667,
          0.13818181818181818,
          0.11486486486486487,
          0.14652014652014653,
          0.18815331010452963,
          0.18151815181518152,
          0.18421052631578946,
          0.18506493506493507,
          0.1414141414141414,
          0.17434210526315788,
          0.19298245614035087,
          0.19202898550724637,
          0.15161290322580645,
          0.1828358208955224,
          0.17857142857142858,
          0.18243243243243243,
          0.1864406779661017,
          0.1901840490797546,
          0.14012738853503184,
          0.15953307392996108,
          0.18548387096774194,
          0.14345991561181434,
          0.16412213740458015,
          0.12903225806451613,
          0.1593625498007968,
          0.1896551724137931,
          0.1619047619047619,
          0.14173228346456693,
          0.18972332015810275,
          0.18803418803418803,
          0.1640625,
          0.18376068376068377,
          0.16371681415929204,
          0.13807531380753138,
          0.17105263157894737,
          0.15702479338842976,
          0.1843137254901961,
          0.18636363636363637,
          0.15207373271889402,
          0.13127413127413126,
          0.16101694915254236,
          0.13793103448275862,
          0.15925925925925927,
          0.15234375,
          0.17647058823529413,
          0.1417004048582996,
          0.18106995884773663,
          0.19183673469387755,
          0.17578125,
          0.17692307692307693,
          0.1444866920152091,
          0.14601769911504425,
          0.1686746987951807,
          0.18309859154929578,
          0.15853658536585366,
          0.1187214611872146,
          0.13278008298755187,
          0.17094017094017094,
          0.14957264957264957,
          0.14979757085020243,
          0.13389121338912133,
          0.14049586776859505,
          0.16379310344827586,
          0.15942028985507245,
          0.1894273127753304,
          0.16412213740458015,
          0.11428571428571428,
          0.14285714285714285,
          0.14566929133858267,
          0.16862745098039217,
          0.1277533039647577,
          0.18072289156626506,
          0.14522821576763487,
          0.16541353383458646,
          0.14342629482071714,
          0.1592920353982301,
          0.1836734693877551,
          0.15021459227467812,
          0.15254237288135594,
          0.15918367346938775,
          0.15040650406504066,
          0.192,
          0.1346153846153846,
          0.16666666666666666,
          0.13877551020408163,
          0.1762295081967213,
          0.1857707509881423,
          0.13445378151260504,
          0.17073170731707318,
          0.17142857142857143,
          0.16602316602316602,
          0.15517241379310345,
          0.1732283464566929,
          0.1736111111111111,
          0.18376068376068377,
          0.15637860082304528,
          0.14912280701754385,
          0.1440677966101695,
          0.17254901960784313,
          0.16810344827586207,
          0.17142857142857143,
          0.16033755274261605,
          0.15476190476190477,
          0.17721518987341772,
          0.18045112781954886,
          0.1646090534979424,
          0.16260162601626016,
          0.15447154471544716,
          0.17490494296577946,
          0.1417624521072797,
          0.18695652173913044,
          0.16170212765957448,
          0.1440329218106996,
          0.18666666666666668,
          0.15789473684210525,
          0.19166666666666668,
          0.16818181818181818,
          0.17467248908296942,
          0.1482889733840304,
          0.1684981684981685,
          0.14453125,
          0.1517509727626459,
          0.17578125,
          0.15355805243445692,
          0.14339622641509434,
          0.17391304347826086,
          0.15767634854771784,
          0.12992125984251968,
          0.15708812260536398,
          0.17391304347826086,
          0.17647058823529413,
          0.1606425702811245,
          0.15476190476190477,
          0.14682539682539683,
          0.1559633027522936,
          0.12598425196850394,
          0.15517241379310345,
          0.1680327868852459,
          0.12844036697247707,
          0.16393442622950818,
          0.18061674008810572,
          0.14122137404580154,
          0.14798206278026907,
          0.1383399209486166,
          0.1803921568627451,
          0.1651376146788991,
          0.17054263565891473,
          0.17857142857142858,
          0.17725752508361203,
          0.1520912547528517,
          0.17786561264822134,
          0.14049586776859505,
          0.12556053811659193,
          0.1646090534979424,
          0.1474820143884892,
          0.16862745098039217,
          0.17786561264822134,
          0.17829457364341086,
          0.15261044176706828,
          0.14468085106382977,
          0.13574660633484162,
          0.17768595041322313,
          0.13215859030837004,
          0.16317991631799164,
          0.1422924901185771,
          0.17154811715481172,
          0.13095238095238096,
          0.1471861471861472,
          0.1583710407239819,
          0.171875,
          0.16883116883116883,
          0.18099547511312217,
          0.19166666666666668,
          0.12605042016806722,
          0.15966386554621848,
          0.15217391304347827,
          0.1487603305785124,
          0.152,
          0.17647058823529413,
          0.16170212765957448,
          0.18951612903225806,
          0.19282511210762332,
          0.12653061224489795,
          0.1902654867256637,
          0.19130434782608696,
          0.1659919028340081,
          0.16988416988416988,
          0.15126050420168066,
          0.1646090534979424,
          0.16666666666666666,
          0.13523131672597866,
          0.17142857142857143,
          0.144,
          0.18532818532818532,
          0.15298507462686567,
          0.1799163179916318,
          0.14516129032258066,
          0.1729957805907173,
          0.17898832684824903,
          0.1752988047808765,
          0.17857142857142858,
          0.16666666666666666,
          0,
          0.16666666666666666,
          0,
          0.1806020066889632,
          0.16139240506329114,
          0.19322033898305085,
          0.15699658703071673,
          0.1896551724137931,
          0.19169329073482427,
          0.1896551724137931,
          0.1760797342192691,
          0.16845878136200718,
          0.1806020066889632,
          0.1919191919191919,
          0.1893687707641196,
          0.18597560975609756,
          0.14521452145214522,
          0.18815331010452963,
          0.18688524590163935,
          0.18452380952380953,
          0.18092105263157895,
          0.19141914191419143,
          0.15901060070671377,
          0.1917808219178082,
          0.18495297805642633,
          0.1323529411764706,
          0.1875,
          0.1815068493150685,
          0.1935483870967742,
          0.19141914191419143,
          0.19375,
          0.1858108108108108,
          0.19155844155844157,
          0.17721518987341772,
          0.1724137931034483,
          0.18181818181818182,
          0.1606060606060606,
          0.16943521594684385,
          0.19243986254295534,
          0.18471337579617833,
          0.18620689655172415,
          0.16417910447761194,
          0.16896551724137931,
          0.18983050847457628,
          0.18439716312056736,
          0.18032786885245902
         ],
         "yaxis": "y"
        },
        {
         "customdata": [
          [
           "5.0 - 7.0"
          ],
          [
           "12.0 - 13.1"
          ],
          [
           "15.0 - 15.0"
          ],
          [
           "15.76 - 17.36"
          ],
          [
           "22.0 - 23.79"
          ],
          [
           "23.79 - 25.0"
          ],
          [
           "25.0 - 25.0"
          ],
          [
           "25.0 - 25.0"
          ],
          [
           "25.0 - 25.0"
          ],
          [
           "25.0 - 25.0"
          ],
          [
           "25.0 - 25.0"
          ],
          [
           "25.0 - 26.26"
          ],
          [
           "26.28 - 27.51"
          ],
          [
           "27.52 - 29.0"
          ],
          [
           "29.0 - 30.0"
          ],
          [
           "30.0 - 30.0"
          ],
          [
           "30.0 - 30.0"
          ],
          [
           "30.0 - 30.0"
          ],
          [
           "30.0 - 30.0"
          ],
          [
           "30.0 - 30.0"
          ],
          [
           "30.0 - 30.0"
          ],
          [
           "30.0 - 30.0"
          ],
          [
           "30.0 - 30.0"
          ],
          [
           "30.0 - 30.0"
          ],
          [
           "30.0 - 30.0"
          ],
          [
           "30.0 - 30.0"
          ],
          [
           "30.0 - 30.0"
          ],
          [
           "30.0 - 30.0"
          ],
          [
           "30.0 - 31.11"
          ],
          [
           "31.12 - 32.56"
          ],
          [
           "32.56 - 34.0"
          ],
          [
           "34.0 - 35.0"
          ],
          [
           "35.0 - 35.0"
          ],
          [
           "35.0 - 35.0"
          ],
          [
           "35.0 - 35.0"
          ],
          [
           "35.0 - 35.0"
          ],
          [
           "35.0 - 35.0"
          ],
          [
           "35.0 - 35.0"
          ],
          [
           "35.0 - 35.96"
          ],
          [
           "36.34 - 38.0"
          ],
          [
           "38.0 - 39.22"
          ],
          [
           "39.23 - 40.0"
          ],
          [
           "40.0 - 40.0"
          ],
          [
           "40.0 - 40.0"
          ],
          [
           "40.0 - 40.0"
          ],
          [
           "40.0 - 40.0"
          ],
          [
           "40.0 - 40.0"
          ],
          [
           "40.0 - 40.0"
          ],
          [
           "40.0 - 40.0"
          ],
          [
           "40.0 - 41.89"
          ],
          [
           "41.89 - 43.4"
          ],
          [
           "43.41 - 45.0"
          ],
          [
           "45.0 - 45.0"
          ],
          [
           "45.0 - 45.0"
          ],
          [
           "45.0 - 45.0"
          ],
          [
           "45.0 - 45.32"
          ],
          [
           "47.0 - 48.44"
          ],
          [
           "50.0 - 50.0"
          ],
          [
           "50.0 - 50.0"
          ],
          [
           "50.0 - 50.0"
          ],
          [
           "50.0 - 50.0"
          ],
          [
           "50.0 - 50.0"
          ],
          [
           "50.0 - 50.0"
          ],
          [
           "50.0 - 50.0"
          ],
          [
           "50.0 - 50.0"
          ],
          [
           "50.0 - 50.0"
          ],
          [
           "50.0 - 50.0"
          ],
          [
           "50.0 - 50.0"
          ],
          [
           "50.0 - 50.0"
          ],
          [
           "50.0 - 50.0"
          ],
          [
           "50.0 - 50.0"
          ],
          [
           "50.0 - 50.0"
          ],
          [
           "50.0 - 50.0"
          ],
          [
           "50.0 - 50.0"
          ],
          [
           "50.0 - 50.0"
          ],
          [
           "50.0 - 50.0"
          ],
          [
           "50.0 - 50.0"
          ],
          [
           "50.0 - 50.0"
          ],
          [
           "50.0 - 50.0"
          ],
          [
           "50.0 - 50.0"
          ],
          [
           "50.0 - 50.0"
          ],
          [
           "50.0 - 50.0"
          ],
          [
           "50.0 - 50.0"
          ],
          [
           "50.0 - 50.0"
          ],
          [
           "50.0 - 51.0"
          ],
          [
           "51.0 - 52.47"
          ],
          [
           "52.48 - 54.0"
          ],
          [
           "54.0 - 55.0"
          ],
          [
           "55.0 - 55.0"
          ],
          [
           "55.0 - 56.0"
          ],
          [
           "56.0 - 57.77"
          ],
          [
           "57.79 - 59.53"
          ],
          [
           "59.55 - 60.0"
          ],
          [
           "60.0 - 60.0"
          ],
          [
           "60.0 - 60.0"
          ],
          [
           "60.0 - 60.0"
          ],
          [
           "60.0 - 60.0"
          ],
          [
           "60.0 - 60.0"
          ],
          [
           "60.0 - 62.0"
          ],
          [
           "62.0 - 64.0"
          ],
          [
           "64.0 - 65.0"
          ],
          [
           "65.0 - 65.0"
          ],
          [
           "65.0 - 66.38"
          ],
          [
           "66.42 - 68.48"
          ],
          [
           "68.48 - 70.0"
          ],
          [
           "70.0 - 70.0"
          ],
          [
           "70.0 - 70.0"
          ],
          [
           "70.0 - 70.78"
          ],
          [
           "70.79 - 73.0"
          ],
          [
           "73.0 - 75.0"
          ],
          [
           "75.0 - 75.0"
          ],
          [
           "75.0 - 75.0"
          ],
          [
           "75.0 - 75.0"
          ],
          [
           "75.0 - 75.0"
          ],
          [
           "75.0 - 75.0"
          ],
          [
           "75.0 - 75.0"
          ],
          [
           "75.0 - 75.0"
          ],
          [
           "75.0 - 75.0"
          ],
          [
           "75.0 - 75.0"
          ],
          [
           "75.0 - 75.0"
          ],
          [
           "75.0 - 75.0"
          ],
          [
           "75.0 - 75.0"
          ],
          [
           "75.0 - 75.0"
          ],
          [
           "75.0 - 75.0"
          ],
          [
           "75.0 - 75.0"
          ],
          [
           "75.0 - 75.0"
          ],
          [
           "75.0 - 75.0"
          ],
          [
           "75.0 - 75.02"
          ],
          [
           "75.13 - 77.26"
          ],
          [
           "77.29 - 79.56"
          ],
          [
           "79.61 - 80.0"
          ],
          [
           "80.0 - 80.0"
          ],
          [
           "80.0 - 81.48"
          ],
          [
           "81.5 - 83.8"
          ],
          [
           "83.82 - 85.0"
          ],
          [
           "85.0 - 85.87"
          ],
          [
           "85.88 - 88.01"
          ],
          [
           "88.01 - 90.0"
          ],
          [
           "90.0 - 90.0"
          ],
          [
           "90.0 - 91.4"
          ],
          [
           "91.44 - 93.99"
          ],
          [
           "94.0 - 95.0"
          ],
          [
           "95.0 - 96.63"
          ],
          [
           "96.65 - 98.49"
          ],
          [
           "98.5 - 99.0"
          ],
          [
           "99.0 - 99.0"
          ],
          [
           "99.0 - 99.0"
          ],
          [
           "99.0 - 99.0"
          ],
          [
           "99.0 - 99.0"
          ],
          [
           "99.0 - 99.0"
          ],
          [
           "99.0 - 99.0"
          ],
          [
           "99.0 - 99.0"
          ],
          [
           "99.0 - 99.0"
          ],
          [
           "99.0 - 99.75"
          ],
          [
           "99.76 - 100.0"
          ],
          [
           "100.0 - 100.0"
          ],
          [
           "100.0 - 100.0"
          ],
          [
           "100.0 - 100.0"
          ],
          [
           "100.0 - 100.0"
          ],
          [
           "100.0 - 100.0"
          ],
          [
           "100.0 - 100.0"
          ],
          [
           "100.0 - 100.0"
          ],
          [
           "100.0 - 100.0"
          ],
          [
           "100.0 - 100.0"
          ],
          [
           "100.0 - 100.0"
          ],
          [
           "100.0 - 100.0"
          ],
          [
           "100.0 - 100.0"
          ],
          [
           "100.0 - 100.0"
          ],
          [
           "100.0 - 100.0"
          ],
          [
           "100.0 - 100.0"
          ],
          [
           "100.0 - 100.0"
          ],
          [
           "100.0 - 100.0"
          ],
          [
           "100.0 - 100.0"
          ],
          [
           "100.0 - 100.0"
          ],
          [
           "100.0 - 100.0"
          ],
          [
           "100.0 - 100.0"
          ],
          [
           "100.0 - 100.0"
          ],
          [
           "100.0 - 100.0"
          ],
          [
           "100.0 - 100.0"
          ],
          [
           "100.0 - 100.0"
          ],
          [
           "100.0 - 100.0"
          ],
          [
           "100.0 - 100.0"
          ],
          [
           "100.0 - 100.0"
          ],
          [
           "100.0 - 100.0"
          ],
          [
           "100.0 - 100.0"
          ],
          [
           "100.0 - 100.0"
          ],
          [
           "100.0 - 100.0"
          ],
          [
           "100.0 - 100.0"
          ],
          [
           "100.0 - 100.0"
          ],
          [
           "100.0 - 100.0"
          ],
          [
           "100.0 - 100.0"
          ],
          [
           "100.0 - 100.0"
          ],
          [
           "100.0 - 100.0"
          ],
          [
           "100.0 - 100.0"
          ],
          [
           "100.0 - 100.0"
          ],
          [
           "100.0 - 100.0"
          ],
          [
           "100.0 - 100.0"
          ],
          [
           "100.0 - 100.0"
          ],
          [
           "100.0 - 100.0"
          ],
          [
           "100.0 - 100.0"
          ],
          [
           "100.0 - 100.0"
          ],
          [
           "100.0 - 100.0"
          ],
          [
           "100.0 - 101.0"
          ],
          [
           "101.0 - 103.69"
          ],
          [
           "103.75 - 105.0"
          ],
          [
           "105.0 - 107.69"
          ],
          [
           "107.72 - 110.0"
          ],
          [
           "110.0 - 110.0"
          ],
          [
           "110.0 - 111.69"
          ],
          [
           "111.71 - 114.34"
          ],
          [
           "114.34 - 115.0"
          ],
          [
           "115.0 - 118.0"
          ],
          [
           "118.0 - 120.0"
          ],
          [
           "120.0 - 120.0"
          ],
          [
           "120.0 - 122.03"
          ],
          [
           "122.06 - 124.41"
          ],
          [
           "124.42 - 125.0"
          ],
          [
           "125.0 - 125.0"
          ],
          [
           "125.0 - 125.0"
          ],
          [
           "125.0 - 125.0"
          ],
          [
           "125.0 - 125.0"
          ],
          [
           "125.0 - 125.0"
          ],
          [
           "125.0 - 125.0"
          ],
          [
           "125.0 - 128.07"
          ],
          [
           "128.09 - 130.0"
          ],
          [
           "130.0 - 132.45"
          ],
          [
           "132.5 - 135.0"
          ],
          [
           "135.0 - 137.81"
          ],
          [
           "137.84 - 140.0"
          ],
          [
           "140.0 - 142.37"
          ],
          [
           "142.41 - 145.0"
          ],
          [
           "145.0 - 148.52"
          ],
          [
           "148.54 - 149.83"
          ],
          [
           "149.84 - 150.0"
          ],
          [
           "150.0 - 150.0"
          ],
          [
           "150.0 - 150.0"
          ],
          [
           "150.0 - 150.0"
          ],
          [
           "150.0 - 150.0"
          ],
          [
           "150.0 - 150.0"
          ],
          [
           "150.0 - 150.0"
          ],
          [
           "150.0 - 150.0"
          ],
          [
           "150.0 - 150.0"
          ],
          [
           "150.0 - 150.0"
          ],
          [
           "150.0 - 150.0"
          ],
          [
           "150.0 - 153.11"
          ],
          [
           "153.13 - 156.04"
          ],
          [
           "156.04 - 160.0"
          ],
          [
           "160.0 - 161.58"
          ],
          [
           "161.63 - 165.0"
          ],
          [
           "165.0 - 168.71"
          ],
          [
           "168.79 - 170.6"
          ],
          [
           "170.61 - 174.79"
          ],
          [
           "174.8 - 175.0"
          ],
          [
           "175.0 - 177.45"
          ],
          [
           "177.5 - 180.0"
          ],
          [
           "180.0 - 185.0"
          ],
          [
           "185.0 - 188.99"
          ],
          [
           "189.0 - 192.68"
          ],
          [
           "192.72 - 196.91"
          ],
          [
           "196.93 - 199.0"
          ],
          [
           "199.0 - 200.0"
          ],
          [
           "200.0 - 200.0"
          ],
          [
           "200.0 - 200.0"
          ],
          [
           "200.0 - 200.0"
          ],
          [
           "200.0 - 200.0"
          ],
          [
           "200.0 - 200.0"
          ],
          [
           "200.0 - 200.0"
          ],
          [
           "200.0 - 200.0"
          ],
          [
           "200.0 - 200.0"
          ],
          [
           "200.0 - 200.0"
          ],
          [
           "200.0 - 200.0"
          ],
          [
           "200.0 - 200.0"
          ],
          [
           "200.0 - 200.0"
          ],
          [
           "200.0 - 200.4"
          ],
          [
           "200.48 - 205.16"
          ],
          [
           "205.22 - 210.0"
          ],
          [
           "210.0 - 215.0"
          ],
          [
           "215.0 - 219.77"
          ],
          [
           "219.81 - 223.86"
          ],
          [
           "223.91 - 225.0"
          ],
          [
           "225.0 - 230.0"
          ],
          [
           "230.0 - 235.0"
          ],
          [
           "235.0 - 240.0"
          ],
          [
           "240.0 - 245.7"
          ],
          [
           "245.82 - 250.0"
          ],
          [
           "250.0 - 250.0"
          ],
          [
           "250.0 - 250.0"
          ],
          [
           "250.0 - 250.0"
          ],
          [
           "250.0 - 250.0"
          ],
          [
           "250.0 - 255.69"
          ],
          [
           "255.78 - 262.0"
          ],
          [
           "262.0 - 269.5"
          ],
          [
           "269.5 - 275.0"
          ],
          [
           "275.0 - 280.0"
          ],
          [
           "280.0 - 288.25"
          ],
          [
           "288.31 - 295.68"
          ],
          [
           "295.77 - 300.0"
          ],
          [
           "300.0 - 300.0"
          ],
          [
           "300.0 - 300.0"
          ],
          [
           "300.0 - 301.03"
          ],
          [
           "301.13 - 310.0"
          ],
          [
           "310.0 - 320.0"
          ],
          [
           "320.0 - 327.29"
          ],
          [
           "327.33 - 337.25"
          ],
          [
           "337.47 - 347.55"
          ],
          [
           "347.58 - 350.11"
          ],
          [
           "350.14 - 362.0"
          ],
          [
           "362.0 - 374.05"
          ],
          [
           "374.35 - 385.0"
          ],
          [
           "385.0 - 398.41"
          ],
          [
           "398.75 - 400.0"
          ],
          [
           "400.0 - 409.91"
          ],
          [
           "409.91 - 425.0"
          ],
          [
           "425.0 - 440.87"
          ],
          [
           "440.98 - 454.87"
          ],
          [
           "454.89 - 474.55"
          ],
          [
           "474.68 - 493.16"
          ],
          [
           "493.29 - 500.0"
          ],
          [
           "500.0 - 500.0"
          ],
          [
           "500.0 - 500.0"
          ],
          [
           "500.0 - 520.0"
          ],
          [
           "520.0 - 543.57"
          ],
          [
           "543.66 - 566.85"
          ],
          [
           "566.88 - 598.64"
          ],
          [
           "598.93 - 623.79"
          ],
          [
           "623.98 - 660.54"
          ],
          [
           "661.0 - 705.0"
          ],
          [
           "705.0 - 756.0"
          ],
          [
           "756.81 - 817.62"
          ],
          [
           "818.34 - 899.52"
          ],
          [
           "899.81 - 996.19"
          ],
          [
           "996.4 - 1027.82"
          ],
          [
           "1029.81 - 1150.0"
          ],
          [
           "1150.0 - 1345.69"
          ],
          [
           "1347.61 - 1626.85"
          ],
          [
           "1627.36 - 2123.0"
          ],
          [
           "2125.61 - 3626.75"
          ],
          [
           "3647.16 - 442794.38"
          ]
         ],
         "hovertemplate": "comparative_retention=higher<br>group1024=%{x}<br>retention_yr1=%{y}<br>group_range=%{customdata[0]}<extra></extra>",
         "legendgroup": "higher",
         "marker": {
          "color": "#FF7F0E",
          "symbol": "circle"
         },
         "mode": "markers",
         "name": "higher",
         "showlegend": true,
         "type": "scattergl",
         "x": [
          27,
          118,
          132,
          137,
          212,
          213,
          346,
          389,
          429,
          435,
          438,
          453,
          454,
          455,
          456,
          457,
          458,
          460,
          461,
          464,
          466,
          467,
          468,
          469,
          470,
          471,
          472,
          473,
          474,
          475,
          476,
          477,
          478,
          479,
          480,
          481,
          482,
          483,
          484,
          486,
          487,
          488,
          491,
          493,
          494,
          495,
          496,
          498,
          500,
          503,
          504,
          505,
          506,
          507,
          508,
          509,
          511,
          521,
          547,
          556,
          564,
          568,
          571,
          573,
          574,
          578,
          585,
          593,
          595,
          616,
          620,
          622,
          626,
          628,
          629,
          634,
          646,
          649,
          678,
          680,
          688,
          699,
          719,
          722,
          723,
          724,
          725,
          726,
          727,
          728,
          729,
          730,
          731,
          732,
          733,
          734,
          735,
          736,
          737,
          738,
          739,
          740,
          741,
          742,
          743,
          744,
          745,
          746,
          747,
          748,
          749,
          750,
          751,
          752,
          753,
          754,
          755,
          756,
          757,
          758,
          759,
          760,
          761,
          762,
          763,
          764,
          765,
          766,
          767,
          768,
          769,
          770,
          771,
          772,
          773,
          774,
          775,
          776,
          777,
          778,
          779,
          780,
          781,
          782,
          783,
          784,
          786,
          787,
          789,
          790,
          792,
          793,
          795,
          796,
          797,
          798,
          799,
          802,
          803,
          804,
          807,
          809,
          810,
          811,
          814,
          818,
          821,
          822,
          831,
          832,
          833,
          834,
          837,
          840,
          841,
          843,
          844,
          845,
          849,
          850,
          851,
          852,
          857,
          858,
          859,
          860,
          864,
          865,
          866,
          867,
          869,
          870,
          871,
          872,
          873,
          876,
          879,
          880,
          881,
          882,
          884,
          887,
          888,
          889,
          890,
          891,
          892,
          893,
          894,
          895,
          896,
          897,
          898,
          899,
          900,
          901,
          902,
          903,
          904,
          905,
          906,
          907,
          908,
          909,
          910,
          911,
          912,
          913,
          914,
          915,
          916,
          917,
          918,
          919,
          920,
          921,
          922,
          923,
          924,
          925,
          926,
          927,
          928,
          929,
          930,
          931,
          932,
          933,
          934,
          935,
          936,
          937,
          938,
          939,
          940,
          941,
          942,
          943,
          944,
          945,
          946,
          947,
          948,
          949,
          950,
          951,
          952,
          953,
          954,
          955,
          956,
          957,
          958,
          959,
          960,
          961,
          962,
          963,
          964,
          965,
          966,
          967,
          968,
          969,
          970,
          971,
          972,
          973,
          974,
          975,
          976,
          977,
          978,
          979,
          980,
          981,
          982,
          983,
          984,
          985,
          986,
          987,
          988,
          989,
          990,
          991,
          992,
          993,
          994,
          995,
          996,
          997,
          998,
          999,
          1000,
          1001,
          1002,
          1003,
          1004,
          1005,
          1006,
          1007,
          1008,
          1009,
          1010,
          1011,
          1012,
          1013,
          1014,
          1015,
          1016,
          1017,
          1018,
          1019,
          1020,
          1021,
          1022,
          1023
         ],
         "xaxis": "x",
         "y": [
          0.227765726681128,
          0.20348837209302326,
          0.2026431718061674,
          0.20215633423180593,
          0.25692695214105793,
          0.21264367816091953,
          0.19834710743801653,
          0.2007168458781362,
          0.2007042253521127,
          0.20224719101123595,
          0.19548872180451127,
          0.2012779552715655,
          0.20504731861198738,
          0.19883040935672514,
          0.2118380062305296,
          0.21189591078066913,
          0.21785714285714286,
          0.20689655172413793,
          0.20567375886524822,
          0.25357142857142856,
          0.22611464968152867,
          0.23127035830618892,
          0.21532846715328466,
          0.22134387351778656,
          0.20863309352517986,
          0.21333333333333335,
          0.21100917431192662,
          0.23404255319148937,
          0.23225806451612904,
          0.2196969696969697,
          0.2118380062305296,
          0.24695121951219512,
          0.2745762711864407,
          0.3028391167192429,
          0.2807570977917981,
          0.28289473684210525,
          0.29411764705882354,
          0.25,
          0.25650557620817843,
          0.21580547112462006,
          0.20357142857142857,
          0.21241830065359477,
          0.19536423841059603,
          0.22393822393822393,
          0.19666666666666666,
          0.2048611111111111,
          0.25157232704402516,
          0.22727272727272727,
          0.2135593220338983,
          0.21364985163204747,
          0.23699421965317918,
          0.22981366459627328,
          0.3505747126436782,
          0.38023952095808383,
          0.3641791044776119,
          0.30538922155688625,
          0.2275449101796407,
          0.22140221402214022,
          0.20987654320987653,
          0.2350597609561753,
          0.1953125,
          0.2412280701754386,
          0.19915254237288135,
          0.22268907563025211,
          0.2099236641221374,
          0.1951219512195122,
          0.19480519480519481,
          0.20425531914893616,
          0.20502092050209206,
          0.20430107526881722,
          0.20085470085470086,
          0.19747899159663865,
          0.20901639344262296,
          0.2,
          0.20318725099601595,
          0.1965065502183406,
          0.20437956204379562,
          0.20535714285714285,
          0.20425531914893616,
          0.2,
          0.1946564885496183,
          0.1947565543071161,
          0.21721311475409835,
          0.22357723577235772,
          0.1986062717770035,
          0.2719546742209632,
          0.23547400611620795,
          0.3256484149855908,
          0.40947075208913647,
          0.3250883392226148,
          0.26755852842809363,
          0.24104234527687296,
          0.32507739938080493,
          0.3184713375796178,
          0.29042904290429045,
          0.3032258064516129,
          0.3225806451612903,
          0.30612244897959184,
          0.2363013698630137,
          0.2565597667638484,
          0.26112759643916916,
          0.34185303514376997,
          0.31986531986531985,
          0.27564102564102566,
          0.31268436578171094,
          0.3949843260188088,
          0.37249283667621774,
          0.3619047619047619,
          0.27692307692307694,
          0.27976190476190477,
          0.24375,
          0.23140495867768596,
          0.26498422712933756,
          0.2755681818181818,
          0.2628398791540785,
          0.25507246376811593,
          0.2622478386167147,
          0.27794561933534745,
          0.26392961876832843,
          0.24355300859598855,
          0.2727272727272727,
          0.30057803468208094,
          0.2926829268292683,
          0.26453488372093026,
          0.27837837837837837,
          0.27647058823529413,
          0.24653739612188366,
          0.24079320113314448,
          0.30333333333333334,
          0.30498533724340177,
          0.3887147335423197,
          0.2993827160493827,
          0.3072100313479624,
          0.2601880877742947,
          0.37168141592920356,
          0.3590504451038576,
          0.27184466019417475,
          0.3108974358974359,
          0.4268292682926829,
          0.3467048710601719,
          0.3201320132013201,
          0.3867403314917127,
          0.35,
          0.29283489096573206,
          0.3508771929824561,
          0.3333333333333333,
          0.2,
          0.3333333333333333,
          0.5,
          0.5,
          0.25,
          0.25,
          0.25,
          0.27702702702702703,
          0.23550724637681159,
          0.20723684210526316,
          0.21,
          0.20408163265306123,
          0.19791666666666666,
          0.22772277227722773,
          0.21476510067114093,
          0.2014388489208633,
          0.23333333333333334,
          0.2175226586102719,
          0.20875420875420875,
          0.22435897435897437,
          0.21476510067114093,
          0.19727891156462585,
          0.24437299035369775,
          0.20279720279720279,
          0.20257234726688103,
          0.23367697594501718,
          0.21602787456445993,
          0.21835443037974683,
          0.21362229102167182,
          0.20180722891566266,
          0.19444444444444445,
          0.21241830065359477,
          0.20123839009287925,
          0.2032258064516129,
          0.20754716981132076,
          0.2332155477031802,
          0.2070063694267516,
          0.22297297297297297,
          0.23952095808383234,
          0.22330097087378642,
          0.22442244224422442,
          0.20462046204620463,
          0.21543408360128619,
          0.2354948805460751,
          0.19631901840490798,
          0.21311475409836064,
          0.21103896103896103,
          0.2033898305084746,
          0.21254355400696864,
          0.21016949152542372,
          0.24115755627009647,
          0.1986062717770035,
          0.2179930795847751,
          0.21474358974358973,
          0.21305841924398625,
          0.21052631578947367,
          0.2398753894080997,
          0.2899022801302932,
          0.41076487252124644,
          0.3624161073825503,
          0.3933333333333333,
          0.4322033898305085,
          0.4208955223880597,
          0.31699346405228757,
          0.4,
          0.3051948051948052,
          0.3684210526315789,
          0.49517684887459806,
          0.3805309734513274,
          0.350253807106599,
          0.32459016393442625,
          0.3127035830618892,
          0.3170731707317073,
          0.31290322580645163,
          0.3211920529801324,
          0.31399317406143346,
          0.2904191616766467,
          0.3575949367088608,
          0.41836734693877553,
          0.3601190476190476,
          0.43322475570032576,
          0.4375,
          0.41,
          0.45751633986928103,
          0.4262295081967213,
          0.3713355048859935,
          0.3643410852713178,
          0.3388704318936877,
          0.31475409836065577,
          0.3079710144927536,
          0.33650793650793653,
          0.3344262295081967,
          0.33663366336633666,
          0.2962962962962963,
          0.3380281690140845,
          0.3057324840764331,
          0.2867647058823529,
          0.3422818791946309,
          0.33774834437086093,
          0.439873417721519,
          0.40293040293040294,
          0.5129032258064516,
          0.3951367781155015,
          0.3920265780730897,
          0.429042904290429,
          0.37906137184115524,
          0.42363112391930835,
          0.4447852760736196,
          0.44694533762057875,
          0.4228395061728395,
          0.42342342342342343,
          0.4430379746835443,
          0.4158730158730159,
          0.45,
          0.2821576763485477,
          0.24584717607973422,
          0.30141843971631205,
          0.32950191570881227,
          0.32441471571906355,
          0.2564102564102564,
          0.2608695652173913,
          0.3176895306859206,
          0.3028391167192429,
          0.2826855123674912,
          0.2775800711743772,
          0.2847222222222222,
          0.32996632996632996,
          0.275,
          0.4629080118694362,
          0.4748427672955975,
          0.47854785478547857,
          0.43214285714285716,
          0.4336569579288026,
          0.4928571428571429,
          0.46885245901639344,
          0.4125,
          0.4529616724738676,
          0.46875,
          0.3870967741935484,
          0.3442622950819672,
          0.291497975708502,
          0.3842364532019704,
          0.3393665158371041,
          0.4740484429065744,
          0.5206896551724138,
          0.4657534246575342,
          0.45614035087719296,
          0.5361842105263158,
          0.45229681978798586,
          0.5392857142857143,
          0.3923076923076923,
          0.3754152823920266,
          0.3289036544850498,
          0.32673267326732675,
          0.42700729927007297,
          0.5487012987012987,
          0.4878048780487805,
          0.4486301369863014,
          0.5169230769230769,
          0.518796992481203,
          0.44485294117647056,
          0.5610687022900763,
          0.5640138408304498,
          0.5096525096525096,
          0.3886792452830189,
          0.4828767123287671,
          0.5439739413680782,
          0.4924924924924925,
          0.47058823529411764,
          0.5052264808362369,
          0.5396341463414634,
          0.3152542372881356,
          0.24796747967479674,
          0.26506024096385544,
          0.5350877192982456,
          0.5159235668789809,
          0.578125,
          0.5563139931740614,
          0.5522875816993464,
          0.5882352941176471,
          0.61875,
          0.5885885885885885,
          0.5936599423631124,
          0.6388059701492538,
          0.6637931034482759,
          0.4656084656084656,
          0.6982758620689655,
          0.6383442265795207,
          0.71900826446281,
          0.6473317865429234,
          0.6974789915966386,
          0.5668789808917197
         ],
         "yaxis": "y"
        }
       ],
       "layout": {
        "height": 400,
        "legend": {
         "title": {
          "text": "comparative_retention"
         },
         "tracegroupgap": 0
        },
        "margin": {
         "t": 60
        },
        "template": {
         "data": {
          "bar": [
           {
            "error_x": {
             "color": "rgb(36,36,36)"
            },
            "error_y": {
             "color": "rgb(36,36,36)"
            },
            "marker": {
             "line": {
              "color": "white",
              "width": 0.5
             }
            },
            "type": "bar"
           }
          ],
          "barpolar": [
           {
            "marker": {
             "line": {
              "color": "white",
              "width": 0.5
             }
            },
            "type": "barpolar"
           }
          ],
          "carpet": [
           {
            "aaxis": {
             "endlinecolor": "rgb(36,36,36)",
             "gridcolor": "white",
             "linecolor": "white",
             "minorgridcolor": "white",
             "startlinecolor": "rgb(36,36,36)"
            },
            "baxis": {
             "endlinecolor": "rgb(36,36,36)",
             "gridcolor": "white",
             "linecolor": "white",
             "minorgridcolor": "white",
             "startlinecolor": "rgb(36,36,36)"
            },
            "type": "carpet"
           }
          ],
          "choropleth": [
           {
            "colorbar": {
             "outlinewidth": 1,
             "tickcolor": "rgb(36,36,36)",
             "ticks": "outside"
            },
            "type": "choropleth"
           }
          ],
          "contour": [
           {
            "colorbar": {
             "outlinewidth": 1,
             "tickcolor": "rgb(36,36,36)",
             "ticks": "outside"
            },
            "colorscale": [
             [
              0,
              "#440154"
             ],
             [
              0.1111111111111111,
              "#482878"
             ],
             [
              0.2222222222222222,
              "#3e4989"
             ],
             [
              0.3333333333333333,
              "#31688e"
             ],
             [
              0.4444444444444444,
              "#26828e"
             ],
             [
              0.5555555555555556,
              "#1f9e89"
             ],
             [
              0.6666666666666666,
              "#35b779"
             ],
             [
              0.7777777777777778,
              "#6ece58"
             ],
             [
              0.8888888888888888,
              "#b5de2b"
             ],
             [
              1,
              "#fde725"
             ]
            ],
            "type": "contour"
           }
          ],
          "contourcarpet": [
           {
            "colorbar": {
             "outlinewidth": 1,
             "tickcolor": "rgb(36,36,36)",
             "ticks": "outside"
            },
            "type": "contourcarpet"
           }
          ],
          "heatmap": [
           {
            "colorbar": {
             "outlinewidth": 1,
             "tickcolor": "rgb(36,36,36)",
             "ticks": "outside"
            },
            "colorscale": [
             [
              0,
              "#440154"
             ],
             [
              0.1111111111111111,
              "#482878"
             ],
             [
              0.2222222222222222,
              "#3e4989"
             ],
             [
              0.3333333333333333,
              "#31688e"
             ],
             [
              0.4444444444444444,
              "#26828e"
             ],
             [
              0.5555555555555556,
              "#1f9e89"
             ],
             [
              0.6666666666666666,
              "#35b779"
             ],
             [
              0.7777777777777778,
              "#6ece58"
             ],
             [
              0.8888888888888888,
              "#b5de2b"
             ],
             [
              1,
              "#fde725"
             ]
            ],
            "type": "heatmap"
           }
          ],
          "heatmapgl": [
           {
            "colorbar": {
             "outlinewidth": 1,
             "tickcolor": "rgb(36,36,36)",
             "ticks": "outside"
            },
            "colorscale": [
             [
              0,
              "#440154"
             ],
             [
              0.1111111111111111,
              "#482878"
             ],
             [
              0.2222222222222222,
              "#3e4989"
             ],
             [
              0.3333333333333333,
              "#31688e"
             ],
             [
              0.4444444444444444,
              "#26828e"
             ],
             [
              0.5555555555555556,
              "#1f9e89"
             ],
             [
              0.6666666666666666,
              "#35b779"
             ],
             [
              0.7777777777777778,
              "#6ece58"
             ],
             [
              0.8888888888888888,
              "#b5de2b"
             ],
             [
              1,
              "#fde725"
             ]
            ],
            "type": "heatmapgl"
           }
          ],
          "histogram": [
           {
            "marker": {
             "line": {
              "color": "white",
              "width": 0.6
             }
            },
            "type": "histogram"
           }
          ],
          "histogram2d": [
           {
            "colorbar": {
             "outlinewidth": 1,
             "tickcolor": "rgb(36,36,36)",
             "ticks": "outside"
            },
            "colorscale": [
             [
              0,
              "#440154"
             ],
             [
              0.1111111111111111,
              "#482878"
             ],
             [
              0.2222222222222222,
              "#3e4989"
             ],
             [
              0.3333333333333333,
              "#31688e"
             ],
             [
              0.4444444444444444,
              "#26828e"
             ],
             [
              0.5555555555555556,
              "#1f9e89"
             ],
             [
              0.6666666666666666,
              "#35b779"
             ],
             [
              0.7777777777777778,
              "#6ece58"
             ],
             [
              0.8888888888888888,
              "#b5de2b"
             ],
             [
              1,
              "#fde725"
             ]
            ],
            "type": "histogram2d"
           }
          ],
          "histogram2dcontour": [
           {
            "colorbar": {
             "outlinewidth": 1,
             "tickcolor": "rgb(36,36,36)",
             "ticks": "outside"
            },
            "colorscale": [
             [
              0,
              "#440154"
             ],
             [
              0.1111111111111111,
              "#482878"
             ],
             [
              0.2222222222222222,
              "#3e4989"
             ],
             [
              0.3333333333333333,
              "#31688e"
             ],
             [
              0.4444444444444444,
              "#26828e"
             ],
             [
              0.5555555555555556,
              "#1f9e89"
             ],
             [
              0.6666666666666666,
              "#35b779"
             ],
             [
              0.7777777777777778,
              "#6ece58"
             ],
             [
              0.8888888888888888,
              "#b5de2b"
             ],
             [
              1,
              "#fde725"
             ]
            ],
            "type": "histogram2dcontour"
           }
          ],
          "mesh3d": [
           {
            "colorbar": {
             "outlinewidth": 1,
             "tickcolor": "rgb(36,36,36)",
             "ticks": "outside"
            },
            "type": "mesh3d"
           }
          ],
          "parcoords": [
           {
            "line": {
             "colorbar": {
              "outlinewidth": 1,
              "tickcolor": "rgb(36,36,36)",
              "ticks": "outside"
             }
            },
            "type": "parcoords"
           }
          ],
          "pie": [
           {
            "automargin": true,
            "type": "pie"
           }
          ],
          "scatter": [
           {
            "marker": {
             "colorbar": {
              "outlinewidth": 1,
              "tickcolor": "rgb(36,36,36)",
              "ticks": "outside"
             }
            },
            "type": "scatter"
           }
          ],
          "scatter3d": [
           {
            "line": {
             "colorbar": {
              "outlinewidth": 1,
              "tickcolor": "rgb(36,36,36)",
              "ticks": "outside"
             }
            },
            "marker": {
             "colorbar": {
              "outlinewidth": 1,
              "tickcolor": "rgb(36,36,36)",
              "ticks": "outside"
             }
            },
            "type": "scatter3d"
           }
          ],
          "scattercarpet": [
           {
            "marker": {
             "colorbar": {
              "outlinewidth": 1,
              "tickcolor": "rgb(36,36,36)",
              "ticks": "outside"
             }
            },
            "type": "scattercarpet"
           }
          ],
          "scattergeo": [
           {
            "marker": {
             "colorbar": {
              "outlinewidth": 1,
              "tickcolor": "rgb(36,36,36)",
              "ticks": "outside"
             }
            },
            "type": "scattergeo"
           }
          ],
          "scattergl": [
           {
            "marker": {
             "colorbar": {
              "outlinewidth": 1,
              "tickcolor": "rgb(36,36,36)",
              "ticks": "outside"
             }
            },
            "type": "scattergl"
           }
          ],
          "scattermapbox": [
           {
            "marker": {
             "colorbar": {
              "outlinewidth": 1,
              "tickcolor": "rgb(36,36,36)",
              "ticks": "outside"
             }
            },
            "type": "scattermapbox"
           }
          ],
          "scatterpolar": [
           {
            "marker": {
             "colorbar": {
              "outlinewidth": 1,
              "tickcolor": "rgb(36,36,36)",
              "ticks": "outside"
             }
            },
            "type": "scatterpolar"
           }
          ],
          "scatterpolargl": [
           {
            "marker": {
             "colorbar": {
              "outlinewidth": 1,
              "tickcolor": "rgb(36,36,36)",
              "ticks": "outside"
             }
            },
            "type": "scatterpolargl"
           }
          ],
          "scatterternary": [
           {
            "marker": {
             "colorbar": {
              "outlinewidth": 1,
              "tickcolor": "rgb(36,36,36)",
              "ticks": "outside"
             }
            },
            "type": "scatterternary"
           }
          ],
          "surface": [
           {
            "colorbar": {
             "outlinewidth": 1,
             "tickcolor": "rgb(36,36,36)",
             "ticks": "outside"
            },
            "colorscale": [
             [
              0,
              "#440154"
             ],
             [
              0.1111111111111111,
              "#482878"
             ],
             [
              0.2222222222222222,
              "#3e4989"
             ],
             [
              0.3333333333333333,
              "#31688e"
             ],
             [
              0.4444444444444444,
              "#26828e"
             ],
             [
              0.5555555555555556,
              "#1f9e89"
             ],
             [
              0.6666666666666666,
              "#35b779"
             ],
             [
              0.7777777777777778,
              "#6ece58"
             ],
             [
              0.8888888888888888,
              "#b5de2b"
             ],
             [
              1,
              "#fde725"
             ]
            ],
            "type": "surface"
           }
          ],
          "table": [
           {
            "cells": {
             "fill": {
              "color": "rgb(237,237,237)"
             },
             "line": {
              "color": "white"
             }
            },
            "header": {
             "fill": {
              "color": "rgb(217,217,217)"
             },
             "line": {
              "color": "white"
             }
            },
            "type": "table"
           }
          ]
         },
         "layout": {
          "annotationdefaults": {
           "arrowhead": 0,
           "arrowwidth": 1
          },
          "coloraxis": {
           "colorbar": {
            "outlinewidth": 1,
            "tickcolor": "rgb(36,36,36)",
            "ticks": "outside"
           }
          },
          "colorscale": {
           "diverging": [
            [
             0,
             "rgb(103,0,31)"
            ],
            [
             0.1,
             "rgb(178,24,43)"
            ],
            [
             0.2,
             "rgb(214,96,77)"
            ],
            [
             0.3,
             "rgb(244,165,130)"
            ],
            [
             0.4,
             "rgb(253,219,199)"
            ],
            [
             0.5,
             "rgb(247,247,247)"
            ],
            [
             0.6,
             "rgb(209,229,240)"
            ],
            [
             0.7,
             "rgb(146,197,222)"
            ],
            [
             0.8,
             "rgb(67,147,195)"
            ],
            [
             0.9,
             "rgb(33,102,172)"
            ],
            [
             1,
             "rgb(5,48,97)"
            ]
           ],
           "sequential": [
            [
             0,
             "#440154"
            ],
            [
             0.1111111111111111,
             "#482878"
            ],
            [
             0.2222222222222222,
             "#3e4989"
            ],
            [
             0.3333333333333333,
             "#31688e"
            ],
            [
             0.4444444444444444,
             "#26828e"
            ],
            [
             0.5555555555555556,
             "#1f9e89"
            ],
            [
             0.6666666666666666,
             "#35b779"
            ],
            [
             0.7777777777777778,
             "#6ece58"
            ],
            [
             0.8888888888888888,
             "#b5de2b"
            ],
            [
             1,
             "#fde725"
            ]
           ],
           "sequentialminus": [
            [
             0,
             "#440154"
            ],
            [
             0.1111111111111111,
             "#482878"
            ],
            [
             0.2222222222222222,
             "#3e4989"
            ],
            [
             0.3333333333333333,
             "#31688e"
            ],
            [
             0.4444444444444444,
             "#26828e"
            ],
            [
             0.5555555555555556,
             "#1f9e89"
            ],
            [
             0.6666666666666666,
             "#35b779"
            ],
            [
             0.7777777777777778,
             "#6ece58"
            ],
            [
             0.8888888888888888,
             "#b5de2b"
            ],
            [
             1,
             "#fde725"
            ]
           ]
          },
          "colorway": [
           "#1F77B4",
           "#FF7F0E",
           "#2CA02C",
           "#D62728",
           "#9467BD",
           "#8C564B",
           "#E377C2",
           "#7F7F7F",
           "#BCBD22",
           "#17BECF"
          ],
          "font": {
           "color": "rgb(36,36,36)"
          },
          "geo": {
           "bgcolor": "white",
           "lakecolor": "white",
           "landcolor": "white",
           "showlakes": true,
           "showland": true,
           "subunitcolor": "white"
          },
          "hoverlabel": {
           "align": "left"
          },
          "hovermode": "closest",
          "mapbox": {
           "style": "light"
          },
          "paper_bgcolor": "white",
          "plot_bgcolor": "white",
          "polar": {
           "angularaxis": {
            "gridcolor": "rgb(232,232,232)",
            "linecolor": "rgb(36,36,36)",
            "showgrid": false,
            "showline": true,
            "ticks": "outside"
           },
           "bgcolor": "white",
           "radialaxis": {
            "gridcolor": "rgb(232,232,232)",
            "linecolor": "rgb(36,36,36)",
            "showgrid": false,
            "showline": true,
            "ticks": "outside"
           }
          },
          "scene": {
           "xaxis": {
            "backgroundcolor": "white",
            "gridcolor": "rgb(232,232,232)",
            "gridwidth": 2,
            "linecolor": "rgb(36,36,36)",
            "showbackground": true,
            "showgrid": false,
            "showline": true,
            "ticks": "outside",
            "zeroline": false,
            "zerolinecolor": "rgb(36,36,36)"
           },
           "yaxis": {
            "backgroundcolor": "white",
            "gridcolor": "rgb(232,232,232)",
            "gridwidth": 2,
            "linecolor": "rgb(36,36,36)",
            "showbackground": true,
            "showgrid": false,
            "showline": true,
            "ticks": "outside",
            "zeroline": false,
            "zerolinecolor": "rgb(36,36,36)"
           },
           "zaxis": {
            "backgroundcolor": "white",
            "gridcolor": "rgb(232,232,232)",
            "gridwidth": 2,
            "linecolor": "rgb(36,36,36)",
            "showbackground": true,
            "showgrid": false,
            "showline": true,
            "ticks": "outside",
            "zeroline": false,
            "zerolinecolor": "rgb(36,36,36)"
           }
          },
          "shapedefaults": {
           "fillcolor": "black",
           "line": {
            "width": 0
           },
           "opacity": 0.3
          },
          "ternary": {
           "aaxis": {
            "gridcolor": "rgb(232,232,232)",
            "linecolor": "rgb(36,36,36)",
            "showgrid": false,
            "showline": true,
            "ticks": "outside"
           },
           "baxis": {
            "gridcolor": "rgb(232,232,232)",
            "linecolor": "rgb(36,36,36)",
            "showgrid": false,
            "showline": true,
            "ticks": "outside"
           },
           "bgcolor": "white",
           "caxis": {
            "gridcolor": "rgb(232,232,232)",
            "linecolor": "rgb(36,36,36)",
            "showgrid": false,
            "showline": true,
            "ticks": "outside"
           }
          },
          "title": {
           "x": 0.05
          },
          "xaxis": {
           "automargin": true,
           "gridcolor": "rgb(232,232,232)",
           "linecolor": "rgb(36,36,36)",
           "showgrid": false,
           "showline": true,
           "ticks": "outside",
           "title": {
            "standoff": 15
           },
           "zeroline": false,
           "zerolinecolor": "rgb(36,36,36)"
          },
          "yaxis": {
           "automargin": true,
           "gridcolor": "rgb(232,232,232)",
           "linecolor": "rgb(36,36,36)",
           "showgrid": false,
           "showline": true,
           "ticks": "outside",
           "title": {
            "standoff": 15
           },
           "zeroline": false,
           "zerolinecolor": "rgb(36,36,36)"
          }
         }
        },
        "width": 1000,
        "xaxis": {
         "anchor": "y",
         "domain": [
          0,
          1
         ],
         "title": {
          "text": "group1024"
         }
        },
        "yaxis": {
         "anchor": "x",
         "domain": [
          0,
          1
         ],
         "title": {
          "text": "retention_yr1"
         }
        }
       }
      },
      "text/html": [
       "<div>\n",
       "        \n",
       "        \n",
       "            <div id=\"05e5d1e4-dda6-4005-9de1-d5549a5c49a7\" class=\"plotly-graph-div\" style=\"height:400px; width:1000px;\"></div>\n",
       "            <script type=\"text/javascript\">\n",
       "                require([\"plotly\"], function(Plotly) {\n",
       "                    window.PLOTLYENV=window.PLOTLYENV || {};\n",
       "                    \n",
       "                if (document.getElementById(\"05e5d1e4-dda6-4005-9de1-d5549a5c49a7\")) {\n",
       "                    Plotly.newPlot(\n",
       "                        '05e5d1e4-dda6-4005-9de1-d5549a5c49a7',\n",
       "                        [{\"customdata\": [[\"0.4 - 1.0\"], [\"1.0 - 1.0\"], [\"1.0 - 1.0\"], [\"1.0 - 1.0\"], [\"1.0 - 1.0\"], [\"1.0 - 1.0\"], [\"1.0 - 1.0\"], [\"1.0 - 2.0\"], [\"2.0 - 2.0\"], [\"2.0 - 3.0\"], [\"3.0 - 4.0\"], [\"4.0 - 5.0\"], [\"5.0 - 5.0\"], [\"5.0 - 5.0\"], [\"5.0 - 5.0\"], [\"5.0 - 5.0\"], [\"5.0 - 5.0\"], [\"5.0 - 5.0\"], [\"5.0 - 5.0\"], [\"5.0 - 5.0\"], [\"5.0 - 5.0\"], [\"5.0 - 5.0\"], [\"5.0 - 5.0\"], [\"5.0 - 5.0\"], [\"5.0 - 5.0\"], [\"5.0 - 5.0\"], [\"5.0 - 5.0\"], [\"7.0 - 9.3\"], [\"9.31 - 10.0\"], [\"10.0 - 10.0\"], [\"10.0 - 10.0\"], [\"10.0 - 10.0\"], [\"10.0 - 10.0\"], [\"10.0 - 10.0\"], [\"10.0 - 10.0\"], [\"10.0 - 10.0\"], [\"10.0 - 10.0\"], [\"10.0 - 10.0\"], [\"10.0 - 10.0\"], [\"10.0 - 10.0\"], [\"10.0 - 10.0\"], [\"10.0 - 10.0\"], [\"10.0 - 10.0\"], [\"10.0 - 10.0\"], [\"10.0 - 10.0\"], [\"10.0 - 10.0\"], [\"10.0 - 10.0\"], [\"10.0 - 10.0\"], [\"10.0 - 10.0\"], [\"10.0 - 10.0\"], [\"10.0 - 10.0\"], [\"10.0 - 10.0\"], [\"10.0 - 10.0\"], [\"10.0 - 10.0\"], [\"10.0 - 10.0\"], [\"10.0 - 10.0\"], [\"10.0 - 10.0\"], [\"10.0 - 10.0\"], [\"10.0 - 10.0\"], [\"10.0 - 10.0\"], [\"10.0 - 10.0\"], [\"10.0 - 10.0\"], [\"10.0 - 10.0\"], [\"10.0 - 10.0\"], [\"10.0 - 10.0\"], [\"10.0 - 10.0\"], [\"10.0 - 10.0\"], [\"10.0 - 10.0\"], [\"10.0 - 10.0\"], [\"10.0 - 10.0\"], [\"10.0 - 10.0\"], [\"10.0 - 10.0\"], [\"10.0 - 10.0\"], [\"10.0 - 10.0\"], [\"10.0 - 10.0\"], [\"10.0 - 10.0\"], [\"10.0 - 10.0\"], [\"10.0 - 10.0\"], [\"10.0 - 10.0\"], [\"10.0 - 10.0\"], [\"10.0 - 10.0\"], [\"10.0 - 10.0\"], [\"10.0 - 10.0\"], [\"10.0 - 10.0\"], [\"10.0 - 10.0\"], [\"10.0 - 10.0\"], [\"10.0 - 10.0\"], [\"10.0 - 10.0\"], [\"10.0 - 10.0\"], [\"10.0 - 10.0\"], [\"10.0 - 10.0\"], [\"10.0 - 10.0\"], [\"10.0 - 10.0\"], [\"10.0 - 10.0\"], [\"10.0 - 10.0\"], [\"10.0 - 10.0\"], [\"10.0 - 10.0\"], [\"10.0 - 10.0\"], [\"10.0 - 10.0\"], [\"10.0 - 10.0\"], [\"10.0 - 10.0\"], [\"10.0 - 10.0\"], [\"10.0 - 10.0\"], [\"10.0 - 10.0\"], [\"10.0 - 10.0\"], [\"10.0 - 10.0\"], [\"10.0 - 10.0\"], [\"10.0 - 10.0\"], [\"10.0 - 10.0\"], [\"10.0 - 10.0\"], [\"10.0 - 10.0\"], [\"10.0 - 10.0\"], [\"10.0 - 10.0\"], [\"10.0 - 10.0\"], [\"10.0 - 10.0\"], [\"10.0 - 10.0\"], [\"10.0 - 12.0\"], [\"13.12 - 15.0\"], [\"15.0 - 15.0\"], [\"15.0 - 15.0\"], [\"15.0 - 15.0\"], [\"15.0 - 15.0\"], [\"15.0 - 15.0\"], [\"15.0 - 15.0\"], [\"15.0 - 15.0\"], [\"15.0 - 15.0\"], [\"15.0 - 15.0\"], [\"15.0 - 15.0\"], [\"15.0 - 15.0\"], [\"15.0 - 15.0\"], [\"15.0 - 15.0\"], [\"15.0 - 15.0\"], [\"15.0 - 15.0\"], [\"15.0 - 15.75\"], [\"17.36 - 18.0\"], [\"18.0 - 20.0\"], [\"20.0 - 20.0\"], [\"20.0 - 20.0\"], [\"20.0 - 20.0\"], [\"20.0 - 20.0\"], [\"20.0 - 20.0\"], [\"20.0 - 20.0\"], [\"20.0 - 20.0\"], [\"20.0 - 20.0\"], [\"20.0 - 20.0\"], [\"20.0 - 20.0\"], [\"20.0 - 20.0\"], [\"20.0 - 20.0\"], [\"20.0 - 20.0\"], [\"20.0 - 20.0\"], [\"20.0 - 20.0\"], [\"20.0 - 20.0\"], [\"20.0 - 20.0\"], [\"20.0 - 20.0\"], [\"20.0 - 20.0\"], [\"20.0 - 20.0\"], [\"20.0 - 20.0\"], [\"20.0 - 20.0\"], [\"20.0 - 20.0\"], [\"20.0 - 20.0\"], [\"20.0 - 20.0\"], [\"20.0 - 20.0\"], [\"20.0 - 20.0\"], [\"20.0 - 20.0\"], [\"20.0 - 20.0\"], [\"20.0 - 20.0\"], [\"20.0 - 20.0\"], [\"20.0 - 20.0\"], [\"20.0 - 20.0\"], [\"20.0 - 20.0\"], [\"20.0 - 20.0\"], [\"20.0 - 20.0\"], [\"20.0 - 20.0\"], [\"20.0 - 20.0\"], [\"20.0 - 20.0\"], [\"20.0 - 20.0\"], [\"20.0 - 20.0\"], [\"20.0 - 20.0\"], [\"20.0 - 20.0\"], [\"20.0 - 20.0\"], [\"20.0 - 20.0\"], [\"20.0 - 20.0\"], [\"20.0 - 20.0\"], [\"20.0 - 20.0\"], [\"20.0 - 20.0\"], [\"20.0 - 20.0\"], [\"20.0 - 20.0\"], [\"20.0 - 20.0\"], [\"20.0 - 20.0\"], [\"20.0 - 20.0\"], [\"20.0 - 20.0\"], [\"20.0 - 20.0\"], [\"20.0 - 20.0\"], [\"20.0 - 20.0\"], [\"20.0 - 20.0\"], [\"20.0 - 20.0\"], [\"20.0 - 20.0\"], [\"20.0 - 20.0\"], [\"20.0 - 20.0\"], [\"20.0 - 20.0\"], [\"20.0 - 20.0\"], [\"20.0 - 20.0\"], [\"20.0 - 20.0\"], [\"20.0 - 20.0\"], [\"20.0 - 20.0\"], [\"20.0 - 20.0\"], [\"20.0 - 21.0\"], [\"21.0 - 22.0\"], [\"25.0 - 25.0\"], [\"25.0 - 25.0\"], [\"25.0 - 25.0\"], [\"25.0 - 25.0\"], [\"25.0 - 25.0\"], [\"25.0 - 25.0\"], [\"25.0 - 25.0\"], [\"25.0 - 25.0\"], [\"25.0 - 25.0\"], [\"25.0 - 25.0\"], [\"25.0 - 25.0\"], [\"25.0 - 25.0\"], [\"25.0 - 25.0\"], [\"25.0 - 25.0\"], [\"25.0 - 25.0\"], [\"25.0 - 25.0\"], [\"25.0 - 25.0\"], [\"25.0 - 25.0\"], [\"25.0 - 25.0\"], [\"25.0 - 25.0\"], [\"25.0 - 25.0\"], [\"25.0 - 25.0\"], [\"25.0 - 25.0\"], [\"25.0 - 25.0\"], [\"25.0 - 25.0\"], [\"25.0 - 25.0\"], [\"25.0 - 25.0\"], [\"25.0 - 25.0\"], [\"25.0 - 25.0\"], [\"25.0 - 25.0\"], [\"25.0 - 25.0\"], [\"25.0 - 25.0\"], [\"25.0 - 25.0\"], [\"25.0 - 25.0\"], [\"25.0 - 25.0\"], [\"25.0 - 25.0\"], [\"25.0 - 25.0\"], [\"25.0 - 25.0\"], [\"25.0 - 25.0\"], [\"25.0 - 25.0\"], [\"25.0 - 25.0\"], [\"25.0 - 25.0\"], [\"25.0 - 25.0\"], [\"25.0 - 25.0\"], [\"25.0 - 25.0\"], [\"25.0 - 25.0\"], [\"25.0 - 25.0\"], [\"25.0 - 25.0\"], [\"25.0 - 25.0\"], [\"25.0 - 25.0\"], [\"25.0 - 25.0\"], [\"25.0 - 25.0\"], [\"25.0 - 25.0\"], [\"25.0 - 25.0\"], [\"25.0 - 25.0\"], [\"25.0 - 25.0\"], [\"25.0 - 25.0\"], [\"25.0 - 25.0\"], [\"25.0 - 25.0\"], [\"25.0 - 25.0\"], [\"25.0 - 25.0\"], [\"25.0 - 25.0\"], [\"25.0 - 25.0\"], [\"25.0 - 25.0\"], [\"25.0 - 25.0\"], [\"25.0 - 25.0\"], [\"25.0 - 25.0\"], [\"25.0 - 25.0\"], [\"25.0 - 25.0\"], [\"25.0 - 25.0\"], [\"25.0 - 25.0\"], [\"25.0 - 25.0\"], [\"25.0 - 25.0\"], [\"25.0 - 25.0\"], [\"25.0 - 25.0\"], [\"25.0 - 25.0\"], [\"25.0 - 25.0\"], [\"25.0 - 25.0\"], [\"25.0 - 25.0\"], [\"25.0 - 25.0\"], [\"25.0 - 25.0\"], [\"25.0 - 25.0\"], [\"25.0 - 25.0\"], [\"25.0 - 25.0\"], [\"25.0 - 25.0\"], [\"25.0 - 25.0\"], [\"25.0 - 25.0\"], [\"25.0 - 25.0\"], [\"25.0 - 25.0\"], [\"25.0 - 25.0\"], [\"25.0 - 25.0\"], [\"25.0 - 25.0\"], [\"25.0 - 25.0\"], [\"25.0 - 25.0\"], [\"25.0 - 25.0\"], [\"25.0 - 25.0\"], [\"25.0 - 25.0\"], [\"25.0 - 25.0\"], [\"25.0 - 25.0\"], [\"25.0 - 25.0\"], [\"25.0 - 25.0\"], [\"25.0 - 25.0\"], [\"25.0 - 25.0\"], [\"25.0 - 25.0\"], [\"25.0 - 25.0\"], [\"25.0 - 25.0\"], [\"25.0 - 25.0\"], [\"25.0 - 25.0\"], [\"25.0 - 25.0\"], [\"25.0 - 25.0\"], [\"25.0 - 25.0\"], [\"25.0 - 25.0\"], [\"25.0 - 25.0\"], [\"25.0 - 25.0\"], [\"25.0 - 25.0\"], [\"25.0 - 25.0\"], [\"25.0 - 25.0\"], [\"25.0 - 25.0\"], [\"25.0 - 25.0\"], [\"25.0 - 25.0\"], [\"25.0 - 25.0\"], [\"25.0 - 25.0\"], [\"25.0 - 25.0\"], [\"25.0 - 25.0\"], [\"25.0 - 25.0\"], [\"25.0 - 25.0\"], [\"25.0 - 25.0\"], [\"25.0 - 25.0\"], [\"25.0 - 25.0\"], [\"25.0 - 25.0\"], [\"25.0 - 25.0\"], [\"25.0 - 25.0\"], [\"25.0 - 25.0\"], [\"25.0 - 25.0\"], [\"25.0 - 25.0\"], [\"25.0 - 25.0\"], [\"25.0 - 25.0\"], [\"25.0 - 25.0\"], [\"25.0 - 25.0\"], [\"25.0 - 25.0\"], [\"25.0 - 25.0\"], [\"25.0 - 25.0\"], [\"25.0 - 25.0\"], [\"25.0 - 25.0\"], [\"25.0 - 25.0\"], [\"25.0 - 25.0\"], [\"25.0 - 25.0\"], [\"25.0 - 25.0\"], [\"25.0 - 25.0\"], [\"25.0 - 25.0\"], [\"25.0 - 25.0\"], [\"25.0 - 25.0\"], [\"25.0 - 25.0\"], [\"25.0 - 25.0\"], [\"25.0 - 25.0\"], [\"25.0 - 25.0\"], [\"25.0 - 25.0\"], [\"25.0 - 25.0\"], [\"25.0 - 25.0\"], [\"25.0 - 25.0\"], [\"25.0 - 25.0\"], [\"25.0 - 25.0\"], [\"25.0 - 25.0\"], [\"25.0 - 25.0\"], [\"25.0 - 25.0\"], [\"25.0 - 25.0\"], [\"25.0 - 25.0\"], [\"25.0 - 25.0\"], [\"25.0 - 25.0\"], [\"25.0 - 25.0\"], [\"25.0 - 25.0\"], [\"25.0 - 25.0\"], [\"25.0 - 25.0\"], [\"25.0 - 25.0\"], [\"25.0 - 25.0\"], [\"25.0 - 25.0\"], [\"25.0 - 25.0\"], [\"25.0 - 25.0\"], [\"25.0 - 25.0\"], [\"25.0 - 25.0\"], [\"25.0 - 25.0\"], [\"25.0 - 25.0\"], [\"25.0 - 25.0\"], [\"25.0 - 25.0\"], [\"25.0 - 25.0\"], [\"25.0 - 25.0\"], [\"25.0 - 25.0\"], [\"25.0 - 25.0\"], [\"25.0 - 25.0\"], [\"25.0 - 25.0\"], [\"25.0 - 25.0\"], [\"25.0 - 25.0\"], [\"25.0 - 25.0\"], [\"25.0 - 25.0\"], [\"25.0 - 25.0\"], [\"25.0 - 25.0\"], [\"25.0 - 25.0\"], [\"25.0 - 25.0\"], [\"25.0 - 25.0\"], [\"25.0 - 25.0\"], [\"25.0 - 25.0\"], [\"25.0 - 25.0\"], [\"25.0 - 25.0\"], [\"25.0 - 25.0\"], [\"25.0 - 25.0\"], [\"25.0 - 25.0\"], [\"25.0 - 25.0\"], [\"25.0 - 25.0\"], [\"25.0 - 25.0\"], [\"25.0 - 25.0\"], [\"25.0 - 25.0\"], [\"25.0 - 25.0\"], [\"25.0 - 25.0\"], [\"25.0 - 25.0\"], [\"25.0 - 25.0\"], [\"25.0 - 25.0\"], [\"25.0 - 25.0\"], [\"25.0 - 25.0\"], [\"25.0 - 25.0\"], [\"25.0 - 25.0\"], [\"25.0 - 25.0\"], [\"25.0 - 25.0\"], [\"25.0 - 25.0\"], [\"25.0 - 25.0\"], [\"25.0 - 25.0\"], [\"25.0 - 25.0\"], [\"25.0 - 25.0\"], [\"25.0 - 25.0\"], [\"25.0 - 25.0\"], [\"25.0 - 25.0\"], [\"25.0 - 25.0\"], [\"25.0 - 25.0\"], [\"25.0 - 25.0\"], [\"25.0 - 25.0\"], [\"30.0 - 30.0\"], [\"30.0 - 30.0\"], [\"30.0 - 30.0\"], [\"30.0 - 30.0\"], [\"35.99 - 36.34\"], [\"40.0 - 40.0\"], [\"40.0 - 40.0\"], [\"40.0 - 40.0\"], [\"40.0 - 40.0\"], [\"40.0 - 40.0\"], [\"40.0 - 40.0\"], [\"40.0 - 40.0\"], [\"45.35 - 47.0\"], [\"48.45 - 49.62\"], [\"49.64 - 50.0\"], [\"50.0 - 50.0\"], [\"50.0 - 50.0\"], [\"50.0 - 50.0\"], [\"50.0 - 50.0\"], [\"50.0 - 50.0\"], [\"50.0 - 50.0\"], [\"50.0 - 50.0\"], [\"50.0 - 50.0\"], [\"50.0 - 50.0\"], [\"50.0 - 50.0\"], [\"50.0 - 50.0\"], [\"50.0 - 50.0\"], [\"50.0 - 50.0\"], [\"50.0 - 50.0\"], [\"50.0 - 50.0\"], [\"50.0 - 50.0\"], [\"50.0 - 50.0\"], [\"50.0 - 50.0\"], [\"50.0 - 50.0\"], [\"50.0 - 50.0\"], [\"50.0 - 50.0\"], [\"50.0 - 50.0\"], [\"50.0 - 50.0\"], [\"50.0 - 50.0\"], [\"50.0 - 50.0\"], [\"50.0 - 50.0\"], [\"50.0 - 50.0\"], [\"50.0 - 50.0\"], [\"50.0 - 50.0\"], [\"50.0 - 50.0\"], [\"50.0 - 50.0\"], [\"50.0 - 50.0\"], [\"50.0 - 50.0\"], [\"50.0 - 50.0\"], [\"50.0 - 50.0\"], [\"50.0 - 50.0\"], [\"50.0 - 50.0\"], [\"50.0 - 50.0\"], [\"50.0 - 50.0\"], [\"50.0 - 50.0\"], [\"50.0 - 50.0\"], [\"50.0 - 50.0\"], [\"50.0 - 50.0\"], [\"50.0 - 50.0\"], [\"50.0 - 50.0\"], [\"50.0 - 50.0\"], [\"50.0 - 50.0\"], [\"50.0 - 50.0\"], [\"50.0 - 50.0\"], [\"50.0 - 50.0\"], [\"50.0 - 50.0\"], [\"50.0 - 50.0\"], [\"50.0 - 50.0\"], [\"50.0 - 50.0\"], [\"50.0 - 50.0\"], [\"50.0 - 50.0\"], [\"50.0 - 50.0\"], [\"50.0 - 50.0\"], [\"50.0 - 50.0\"], [\"50.0 - 50.0\"], [\"50.0 - 50.0\"], [\"50.0 - 50.0\"], [\"50.0 - 50.0\"], [\"50.0 - 50.0\"], [\"50.0 - 50.0\"], [\"50.0 - 50.0\"], [\"50.0 - 50.0\"], [\"50.0 - 50.0\"], [\"50.0 - 50.0\"], [\"50.0 - 50.0\"], [\"50.0 - 50.0\"], [\"50.0 - 50.0\"], [\"50.0 - 50.0\"], [\"50.0 - 50.0\"], [\"50.0 - 50.0\"], [\"50.0 - 50.0\"], [\"50.0 - 50.0\"], [\"50.0 - 50.0\"], [\"50.0 - 50.0\"], [\"50.0 - 50.0\"], [\"50.0 - 50.0\"], [\"50.0 - 50.0\"], [\"50.0 - 50.0\"], [\"50.0 - 50.0\"], [\"50.0 - 50.0\"], [\"50.0 - 50.0\"], [\"50.0 - 50.0\"], [\"50.0 - 50.0\"], [\"50.0 - 50.0\"], [\"50.0 - 50.0\"], [\"50.0 - 50.0\"], [\"50.0 - 50.0\"], [\"50.0 - 50.0\"], [\"50.0 - 50.0\"], [\"50.0 - 50.0\"], [\"50.0 - 50.0\"], [\"50.0 - 50.0\"], [\"50.0 - 50.0\"], [\"50.0 - 50.0\"], [\"50.0 - 50.0\"], [\"50.0 - 50.0\"], [\"50.0 - 50.0\"], [\"50.0 - 50.0\"], [\"50.0 - 50.0\"], [\"50.0 - 50.0\"], [\"50.0 - 50.0\"], [\"50.0 - 50.0\"], [\"50.0 - 50.0\"], [\"50.0 - 50.0\"], [\"50.0 - 50.0\"], [\"50.0 - 50.0\"], [\"50.0 - 50.0\"], [\"50.0 - 50.0\"], [\"50.0 - 50.0\"], [\"50.0 - 50.0\"], [\"50.0 - 50.0\"], [\"50.0 - 50.0\"], [\"50.0 - 50.0\"], [\"50.0 - 50.0\"], [\"50.0 - 50.0\"], [\"50.0 - 50.0\"], [\"50.0 - 50.0\"], [\"50.0 - 50.0\"], [\"50.0 - 50.0\"], [\"50.0 - 50.0\"], [\"50.0 - 50.0\"], [\"50.0 - 50.0\"], [\"50.0 - 50.0\"], [\"50.0 - 50.0\"], [\"50.0 - 50.0\"], [\"50.0 - 50.0\"], [\"50.0 - 50.0\"], [\"50.0 - 50.0\"], [\"50.0 - 50.0\"], [\"50.0 - 50.0\"], [\"50.0 - 50.0\"], [\"50.0 - 50.0\"], [\"50.0 - 50.0\"], [\"50.0 - 50.0\"], [\"50.0 - 50.0\"], [\"50.0 - 50.0\"], [\"50.0 - 50.0\"], [\"50.0 - 50.0\"], [\"50.0 - 50.0\"], [\"50.0 - 50.0\"], [\"50.0 - 50.0\"], [\"50.0 - 50.0\"], [\"50.0 - 50.0\"], [\"50.0 - 50.0\"], [\"50.0 - 50.0\"], [\"50.0 - 50.0\"], [\"50.0 - 50.0\"], [\"50.0 - 50.0\"], [\"50.0 - 50.0\"], [\"50.0 - 50.0\"], [\"50.0 - 50.0\"], [\"50.0 - 50.0\"], [\"50.0 - 50.0\"], [\"50.0 - 50.0\"], [\"50.0 - 50.0\"], [\"50.0 - 50.0\"], [\"50.0 - 50.0\"], [\"50.0 - 50.0\"], [\"50.0 - 50.0\"], [\"50.0 - 50.0\"], [\"50.0 - 50.0\"], [\"50.0 - 50.0\"], [\"50.0 - 50.0\"], [\"50.0 - 50.0\"], [\"50.0 - 50.0\"], [\"50.0 - 50.0\"], [\"50.0 - 50.0\"], [\"50.0 - 50.0\"], [\"50.0 - 50.0\"], [\"50.0 - 50.0\"], [\"50.0 - 50.0\"], [\"50.0 - 50.0\"], [\"50.0 - 50.0\"], [\"50.0 - 50.0\"], [\"50.0 - 50.0\"], [\"50.0 - 50.0\"], [\"50.0 - 50.0\"], [\"99.0 - 99.0\"], [\"99.0 - 99.0\"], [\"99.0 - 99.0\"], [\"99.0 - 99.0\"], [\"100.0 - 100.0\"], [\"100.0 - 100.0\"], [\"100.0 - 100.0\"], [\"100.0 - 100.0\"], [\"100.0 - 100.0\"], [\"100.0 - 100.0\"], [\"100.0 - 100.0\"], [\"100.0 - 100.0\"], [\"100.0 - 100.0\"], [\"100.0 - 100.0\"], [\"100.0 - 100.0\"], [\"100.0 - 100.0\"], [\"100.0 - 100.0\"], [\"100.0 - 100.0\"], [\"100.0 - 100.0\"], [\"100.0 - 100.0\"], [\"100.0 - 100.0\"], [\"100.0 - 100.0\"], [\"100.0 - 100.0\"], [\"100.0 - 100.0\"], [\"100.0 - 100.0\"], [\"100.0 - 100.0\"], [\"100.0 - 100.0\"], [\"100.0 - 100.0\"], [\"100.0 - 100.0\"], [\"100.0 - 100.0\"], [\"100.0 - 100.0\"], [\"100.0 - 100.0\"], [\"100.0 - 100.0\"], [\"100.0 - 100.0\"], [\"100.0 - 100.0\"], [\"100.0 - 100.0\"], [\"100.0 - 100.0\"], [\"100.0 - 100.0\"], [\"100.0 - 100.0\"], [\"100.0 - 100.0\"], [\"100.0 - 100.0\"], [\"100.0 - 100.0\"], [\"100.0 - 100.0\"], [\"100.0 - 100.0\"], [\"100.0 - 100.0\"], [\"100.0 - 100.0\"], [\"100.0 - 100.0\"]], \"hovertemplate\": \"comparative_retention=lower<br>group1024=%{x}<br>retention_yr1=%{y}<br>group_range=%{customdata[0]}<extra></extra>\", \"legendgroup\": \"lower\", \"marker\": {\"color\": \"#1F77B4\", \"symbol\": \"circle\"}, \"mode\": \"markers\", \"name\": \"lower\", \"showlegend\": true, \"type\": \"scattergl\", \"x\": [0, 1, 2, 3, 4, 5, 6, 7, 8, 9, 10, 11, 12, 13, 14, 15, 16, 17, 18, 19, 20, 21, 22, 23, 24, 25, 26, 28, 29, 30, 31, 32, 33, 34, 35, 36, 37, 38, 39, 40, 41, 42, 43, 44, 45, 46, 47, 48, 49, 50, 51, 52, 53, 54, 55, 56, 57, 58, 59, 60, 61, 62, 63, 64, 65, 66, 67, 68, 69, 70, 71, 72, 73, 74, 75, 76, 77, 78, 79, 80, 81, 82, 83, 84, 85, 86, 87, 88, 89, 90, 91, 92, 93, 94, 95, 96, 97, 98, 99, 100, 101, 102, 103, 104, 105, 106, 107, 108, 109, 110, 111, 112, 113, 114, 115, 116, 117, 119, 120, 121, 122, 123, 124, 125, 126, 127, 128, 129, 130, 131, 133, 134, 135, 136, 138, 139, 140, 141, 142, 143, 144, 145, 146, 147, 148, 149, 150, 151, 152, 153, 154, 155, 156, 157, 158, 159, 160, 161, 162, 163, 164, 165, 166, 167, 168, 169, 170, 171, 172, 173, 174, 175, 176, 177, 178, 179, 180, 181, 182, 183, 184, 185, 186, 187, 188, 189, 190, 191, 192, 193, 194, 195, 196, 197, 198, 199, 200, 201, 202, 203, 204, 205, 206, 207, 208, 209, 210, 211, 214, 215, 216, 217, 218, 219, 220, 221, 222, 223, 224, 225, 226, 227, 228, 229, 230, 231, 232, 233, 234, 235, 236, 237, 238, 239, 240, 241, 242, 243, 244, 245, 246, 247, 248, 249, 250, 251, 252, 253, 254, 255, 256, 257, 258, 259, 260, 261, 262, 263, 264, 265, 266, 267, 268, 269, 270, 271, 272, 273, 274, 275, 276, 277, 278, 279, 280, 281, 282, 283, 284, 285, 286, 287, 288, 289, 290, 291, 292, 293, 294, 295, 296, 297, 298, 299, 300, 301, 302, 303, 304, 305, 306, 307, 308, 309, 310, 311, 312, 313, 314, 315, 316, 317, 318, 319, 320, 321, 322, 323, 324, 325, 326, 327, 328, 329, 330, 331, 332, 333, 334, 335, 336, 337, 338, 339, 340, 341, 342, 343, 344, 345, 347, 348, 349, 350, 351, 352, 353, 354, 355, 356, 357, 358, 359, 360, 361, 362, 363, 364, 365, 366, 367, 368, 369, 370, 371, 372, 373, 374, 375, 376, 377, 378, 379, 380, 381, 382, 383, 384, 385, 386, 387, 388, 390, 391, 392, 393, 394, 395, 396, 397, 398, 399, 400, 401, 402, 403, 404, 405, 406, 407, 408, 409, 410, 411, 412, 413, 414, 415, 416, 417, 418, 419, 420, 421, 422, 423, 424, 425, 426, 427, 428, 430, 431, 432, 433, 434, 436, 437, 439, 440, 441, 442, 443, 444, 445, 446, 447, 448, 449, 450, 451, 452, 459, 462, 463, 465, 485, 489, 490, 492, 497, 499, 501, 502, 510, 512, 513, 514, 515, 516, 517, 518, 519, 520, 522, 523, 524, 525, 526, 527, 528, 529, 530, 531, 532, 533, 534, 535, 536, 537, 538, 539, 540, 541, 542, 543, 544, 545, 546, 548, 549, 550, 551, 552, 553, 554, 555, 557, 558, 559, 560, 561, 562, 563, 565, 566, 567, 569, 570, 572, 575, 576, 577, 579, 580, 581, 582, 583, 584, 586, 587, 588, 589, 590, 591, 592, 594, 596, 597, 598, 599, 600, 601, 602, 603, 604, 605, 606, 607, 608, 609, 610, 611, 612, 613, 614, 615, 617, 618, 619, 621, 623, 624, 625, 627, 630, 631, 632, 633, 635, 636, 637, 638, 639, 640, 641, 642, 643, 644, 645, 647, 648, 650, 651, 652, 653, 654, 655, 656, 657, 658, 659, 660, 661, 662, 663, 664, 665, 666, 667, 668, 669, 670, 671, 672, 673, 674, 675, 676, 677, 679, 681, 682, 683, 684, 685, 686, 687, 689, 690, 691, 692, 693, 694, 695, 696, 697, 698, 700, 701, 702, 703, 704, 705, 706, 707, 708, 709, 710, 711, 712, 713, 714, 715, 716, 717, 718, 720, 721, 785, 788, 791, 794, 800, 801, 805, 806, 808, 812, 813, 815, 816, 817, 819, 820, 823, 824, 825, 826, 827, 828, 829, 830, 835, 836, 838, 839, 842, 846, 847, 848, 853, 854, 855, 856, 861, 862, 863, 868, 874, 875, 877, 878, 883, 885, 886], \"xaxis\": \"x\", \"y\": [0.037065052950075644, 0.043668122270742356, 0.04215976331360947, 0.0364963503649635, 0.03237951807228916, 0.04399701715137957, 0.04373610081541883, 0.0879848628192999, 0.099581589958159, 0.10727969348659004, 0.15268817204301074, 0.13075506445672191, 0.08395061728395062, 0.085, 0.10628019323671498, 0.08788598574821853, 0.10591133004926108, 0.0654911838790932, 0.08152173913043478, 0.09536784741144415, 0.10789473684210527, 0.09367088607594937, 0.08533333333333333, 0.08095238095238096, 0.11450381679389313, 0.08463251670378619, 0.10144927536231885, 0.19376391982182628, 0.15920398009950248, 0.14221218961625282, 0.1111111111111111, 0.1550561797752809, 0.11868686868686869, 0.12589073634204276, 0.10158013544018059, 0.12735849056603774, 0.13701923076923078, 0.11961722488038277, 0.11951219512195121, 0.11298076923076923, 0.13978494623655913, 0.12009237875288684, 0.1111111111111111, 0.1232876712328767, 0.09798994974874371, 0.14081145584725538, 0.09798994974874371, 0.1, 0.09813084112149532, 0.09567198177676538, 0.116331096196868, 0.1362530413625304, 0.13624678663239073, 0.12727272727272726, 0.10677083333333333, 0.1261904761904762, 0.14251781472684086, 0.1015625, 0.10047846889952153, 0.09280742459396751, 0.12177985948477751, 0.1336405529953917, 0.12285012285012285, 0.09178743961352658, 0.16058394160583941, 0.12165450121654502, 0.13012048192771083, 0.10835214446952596, 0.1065989847715736, 0.10392609699769054, 0.1353211009174312, 0.10772833723653395, 0.12751677852348994, 0.13908872901678657, 0.12135922330097088, 0.11816192560175055, 0.10978520286396182, 0.12387387387387387, 0.12682926829268293, 0.14153132250580047, 0.11395348837209303, 0.12709832134292565, 0.10401891252955082, 0.14084507042253522, 0.14527845036319612, 0.12589073634204276, 0.12408759124087591, 0.12300683371298406, 0.11441647597254005, 0.13707865168539327, 0.1348314606741573, 0.1318407960199005, 0.13411764705882354, 0.1366906474820144, 0.11270983213429256, 0.10268948655256724, 0.12646370023419204, 0.10843373493975904, 0.141439205955335, 0.11711711711711711, 0.13592233009708737, 0.12176165803108809, 0.12555066079295155, 0.1625, 0.1377672209026128, 0.11611374407582939, 0.12831858407079647, 0.1345707656612529, 0.13043478260869565, 0.10904872389791183, 0.1211453744493392, 0.145, 0.14527845036319612, 0.09803921568627451, 0.12093023255813953, 0.11682242990654206, 0.18112244897959184, 0.16816816816816818, 0.1556420233463035, 0.1762295081967213, 0.1409090909090909, 0.15948275862068967, 0.17842323651452283, 0.1623931623931624, 0.11946902654867257, 0.1276595744680851, 0.18614718614718614, 0.12133891213389121, 0.18181818181818182, 0.17333333333333334, 0.16044776119402984, 0.16019417475728157, 0.15352697095435686, 0.16541353383458646, 0.1746987951807229, 0.12652068126520682, 0.08089887640449438, 0.11387163561076605, 0.10981308411214953, 0.11258278145695365, 0.09557109557109557, 0.08296943231441048, 0.09263657957244656, 0.11395348837209303, 0.11711711711711711, 0.09954751131221719, 0.1111111111111111, 0.09785202863961814, 0.11888111888111888, 0.10786516853932585, 0.091324200913242, 0.09767441860465116, 0.09174311926605505, 0.09480812641083522, 0.10897435897435898, 0.08941176470588236, 0.14692982456140352, 0.11013215859030837, 0.09569377990430622, 0.08705357142857142, 0.10158013544018059, 0.1038135593220339, 0.11670480549199085, 0.06888888888888889, 0.10638297872340426, 0.11235955056179775, 0.07991360691144708, 0.12633832976445397, 0.0867579908675799, 0.11279826464208242, 0.09401709401709402, 0.11512415349887133, 0.07506053268765134, 0.13769751693002258, 0.11685393258426967, 0.10638297872340426, 0.097799511002445, 0.11358024691358025, 0.14255765199161424, 0.08686440677966102, 0.11320754716981132, 0.11392405063291139, 0.1010989010989011, 0.09133489461358314, 0.1087962962962963, 0.10440835266821345, 0.10657596371882086, 0.09813084112149532, 0.10267857142857142, 0.09817351598173515, 0.11926605504587157, 0.10141509433962265, 0.10087719298245613, 0.09047619047619047, 0.08714596949891068, 0.10412147505422993, 0.10227272727272728, 0.09192825112107623, 0.11546840958605664, 0.0892018779342723, 0.1048951048951049, 0.09761388286334056, 0.0855106888361045, 0.12719298245614036, 0.09425287356321839, 0.11899313501144165, 0.13253012048192772, 0.1882716049382716, 0.15073529411764705, 0.15, 0.17562724014336917, 0.17328519855595667, 0.12359550561797752, 0.1386861313868613, 0.14344262295081966, 0.10833333333333334, 0.15352697095435686, 0.12734082397003746, 0.15891472868217055, 0.13740458015267176, 0.14705882352941177, 0.16417910447761194, 0.16906474820143885, 0.13846153846153847, 0.14482758620689656, 0.16730038022813687, 0.1056338028169014, 0.15129151291512916, 0.15413533834586465, 0.14625850340136054, 0.1407942238267148, 0.1678082191780822, 0.1575091575091575, 0.17490494296577946, 0.16176470588235295, 0.1371841155234657, 0.15447154471544716, 0.13618677042801555, 0.1527777777777778, 0.14184397163120568, 0.1510791366906475, 0.16551724137931034, 0.16845878136200718, 0.15185185185185185, 0.16091954022988506, 0.136, 0.1638655462184874, 0.149812734082397, 0.15357142857142858, 0.11149825783972125, 0.13127413127413126, 0.1875, 0.13043478260869565, 0.13653136531365315, 0.15471698113207547, 0.15845070422535212, 0.13953488372093023, 0.1527777777777778, 0.15018315018315018, 0.16487455197132617, 0.15234375, 0.17894736842105263, 0.1423487544483986, 0.13043478260869565, 0.12062256809338522, 0.16730038022813687, 0.14285714285714285, 0.15302491103202848, 0.13382899628252787, 0.1626984126984127, 0.16417910447761194, 0.12213740458015267, 0.1553030303030303, 0.12043795620437957, 0.13553113553113552, 0.14788732394366197, 0.13793103448275862, 0.1471698113207547, 0.16853932584269662, 0.13602941176470587, 0.15579710144927536, 0.12152777777777778, 0.13793103448275862, 0.13043478260869565, 0.14728682170542637, 0.1597222222222222, 0.16845878136200718, 0.15671641791044777, 0.11462450592885376, 0.18439716312056736, 0.13090909090909092, 0.11428571428571428, 0.16728624535315986, 0.12627986348122866, 0.12109375, 0.15891472868217055, 0.1511627906976744, 0.14965986394557823, 0.17, 0.11836734693877551, 0.18587360594795538, 0.16796875, 0.14772727272727273, 0.13805970149253732, 0.14285714285714285, 0.11278195488721804, 0.17041800643086816, 0.1388888888888889, 0.15730337078651685, 0.16083916083916083, 0.10526315789473684, 0.15901060070671377, 0.15748031496062992, 0.12927756653992395, 0.19402985074626866, 0.1368421052631579, 0.1289198606271777, 0.1511627906976744, 0.15613382899628253, 0.13793103448275862, 0.1684981684981685, 0.1781818181818182, 0.13043478260869565, 0.15384615384615385, 0.12251655629139073, 0.1646586345381526, 0.15849056603773584, 0.1728395061728395, 0.11870503597122302, 0.14785992217898833, 0.15358361774744028, 0.17028985507246377, 0.17204301075268819, 0.11721611721611722, 0.15359477124183007, 0.13284132841328414, 0.14173228346456693, 0.17777777777777778, 0.13857677902621723, 0.1596958174904943, 0.17667844522968199, 0.136, 0.16287878787878787, 0.14035087719298245, 0.15298507462686567, 0.14432989690721648, 0.15648854961832062, 0.13846153846153847, 0.1520912547528517, 0.17391304347826086, 0.1595744680851064, 0.1423076923076923, 0.13026819923371646, 0.17307692307692307, 0.17293233082706766, 0.19117647058823528, 0.1510791366906475, 0.1524163568773234, 0.14186851211072665, 0.12267657992565056, 0.10423452768729642, 0.15217391304347827, 0.17006802721088435, 0.16728624535315986, 0.16470588235294117, 0.13962264150943396, 0.17343173431734318, 0.15789473684210525, 0.13818181818181818, 0.16981132075471697, 0.12096774193548387, 0.16376306620209058, 0.11846689895470383, 0.16044776119402984, 0.1440329218106996, 0.15602836879432624, 0.16666666666666666, 0.16911764705882354, 0.09163346613545817, 0.1044776119402985, 0.17753623188405798, 0.1532567049808429, 0.1183206106870229, 0.14233576642335766, 0.1423841059602649, 0.16312056737588654, 0.12790697674418605, 0.15636363636363637, 0.13043478260869565, 0.14396887159533073, 0.17307692307692307, 0.15555555555555556, 0.12982456140350876, 0.16153846153846155, 0.1328125, 0.18627450980392157, 0.15570934256055363, 0.13011152416356878, 0.1450381679389313, 0.15073529411764705, 0.19245283018867926, 0.15162454873646208, 0.11524163568773234, 0.12648221343873517, 0.145748987854251, 0.1505016722408027, 0.1505016722408027, 0.1391941391941392, 0.11960132890365449, 0.14334470989761092, 0.16182572614107885, 0.1245136186770428, 0.15666666666666668, 0.18149466192170818, 0.15053763440860216, 0.14893617021276595, 0.12927756653992395, 0.17537313432835822, 0.15613382899628253, 0.16470588235294117, 0.13405797101449277, 0.17142857142857143, 0.138996138996139, 0.1590909090909091, 0.13745704467353953, 0.175, 0.12681159420289856, 0.16296296296296298, 0.15725806451612903, 0.14930555555555555, 0.1310344827586207, 0.16352201257861634, 0.11764705882352941, 0.13740458015267176, 0.17110266159695817, 0.1225296442687747, 0.16071428571428573, 0.1867704280155642, 0.17916666666666667, 0.13818181818181818, 0.11486486486486487, 0.14652014652014653, 0.18815331010452963, 0.18151815181518152, 0.18421052631578946, 0.18506493506493507, 0.1414141414141414, 0.17434210526315788, 0.19298245614035087, 0.19202898550724637, 0.15161290322580645, 0.1828358208955224, 0.17857142857142858, 0.18243243243243243, 0.1864406779661017, 0.1901840490797546, 0.14012738853503184, 0.15953307392996108, 0.18548387096774194, 0.14345991561181434, 0.16412213740458015, 0.12903225806451613, 0.1593625498007968, 0.1896551724137931, 0.1619047619047619, 0.14173228346456693, 0.18972332015810275, 0.18803418803418803, 0.1640625, 0.18376068376068377, 0.16371681415929204, 0.13807531380753138, 0.17105263157894737, 0.15702479338842976, 0.1843137254901961, 0.18636363636363637, 0.15207373271889402, 0.13127413127413126, 0.16101694915254236, 0.13793103448275862, 0.15925925925925927, 0.15234375, 0.17647058823529413, 0.1417004048582996, 0.18106995884773663, 0.19183673469387755, 0.17578125, 0.17692307692307693, 0.1444866920152091, 0.14601769911504425, 0.1686746987951807, 0.18309859154929578, 0.15853658536585366, 0.1187214611872146, 0.13278008298755187, 0.17094017094017094, 0.14957264957264957, 0.14979757085020243, 0.13389121338912133, 0.14049586776859505, 0.16379310344827586, 0.15942028985507245, 0.1894273127753304, 0.16412213740458015, 0.11428571428571428, 0.14285714285714285, 0.14566929133858267, 0.16862745098039217, 0.1277533039647577, 0.18072289156626506, 0.14522821576763487, 0.16541353383458646, 0.14342629482071714, 0.1592920353982301, 0.1836734693877551, 0.15021459227467812, 0.15254237288135594, 0.15918367346938775, 0.15040650406504066, 0.192, 0.1346153846153846, 0.16666666666666666, 0.13877551020408163, 0.1762295081967213, 0.1857707509881423, 0.13445378151260504, 0.17073170731707318, 0.17142857142857143, 0.16602316602316602, 0.15517241379310345, 0.1732283464566929, 0.1736111111111111, 0.18376068376068377, 0.15637860082304528, 0.14912280701754385, 0.1440677966101695, 0.17254901960784313, 0.16810344827586207, 0.17142857142857143, 0.16033755274261605, 0.15476190476190477, 0.17721518987341772, 0.18045112781954886, 0.1646090534979424, 0.16260162601626016, 0.15447154471544716, 0.17490494296577946, 0.1417624521072797, 0.18695652173913044, 0.16170212765957448, 0.1440329218106996, 0.18666666666666668, 0.15789473684210525, 0.19166666666666668, 0.16818181818181818, 0.17467248908296942, 0.1482889733840304, 0.1684981684981685, 0.14453125, 0.1517509727626459, 0.17578125, 0.15355805243445692, 0.14339622641509434, 0.17391304347826086, 0.15767634854771784, 0.12992125984251968, 0.15708812260536398, 0.17391304347826086, 0.17647058823529413, 0.1606425702811245, 0.15476190476190477, 0.14682539682539683, 0.1559633027522936, 0.12598425196850394, 0.15517241379310345, 0.1680327868852459, 0.12844036697247707, 0.16393442622950818, 0.18061674008810572, 0.14122137404580154, 0.14798206278026907, 0.1383399209486166, 0.1803921568627451, 0.1651376146788991, 0.17054263565891473, 0.17857142857142858, 0.17725752508361203, 0.1520912547528517, 0.17786561264822134, 0.14049586776859505, 0.12556053811659193, 0.1646090534979424, 0.1474820143884892, 0.16862745098039217, 0.17786561264822134, 0.17829457364341086, 0.15261044176706828, 0.14468085106382977, 0.13574660633484162, 0.17768595041322313, 0.13215859030837004, 0.16317991631799164, 0.1422924901185771, 0.17154811715481172, 0.13095238095238096, 0.1471861471861472, 0.1583710407239819, 0.171875, 0.16883116883116883, 0.18099547511312217, 0.19166666666666668, 0.12605042016806722, 0.15966386554621848, 0.15217391304347827, 0.1487603305785124, 0.152, 0.17647058823529413, 0.16170212765957448, 0.18951612903225806, 0.19282511210762332, 0.12653061224489795, 0.1902654867256637, 0.19130434782608696, 0.1659919028340081, 0.16988416988416988, 0.15126050420168066, 0.1646090534979424, 0.16666666666666666, 0.13523131672597866, 0.17142857142857143, 0.144, 0.18532818532818532, 0.15298507462686567, 0.1799163179916318, 0.14516129032258066, 0.1729957805907173, 0.17898832684824903, 0.1752988047808765, 0.17857142857142858, 0.16666666666666666, 0.0, 0.16666666666666666, 0.0, 0.1806020066889632, 0.16139240506329114, 0.19322033898305085, 0.15699658703071673, 0.1896551724137931, 0.19169329073482427, 0.1896551724137931, 0.1760797342192691, 0.16845878136200718, 0.1806020066889632, 0.1919191919191919, 0.1893687707641196, 0.18597560975609756, 0.14521452145214522, 0.18815331010452963, 0.18688524590163935, 0.18452380952380953, 0.18092105263157895, 0.19141914191419143, 0.15901060070671377, 0.1917808219178082, 0.18495297805642633, 0.1323529411764706, 0.1875, 0.1815068493150685, 0.1935483870967742, 0.19141914191419143, 0.19375, 0.1858108108108108, 0.19155844155844157, 0.17721518987341772, 0.1724137931034483, 0.18181818181818182, 0.1606060606060606, 0.16943521594684385, 0.19243986254295534, 0.18471337579617833, 0.18620689655172415, 0.16417910447761194, 0.16896551724137931, 0.18983050847457628, 0.18439716312056736, 0.18032786885245902], \"yaxis\": \"y\"}, {\"customdata\": [[\"5.0 - 7.0\"], [\"12.0 - 13.1\"], [\"15.0 - 15.0\"], [\"15.76 - 17.36\"], [\"22.0 - 23.79\"], [\"23.79 - 25.0\"], [\"25.0 - 25.0\"], [\"25.0 - 25.0\"], [\"25.0 - 25.0\"], [\"25.0 - 25.0\"], [\"25.0 - 25.0\"], [\"25.0 - 26.26\"], [\"26.28 - 27.51\"], [\"27.52 - 29.0\"], [\"29.0 - 30.0\"], [\"30.0 - 30.0\"], [\"30.0 - 30.0\"], [\"30.0 - 30.0\"], [\"30.0 - 30.0\"], [\"30.0 - 30.0\"], [\"30.0 - 30.0\"], [\"30.0 - 30.0\"], [\"30.0 - 30.0\"], [\"30.0 - 30.0\"], [\"30.0 - 30.0\"], [\"30.0 - 30.0\"], [\"30.0 - 30.0\"], [\"30.0 - 30.0\"], [\"30.0 - 31.11\"], [\"31.12 - 32.56\"], [\"32.56 - 34.0\"], [\"34.0 - 35.0\"], [\"35.0 - 35.0\"], [\"35.0 - 35.0\"], [\"35.0 - 35.0\"], [\"35.0 - 35.0\"], [\"35.0 - 35.0\"], [\"35.0 - 35.0\"], [\"35.0 - 35.96\"], [\"36.34 - 38.0\"], [\"38.0 - 39.22\"], [\"39.23 - 40.0\"], [\"40.0 - 40.0\"], [\"40.0 - 40.0\"], [\"40.0 - 40.0\"], [\"40.0 - 40.0\"], [\"40.0 - 40.0\"], [\"40.0 - 40.0\"], [\"40.0 - 40.0\"], [\"40.0 - 41.89\"], [\"41.89 - 43.4\"], [\"43.41 - 45.0\"], [\"45.0 - 45.0\"], [\"45.0 - 45.0\"], [\"45.0 - 45.0\"], [\"45.0 - 45.32\"], [\"47.0 - 48.44\"], [\"50.0 - 50.0\"], [\"50.0 - 50.0\"], [\"50.0 - 50.0\"], [\"50.0 - 50.0\"], [\"50.0 - 50.0\"], [\"50.0 - 50.0\"], [\"50.0 - 50.0\"], [\"50.0 - 50.0\"], [\"50.0 - 50.0\"], [\"50.0 - 50.0\"], [\"50.0 - 50.0\"], [\"50.0 - 50.0\"], [\"50.0 - 50.0\"], [\"50.0 - 50.0\"], [\"50.0 - 50.0\"], [\"50.0 - 50.0\"], [\"50.0 - 50.0\"], [\"50.0 - 50.0\"], [\"50.0 - 50.0\"], [\"50.0 - 50.0\"], [\"50.0 - 50.0\"], [\"50.0 - 50.0\"], [\"50.0 - 50.0\"], [\"50.0 - 50.0\"], [\"50.0 - 50.0\"], [\"50.0 - 50.0\"], [\"50.0 - 50.0\"], [\"50.0 - 51.0\"], [\"51.0 - 52.47\"], [\"52.48 - 54.0\"], [\"54.0 - 55.0\"], [\"55.0 - 55.0\"], [\"55.0 - 56.0\"], [\"56.0 - 57.77\"], [\"57.79 - 59.53\"], [\"59.55 - 60.0\"], [\"60.0 - 60.0\"], [\"60.0 - 60.0\"], [\"60.0 - 60.0\"], [\"60.0 - 60.0\"], [\"60.0 - 60.0\"], [\"60.0 - 62.0\"], [\"62.0 - 64.0\"], [\"64.0 - 65.0\"], [\"65.0 - 65.0\"], [\"65.0 - 66.38\"], [\"66.42 - 68.48\"], [\"68.48 - 70.0\"], [\"70.0 - 70.0\"], [\"70.0 - 70.0\"], [\"70.0 - 70.78\"], [\"70.79 - 73.0\"], [\"73.0 - 75.0\"], [\"75.0 - 75.0\"], [\"75.0 - 75.0\"], [\"75.0 - 75.0\"], [\"75.0 - 75.0\"], [\"75.0 - 75.0\"], [\"75.0 - 75.0\"], [\"75.0 - 75.0\"], [\"75.0 - 75.0\"], [\"75.0 - 75.0\"], [\"75.0 - 75.0\"], [\"75.0 - 75.0\"], [\"75.0 - 75.0\"], [\"75.0 - 75.0\"], [\"75.0 - 75.0\"], [\"75.0 - 75.0\"], [\"75.0 - 75.0\"], [\"75.0 - 75.0\"], [\"75.0 - 75.02\"], [\"75.13 - 77.26\"], [\"77.29 - 79.56\"], [\"79.61 - 80.0\"], [\"80.0 - 80.0\"], [\"80.0 - 81.48\"], [\"81.5 - 83.8\"], [\"83.82 - 85.0\"], [\"85.0 - 85.87\"], [\"85.88 - 88.01\"], [\"88.01 - 90.0\"], [\"90.0 - 90.0\"], [\"90.0 - 91.4\"], [\"91.44 - 93.99\"], [\"94.0 - 95.0\"], [\"95.0 - 96.63\"], [\"96.65 - 98.49\"], [\"98.5 - 99.0\"], [\"99.0 - 99.0\"], [\"99.0 - 99.0\"], [\"99.0 - 99.0\"], [\"99.0 - 99.0\"], [\"99.0 - 99.0\"], [\"99.0 - 99.0\"], [\"99.0 - 99.0\"], [\"99.0 - 99.0\"], [\"99.0 - 99.75\"], [\"99.76 - 100.0\"], [\"100.0 - 100.0\"], [\"100.0 - 100.0\"], [\"100.0 - 100.0\"], [\"100.0 - 100.0\"], [\"100.0 - 100.0\"], [\"100.0 - 100.0\"], [\"100.0 - 100.0\"], [\"100.0 - 100.0\"], [\"100.0 - 100.0\"], [\"100.0 - 100.0\"], [\"100.0 - 100.0\"], [\"100.0 - 100.0\"], [\"100.0 - 100.0\"], [\"100.0 - 100.0\"], [\"100.0 - 100.0\"], [\"100.0 - 100.0\"], [\"100.0 - 100.0\"], [\"100.0 - 100.0\"], [\"100.0 - 100.0\"], [\"100.0 - 100.0\"], [\"100.0 - 100.0\"], [\"100.0 - 100.0\"], [\"100.0 - 100.0\"], [\"100.0 - 100.0\"], [\"100.0 - 100.0\"], [\"100.0 - 100.0\"], [\"100.0 - 100.0\"], [\"100.0 - 100.0\"], [\"100.0 - 100.0\"], [\"100.0 - 100.0\"], [\"100.0 - 100.0\"], [\"100.0 - 100.0\"], [\"100.0 - 100.0\"], [\"100.0 - 100.0\"], [\"100.0 - 100.0\"], [\"100.0 - 100.0\"], [\"100.0 - 100.0\"], [\"100.0 - 100.0\"], [\"100.0 - 100.0\"], [\"100.0 - 100.0\"], [\"100.0 - 100.0\"], [\"100.0 - 100.0\"], [\"100.0 - 100.0\"], [\"100.0 - 100.0\"], [\"100.0 - 100.0\"], [\"100.0 - 100.0\"], [\"100.0 - 100.0\"], [\"100.0 - 101.0\"], [\"101.0 - 103.69\"], [\"103.75 - 105.0\"], [\"105.0 - 107.69\"], [\"107.72 - 110.0\"], [\"110.0 - 110.0\"], [\"110.0 - 111.69\"], [\"111.71 - 114.34\"], [\"114.34 - 115.0\"], [\"115.0 - 118.0\"], [\"118.0 - 120.0\"], [\"120.0 - 120.0\"], [\"120.0 - 122.03\"], [\"122.06 - 124.41\"], [\"124.42 - 125.0\"], [\"125.0 - 125.0\"], [\"125.0 - 125.0\"], [\"125.0 - 125.0\"], [\"125.0 - 125.0\"], [\"125.0 - 125.0\"], [\"125.0 - 125.0\"], [\"125.0 - 128.07\"], [\"128.09 - 130.0\"], [\"130.0 - 132.45\"], [\"132.5 - 135.0\"], [\"135.0 - 137.81\"], [\"137.84 - 140.0\"], [\"140.0 - 142.37\"], [\"142.41 - 145.0\"], [\"145.0 - 148.52\"], [\"148.54 - 149.83\"], [\"149.84 - 150.0\"], [\"150.0 - 150.0\"], [\"150.0 - 150.0\"], [\"150.0 - 150.0\"], [\"150.0 - 150.0\"], [\"150.0 - 150.0\"], [\"150.0 - 150.0\"], [\"150.0 - 150.0\"], [\"150.0 - 150.0\"], [\"150.0 - 150.0\"], [\"150.0 - 150.0\"], [\"150.0 - 153.11\"], [\"153.13 - 156.04\"], [\"156.04 - 160.0\"], [\"160.0 - 161.58\"], [\"161.63 - 165.0\"], [\"165.0 - 168.71\"], [\"168.79 - 170.6\"], [\"170.61 - 174.79\"], [\"174.8 - 175.0\"], [\"175.0 - 177.45\"], [\"177.5 - 180.0\"], [\"180.0 - 185.0\"], [\"185.0 - 188.99\"], [\"189.0 - 192.68\"], [\"192.72 - 196.91\"], [\"196.93 - 199.0\"], [\"199.0 - 200.0\"], [\"200.0 - 200.0\"], [\"200.0 - 200.0\"], [\"200.0 - 200.0\"], [\"200.0 - 200.0\"], [\"200.0 - 200.0\"], [\"200.0 - 200.0\"], [\"200.0 - 200.0\"], [\"200.0 - 200.0\"], [\"200.0 - 200.0\"], [\"200.0 - 200.0\"], [\"200.0 - 200.0\"], [\"200.0 - 200.0\"], [\"200.0 - 200.4\"], [\"200.48 - 205.16\"], [\"205.22 - 210.0\"], [\"210.0 - 215.0\"], [\"215.0 - 219.77\"], [\"219.81 - 223.86\"], [\"223.91 - 225.0\"], [\"225.0 - 230.0\"], [\"230.0 - 235.0\"], [\"235.0 - 240.0\"], [\"240.0 - 245.7\"], [\"245.82 - 250.0\"], [\"250.0 - 250.0\"], [\"250.0 - 250.0\"], [\"250.0 - 250.0\"], [\"250.0 - 250.0\"], [\"250.0 - 255.69\"], [\"255.78 - 262.0\"], [\"262.0 - 269.5\"], [\"269.5 - 275.0\"], [\"275.0 - 280.0\"], [\"280.0 - 288.25\"], [\"288.31 - 295.68\"], [\"295.77 - 300.0\"], [\"300.0 - 300.0\"], [\"300.0 - 300.0\"], [\"300.0 - 301.03\"], [\"301.13 - 310.0\"], [\"310.0 - 320.0\"], [\"320.0 - 327.29\"], [\"327.33 - 337.25\"], [\"337.47 - 347.55\"], [\"347.58 - 350.11\"], [\"350.14 - 362.0\"], [\"362.0 - 374.05\"], [\"374.35 - 385.0\"], [\"385.0 - 398.41\"], [\"398.75 - 400.0\"], [\"400.0 - 409.91\"], [\"409.91 - 425.0\"], [\"425.0 - 440.87\"], [\"440.98 - 454.87\"], [\"454.89 - 474.55\"], [\"474.68 - 493.16\"], [\"493.29 - 500.0\"], [\"500.0 - 500.0\"], [\"500.0 - 500.0\"], [\"500.0 - 520.0\"], [\"520.0 - 543.57\"], [\"543.66 - 566.85\"], [\"566.88 - 598.64\"], [\"598.93 - 623.79\"], [\"623.98 - 660.54\"], [\"661.0 - 705.0\"], [\"705.0 - 756.0\"], [\"756.81 - 817.62\"], [\"818.34 - 899.52\"], [\"899.81 - 996.19\"], [\"996.4 - 1027.82\"], [\"1029.81 - 1150.0\"], [\"1150.0 - 1345.69\"], [\"1347.61 - 1626.85\"], [\"1627.36 - 2123.0\"], [\"2125.61 - 3626.75\"], [\"3647.16 - 442794.38\"]], \"hovertemplate\": \"comparative_retention=higher<br>group1024=%{x}<br>retention_yr1=%{y}<br>group_range=%{customdata[0]}<extra></extra>\", \"legendgroup\": \"higher\", \"marker\": {\"color\": \"#FF7F0E\", \"symbol\": \"circle\"}, \"mode\": \"markers\", \"name\": \"higher\", \"showlegend\": true, \"type\": \"scattergl\", \"x\": [27, 118, 132, 137, 212, 213, 346, 389, 429, 435, 438, 453, 454, 455, 456, 457, 458, 460, 461, 464, 466, 467, 468, 469, 470, 471, 472, 473, 474, 475, 476, 477, 478, 479, 480, 481, 482, 483, 484, 486, 487, 488, 491, 493, 494, 495, 496, 498, 500, 503, 504, 505, 506, 507, 508, 509, 511, 521, 547, 556, 564, 568, 571, 573, 574, 578, 585, 593, 595, 616, 620, 622, 626, 628, 629, 634, 646, 649, 678, 680, 688, 699, 719, 722, 723, 724, 725, 726, 727, 728, 729, 730, 731, 732, 733, 734, 735, 736, 737, 738, 739, 740, 741, 742, 743, 744, 745, 746, 747, 748, 749, 750, 751, 752, 753, 754, 755, 756, 757, 758, 759, 760, 761, 762, 763, 764, 765, 766, 767, 768, 769, 770, 771, 772, 773, 774, 775, 776, 777, 778, 779, 780, 781, 782, 783, 784, 786, 787, 789, 790, 792, 793, 795, 796, 797, 798, 799, 802, 803, 804, 807, 809, 810, 811, 814, 818, 821, 822, 831, 832, 833, 834, 837, 840, 841, 843, 844, 845, 849, 850, 851, 852, 857, 858, 859, 860, 864, 865, 866, 867, 869, 870, 871, 872, 873, 876, 879, 880, 881, 882, 884, 887, 888, 889, 890, 891, 892, 893, 894, 895, 896, 897, 898, 899, 900, 901, 902, 903, 904, 905, 906, 907, 908, 909, 910, 911, 912, 913, 914, 915, 916, 917, 918, 919, 920, 921, 922, 923, 924, 925, 926, 927, 928, 929, 930, 931, 932, 933, 934, 935, 936, 937, 938, 939, 940, 941, 942, 943, 944, 945, 946, 947, 948, 949, 950, 951, 952, 953, 954, 955, 956, 957, 958, 959, 960, 961, 962, 963, 964, 965, 966, 967, 968, 969, 970, 971, 972, 973, 974, 975, 976, 977, 978, 979, 980, 981, 982, 983, 984, 985, 986, 987, 988, 989, 990, 991, 992, 993, 994, 995, 996, 997, 998, 999, 1000, 1001, 1002, 1003, 1004, 1005, 1006, 1007, 1008, 1009, 1010, 1011, 1012, 1013, 1014, 1015, 1016, 1017, 1018, 1019, 1020, 1021, 1022, 1023], \"xaxis\": \"x\", \"y\": [0.227765726681128, 0.20348837209302326, 0.2026431718061674, 0.20215633423180593, 0.25692695214105793, 0.21264367816091953, 0.19834710743801653, 0.2007168458781362, 0.2007042253521127, 0.20224719101123595, 0.19548872180451127, 0.2012779552715655, 0.20504731861198738, 0.19883040935672514, 0.2118380062305296, 0.21189591078066913, 0.21785714285714286, 0.20689655172413793, 0.20567375886524822, 0.25357142857142856, 0.22611464968152867, 0.23127035830618892, 0.21532846715328466, 0.22134387351778656, 0.20863309352517986, 0.21333333333333335, 0.21100917431192662, 0.23404255319148937, 0.23225806451612904, 0.2196969696969697, 0.2118380062305296, 0.24695121951219512, 0.2745762711864407, 0.3028391167192429, 0.2807570977917981, 0.28289473684210525, 0.29411764705882354, 0.25, 0.25650557620817843, 0.21580547112462006, 0.20357142857142857, 0.21241830065359477, 0.19536423841059603, 0.22393822393822393, 0.19666666666666666, 0.2048611111111111, 0.25157232704402516, 0.22727272727272727, 0.2135593220338983, 0.21364985163204747, 0.23699421965317918, 0.22981366459627328, 0.3505747126436782, 0.38023952095808383, 0.3641791044776119, 0.30538922155688625, 0.2275449101796407, 0.22140221402214022, 0.20987654320987653, 0.2350597609561753, 0.1953125, 0.2412280701754386, 0.19915254237288135, 0.22268907563025211, 0.2099236641221374, 0.1951219512195122, 0.19480519480519481, 0.20425531914893616, 0.20502092050209206, 0.20430107526881722, 0.20085470085470086, 0.19747899159663865, 0.20901639344262296, 0.2, 0.20318725099601595, 0.1965065502183406, 0.20437956204379562, 0.20535714285714285, 0.20425531914893616, 0.2, 0.1946564885496183, 0.1947565543071161, 0.21721311475409835, 0.22357723577235772, 0.1986062717770035, 0.2719546742209632, 0.23547400611620795, 0.3256484149855908, 0.40947075208913647, 0.3250883392226148, 0.26755852842809363, 0.24104234527687296, 0.32507739938080493, 0.3184713375796178, 0.29042904290429045, 0.3032258064516129, 0.3225806451612903, 0.30612244897959184, 0.2363013698630137, 0.2565597667638484, 0.26112759643916916, 0.34185303514376997, 0.31986531986531985, 0.27564102564102566, 0.31268436578171094, 0.3949843260188088, 0.37249283667621774, 0.3619047619047619, 0.27692307692307694, 0.27976190476190477, 0.24375, 0.23140495867768596, 0.26498422712933756, 0.2755681818181818, 0.2628398791540785, 0.25507246376811593, 0.2622478386167147, 0.27794561933534745, 0.26392961876832843, 0.24355300859598855, 0.2727272727272727, 0.30057803468208094, 0.2926829268292683, 0.26453488372093026, 0.27837837837837837, 0.27647058823529413, 0.24653739612188366, 0.24079320113314448, 0.30333333333333334, 0.30498533724340177, 0.3887147335423197, 0.2993827160493827, 0.3072100313479624, 0.2601880877742947, 0.37168141592920356, 0.3590504451038576, 0.27184466019417475, 0.3108974358974359, 0.4268292682926829, 0.3467048710601719, 0.3201320132013201, 0.3867403314917127, 0.35, 0.29283489096573206, 0.3508771929824561, 0.3333333333333333, 0.2, 0.3333333333333333, 0.5, 0.5, 0.25, 0.25, 0.25, 0.27702702702702703, 0.23550724637681159, 0.20723684210526316, 0.21, 0.20408163265306123, 0.19791666666666666, 0.22772277227722773, 0.21476510067114093, 0.2014388489208633, 0.23333333333333334, 0.2175226586102719, 0.20875420875420875, 0.22435897435897437, 0.21476510067114093, 0.19727891156462585, 0.24437299035369775, 0.20279720279720279, 0.20257234726688103, 0.23367697594501718, 0.21602787456445993, 0.21835443037974683, 0.21362229102167182, 0.20180722891566266, 0.19444444444444445, 0.21241830065359477, 0.20123839009287925, 0.2032258064516129, 0.20754716981132076, 0.2332155477031802, 0.2070063694267516, 0.22297297297297297, 0.23952095808383234, 0.22330097087378642, 0.22442244224422442, 0.20462046204620463, 0.21543408360128619, 0.2354948805460751, 0.19631901840490798, 0.21311475409836064, 0.21103896103896103, 0.2033898305084746, 0.21254355400696864, 0.21016949152542372, 0.24115755627009647, 0.1986062717770035, 0.2179930795847751, 0.21474358974358973, 0.21305841924398625, 0.21052631578947367, 0.2398753894080997, 0.2899022801302932, 0.41076487252124644, 0.3624161073825503, 0.3933333333333333, 0.4322033898305085, 0.4208955223880597, 0.31699346405228757, 0.4, 0.3051948051948052, 0.3684210526315789, 0.49517684887459806, 0.3805309734513274, 0.350253807106599, 0.32459016393442625, 0.3127035830618892, 0.3170731707317073, 0.31290322580645163, 0.3211920529801324, 0.31399317406143346, 0.2904191616766467, 0.3575949367088608, 0.41836734693877553, 0.3601190476190476, 0.43322475570032576, 0.4375, 0.41, 0.45751633986928103, 0.4262295081967213, 0.3713355048859935, 0.3643410852713178, 0.3388704318936877, 0.31475409836065577, 0.3079710144927536, 0.33650793650793653, 0.3344262295081967, 0.33663366336633666, 0.2962962962962963, 0.3380281690140845, 0.3057324840764331, 0.2867647058823529, 0.3422818791946309, 0.33774834437086093, 0.439873417721519, 0.40293040293040294, 0.5129032258064516, 0.3951367781155015, 0.3920265780730897, 0.429042904290429, 0.37906137184115524, 0.42363112391930835, 0.4447852760736196, 0.44694533762057875, 0.4228395061728395, 0.42342342342342343, 0.4430379746835443, 0.4158730158730159, 0.45, 0.2821576763485477, 0.24584717607973422, 0.30141843971631205, 0.32950191570881227, 0.32441471571906355, 0.2564102564102564, 0.2608695652173913, 0.3176895306859206, 0.3028391167192429, 0.2826855123674912, 0.2775800711743772, 0.2847222222222222, 0.32996632996632996, 0.275, 0.4629080118694362, 0.4748427672955975, 0.47854785478547857, 0.43214285714285716, 0.4336569579288026, 0.4928571428571429, 0.46885245901639344, 0.4125, 0.4529616724738676, 0.46875, 0.3870967741935484, 0.3442622950819672, 0.291497975708502, 0.3842364532019704, 0.3393665158371041, 0.4740484429065744, 0.5206896551724138, 0.4657534246575342, 0.45614035087719296, 0.5361842105263158, 0.45229681978798586, 0.5392857142857143, 0.3923076923076923, 0.3754152823920266, 0.3289036544850498, 0.32673267326732675, 0.42700729927007297, 0.5487012987012987, 0.4878048780487805, 0.4486301369863014, 0.5169230769230769, 0.518796992481203, 0.44485294117647056, 0.5610687022900763, 0.5640138408304498, 0.5096525096525096, 0.3886792452830189, 0.4828767123287671, 0.5439739413680782, 0.4924924924924925, 0.47058823529411764, 0.5052264808362369, 0.5396341463414634, 0.3152542372881356, 0.24796747967479674, 0.26506024096385544, 0.5350877192982456, 0.5159235668789809, 0.578125, 0.5563139931740614, 0.5522875816993464, 0.5882352941176471, 0.61875, 0.5885885885885885, 0.5936599423631124, 0.6388059701492538, 0.6637931034482759, 0.4656084656084656, 0.6982758620689655, 0.6383442265795207, 0.71900826446281, 0.6473317865429234, 0.6974789915966386, 0.5668789808917197], \"yaxis\": \"y\"}],\n",
       "                        {\"height\": 400, \"legend\": {\"title\": {\"text\": \"comparative_retention\"}, \"tracegroupgap\": 0}, \"margin\": {\"t\": 60}, \"template\": {\"data\": {\"bar\": [{\"error_x\": {\"color\": \"rgb(36,36,36)\"}, \"error_y\": {\"color\": \"rgb(36,36,36)\"}, \"marker\": {\"line\": {\"color\": \"white\", \"width\": 0.5}}, \"type\": \"bar\"}], \"barpolar\": [{\"marker\": {\"line\": {\"color\": \"white\", \"width\": 0.5}}, \"type\": \"barpolar\"}], \"carpet\": [{\"aaxis\": {\"endlinecolor\": \"rgb(36,36,36)\", \"gridcolor\": \"white\", \"linecolor\": \"white\", \"minorgridcolor\": \"white\", \"startlinecolor\": \"rgb(36,36,36)\"}, \"baxis\": {\"endlinecolor\": \"rgb(36,36,36)\", \"gridcolor\": \"white\", \"linecolor\": \"white\", \"minorgridcolor\": \"white\", \"startlinecolor\": \"rgb(36,36,36)\"}, \"type\": \"carpet\"}], \"choropleth\": [{\"colorbar\": {\"outlinewidth\": 1, \"tickcolor\": \"rgb(36,36,36)\", \"ticks\": \"outside\"}, \"type\": \"choropleth\"}], \"contour\": [{\"colorbar\": {\"outlinewidth\": 1, \"tickcolor\": \"rgb(36,36,36)\", \"ticks\": \"outside\"}, \"colorscale\": [[0.0, \"#440154\"], [0.1111111111111111, \"#482878\"], [0.2222222222222222, \"#3e4989\"], [0.3333333333333333, \"#31688e\"], [0.4444444444444444, \"#26828e\"], [0.5555555555555556, \"#1f9e89\"], [0.6666666666666666, \"#35b779\"], [0.7777777777777778, \"#6ece58\"], [0.8888888888888888, \"#b5de2b\"], [1.0, \"#fde725\"]], \"type\": \"contour\"}], \"contourcarpet\": [{\"colorbar\": {\"outlinewidth\": 1, \"tickcolor\": \"rgb(36,36,36)\", \"ticks\": \"outside\"}, \"type\": \"contourcarpet\"}], \"heatmap\": [{\"colorbar\": {\"outlinewidth\": 1, \"tickcolor\": \"rgb(36,36,36)\", \"ticks\": \"outside\"}, \"colorscale\": [[0.0, \"#440154\"], [0.1111111111111111, \"#482878\"], [0.2222222222222222, \"#3e4989\"], [0.3333333333333333, \"#31688e\"], [0.4444444444444444, \"#26828e\"], [0.5555555555555556, \"#1f9e89\"], [0.6666666666666666, \"#35b779\"], [0.7777777777777778, \"#6ece58\"], [0.8888888888888888, \"#b5de2b\"], [1.0, \"#fde725\"]], \"type\": \"heatmap\"}], \"heatmapgl\": [{\"colorbar\": {\"outlinewidth\": 1, \"tickcolor\": \"rgb(36,36,36)\", \"ticks\": \"outside\"}, \"colorscale\": [[0.0, \"#440154\"], [0.1111111111111111, \"#482878\"], [0.2222222222222222, \"#3e4989\"], [0.3333333333333333, \"#31688e\"], [0.4444444444444444, \"#26828e\"], [0.5555555555555556, \"#1f9e89\"], [0.6666666666666666, \"#35b779\"], [0.7777777777777778, \"#6ece58\"], [0.8888888888888888, \"#b5de2b\"], [1.0, \"#fde725\"]], \"type\": \"heatmapgl\"}], \"histogram\": [{\"marker\": {\"line\": {\"color\": \"white\", \"width\": 0.6}}, \"type\": \"histogram\"}], \"histogram2d\": [{\"colorbar\": {\"outlinewidth\": 1, \"tickcolor\": \"rgb(36,36,36)\", \"ticks\": \"outside\"}, \"colorscale\": [[0.0, \"#440154\"], [0.1111111111111111, \"#482878\"], [0.2222222222222222, \"#3e4989\"], [0.3333333333333333, \"#31688e\"], [0.4444444444444444, \"#26828e\"], [0.5555555555555556, \"#1f9e89\"], [0.6666666666666666, \"#35b779\"], [0.7777777777777778, \"#6ece58\"], [0.8888888888888888, \"#b5de2b\"], [1.0, \"#fde725\"]], \"type\": \"histogram2d\"}], \"histogram2dcontour\": [{\"colorbar\": {\"outlinewidth\": 1, \"tickcolor\": \"rgb(36,36,36)\", \"ticks\": \"outside\"}, \"colorscale\": [[0.0, \"#440154\"], [0.1111111111111111, \"#482878\"], [0.2222222222222222, \"#3e4989\"], [0.3333333333333333, \"#31688e\"], [0.4444444444444444, \"#26828e\"], [0.5555555555555556, \"#1f9e89\"], [0.6666666666666666, \"#35b779\"], [0.7777777777777778, \"#6ece58\"], [0.8888888888888888, \"#b5de2b\"], [1.0, \"#fde725\"]], \"type\": \"histogram2dcontour\"}], \"mesh3d\": [{\"colorbar\": {\"outlinewidth\": 1, \"tickcolor\": \"rgb(36,36,36)\", \"ticks\": \"outside\"}, \"type\": \"mesh3d\"}], \"parcoords\": [{\"line\": {\"colorbar\": {\"outlinewidth\": 1, \"tickcolor\": \"rgb(36,36,36)\", \"ticks\": \"outside\"}}, \"type\": \"parcoords\"}], \"pie\": [{\"automargin\": true, \"type\": \"pie\"}], \"scatter\": [{\"marker\": {\"colorbar\": {\"outlinewidth\": 1, \"tickcolor\": \"rgb(36,36,36)\", \"ticks\": \"outside\"}}, \"type\": \"scatter\"}], \"scatter3d\": [{\"line\": {\"colorbar\": {\"outlinewidth\": 1, \"tickcolor\": \"rgb(36,36,36)\", \"ticks\": \"outside\"}}, \"marker\": {\"colorbar\": {\"outlinewidth\": 1, \"tickcolor\": \"rgb(36,36,36)\", \"ticks\": \"outside\"}}, \"type\": \"scatter3d\"}], \"scattercarpet\": [{\"marker\": {\"colorbar\": {\"outlinewidth\": 1, \"tickcolor\": \"rgb(36,36,36)\", \"ticks\": \"outside\"}}, \"type\": \"scattercarpet\"}], \"scattergeo\": [{\"marker\": {\"colorbar\": {\"outlinewidth\": 1, \"tickcolor\": \"rgb(36,36,36)\", \"ticks\": \"outside\"}}, \"type\": \"scattergeo\"}], \"scattergl\": [{\"marker\": {\"colorbar\": {\"outlinewidth\": 1, \"tickcolor\": \"rgb(36,36,36)\", \"ticks\": \"outside\"}}, \"type\": \"scattergl\"}], \"scattermapbox\": [{\"marker\": {\"colorbar\": {\"outlinewidth\": 1, \"tickcolor\": \"rgb(36,36,36)\", \"ticks\": \"outside\"}}, \"type\": \"scattermapbox\"}], \"scatterpolar\": [{\"marker\": {\"colorbar\": {\"outlinewidth\": 1, \"tickcolor\": \"rgb(36,36,36)\", \"ticks\": \"outside\"}}, \"type\": \"scatterpolar\"}], \"scatterpolargl\": [{\"marker\": {\"colorbar\": {\"outlinewidth\": 1, \"tickcolor\": \"rgb(36,36,36)\", \"ticks\": \"outside\"}}, \"type\": \"scatterpolargl\"}], \"scatterternary\": [{\"marker\": {\"colorbar\": {\"outlinewidth\": 1, \"tickcolor\": \"rgb(36,36,36)\", \"ticks\": \"outside\"}}, \"type\": \"scatterternary\"}], \"surface\": [{\"colorbar\": {\"outlinewidth\": 1, \"tickcolor\": \"rgb(36,36,36)\", \"ticks\": \"outside\"}, \"colorscale\": [[0.0, \"#440154\"], [0.1111111111111111, \"#482878\"], [0.2222222222222222, \"#3e4989\"], [0.3333333333333333, \"#31688e\"], [0.4444444444444444, \"#26828e\"], [0.5555555555555556, \"#1f9e89\"], [0.6666666666666666, \"#35b779\"], [0.7777777777777778, \"#6ece58\"], [0.8888888888888888, \"#b5de2b\"], [1.0, \"#fde725\"]], \"type\": \"surface\"}], \"table\": [{\"cells\": {\"fill\": {\"color\": \"rgb(237,237,237)\"}, \"line\": {\"color\": \"white\"}}, \"header\": {\"fill\": {\"color\": \"rgb(217,217,217)\"}, \"line\": {\"color\": \"white\"}}, \"type\": \"table\"}]}, \"layout\": {\"annotationdefaults\": {\"arrowhead\": 0, \"arrowwidth\": 1}, \"coloraxis\": {\"colorbar\": {\"outlinewidth\": 1, \"tickcolor\": \"rgb(36,36,36)\", \"ticks\": \"outside\"}}, \"colorscale\": {\"diverging\": [[0.0, \"rgb(103,0,31)\"], [0.1, \"rgb(178,24,43)\"], [0.2, \"rgb(214,96,77)\"], [0.3, \"rgb(244,165,130)\"], [0.4, \"rgb(253,219,199)\"], [0.5, \"rgb(247,247,247)\"], [0.6, \"rgb(209,229,240)\"], [0.7, \"rgb(146,197,222)\"], [0.8, \"rgb(67,147,195)\"], [0.9, \"rgb(33,102,172)\"], [1.0, \"rgb(5,48,97)\"]], \"sequential\": [[0.0, \"#440154\"], [0.1111111111111111, \"#482878\"], [0.2222222222222222, \"#3e4989\"], [0.3333333333333333, \"#31688e\"], [0.4444444444444444, \"#26828e\"], [0.5555555555555556, \"#1f9e89\"], [0.6666666666666666, \"#35b779\"], [0.7777777777777778, \"#6ece58\"], [0.8888888888888888, \"#b5de2b\"], [1.0, \"#fde725\"]], \"sequentialminus\": [[0.0, \"#440154\"], [0.1111111111111111, \"#482878\"], [0.2222222222222222, \"#3e4989\"], [0.3333333333333333, \"#31688e\"], [0.4444444444444444, \"#26828e\"], [0.5555555555555556, \"#1f9e89\"], [0.6666666666666666, \"#35b779\"], [0.7777777777777778, \"#6ece58\"], [0.8888888888888888, \"#b5de2b\"], [1.0, \"#fde725\"]]}, \"colorway\": [\"#1F77B4\", \"#FF7F0E\", \"#2CA02C\", \"#D62728\", \"#9467BD\", \"#8C564B\", \"#E377C2\", \"#7F7F7F\", \"#BCBD22\", \"#17BECF\"], \"font\": {\"color\": \"rgb(36,36,36)\"}, \"geo\": {\"bgcolor\": \"white\", \"lakecolor\": \"white\", \"landcolor\": \"white\", \"showlakes\": true, \"showland\": true, \"subunitcolor\": \"white\"}, \"hoverlabel\": {\"align\": \"left\"}, \"hovermode\": \"closest\", \"mapbox\": {\"style\": \"light\"}, \"paper_bgcolor\": \"white\", \"plot_bgcolor\": \"white\", \"polar\": {\"angularaxis\": {\"gridcolor\": \"rgb(232,232,232)\", \"linecolor\": \"rgb(36,36,36)\", \"showgrid\": false, \"showline\": true, \"ticks\": \"outside\"}, \"bgcolor\": \"white\", \"radialaxis\": {\"gridcolor\": \"rgb(232,232,232)\", \"linecolor\": \"rgb(36,36,36)\", \"showgrid\": false, \"showline\": true, \"ticks\": \"outside\"}}, \"scene\": {\"xaxis\": {\"backgroundcolor\": \"white\", \"gridcolor\": \"rgb(232,232,232)\", \"gridwidth\": 2, \"linecolor\": \"rgb(36,36,36)\", \"showbackground\": true, \"showgrid\": false, \"showline\": true, \"ticks\": \"outside\", \"zeroline\": false, \"zerolinecolor\": \"rgb(36,36,36)\"}, \"yaxis\": {\"backgroundcolor\": \"white\", \"gridcolor\": \"rgb(232,232,232)\", \"gridwidth\": 2, \"linecolor\": \"rgb(36,36,36)\", \"showbackground\": true, \"showgrid\": false, \"showline\": true, \"ticks\": \"outside\", \"zeroline\": false, \"zerolinecolor\": \"rgb(36,36,36)\"}, \"zaxis\": {\"backgroundcolor\": \"white\", \"gridcolor\": \"rgb(232,232,232)\", \"gridwidth\": 2, \"linecolor\": \"rgb(36,36,36)\", \"showbackground\": true, \"showgrid\": false, \"showline\": true, \"ticks\": \"outside\", \"zeroline\": false, \"zerolinecolor\": \"rgb(36,36,36)\"}}, \"shapedefaults\": {\"fillcolor\": \"black\", \"line\": {\"width\": 0}, \"opacity\": 0.3}, \"ternary\": {\"aaxis\": {\"gridcolor\": \"rgb(232,232,232)\", \"linecolor\": \"rgb(36,36,36)\", \"showgrid\": false, \"showline\": true, \"ticks\": \"outside\"}, \"baxis\": {\"gridcolor\": \"rgb(232,232,232)\", \"linecolor\": \"rgb(36,36,36)\", \"showgrid\": false, \"showline\": true, \"ticks\": \"outside\"}, \"bgcolor\": \"white\", \"caxis\": {\"gridcolor\": \"rgb(232,232,232)\", \"linecolor\": \"rgb(36,36,36)\", \"showgrid\": false, \"showline\": true, \"ticks\": \"outside\"}}, \"title\": {\"x\": 0.05}, \"xaxis\": {\"automargin\": true, \"gridcolor\": \"rgb(232,232,232)\", \"linecolor\": \"rgb(36,36,36)\", \"showgrid\": false, \"showline\": true, \"ticks\": \"outside\", \"title\": {\"standoff\": 15}, \"zeroline\": false, \"zerolinecolor\": \"rgb(36,36,36)\"}, \"yaxis\": {\"automargin\": true, \"gridcolor\": \"rgb(232,232,232)\", \"linecolor\": \"rgb(36,36,36)\", \"showgrid\": false, \"showline\": true, \"ticks\": \"outside\", \"title\": {\"standoff\": 15}, \"zeroline\": false, \"zerolinecolor\": \"rgb(36,36,36)\"}}}, \"width\": 1000, \"xaxis\": {\"anchor\": \"y\", \"domain\": [0.0, 1.0], \"title\": {\"text\": \"group1024\"}}, \"yaxis\": {\"anchor\": \"x\", \"domain\": [0.0, 1.0], \"title\": {\"text\": \"retention_yr1\"}}},\n",
       "                        {\"responsive\": true}\n",
       "                    ).then(function(){\n",
       "                            \n",
       "var gd = document.getElementById('05e5d1e4-dda6-4005-9de1-d5549a5c49a7');\n",
       "var x = new MutationObserver(function (mutations, observer) {{\n",
       "        var display = window.getComputedStyle(gd).display;\n",
       "        if (!display || display === 'none') {{\n",
       "            console.log([gd, 'removed!']);\n",
       "            Plotly.purge(gd);\n",
       "            observer.disconnect();\n",
       "        }}\n",
       "}});\n",
       "\n",
       "// Listen for the removal of the full notebook cells\n",
       "var notebookContainer = gd.closest('#notebook-container');\n",
       "if (notebookContainer) {{\n",
       "    x.observe(notebookContainer, {childList: true});\n",
       "}}\n",
       "\n",
       "// Listen for the clearing of the current output cell\n",
       "var outputEl = gd.closest('.output');\n",
       "if (outputEl) {{\n",
       "    x.observe(outputEl, {childList: true});\n",
       "}}\n",
       "\n",
       "                        })\n",
       "                };\n",
       "                });\n",
       "            </script>\n",
       "        </div>"
      ]
     },
     "metadata": {},
     "output_type": "display_data"
    }
   ],
   "source": [
    "fig = px.scatter(df, x=\"group1024\", y=\"retention_yr1\", color=\"comparative_retention\", width=1000, height=400, template='simple_white',\n",
    "                # size='petal_length', \n",
    "             hover_data=['group_range']\n",
    "                )\n",
    "fig.show()"
   ]
  },
  {
   "cell_type": "code",
   "execution_count": 137,
   "metadata": {},
   "outputs": [
    {
     "ename": "SyntaxError",
     "evalue": "invalid syntax (<ipython-input-137-02b159254ba2>, line 6)",
     "output_type": "error",
     "traceback": [
      "\u001b[1;36m  File \u001b[1;32m\"<ipython-input-137-02b159254ba2>\"\u001b[1;36m, line \u001b[1;32m6\u001b[0m\n\u001b[1;33m    marker=dict(\u001b[0m\n\u001b[1;37m         ^\u001b[0m\n\u001b[1;31mSyntaxError\u001b[0m\u001b[1;31m:\u001b[0m invalid syntax\n"
     ]
    }
   ],
   "source": [
    "N = 100000\n",
    "fig = go.Figure(data=go.Scattergl(\n",
    "    x=df[\"group1024\"], y=df[\"retention_yr1\"],\n",
    "    mode='markers',\n",
    "    marker=dict(\n",
    "        size=2,\n",
    "        color=np.random.randn(N),\n",
    "        colorscale='Viridis',\n",
    "        line_width=1\n",
    "    )\n",
    "))\n",
    "\n",
    "# fig.update_traces(marker=dict(size=12,\n",
    "#                               line=dict(width=2,\n",
    "#                                         color='DarkSlateGrey')),\n",
    "#                   selector=dict(mode='markers'))\n",
    "fig.show()"
   ]
  },
  {
   "cell_type": "code",
   "execution_count": null,
   "metadata": {},
   "outputs": [],
   "source": []
  }
 ],
 "metadata": {
  "kernelspec": {
   "display_name": "Python 3",
   "language": "python",
   "name": "python3"
  },
  "language_info": {
   "codemirror_mode": {
    "name": "ipython",
    "version": 3
   },
   "file_extension": ".py",
   "mimetype": "text/x-python",
   "name": "python",
   "nbconvert_exporter": "python",
   "pygments_lexer": "ipython3",
   "version": "3.7.4"
  }
 },
 "nbformat": 4,
 "nbformat_minor": 2
}
