{
 "cells": [
  {
   "cell_type": "code",
   "execution_count": 1,
   "metadata": {},
   "outputs": [],
   "source": [
    "import numpy as np\n",
    "import pandas as pd\n",
    "\n",
    "import plotly.express as px\n",
    "import plotly.graph_objects as go\n",
    "import plotly.io as pio\n",
    "from plotly.subplots import make_subplots\n",
    "\n",
    "# import re\n",
    "# import dash\n",
    "# import dash_core_components as dcc\n",
    "# import dash_html_components as html\n",
    "\n",
    "import seaborn as sns\n",
    "import matplotlib.pyplot as plt\n",
    "sns.set_style(\"white\")\n",
    "%matplotlib inline"
   ]
  },
  {
   "cell_type": "code",
   "execution_count": 2,
   "metadata": {},
   "outputs": [],
   "source": [
    "donations_cohort_with_cycle=pd.read_pickle('donations_cohort_with_cycle.pkl')"
   ]
  },
  {
   "cell_type": "code",
   "execution_count": 85,
   "metadata": {},
   "outputs": [],
   "source": [
    "#donations_cohort_with_cycle"
   ]
  },
  {
   "cell_type": "code",
   "execution_count": 4,
   "metadata": {},
   "outputs": [],
   "source": [
    "#for col in donations_cohort_with_cycle.columns:\n",
    " #   print(col)"
   ]
  },
  {
   "cell_type": "code",
   "execution_count": 86,
   "metadata": {},
   "outputs": [],
   "source": [
    "#create copy using certain columns\n",
    "df=donations_cohort_with_cycle[['id',\n",
    "'first_gift_year',\n",
    "'amount_yr0',\n",
    "'amount_yr1',\n",
    "'amount_yr2',\n",
    "'amount_yr3',\n",
    "'amount_yr4',\n",
    "'count_yr0',\n",
    "'count_yr1',\n",
    "'count_yr2',\n",
    "'count_yr3',\n",
    "'count_yr4',\n",
    "'lapsed_after_first_long',\n",
    "'lapsed_after_second',\n",
    "'lapsed_multi_year',\n",
    "'lapsed_long_multi_year',\n",
    "'lapsed_key_multi_year',\n",
    "'lapsed_long',\n",
    "'cohort_0_first_gift',\n",
    "'cohort_1_lapsed_after_first',\n",
    "'cohort_1_second_year',\n",
    "'cohort_2_lapsed_after_first_long',\n",
    "'cohort_2_lapsed_after_second',\n",
    "'cohort_2_multi_year',\n",
    "'cohort_2_second_with_gap',\n",
    "'cohort_3_first_gift',\n",
    "'cohort_3_inconsistent_multi_year',\n",
    "'cohort_3_key_multi_year',\n",
    "'cohort_3_lapsed_after_second',\n",
    "'cohort_3_lapsed_long',\n",
    "'cohort_3_lapsed_multi_year',\n",
    "'cohort_4_first_gift',\n",
    "'cohort_4_inconsistent_multi_year',\n",
    "'cohort_4_key_multi_year',\n",
    "'cohort_4_lapsed_after_first',\n",
    "'cohort_4_lapsed_key_multi_year',\n",
    "'cohort_4_lapsed_long',\n",
    "'cohort_4_lapsed_long_multi_year',\n",
    "'cohort_4_lapsed_multi_year',\n",
    "'cohort_4_multi_year',\n",
    "'cohort_4_recovered_multi_year',\n",
    "'cohort_4_second_year',\n",
    "'cohort_5_first_gift',\n",
    "'cohort_5_inconsistent_multi_year',\n",
    "'cohort_5_key_multi_year',\n",
    "'cohort_5_lapsed_after_first',\n",
    "'cohort_5_lapsed_after_first_long',\n",
    "'cohort_5_lapsed_after_second',\n",
    "'cohort_5_lapsed_key_multi_year',\n",
    "'cohort_5_lapsed_long',\n",
    "'cohort_5_lapsed_long_key_multi_year',\n",
    "'cohort_5_lapsed_long_multi_year',\n",
    "'cohort_5_lapsed_multi_year',\n",
    "'cohort_5_multi_year',\n",
    "'cohort_5_recovered_key_multi_year',\n",
    "'cohort_5_recovered_multi_year',\n",
    "'cohort_5_second_with_gap',\n",
    "'cohort_5_second_year',\n",
    "'cohort_6_first_gift',\n",
    "'cohort_6_key_multi_year',\n",
    "'cohort_6_lapsed_after_first',\n",
    "'cohort_6_lapsed_after_first_long',\n",
    "'cohort_6_lapsed_after_second',\n",
    "'cohort_6_lapsed_key_multi_year',\n",
    "'cohort_6_lapsed_long',\n",
    "'cohort_6_lapsed_long_key_multi_year',\n",
    "'cohort_6_lapsed_long_multi_year',\n",
    "'cohort_6_multi_year',\n",
    "'lapsed_amount_yr0',\n",
    "'lapsed_amount_yr1',\n",
    "'lapsed_amount_yr2',\n",
    "'lapsed_amount_yr3',\n",
    "'lapsed_amount_yr4',\n",
    "'upgraded_amount_yr0',\n",
    "'upgraded_amount_yr1',\n",
    "'upgraded_amount_yr2',\n",
    "'upgraded_amount_yr3',\n",
    "'upgraded_amount_yr4',\n",
    "'downgraded_amount_yr0',\n",
    "'downgraded_amount_yr1',\n",
    "'downgraded_amount_yr2',\n",
    "'downgraded_amount_yr3',\n",
    "'downgraded_amount_yr4',\n",
    "'amount_total',\n",
    "'count_total',\n",
    "'cohort_gift_pattern',\n",
    "'cohort_yr0_TF',\n",
    "'cohort_yr1_TF',\n",
    "'cohort_yr2_TF',\n",
    "'cohort_yr3_TF',\n",
    "'cohort_yr4_TF',\n",
    "'cohort',\n",
    "'first_gift_year_year']].copy()"
   ]
  },
  {
   "cell_type": "markdown",
   "metadata": {},
   "source": [
    "### Create yr0 dataframe"
   ]
  },
  {
   "cell_type": "code",
   "execution_count": 101,
   "metadata": {},
   "outputs": [
    {
     "data": {
      "text/plain": [
       "T    2024554\n",
       "Name: cohort_yr0_TF, dtype: int64"
      ]
     },
     "execution_count": 101,
     "metadata": {},
     "output_type": "execute_result"
    }
   ],
   "source": [
    "df.cohort_yr0_TF.value_counts()"
   ]
  },
  {
   "cell_type": "code",
   "execution_count": 164,
   "metadata": {},
   "outputs": [],
   "source": [
    "df_sum_y0=df.groupby(['first_gift_year_year','cohort_yr0_TF']).sum().round(2).reset_index()"
   ]
  },
  {
   "cell_type": "code",
   "execution_count": 103,
   "metadata": {},
   "outputs": [],
   "source": [
    "df_count_y0=df.groupby(['first_gift_year_year','cohort_yr0_TF']).count()['id'].reset_index()"
   ]
  },
  {
   "cell_type": "code",
   "execution_count": 104,
   "metadata": {},
   "outputs": [],
   "source": [
    "df1_y0=pd.DataFrame(df_count_y0)\n",
    "df2_y0=pd.DataFrame(df_sum_y0)"
   ]
  },
  {
   "cell_type": "code",
   "execution_count": 105,
   "metadata": {},
   "outputs": [],
   "source": [
    "df3_y0=df1_y0.merge(df2_y0, left_on=['first_gift_year_year', 'cohort_yr0_TF'], right_on=['first_gift_year_year', 'cohort_yr0_TF'])"
   ]
  },
  {
   "cell_type": "code",
   "execution_count": 106,
   "metadata": {},
   "outputs": [],
   "source": [
    "df3_y0.rename(columns = {'id':'no_donors'}, inplace = True)"
   ]
  },
  {
   "cell_type": "code",
   "execution_count": 107,
   "metadata": {},
   "outputs": [],
   "source": [
    "df3_y0['neg_yr'] = np.where(df3_y0['amount_yr0']== 0, -1, 1)"
   ]
  },
  {
   "cell_type": "code",
   "execution_count": 108,
   "metadata": {},
   "outputs": [],
   "source": [
    "df3_y0.to_csv('yr0.csv')"
   ]
  },
  {
   "cell_type": "markdown",
   "metadata": {},
   "source": [
    "### Create yr1 dataframe"
   ]
  },
  {
   "cell_type": "code",
   "execution_count": 109,
   "metadata": {},
   "outputs": [
    {
     "data": {
      "text/plain": [
       "TF    1781118\n",
       "TT     243436\n",
       "Name: cohort_yr1_TF, dtype: int64"
      ]
     },
     "execution_count": 109,
     "metadata": {},
     "output_type": "execute_result"
    }
   ],
   "source": [
    "df.cohort_yr1_TF.value_counts()"
   ]
  },
  {
   "cell_type": "code",
   "execution_count": 110,
   "metadata": {},
   "outputs": [],
   "source": [
    "df_sum_y1=df.groupby(['first_gift_year_year','cohort_yr1_TF']).sum().round(2).reset_index()"
   ]
  },
  {
   "cell_type": "code",
   "execution_count": 111,
   "metadata": {},
   "outputs": [],
   "source": [
    "df_count_y1=df.groupby(['first_gift_year_year','cohort_yr1_TF']).count()['id'].reset_index()"
   ]
  },
  {
   "cell_type": "code",
   "execution_count": 112,
   "metadata": {},
   "outputs": [],
   "source": [
    "df1_y1=pd.DataFrame(df_count_y1)\n",
    "df2_y1=pd.DataFrame(df_sum_y1)"
   ]
  },
  {
   "cell_type": "code",
   "execution_count": 113,
   "metadata": {},
   "outputs": [],
   "source": [
    "df3_y1=df1_y1.merge(df2_y1, left_on=['first_gift_year_year', 'cohort_yr1_TF'], right_on=['first_gift_year_year', 'cohort_yr1_TF'])"
   ]
  },
  {
   "cell_type": "code",
   "execution_count": 114,
   "metadata": {},
   "outputs": [],
   "source": [
    "df3_y1.rename(columns = {'id':'no_donors'}, inplace = True)"
   ]
  },
  {
   "cell_type": "code",
   "execution_count": 115,
   "metadata": {},
   "outputs": [],
   "source": [
    "df3_y1['neg_yr'] = np.where(df3_y1['amount_yr1']== 0, -1, 1)"
   ]
  },
  {
   "cell_type": "code",
   "execution_count": 116,
   "metadata": {},
   "outputs": [
    {
     "data": {
      "text/plain": [
       "Index(['first_gift_year_year', 'cohort_yr1_TF', 'no_donors', 'amount_yr0',\n",
       "       'amount_yr1', 'amount_yr2', 'amount_yr3', 'amount_yr4', 'count_yr0',\n",
       "       'count_yr1', 'count_yr2', 'count_yr3', 'count_yr4',\n",
       "       'lapsed_after_first_long', 'lapsed_after_second', 'lapsed_multi_year',\n",
       "       'lapsed_long_multi_year', 'lapsed_key_multi_year', 'lapsed_long',\n",
       "       'cohort_0_first_gift', 'cohort_1_lapsed_after_first',\n",
       "       'cohort_1_second_year', 'cohort_2_lapsed_after_first_long',\n",
       "       'cohort_2_lapsed_after_second', 'cohort_2_multi_year',\n",
       "       'cohort_2_second_with_gap', 'cohort_3_first_gift',\n",
       "       'cohort_3_inconsistent_multi_year', 'cohort_3_key_multi_year',\n",
       "       'cohort_3_lapsed_after_second', 'cohort_3_lapsed_long',\n",
       "       'cohort_3_lapsed_multi_year', 'cohort_4_first_gift',\n",
       "       'cohort_4_inconsistent_multi_year', 'cohort_4_key_multi_year',\n",
       "       'cohort_4_lapsed_after_first', 'cohort_4_lapsed_key_multi_year',\n",
       "       'cohort_4_lapsed_long', 'cohort_4_lapsed_long_multi_year',\n",
       "       'cohort_4_lapsed_multi_year', 'cohort_4_multi_year',\n",
       "       'cohort_4_recovered_multi_year', 'cohort_4_second_year',\n",
       "       'cohort_5_first_gift', 'cohort_5_inconsistent_multi_year',\n",
       "       'cohort_5_key_multi_year', 'cohort_5_lapsed_after_first',\n",
       "       'cohort_5_lapsed_after_first_long', 'cohort_5_lapsed_after_second',\n",
       "       'cohort_5_lapsed_key_multi_year', 'cohort_5_lapsed_long',\n",
       "       'cohort_5_lapsed_long_key_multi_year',\n",
       "       'cohort_5_lapsed_long_multi_year', 'cohort_5_lapsed_multi_year',\n",
       "       'cohort_5_multi_year', 'cohort_5_recovered_key_multi_year',\n",
       "       'cohort_5_recovered_multi_year', 'cohort_5_second_with_gap',\n",
       "       'cohort_5_second_year', 'cohort_6_first_gift',\n",
       "       'cohort_6_key_multi_year', 'cohort_6_lapsed_after_first',\n",
       "       'cohort_6_lapsed_after_first_long', 'cohort_6_lapsed_after_second',\n",
       "       'cohort_6_lapsed_key_multi_year', 'cohort_6_lapsed_long',\n",
       "       'cohort_6_lapsed_long_key_multi_year',\n",
       "       'cohort_6_lapsed_long_multi_year', 'cohort_6_multi_year',\n",
       "       'lapsed_amount_yr0', 'lapsed_amount_yr1', 'lapsed_amount_yr2',\n",
       "       'lapsed_amount_yr3', 'lapsed_amount_yr4', 'upgraded_amount_yr0',\n",
       "       'upgraded_amount_yr1', 'upgraded_amount_yr2', 'upgraded_amount_yr3',\n",
       "       'upgraded_amount_yr4', 'downgraded_amount_yr0', 'downgraded_amount_yr1',\n",
       "       'downgraded_amount_yr2', 'downgraded_amount_yr3',\n",
       "       'downgraded_amount_yr4', 'amount_total', 'count_total', 'neg_yr'],\n",
       "      dtype='object')"
      ]
     },
     "execution_count": 116,
     "metadata": {},
     "output_type": "execute_result"
    }
   ],
   "source": [
    "df3_y1.columns"
   ]
  },
  {
   "cell_type": "code",
   "execution_count": 117,
   "metadata": {},
   "outputs": [],
   "source": [
    "#multiply columns by -1 (if applicable)\n",
    "df4_y1=df3_y1.copy()\n",
    "df4_y1[['no_donors', 'amount_yr0', 'amount_yr1',\n",
    "       'amount_yr2', 'amount_yr3', 'amount_yr4', 'count_yr0', 'count_yr1',\n",
    "       'count_yr2', 'count_yr3', 'count_yr4', 'lapsed_after_first_long',\n",
    "       'lapsed_after_second', 'lapsed_multi_year', 'lapsed_long_multi_year',\n",
    "       'lapsed_key_multi_year', 'lapsed_long', 'cohort_0_first_gift',\n",
    "       'cohort_1_lapsed_after_first', 'cohort_1_second_year',\n",
    "       'cohort_2_lapsed_after_first_long', 'cohort_2_lapsed_after_second',\n",
    "       'cohort_2_multi_year', 'cohort_2_second_with_gap',\n",
    "       'cohort_3_first_gift', 'cohort_3_inconsistent_multi_year',\n",
    "       'cohort_3_key_multi_year', 'cohort_3_lapsed_after_second',\n",
    "       'cohort_3_lapsed_long', 'cohort_3_lapsed_multi_year',\n",
    "       'cohort_4_first_gift', 'cohort_4_inconsistent_multi_year',\n",
    "       'cohort_4_key_multi_year', 'cohort_4_lapsed_after_first',\n",
    "       'cohort_4_lapsed_key_multi_year', 'cohort_4_lapsed_long',\n",
    "       'cohort_4_lapsed_long_multi_year', 'cohort_4_lapsed_multi_year',\n",
    "       'cohort_4_multi_year', 'cohort_4_recovered_multi_year',\n",
    "       'cohort_4_second_year', 'cohort_5_first_gift',\n",
    "       'cohort_5_inconsistent_multi_year', 'cohort_5_key_multi_year',\n",
    "       'cohort_5_lapsed_after_first', 'cohort_5_lapsed_after_first_long',\n",
    "       'cohort_5_lapsed_after_second', 'cohort_5_lapsed_key_multi_year',\n",
    "       'cohort_5_lapsed_long', 'cohort_5_lapsed_long_key_multi_year',\n",
    "       'cohort_5_lapsed_long_multi_year', 'cohort_5_lapsed_multi_year',\n",
    "       'cohort_5_multi_year', 'cohort_5_recovered_key_multi_year',\n",
    "       'cohort_5_recovered_multi_year', 'cohort_5_second_with_gap',\n",
    "       'cohort_5_second_year', 'cohort_6_first_gift',\n",
    "       'cohort_6_key_multi_year', 'cohort_6_lapsed_after_first',\n",
    "       'cohort_6_lapsed_after_first_long', 'cohort_6_lapsed_after_second',\n",
    "       'cohort_6_lapsed_key_multi_year', 'cohort_6_lapsed_long',\n",
    "       'cohort_6_lapsed_long_key_multi_year',\n",
    "       'cohort_6_lapsed_long_multi_year', 'cohort_6_multi_year',\n",
    "       'lapsed_amount_yr0', 'lapsed_amount_yr1', 'lapsed_amount_yr2',\n",
    "       'lapsed_amount_yr3', 'lapsed_amount_yr4', 'upgraded_amount_yr0',\n",
    "       'upgraded_amount_yr1', 'upgraded_amount_yr2', 'upgraded_amount_yr3',\n",
    "       'upgraded_amount_yr4', 'downgraded_amount_yr0', 'downgraded_amount_yr1',\n",
    "       'downgraded_amount_yr2', 'downgraded_amount_yr3',\n",
    "       'downgraded_amount_yr4', 'amount_total', 'count_total']] = df4_y1[['no_donors', 'amount_yr0', 'amount_yr1',\n",
    "       'amount_yr2', 'amount_yr3', 'amount_yr4', 'count_yr0', 'count_yr1',\n",
    "       'count_yr2', 'count_yr3', 'count_yr4', 'lapsed_after_first_long',\n",
    "       'lapsed_after_second', 'lapsed_multi_year', 'lapsed_long_multi_year',\n",
    "       'lapsed_key_multi_year', 'lapsed_long', 'cohort_0_first_gift',\n",
    "       'cohort_1_lapsed_after_first', 'cohort_1_second_year',\n",
    "       'cohort_2_lapsed_after_first_long', 'cohort_2_lapsed_after_second',\n",
    "       'cohort_2_multi_year', 'cohort_2_second_with_gap',\n",
    "       'cohort_3_first_gift', 'cohort_3_inconsistent_multi_year',\n",
    "       'cohort_3_key_multi_year', 'cohort_3_lapsed_after_second',\n",
    "       'cohort_3_lapsed_long', 'cohort_3_lapsed_multi_year',\n",
    "       'cohort_4_first_gift', 'cohort_4_inconsistent_multi_year',\n",
    "       'cohort_4_key_multi_year', 'cohort_4_lapsed_after_first',\n",
    "       'cohort_4_lapsed_key_multi_year', 'cohort_4_lapsed_long',\n",
    "       'cohort_4_lapsed_long_multi_year', 'cohort_4_lapsed_multi_year',\n",
    "       'cohort_4_multi_year', 'cohort_4_recovered_multi_year',\n",
    "       'cohort_4_second_year', 'cohort_5_first_gift',\n",
    "       'cohort_5_inconsistent_multi_year', 'cohort_5_key_multi_year',\n",
    "       'cohort_5_lapsed_after_first', 'cohort_5_lapsed_after_first_long',\n",
    "       'cohort_5_lapsed_after_second', 'cohort_5_lapsed_key_multi_year',\n",
    "       'cohort_5_lapsed_long', 'cohort_5_lapsed_long_key_multi_year',\n",
    "       'cohort_5_lapsed_long_multi_year', 'cohort_5_lapsed_multi_year',\n",
    "       'cohort_5_multi_year', 'cohort_5_recovered_key_multi_year',\n",
    "       'cohort_5_recovered_multi_year', 'cohort_5_second_with_gap',\n",
    "       'cohort_5_second_year', 'cohort_6_first_gift',\n",
    "       'cohort_6_key_multi_year', 'cohort_6_lapsed_after_first',\n",
    "       'cohort_6_lapsed_after_first_long', 'cohort_6_lapsed_after_second',\n",
    "       'cohort_6_lapsed_key_multi_year', 'cohort_6_lapsed_long',\n",
    "       'cohort_6_lapsed_long_key_multi_year',\n",
    "       'cohort_6_lapsed_long_multi_year', 'cohort_6_multi_year',\n",
    "       'lapsed_amount_yr0', 'lapsed_amount_yr1', 'lapsed_amount_yr2',\n",
    "       'lapsed_amount_yr3', 'lapsed_amount_yr4', 'upgraded_amount_yr0',\n",
    "       'upgraded_amount_yr1', 'upgraded_amount_yr2', 'upgraded_amount_yr3',\n",
    "       'upgraded_amount_yr4', 'downgraded_amount_yr0', 'downgraded_amount_yr1',\n",
    "       'downgraded_amount_yr2', 'downgraded_amount_yr3',\n",
    "       'downgraded_amount_yr4', 'amount_total', 'count_total']].multiply(df4_y1[\"neg_yr\"], axis=\"index\")"
   ]
  },
  {
   "cell_type": "code",
   "execution_count": 118,
   "metadata": {},
   "outputs": [
    {
     "data": {
      "text/html": [
       "<div>\n",
       "<style scoped>\n",
       "    .dataframe tbody tr th:only-of-type {\n",
       "        vertical-align: middle;\n",
       "    }\n",
       "\n",
       "    .dataframe tbody tr th {\n",
       "        vertical-align: top;\n",
       "    }\n",
       "\n",
       "    .dataframe thead th {\n",
       "        text-align: right;\n",
       "    }\n",
       "</style>\n",
       "<table border=\"1\" class=\"dataframe\">\n",
       "  <thead>\n",
       "    <tr style=\"text-align: right;\">\n",
       "      <th></th>\n",
       "      <th>first_gift_year_year</th>\n",
       "      <th>cohort_yr1_TF</th>\n",
       "      <th>no_donors</th>\n",
       "      <th>amount_yr0</th>\n",
       "      <th>amount_yr1</th>\n",
       "      <th>amount_yr2</th>\n",
       "      <th>amount_yr3</th>\n",
       "      <th>amount_yr4</th>\n",
       "      <th>count_yr0</th>\n",
       "      <th>count_yr1</th>\n",
       "      <th>...</th>\n",
       "      <th>upgraded_amount_yr3</th>\n",
       "      <th>upgraded_amount_yr4</th>\n",
       "      <th>downgraded_amount_yr0</th>\n",
       "      <th>downgraded_amount_yr1</th>\n",
       "      <th>downgraded_amount_yr2</th>\n",
       "      <th>downgraded_amount_yr3</th>\n",
       "      <th>downgraded_amount_yr4</th>\n",
       "      <th>amount_total</th>\n",
       "      <th>count_total</th>\n",
       "      <th>neg_yr</th>\n",
       "    </tr>\n",
       "  </thead>\n",
       "  <tbody>\n",
       "    <tr>\n",
       "      <td>0</td>\n",
       "      <td>2012</td>\n",
       "      <td>TF</td>\n",
       "      <td>108</td>\n",
       "      <td>21842.64</td>\n",
       "      <td>0.00</td>\n",
       "      <td>64.28</td>\n",
       "      <td>126.00</td>\n",
       "      <td>0.00</td>\n",
       "      <td>108</td>\n",
       "      <td>0</td>\n",
       "      <td>...</td>\n",
       "      <td>0.00</td>\n",
       "      <td>0.00</td>\n",
       "      <td>0.0</td>\n",
       "      <td>0.00</td>\n",
       "      <td>0.00</td>\n",
       "      <td>0.00</td>\n",
       "      <td>0.00</td>\n",
       "      <td>293.28</td>\n",
       "      <td>11</td>\n",
       "      <td>-1</td>\n",
       "    </tr>\n",
       "    <tr>\n",
       "      <td>1</td>\n",
       "      <td>2012</td>\n",
       "      <td>TT</td>\n",
       "      <td>33</td>\n",
       "      <td>3000.00</td>\n",
       "      <td>16421.14</td>\n",
       "      <td>19167.13</td>\n",
       "      <td>8092.47</td>\n",
       "      <td>5416.33</td>\n",
       "      <td>41</td>\n",
       "      <td>916</td>\n",
       "      <td>...</td>\n",
       "      <td>246.31</td>\n",
       "      <td>1.00</td>\n",
       "      <td>0.0</td>\n",
       "      <td>905.00</td>\n",
       "      <td>524.00</td>\n",
       "      <td>11147.97</td>\n",
       "      <td>3307.96</td>\n",
       "      <td>52740.98</td>\n",
       "      <td>3886</td>\n",
       "      <td>1</td>\n",
       "    </tr>\n",
       "    <tr>\n",
       "      <td>2</td>\n",
       "      <td>2013</td>\n",
       "      <td>TF</td>\n",
       "      <td>257939</td>\n",
       "      <td>17392582.86</td>\n",
       "      <td>0.00</td>\n",
       "      <td>1947492.89</td>\n",
       "      <td>1780321.28</td>\n",
       "      <td>1714900.24</td>\n",
       "      <td>327615</td>\n",
       "      <td>0</td>\n",
       "      <td>...</td>\n",
       "      <td>350873.68</td>\n",
       "      <td>423888.44</td>\n",
       "      <td>0.0</td>\n",
       "      <td>0.00</td>\n",
       "      <td>0.00</td>\n",
       "      <td>273660.43</td>\n",
       "      <td>301464.63</td>\n",
       "      <td>22835297.27</td>\n",
       "      <td>404255</td>\n",
       "      <td>-1</td>\n",
       "    </tr>\n",
       "    <tr>\n",
       "      <td>3</td>\n",
       "      <td>2013</td>\n",
       "      <td>TT</td>\n",
       "      <td>62130</td>\n",
       "      <td>13019180.74</td>\n",
       "      <td>15267703.98</td>\n",
       "      <td>10639814.50</td>\n",
       "      <td>9617948.37</td>\n",
       "      <td>9440854.98</td>\n",
       "      <td>245452</td>\n",
       "      <td>283622</td>\n",
       "      <td>...</td>\n",
       "      <td>2452956.28</td>\n",
       "      <td>2589107.14</td>\n",
       "      <td>0.0</td>\n",
       "      <td>4491997.15</td>\n",
       "      <td>3786826.85</td>\n",
       "      <td>2539792.45</td>\n",
       "      <td>2321927.22</td>\n",
       "      <td>57985502.57</td>\n",
       "      <td>947902</td>\n",
       "      <td>1</td>\n",
       "    </tr>\n",
       "    <tr>\n",
       "      <td>4</td>\n",
       "      <td>2014</td>\n",
       "      <td>TF</td>\n",
       "      <td>272006</td>\n",
       "      <td>19384701.32</td>\n",
       "      <td>0.00</td>\n",
       "      <td>1720387.10</td>\n",
       "      <td>1606787.55</td>\n",
       "      <td>490863.70</td>\n",
       "      <td>338863</td>\n",
       "      <td>0</td>\n",
       "      <td>...</td>\n",
       "      <td>346639.39</td>\n",
       "      <td>71147.12</td>\n",
       "      <td>0.0</td>\n",
       "      <td>0.00</td>\n",
       "      <td>0.00</td>\n",
       "      <td>253711.02</td>\n",
       "      <td>281289.86</td>\n",
       "      <td>22711875.97</td>\n",
       "      <td>387249</td>\n",
       "      <td>-1</td>\n",
       "    </tr>\n",
       "    <tr>\n",
       "      <td>5</td>\n",
       "      <td>2014</td>\n",
       "      <td>TT</td>\n",
       "      <td>48667</td>\n",
       "      <td>6789581.20</td>\n",
       "      <td>7745897.26</td>\n",
       "      <td>4717321.67</td>\n",
       "      <td>4212067.47</td>\n",
       "      <td>1383778.10</td>\n",
       "      <td>122484</td>\n",
       "      <td>131028</td>\n",
       "      <td>...</td>\n",
       "      <td>1222682.84</td>\n",
       "      <td>222928.55</td>\n",
       "      <td>0.0</td>\n",
       "      <td>2633662.15</td>\n",
       "      <td>1618257.48</td>\n",
       "      <td>1257254.55</td>\n",
       "      <td>1720450.81</td>\n",
       "      <td>23464867.60</td>\n",
       "      <td>380811</td>\n",
       "      <td>1</td>\n",
       "    </tr>\n",
       "    <tr>\n",
       "      <td>6</td>\n",
       "      <td>2015</td>\n",
       "      <td>TF</td>\n",
       "      <td>309059</td>\n",
       "      <td>23316118.31</td>\n",
       "      <td>0.00</td>\n",
       "      <td>1835616.24</td>\n",
       "      <td>636792.63</td>\n",
       "      <td>0.00</td>\n",
       "      <td>373394</td>\n",
       "      <td>0</td>\n",
       "      <td>...</td>\n",
       "      <td>90023.85</td>\n",
       "      <td>0.00</td>\n",
       "      <td>0.0</td>\n",
       "      <td>0.00</td>\n",
       "      <td>0.00</td>\n",
       "      <td>218309.95</td>\n",
       "      <td>0.00</td>\n",
       "      <td>25151734.55</td>\n",
       "      <td>401108</td>\n",
       "      <td>-1</td>\n",
       "    </tr>\n",
       "    <tr>\n",
       "      <td>7</td>\n",
       "      <td>2015</td>\n",
       "      <td>TT</td>\n",
       "      <td>46078</td>\n",
       "      <td>6830760.01</td>\n",
       "      <td>8280549.87</td>\n",
       "      <td>5608529.39</td>\n",
       "      <td>1692588.95</td>\n",
       "      <td>0.00</td>\n",
       "      <td>94787</td>\n",
       "      <td>112446</td>\n",
       "      <td>...</td>\n",
       "      <td>260579.99</td>\n",
       "      <td>0.00</td>\n",
       "      <td>0.0</td>\n",
       "      <td>2560692.28</td>\n",
       "      <td>1665471.64</td>\n",
       "      <td>2361760.54</td>\n",
       "      <td>0.00</td>\n",
       "      <td>20719839.27</td>\n",
       "      <td>277830</td>\n",
       "      <td>1</td>\n",
       "    </tr>\n",
       "    <tr>\n",
       "      <td>8</td>\n",
       "      <td>2016</td>\n",
       "      <td>TF</td>\n",
       "      <td>389060</td>\n",
       "      <td>27839492.42</td>\n",
       "      <td>0.00</td>\n",
       "      <td>763568.62</td>\n",
       "      <td>0.00</td>\n",
       "      <td>0.00</td>\n",
       "      <td>472034</td>\n",
       "      <td>0</td>\n",
       "      <td>...</td>\n",
       "      <td>0.00</td>\n",
       "      <td>0.00</td>\n",
       "      <td>0.0</td>\n",
       "      <td>0.00</td>\n",
       "      <td>0.00</td>\n",
       "      <td>0.00</td>\n",
       "      <td>0.00</td>\n",
       "      <td>27839492.42</td>\n",
       "      <td>472034</td>\n",
       "      <td>-1</td>\n",
       "    </tr>\n",
       "    <tr>\n",
       "      <td>9</td>\n",
       "      <td>2016</td>\n",
       "      <td>TT</td>\n",
       "      <td>56538</td>\n",
       "      <td>8690722.10</td>\n",
       "      <td>10475760.27</td>\n",
       "      <td>2121971.40</td>\n",
       "      <td>0.00</td>\n",
       "      <td>0.00</td>\n",
       "      <td>130683</td>\n",
       "      <td>177433</td>\n",
       "      <td>...</td>\n",
       "      <td>0.00</td>\n",
       "      <td>0.00</td>\n",
       "      <td>0.0</td>\n",
       "      <td>3301217.01</td>\n",
       "      <td>3056365.27</td>\n",
       "      <td>0.00</td>\n",
       "      <td>0.00</td>\n",
       "      <td>19166482.37</td>\n",
       "      <td>308116</td>\n",
       "      <td>1</td>\n",
       "    </tr>\n",
       "    <tr>\n",
       "      <td>10</td>\n",
       "      <td>2017</td>\n",
       "      <td>TF</td>\n",
       "      <td>405001</td>\n",
       "      <td>31672744.45</td>\n",
       "      <td>0.00</td>\n",
       "      <td>0.00</td>\n",
       "      <td>0.00</td>\n",
       "      <td>0.00</td>\n",
       "      <td>568125</td>\n",
       "      <td>0</td>\n",
       "      <td>...</td>\n",
       "      <td>0.00</td>\n",
       "      <td>0.00</td>\n",
       "      <td>0.0</td>\n",
       "      <td>0.00</td>\n",
       "      <td>0.00</td>\n",
       "      <td>0.00</td>\n",
       "      <td>0.00</td>\n",
       "      <td>31672744.45</td>\n",
       "      <td>568125</td>\n",
       "      <td>-1</td>\n",
       "    </tr>\n",
       "    <tr>\n",
       "      <td>11</td>\n",
       "      <td>2017</td>\n",
       "      <td>TT</td>\n",
       "      <td>29990</td>\n",
       "      <td>6301026.03</td>\n",
       "      <td>4549913.20</td>\n",
       "      <td>0.00</td>\n",
       "      <td>0.00</td>\n",
       "      <td>0.00</td>\n",
       "      <td>100433</td>\n",
       "      <td>71604</td>\n",
       "      <td>...</td>\n",
       "      <td>0.00</td>\n",
       "      <td>0.00</td>\n",
       "      <td>0.0</td>\n",
       "      <td>3282574.70</td>\n",
       "      <td>0.00</td>\n",
       "      <td>0.00</td>\n",
       "      <td>0.00</td>\n",
       "      <td>6301026.03</td>\n",
       "      <td>100433</td>\n",
       "      <td>1</td>\n",
       "    </tr>\n",
       "    <tr>\n",
       "      <td>12</td>\n",
       "      <td>2018</td>\n",
       "      <td>TF</td>\n",
       "      <td>147945</td>\n",
       "      <td>11275859.66</td>\n",
       "      <td>0.00</td>\n",
       "      <td>0.00</td>\n",
       "      <td>0.00</td>\n",
       "      <td>0.00</td>\n",
       "      <td>208824</td>\n",
       "      <td>0</td>\n",
       "      <td>...</td>\n",
       "      <td>0.00</td>\n",
       "      <td>0.00</td>\n",
       "      <td>0.0</td>\n",
       "      <td>0.00</td>\n",
       "      <td>0.00</td>\n",
       "      <td>0.00</td>\n",
       "      <td>0.00</td>\n",
       "      <td>0.00</td>\n",
       "      <td>0</td>\n",
       "      <td>-1</td>\n",
       "    </tr>\n",
       "  </tbody>\n",
       "</table>\n",
       "<p>13 rows × 87 columns</p>\n",
       "</div>"
      ],
      "text/plain": [
       "    first_gift_year_year cohort_yr1_TF  no_donors   amount_yr0   amount_yr1  \\\n",
       "0                   2012            TF        108     21842.64         0.00   \n",
       "1                   2012            TT         33      3000.00     16421.14   \n",
       "2                   2013            TF     257939  17392582.86         0.00   \n",
       "3                   2013            TT      62130  13019180.74  15267703.98   \n",
       "4                   2014            TF     272006  19384701.32         0.00   \n",
       "5                   2014            TT      48667   6789581.20   7745897.26   \n",
       "6                   2015            TF     309059  23316118.31         0.00   \n",
       "7                   2015            TT      46078   6830760.01   8280549.87   \n",
       "8                   2016            TF     389060  27839492.42         0.00   \n",
       "9                   2016            TT      56538   8690722.10  10475760.27   \n",
       "10                  2017            TF     405001  31672744.45         0.00   \n",
       "11                  2017            TT      29990   6301026.03   4549913.20   \n",
       "12                  2018            TF     147945  11275859.66         0.00   \n",
       "\n",
       "     amount_yr2  amount_yr3  amount_yr4  count_yr0  count_yr1  ...  \\\n",
       "0         64.28      126.00        0.00        108          0  ...   \n",
       "1      19167.13     8092.47     5416.33         41        916  ...   \n",
       "2    1947492.89  1780321.28  1714900.24     327615          0  ...   \n",
       "3   10639814.50  9617948.37  9440854.98     245452     283622  ...   \n",
       "4    1720387.10  1606787.55   490863.70     338863          0  ...   \n",
       "5    4717321.67  4212067.47  1383778.10     122484     131028  ...   \n",
       "6    1835616.24   636792.63        0.00     373394          0  ...   \n",
       "7    5608529.39  1692588.95        0.00      94787     112446  ...   \n",
       "8     763568.62        0.00        0.00     472034          0  ...   \n",
       "9    2121971.40        0.00        0.00     130683     177433  ...   \n",
       "10         0.00        0.00        0.00     568125          0  ...   \n",
       "11         0.00        0.00        0.00     100433      71604  ...   \n",
       "12         0.00        0.00        0.00     208824          0  ...   \n",
       "\n",
       "    upgraded_amount_yr3  upgraded_amount_yr4  downgraded_amount_yr0  \\\n",
       "0                  0.00                 0.00                    0.0   \n",
       "1                246.31                 1.00                    0.0   \n",
       "2             350873.68            423888.44                    0.0   \n",
       "3            2452956.28           2589107.14                    0.0   \n",
       "4             346639.39             71147.12                    0.0   \n",
       "5            1222682.84            222928.55                    0.0   \n",
       "6              90023.85                 0.00                    0.0   \n",
       "7             260579.99                 0.00                    0.0   \n",
       "8                  0.00                 0.00                    0.0   \n",
       "9                  0.00                 0.00                    0.0   \n",
       "10                 0.00                 0.00                    0.0   \n",
       "11                 0.00                 0.00                    0.0   \n",
       "12                 0.00                 0.00                    0.0   \n",
       "\n",
       "    downgraded_amount_yr1  downgraded_amount_yr2  downgraded_amount_yr3  \\\n",
       "0                    0.00                   0.00                   0.00   \n",
       "1                  905.00                 524.00               11147.97   \n",
       "2                    0.00                   0.00              273660.43   \n",
       "3              4491997.15             3786826.85             2539792.45   \n",
       "4                    0.00                   0.00              253711.02   \n",
       "5              2633662.15             1618257.48             1257254.55   \n",
       "6                    0.00                   0.00              218309.95   \n",
       "7              2560692.28             1665471.64             2361760.54   \n",
       "8                    0.00                   0.00                   0.00   \n",
       "9              3301217.01             3056365.27                   0.00   \n",
       "10                   0.00                   0.00                   0.00   \n",
       "11             3282574.70                   0.00                   0.00   \n",
       "12                   0.00                   0.00                   0.00   \n",
       "\n",
       "    downgraded_amount_yr4  amount_total  count_total  neg_yr  \n",
       "0                    0.00        293.28           11      -1  \n",
       "1                 3307.96      52740.98         3886       1  \n",
       "2               301464.63   22835297.27       404255      -1  \n",
       "3              2321927.22   57985502.57       947902       1  \n",
       "4               281289.86   22711875.97       387249      -1  \n",
       "5              1720450.81   23464867.60       380811       1  \n",
       "6                    0.00   25151734.55       401108      -1  \n",
       "7                    0.00   20719839.27       277830       1  \n",
       "8                    0.00   27839492.42       472034      -1  \n",
       "9                    0.00   19166482.37       308116       1  \n",
       "10                   0.00   31672744.45       568125      -1  \n",
       "11                   0.00    6301026.03       100433       1  \n",
       "12                   0.00          0.00            0      -1  \n",
       "\n",
       "[13 rows x 87 columns]"
      ]
     },
     "execution_count": 118,
     "metadata": {},
     "output_type": "execute_result"
    }
   ],
   "source": [
    "df3_y1"
   ]
  },
  {
   "cell_type": "code",
   "execution_count": 119,
   "metadata": {},
   "outputs": [
    {
     "data": {
      "text/html": [
       "<div>\n",
       "<style scoped>\n",
       "    .dataframe tbody tr th:only-of-type {\n",
       "        vertical-align: middle;\n",
       "    }\n",
       "\n",
       "    .dataframe tbody tr th {\n",
       "        vertical-align: top;\n",
       "    }\n",
       "\n",
       "    .dataframe thead th {\n",
       "        text-align: right;\n",
       "    }\n",
       "</style>\n",
       "<table border=\"1\" class=\"dataframe\">\n",
       "  <thead>\n",
       "    <tr style=\"text-align: right;\">\n",
       "      <th></th>\n",
       "      <th>first_gift_year_year</th>\n",
       "      <th>cohort_yr1_TF</th>\n",
       "      <th>no_donors</th>\n",
       "      <th>amount_yr0</th>\n",
       "      <th>amount_yr1</th>\n",
       "      <th>amount_yr2</th>\n",
       "      <th>amount_yr3</th>\n",
       "      <th>amount_yr4</th>\n",
       "      <th>count_yr0</th>\n",
       "      <th>count_yr1</th>\n",
       "      <th>...</th>\n",
       "      <th>upgraded_amount_yr3</th>\n",
       "      <th>upgraded_amount_yr4</th>\n",
       "      <th>downgraded_amount_yr0</th>\n",
       "      <th>downgraded_amount_yr1</th>\n",
       "      <th>downgraded_amount_yr2</th>\n",
       "      <th>downgraded_amount_yr3</th>\n",
       "      <th>downgraded_amount_yr4</th>\n",
       "      <th>amount_total</th>\n",
       "      <th>count_total</th>\n",
       "      <th>neg_yr</th>\n",
       "    </tr>\n",
       "  </thead>\n",
       "  <tbody>\n",
       "    <tr>\n",
       "      <td>0</td>\n",
       "      <td>2012</td>\n",
       "      <td>TF</td>\n",
       "      <td>-108</td>\n",
       "      <td>-21842.64</td>\n",
       "      <td>-0.00</td>\n",
       "      <td>-64.28</td>\n",
       "      <td>-126.00</td>\n",
       "      <td>-0.00</td>\n",
       "      <td>-108</td>\n",
       "      <td>0</td>\n",
       "      <td>...</td>\n",
       "      <td>-0.00</td>\n",
       "      <td>-0.00</td>\n",
       "      <td>-0.0</td>\n",
       "      <td>-0.00</td>\n",
       "      <td>-0.00</td>\n",
       "      <td>-0.00</td>\n",
       "      <td>-0.00</td>\n",
       "      <td>-293.28</td>\n",
       "      <td>-11</td>\n",
       "      <td>-1</td>\n",
       "    </tr>\n",
       "    <tr>\n",
       "      <td>1</td>\n",
       "      <td>2012</td>\n",
       "      <td>TT</td>\n",
       "      <td>33</td>\n",
       "      <td>3000.00</td>\n",
       "      <td>16421.14</td>\n",
       "      <td>19167.13</td>\n",
       "      <td>8092.47</td>\n",
       "      <td>5416.33</td>\n",
       "      <td>41</td>\n",
       "      <td>916</td>\n",
       "      <td>...</td>\n",
       "      <td>246.31</td>\n",
       "      <td>1.00</td>\n",
       "      <td>0.0</td>\n",
       "      <td>905.00</td>\n",
       "      <td>524.00</td>\n",
       "      <td>11147.97</td>\n",
       "      <td>3307.96</td>\n",
       "      <td>52740.98</td>\n",
       "      <td>3886</td>\n",
       "      <td>1</td>\n",
       "    </tr>\n",
       "    <tr>\n",
       "      <td>2</td>\n",
       "      <td>2013</td>\n",
       "      <td>TF</td>\n",
       "      <td>-257939</td>\n",
       "      <td>-17392582.86</td>\n",
       "      <td>-0.00</td>\n",
       "      <td>-1947492.89</td>\n",
       "      <td>-1780321.28</td>\n",
       "      <td>-1714900.24</td>\n",
       "      <td>-327615</td>\n",
       "      <td>0</td>\n",
       "      <td>...</td>\n",
       "      <td>-350873.68</td>\n",
       "      <td>-423888.44</td>\n",
       "      <td>-0.0</td>\n",
       "      <td>-0.00</td>\n",
       "      <td>-0.00</td>\n",
       "      <td>-273660.43</td>\n",
       "      <td>-301464.63</td>\n",
       "      <td>-22835297.27</td>\n",
       "      <td>-404255</td>\n",
       "      <td>-1</td>\n",
       "    </tr>\n",
       "    <tr>\n",
       "      <td>3</td>\n",
       "      <td>2013</td>\n",
       "      <td>TT</td>\n",
       "      <td>62130</td>\n",
       "      <td>13019180.74</td>\n",
       "      <td>15267703.98</td>\n",
       "      <td>10639814.50</td>\n",
       "      <td>9617948.37</td>\n",
       "      <td>9440854.98</td>\n",
       "      <td>245452</td>\n",
       "      <td>283622</td>\n",
       "      <td>...</td>\n",
       "      <td>2452956.28</td>\n",
       "      <td>2589107.14</td>\n",
       "      <td>0.0</td>\n",
       "      <td>4491997.15</td>\n",
       "      <td>3786826.85</td>\n",
       "      <td>2539792.45</td>\n",
       "      <td>2321927.22</td>\n",
       "      <td>57985502.57</td>\n",
       "      <td>947902</td>\n",
       "      <td>1</td>\n",
       "    </tr>\n",
       "    <tr>\n",
       "      <td>4</td>\n",
       "      <td>2014</td>\n",
       "      <td>TF</td>\n",
       "      <td>-272006</td>\n",
       "      <td>-19384701.32</td>\n",
       "      <td>-0.00</td>\n",
       "      <td>-1720387.10</td>\n",
       "      <td>-1606787.55</td>\n",
       "      <td>-490863.70</td>\n",
       "      <td>-338863</td>\n",
       "      <td>0</td>\n",
       "      <td>...</td>\n",
       "      <td>-346639.39</td>\n",
       "      <td>-71147.12</td>\n",
       "      <td>-0.0</td>\n",
       "      <td>-0.00</td>\n",
       "      <td>-0.00</td>\n",
       "      <td>-253711.02</td>\n",
       "      <td>-281289.86</td>\n",
       "      <td>-22711875.97</td>\n",
       "      <td>-387249</td>\n",
       "      <td>-1</td>\n",
       "    </tr>\n",
       "    <tr>\n",
       "      <td>5</td>\n",
       "      <td>2014</td>\n",
       "      <td>TT</td>\n",
       "      <td>48667</td>\n",
       "      <td>6789581.20</td>\n",
       "      <td>7745897.26</td>\n",
       "      <td>4717321.67</td>\n",
       "      <td>4212067.47</td>\n",
       "      <td>1383778.10</td>\n",
       "      <td>122484</td>\n",
       "      <td>131028</td>\n",
       "      <td>...</td>\n",
       "      <td>1222682.84</td>\n",
       "      <td>222928.55</td>\n",
       "      <td>0.0</td>\n",
       "      <td>2633662.15</td>\n",
       "      <td>1618257.48</td>\n",
       "      <td>1257254.55</td>\n",
       "      <td>1720450.81</td>\n",
       "      <td>23464867.60</td>\n",
       "      <td>380811</td>\n",
       "      <td>1</td>\n",
       "    </tr>\n",
       "    <tr>\n",
       "      <td>6</td>\n",
       "      <td>2015</td>\n",
       "      <td>TF</td>\n",
       "      <td>-309059</td>\n",
       "      <td>-23316118.31</td>\n",
       "      <td>-0.00</td>\n",
       "      <td>-1835616.24</td>\n",
       "      <td>-636792.63</td>\n",
       "      <td>-0.00</td>\n",
       "      <td>-373394</td>\n",
       "      <td>0</td>\n",
       "      <td>...</td>\n",
       "      <td>-90023.85</td>\n",
       "      <td>-0.00</td>\n",
       "      <td>-0.0</td>\n",
       "      <td>-0.00</td>\n",
       "      <td>-0.00</td>\n",
       "      <td>-218309.95</td>\n",
       "      <td>-0.00</td>\n",
       "      <td>-25151734.55</td>\n",
       "      <td>-401108</td>\n",
       "      <td>-1</td>\n",
       "    </tr>\n",
       "    <tr>\n",
       "      <td>7</td>\n",
       "      <td>2015</td>\n",
       "      <td>TT</td>\n",
       "      <td>46078</td>\n",
       "      <td>6830760.01</td>\n",
       "      <td>8280549.87</td>\n",
       "      <td>5608529.39</td>\n",
       "      <td>1692588.95</td>\n",
       "      <td>0.00</td>\n",
       "      <td>94787</td>\n",
       "      <td>112446</td>\n",
       "      <td>...</td>\n",
       "      <td>260579.99</td>\n",
       "      <td>0.00</td>\n",
       "      <td>0.0</td>\n",
       "      <td>2560692.28</td>\n",
       "      <td>1665471.64</td>\n",
       "      <td>2361760.54</td>\n",
       "      <td>0.00</td>\n",
       "      <td>20719839.27</td>\n",
       "      <td>277830</td>\n",
       "      <td>1</td>\n",
       "    </tr>\n",
       "    <tr>\n",
       "      <td>8</td>\n",
       "      <td>2016</td>\n",
       "      <td>TF</td>\n",
       "      <td>-389060</td>\n",
       "      <td>-27839492.42</td>\n",
       "      <td>-0.00</td>\n",
       "      <td>-763568.62</td>\n",
       "      <td>-0.00</td>\n",
       "      <td>-0.00</td>\n",
       "      <td>-472034</td>\n",
       "      <td>0</td>\n",
       "      <td>...</td>\n",
       "      <td>-0.00</td>\n",
       "      <td>-0.00</td>\n",
       "      <td>-0.0</td>\n",
       "      <td>-0.00</td>\n",
       "      <td>-0.00</td>\n",
       "      <td>-0.00</td>\n",
       "      <td>-0.00</td>\n",
       "      <td>-27839492.42</td>\n",
       "      <td>-472034</td>\n",
       "      <td>-1</td>\n",
       "    </tr>\n",
       "    <tr>\n",
       "      <td>9</td>\n",
       "      <td>2016</td>\n",
       "      <td>TT</td>\n",
       "      <td>56538</td>\n",
       "      <td>8690722.10</td>\n",
       "      <td>10475760.27</td>\n",
       "      <td>2121971.40</td>\n",
       "      <td>0.00</td>\n",
       "      <td>0.00</td>\n",
       "      <td>130683</td>\n",
       "      <td>177433</td>\n",
       "      <td>...</td>\n",
       "      <td>0.00</td>\n",
       "      <td>0.00</td>\n",
       "      <td>0.0</td>\n",
       "      <td>3301217.01</td>\n",
       "      <td>3056365.27</td>\n",
       "      <td>0.00</td>\n",
       "      <td>0.00</td>\n",
       "      <td>19166482.37</td>\n",
       "      <td>308116</td>\n",
       "      <td>1</td>\n",
       "    </tr>\n",
       "    <tr>\n",
       "      <td>10</td>\n",
       "      <td>2017</td>\n",
       "      <td>TF</td>\n",
       "      <td>-405001</td>\n",
       "      <td>-31672744.45</td>\n",
       "      <td>-0.00</td>\n",
       "      <td>-0.00</td>\n",
       "      <td>-0.00</td>\n",
       "      <td>-0.00</td>\n",
       "      <td>-568125</td>\n",
       "      <td>0</td>\n",
       "      <td>...</td>\n",
       "      <td>-0.00</td>\n",
       "      <td>-0.00</td>\n",
       "      <td>-0.0</td>\n",
       "      <td>-0.00</td>\n",
       "      <td>-0.00</td>\n",
       "      <td>-0.00</td>\n",
       "      <td>-0.00</td>\n",
       "      <td>-31672744.45</td>\n",
       "      <td>-568125</td>\n",
       "      <td>-1</td>\n",
       "    </tr>\n",
       "    <tr>\n",
       "      <td>11</td>\n",
       "      <td>2017</td>\n",
       "      <td>TT</td>\n",
       "      <td>29990</td>\n",
       "      <td>6301026.03</td>\n",
       "      <td>4549913.20</td>\n",
       "      <td>0.00</td>\n",
       "      <td>0.00</td>\n",
       "      <td>0.00</td>\n",
       "      <td>100433</td>\n",
       "      <td>71604</td>\n",
       "      <td>...</td>\n",
       "      <td>0.00</td>\n",
       "      <td>0.00</td>\n",
       "      <td>0.0</td>\n",
       "      <td>3282574.70</td>\n",
       "      <td>0.00</td>\n",
       "      <td>0.00</td>\n",
       "      <td>0.00</td>\n",
       "      <td>6301026.03</td>\n",
       "      <td>100433</td>\n",
       "      <td>1</td>\n",
       "    </tr>\n",
       "    <tr>\n",
       "      <td>12</td>\n",
       "      <td>2018</td>\n",
       "      <td>TF</td>\n",
       "      <td>-147945</td>\n",
       "      <td>-11275859.66</td>\n",
       "      <td>-0.00</td>\n",
       "      <td>-0.00</td>\n",
       "      <td>-0.00</td>\n",
       "      <td>-0.00</td>\n",
       "      <td>-208824</td>\n",
       "      <td>0</td>\n",
       "      <td>...</td>\n",
       "      <td>-0.00</td>\n",
       "      <td>-0.00</td>\n",
       "      <td>-0.0</td>\n",
       "      <td>-0.00</td>\n",
       "      <td>-0.00</td>\n",
       "      <td>-0.00</td>\n",
       "      <td>-0.00</td>\n",
       "      <td>-0.00</td>\n",
       "      <td>0</td>\n",
       "      <td>-1</td>\n",
       "    </tr>\n",
       "  </tbody>\n",
       "</table>\n",
       "<p>13 rows × 87 columns</p>\n",
       "</div>"
      ],
      "text/plain": [
       "    first_gift_year_year cohort_yr1_TF  no_donors   amount_yr0   amount_yr1  \\\n",
       "0                   2012            TF       -108    -21842.64        -0.00   \n",
       "1                   2012            TT         33      3000.00     16421.14   \n",
       "2                   2013            TF    -257939 -17392582.86        -0.00   \n",
       "3                   2013            TT      62130  13019180.74  15267703.98   \n",
       "4                   2014            TF    -272006 -19384701.32        -0.00   \n",
       "5                   2014            TT      48667   6789581.20   7745897.26   \n",
       "6                   2015            TF    -309059 -23316118.31        -0.00   \n",
       "7                   2015            TT      46078   6830760.01   8280549.87   \n",
       "8                   2016            TF    -389060 -27839492.42        -0.00   \n",
       "9                   2016            TT      56538   8690722.10  10475760.27   \n",
       "10                  2017            TF    -405001 -31672744.45        -0.00   \n",
       "11                  2017            TT      29990   6301026.03   4549913.20   \n",
       "12                  2018            TF    -147945 -11275859.66        -0.00   \n",
       "\n",
       "     amount_yr2  amount_yr3  amount_yr4  count_yr0  count_yr1  ...  \\\n",
       "0        -64.28     -126.00       -0.00       -108          0  ...   \n",
       "1      19167.13     8092.47     5416.33         41        916  ...   \n",
       "2   -1947492.89 -1780321.28 -1714900.24    -327615          0  ...   \n",
       "3   10639814.50  9617948.37  9440854.98     245452     283622  ...   \n",
       "4   -1720387.10 -1606787.55  -490863.70    -338863          0  ...   \n",
       "5    4717321.67  4212067.47  1383778.10     122484     131028  ...   \n",
       "6   -1835616.24  -636792.63       -0.00    -373394          0  ...   \n",
       "7    5608529.39  1692588.95        0.00      94787     112446  ...   \n",
       "8    -763568.62       -0.00       -0.00    -472034          0  ...   \n",
       "9    2121971.40        0.00        0.00     130683     177433  ...   \n",
       "10        -0.00       -0.00       -0.00    -568125          0  ...   \n",
       "11         0.00        0.00        0.00     100433      71604  ...   \n",
       "12        -0.00       -0.00       -0.00    -208824          0  ...   \n",
       "\n",
       "    upgraded_amount_yr3  upgraded_amount_yr4  downgraded_amount_yr0  \\\n",
       "0                 -0.00                -0.00                   -0.0   \n",
       "1                246.31                 1.00                    0.0   \n",
       "2            -350873.68           -423888.44                   -0.0   \n",
       "3            2452956.28           2589107.14                    0.0   \n",
       "4            -346639.39            -71147.12                   -0.0   \n",
       "5            1222682.84            222928.55                    0.0   \n",
       "6             -90023.85                -0.00                   -0.0   \n",
       "7             260579.99                 0.00                    0.0   \n",
       "8                 -0.00                -0.00                   -0.0   \n",
       "9                  0.00                 0.00                    0.0   \n",
       "10                -0.00                -0.00                   -0.0   \n",
       "11                 0.00                 0.00                    0.0   \n",
       "12                -0.00                -0.00                   -0.0   \n",
       "\n",
       "    downgraded_amount_yr1  downgraded_amount_yr2  downgraded_amount_yr3  \\\n",
       "0                   -0.00                  -0.00                  -0.00   \n",
       "1                  905.00                 524.00               11147.97   \n",
       "2                   -0.00                  -0.00             -273660.43   \n",
       "3              4491997.15             3786826.85             2539792.45   \n",
       "4                   -0.00                  -0.00             -253711.02   \n",
       "5              2633662.15             1618257.48             1257254.55   \n",
       "6                   -0.00                  -0.00             -218309.95   \n",
       "7              2560692.28             1665471.64             2361760.54   \n",
       "8                   -0.00                  -0.00                  -0.00   \n",
       "9              3301217.01             3056365.27                   0.00   \n",
       "10                  -0.00                  -0.00                  -0.00   \n",
       "11             3282574.70                   0.00                   0.00   \n",
       "12                  -0.00                  -0.00                  -0.00   \n",
       "\n",
       "    downgraded_amount_yr4  amount_total  count_total  neg_yr  \n",
       "0                   -0.00       -293.28          -11      -1  \n",
       "1                 3307.96      52740.98         3886       1  \n",
       "2              -301464.63  -22835297.27      -404255      -1  \n",
       "3              2321927.22   57985502.57       947902       1  \n",
       "4              -281289.86  -22711875.97      -387249      -1  \n",
       "5              1720450.81   23464867.60       380811       1  \n",
       "6                   -0.00  -25151734.55      -401108      -1  \n",
       "7                    0.00   20719839.27       277830       1  \n",
       "8                   -0.00  -27839492.42      -472034      -1  \n",
       "9                    0.00   19166482.37       308116       1  \n",
       "10                  -0.00  -31672744.45      -568125      -1  \n",
       "11                   0.00    6301026.03       100433       1  \n",
       "12                  -0.00         -0.00            0      -1  \n",
       "\n",
       "[13 rows x 87 columns]"
      ]
     },
     "execution_count": 119,
     "metadata": {},
     "output_type": "execute_result"
    }
   ],
   "source": [
    "df4_y1"
   ]
  },
  {
   "cell_type": "code",
   "execution_count": 120,
   "metadata": {},
   "outputs": [],
   "source": [
    "df3_y1.to_csv('yr1.csv')\n",
    "df4_y1.to_csv('yr1_neg.csv')"
   ]
  },
  {
   "cell_type": "markdown",
   "metadata": {},
   "source": [
    "### Create yr2 dataframe"
   ]
  },
  {
   "cell_type": "code",
   "execution_count": 121,
   "metadata": {},
   "outputs": [
    {
     "data": {
      "text/plain": [
       "TFF    1724319\n",
       "TTF     175947\n",
       "TTT      67489\n",
       "TFT      56799\n",
       "Name: cohort_yr2_TF, dtype: int64"
      ]
     },
     "execution_count": 121,
     "metadata": {},
     "output_type": "execute_result"
    }
   ],
   "source": [
    "df.cohort_yr2_TF.value_counts()"
   ]
  },
  {
   "cell_type": "code",
   "execution_count": 123,
   "metadata": {},
   "outputs": [],
   "source": [
    "df_sum_y2=df.groupby(['first_gift_year_year','cohort_yr2_TF']).sum().round(2).reset_index()"
   ]
  },
  {
   "cell_type": "code",
   "execution_count": 122,
   "metadata": {},
   "outputs": [],
   "source": [
    "df_count_y2=df.groupby(['first_gift_year_year','cohort_yr2_TF']).count()['id'].reset_index()"
   ]
  },
  {
   "cell_type": "code",
   "execution_count": 124,
   "metadata": {},
   "outputs": [],
   "source": [
    "df1_y2=pd.DataFrame(df_count_y2)\n",
    "df2_y2=pd.DataFrame(df_sum_y2)"
   ]
  },
  {
   "cell_type": "code",
   "execution_count": 125,
   "metadata": {},
   "outputs": [],
   "source": [
    "df3_y2=df1_y2.merge(df2_y2, left_on=['first_gift_year_year', 'cohort_yr2_TF'], right_on=['first_gift_year_year', 'cohort_yr2_TF'])"
   ]
  },
  {
   "cell_type": "code",
   "execution_count": 126,
   "metadata": {},
   "outputs": [],
   "source": [
    "df3_y2.rename(columns = {'id':'no_donors'}, inplace = True)"
   ]
  },
  {
   "cell_type": "code",
   "execution_count": 127,
   "metadata": {},
   "outputs": [],
   "source": [
    "df3_y2['neg_yr'] = np.where(df3_y2['amount_yr2']== 0, -1, 1)"
   ]
  },
  {
   "cell_type": "code",
   "execution_count": 128,
   "metadata": {},
   "outputs": [],
   "source": [
    "#multiple columns by -1 (if applicable)\n",
    "df4_y2=df3_y2.copy()\n",
    "df4_y2[['no_donors', 'amount_yr0', 'amount_yr1',\n",
    "       'amount_yr2', 'amount_yr3', 'amount_yr4', 'count_yr0', 'count_yr1',\n",
    "       'count_yr2', 'count_yr3', 'count_yr4', 'lapsed_after_first_long',\n",
    "       'lapsed_after_second', 'lapsed_multi_year', 'lapsed_long_multi_year',\n",
    "       'lapsed_key_multi_year', 'lapsed_long', 'cohort_0_first_gift',\n",
    "       'cohort_1_lapsed_after_first', 'cohort_1_second_year',\n",
    "       'cohort_2_lapsed_after_first_long', 'cohort_2_lapsed_after_second',\n",
    "       'cohort_2_multi_year', 'cohort_2_second_with_gap',\n",
    "       'cohort_3_first_gift', 'cohort_3_inconsistent_multi_year',\n",
    "       'cohort_3_key_multi_year', 'cohort_3_lapsed_after_second',\n",
    "       'cohort_3_lapsed_long', 'cohort_3_lapsed_multi_year',\n",
    "       'cohort_4_first_gift', 'cohort_4_inconsistent_multi_year',\n",
    "       'cohort_4_key_multi_year', 'cohort_4_lapsed_after_first',\n",
    "       'cohort_4_lapsed_key_multi_year', 'cohort_4_lapsed_long',\n",
    "       'cohort_4_lapsed_long_multi_year', 'cohort_4_lapsed_multi_year',\n",
    "       'cohort_4_multi_year', 'cohort_4_recovered_multi_year',\n",
    "       'cohort_4_second_year', 'cohort_5_first_gift',\n",
    "       'cohort_5_inconsistent_multi_year', 'cohort_5_key_multi_year',\n",
    "       'cohort_5_lapsed_after_first', 'cohort_5_lapsed_after_first_long',\n",
    "       'cohort_5_lapsed_after_second', 'cohort_5_lapsed_key_multi_year',\n",
    "       'cohort_5_lapsed_long', 'cohort_5_lapsed_long_key_multi_year',\n",
    "       'cohort_5_lapsed_long_multi_year', 'cohort_5_lapsed_multi_year',\n",
    "       'cohort_5_multi_year', 'cohort_5_recovered_key_multi_year',\n",
    "       'cohort_5_recovered_multi_year', 'cohort_5_second_with_gap',\n",
    "       'cohort_5_second_year', 'cohort_6_first_gift',\n",
    "       'cohort_6_key_multi_year', 'cohort_6_lapsed_after_first',\n",
    "       'cohort_6_lapsed_after_first_long', 'cohort_6_lapsed_after_second',\n",
    "       'cohort_6_lapsed_key_multi_year', 'cohort_6_lapsed_long',\n",
    "       'cohort_6_lapsed_long_key_multi_year',\n",
    "       'cohort_6_lapsed_long_multi_year', 'cohort_6_multi_year',\n",
    "       'lapsed_amount_yr0', 'lapsed_amount_yr1', 'lapsed_amount_yr2',\n",
    "       'lapsed_amount_yr3', 'lapsed_amount_yr4', 'upgraded_amount_yr0',\n",
    "       'upgraded_amount_yr1', 'upgraded_amount_yr2', 'upgraded_amount_yr3',\n",
    "       'upgraded_amount_yr4', 'downgraded_amount_yr0', 'downgraded_amount_yr1',\n",
    "       'downgraded_amount_yr2', 'downgraded_amount_yr3',\n",
    "       'downgraded_amount_yr4', 'amount_total', 'count_total']]=df4_y2[['no_donors', 'amount_yr0', 'amount_yr1',\n",
    "       'amount_yr2', 'amount_yr3', 'amount_yr4', 'count_yr0', 'count_yr1',\n",
    "       'count_yr2', 'count_yr3', 'count_yr4', 'lapsed_after_first_long',\n",
    "       'lapsed_after_second', 'lapsed_multi_year', 'lapsed_long_multi_year',\n",
    "       'lapsed_key_multi_year', 'lapsed_long', 'cohort_0_first_gift',\n",
    "       'cohort_1_lapsed_after_first', 'cohort_1_second_year',\n",
    "       'cohort_2_lapsed_after_first_long', 'cohort_2_lapsed_after_second',\n",
    "       'cohort_2_multi_year', 'cohort_2_second_with_gap',\n",
    "       'cohort_3_first_gift', 'cohort_3_inconsistent_multi_year',\n",
    "       'cohort_3_key_multi_year', 'cohort_3_lapsed_after_second',\n",
    "       'cohort_3_lapsed_long', 'cohort_3_lapsed_multi_year',\n",
    "       'cohort_4_first_gift', 'cohort_4_inconsistent_multi_year',\n",
    "       'cohort_4_key_multi_year', 'cohort_4_lapsed_after_first',\n",
    "       'cohort_4_lapsed_key_multi_year', 'cohort_4_lapsed_long',\n",
    "       'cohort_4_lapsed_long_multi_year', 'cohort_4_lapsed_multi_year',\n",
    "       'cohort_4_multi_year', 'cohort_4_recovered_multi_year',\n",
    "       'cohort_4_second_year', 'cohort_5_first_gift',\n",
    "       'cohort_5_inconsistent_multi_year', 'cohort_5_key_multi_year',\n",
    "       'cohort_5_lapsed_after_first', 'cohort_5_lapsed_after_first_long',\n",
    "       'cohort_5_lapsed_after_second', 'cohort_5_lapsed_key_multi_year',\n",
    "       'cohort_5_lapsed_long', 'cohort_5_lapsed_long_key_multi_year',\n",
    "       'cohort_5_lapsed_long_multi_year', 'cohort_5_lapsed_multi_year',\n",
    "       'cohort_5_multi_year', 'cohort_5_recovered_key_multi_year',\n",
    "       'cohort_5_recovered_multi_year', 'cohort_5_second_with_gap',\n",
    "       'cohort_5_second_year', 'cohort_6_first_gift',\n",
    "       'cohort_6_key_multi_year', 'cohort_6_lapsed_after_first',\n",
    "       'cohort_6_lapsed_after_first_long', 'cohort_6_lapsed_after_second',\n",
    "       'cohort_6_lapsed_key_multi_year', 'cohort_6_lapsed_long',\n",
    "       'cohort_6_lapsed_long_key_multi_year',\n",
    "       'cohort_6_lapsed_long_multi_year', 'cohort_6_multi_year',\n",
    "       'lapsed_amount_yr0', 'lapsed_amount_yr1', 'lapsed_amount_yr2',\n",
    "       'lapsed_amount_yr3', 'lapsed_amount_yr4', 'upgraded_amount_yr0',\n",
    "       'upgraded_amount_yr1', 'upgraded_amount_yr2', 'upgraded_amount_yr3',\n",
    "       'upgraded_amount_yr4', 'downgraded_amount_yr0', 'downgraded_amount_yr1',\n",
    "       'downgraded_amount_yr2', 'downgraded_amount_yr3',\n",
    "       'downgraded_amount_yr4', 'amount_total', 'count_total']].multiply(df3_y2[\"neg_yr\"], axis=\"index\")"
   ]
  },
  {
   "cell_type": "code",
   "execution_count": 129,
   "metadata": {},
   "outputs": [],
   "source": [
    "df3_y2.to_csv('yr2.csv')\n",
    "df4_y2.to_csv('yr2_neg.csv')"
   ]
  },
  {
   "cell_type": "markdown",
   "metadata": {},
   "source": [
    "### Create yr3 dataframe"
   ]
  },
  {
   "cell_type": "code",
   "execution_count": 130,
   "metadata": {},
   "outputs": [],
   "source": [
    "df_sum=df.groupby(['first_gift_year_year','cohort_yr3_TF']).sum().round(2).reset_index()\n",
    "df_count=df.groupby(['first_gift_year_year','cohort_yr3_TF']).count()['id'].reset_index()\n",
    "\n",
    "df1=pd.DataFrame(df_count)\n",
    "df2=pd.DataFrame(df_sum)\n",
    "\n",
    "df3_y3=df1.merge(df2, left_on=['first_gift_year_year', 'cohort_yr3_TF'], right_on=['first_gift_year_year', 'cohort_yr3_TF'])\n",
    "\n",
    "df3_y3.rename(columns = {'id':'no_donors'}, inplace = True)\n",
    "\n",
    "df3_y3['neg_yr'] = np.where(df3_y3['amount_yr3']== 0, -1, 1)\n",
    "\n",
    "#multiple columns by -1 (if applicable)\n",
    "df4_y3=df3_y3.copy()\n",
    "\n",
    "df4_y3[['no_donors', 'amount_yr0', 'amount_yr1',\n",
    "       'amount_yr2', 'amount_yr3', 'amount_yr4', 'count_yr0', 'count_yr1',\n",
    "       'count_yr2', 'count_yr3', 'count_yr4', 'lapsed_after_first_long',\n",
    "       'lapsed_after_second', 'lapsed_multi_year', 'lapsed_long_multi_year',\n",
    "       'lapsed_key_multi_year', 'lapsed_long', 'cohort_0_first_gift',\n",
    "       'cohort_1_lapsed_after_first', 'cohort_1_second_year',\n",
    "       'cohort_2_lapsed_after_first_long', 'cohort_2_lapsed_after_second',\n",
    "       'cohort_2_multi_year', 'cohort_2_second_with_gap',\n",
    "       'cohort_3_first_gift', 'cohort_3_inconsistent_multi_year',\n",
    "       'cohort_3_key_multi_year', 'cohort_3_lapsed_after_second',\n",
    "       'cohort_3_lapsed_long', 'cohort_3_lapsed_multi_year',\n",
    "       'cohort_4_first_gift', 'cohort_4_inconsistent_multi_year',\n",
    "       'cohort_4_key_multi_year', 'cohort_4_lapsed_after_first',\n",
    "       'cohort_4_lapsed_key_multi_year', 'cohort_4_lapsed_long',\n",
    "       'cohort_4_lapsed_long_multi_year', 'cohort_4_lapsed_multi_year',\n",
    "       'cohort_4_multi_year', 'cohort_4_recovered_multi_year',\n",
    "       'cohort_4_second_year', 'cohort_5_first_gift',\n",
    "       'cohort_5_inconsistent_multi_year', 'cohort_5_key_multi_year',\n",
    "       'cohort_5_lapsed_after_first', 'cohort_5_lapsed_after_first_long',\n",
    "       'cohort_5_lapsed_after_second', 'cohort_5_lapsed_key_multi_year',\n",
    "       'cohort_5_lapsed_long', 'cohort_5_lapsed_long_key_multi_year',\n",
    "       'cohort_5_lapsed_long_multi_year', 'cohort_5_lapsed_multi_year',\n",
    "       'cohort_5_multi_year', 'cohort_5_recovered_key_multi_year',\n",
    "       'cohort_5_recovered_multi_year', 'cohort_5_second_with_gap',\n",
    "       'cohort_5_second_year', 'cohort_6_first_gift',\n",
    "       'cohort_6_key_multi_year', 'cohort_6_lapsed_after_first',\n",
    "       'cohort_6_lapsed_after_first_long', 'cohort_6_lapsed_after_second',\n",
    "       'cohort_6_lapsed_key_multi_year', 'cohort_6_lapsed_long',\n",
    "       'cohort_6_lapsed_long_key_multi_year',\n",
    "       'cohort_6_lapsed_long_multi_year', 'cohort_6_multi_year',\n",
    "       'lapsed_amount_yr0', 'lapsed_amount_yr1', 'lapsed_amount_yr2',\n",
    "       'lapsed_amount_yr3', 'lapsed_amount_yr4', 'upgraded_amount_yr0',\n",
    "       'upgraded_amount_yr1', 'upgraded_amount_yr2', 'upgraded_amount_yr3',\n",
    "       'upgraded_amount_yr4', 'downgraded_amount_yr0', 'downgraded_amount_yr1',\n",
    "       'downgraded_amount_yr2', 'downgraded_amount_yr3',\n",
    "       'downgraded_amount_yr4', 'amount_total', 'count_total']]=df4_y3[['no_donors', 'amount_yr0', 'amount_yr1',\n",
    "       'amount_yr2', 'amount_yr3', 'amount_yr4', 'count_yr0', 'count_yr1',\n",
    "       'count_yr2', 'count_yr3', 'count_yr4', 'lapsed_after_first_long',\n",
    "       'lapsed_after_second', 'lapsed_multi_year', 'lapsed_long_multi_year',\n",
    "       'lapsed_key_multi_year', 'lapsed_long', 'cohort_0_first_gift',\n",
    "       'cohort_1_lapsed_after_first', 'cohort_1_second_year',\n",
    "       'cohort_2_lapsed_after_first_long', 'cohort_2_lapsed_after_second',\n",
    "       'cohort_2_multi_year', 'cohort_2_second_with_gap',\n",
    "       'cohort_3_first_gift', 'cohort_3_inconsistent_multi_year',\n",
    "       'cohort_3_key_multi_year', 'cohort_3_lapsed_after_second',\n",
    "       'cohort_3_lapsed_long', 'cohort_3_lapsed_multi_year',\n",
    "       'cohort_4_first_gift', 'cohort_4_inconsistent_multi_year',\n",
    "       'cohort_4_key_multi_year', 'cohort_4_lapsed_after_first',\n",
    "       'cohort_4_lapsed_key_multi_year', 'cohort_4_lapsed_long',\n",
    "       'cohort_4_lapsed_long_multi_year', 'cohort_4_lapsed_multi_year',\n",
    "       'cohort_4_multi_year', 'cohort_4_recovered_multi_year',\n",
    "       'cohort_4_second_year', 'cohort_5_first_gift',\n",
    "       'cohort_5_inconsistent_multi_year', 'cohort_5_key_multi_year',\n",
    "       'cohort_5_lapsed_after_first', 'cohort_5_lapsed_after_first_long',\n",
    "       'cohort_5_lapsed_after_second', 'cohort_5_lapsed_key_multi_year',\n",
    "       'cohort_5_lapsed_long', 'cohort_5_lapsed_long_key_multi_year',\n",
    "       'cohort_5_lapsed_long_multi_year', 'cohort_5_lapsed_multi_year',\n",
    "       'cohort_5_multi_year', 'cohort_5_recovered_key_multi_year',\n",
    "       'cohort_5_recovered_multi_year', 'cohort_5_second_with_gap',\n",
    "       'cohort_5_second_year', 'cohort_6_first_gift',\n",
    "       'cohort_6_key_multi_year', 'cohort_6_lapsed_after_first',\n",
    "       'cohort_6_lapsed_after_first_long', 'cohort_6_lapsed_after_second',\n",
    "       'cohort_6_lapsed_key_multi_year', 'cohort_6_lapsed_long',\n",
    "       'cohort_6_lapsed_long_key_multi_year',\n",
    "       'cohort_6_lapsed_long_multi_year', 'cohort_6_multi_year',\n",
    "       'lapsed_amount_yr0', 'lapsed_amount_yr1', 'lapsed_amount_yr2',\n",
    "       'lapsed_amount_yr3', 'lapsed_amount_yr4', 'upgraded_amount_yr0',\n",
    "       'upgraded_amount_yr1', 'upgraded_amount_yr2', 'upgraded_amount_yr3',\n",
    "       'upgraded_amount_yr4', 'downgraded_amount_yr0', 'downgraded_amount_yr1',\n",
    "       'downgraded_amount_yr2', 'downgraded_amount_yr3',\n",
    "       'downgraded_amount_yr4', 'amount_total', 'count_total']].multiply(df4_y3[\"neg_yr\"], axis=\"index\")\n",
    "\n"
   ]
  },
  {
   "cell_type": "code",
   "execution_count": 131,
   "metadata": {},
   "outputs": [],
   "source": [
    "df3_y3.to_csv('yr3.csv')\n",
    "df4_y3.to_csv('yr3_neg.csv')"
   ]
  },
  {
   "cell_type": "markdown",
   "metadata": {},
   "source": [
    "### Create yr4 dataframe"
   ]
  },
  {
   "cell_type": "code",
   "execution_count": 132,
   "metadata": {},
   "outputs": [],
   "source": [
    "df_sum=df.groupby(['first_gift_year_year','cohort_yr4_TF']).sum().round(2).reset_index()\n",
    "df_count=df.groupby(['first_gift_year_year','cohort_yr4_TF']).count()['id'].reset_index()\n",
    "\n",
    "df1=pd.DataFrame(df_count)\n",
    "df2=pd.DataFrame(df_sum)\n",
    "\n",
    "df3_y4=df1.merge(df2, left_on=['first_gift_year_year', 'cohort_yr4_TF'], right_on=['first_gift_year_year', 'cohort_yr4_TF'])\n",
    "\n",
    "df3_y4.rename(columns = {'id':'no_donors'}, inplace = True)\n",
    "\n",
    "df3_y4['neg_yr'] = np.where(df3_y4['amount_yr4']== 0, -1, 1)\n",
    "\n",
    "#multiple columns by -1 (if applicable)\n",
    "df4_y4=df3_y4.copy()\n",
    "\n",
    "df4_y4[['no_donors', 'amount_yr0', 'amount_yr1',\n",
    "       'amount_yr2', 'amount_yr3', 'amount_yr4', 'count_yr0', 'count_yr1',\n",
    "       'count_yr2', 'count_yr3', 'count_yr4', 'lapsed_after_first_long',\n",
    "       'lapsed_after_second', 'lapsed_multi_year', 'lapsed_long_multi_year',\n",
    "       'lapsed_key_multi_year', 'lapsed_long', 'cohort_0_first_gift',\n",
    "       'cohort_1_lapsed_after_first', 'cohort_1_second_year',\n",
    "       'cohort_2_lapsed_after_first_long', 'cohort_2_lapsed_after_second',\n",
    "       'cohort_2_multi_year', 'cohort_2_second_with_gap',\n",
    "       'cohort_3_first_gift', 'cohort_3_inconsistent_multi_year',\n",
    "       'cohort_3_key_multi_year', 'cohort_3_lapsed_after_second',\n",
    "       'cohort_3_lapsed_long', 'cohort_3_lapsed_multi_year',\n",
    "       'cohort_4_first_gift', 'cohort_4_inconsistent_multi_year',\n",
    "       'cohort_4_key_multi_year', 'cohort_4_lapsed_after_first',\n",
    "       'cohort_4_lapsed_key_multi_year', 'cohort_4_lapsed_long',\n",
    "       'cohort_4_lapsed_long_multi_year', 'cohort_4_lapsed_multi_year',\n",
    "       'cohort_4_multi_year', 'cohort_4_recovered_multi_year',\n",
    "       'cohort_4_second_year', 'cohort_5_first_gift',\n",
    "       'cohort_5_inconsistent_multi_year', 'cohort_5_key_multi_year',\n",
    "       'cohort_5_lapsed_after_first', 'cohort_5_lapsed_after_first_long',\n",
    "       'cohort_5_lapsed_after_second', 'cohort_5_lapsed_key_multi_year',\n",
    "       'cohort_5_lapsed_long', 'cohort_5_lapsed_long_key_multi_year',\n",
    "       'cohort_5_lapsed_long_multi_year', 'cohort_5_lapsed_multi_year',\n",
    "       'cohort_5_multi_year', 'cohort_5_recovered_key_multi_year',\n",
    "       'cohort_5_recovered_multi_year', 'cohort_5_second_with_gap',\n",
    "       'cohort_5_second_year', 'cohort_6_first_gift',\n",
    "       'cohort_6_key_multi_year', 'cohort_6_lapsed_after_first',\n",
    "       'cohort_6_lapsed_after_first_long', 'cohort_6_lapsed_after_second',\n",
    "       'cohort_6_lapsed_key_multi_year', 'cohort_6_lapsed_long',\n",
    "       'cohort_6_lapsed_long_key_multi_year',\n",
    "       'cohort_6_lapsed_long_multi_year', 'cohort_6_multi_year',\n",
    "       'lapsed_amount_yr0', 'lapsed_amount_yr1', 'lapsed_amount_yr2',\n",
    "       'lapsed_amount_yr3', 'lapsed_amount_yr4', 'upgraded_amount_yr0',\n",
    "       'upgraded_amount_yr1', 'upgraded_amount_yr2', 'upgraded_amount_yr3',\n",
    "       'upgraded_amount_yr4', 'downgraded_amount_yr0', 'downgraded_amount_yr1',\n",
    "       'downgraded_amount_yr2', 'downgraded_amount_yr3',\n",
    "       'downgraded_amount_yr4', 'amount_total', 'count_total']]=df4_y4[['no_donors', 'amount_yr0', 'amount_yr1',\n",
    "       'amount_yr2', 'amount_yr3', 'amount_yr4', 'count_yr0', 'count_yr1',\n",
    "       'count_yr2', 'count_yr3', 'count_yr4', 'lapsed_after_first_long',\n",
    "       'lapsed_after_second', 'lapsed_multi_year', 'lapsed_long_multi_year',\n",
    "       'lapsed_key_multi_year', 'lapsed_long', 'cohort_0_first_gift',\n",
    "       'cohort_1_lapsed_after_first', 'cohort_1_second_year',\n",
    "       'cohort_2_lapsed_after_first_long', 'cohort_2_lapsed_after_second',\n",
    "       'cohort_2_multi_year', 'cohort_2_second_with_gap',\n",
    "       'cohort_3_first_gift', 'cohort_3_inconsistent_multi_year',\n",
    "       'cohort_3_key_multi_year', 'cohort_3_lapsed_after_second',\n",
    "       'cohort_3_lapsed_long', 'cohort_3_lapsed_multi_year',\n",
    "       'cohort_4_first_gift', 'cohort_4_inconsistent_multi_year',\n",
    "       'cohort_4_key_multi_year', 'cohort_4_lapsed_after_first',\n",
    "       'cohort_4_lapsed_key_multi_year', 'cohort_4_lapsed_long',\n",
    "       'cohort_4_lapsed_long_multi_year', 'cohort_4_lapsed_multi_year',\n",
    "       'cohort_4_multi_year', 'cohort_4_recovered_multi_year',\n",
    "       'cohort_4_second_year', 'cohort_5_first_gift',\n",
    "       'cohort_5_inconsistent_multi_year', 'cohort_5_key_multi_year',\n",
    "       'cohort_5_lapsed_after_first', 'cohort_5_lapsed_after_first_long',\n",
    "       'cohort_5_lapsed_after_second', 'cohort_5_lapsed_key_multi_year',\n",
    "       'cohort_5_lapsed_long', 'cohort_5_lapsed_long_key_multi_year',\n",
    "       'cohort_5_lapsed_long_multi_year', 'cohort_5_lapsed_multi_year',\n",
    "       'cohort_5_multi_year', 'cohort_5_recovered_key_multi_year',\n",
    "       'cohort_5_recovered_multi_year', 'cohort_5_second_with_gap',\n",
    "       'cohort_5_second_year', 'cohort_6_first_gift',\n",
    "       'cohort_6_key_multi_year', 'cohort_6_lapsed_after_first',\n",
    "       'cohort_6_lapsed_after_first_long', 'cohort_6_lapsed_after_second',\n",
    "       'cohort_6_lapsed_key_multi_year', 'cohort_6_lapsed_long',\n",
    "       'cohort_6_lapsed_long_key_multi_year',\n",
    "       'cohort_6_lapsed_long_multi_year', 'cohort_6_multi_year',\n",
    "       'lapsed_amount_yr0', 'lapsed_amount_yr1', 'lapsed_amount_yr2',\n",
    "       'lapsed_amount_yr3', 'lapsed_amount_yr4', 'upgraded_amount_yr0',\n",
    "       'upgraded_amount_yr1', 'upgraded_amount_yr2', 'upgraded_amount_yr3',\n",
    "       'upgraded_amount_yr4', 'downgraded_amount_yr0', 'downgraded_amount_yr1',\n",
    "       'downgraded_amount_yr2', 'downgraded_amount_yr3',\n",
    "       'downgraded_amount_yr4', 'amount_total', 'count_total']].multiply(df4_y4[\"neg_yr\"], axis=\"index\")\n",
    "\n"
   ]
  },
  {
   "cell_type": "code",
   "execution_count": 159,
   "metadata": {},
   "outputs": [
    {
     "data": {
      "text/plain": [
       "Index(['first_gift_year_year', 'cohort_yr4_TF', 'no_donors', 'amount_yr0',\n",
       "       'amount_yr1', 'amount_yr2', 'amount_yr3', 'amount_yr4', 'count_yr0',\n",
       "       'count_yr1', 'count_yr2', 'count_yr3', 'count_yr4',\n",
       "       'lapsed_after_first_long', 'lapsed_after_second', 'lapsed_multi_year',\n",
       "       'lapsed_long_multi_year', 'lapsed_key_multi_year', 'lapsed_long',\n",
       "       'cohort_0_first_gift', 'cohort_1_lapsed_after_first',\n",
       "       'cohort_1_second_year', 'cohort_2_lapsed_after_first_long',\n",
       "       'cohort_2_lapsed_after_second', 'cohort_2_multi_year',\n",
       "       'cohort_2_second_with_gap', 'cohort_3_first_gift',\n",
       "       'cohort_3_inconsistent_multi_year', 'cohort_3_key_multi_year',\n",
       "       'cohort_3_lapsed_after_second', 'cohort_3_lapsed_long',\n",
       "       'cohort_3_lapsed_multi_year', 'cohort_4_first_gift',\n",
       "       'cohort_4_inconsistent_multi_year', 'cohort_4_key_multi_year',\n",
       "       'cohort_4_lapsed_after_first', 'cohort_4_lapsed_key_multi_year',\n",
       "       'cohort_4_lapsed_long', 'cohort_4_lapsed_long_multi_year',\n",
       "       'cohort_4_lapsed_multi_year', 'cohort_4_multi_year',\n",
       "       'cohort_4_recovered_multi_year', 'cohort_4_second_year',\n",
       "       'cohort_5_first_gift', 'cohort_5_inconsistent_multi_year',\n",
       "       'cohort_5_key_multi_year', 'cohort_5_lapsed_after_first',\n",
       "       'cohort_5_lapsed_after_first_long', 'cohort_5_lapsed_after_second',\n",
       "       'cohort_5_lapsed_key_multi_year', 'cohort_5_lapsed_long',\n",
       "       'cohort_5_lapsed_long_key_multi_year',\n",
       "       'cohort_5_lapsed_long_multi_year', 'cohort_5_lapsed_multi_year',\n",
       "       'cohort_5_multi_year', 'cohort_5_recovered_key_multi_year',\n",
       "       'cohort_5_recovered_multi_year', 'cohort_5_second_with_gap',\n",
       "       'cohort_5_second_year', 'cohort_6_first_gift',\n",
       "       'cohort_6_key_multi_year', 'cohort_6_lapsed_after_first',\n",
       "       'cohort_6_lapsed_after_first_long', 'cohort_6_lapsed_after_second',\n",
       "       'cohort_6_lapsed_key_multi_year', 'cohort_6_lapsed_long',\n",
       "       'cohort_6_lapsed_long_key_multi_year',\n",
       "       'cohort_6_lapsed_long_multi_year', 'cohort_6_multi_year',\n",
       "       'lapsed_amount_yr0', 'lapsed_amount_yr1', 'lapsed_amount_yr2',\n",
       "       'lapsed_amount_yr3', 'lapsed_amount_yr4', 'upgraded_amount_yr0',\n",
       "       'upgraded_amount_yr1', 'upgraded_amount_yr2', 'upgraded_amount_yr3',\n",
       "       'upgraded_amount_yr4', 'downgraded_amount_yr0', 'downgraded_amount_yr1',\n",
       "       'downgraded_amount_yr2', 'downgraded_amount_yr3',\n",
       "       'downgraded_amount_yr4', 'amount_total', 'count_total', 'neg_yr'],\n",
       "      dtype='object')"
      ]
     },
     "execution_count": 159,
     "metadata": {},
     "output_type": "execute_result"
    }
   ],
   "source": [
    "df4_y4.columns"
   ]
  },
  {
   "cell_type": "code",
   "execution_count": 134,
   "metadata": {},
   "outputs": [],
   "source": [
    "df3_y4.to_csv('yr4.csv')\n",
    "df4_y4.to_csv('yr4_neg.csv')"
   ]
  },
  {
   "cell_type": "code",
   "execution_count": 149,
   "metadata": {},
   "outputs": [
    {
     "data": {
      "text/plain": [
       "2014    16\n",
       "2013    16\n",
       "2012    10\n",
       "2015     8\n",
       "2016     4\n",
       "2017     2\n",
       "2018     1\n",
       "Name: first_gift_year_year, dtype: int64"
      ]
     },
     "execution_count": 149,
     "metadata": {},
     "output_type": "execute_result"
    }
   ],
   "source": [
    "df4_y4.first_gift_year_year.value_counts()"
   ]
  },
  {
   "cell_type": "code",
   "execution_count": 150,
   "metadata": {},
   "outputs": [
    {
     "data": {
      "text/plain": [
       "2014    16\n",
       "2013    16\n",
       "Name: first_gift_year_year, dtype: int64"
      ]
     },
     "execution_count": 150,
     "metadata": {},
     "output_type": "execute_result"
    }
   ],
   "source": [
    "df5_y4.first_gift_year_year.value_counts()"
   ]
  },
  {
   "cell_type": "code",
   "execution_count": 154,
   "metadata": {},
   "outputs": [
    {
     "data": {
      "text/html": [
       "<div>\n",
       "<style scoped>\n",
       "    .dataframe tbody tr th:only-of-type {\n",
       "        vertical-align: middle;\n",
       "    }\n",
       "\n",
       "    .dataframe tbody tr th {\n",
       "        vertical-align: top;\n",
       "    }\n",
       "\n",
       "    .dataframe thead th {\n",
       "        text-align: right;\n",
       "    }\n",
       "</style>\n",
       "<table border=\"1\" class=\"dataframe\">\n",
       "  <thead>\n",
       "    <tr style=\"text-align: right;\">\n",
       "      <th></th>\n",
       "      <th>first_gift_year_year</th>\n",
       "      <th>cohort_TF</th>\n",
       "      <th>no_donors</th>\n",
       "      <th>amount_yr0</th>\n",
       "      <th>amount_yr1</th>\n",
       "      <th>amount_yr2</th>\n",
       "      <th>amount_yr3</th>\n",
       "      <th>amount_yr4</th>\n",
       "      <th>count_yr0</th>\n",
       "      <th>count_yr1</th>\n",
       "      <th>...</th>\n",
       "      <th>upgraded_amount_yr4</th>\n",
       "      <th>downgraded_amount_yr0</th>\n",
       "      <th>downgraded_amount_yr1</th>\n",
       "      <th>downgraded_amount_yr2</th>\n",
       "      <th>downgraded_amount_yr3</th>\n",
       "      <th>downgraded_amount_yr4</th>\n",
       "      <th>amount_total</th>\n",
       "      <th>count_total</th>\n",
       "      <th>neg_yr</th>\n",
       "      <th>cohort_gift_year</th>\n",
       "    </tr>\n",
       "  </thead>\n",
       "  <tbody>\n",
       "    <tr>\n",
       "      <td>10</td>\n",
       "      <td>2013</td>\n",
       "      <td>T</td>\n",
       "      <td>-227808</td>\n",
       "      <td>-13932981.82</td>\n",
       "      <td>-0.00</td>\n",
       "      <td>-0.00</td>\n",
       "      <td>-0.00</td>\n",
       "      <td>-0.00</td>\n",
       "      <td>-281367</td>\n",
       "      <td>0</td>\n",
       "      <td>...</td>\n",
       "      <td>-0.00</td>\n",
       "      <td>-0.0</td>\n",
       "      <td>-0.00</td>\n",
       "      <td>-0.00</td>\n",
       "      <td>-0.00</td>\n",
       "      <td>-0.00</td>\n",
       "      <td>-13932981.82</td>\n",
       "      <td>-281367</td>\n",
       "      <td>-1</td>\n",
       "      <td>yr4</td>\n",
       "    </tr>\n",
       "    <tr>\n",
       "      <td>11</td>\n",
       "      <td>2013</td>\n",
       "      <td>TFFFT</td>\n",
       "      <td>5010</td>\n",
       "      <td>395075.69</td>\n",
       "      <td>0.00</td>\n",
       "      <td>0.00</td>\n",
       "      <td>0.00</td>\n",
       "      <td>532082.25</td>\n",
       "      <td>7167</td>\n",
       "      <td>0</td>\n",
       "      <td>...</td>\n",
       "      <td>0.00</td>\n",
       "      <td>0.0</td>\n",
       "      <td>0.00</td>\n",
       "      <td>0.00</td>\n",
       "      <td>0.00</td>\n",
       "      <td>0.00</td>\n",
       "      <td>927157.94</td>\n",
       "      <td>15280</td>\n",
       "      <td>1</td>\n",
       "      <td>yr4</td>\n",
       "    </tr>\n",
       "    <tr>\n",
       "      <td>12</td>\n",
       "      <td>2013</td>\n",
       "      <td>TFFT</td>\n",
       "      <td>-6773</td>\n",
       "      <td>-538437.10</td>\n",
       "      <td>-0.00</td>\n",
       "      <td>-0.00</td>\n",
       "      <td>-611542.04</td>\n",
       "      <td>-0.00</td>\n",
       "      <td>-9340</td>\n",
       "      <td>0</td>\n",
       "      <td>...</td>\n",
       "      <td>-0.00</td>\n",
       "      <td>-0.0</td>\n",
       "      <td>-0.00</td>\n",
       "      <td>-0.00</td>\n",
       "      <td>-0.00</td>\n",
       "      <td>-0.00</td>\n",
       "      <td>-1149979.14</td>\n",
       "      <td>-18286</td>\n",
       "      <td>-1</td>\n",
       "      <td>yr4</td>\n",
       "    </tr>\n",
       "    <tr>\n",
       "      <td>13</td>\n",
       "      <td>2013</td>\n",
       "      <td>TFFTT</td>\n",
       "      <td>2195</td>\n",
       "      <td>227617.39</td>\n",
       "      <td>0.00</td>\n",
       "      <td>0.00</td>\n",
       "      <td>386284.93</td>\n",
       "      <td>457401.21</td>\n",
       "      <td>3783</td>\n",
       "      <td>0</td>\n",
       "      <td>...</td>\n",
       "      <td>211357.60</td>\n",
       "      <td>0.0</td>\n",
       "      <td>0.00</td>\n",
       "      <td>0.00</td>\n",
       "      <td>0.00</td>\n",
       "      <td>140241.32</td>\n",
       "      <td>1071303.53</td>\n",
       "      <td>17888</td>\n",
       "      <td>1</td>\n",
       "      <td>yr4</td>\n",
       "    </tr>\n",
       "    <tr>\n",
       "      <td>14</td>\n",
       "      <td>2013</td>\n",
       "      <td>TFT</td>\n",
       "      <td>-10390</td>\n",
       "      <td>-1631608.53</td>\n",
       "      <td>-0.00</td>\n",
       "      <td>-1074627.91</td>\n",
       "      <td>-0.00</td>\n",
       "      <td>-0.00</td>\n",
       "      <td>-15530</td>\n",
       "      <td>0</td>\n",
       "      <td>...</td>\n",
       "      <td>-0.00</td>\n",
       "      <td>-0.0</td>\n",
       "      <td>-0.00</td>\n",
       "      <td>-0.00</td>\n",
       "      <td>-0.00</td>\n",
       "      <td>-0.00</td>\n",
       "      <td>-2706236.44</td>\n",
       "      <td>-29527</td>\n",
       "      <td>-1</td>\n",
       "      <td>yr4</td>\n",
       "    </tr>\n",
       "    <tr>\n",
       "      <td>15</td>\n",
       "      <td>2013</td>\n",
       "      <td>TFTFT</td>\n",
       "      <td>1453</td>\n",
       "      <td>146542.84</td>\n",
       "      <td>0.00</td>\n",
       "      <td>167583.92</td>\n",
       "      <td>0.00</td>\n",
       "      <td>184624.84</td>\n",
       "      <td>2475</td>\n",
       "      <td>0</td>\n",
       "      <td>...</td>\n",
       "      <td>0.00</td>\n",
       "      <td>0.0</td>\n",
       "      <td>0.00</td>\n",
       "      <td>0.00</td>\n",
       "      <td>0.00</td>\n",
       "      <td>0.00</td>\n",
       "      <td>498751.60</td>\n",
       "      <td>7744</td>\n",
       "      <td>1</td>\n",
       "      <td>yr4</td>\n",
       "    </tr>\n",
       "    <tr>\n",
       "      <td>16</td>\n",
       "      <td>2013</td>\n",
       "      <td>TFTT</td>\n",
       "      <td>-2412</td>\n",
       "      <td>-246634.92</td>\n",
       "      <td>-0.00</td>\n",
       "      <td>-315060.81</td>\n",
       "      <td>-293009.90</td>\n",
       "      <td>-0.00</td>\n",
       "      <td>-3985</td>\n",
       "      <td>0</td>\n",
       "      <td>...</td>\n",
       "      <td>-0.00</td>\n",
       "      <td>-0.0</td>\n",
       "      <td>-0.00</td>\n",
       "      <td>-0.00</td>\n",
       "      <td>-130538.48</td>\n",
       "      <td>-0.00</td>\n",
       "      <td>-854705.63</td>\n",
       "      <td>-11977</td>\n",
       "      <td>-1</td>\n",
       "      <td>yr4</td>\n",
       "    </tr>\n",
       "    <tr>\n",
       "      <td>17</td>\n",
       "      <td>2013</td>\n",
       "      <td>TFTTT</td>\n",
       "      <td>1898</td>\n",
       "      <td>273684.57</td>\n",
       "      <td>0.00</td>\n",
       "      <td>390220.25</td>\n",
       "      <td>489484.41</td>\n",
       "      <td>540791.94</td>\n",
       "      <td>3968</td>\n",
       "      <td>0</td>\n",
       "      <td>...</td>\n",
       "      <td>212530.84</td>\n",
       "      <td>0.0</td>\n",
       "      <td>0.00</td>\n",
       "      <td>0.00</td>\n",
       "      <td>143121.95</td>\n",
       "      <td>161223.31</td>\n",
       "      <td>1694181.17</td>\n",
       "      <td>22186</td>\n",
       "      <td>1</td>\n",
       "      <td>yr4</td>\n",
       "    </tr>\n",
       "    <tr>\n",
       "      <td>18</td>\n",
       "      <td>2013</td>\n",
       "      <td>TT</td>\n",
       "      <td>-28817</td>\n",
       "      <td>-3655885.41</td>\n",
       "      <td>-3068061.26</td>\n",
       "      <td>-0.00</td>\n",
       "      <td>-0.00</td>\n",
       "      <td>-0.00</td>\n",
       "      <td>-64748</td>\n",
       "      <td>-51534</td>\n",
       "      <td>...</td>\n",
       "      <td>-0.00</td>\n",
       "      <td>-0.0</td>\n",
       "      <td>-1821037.54</td>\n",
       "      <td>-0.00</td>\n",
       "      <td>-0.00</td>\n",
       "      <td>-0.00</td>\n",
       "      <td>-6723946.67</td>\n",
       "      <td>-116282</td>\n",
       "      <td>-1</td>\n",
       "      <td>yr4</td>\n",
       "    </tr>\n",
       "    <tr>\n",
       "      <td>19</td>\n",
       "      <td>2013</td>\n",
       "      <td>TTFFT</td>\n",
       "      <td>2196</td>\n",
       "      <td>278396.70</td>\n",
       "      <td>313141.03</td>\n",
       "      <td>0.00</td>\n",
       "      <td>0.00</td>\n",
       "      <td>285465.61</td>\n",
       "      <td>6416</td>\n",
       "      <td>4953</td>\n",
       "      <td>...</td>\n",
       "      <td>0.00</td>\n",
       "      <td>0.0</td>\n",
       "      <td>118885.87</td>\n",
       "      <td>0.00</td>\n",
       "      <td>0.00</td>\n",
       "      <td>0.00</td>\n",
       "      <td>877003.34</td>\n",
       "      <td>15931</td>\n",
       "      <td>1</td>\n",
       "      <td>yr4</td>\n",
       "    </tr>\n",
       "    <tr>\n",
       "      <td>20</td>\n",
       "      <td>2013</td>\n",
       "      <td>TTFT</td>\n",
       "      <td>-3075</td>\n",
       "      <td>-404406.92</td>\n",
       "      <td>-444217.50</td>\n",
       "      <td>-0.00</td>\n",
       "      <td>-370153.49</td>\n",
       "      <td>-0.00</td>\n",
       "      <td>-6844</td>\n",
       "      <td>-6236</td>\n",
       "      <td>...</td>\n",
       "      <td>-0.00</td>\n",
       "      <td>-0.0</td>\n",
       "      <td>-172874.89</td>\n",
       "      <td>-0.00</td>\n",
       "      <td>-0.00</td>\n",
       "      <td>-0.00</td>\n",
       "      <td>-1218777.91</td>\n",
       "      <td>-17772</td>\n",
       "      <td>-1</td>\n",
       "      <td>yr4</td>\n",
       "    </tr>\n",
       "    <tr>\n",
       "      <td>21</td>\n",
       "      <td>2013</td>\n",
       "      <td>TTFTT</td>\n",
       "      <td>1962</td>\n",
       "      <td>335331.87</td>\n",
       "      <td>371148.57</td>\n",
       "      <td>0.00</td>\n",
       "      <td>449079.65</td>\n",
       "      <td>473806.14</td>\n",
       "      <td>5221</td>\n",
       "      <td>5439</td>\n",
       "      <td>...</td>\n",
       "      <td>204404.59</td>\n",
       "      <td>0.0</td>\n",
       "      <td>117682.60</td>\n",
       "      <td>0.00</td>\n",
       "      <td>0.00</td>\n",
       "      <td>179678.10</td>\n",
       "      <td>1629366.23</td>\n",
       "      <td>23676</td>\n",
       "      <td>1</td>\n",
       "      <td>yr4</td>\n",
       "    </tr>\n",
       "    <tr>\n",
       "      <td>22</td>\n",
       "      <td>2013</td>\n",
       "      <td>TTT</td>\n",
       "      <td>-9423</td>\n",
       "      <td>-1528295.34</td>\n",
       "      <td>-1641129.66</td>\n",
       "      <td>-1231026.10</td>\n",
       "      <td>-0.00</td>\n",
       "      <td>-0.00</td>\n",
       "      <td>-26455</td>\n",
       "      <td>-29234</td>\n",
       "      <td>...</td>\n",
       "      <td>-0.00</td>\n",
       "      <td>-0.0</td>\n",
       "      <td>-634012.68</td>\n",
       "      <td>-817922.97</td>\n",
       "      <td>-0.00</td>\n",
       "      <td>-0.00</td>\n",
       "      <td>-4400451.10</td>\n",
       "      <td>-74862</td>\n",
       "      <td>-1</td>\n",
       "      <td>yr4</td>\n",
       "    </tr>\n",
       "    <tr>\n",
       "      <td>23</td>\n",
       "      <td>2013</td>\n",
       "      <td>TTTFT</td>\n",
       "      <td>2337</td>\n",
       "      <td>482861.09</td>\n",
       "      <td>541433.60</td>\n",
       "      <td>523237.00</td>\n",
       "      <td>0.00</td>\n",
       "      <td>511597.68</td>\n",
       "      <td>10972</td>\n",
       "      <td>10517</td>\n",
       "      <td>...</td>\n",
       "      <td>0.00</td>\n",
       "      <td>0.0</td>\n",
       "      <td>183961.86</td>\n",
       "      <td>246790.49</td>\n",
       "      <td>0.00</td>\n",
       "      <td>0.00</td>\n",
       "      <td>2059129.37</td>\n",
       "      <td>35031</td>\n",
       "      <td>1</td>\n",
       "      <td>yr4</td>\n",
       "    </tr>\n",
       "    <tr>\n",
       "      <td>24</td>\n",
       "      <td>2013</td>\n",
       "      <td>TTTT</td>\n",
       "      <td>-4442</td>\n",
       "      <td>-1124336.20</td>\n",
       "      <td>-1288298.15</td>\n",
       "      <td>-1121177.56</td>\n",
       "      <td>-871183.11</td>\n",
       "      <td>-0.00</td>\n",
       "      <td>-18751</td>\n",
       "      <td>-24645</td>\n",
       "      <td>...</td>\n",
       "      <td>-0.00</td>\n",
       "      <td>-0.0</td>\n",
       "      <td>-447301.12</td>\n",
       "      <td>-552482.36</td>\n",
       "      <td>-535795.53</td>\n",
       "      <td>-0.00</td>\n",
       "      <td>-4404995.02</td>\n",
       "      <td>-70376</td>\n",
       "      <td>-1</td>\n",
       "      <td>yr4</td>\n",
       "    </tr>\n",
       "    <tr>\n",
       "      <td>25</td>\n",
       "      <td>2013</td>\n",
       "      <td>TTTTT</td>\n",
       "      <td>9878</td>\n",
       "      <td>5209667.21</td>\n",
       "      <td>7600274.21</td>\n",
       "      <td>7764373.84</td>\n",
       "      <td>7927532.12</td>\n",
       "      <td>8169985.55</td>\n",
       "      <td>106045</td>\n",
       "      <td>151064</td>\n",
       "      <td>...</td>\n",
       "      <td>2384702.55</td>\n",
       "      <td>0.0</td>\n",
       "      <td>996240.59</td>\n",
       "      <td>2169631.03</td>\n",
       "      <td>2003996.92</td>\n",
       "      <td>2142249.12</td>\n",
       "      <td>36671832.93</td>\n",
       "      <td>593972</td>\n",
       "      <td>1</td>\n",
       "      <td>yr4</td>\n",
       "    </tr>\n",
       "    <tr>\n",
       "      <td>26</td>\n",
       "      <td>2014</td>\n",
       "      <td>T</td>\n",
       "      <td>-246098</td>\n",
       "      <td>-16981113.18</td>\n",
       "      <td>-0.00</td>\n",
       "      <td>-0.00</td>\n",
       "      <td>-0.00</td>\n",
       "      <td>-0.00</td>\n",
       "      <td>-299265</td>\n",
       "      <td>0</td>\n",
       "      <td>...</td>\n",
       "      <td>-0.00</td>\n",
       "      <td>-0.0</td>\n",
       "      <td>-0.00</td>\n",
       "      <td>-0.00</td>\n",
       "      <td>-0.00</td>\n",
       "      <td>-0.00</td>\n",
       "      <td>-16981113.18</td>\n",
       "      <td>-299265</td>\n",
       "      <td>-1</td>\n",
       "      <td>yr4</td>\n",
       "    </tr>\n",
       "    <tr>\n",
       "      <td>27</td>\n",
       "      <td>2014</td>\n",
       "      <td>TFFFT</td>\n",
       "      <td>1902</td>\n",
       "      <td>160859.77</td>\n",
       "      <td>0.00</td>\n",
       "      <td>0.00</td>\n",
       "      <td>0.00</td>\n",
       "      <td>158731.79</td>\n",
       "      <td>2760</td>\n",
       "      <td>0</td>\n",
       "      <td>...</td>\n",
       "      <td>0.00</td>\n",
       "      <td>0.0</td>\n",
       "      <td>0.00</td>\n",
       "      <td>0.00</td>\n",
       "      <td>0.00</td>\n",
       "      <td>0.00</td>\n",
       "      <td>160859.77</td>\n",
       "      <td>2760</td>\n",
       "      <td>1</td>\n",
       "      <td>yr4</td>\n",
       "    </tr>\n",
       "    <tr>\n",
       "      <td>28</td>\n",
       "      <td>2014</td>\n",
       "      <td>TFFT</td>\n",
       "      <td>-7307</td>\n",
       "      <td>-629120.57</td>\n",
       "      <td>-0.00</td>\n",
       "      <td>-0.00</td>\n",
       "      <td>-681313.05</td>\n",
       "      <td>-0.00</td>\n",
       "      <td>-10523</td>\n",
       "      <td>0</td>\n",
       "      <td>...</td>\n",
       "      <td>-0.00</td>\n",
       "      <td>-0.0</td>\n",
       "      <td>-0.00</td>\n",
       "      <td>-0.00</td>\n",
       "      <td>-0.00</td>\n",
       "      <td>-0.00</td>\n",
       "      <td>-1310433.62</td>\n",
       "      <td>-21194</td>\n",
       "      <td>-1</td>\n",
       "      <td>yr4</td>\n",
       "    </tr>\n",
       "    <tr>\n",
       "      <td>29</td>\n",
       "      <td>2014</td>\n",
       "      <td>TFFTT</td>\n",
       "      <td>913</td>\n",
       "      <td>102649.51</td>\n",
       "      <td>0.00</td>\n",
       "      <td>0.00</td>\n",
       "      <td>172007.22</td>\n",
       "      <td>119255.53</td>\n",
       "      <td>1504</td>\n",
       "      <td>0</td>\n",
       "      <td>...</td>\n",
       "      <td>39165.29</td>\n",
       "      <td>0.0</td>\n",
       "      <td>0.00</td>\n",
       "      <td>0.00</td>\n",
       "      <td>0.00</td>\n",
       "      <td>91916.98</td>\n",
       "      <td>274656.73</td>\n",
       "      <td>4187</td>\n",
       "      <td>1</td>\n",
       "      <td>yr4</td>\n",
       "    </tr>\n",
       "    <tr>\n",
       "      <td>30</td>\n",
       "      <td>2014</td>\n",
       "      <td>TFT</td>\n",
       "      <td>-11268</td>\n",
       "      <td>-990621.21</td>\n",
       "      <td>-0.00</td>\n",
       "      <td>-983826.66</td>\n",
       "      <td>-0.00</td>\n",
       "      <td>-0.00</td>\n",
       "      <td>-16513</td>\n",
       "      <td>0</td>\n",
       "      <td>...</td>\n",
       "      <td>-0.00</td>\n",
       "      <td>-0.0</td>\n",
       "      <td>-0.00</td>\n",
       "      <td>-0.00</td>\n",
       "      <td>-0.00</td>\n",
       "      <td>-0.00</td>\n",
       "      <td>-1974447.87</td>\n",
       "      <td>-31473</td>\n",
       "      <td>-1</td>\n",
       "      <td>yr4</td>\n",
       "    </tr>\n",
       "    <tr>\n",
       "      <td>31</td>\n",
       "      <td>2014</td>\n",
       "      <td>TFTFT</td>\n",
       "      <td>582</td>\n",
       "      <td>65597.00</td>\n",
       "      <td>0.00</td>\n",
       "      <td>76021.53</td>\n",
       "      <td>0.00</td>\n",
       "      <td>60325.99</td>\n",
       "      <td>1020</td>\n",
       "      <td>0</td>\n",
       "      <td>...</td>\n",
       "      <td>0.00</td>\n",
       "      <td>0.0</td>\n",
       "      <td>0.00</td>\n",
       "      <td>0.00</td>\n",
       "      <td>0.00</td>\n",
       "      <td>0.00</td>\n",
       "      <td>141618.53</td>\n",
       "      <td>1963</td>\n",
       "      <td>1</td>\n",
       "      <td>yr4</td>\n",
       "    </tr>\n",
       "    <tr>\n",
       "      <td>32</td>\n",
       "      <td>2014</td>\n",
       "      <td>TFTT</td>\n",
       "      <td>-3099</td>\n",
       "      <td>-334480.10</td>\n",
       "      <td>-0.00</td>\n",
       "      <td>-461363.33</td>\n",
       "      <td>-443525.84</td>\n",
       "      <td>-0.00</td>\n",
       "      <td>-5281</td>\n",
       "      <td>0</td>\n",
       "      <td>...</td>\n",
       "      <td>-0.00</td>\n",
       "      <td>-0.0</td>\n",
       "      <td>-0.00</td>\n",
       "      <td>-0.00</td>\n",
       "      <td>-197636.46</td>\n",
       "      <td>-0.00</td>\n",
       "      <td>-1239369.27</td>\n",
       "      <td>-17277</td>\n",
       "      <td>-1</td>\n",
       "      <td>yr4</td>\n",
       "    </tr>\n",
       "    <tr>\n",
       "      <td>33</td>\n",
       "      <td>2014</td>\n",
       "      <td>TFTTT</td>\n",
       "      <td>837</td>\n",
       "      <td>120259.98</td>\n",
       "      <td>0.00</td>\n",
       "      <td>199175.58</td>\n",
       "      <td>309941.44</td>\n",
       "      <td>152550.39</td>\n",
       "      <td>1997</td>\n",
       "      <td>0</td>\n",
       "      <td>...</td>\n",
       "      <td>31981.83</td>\n",
       "      <td>0.0</td>\n",
       "      <td>0.00</td>\n",
       "      <td>0.00</td>\n",
       "      <td>56074.56</td>\n",
       "      <td>189372.88</td>\n",
       "      <td>629377.00</td>\n",
       "      <td>9130</td>\n",
       "      <td>1</td>\n",
       "      <td>yr4</td>\n",
       "    </tr>\n",
       "    <tr>\n",
       "      <td>34</td>\n",
       "      <td>2014</td>\n",
       "      <td>TT</td>\n",
       "      <td>-27958</td>\n",
       "      <td>-2947567.37</td>\n",
       "      <td>-2777388.48</td>\n",
       "      <td>-0.00</td>\n",
       "      <td>-0.00</td>\n",
       "      <td>-0.00</td>\n",
       "      <td>-51345</td>\n",
       "      <td>-44755</td>\n",
       "      <td>...</td>\n",
       "      <td>-0.00</td>\n",
       "      <td>-0.0</td>\n",
       "      <td>-1304874.71</td>\n",
       "      <td>-0.00</td>\n",
       "      <td>-0.00</td>\n",
       "      <td>-0.00</td>\n",
       "      <td>-5724955.85</td>\n",
       "      <td>-96100</td>\n",
       "      <td>-1</td>\n",
       "      <td>yr4</td>\n",
       "    </tr>\n",
       "    <tr>\n",
       "      <td>35</td>\n",
       "      <td>2014</td>\n",
       "      <td>TTFFT</td>\n",
       "      <td>797</td>\n",
       "      <td>98242.54</td>\n",
       "      <td>89503.74</td>\n",
       "      <td>0.00</td>\n",
       "      <td>0.00</td>\n",
       "      <td>75016.52</td>\n",
       "      <td>1845</td>\n",
       "      <td>1454</td>\n",
       "      <td>...</td>\n",
       "      <td>0.00</td>\n",
       "      <td>0.0</td>\n",
       "      <td>42051.95</td>\n",
       "      <td>0.00</td>\n",
       "      <td>0.00</td>\n",
       "      <td>0.00</td>\n",
       "      <td>187746.28</td>\n",
       "      <td>3299</td>\n",
       "      <td>1</td>\n",
       "      <td>yr4</td>\n",
       "    </tr>\n",
       "    <tr>\n",
       "      <td>36</td>\n",
       "      <td>2014</td>\n",
       "      <td>TTFT</td>\n",
       "      <td>-3320</td>\n",
       "      <td>-452382.87</td>\n",
       "      <td>-449330.06</td>\n",
       "      <td>-0.00</td>\n",
       "      <td>-418405.06</td>\n",
       "      <td>-0.00</td>\n",
       "      <td>-7324</td>\n",
       "      <td>-7181</td>\n",
       "      <td>...</td>\n",
       "      <td>-0.00</td>\n",
       "      <td>-0.0</td>\n",
       "      <td>-186719.43</td>\n",
       "      <td>-0.00</td>\n",
       "      <td>-0.00</td>\n",
       "      <td>-0.00</td>\n",
       "      <td>-1320117.99</td>\n",
       "      <td>-20534</td>\n",
       "      <td>-1</td>\n",
       "      <td>yr4</td>\n",
       "    </tr>\n",
       "    <tr>\n",
       "      <td>37</td>\n",
       "      <td>2014</td>\n",
       "      <td>TTFTT</td>\n",
       "      <td>853</td>\n",
       "      <td>135733.71</td>\n",
       "      <td>134335.63</td>\n",
       "      <td>0.00</td>\n",
       "      <td>192499.76</td>\n",
       "      <td>131431.80</td>\n",
       "      <td>2571</td>\n",
       "      <td>2292</td>\n",
       "      <td>...</td>\n",
       "      <td>40818.83</td>\n",
       "      <td>0.0</td>\n",
       "      <td>59899.84</td>\n",
       "      <td>0.00</td>\n",
       "      <td>0.00</td>\n",
       "      <td>101886.79</td>\n",
       "      <td>462569.10</td>\n",
       "      <td>7594</td>\n",
       "      <td>1</td>\n",
       "      <td>yr4</td>\n",
       "    </tr>\n",
       "    <tr>\n",
       "      <td>38</td>\n",
       "      <td>2014</td>\n",
       "      <td>TTT</td>\n",
       "      <td>-7150</td>\n",
       "      <td>-1047158.53</td>\n",
       "      <td>-1241530.56</td>\n",
       "      <td>-976723.93</td>\n",
       "      <td>-0.00</td>\n",
       "      <td>-0.00</td>\n",
       "      <td>-18041</td>\n",
       "      <td>-19252</td>\n",
       "      <td>...</td>\n",
       "      <td>-0.00</td>\n",
       "      <td>-0.0</td>\n",
       "      <td>-386271.19</td>\n",
       "      <td>-602810.93</td>\n",
       "      <td>-0.00</td>\n",
       "      <td>-0.00</td>\n",
       "      <td>-3265413.02</td>\n",
       "      <td>-50347</td>\n",
       "      <td>-1</td>\n",
       "      <td>yr4</td>\n",
       "    </tr>\n",
       "    <tr>\n",
       "      <td>39</td>\n",
       "      <td>2014</td>\n",
       "      <td>TTTFT</td>\n",
       "      <td>628</td>\n",
       "      <td>80485.37</td>\n",
       "      <td>115571.08</td>\n",
       "      <td>104863.38</td>\n",
       "      <td>0.00</td>\n",
       "      <td>66830.01</td>\n",
       "      <td>1678</td>\n",
       "      <td>1663</td>\n",
       "      <td>...</td>\n",
       "      <td>0.00</td>\n",
       "      <td>0.0</td>\n",
       "      <td>24062.68</td>\n",
       "      <td>55397.78</td>\n",
       "      <td>0.00</td>\n",
       "      <td>0.00</td>\n",
       "      <td>300919.83</td>\n",
       "      <td>4808</td>\n",
       "      <td>1</td>\n",
       "      <td>yr4</td>\n",
       "    </tr>\n",
       "    <tr>\n",
       "      <td>40</td>\n",
       "      <td>2014</td>\n",
       "      <td>TTTT</td>\n",
       "      <td>-4741</td>\n",
       "      <td>-1015472.08</td>\n",
       "      <td>-1249069.73</td>\n",
       "      <td>-1315243.96</td>\n",
       "      <td>-1054208.58</td>\n",
       "      <td>-0.00</td>\n",
       "      <td>-17831</td>\n",
       "      <td>-20195</td>\n",
       "      <td>...</td>\n",
       "      <td>-0.00</td>\n",
       "      <td>-0.0</td>\n",
       "      <td>-360760.03</td>\n",
       "      <td>-471263.81</td>\n",
       "      <td>-622569.85</td>\n",
       "      <td>-0.00</td>\n",
       "      <td>-4633994.35</td>\n",
       "      <td>-67665</td>\n",
       "      <td>-1</td>\n",
       "      <td>yr4</td>\n",
       "    </tr>\n",
       "    <tr>\n",
       "      <td>41</td>\n",
       "      <td>2014</td>\n",
       "      <td>TTTTT</td>\n",
       "      <td>3220</td>\n",
       "      <td>1012538.73</td>\n",
       "      <td>1689167.98</td>\n",
       "      <td>2320490.40</td>\n",
       "      <td>2546954.07</td>\n",
       "      <td>1110499.77</td>\n",
       "      <td>21849</td>\n",
       "      <td>34236</td>\n",
       "      <td>...</td>\n",
       "      <td>182109.72</td>\n",
       "      <td>0.0</td>\n",
       "      <td>269022.32</td>\n",
       "      <td>488784.96</td>\n",
       "      <td>634684.70</td>\n",
       "      <td>1618564.02</td>\n",
       "      <td>7569151.18</td>\n",
       "      <td>130464</td>\n",
       "      <td>1</td>\n",
       "      <td>yr4</td>\n",
       "    </tr>\n",
       "  </tbody>\n",
       "</table>\n",
       "<p>32 rows × 88 columns</p>\n",
       "</div>"
      ],
      "text/plain": [
       "    first_gift_year_year cohort_TF  no_donors   amount_yr0  amount_yr1  \\\n",
       "10                  2013         T    -227808 -13932981.82       -0.00   \n",
       "11                  2013     TFFFT       5010    395075.69        0.00   \n",
       "12                  2013      TFFT      -6773   -538437.10       -0.00   \n",
       "13                  2013     TFFTT       2195    227617.39        0.00   \n",
       "14                  2013       TFT     -10390  -1631608.53       -0.00   \n",
       "15                  2013     TFTFT       1453    146542.84        0.00   \n",
       "16                  2013      TFTT      -2412   -246634.92       -0.00   \n",
       "17                  2013     TFTTT       1898    273684.57        0.00   \n",
       "18                  2013        TT     -28817  -3655885.41 -3068061.26   \n",
       "19                  2013     TTFFT       2196    278396.70   313141.03   \n",
       "20                  2013      TTFT      -3075   -404406.92  -444217.50   \n",
       "21                  2013     TTFTT       1962    335331.87   371148.57   \n",
       "22                  2013       TTT      -9423  -1528295.34 -1641129.66   \n",
       "23                  2013     TTTFT       2337    482861.09   541433.60   \n",
       "24                  2013      TTTT      -4442  -1124336.20 -1288298.15   \n",
       "25                  2013     TTTTT       9878   5209667.21  7600274.21   \n",
       "26                  2014         T    -246098 -16981113.18       -0.00   \n",
       "27                  2014     TFFFT       1902    160859.77        0.00   \n",
       "28                  2014      TFFT      -7307   -629120.57       -0.00   \n",
       "29                  2014     TFFTT        913    102649.51        0.00   \n",
       "30                  2014       TFT     -11268   -990621.21       -0.00   \n",
       "31                  2014     TFTFT        582     65597.00        0.00   \n",
       "32                  2014      TFTT      -3099   -334480.10       -0.00   \n",
       "33                  2014     TFTTT        837    120259.98        0.00   \n",
       "34                  2014        TT     -27958  -2947567.37 -2777388.48   \n",
       "35                  2014     TTFFT        797     98242.54    89503.74   \n",
       "36                  2014      TTFT      -3320   -452382.87  -449330.06   \n",
       "37                  2014     TTFTT        853    135733.71   134335.63   \n",
       "38                  2014       TTT      -7150  -1047158.53 -1241530.56   \n",
       "39                  2014     TTTFT        628     80485.37   115571.08   \n",
       "40                  2014      TTTT      -4741  -1015472.08 -1249069.73   \n",
       "41                  2014     TTTTT       3220   1012538.73  1689167.98   \n",
       "\n",
       "    amount_yr2  amount_yr3  amount_yr4  count_yr0  count_yr1  ...  \\\n",
       "10       -0.00       -0.00       -0.00    -281367          0  ...   \n",
       "11        0.00        0.00   532082.25       7167          0  ...   \n",
       "12       -0.00  -611542.04       -0.00      -9340          0  ...   \n",
       "13        0.00   386284.93   457401.21       3783          0  ...   \n",
       "14 -1074627.91       -0.00       -0.00     -15530          0  ...   \n",
       "15   167583.92        0.00   184624.84       2475          0  ...   \n",
       "16  -315060.81  -293009.90       -0.00      -3985          0  ...   \n",
       "17   390220.25   489484.41   540791.94       3968          0  ...   \n",
       "18       -0.00       -0.00       -0.00     -64748     -51534  ...   \n",
       "19        0.00        0.00   285465.61       6416       4953  ...   \n",
       "20       -0.00  -370153.49       -0.00      -6844      -6236  ...   \n",
       "21        0.00   449079.65   473806.14       5221       5439  ...   \n",
       "22 -1231026.10       -0.00       -0.00     -26455     -29234  ...   \n",
       "23   523237.00        0.00   511597.68      10972      10517  ...   \n",
       "24 -1121177.56  -871183.11       -0.00     -18751     -24645  ...   \n",
       "25  7764373.84  7927532.12  8169985.55     106045     151064  ...   \n",
       "26       -0.00       -0.00       -0.00    -299265          0  ...   \n",
       "27        0.00        0.00   158731.79       2760          0  ...   \n",
       "28       -0.00  -681313.05       -0.00     -10523          0  ...   \n",
       "29        0.00   172007.22   119255.53       1504          0  ...   \n",
       "30  -983826.66       -0.00       -0.00     -16513          0  ...   \n",
       "31    76021.53        0.00    60325.99       1020          0  ...   \n",
       "32  -461363.33  -443525.84       -0.00      -5281          0  ...   \n",
       "33   199175.58   309941.44   152550.39       1997          0  ...   \n",
       "34       -0.00       -0.00       -0.00     -51345     -44755  ...   \n",
       "35        0.00        0.00    75016.52       1845       1454  ...   \n",
       "36       -0.00  -418405.06       -0.00      -7324      -7181  ...   \n",
       "37        0.00   192499.76   131431.80       2571       2292  ...   \n",
       "38  -976723.93       -0.00       -0.00     -18041     -19252  ...   \n",
       "39   104863.38        0.00    66830.01       1678       1663  ...   \n",
       "40 -1315243.96 -1054208.58       -0.00     -17831     -20195  ...   \n",
       "41  2320490.40  2546954.07  1110499.77      21849      34236  ...   \n",
       "\n",
       "    upgraded_amount_yr4  downgraded_amount_yr0  downgraded_amount_yr1  \\\n",
       "10                -0.00                   -0.0                  -0.00   \n",
       "11                 0.00                    0.0                   0.00   \n",
       "12                -0.00                   -0.0                  -0.00   \n",
       "13            211357.60                    0.0                   0.00   \n",
       "14                -0.00                   -0.0                  -0.00   \n",
       "15                 0.00                    0.0                   0.00   \n",
       "16                -0.00                   -0.0                  -0.00   \n",
       "17            212530.84                    0.0                   0.00   \n",
       "18                -0.00                   -0.0            -1821037.54   \n",
       "19                 0.00                    0.0              118885.87   \n",
       "20                -0.00                   -0.0             -172874.89   \n",
       "21            204404.59                    0.0              117682.60   \n",
       "22                -0.00                   -0.0             -634012.68   \n",
       "23                 0.00                    0.0              183961.86   \n",
       "24                -0.00                   -0.0             -447301.12   \n",
       "25           2384702.55                    0.0              996240.59   \n",
       "26                -0.00                   -0.0                  -0.00   \n",
       "27                 0.00                    0.0                   0.00   \n",
       "28                -0.00                   -0.0                  -0.00   \n",
       "29             39165.29                    0.0                   0.00   \n",
       "30                -0.00                   -0.0                  -0.00   \n",
       "31                 0.00                    0.0                   0.00   \n",
       "32                -0.00                   -0.0                  -0.00   \n",
       "33             31981.83                    0.0                   0.00   \n",
       "34                -0.00                   -0.0            -1304874.71   \n",
       "35                 0.00                    0.0               42051.95   \n",
       "36                -0.00                   -0.0             -186719.43   \n",
       "37             40818.83                    0.0               59899.84   \n",
       "38                -0.00                   -0.0             -386271.19   \n",
       "39                 0.00                    0.0               24062.68   \n",
       "40                -0.00                   -0.0             -360760.03   \n",
       "41            182109.72                    0.0              269022.32   \n",
       "\n",
       "    downgraded_amount_yr2  downgraded_amount_yr3  downgraded_amount_yr4  \\\n",
       "10                  -0.00                  -0.00                  -0.00   \n",
       "11                   0.00                   0.00                   0.00   \n",
       "12                  -0.00                  -0.00                  -0.00   \n",
       "13                   0.00                   0.00              140241.32   \n",
       "14                  -0.00                  -0.00                  -0.00   \n",
       "15                   0.00                   0.00                   0.00   \n",
       "16                  -0.00             -130538.48                  -0.00   \n",
       "17                   0.00              143121.95              161223.31   \n",
       "18                  -0.00                  -0.00                  -0.00   \n",
       "19                   0.00                   0.00                   0.00   \n",
       "20                  -0.00                  -0.00                  -0.00   \n",
       "21                   0.00                   0.00              179678.10   \n",
       "22             -817922.97                  -0.00                  -0.00   \n",
       "23              246790.49                   0.00                   0.00   \n",
       "24             -552482.36             -535795.53                  -0.00   \n",
       "25             2169631.03             2003996.92             2142249.12   \n",
       "26                  -0.00                  -0.00                  -0.00   \n",
       "27                   0.00                   0.00                   0.00   \n",
       "28                  -0.00                  -0.00                  -0.00   \n",
       "29                   0.00                   0.00               91916.98   \n",
       "30                  -0.00                  -0.00                  -0.00   \n",
       "31                   0.00                   0.00                   0.00   \n",
       "32                  -0.00             -197636.46                  -0.00   \n",
       "33                   0.00               56074.56              189372.88   \n",
       "34                  -0.00                  -0.00                  -0.00   \n",
       "35                   0.00                   0.00                   0.00   \n",
       "36                  -0.00                  -0.00                  -0.00   \n",
       "37                   0.00                   0.00              101886.79   \n",
       "38             -602810.93                  -0.00                  -0.00   \n",
       "39               55397.78                   0.00                   0.00   \n",
       "40             -471263.81             -622569.85                  -0.00   \n",
       "41              488784.96              634684.70             1618564.02   \n",
       "\n",
       "    amount_total  count_total  neg_yr  cohort_gift_year  \n",
       "10  -13932981.82      -281367      -1               yr4  \n",
       "11     927157.94        15280       1               yr4  \n",
       "12   -1149979.14       -18286      -1               yr4  \n",
       "13    1071303.53        17888       1               yr4  \n",
       "14   -2706236.44       -29527      -1               yr4  \n",
       "15     498751.60         7744       1               yr4  \n",
       "16    -854705.63       -11977      -1               yr4  \n",
       "17    1694181.17        22186       1               yr4  \n",
       "18   -6723946.67      -116282      -1               yr4  \n",
       "19     877003.34        15931       1               yr4  \n",
       "20   -1218777.91       -17772      -1               yr4  \n",
       "21    1629366.23        23676       1               yr4  \n",
       "22   -4400451.10       -74862      -1               yr4  \n",
       "23    2059129.37        35031       1               yr4  \n",
       "24   -4404995.02       -70376      -1               yr4  \n",
       "25   36671832.93       593972       1               yr4  \n",
       "26  -16981113.18      -299265      -1               yr4  \n",
       "27     160859.77         2760       1               yr4  \n",
       "28   -1310433.62       -21194      -1               yr4  \n",
       "29     274656.73         4187       1               yr4  \n",
       "30   -1974447.87       -31473      -1               yr4  \n",
       "31     141618.53         1963       1               yr4  \n",
       "32   -1239369.27       -17277      -1               yr4  \n",
       "33     629377.00         9130       1               yr4  \n",
       "34   -5724955.85       -96100      -1               yr4  \n",
       "35     187746.28         3299       1               yr4  \n",
       "36   -1320117.99       -20534      -1               yr4  \n",
       "37     462569.10         7594       1               yr4  \n",
       "38   -3265413.02       -50347      -1               yr4  \n",
       "39     300919.83         4808       1               yr4  \n",
       "40   -4633994.35       -67665      -1               yr4  \n",
       "41    7569151.18       130464       1               yr4  \n",
       "\n",
       "[32 rows x 88 columns]"
      ]
     },
     "execution_count": 154,
     "metadata": {},
     "output_type": "execute_result"
    }
   ],
   "source": [
    "df5_y4"
   ]
  },
  {
   "cell_type": "code",
   "execution_count": 152,
   "metadata": {},
   "outputs": [
    {
     "data": {
      "text/plain": [
       "2014    31\n",
       "2013    31\n",
       "2015    15\n",
       "2016     7\n",
       "2017     3\n",
       "2018     1\n",
       "Name: first_gift_year_year, dtype: int64"
      ]
     },
     "execution_count": 152,
     "metadata": {},
     "output_type": "execute_result"
    }
   ],
   "source": [
    "df5.first_gift_year_year.value_counts()"
   ]
  },
  {
   "cell_type": "code",
   "execution_count": 135,
   "metadata": {},
   "outputs": [],
   "source": [
    "#limit to applicable years\n",
    "# 2012 doesn't have much data\n",
    "# yr0 : 2013-2018\n",
    "# yr1: 2013-2017\n",
    "# yr2: 2013-2016\n",
    "# yr3: 2013-2015\n",
    "# yr4: 2013-2014\n",
    "df5_y0=df3_y0.query('first_gift_year_year > 2012')\n",
    "df5_y1=df4_y1.query('first_gift_year_year > 2012 & first_gift_year_year < 2018')\n",
    "df5_y2=df4_y2.query('first_gift_year_year > 2012 & first_gift_year_year < 2017')\n",
    "df5_y3=df4_y3.query('first_gift_year_year > 2012 & first_gift_year_year < 2016')\n",
    "df5_y4=df4_y4.query('first_gift_year_year > 2012 & first_gift_year_year < 2015')"
   ]
  },
  {
   "cell_type": "code",
   "execution_count": 136,
   "metadata": {},
   "outputs": [],
   "source": [
    "df5_y0.loc[:,'cohort_gift_year']='yr0'\n",
    "df5_y1.loc[:,'cohort_gift_year']='yr1'\n",
    "df5_y2.loc[:,'cohort_gift_year']='yr2'\n",
    "df5_y3.loc[:,'cohort_gift_year']='yr3'\n",
    "df5_y4.loc[:,'cohort_gift_year']='yr4'"
   ]
  },
  {
   "cell_type": "code",
   "execution_count": 137,
   "metadata": {},
   "outputs": [],
   "source": [
    "df5_y0.rename(columns = {'cohort_yr0_TF':'cohort_TF'}, inplace = True)\n",
    "df5_y1.rename(columns = {'cohort_yr1_TF':'cohort_TF'}, inplace = True)\n",
    "df5_y2.rename(columns = {'cohort_yr2_TF':'cohort_TF'}, inplace = True)\n",
    "df5_y3.rename(columns = {'cohort_yr3_TF':'cohort_TF'}, inplace = True)\n",
    "df5_y4.rename(columns = {'cohort_yr4_TF':'cohort_TF'}, inplace = True)"
   ]
  },
  {
   "cell_type": "code",
   "execution_count": 138,
   "metadata": {},
   "outputs": [],
   "source": [
    "df5=pd.concat([df5_y0, df5_y1, df5_y2, df5_y3, df5_y4], sort=False) "
   ]
  },
  {
   "cell_type": "code",
   "execution_count": 167,
   "metadata": {},
   "outputs": [
    {
     "data": {
      "text/plain": [
       "Index(['first_gift_year_year', 'cohort_TF', 'no_donors', 'amount_yr0',\n",
       "       'amount_yr1', 'amount_yr2', 'amount_yr3', 'amount_yr4', 'count_yr0',\n",
       "       'count_yr1', 'count_yr2', 'count_yr3', 'count_yr4',\n",
       "       'lapsed_after_first_long', 'lapsed_after_second', 'lapsed_multi_year',\n",
       "       'lapsed_long_multi_year', 'lapsed_key_multi_year', 'lapsed_long',\n",
       "       'cohort_0_first_gift', 'cohort_1_lapsed_after_first',\n",
       "       'cohort_1_second_year', 'cohort_2_lapsed_after_first_long',\n",
       "       'cohort_2_lapsed_after_second', 'cohort_2_multi_year',\n",
       "       'cohort_2_second_with_gap', 'cohort_3_first_gift',\n",
       "       'cohort_3_inconsistent_multi_year', 'cohort_3_key_multi_year',\n",
       "       'cohort_3_lapsed_after_second', 'cohort_3_lapsed_long',\n",
       "       'cohort_3_lapsed_multi_year', 'cohort_4_first_gift',\n",
       "       'cohort_4_inconsistent_multi_year', 'cohort_4_key_multi_year',\n",
       "       'cohort_4_lapsed_after_first', 'cohort_4_lapsed_key_multi_year',\n",
       "       'cohort_4_lapsed_long', 'cohort_4_lapsed_long_multi_year',\n",
       "       'cohort_4_lapsed_multi_year', 'cohort_4_multi_year',\n",
       "       'cohort_4_recovered_multi_year', 'cohort_4_second_year',\n",
       "       'cohort_5_first_gift', 'cohort_5_inconsistent_multi_year',\n",
       "       'cohort_5_key_multi_year', 'cohort_5_lapsed_after_first',\n",
       "       'cohort_5_lapsed_after_first_long', 'cohort_5_lapsed_after_second',\n",
       "       'cohort_5_lapsed_key_multi_year', 'cohort_5_lapsed_long',\n",
       "       'cohort_5_lapsed_long_key_multi_year',\n",
       "       'cohort_5_lapsed_long_multi_year', 'cohort_5_lapsed_multi_year',\n",
       "       'cohort_5_multi_year', 'cohort_5_recovered_key_multi_year',\n",
       "       'cohort_5_recovered_multi_year', 'cohort_5_second_with_gap',\n",
       "       'cohort_5_second_year', 'cohort_6_first_gift',\n",
       "       'cohort_6_key_multi_year', 'cohort_6_lapsed_after_first',\n",
       "       'cohort_6_lapsed_after_first_long', 'cohort_6_lapsed_after_second',\n",
       "       'cohort_6_lapsed_key_multi_year', 'cohort_6_lapsed_long',\n",
       "       'cohort_6_lapsed_long_key_multi_year',\n",
       "       'cohort_6_lapsed_long_multi_year', 'cohort_6_multi_year',\n",
       "       'lapsed_amount_yr0', 'lapsed_amount_yr1', 'lapsed_amount_yr2',\n",
       "       'lapsed_amount_yr3', 'lapsed_amount_yr4', 'upgraded_amount_yr0',\n",
       "       'upgraded_amount_yr1', 'upgraded_amount_yr2', 'upgraded_amount_yr3',\n",
       "       'upgraded_amount_yr4', 'downgraded_amount_yr0', 'downgraded_amount_yr1',\n",
       "       'downgraded_amount_yr2', 'downgraded_amount_yr3',\n",
       "       'downgraded_amount_yr4', 'amount_total', 'count_total', 'neg_yr',\n",
       "       'cohort_gift_year'],\n",
       "      dtype='object')"
      ]
     },
     "execution_count": 167,
     "metadata": {},
     "output_type": "execute_result"
    }
   ],
   "source": [
    "df5.columns"
   ]
  },
  {
   "cell_type": "code",
   "execution_count": 175,
   "metadata": {},
   "outputs": [],
   "source": [
    "conditions = [\n",
    "    (df5['first_gift_year_year'] == \"2012\"),   \n",
    "    (df5['first_gift_year_year'] == \"2013\"),\n",
    "    (df5['first_gift_year_year'] == \"2014\"),\n",
    "    (df5['first_gift_year_year'] == \"2015\"),\n",
    "    (df5['first_gift_year_year'] == \"2016\"),\n",
    "    (df5['first_gift_year_year'] == \"2017\"),\n",
    "    (df5['first_gift_year_year'] == \"2018\")    \n",
    "    ]\n",
    "\n",
    "# create a list of the values we want to assign for each condition\n",
    "values = ['cohort12','cohort13', 'cohort14', 'cohort15', 'cohort16', 'cohort17', 'cohort18']\n",
    "\n",
    "# create a new column and use np.select to assign values to it using our lists as arguments\n",
    "df5['cohort'] = np.select(conditions, values)"
   ]
  },
  {
   "cell_type": "code",
   "execution_count": 176,
   "metadata": {},
   "outputs": [],
   "source": [
    "df5.to_csv(\"df5.csv\")"
   ]
  },
  {
   "cell_type": "markdown",
   "metadata": {},
   "source": [
    "### Start here Monday"
   ]
  },
  {
   "cell_type": "code",
   "execution_count": 43,
   "metadata": {},
   "outputs": [],
   "source": [
    "#df5=pd.read_csv('df5.csv')"
   ]
  },
  {
   "cell_type": "code",
   "execution_count": 177,
   "metadata": {},
   "outputs": [
    {
     "data": {
      "text/plain": [
       "cohort13    31\n",
       "cohort14    31\n",
       "cohort15    15\n",
       "cohort16     7\n",
       "cohort17     3\n",
       "cohort18     1\n",
       "Name: cohort, dtype: int64"
      ]
     },
     "execution_count": 177,
     "metadata": {},
     "output_type": "execute_result"
    }
   ],
   "source": [
    "df5.cohort.value_counts()"
   ]
  },
  {
   "cell_type": "code",
   "execution_count": 46,
   "metadata": {},
   "outputs": [],
   "source": [
    "#pio.templates\n",
    "# Default template: 'plotly'\n",
    "# Available templates:\n",
    "# ['ggplot2', 'seaborn', 'simple_white', 'plotly',\n",
    "# 'plotly_white', 'plotly_dark', 'presentation', 'xgridoff',\n",
    "# 'ygridoff', 'gridon', 'none']"
   ]
  },
  {
   "cell_type": "code",
   "execution_count": 47,
   "metadata": {
    "scrolled": true
   },
   "outputs": [],
   "source": [
    "# for template in ['ggplot2', 'seaborn', 'simple_white', 'plotly', 'plotly_white', 'plotly_dark', 'presentation', 'xgridoff', 'ygridoff', 'gridon', 'none']:\n",
    "#     fig = px.bar(df5, x=\"cohort\", y='no_donors', color='cohort_gift_year', barmode='group',\n",
    "#             title=\"1. Donor Behavior over Time, by Cohort\",   \n",
    "#                      template=template)\n",
    "#     fig.show()"
   ]
  },
  {
   "cell_type": "code",
   "execution_count": 48,
   "metadata": {},
   "outputs": [
    {
     "data": {
      "text/plain": [
       "Unnamed: 0                 int64\n",
       "cohort                     int64\n",
       "cohort_TF                 object\n",
       "no_donors                  int64\n",
       "amount_yr0               float64\n",
       "                          ...   \n",
       "downgraded_amount_yr4    float64\n",
       "amount_total             float64\n",
       "count_total                int64\n",
       "neg_yr                     int64\n",
       "cohort_gift_year          object\n",
       "Length: 89, dtype: object"
      ]
     },
     "execution_count": 48,
     "metadata": {},
     "output_type": "execute_result"
    }
   ],
   "source": [
    "df5.dtypes"
   ]
  },
  {
   "cell_type": "code",
   "execution_count": 185,
   "metadata": {},
   "outputs": [],
   "source": [
    "# pio.templates.default = \"xgridoff\"\n",
    "# df5.loc[:,\"cohort\"] = df5[\"cohort\"].astype(str)\n",
    "\n",
    "# fig = px.bar(df5, x=\"cohort\", y='no_donors', color='cohort_gift_year', barmode='group',\n",
    "#             title=\"1. Donor Behavior over Time, by Cohort\",\n",
    "#              color_discrete_sequence=[\"red\", \"green\", \"blue\", \"goldenrod\", \"magenta\"], \n",
    "#              #color_discrete_map=\"identity\",\n",
    "# #              color_discrete_map={\n",
    "# #                 \"Europe\": \"red\",\n",
    "# #                 \"Asia\": \"green\",\n",
    "# #                 \"Americas\": \"blue\",\n",
    "# #                 \"Oceania\": \"goldenrod\",\n",
    "# #                 \"Africa\": \"magenta\"},\n",
    "#              #px.colors.qualitative.Antique, \n",
    "#              #['red','seagreen', 'tomato', 'mediumseagreen'],\n",
    "#            # hover_data=['cohort', 'no_donors', 'count_yr2'],\n",
    "#             # labels={'cohort':'class'}, \n",
    "#              height=500)\n",
    "#  #barmode='group', labels={'index':'year', 'y':'amount ($)'}, \n",
    "# fig.update_xaxes(type='category')\n",
    "# fig.show()"
   ]
  },
  {
   "cell_type": "code",
   "execution_count": 232,
   "metadata": {},
   "outputs": [
    {
     "data": {
      "text/html": [
       "<div>\n",
       "<style scoped>\n",
       "    .dataframe tbody tr th:only-of-type {\n",
       "        vertical-align: middle;\n",
       "    }\n",
       "\n",
       "    .dataframe tbody tr th {\n",
       "        vertical-align: top;\n",
       "    }\n",
       "\n",
       "    .dataframe thead th {\n",
       "        text-align: right;\n",
       "    }\n",
       "</style>\n",
       "<table border=\"1\" class=\"dataframe\">\n",
       "  <thead>\n",
       "    <tr style=\"text-align: right;\">\n",
       "      <th></th>\n",
       "      <th>cohort_gift_year</th>\n",
       "      <th>cohort</th>\n",
       "      <th>neg_yr</th>\n",
       "      <th>Unnamed: 0</th>\n",
       "      <th>no_donors</th>\n",
       "      <th>amount_yr0</th>\n",
       "      <th>amount_yr1</th>\n",
       "      <th>amount_yr2</th>\n",
       "      <th>amount_yr3</th>\n",
       "      <th>amount_yr4</th>\n",
       "      <th>...</th>\n",
       "      <th>upgraded_amount_yr2</th>\n",
       "      <th>upgraded_amount_yr3</th>\n",
       "      <th>upgraded_amount_yr4</th>\n",
       "      <th>downgraded_amount_yr0</th>\n",
       "      <th>downgraded_amount_yr1</th>\n",
       "      <th>downgraded_amount_yr2</th>\n",
       "      <th>downgraded_amount_yr3</th>\n",
       "      <th>downgraded_amount_yr4</th>\n",
       "      <th>amount_total</th>\n",
       "      <th>count_total</th>\n",
       "    </tr>\n",
       "  </thead>\n",
       "  <tbody>\n",
       "    <tr>\n",
       "      <td>0</td>\n",
       "      <td>yr0</td>\n",
       "      <td>2013</td>\n",
       "      <td>1</td>\n",
       "      <td>1</td>\n",
       "      <td>320069</td>\n",
       "      <td>30411763.60</td>\n",
       "      <td>15267703.98</td>\n",
       "      <td>12587307.39</td>\n",
       "      <td>11398269.65</td>\n",
       "      <td>11155755.22</td>\n",
       "      <td>...</td>\n",
       "      <td>3355505.73</td>\n",
       "      <td>2803829.96</td>\n",
       "      <td>3012995.58</td>\n",
       "      <td>0.0</td>\n",
       "      <td>4491997.15</td>\n",
       "      <td>3786826.85</td>\n",
       "      <td>2813452.88</td>\n",
       "      <td>2623391.85</td>\n",
       "      <td>80820799.84</td>\n",
       "      <td>1352157</td>\n",
       "    </tr>\n",
       "    <tr>\n",
       "      <td>1</td>\n",
       "      <td>yr0</td>\n",
       "      <td>2014</td>\n",
       "      <td>1</td>\n",
       "      <td>2</td>\n",
       "      <td>320673</td>\n",
       "      <td>26174282.52</td>\n",
       "      <td>7745897.26</td>\n",
       "      <td>6437708.77</td>\n",
       "      <td>5818855.02</td>\n",
       "      <td>1874641.80</td>\n",
       "      <td>...</td>\n",
       "      <td>2040239.80</td>\n",
       "      <td>1569322.23</td>\n",
       "      <td>294075.67</td>\n",
       "      <td>0.0</td>\n",
       "      <td>2633662.15</td>\n",
       "      <td>1618257.48</td>\n",
       "      <td>1510965.57</td>\n",
       "      <td>2001740.67</td>\n",
       "      <td>46176743.57</td>\n",
       "      <td>768060</td>\n",
       "    </tr>\n",
       "    <tr>\n",
       "      <td>2</td>\n",
       "      <td>yr0</td>\n",
       "      <td>2015</td>\n",
       "      <td>1</td>\n",
       "      <td>3</td>\n",
       "      <td>355137</td>\n",
       "      <td>30146878.32</td>\n",
       "      <td>8280549.87</td>\n",
       "      <td>7444145.63</td>\n",
       "      <td>2329381.58</td>\n",
       "      <td>0.00</td>\n",
       "      <td>...</td>\n",
       "      <td>2334629.05</td>\n",
       "      <td>350603.84</td>\n",
       "      <td>0.00</td>\n",
       "      <td>0.0</td>\n",
       "      <td>2560692.28</td>\n",
       "      <td>1665471.64</td>\n",
       "      <td>2580070.49</td>\n",
       "      <td>0.00</td>\n",
       "      <td>45871573.82</td>\n",
       "      <td>678938</td>\n",
       "    </tr>\n",
       "    <tr>\n",
       "      <td>3</td>\n",
       "      <td>yr0</td>\n",
       "      <td>2016</td>\n",
       "      <td>1</td>\n",
       "      <td>4</td>\n",
       "      <td>445598</td>\n",
       "      <td>36530214.52</td>\n",
       "      <td>10475760.27</td>\n",
       "      <td>2885540.02</td>\n",
       "      <td>0.00</td>\n",
       "      <td>0.00</td>\n",
       "      <td>...</td>\n",
       "      <td>491086.63</td>\n",
       "      <td>0.00</td>\n",
       "      <td>0.00</td>\n",
       "      <td>0.0</td>\n",
       "      <td>3301217.01</td>\n",
       "      <td>3056365.27</td>\n",
       "      <td>0.00</td>\n",
       "      <td>0.00</td>\n",
       "      <td>47005974.79</td>\n",
       "      <td>780150</td>\n",
       "    </tr>\n",
       "    <tr>\n",
       "      <td>4</td>\n",
       "      <td>yr0</td>\n",
       "      <td>2017</td>\n",
       "      <td>1</td>\n",
       "      <td>5</td>\n",
       "      <td>434991</td>\n",
       "      <td>37973770.48</td>\n",
       "      <td>4549913.20</td>\n",
       "      <td>0.00</td>\n",
       "      <td>0.00</td>\n",
       "      <td>0.00</td>\n",
       "      <td>...</td>\n",
       "      <td>0.00</td>\n",
       "      <td>0.00</td>\n",
       "      <td>0.00</td>\n",
       "      <td>0.0</td>\n",
       "      <td>3282574.70</td>\n",
       "      <td>0.00</td>\n",
       "      <td>0.00</td>\n",
       "      <td>0.00</td>\n",
       "      <td>37973770.48</td>\n",
       "      <td>668558</td>\n",
       "    </tr>\n",
       "    <tr>\n",
       "      <td>5</td>\n",
       "      <td>yr0</td>\n",
       "      <td>2018</td>\n",
       "      <td>1</td>\n",
       "      <td>6</td>\n",
       "      <td>147945</td>\n",
       "      <td>11275859.66</td>\n",
       "      <td>0.00</td>\n",
       "      <td>0.00</td>\n",
       "      <td>0.00</td>\n",
       "      <td>0.00</td>\n",
       "      <td>...</td>\n",
       "      <td>0.00</td>\n",
       "      <td>0.00</td>\n",
       "      <td>0.00</td>\n",
       "      <td>0.0</td>\n",
       "      <td>0.00</td>\n",
       "      <td>0.00</td>\n",
       "      <td>0.00</td>\n",
       "      <td>0.00</td>\n",
       "      <td>0.00</td>\n",
       "      <td>0</td>\n",
       "    </tr>\n",
       "    <tr>\n",
       "      <td>7</td>\n",
       "      <td>yr1</td>\n",
       "      <td>2013</td>\n",
       "      <td>1</td>\n",
       "      <td>3</td>\n",
       "      <td>62130</td>\n",
       "      <td>13019180.74</td>\n",
       "      <td>15267703.98</td>\n",
       "      <td>10639814.50</td>\n",
       "      <td>9617948.37</td>\n",
       "      <td>9440854.98</td>\n",
       "      <td>...</td>\n",
       "      <td>3355505.73</td>\n",
       "      <td>2452956.28</td>\n",
       "      <td>2589107.14</td>\n",
       "      <td>0.0</td>\n",
       "      <td>4491997.15</td>\n",
       "      <td>3786826.85</td>\n",
       "      <td>2539792.45</td>\n",
       "      <td>2321927.22</td>\n",
       "      <td>57985502.57</td>\n",
       "      <td>947902</td>\n",
       "    </tr>\n",
       "    <tr>\n",
       "      <td>9</td>\n",
       "      <td>yr1</td>\n",
       "      <td>2014</td>\n",
       "      <td>1</td>\n",
       "      <td>5</td>\n",
       "      <td>48667</td>\n",
       "      <td>6789581.20</td>\n",
       "      <td>7745897.26</td>\n",
       "      <td>4717321.67</td>\n",
       "      <td>4212067.47</td>\n",
       "      <td>1383778.10</td>\n",
       "      <td>...</td>\n",
       "      <td>2040239.80</td>\n",
       "      <td>1222682.84</td>\n",
       "      <td>222928.55</td>\n",
       "      <td>0.0</td>\n",
       "      <td>2633662.15</td>\n",
       "      <td>1618257.48</td>\n",
       "      <td>1257254.55</td>\n",
       "      <td>1720450.81</td>\n",
       "      <td>23464867.60</td>\n",
       "      <td>380811</td>\n",
       "    </tr>\n",
       "    <tr>\n",
       "      <td>11</td>\n",
       "      <td>yr1</td>\n",
       "      <td>2015</td>\n",
       "      <td>1</td>\n",
       "      <td>7</td>\n",
       "      <td>46078</td>\n",
       "      <td>6830760.01</td>\n",
       "      <td>8280549.87</td>\n",
       "      <td>5608529.39</td>\n",
       "      <td>1692588.95</td>\n",
       "      <td>0.00</td>\n",
       "      <td>...</td>\n",
       "      <td>2334629.05</td>\n",
       "      <td>260579.99</td>\n",
       "      <td>0.00</td>\n",
       "      <td>0.0</td>\n",
       "      <td>2560692.28</td>\n",
       "      <td>1665471.64</td>\n",
       "      <td>2361760.54</td>\n",
       "      <td>0.00</td>\n",
       "      <td>20719839.27</td>\n",
       "      <td>277830</td>\n",
       "    </tr>\n",
       "    <tr>\n",
       "      <td>13</td>\n",
       "      <td>yr1</td>\n",
       "      <td>2016</td>\n",
       "      <td>1</td>\n",
       "      <td>9</td>\n",
       "      <td>56538</td>\n",
       "      <td>8690722.10</td>\n",
       "      <td>10475760.27</td>\n",
       "      <td>2121971.40</td>\n",
       "      <td>0.00</td>\n",
       "      <td>0.00</td>\n",
       "      <td>...</td>\n",
       "      <td>491086.63</td>\n",
       "      <td>0.00</td>\n",
       "      <td>0.00</td>\n",
       "      <td>0.0</td>\n",
       "      <td>3301217.01</td>\n",
       "      <td>3056365.27</td>\n",
       "      <td>0.00</td>\n",
       "      <td>0.00</td>\n",
       "      <td>19166482.37</td>\n",
       "      <td>308116</td>\n",
       "    </tr>\n",
       "    <tr>\n",
       "      <td>15</td>\n",
       "      <td>yr1</td>\n",
       "      <td>2017</td>\n",
       "      <td>1</td>\n",
       "      <td>11</td>\n",
       "      <td>29990</td>\n",
       "      <td>6301026.03</td>\n",
       "      <td>4549913.20</td>\n",
       "      <td>0.00</td>\n",
       "      <td>0.00</td>\n",
       "      <td>0.00</td>\n",
       "      <td>...</td>\n",
       "      <td>0.00</td>\n",
       "      <td>0.00</td>\n",
       "      <td>0.00</td>\n",
       "      <td>0.0</td>\n",
       "      <td>3282574.70</td>\n",
       "      <td>0.00</td>\n",
       "      <td>0.00</td>\n",
       "      <td>0.00</td>\n",
       "      <td>6301026.03</td>\n",
       "      <td>100433</td>\n",
       "    </tr>\n",
       "  </tbody>\n",
       "</table>\n",
       "<p>11 rows × 88 columns</p>\n",
       "</div>"
      ],
      "text/plain": [
       "   cohort_gift_year cohort  neg_yr  Unnamed: 0  no_donors   amount_yr0  \\\n",
       "0               yr0   2013       1           1     320069  30411763.60   \n",
       "1               yr0   2014       1           2     320673  26174282.52   \n",
       "2               yr0   2015       1           3     355137  30146878.32   \n",
       "3               yr0   2016       1           4     445598  36530214.52   \n",
       "4               yr0   2017       1           5     434991  37973770.48   \n",
       "5               yr0   2018       1           6     147945  11275859.66   \n",
       "7               yr1   2013       1           3      62130  13019180.74   \n",
       "9               yr1   2014       1           5      48667   6789581.20   \n",
       "11              yr1   2015       1           7      46078   6830760.01   \n",
       "13              yr1   2016       1           9      56538   8690722.10   \n",
       "15              yr1   2017       1          11      29990   6301026.03   \n",
       "\n",
       "     amount_yr1   amount_yr2   amount_yr3   amount_yr4  ...  \\\n",
       "0   15267703.98  12587307.39  11398269.65  11155755.22  ...   \n",
       "1    7745897.26   6437708.77   5818855.02   1874641.80  ...   \n",
       "2    8280549.87   7444145.63   2329381.58         0.00  ...   \n",
       "3   10475760.27   2885540.02         0.00         0.00  ...   \n",
       "4    4549913.20         0.00         0.00         0.00  ...   \n",
       "5          0.00         0.00         0.00         0.00  ...   \n",
       "7   15267703.98  10639814.50   9617948.37   9440854.98  ...   \n",
       "9    7745897.26   4717321.67   4212067.47   1383778.10  ...   \n",
       "11   8280549.87   5608529.39   1692588.95         0.00  ...   \n",
       "13  10475760.27   2121971.40         0.00         0.00  ...   \n",
       "15   4549913.20         0.00         0.00         0.00  ...   \n",
       "\n",
       "    upgraded_amount_yr2  upgraded_amount_yr3  upgraded_amount_yr4  \\\n",
       "0            3355505.73           2803829.96           3012995.58   \n",
       "1            2040239.80           1569322.23            294075.67   \n",
       "2            2334629.05            350603.84                 0.00   \n",
       "3             491086.63                 0.00                 0.00   \n",
       "4                  0.00                 0.00                 0.00   \n",
       "5                  0.00                 0.00                 0.00   \n",
       "7            3355505.73           2452956.28           2589107.14   \n",
       "9            2040239.80           1222682.84            222928.55   \n",
       "11           2334629.05            260579.99                 0.00   \n",
       "13            491086.63                 0.00                 0.00   \n",
       "15                 0.00                 0.00                 0.00   \n",
       "\n",
       "    downgraded_amount_yr0  downgraded_amount_yr1  downgraded_amount_yr2  \\\n",
       "0                     0.0             4491997.15             3786826.85   \n",
       "1                     0.0             2633662.15             1618257.48   \n",
       "2                     0.0             2560692.28             1665471.64   \n",
       "3                     0.0             3301217.01             3056365.27   \n",
       "4                     0.0             3282574.70                   0.00   \n",
       "5                     0.0                   0.00                   0.00   \n",
       "7                     0.0             4491997.15             3786826.85   \n",
       "9                     0.0             2633662.15             1618257.48   \n",
       "11                    0.0             2560692.28             1665471.64   \n",
       "13                    0.0             3301217.01             3056365.27   \n",
       "15                    0.0             3282574.70                   0.00   \n",
       "\n",
       "    downgraded_amount_yr3  downgraded_amount_yr4  amount_total  count_total  \n",
       "0              2813452.88             2623391.85   80820799.84      1352157  \n",
       "1              1510965.57             2001740.67   46176743.57       768060  \n",
       "2              2580070.49                   0.00   45871573.82       678938  \n",
       "3                    0.00                   0.00   47005974.79       780150  \n",
       "4                    0.00                   0.00   37973770.48       668558  \n",
       "5                    0.00                   0.00          0.00            0  \n",
       "7              2539792.45             2321927.22   57985502.57       947902  \n",
       "9              1257254.55             1720450.81   23464867.60       380811  \n",
       "11             2361760.54                   0.00   20719839.27       277830  \n",
       "13                   0.00                   0.00   19166482.37       308116  \n",
       "15                   0.00                   0.00    6301026.03       100433  \n",
       "\n",
       "[11 rows x 88 columns]"
      ]
     },
     "execution_count": 232,
     "metadata": {},
     "output_type": "execute_result"
    }
   ],
   "source": [
    "#df5.groupby(['cohort_gift_year','cohort','neg_yr']).sum().reset_index().query('neg_yr == 1')\n",
    "df5.groupby(['cohort_gift_year','cohort','neg_yr']).sum().reset_index().query('cohort_gift_year != \"yr2\" & cohort_gift_year != \"yr3\" & cohort_gift_year != \"yr4\" & neg_yr == 1')\n"
   ]
  },
  {
   "cell_type": "code",
   "execution_count": 189,
   "metadata": {},
   "outputs": [
    {
     "data": {
      "application/vnd.plotly.v1+json": {
       "config": {
        "plotlyServerURL": "https://plot.ly"
       },
       "data": [
        {
         "alignmentgroup": "True",
         "hovertemplate": "cohort_gift_year=yr0<br>cohort=%{x}<br>no_donors=%{y}<extra></extra>",
         "legendgroup": "yr0",
         "marker": {
          "color": "#1F77B4"
         },
         "name": "yr0",
         "offsetgroup": "yr0",
         "orientation": "v",
         "showlegend": true,
         "textposition": "auto",
         "type": "bar",
         "x": [
          "cohort13",
          "cohort14",
          "cohort15",
          "cohort16",
          "cohort17",
          "cohort18"
         ],
         "xaxis": "x",
         "y": [
          320069,
          320673,
          355137,
          445598,
          434991,
          147945
         ],
         "yaxis": "y"
        },
        {
         "alignmentgroup": "True",
         "hovertemplate": "cohort_gift_year=yr1<br>cohort=%{x}<br>no_donors=%{y}<extra></extra>",
         "legendgroup": "yr1",
         "marker": {
          "color": "#FF7F0E"
         },
         "name": "yr1",
         "offsetgroup": "yr1",
         "orientation": "v",
         "showlegend": true,
         "textposition": "auto",
         "type": "bar",
         "x": [
          "cohort13",
          "cohort14",
          "cohort15",
          "cohort16",
          "cohort17"
         ],
         "xaxis": "x",
         "y": [
          62130,
          48667,
          46078,
          56538,
          29990
         ],
         "yaxis": "y"
        }
       ],
       "layout": {
        "barmode": "group",
        "legend": {
         "title": {
          "text": "cohort_gift_year"
         },
         "tracegroupgap": 0
        },
        "template": {
         "data": {
          "pie": [
           {
            "automargin": true,
            "type": "pie"
           }
          ],
          "scatter": [
           {
            "line": {
             "width": 3
            },
            "marker": {
             "size": 9
            },
            "type": "scatter"
           }
          ],
          "scatter3d": [
           {
            "line": {
             "width": 3
            },
            "marker": {
             "size": 9
            },
            "type": "scatter3d"
           }
          ],
          "scattergeo": [
           {
            "line": {
             "width": 3
            },
            "marker": {
             "size": 9
            },
            "type": "scattergeo"
           }
          ],
          "scattergl": [
           {
            "line": {
             "width": 3
            },
            "marker": {
             "size": 9
            },
            "type": "scattergl"
           }
          ],
          "scatterpolar": [
           {
            "line": {
             "width": 3
            },
            "marker": {
             "size": 9
            },
            "type": "scatterpolar"
           }
          ],
          "scatterpolargl": [
           {
            "line": {
             "width": 3
            },
            "marker": {
             "size": 9
            },
            "type": "scatterpolargl"
           }
          ],
          "scatterternary": [
           {
            "line": {
             "width": 3
            },
            "marker": {
             "size": 9
            },
            "type": "scatterternary"
           }
          ],
          "table": [
           {
            "cells": {
             "height": 30
            },
            "header": {
             "height": 36
            },
            "type": "table"
           }
          ]
         },
         "layout": {
          "font": {
           "size": 18
          },
          "xaxis": {
           "title": {
            "standoff": 15
           }
          },
          "yaxis": {
           "title": {
            "standoff": 15
           }
          }
         }
        },
        "title": {
         "text": "1. Donor Behavior over Time, by Cohort"
        },
        "xaxis": {
         "anchor": "y",
         "domain": [
          0,
          1
         ],
         "title": {
          "text": "cohort"
         }
        },
        "yaxis": {
         "anchor": "x",
         "domain": [
          0,
          1
         ],
         "title": {
          "text": "no_donors"
         }
        }
       }
      },
      "text/html": [
       "<div>\n",
       "        \n",
       "        \n",
       "            <div id=\"b726166e-8515-4400-95ba-6089407420d9\" class=\"plotly-graph-div\" style=\"height:525px; width:100%;\"></div>\n",
       "            <script type=\"text/javascript\">\n",
       "                require([\"plotly\"], function(Plotly) {\n",
       "                    window.PLOTLYENV=window.PLOTLYENV || {};\n",
       "                    \n",
       "                if (document.getElementById(\"b726166e-8515-4400-95ba-6089407420d9\")) {\n",
       "                    Plotly.newPlot(\n",
       "                        'b726166e-8515-4400-95ba-6089407420d9',\n",
       "                        [{\"alignmentgroup\": \"True\", \"hovertemplate\": \"cohort_gift_year=yr0<br>cohort=%{x}<br>no_donors=%{y}<extra></extra>\", \"legendgroup\": \"yr0\", \"marker\": {\"color\": \"#1F77B4\"}, \"name\": \"yr0\", \"offsetgroup\": \"yr0\", \"orientation\": \"v\", \"showlegend\": true, \"textposition\": \"auto\", \"type\": \"bar\", \"x\": [\"cohort13\", \"cohort14\", \"cohort15\", \"cohort16\", \"cohort17\", \"cohort18\"], \"xaxis\": \"x\", \"y\": [320069, 320673, 355137, 445598, 434991, 147945], \"yaxis\": \"y\"}, {\"alignmentgroup\": \"True\", \"hovertemplate\": \"cohort_gift_year=yr1<br>cohort=%{x}<br>no_donors=%{y}<extra></extra>\", \"legendgroup\": \"yr1\", \"marker\": {\"color\": \"#FF7F0E\"}, \"name\": \"yr1\", \"offsetgroup\": \"yr1\", \"orientation\": \"v\", \"showlegend\": true, \"textposition\": \"auto\", \"type\": \"bar\", \"x\": [\"cohort13\", \"cohort14\", \"cohort15\", \"cohort16\", \"cohort17\"], \"xaxis\": \"x\", \"y\": [62130, 48667, 46078, 56538, 29990], \"yaxis\": \"y\"}],\n",
       "                        {\"barmode\": \"group\", \"legend\": {\"title\": {\"text\": \"cohort_gift_year\"}, \"tracegroupgap\": 0}, \"template\": {\"data\": {\"pie\": [{\"automargin\": true, \"type\": \"pie\"}], \"scatter\": [{\"line\": {\"width\": 3}, \"marker\": {\"size\": 9}, \"type\": \"scatter\"}], \"scatter3d\": [{\"line\": {\"width\": 3}, \"marker\": {\"size\": 9}, \"type\": \"scatter3d\"}], \"scattergeo\": [{\"line\": {\"width\": 3}, \"marker\": {\"size\": 9}, \"type\": \"scattergeo\"}], \"scattergl\": [{\"line\": {\"width\": 3}, \"marker\": {\"size\": 9}, \"type\": \"scattergl\"}], \"scatterpolar\": [{\"line\": {\"width\": 3}, \"marker\": {\"size\": 9}, \"type\": \"scatterpolar\"}], \"scatterpolargl\": [{\"line\": {\"width\": 3}, \"marker\": {\"size\": 9}, \"type\": \"scatterpolargl\"}], \"scatterternary\": [{\"line\": {\"width\": 3}, \"marker\": {\"size\": 9}, \"type\": \"scatterternary\"}], \"table\": [{\"cells\": {\"height\": 30}, \"header\": {\"height\": 36}, \"type\": \"table\"}]}, \"layout\": {\"font\": {\"size\": 18}, \"xaxis\": {\"title\": {\"standoff\": 15}}, \"yaxis\": {\"title\": {\"standoff\": 15}}}}, \"title\": {\"text\": \"1. Donor Behavior over Time, by Cohort\"}, \"xaxis\": {\"anchor\": \"y\", \"domain\": [0.0, 1.0], \"title\": {\"text\": \"cohort\"}}, \"yaxis\": {\"anchor\": \"x\", \"domain\": [0.0, 1.0], \"title\": {\"text\": \"no_donors\"}}},\n",
       "                        {\"responsive\": true}\n",
       "                    ).then(function(){\n",
       "                            \n",
       "var gd = document.getElementById('b726166e-8515-4400-95ba-6089407420d9');\n",
       "var x = new MutationObserver(function (mutations, observer) {{\n",
       "        var display = window.getComputedStyle(gd).display;\n",
       "        if (!display || display === 'none') {{\n",
       "            console.log([gd, 'removed!']);\n",
       "            Plotly.purge(gd);\n",
       "            observer.disconnect();\n",
       "        }}\n",
       "}});\n",
       "\n",
       "// Listen for the removal of the full notebook cells\n",
       "var notebookContainer = gd.closest('#notebook-container');\n",
       "if (notebookContainer) {{\n",
       "    x.observe(notebookContainer, {childList: true});\n",
       "}}\n",
       "\n",
       "// Listen for the clearing of the current output cell\n",
       "var outputEl = gd.closest('.output');\n",
       "if (outputEl) {{\n",
       "    x.observe(outputEl, {childList: true});\n",
       "}}\n",
       "\n",
       "                        })\n",
       "                };\n",
       "                });\n",
       "            </script>\n",
       "        </div>"
      ]
     },
     "metadata": {},
     "output_type": "display_data"
    },
    {
     "ename": "IndexError",
     "evalue": "tuple index out of range",
     "output_type": "error",
     "traceback": [
      "\u001b[1;31m---------------------------------------------------------------------------\u001b[0m",
      "\u001b[1;31mIndexError\u001b[0m                                Traceback (most recent call last)",
      "\u001b[1;32m<ipython-input-189-39303463c7e6>\u001b[0m in \u001b[0;36m<module>\u001b[1;34m\u001b[0m\n\u001b[0;32m     23\u001b[0m \u001b[1;33m\u001b[0m\u001b[0m\n\u001b[0;32m     24\u001b[0m \u001b[0mhelp_fig\u001b[0m \u001b[1;33m=\u001b[0m \u001b[0mpx\u001b[0m\u001b[1;33m.\u001b[0m\u001b[0mscatter\u001b[0m\u001b[1;33m(\u001b[0m\u001b[0mdata\u001b[0m\u001b[1;33m.\u001b[0m\u001b[0mquery\u001b[0m\u001b[1;33m(\u001b[0m\u001b[1;34m'cohort == \"2013\"'\u001b[0m\u001b[1;33m)\u001b[0m\u001b[1;33m,\u001b[0m \u001b[0mx\u001b[0m\u001b[1;33m=\u001b[0m\u001b[0mx\u001b[0m\u001b[1;33m,\u001b[0m \u001b[0my\u001b[0m\u001b[1;33m=\u001b[0m\u001b[0my\u001b[0m\u001b[1;33m,\u001b[0m \u001b[0mtrendline\u001b[0m\u001b[1;33m=\u001b[0m\u001b[1;34m\"ols\"\u001b[0m\u001b[1;33m)\u001b[0m\u001b[1;33m\u001b[0m\u001b[1;33m\u001b[0m\u001b[0m\n\u001b[1;32m---> 25\u001b[1;33m \u001b[0mx_trend\u001b[0m \u001b[1;33m=\u001b[0m \u001b[0mhelp_fig\u001b[0m\u001b[1;33m[\u001b[0m\u001b[1;34m\"data\"\u001b[0m\u001b[1;33m]\u001b[0m\u001b[1;33m[\u001b[0m\u001b[1;36m1\u001b[0m\u001b[1;33m]\u001b[0m\u001b[1;33m[\u001b[0m\u001b[1;34m'x'\u001b[0m\u001b[1;33m]\u001b[0m\u001b[1;33m\u001b[0m\u001b[1;33m\u001b[0m\u001b[0m\n\u001b[0m\u001b[0;32m     26\u001b[0m \u001b[0my_trend\u001b[0m \u001b[1;33m=\u001b[0m \u001b[0mhelp_fig\u001b[0m\u001b[1;33m[\u001b[0m\u001b[1;34m\"data\"\u001b[0m\u001b[1;33m]\u001b[0m\u001b[1;33m[\u001b[0m\u001b[1;36m1\u001b[0m\u001b[1;33m]\u001b[0m\u001b[1;33m[\u001b[0m\u001b[1;34m'y'\u001b[0m\u001b[1;33m]\u001b[0m\u001b[1;33m\u001b[0m\u001b[1;33m\u001b[0m\u001b[0m\n\u001b[0;32m     27\u001b[0m \u001b[1;33m\u001b[0m\u001b[0m\n",
      "\u001b[1;31mIndexError\u001b[0m: tuple index out of range"
     ]
    }
   ],
   "source": [
    "# fig = px.scatter(\n",
    "#     df, x='total_bill', y='tip', opacity=0.65,\n",
    "#     trendline='ols', trendline_color_override='darkblue'\n",
    "# )\n",
    "#fig.data = []\n",
    "df5.loc[:,\"neg_yr\"] = df5[\"neg_yr\"].astype(int)\n",
    "\n",
    "data=df5.groupby(['cohort_gift_year','cohort','neg_yr']).sum().reset_index().query('cohort_gift_year != \"yr2\" & cohort_gift_year != \"yr3\" & cohort_gift_year != \"yr4\" & neg_yr == 1')\n",
    "x='cohort'\n",
    "\n",
    "y=\"no_donors\"\n",
    "color=\"cohort_gift_year\"\n",
    "\n",
    "fig = px.bar(data, x=x, y=y, color=color,\n",
    "            title=\"1. Donor Behavior over Time, by Cohort\", barmode='group'\n",
    "                # trendline='ols', trendline_color_override='darkblue'\n",
    "            #color_continuous_scale=\"RdYlGn\",                        \n",
    "           # hover_data=['cohort', 'no_donors', 'count_yr2'],\n",
    "            # labels={'cohort':'class'}, \n",
    "             #height=500\n",
    "                )\n",
    "fig.show()\n",
    "\n",
    "help_fig = px.scatter(data.query('cohort == \"2013\"'), x=x, y=y, trendline=\"ols\")\n",
    "x_trend = help_fig[\"data\"][1]['x']\n",
    "y_trend = help_fig[\"data\"][1]['y']\n",
    "\n",
    "fig.add_trace(go.Line(x=x_trend, y=y_trend))"
   ]
  },
  {
   "cell_type": "code",
   "execution_count": 43,
   "metadata": {},
   "outputs": [
    {
     "data": {
      "text/html": [
       "<div>\n",
       "<style scoped>\n",
       "    .dataframe tbody tr th:only-of-type {\n",
       "        vertical-align: middle;\n",
       "    }\n",
       "\n",
       "    .dataframe tbody tr th {\n",
       "        vertical-align: top;\n",
       "    }\n",
       "\n",
       "    .dataframe thead th {\n",
       "        text-align: right;\n",
       "    }\n",
       "</style>\n",
       "<table border=\"1\" class=\"dataframe\">\n",
       "  <thead>\n",
       "    <tr style=\"text-align: right;\">\n",
       "      <th></th>\n",
       "      <th>cohort</th>\n",
       "      <th>cohort_gift_year</th>\n",
       "      <th>neg_yr</th>\n",
       "      <th>Unnamed: 0</th>\n",
       "      <th>no_donors</th>\n",
       "      <th>amount_yr0</th>\n",
       "      <th>amount_yr1</th>\n",
       "      <th>amount_yr2</th>\n",
       "      <th>amount_yr3</th>\n",
       "      <th>amount_yr4</th>\n",
       "      <th>...</th>\n",
       "      <th>upgraded_amount_yr2</th>\n",
       "      <th>upgraded_amount_yr3</th>\n",
       "      <th>upgraded_amount_yr4</th>\n",
       "      <th>downgraded_amount_yr0</th>\n",
       "      <th>downgraded_amount_yr1</th>\n",
       "      <th>downgraded_amount_yr2</th>\n",
       "      <th>downgraded_amount_yr3</th>\n",
       "      <th>downgraded_amount_yr4</th>\n",
       "      <th>amount_total</th>\n",
       "      <th>count_total</th>\n",
       "    </tr>\n",
       "  </thead>\n",
       "  <tbody>\n",
       "    <tr>\n",
       "      <td>0</td>\n",
       "      <td>2013</td>\n",
       "      <td>yr0</td>\n",
       "      <td>1</td>\n",
       "      <td>1</td>\n",
       "      <td>320069</td>\n",
       "      <td>30411763.60</td>\n",
       "      <td>15267703.98</td>\n",
       "      <td>12587307.39</td>\n",
       "      <td>11398269.65</td>\n",
       "      <td>11155755.22</td>\n",
       "      <td>...</td>\n",
       "      <td>3355505.73</td>\n",
       "      <td>2803829.96</td>\n",
       "      <td>3012995.58</td>\n",
       "      <td>0.0</td>\n",
       "      <td>4491997.15</td>\n",
       "      <td>3786826.85</td>\n",
       "      <td>2813452.88</td>\n",
       "      <td>2623391.85</td>\n",
       "      <td>80820799.84</td>\n",
       "      <td>1352157</td>\n",
       "    </tr>\n",
       "    <tr>\n",
       "      <td>1</td>\n",
       "      <td>2013</td>\n",
       "      <td>yr1</td>\n",
       "      <td>-1</td>\n",
       "      <td>2</td>\n",
       "      <td>-257939</td>\n",
       "      <td>-17392582.86</td>\n",
       "      <td>0.00</td>\n",
       "      <td>-1947492.89</td>\n",
       "      <td>-1780321.28</td>\n",
       "      <td>-1714900.24</td>\n",
       "      <td>...</td>\n",
       "      <td>0.00</td>\n",
       "      <td>-350873.68</td>\n",
       "      <td>-423888.44</td>\n",
       "      <td>0.0</td>\n",
       "      <td>0.00</td>\n",
       "      <td>0.00</td>\n",
       "      <td>-273660.43</td>\n",
       "      <td>-301464.63</td>\n",
       "      <td>-22835297.27</td>\n",
       "      <td>-404255</td>\n",
       "    </tr>\n",
       "    <tr>\n",
       "      <td>2</td>\n",
       "      <td>2013</td>\n",
       "      <td>yr1</td>\n",
       "      <td>1</td>\n",
       "      <td>3</td>\n",
       "      <td>62130</td>\n",
       "      <td>13019180.74</td>\n",
       "      <td>15267703.98</td>\n",
       "      <td>10639814.50</td>\n",
       "      <td>9617948.37</td>\n",
       "      <td>9440854.98</td>\n",
       "      <td>...</td>\n",
       "      <td>3355505.73</td>\n",
       "      <td>2452956.28</td>\n",
       "      <td>2589107.14</td>\n",
       "      <td>0.0</td>\n",
       "      <td>4491997.15</td>\n",
       "      <td>3786826.85</td>\n",
       "      <td>2539792.45</td>\n",
       "      <td>2321927.22</td>\n",
       "      <td>57985502.57</td>\n",
       "      <td>947902</td>\n",
       "    </tr>\n",
       "    <tr>\n",
       "      <td>3</td>\n",
       "      <td>2013</td>\n",
       "      <td>yr2</td>\n",
       "      <td>-1</td>\n",
       "      <td>10</td>\n",
       "      <td>-277836</td>\n",
       "      <td>-19768132.90</td>\n",
       "      <td>-4196568.36</td>\n",
       "      <td>0.00</td>\n",
       "      <td>-1817060.11</td>\n",
       "      <td>-1748755.21</td>\n",
       "      <td>...</td>\n",
       "      <td>0.00</td>\n",
       "      <td>0.00</td>\n",
       "      <td>-415762.19</td>\n",
       "      <td>0.0</td>\n",
       "      <td>-2230480.90</td>\n",
       "      <td>0.00</td>\n",
       "      <td>0.00</td>\n",
       "      <td>-319919.42</td>\n",
       "      <td>-27530516.58</td>\n",
       "      <td>-506482</td>\n",
       "    </tr>\n",
       "    <tr>\n",
       "      <td>4</td>\n",
       "      <td>2013</td>\n",
       "      <td>yr2</td>\n",
       "      <td>1</td>\n",
       "      <td>12</td>\n",
       "      <td>42233</td>\n",
       "      <td>10643630.70</td>\n",
       "      <td>11071135.62</td>\n",
       "      <td>12587307.39</td>\n",
       "      <td>9581209.54</td>\n",
       "      <td>9407000.01</td>\n",
       "      <td>...</td>\n",
       "      <td>3355505.73</td>\n",
       "      <td>2803829.96</td>\n",
       "      <td>2597233.39</td>\n",
       "      <td>0.0</td>\n",
       "      <td>2261516.25</td>\n",
       "      <td>3786826.85</td>\n",
       "      <td>2813452.88</td>\n",
       "      <td>2303472.43</td>\n",
       "      <td>53290283.26</td>\n",
       "      <td>845675</td>\n",
       "    </tr>\n",
       "    <tr>\n",
       "      <td>5</td>\n",
       "      <td>2013</td>\n",
       "      <td>yr3</td>\n",
       "      <td>-1</td>\n",
       "      <td>40</td>\n",
       "      <td>-287434</td>\n",
       "      <td>-22051647.42</td>\n",
       "      <td>-5563765.55</td>\n",
       "      <td>-2996474.93</td>\n",
       "      <td>0.00</td>\n",
       "      <td>-1513770.38</td>\n",
       "      <td>...</td>\n",
       "      <td>-636413.30</td>\n",
       "      <td>0.00</td>\n",
       "      <td>0.00</td>\n",
       "      <td>0.0</td>\n",
       "      <td>-2757897.95</td>\n",
       "      <td>-1064713.46</td>\n",
       "      <td>0.00</td>\n",
       "      <td>0.00</td>\n",
       "      <td>-32125658.28</td>\n",
       "      <td>-576024</td>\n",
       "    </tr>\n",
       "    <tr>\n",
       "      <td>6</td>\n",
       "      <td>2013</td>\n",
       "      <td>yr3</td>\n",
       "      <td>1</td>\n",
       "      <td>44</td>\n",
       "      <td>32635</td>\n",
       "      <td>8360116.18</td>\n",
       "      <td>9703938.43</td>\n",
       "      <td>9590832.46</td>\n",
       "      <td>11398269.65</td>\n",
       "      <td>9641984.84</td>\n",
       "      <td>...</td>\n",
       "      <td>2719092.43</td>\n",
       "      <td>2803829.96</td>\n",
       "      <td>3012995.58</td>\n",
       "      <td>0.0</td>\n",
       "      <td>1734099.20</td>\n",
       "      <td>2722113.39</td>\n",
       "      <td>2813452.88</td>\n",
       "      <td>2623391.85</td>\n",
       "      <td>48695141.56</td>\n",
       "      <td>776133</td>\n",
       "    </tr>\n",
       "    <tr>\n",
       "      <td>7</td>\n",
       "      <td>2013</td>\n",
       "      <td>yr4</td>\n",
       "      <td>-1</td>\n",
       "      <td>136</td>\n",
       "      <td>-293140</td>\n",
       "      <td>-23062586.24</td>\n",
       "      <td>-6441706.57</td>\n",
       "      <td>-3741892.38</td>\n",
       "      <td>-2145888.54</td>\n",
       "      <td>0.00</td>\n",
       "      <td>...</td>\n",
       "      <td>-793181.18</td>\n",
       "      <td>-394288.65</td>\n",
       "      <td>0.00</td>\n",
       "      <td>0.0</td>\n",
       "      <td>-3075226.23</td>\n",
       "      <td>-1370405.33</td>\n",
       "      <td>-666334.01</td>\n",
       "      <td>0.00</td>\n",
       "      <td>-35392073.73</td>\n",
       "      <td>-620449</td>\n",
       "    </tr>\n",
       "    <tr>\n",
       "      <td>8</td>\n",
       "      <td>2013</td>\n",
       "      <td>yr4</td>\n",
       "      <td>1</td>\n",
       "      <td>144</td>\n",
       "      <td>26929</td>\n",
       "      <td>7349177.36</td>\n",
       "      <td>8825997.41</td>\n",
       "      <td>8845415.01</td>\n",
       "      <td>9252381.11</td>\n",
       "      <td>11155755.22</td>\n",
       "      <td>...</td>\n",
       "      <td>2562324.55</td>\n",
       "      <td>2409541.31</td>\n",
       "      <td>3012995.58</td>\n",
       "      <td>0.0</td>\n",
       "      <td>1416770.92</td>\n",
       "      <td>2416421.52</td>\n",
       "      <td>2147118.87</td>\n",
       "      <td>2623391.85</td>\n",
       "      <td>45428726.11</td>\n",
       "      <td>731708</td>\n",
       "    </tr>\n",
       "    <tr>\n",
       "      <td>9</td>\n",
       "      <td>2014</td>\n",
       "      <td>yr0</td>\n",
       "      <td>1</td>\n",
       "      <td>2</td>\n",
       "      <td>320673</td>\n",
       "      <td>26174282.52</td>\n",
       "      <td>7745897.26</td>\n",
       "      <td>6437708.77</td>\n",
       "      <td>5818855.02</td>\n",
       "      <td>1874641.80</td>\n",
       "      <td>...</td>\n",
       "      <td>2040239.80</td>\n",
       "      <td>1569322.23</td>\n",
       "      <td>294075.67</td>\n",
       "      <td>0.0</td>\n",
       "      <td>2633662.15</td>\n",
       "      <td>1618257.48</td>\n",
       "      <td>1510965.57</td>\n",
       "      <td>2001740.67</td>\n",
       "      <td>46176743.57</td>\n",
       "      <td>768060</td>\n",
       "    </tr>\n",
       "    <tr>\n",
       "      <td>10</td>\n",
       "      <td>2014</td>\n",
       "      <td>yr1</td>\n",
       "      <td>-1</td>\n",
       "      <td>4</td>\n",
       "      <td>-272006</td>\n",
       "      <td>-19384701.32</td>\n",
       "      <td>0.00</td>\n",
       "      <td>-1720387.10</td>\n",
       "      <td>-1606787.55</td>\n",
       "      <td>-490863.70</td>\n",
       "      <td>...</td>\n",
       "      <td>0.00</td>\n",
       "      <td>-346639.39</td>\n",
       "      <td>-71147.12</td>\n",
       "      <td>0.0</td>\n",
       "      <td>0.00</td>\n",
       "      <td>0.00</td>\n",
       "      <td>-253711.02</td>\n",
       "      <td>-281289.86</td>\n",
       "      <td>-22711875.97</td>\n",
       "      <td>-387249</td>\n",
       "    </tr>\n",
       "    <tr>\n",
       "      <td>11</td>\n",
       "      <td>2014</td>\n",
       "      <td>yr1</td>\n",
       "      <td>1</td>\n",
       "      <td>5</td>\n",
       "      <td>48667</td>\n",
       "      <td>6789581.20</td>\n",
       "      <td>7745897.26</td>\n",
       "      <td>4717321.67</td>\n",
       "      <td>4212067.47</td>\n",
       "      <td>1383778.10</td>\n",
       "      <td>...</td>\n",
       "      <td>2040239.80</td>\n",
       "      <td>1222682.84</td>\n",
       "      <td>222928.55</td>\n",
       "      <td>0.0</td>\n",
       "      <td>2633662.15</td>\n",
       "      <td>1618257.48</td>\n",
       "      <td>1257254.55</td>\n",
       "      <td>1720450.81</td>\n",
       "      <td>23464867.60</td>\n",
       "      <td>380811</td>\n",
       "    </tr>\n",
       "    <tr>\n",
       "      <td>12</td>\n",
       "      <td>2014</td>\n",
       "      <td>yr2</td>\n",
       "      <td>-1</td>\n",
       "      <td>18</td>\n",
       "      <td>-289148</td>\n",
       "      <td>-21507669.52</td>\n",
       "      <td>-3450557.91</td>\n",
       "      <td>0.00</td>\n",
       "      <td>-1464225.09</td>\n",
       "      <td>-484435.64</td>\n",
       "      <td>...</td>\n",
       "      <td>0.00</td>\n",
       "      <td>0.00</td>\n",
       "      <td>-79984.12</td>\n",
       "      <td>0.0</td>\n",
       "      <td>-1593545.93</td>\n",
       "      <td>0.00</td>\n",
       "      <td>0.00</td>\n",
       "      <td>-193803.77</td>\n",
       "      <td>-26422452.52</td>\n",
       "      <td>-454933</td>\n",
       "    </tr>\n",
       "    <tr>\n",
       "      <td>13</td>\n",
       "      <td>2014</td>\n",
       "      <td>yr2</td>\n",
       "      <td>1</td>\n",
       "      <td>20</td>\n",
       "      <td>31525</td>\n",
       "      <td>4666613.00</td>\n",
       "      <td>4295339.35</td>\n",
       "      <td>6437708.77</td>\n",
       "      <td>4354629.93</td>\n",
       "      <td>1390206.16</td>\n",
       "      <td>...</td>\n",
       "      <td>2040239.80</td>\n",
       "      <td>1569322.23</td>\n",
       "      <td>214091.55</td>\n",
       "      <td>0.0</td>\n",
       "      <td>1040116.22</td>\n",
       "      <td>1618257.48</td>\n",
       "      <td>1510965.57</td>\n",
       "      <td>1807936.90</td>\n",
       "      <td>19754291.05</td>\n",
       "      <td>313127</td>\n",
       "    </tr>\n",
       "    <tr>\n",
       "      <td>14</td>\n",
       "      <td>2014</td>\n",
       "      <td>yr3</td>\n",
       "      <td>-1</td>\n",
       "      <td>72</td>\n",
       "      <td>-296383</td>\n",
       "      <td>-22371644.97</td>\n",
       "      <td>-4223993.86</td>\n",
       "      <td>-2141435.50</td>\n",
       "      <td>0.00</td>\n",
       "      <td>-360904.31</td>\n",
       "      <td>...</td>\n",
       "      <td>-382694.38</td>\n",
       "      <td>0.00</td>\n",
       "      <td>0.00</td>\n",
       "      <td>0.0</td>\n",
       "      <td>-1757260.53</td>\n",
       "      <td>-658208.71</td>\n",
       "      <td>0.00</td>\n",
       "      <td>0.00</td>\n",
       "      <td>-28737074.33</td>\n",
       "      <td>-490015</td>\n",
       "    </tr>\n",
       "    <tr>\n",
       "      <td>15</td>\n",
       "      <td>2014</td>\n",
       "      <td>yr3</td>\n",
       "      <td>1</td>\n",
       "      <td>76</td>\n",
       "      <td>24290</td>\n",
       "      <td>3802637.55</td>\n",
       "      <td>3521903.40</td>\n",
       "      <td>4296273.27</td>\n",
       "      <td>5818855.02</td>\n",
       "      <td>1513737.49</td>\n",
       "      <td>...</td>\n",
       "      <td>1657545.42</td>\n",
       "      <td>1569322.23</td>\n",
       "      <td>294075.67</td>\n",
       "      <td>0.0</td>\n",
       "      <td>876401.62</td>\n",
       "      <td>960048.77</td>\n",
       "      <td>1510965.57</td>\n",
       "      <td>2001740.67</td>\n",
       "      <td>17439669.24</td>\n",
       "      <td>278045</td>\n",
       "    </tr>\n",
       "    <tr>\n",
       "      <td>16</td>\n",
       "      <td>2014</td>\n",
       "      <td>yr4</td>\n",
       "      <td>-1</td>\n",
       "      <td>264</td>\n",
       "      <td>-310941</td>\n",
       "      <td>-24397915.91</td>\n",
       "      <td>-5717318.83</td>\n",
       "      <td>-3737157.88</td>\n",
       "      <td>-2597452.53</td>\n",
       "      <td>0.00</td>\n",
       "      <td>...</td>\n",
       "      <td>-875442.34</td>\n",
       "      <td>-541333.44</td>\n",
       "      <td>0.00</td>\n",
       "      <td>0.0</td>\n",
       "      <td>-2238625.36</td>\n",
       "      <td>-1074074.74</td>\n",
       "      <td>-820206.31</td>\n",
       "      <td>0.00</td>\n",
       "      <td>-36449845.15</td>\n",
       "      <td>-603855</td>\n",
       "    </tr>\n",
       "    <tr>\n",
       "      <td>17</td>\n",
       "      <td>2014</td>\n",
       "      <td>yr4</td>\n",
       "      <td>1</td>\n",
       "      <td>272</td>\n",
       "      <td>9732</td>\n",
       "      <td>1776366.61</td>\n",
       "      <td>2028578.43</td>\n",
       "      <td>2700550.89</td>\n",
       "      <td>3221402.49</td>\n",
       "      <td>1874641.80</td>\n",
       "      <td>...</td>\n",
       "      <td>1164797.46</td>\n",
       "      <td>1027988.79</td>\n",
       "      <td>294075.67</td>\n",
       "      <td>0.0</td>\n",
       "      <td>395036.79</td>\n",
       "      <td>544182.74</td>\n",
       "      <td>690759.26</td>\n",
       "      <td>2001740.67</td>\n",
       "      <td>9726898.42</td>\n",
       "      <td>164205</td>\n",
       "    </tr>\n",
       "    <tr>\n",
       "      <td>18</td>\n",
       "      <td>2015</td>\n",
       "      <td>yr0</td>\n",
       "      <td>1</td>\n",
       "      <td>3</td>\n",
       "      <td>355137</td>\n",
       "      <td>30146878.32</td>\n",
       "      <td>8280549.87</td>\n",
       "      <td>7444145.63</td>\n",
       "      <td>2329381.58</td>\n",
       "      <td>0.00</td>\n",
       "      <td>...</td>\n",
       "      <td>2334629.05</td>\n",
       "      <td>350603.84</td>\n",
       "      <td>0.00</td>\n",
       "      <td>0.0</td>\n",
       "      <td>2560692.28</td>\n",
       "      <td>1665471.64</td>\n",
       "      <td>2580070.49</td>\n",
       "      <td>0.00</td>\n",
       "      <td>45871573.82</td>\n",
       "      <td>678938</td>\n",
       "    </tr>\n",
       "    <tr>\n",
       "      <td>19</td>\n",
       "      <td>2015</td>\n",
       "      <td>yr1</td>\n",
       "      <td>-1</td>\n",
       "      <td>6</td>\n",
       "      <td>-309059</td>\n",
       "      <td>-23316118.31</td>\n",
       "      <td>0.00</td>\n",
       "      <td>-1835616.24</td>\n",
       "      <td>-636792.63</td>\n",
       "      <td>0.00</td>\n",
       "      <td>...</td>\n",
       "      <td>0.00</td>\n",
       "      <td>-90023.85</td>\n",
       "      <td>0.00</td>\n",
       "      <td>0.0</td>\n",
       "      <td>0.00</td>\n",
       "      <td>0.00</td>\n",
       "      <td>-218309.95</td>\n",
       "      <td>0.00</td>\n",
       "      <td>-25151734.55</td>\n",
       "      <td>-401108</td>\n",
       "    </tr>\n",
       "    <tr>\n",
       "      <td>20</td>\n",
       "      <td>2015</td>\n",
       "      <td>yr1</td>\n",
       "      <td>1</td>\n",
       "      <td>7</td>\n",
       "      <td>46078</td>\n",
       "      <td>6830760.01</td>\n",
       "      <td>8280549.87</td>\n",
       "      <td>5608529.39</td>\n",
       "      <td>1692588.95</td>\n",
       "      <td>0.00</td>\n",
       "      <td>...</td>\n",
       "      <td>2334629.05</td>\n",
       "      <td>260579.99</td>\n",
       "      <td>0.00</td>\n",
       "      <td>0.0</td>\n",
       "      <td>2560692.28</td>\n",
       "      <td>1665471.64</td>\n",
       "      <td>2361760.54</td>\n",
       "      <td>0.00</td>\n",
       "      <td>20719839.27</td>\n",
       "      <td>277830</td>\n",
       "    </tr>\n",
       "    <tr>\n",
       "      <td>21</td>\n",
       "      <td>2015</td>\n",
       "      <td>yr2</td>\n",
       "      <td>-1</td>\n",
       "      <td>26</td>\n",
       "      <td>-323294</td>\n",
       "      <td>-24999632.91</td>\n",
       "      <td>-3341177.89</td>\n",
       "      <td>0.00</td>\n",
       "      <td>-516921.97</td>\n",
       "      <td>0.00</td>\n",
       "      <td>...</td>\n",
       "      <td>0.00</td>\n",
       "      <td>0.00</td>\n",
       "      <td>0.00</td>\n",
       "      <td>0.0</td>\n",
       "      <td>-1395012.84</td>\n",
       "      <td>0.00</td>\n",
       "      <td>0.00</td>\n",
       "      <td>0.00</td>\n",
       "      <td>-28340810.80</td>\n",
       "      <td>-445743</td>\n",
       "    </tr>\n",
       "    <tr>\n",
       "      <td>22</td>\n",
       "      <td>2015</td>\n",
       "      <td>yr2</td>\n",
       "      <td>1</td>\n",
       "      <td>28</td>\n",
       "      <td>31843</td>\n",
       "      <td>5147245.41</td>\n",
       "      <td>4939371.98</td>\n",
       "      <td>7444145.63</td>\n",
       "      <td>1812459.61</td>\n",
       "      <td>0.00</td>\n",
       "      <td>...</td>\n",
       "      <td>2334629.05</td>\n",
       "      <td>350603.84</td>\n",
       "      <td>0.00</td>\n",
       "      <td>0.0</td>\n",
       "      <td>1165679.44</td>\n",
       "      <td>1665471.64</td>\n",
       "      <td>2580070.49</td>\n",
       "      <td>0.00</td>\n",
       "      <td>17530763.02</td>\n",
       "      <td>233195</td>\n",
       "    </tr>\n",
       "    <tr>\n",
       "      <td>23</td>\n",
       "      <td>2015</td>\n",
       "      <td>yr3</td>\n",
       "      <td>-1</td>\n",
       "      <td>104</td>\n",
       "      <td>-343153</td>\n",
       "      <td>-27848879.30</td>\n",
       "      <td>-5394552.07</td>\n",
       "      <td>-3402219.37</td>\n",
       "      <td>0.00</td>\n",
       "      <td>0.00</td>\n",
       "      <td>...</td>\n",
       "      <td>-697760.65</td>\n",
       "      <td>0.00</td>\n",
       "      <td>0.00</td>\n",
       "      <td>0.0</td>\n",
       "      <td>-2041121.27</td>\n",
       "      <td>-992987.83</td>\n",
       "      <td>0.00</td>\n",
       "      <td>0.00</td>\n",
       "      <td>-36645650.74</td>\n",
       "      <td>-555563</td>\n",
       "    </tr>\n",
       "    <tr>\n",
       "      <td>24</td>\n",
       "      <td>2015</td>\n",
       "      <td>yr3</td>\n",
       "      <td>1</td>\n",
       "      <td>108</td>\n",
       "      <td>11984</td>\n",
       "      <td>2297999.02</td>\n",
       "      <td>2885997.80</td>\n",
       "      <td>4041926.26</td>\n",
       "      <td>2329381.58</td>\n",
       "      <td>0.00</td>\n",
       "      <td>...</td>\n",
       "      <td>1636868.40</td>\n",
       "      <td>350603.84</td>\n",
       "      <td>0.00</td>\n",
       "      <td>0.0</td>\n",
       "      <td>519571.01</td>\n",
       "      <td>672483.81</td>\n",
       "      <td>2580070.49</td>\n",
       "      <td>0.00</td>\n",
       "      <td>9225923.08</td>\n",
       "      <td>123375</td>\n",
       "    </tr>\n",
       "    <tr>\n",
       "      <td>25</td>\n",
       "      <td>2016</td>\n",
       "      <td>yr0</td>\n",
       "      <td>1</td>\n",
       "      <td>4</td>\n",
       "      <td>445598</td>\n",
       "      <td>36530214.52</td>\n",
       "      <td>10475760.27</td>\n",
       "      <td>2885540.02</td>\n",
       "      <td>0.00</td>\n",
       "      <td>0.00</td>\n",
       "      <td>...</td>\n",
       "      <td>491086.63</td>\n",
       "      <td>0.00</td>\n",
       "      <td>0.00</td>\n",
       "      <td>0.0</td>\n",
       "      <td>3301217.01</td>\n",
       "      <td>3056365.27</td>\n",
       "      <td>0.00</td>\n",
       "      <td>0.00</td>\n",
       "      <td>47005974.79</td>\n",
       "      <td>780150</td>\n",
       "    </tr>\n",
       "    <tr>\n",
       "      <td>26</td>\n",
       "      <td>2016</td>\n",
       "      <td>yr1</td>\n",
       "      <td>-1</td>\n",
       "      <td>8</td>\n",
       "      <td>-389060</td>\n",
       "      <td>-27839492.42</td>\n",
       "      <td>0.00</td>\n",
       "      <td>-763568.62</td>\n",
       "      <td>0.00</td>\n",
       "      <td>0.00</td>\n",
       "      <td>...</td>\n",
       "      <td>0.00</td>\n",
       "      <td>0.00</td>\n",
       "      <td>0.00</td>\n",
       "      <td>0.0</td>\n",
       "      <td>0.00</td>\n",
       "      <td>0.00</td>\n",
       "      <td>0.00</td>\n",
       "      <td>0.00</td>\n",
       "      <td>-27839492.42</td>\n",
       "      <td>-472034</td>\n",
       "    </tr>\n",
       "    <tr>\n",
       "      <td>27</td>\n",
       "      <td>2016</td>\n",
       "      <td>yr1</td>\n",
       "      <td>1</td>\n",
       "      <td>9</td>\n",
       "      <td>56538</td>\n",
       "      <td>8690722.10</td>\n",
       "      <td>10475760.27</td>\n",
       "      <td>2121971.40</td>\n",
       "      <td>0.00</td>\n",
       "      <td>0.00</td>\n",
       "      <td>...</td>\n",
       "      <td>491086.63</td>\n",
       "      <td>0.00</td>\n",
       "      <td>0.00</td>\n",
       "      <td>0.0</td>\n",
       "      <td>3301217.01</td>\n",
       "      <td>3056365.27</td>\n",
       "      <td>0.00</td>\n",
       "      <td>0.00</td>\n",
       "      <td>19166482.37</td>\n",
       "      <td>308116</td>\n",
       "    </tr>\n",
       "    <tr>\n",
       "      <td>28</td>\n",
       "      <td>2016</td>\n",
       "      <td>yr2</td>\n",
       "      <td>-1</td>\n",
       "      <td>34</td>\n",
       "      <td>-426925</td>\n",
       "      <td>-32824412.97</td>\n",
       "      <td>-5788510.23</td>\n",
       "      <td>0.00</td>\n",
       "      <td>0.00</td>\n",
       "      <td>0.00</td>\n",
       "      <td>...</td>\n",
       "      <td>0.00</td>\n",
       "      <td>0.00</td>\n",
       "      <td>0.00</td>\n",
       "      <td>0.0</td>\n",
       "      <td>-2509919.13</td>\n",
       "      <td>0.00</td>\n",
       "      <td>0.00</td>\n",
       "      <td>0.00</td>\n",
       "      <td>-38612923.20</td>\n",
       "      <td>-637411</td>\n",
       "    </tr>\n",
       "    <tr>\n",
       "      <td>29</td>\n",
       "      <td>2016</td>\n",
       "      <td>yr2</td>\n",
       "      <td>1</td>\n",
       "      <td>36</td>\n",
       "      <td>18673</td>\n",
       "      <td>3705801.55</td>\n",
       "      <td>4687250.04</td>\n",
       "      <td>2885540.02</td>\n",
       "      <td>0.00</td>\n",
       "      <td>0.00</td>\n",
       "      <td>...</td>\n",
       "      <td>491086.63</td>\n",
       "      <td>0.00</td>\n",
       "      <td>0.00</td>\n",
       "      <td>0.0</td>\n",
       "      <td>791297.88</td>\n",
       "      <td>3056365.27</td>\n",
       "      <td>0.00</td>\n",
       "      <td>0.00</td>\n",
       "      <td>8393051.59</td>\n",
       "      <td>142739</td>\n",
       "    </tr>\n",
       "    <tr>\n",
       "      <td>30</td>\n",
       "      <td>2017</td>\n",
       "      <td>yr0</td>\n",
       "      <td>1</td>\n",
       "      <td>5</td>\n",
       "      <td>434991</td>\n",
       "      <td>37973770.48</td>\n",
       "      <td>4549913.20</td>\n",
       "      <td>0.00</td>\n",
       "      <td>0.00</td>\n",
       "      <td>0.00</td>\n",
       "      <td>...</td>\n",
       "      <td>0.00</td>\n",
       "      <td>0.00</td>\n",
       "      <td>0.00</td>\n",
       "      <td>0.0</td>\n",
       "      <td>3282574.70</td>\n",
       "      <td>0.00</td>\n",
       "      <td>0.00</td>\n",
       "      <td>0.00</td>\n",
       "      <td>37973770.48</td>\n",
       "      <td>668558</td>\n",
       "    </tr>\n",
       "    <tr>\n",
       "      <td>31</td>\n",
       "      <td>2017</td>\n",
       "      <td>yr1</td>\n",
       "      <td>-1</td>\n",
       "      <td>10</td>\n",
       "      <td>-405001</td>\n",
       "      <td>-31672744.45</td>\n",
       "      <td>0.00</td>\n",
       "      <td>0.00</td>\n",
       "      <td>0.00</td>\n",
       "      <td>0.00</td>\n",
       "      <td>...</td>\n",
       "      <td>0.00</td>\n",
       "      <td>0.00</td>\n",
       "      <td>0.00</td>\n",
       "      <td>0.0</td>\n",
       "      <td>0.00</td>\n",
       "      <td>0.00</td>\n",
       "      <td>0.00</td>\n",
       "      <td>0.00</td>\n",
       "      <td>-31672744.45</td>\n",
       "      <td>-568125</td>\n",
       "    </tr>\n",
       "    <tr>\n",
       "      <td>32</td>\n",
       "      <td>2017</td>\n",
       "      <td>yr1</td>\n",
       "      <td>1</td>\n",
       "      <td>11</td>\n",
       "      <td>29990</td>\n",
       "      <td>6301026.03</td>\n",
       "      <td>4549913.20</td>\n",
       "      <td>0.00</td>\n",
       "      <td>0.00</td>\n",
       "      <td>0.00</td>\n",
       "      <td>...</td>\n",
       "      <td>0.00</td>\n",
       "      <td>0.00</td>\n",
       "      <td>0.00</td>\n",
       "      <td>0.0</td>\n",
       "      <td>3282574.70</td>\n",
       "      <td>0.00</td>\n",
       "      <td>0.00</td>\n",
       "      <td>0.00</td>\n",
       "      <td>6301026.03</td>\n",
       "      <td>100433</td>\n",
       "    </tr>\n",
       "    <tr>\n",
       "      <td>33</td>\n",
       "      <td>2018</td>\n",
       "      <td>yr0</td>\n",
       "      <td>1</td>\n",
       "      <td>6</td>\n",
       "      <td>147945</td>\n",
       "      <td>11275859.66</td>\n",
       "      <td>0.00</td>\n",
       "      <td>0.00</td>\n",
       "      <td>0.00</td>\n",
       "      <td>0.00</td>\n",
       "      <td>...</td>\n",
       "      <td>0.00</td>\n",
       "      <td>0.00</td>\n",
       "      <td>0.00</td>\n",
       "      <td>0.0</td>\n",
       "      <td>0.00</td>\n",
       "      <td>0.00</td>\n",
       "      <td>0.00</td>\n",
       "      <td>0.00</td>\n",
       "      <td>0.00</td>\n",
       "      <td>0</td>\n",
       "    </tr>\n",
       "  </tbody>\n",
       "</table>\n",
       "<p>34 rows × 88 columns</p>\n",
       "</div>"
      ],
      "text/plain": [
       "    cohort cohort_gift_year  neg_yr  Unnamed: 0  no_donors   amount_yr0  \\\n",
       "0     2013              yr0       1           1     320069  30411763.60   \n",
       "1     2013              yr1      -1           2    -257939 -17392582.86   \n",
       "2     2013              yr1       1           3      62130  13019180.74   \n",
       "3     2013              yr2      -1          10    -277836 -19768132.90   \n",
       "4     2013              yr2       1          12      42233  10643630.70   \n",
       "5     2013              yr3      -1          40    -287434 -22051647.42   \n",
       "6     2013              yr3       1          44      32635   8360116.18   \n",
       "7     2013              yr4      -1         136    -293140 -23062586.24   \n",
       "8     2013              yr4       1         144      26929   7349177.36   \n",
       "9     2014              yr0       1           2     320673  26174282.52   \n",
       "10    2014              yr1      -1           4    -272006 -19384701.32   \n",
       "11    2014              yr1       1           5      48667   6789581.20   \n",
       "12    2014              yr2      -1          18    -289148 -21507669.52   \n",
       "13    2014              yr2       1          20      31525   4666613.00   \n",
       "14    2014              yr3      -1          72    -296383 -22371644.97   \n",
       "15    2014              yr3       1          76      24290   3802637.55   \n",
       "16    2014              yr4      -1         264    -310941 -24397915.91   \n",
       "17    2014              yr4       1         272       9732   1776366.61   \n",
       "18    2015              yr0       1           3     355137  30146878.32   \n",
       "19    2015              yr1      -1           6    -309059 -23316118.31   \n",
       "20    2015              yr1       1           7      46078   6830760.01   \n",
       "21    2015              yr2      -1          26    -323294 -24999632.91   \n",
       "22    2015              yr2       1          28      31843   5147245.41   \n",
       "23    2015              yr3      -1         104    -343153 -27848879.30   \n",
       "24    2015              yr3       1         108      11984   2297999.02   \n",
       "25    2016              yr0       1           4     445598  36530214.52   \n",
       "26    2016              yr1      -1           8    -389060 -27839492.42   \n",
       "27    2016              yr1       1           9      56538   8690722.10   \n",
       "28    2016              yr2      -1          34    -426925 -32824412.97   \n",
       "29    2016              yr2       1          36      18673   3705801.55   \n",
       "30    2017              yr0       1           5     434991  37973770.48   \n",
       "31    2017              yr1      -1          10    -405001 -31672744.45   \n",
       "32    2017              yr1       1          11      29990   6301026.03   \n",
       "33    2018              yr0       1           6     147945  11275859.66   \n",
       "\n",
       "     amount_yr1   amount_yr2   amount_yr3   amount_yr4  ...  \\\n",
       "0   15267703.98  12587307.39  11398269.65  11155755.22  ...   \n",
       "1          0.00  -1947492.89  -1780321.28  -1714900.24  ...   \n",
       "2   15267703.98  10639814.50   9617948.37   9440854.98  ...   \n",
       "3   -4196568.36         0.00  -1817060.11  -1748755.21  ...   \n",
       "4   11071135.62  12587307.39   9581209.54   9407000.01  ...   \n",
       "5   -5563765.55  -2996474.93         0.00  -1513770.38  ...   \n",
       "6    9703938.43   9590832.46  11398269.65   9641984.84  ...   \n",
       "7   -6441706.57  -3741892.38  -2145888.54         0.00  ...   \n",
       "8    8825997.41   8845415.01   9252381.11  11155755.22  ...   \n",
       "9    7745897.26   6437708.77   5818855.02   1874641.80  ...   \n",
       "10         0.00  -1720387.10  -1606787.55   -490863.70  ...   \n",
       "11   7745897.26   4717321.67   4212067.47   1383778.10  ...   \n",
       "12  -3450557.91         0.00  -1464225.09   -484435.64  ...   \n",
       "13   4295339.35   6437708.77   4354629.93   1390206.16  ...   \n",
       "14  -4223993.86  -2141435.50         0.00   -360904.31  ...   \n",
       "15   3521903.40   4296273.27   5818855.02   1513737.49  ...   \n",
       "16  -5717318.83  -3737157.88  -2597452.53         0.00  ...   \n",
       "17   2028578.43   2700550.89   3221402.49   1874641.80  ...   \n",
       "18   8280549.87   7444145.63   2329381.58         0.00  ...   \n",
       "19         0.00  -1835616.24   -636792.63         0.00  ...   \n",
       "20   8280549.87   5608529.39   1692588.95         0.00  ...   \n",
       "21  -3341177.89         0.00   -516921.97         0.00  ...   \n",
       "22   4939371.98   7444145.63   1812459.61         0.00  ...   \n",
       "23  -5394552.07  -3402219.37         0.00         0.00  ...   \n",
       "24   2885997.80   4041926.26   2329381.58         0.00  ...   \n",
       "25  10475760.27   2885540.02         0.00         0.00  ...   \n",
       "26         0.00   -763568.62         0.00         0.00  ...   \n",
       "27  10475760.27   2121971.40         0.00         0.00  ...   \n",
       "28  -5788510.23         0.00         0.00         0.00  ...   \n",
       "29   4687250.04   2885540.02         0.00         0.00  ...   \n",
       "30   4549913.20         0.00         0.00         0.00  ...   \n",
       "31         0.00         0.00         0.00         0.00  ...   \n",
       "32   4549913.20         0.00         0.00         0.00  ...   \n",
       "33         0.00         0.00         0.00         0.00  ...   \n",
       "\n",
       "    upgraded_amount_yr2  upgraded_amount_yr3  upgraded_amount_yr4  \\\n",
       "0            3355505.73           2803829.96           3012995.58   \n",
       "1                  0.00           -350873.68           -423888.44   \n",
       "2            3355505.73           2452956.28           2589107.14   \n",
       "3                  0.00                 0.00           -415762.19   \n",
       "4            3355505.73           2803829.96           2597233.39   \n",
       "5            -636413.30                 0.00                 0.00   \n",
       "6            2719092.43           2803829.96           3012995.58   \n",
       "7            -793181.18           -394288.65                 0.00   \n",
       "8            2562324.55           2409541.31           3012995.58   \n",
       "9            2040239.80           1569322.23            294075.67   \n",
       "10                 0.00           -346639.39            -71147.12   \n",
       "11           2040239.80           1222682.84            222928.55   \n",
       "12                 0.00                 0.00            -79984.12   \n",
       "13           2040239.80           1569322.23            214091.55   \n",
       "14           -382694.38                 0.00                 0.00   \n",
       "15           1657545.42           1569322.23            294075.67   \n",
       "16           -875442.34           -541333.44                 0.00   \n",
       "17           1164797.46           1027988.79            294075.67   \n",
       "18           2334629.05            350603.84                 0.00   \n",
       "19                 0.00            -90023.85                 0.00   \n",
       "20           2334629.05            260579.99                 0.00   \n",
       "21                 0.00                 0.00                 0.00   \n",
       "22           2334629.05            350603.84                 0.00   \n",
       "23           -697760.65                 0.00                 0.00   \n",
       "24           1636868.40            350603.84                 0.00   \n",
       "25            491086.63                 0.00                 0.00   \n",
       "26                 0.00                 0.00                 0.00   \n",
       "27            491086.63                 0.00                 0.00   \n",
       "28                 0.00                 0.00                 0.00   \n",
       "29            491086.63                 0.00                 0.00   \n",
       "30                 0.00                 0.00                 0.00   \n",
       "31                 0.00                 0.00                 0.00   \n",
       "32                 0.00                 0.00                 0.00   \n",
       "33                 0.00                 0.00                 0.00   \n",
       "\n",
       "    downgraded_amount_yr0  downgraded_amount_yr1  downgraded_amount_yr2  \\\n",
       "0                     0.0             4491997.15             3786826.85   \n",
       "1                     0.0                   0.00                   0.00   \n",
       "2                     0.0             4491997.15             3786826.85   \n",
       "3                     0.0            -2230480.90                   0.00   \n",
       "4                     0.0             2261516.25             3786826.85   \n",
       "5                     0.0            -2757897.95            -1064713.46   \n",
       "6                     0.0             1734099.20             2722113.39   \n",
       "7                     0.0            -3075226.23            -1370405.33   \n",
       "8                     0.0             1416770.92             2416421.52   \n",
       "9                     0.0             2633662.15             1618257.48   \n",
       "10                    0.0                   0.00                   0.00   \n",
       "11                    0.0             2633662.15             1618257.48   \n",
       "12                    0.0            -1593545.93                   0.00   \n",
       "13                    0.0             1040116.22             1618257.48   \n",
       "14                    0.0            -1757260.53             -658208.71   \n",
       "15                    0.0              876401.62              960048.77   \n",
       "16                    0.0            -2238625.36            -1074074.74   \n",
       "17                    0.0              395036.79              544182.74   \n",
       "18                    0.0             2560692.28             1665471.64   \n",
       "19                    0.0                   0.00                   0.00   \n",
       "20                    0.0             2560692.28             1665471.64   \n",
       "21                    0.0            -1395012.84                   0.00   \n",
       "22                    0.0             1165679.44             1665471.64   \n",
       "23                    0.0            -2041121.27             -992987.83   \n",
       "24                    0.0              519571.01              672483.81   \n",
       "25                    0.0             3301217.01             3056365.27   \n",
       "26                    0.0                   0.00                   0.00   \n",
       "27                    0.0             3301217.01             3056365.27   \n",
       "28                    0.0            -2509919.13                   0.00   \n",
       "29                    0.0              791297.88             3056365.27   \n",
       "30                    0.0             3282574.70                   0.00   \n",
       "31                    0.0                   0.00                   0.00   \n",
       "32                    0.0             3282574.70                   0.00   \n",
       "33                    0.0                   0.00                   0.00   \n",
       "\n",
       "    downgraded_amount_yr3  downgraded_amount_yr4  amount_total  count_total  \n",
       "0              2813452.88             2623391.85   80820799.84      1352157  \n",
       "1              -273660.43             -301464.63  -22835297.27      -404255  \n",
       "2              2539792.45             2321927.22   57985502.57       947902  \n",
       "3                    0.00             -319919.42  -27530516.58      -506482  \n",
       "4              2813452.88             2303472.43   53290283.26       845675  \n",
       "5                    0.00                   0.00  -32125658.28      -576024  \n",
       "6              2813452.88             2623391.85   48695141.56       776133  \n",
       "7              -666334.01                   0.00  -35392073.73      -620449  \n",
       "8              2147118.87             2623391.85   45428726.11       731708  \n",
       "9              1510965.57             2001740.67   46176743.57       768060  \n",
       "10             -253711.02             -281289.86  -22711875.97      -387249  \n",
       "11             1257254.55             1720450.81   23464867.60       380811  \n",
       "12                   0.00             -193803.77  -26422452.52      -454933  \n",
       "13             1510965.57             1807936.90   19754291.05       313127  \n",
       "14                   0.00                   0.00  -28737074.33      -490015  \n",
       "15             1510965.57             2001740.67   17439669.24       278045  \n",
       "16             -820206.31                   0.00  -36449845.15      -603855  \n",
       "17              690759.26             2001740.67    9726898.42       164205  \n",
       "18             2580070.49                   0.00   45871573.82       678938  \n",
       "19             -218309.95                   0.00  -25151734.55      -401108  \n",
       "20             2361760.54                   0.00   20719839.27       277830  \n",
       "21                   0.00                   0.00  -28340810.80      -445743  \n",
       "22             2580070.49                   0.00   17530763.02       233195  \n",
       "23                   0.00                   0.00  -36645650.74      -555563  \n",
       "24             2580070.49                   0.00    9225923.08       123375  \n",
       "25                   0.00                   0.00   47005974.79       780150  \n",
       "26                   0.00                   0.00  -27839492.42      -472034  \n",
       "27                   0.00                   0.00   19166482.37       308116  \n",
       "28                   0.00                   0.00  -38612923.20      -637411  \n",
       "29                   0.00                   0.00    8393051.59       142739  \n",
       "30                   0.00                   0.00   37973770.48       668558  \n",
       "31                   0.00                   0.00  -31672744.45      -568125  \n",
       "32                   0.00                   0.00    6301026.03       100433  \n",
       "33                   0.00                   0.00          0.00            0  \n",
       "\n",
       "[34 rows x 88 columns]"
      ]
     },
     "execution_count": 43,
     "metadata": {},
     "output_type": "execute_result"
    }
   ],
   "source": [
    "df5.groupby(['cohort', 'cohort_gift_year', 'neg_yr']).sum().reset_index()\n"
   ]
  },
  {
   "cell_type": "code",
   "execution_count": 190,
   "metadata": {},
   "outputs": [
    {
     "data": {
      "application/vnd.plotly.v1+json": {
       "config": {
        "plotlyServerURL": "https://plot.ly"
       },
       "data": [
        {
         "alignmentgroup": "True",
         "hovertemplate": "cohort_gift_year=yr0<br>cohort=%{x}<br>no_donors=%{y}<extra></extra>",
         "legendgroup": "yr0",
         "marker": {
          "color": "#1F77B4"
         },
         "name": "yr0",
         "offsetgroup": "yr0",
         "orientation": "v",
         "showlegend": true,
         "textposition": "auto",
         "type": "bar",
         "x": [
          "cohort13",
          "cohort14",
          "cohort15",
          "cohort16",
          "cohort17",
          "cohort18"
         ],
         "xaxis": "x",
         "y": [
          320069,
          320673,
          355137,
          445598,
          434991,
          147945
         ],
         "yaxis": "y"
        },
        {
         "alignmentgroup": "True",
         "hovertemplate": "cohort_gift_year=yr1<br>cohort=%{x}<br>no_donors=%{y}<extra></extra>",
         "legendgroup": "yr1",
         "marker": {
          "color": "#FF7F0E"
         },
         "name": "yr1",
         "offsetgroup": "yr1",
         "orientation": "v",
         "showlegend": true,
         "textposition": "auto",
         "type": "bar",
         "x": [
          "cohort13",
          "cohort14",
          "cohort15",
          "cohort16",
          "cohort17"
         ],
         "xaxis": "x",
         "y": [
          62130,
          48667,
          46078,
          56538,
          29990
         ],
         "yaxis": "y"
        }
       ],
       "layout": {
        "barmode": "group",
        "coloraxis": {
         "showscale": false
        },
        "legend": {
         "title": {
          "text": "cohort_gift_year"
         },
         "tracegroupgap": 0
        },
        "template": {
         "data": {
          "pie": [
           {
            "automargin": true,
            "type": "pie"
           }
          ],
          "scatter": [
           {
            "line": {
             "width": 3
            },
            "marker": {
             "size": 9
            },
            "type": "scatter"
           }
          ],
          "scatter3d": [
           {
            "line": {
             "width": 3
            },
            "marker": {
             "size": 9
            },
            "type": "scatter3d"
           }
          ],
          "scattergeo": [
           {
            "line": {
             "width": 3
            },
            "marker": {
             "size": 9
            },
            "type": "scattergeo"
           }
          ],
          "scattergl": [
           {
            "line": {
             "width": 3
            },
            "marker": {
             "size": 9
            },
            "type": "scattergl"
           }
          ],
          "scatterpolar": [
           {
            "line": {
             "width": 3
            },
            "marker": {
             "size": 9
            },
            "type": "scatterpolar"
           }
          ],
          "scatterpolargl": [
           {
            "line": {
             "width": 3
            },
            "marker": {
             "size": 9
            },
            "type": "scatterpolargl"
           }
          ],
          "scatterternary": [
           {
            "line": {
             "width": 3
            },
            "marker": {
             "size": 9
            },
            "type": "scatterternary"
           }
          ],
          "table": [
           {
            "cells": {
             "height": 30
            },
            "header": {
             "height": 36
            },
            "type": "table"
           }
          ]
         },
         "layout": {
          "font": {
           "size": 18
          },
          "xaxis": {
           "title": {
            "standoff": 15
           }
          },
          "yaxis": {
           "title": {
            "standoff": 15
           }
          }
         }
        },
        "title": {
         "text": "1. Donor Behavior over Time, by Cohort"
        },
        "xaxis": {
         "anchor": "y",
         "domain": [
          0,
          1
         ],
         "title": {
          "text": "cohort"
         }
        },
        "yaxis": {
         "anchor": "x",
         "domain": [
          0,
          1
         ],
         "title": {
          "text": "no_donors"
         }
        }
       }
      },
      "text/html": [
       "<div>\n",
       "        \n",
       "        \n",
       "            <div id=\"5973f771-4484-4d15-9fb5-1016bb26d26a\" class=\"plotly-graph-div\" style=\"height:525px; width:100%;\"></div>\n",
       "            <script type=\"text/javascript\">\n",
       "                require([\"plotly\"], function(Plotly) {\n",
       "                    window.PLOTLYENV=window.PLOTLYENV || {};\n",
       "                    \n",
       "                if (document.getElementById(\"5973f771-4484-4d15-9fb5-1016bb26d26a\")) {\n",
       "                    Plotly.newPlot(\n",
       "                        '5973f771-4484-4d15-9fb5-1016bb26d26a',\n",
       "                        [{\"alignmentgroup\": \"True\", \"hovertemplate\": \"cohort_gift_year=yr0<br>cohort=%{x}<br>no_donors=%{y}<extra></extra>\", \"legendgroup\": \"yr0\", \"marker\": {\"color\": \"#1F77B4\"}, \"name\": \"yr0\", \"offsetgroup\": \"yr0\", \"orientation\": \"v\", \"showlegend\": true, \"textposition\": \"auto\", \"type\": \"bar\", \"x\": [\"cohort13\", \"cohort14\", \"cohort15\", \"cohort16\", \"cohort17\", \"cohort18\"], \"xaxis\": \"x\", \"y\": [320069, 320673, 355137, 445598, 434991, 147945], \"yaxis\": \"y\"}, {\"alignmentgroup\": \"True\", \"hovertemplate\": \"cohort_gift_year=yr1<br>cohort=%{x}<br>no_donors=%{y}<extra></extra>\", \"legendgroup\": \"yr1\", \"marker\": {\"color\": \"#FF7F0E\"}, \"name\": \"yr1\", \"offsetgroup\": \"yr1\", \"orientation\": \"v\", \"showlegend\": true, \"textposition\": \"auto\", \"type\": \"bar\", \"x\": [\"cohort13\", \"cohort14\", \"cohort15\", \"cohort16\", \"cohort17\"], \"xaxis\": \"x\", \"y\": [62130, 48667, 46078, 56538, 29990], \"yaxis\": \"y\"}],\n",
       "                        {\"barmode\": \"group\", \"coloraxis\": {\"showscale\": false}, \"legend\": {\"title\": {\"text\": \"cohort_gift_year\"}, \"tracegroupgap\": 0}, \"template\": {\"data\": {\"pie\": [{\"automargin\": true, \"type\": \"pie\"}], \"scatter\": [{\"line\": {\"width\": 3}, \"marker\": {\"size\": 9}, \"type\": \"scatter\"}], \"scatter3d\": [{\"line\": {\"width\": 3}, \"marker\": {\"size\": 9}, \"type\": \"scatter3d\"}], \"scattergeo\": [{\"line\": {\"width\": 3}, \"marker\": {\"size\": 9}, \"type\": \"scattergeo\"}], \"scattergl\": [{\"line\": {\"width\": 3}, \"marker\": {\"size\": 9}, \"type\": \"scattergl\"}], \"scatterpolar\": [{\"line\": {\"width\": 3}, \"marker\": {\"size\": 9}, \"type\": \"scatterpolar\"}], \"scatterpolargl\": [{\"line\": {\"width\": 3}, \"marker\": {\"size\": 9}, \"type\": \"scatterpolargl\"}], \"scatterternary\": [{\"line\": {\"width\": 3}, \"marker\": {\"size\": 9}, \"type\": \"scatterternary\"}], \"table\": [{\"cells\": {\"height\": 30}, \"header\": {\"height\": 36}, \"type\": \"table\"}]}, \"layout\": {\"font\": {\"size\": 18}, \"xaxis\": {\"title\": {\"standoff\": 15}}, \"yaxis\": {\"title\": {\"standoff\": 15}}}}, \"title\": {\"text\": \"1. Donor Behavior over Time, by Cohort\"}, \"xaxis\": {\"anchor\": \"y\", \"domain\": [0.0, 1.0], \"title\": {\"text\": \"cohort\"}}, \"yaxis\": {\"anchor\": \"x\", \"domain\": [0.0, 1.0], \"title\": {\"text\": \"no_donors\"}}},\n",
       "                        {\"responsive\": true}\n",
       "                    ).then(function(){\n",
       "                            \n",
       "var gd = document.getElementById('5973f771-4484-4d15-9fb5-1016bb26d26a');\n",
       "var x = new MutationObserver(function (mutations, observer) {{\n",
       "        var display = window.getComputedStyle(gd).display;\n",
       "        if (!display || display === 'none') {{\n",
       "            console.log([gd, 'removed!']);\n",
       "            Plotly.purge(gd);\n",
       "            observer.disconnect();\n",
       "        }}\n",
       "}});\n",
       "\n",
       "// Listen for the removal of the full notebook cells\n",
       "var notebookContainer = gd.closest('#notebook-container');\n",
       "if (notebookContainer) {{\n",
       "    x.observe(notebookContainer, {childList: true});\n",
       "}}\n",
       "\n",
       "// Listen for the clearing of the current output cell\n",
       "var outputEl = gd.closest('.output');\n",
       "if (outputEl) {{\n",
       "    x.observe(outputEl, {childList: true});\n",
       "}}\n",
       "\n",
       "                        })\n",
       "                };\n",
       "                });\n",
       "            </script>\n",
       "        </div>"
      ]
     },
     "metadata": {},
     "output_type": "display_data"
    }
   ],
   "source": [
    "pio.templates.default = \"presentation\"\n",
    "\n",
    "color_discrete_map=[[0, 'rgb(255,255,255)'],#white\n",
    "            [0.08, 'rgb(255,255,255'], \n",
    "            [0.08, 'rgb(255,165,0)'],#orange\n",
    "            [0.4, 'rgb(255,165,0)'],\n",
    "            [0.4, 'rgb(255,0,0'], #red\n",
    "            [0.8, 'rgb(255,0,0)'],\n",
    "            [0.8, 'rgb(0,0,255)'], #blue\n",
    "            [1, 'rgb(0,0,255)']]\n",
    "\n",
    "df5.loc[:,\"neg_yr\"] = df5[\"neg_yr\"].astype(int)\n",
    "\n",
    "\n",
    "data=df5.groupby(['cohort', 'cohort_gift_year', 'neg_yr']).sum().reset_index().query('cohort == 2013')\n",
    "x=\"cohort_gift_year\"\n",
    "y=\"no_donors\"\n",
    "color=\"neg_yr\"\n",
    "\n",
    "trace1 = px.bar(data, x=x, y=y, color=color, barmode='group',\n",
    "            title=\"1. Donor Behavior over Time, by Cohort\",\n",
    "                color_discrete_map=color_discrete_map,\n",
    "         #    marker=dict(color='green'),\n",
    "\n",
    "           #color_discrete_sequence =['red','seagreen' \n",
    "                                     #'tomato', 'mediumseagreen'\n",
    "                                    \n",
    "           # hover_data=['cohort', 'no_donors', 'count_yr2'],\n",
    "            # labels={'cohort':'class'}, \n",
    "             height=500)\n",
    " #barmode='group', labels={'index':'year', 'y':'amount ($)'}, \n",
    "#fig.update_xaxes(type='category')\n",
    "#fig.layout.update(showlegend=False)\n",
    "fig.update_layout(coloraxis_showscale=False)\n",
    "#fig.layout\n",
    "fig.show()"
   ]
  },
  {
   "cell_type": "code",
   "execution_count": 191,
   "metadata": {},
   "outputs": [
    {
     "data": {
      "application/vnd.plotly.v1+json": {
       "config": {
        "plotlyServerURL": "https://plot.ly"
       },
       "data": [],
       "layout": {
        "barmode": "group",
        "coloraxis": {
         "colorbar": {
          "title": {
           "text": "neg_yr"
          }
         },
         "colorscale": [
          [
           0,
           "rgb(165,0,38)"
          ],
          [
           0.1,
           "rgb(215,48,39)"
          ],
          [
           0.2,
           "rgb(244,109,67)"
          ],
          [
           0.3,
           "rgb(253,174,97)"
          ],
          [
           0.4,
           "rgb(254,224,139)"
          ],
          [
           0.5,
           "rgb(255,255,191)"
          ],
          [
           0.6,
           "rgb(217,239,139)"
          ],
          [
           0.7,
           "rgb(166,217,106)"
          ],
          [
           0.8,
           "rgb(102,189,99)"
          ],
          [
           0.9,
           "rgb(26,152,80)"
          ],
          [
           1,
           "rgb(0,104,55)"
          ]
         ],
         "showscale": false
        },
        "height": 500,
        "legend": {
         "orientation": "h",
         "tracegroupgap": 0,
         "x": 1,
         "xanchor": "right",
         "y": 1.02,
         "yanchor": "bottom"
        },
        "showlegend": true,
        "template": {
         "data": {
          "pie": [
           {
            "automargin": true,
            "type": "pie"
           }
          ],
          "scatter": [
           {
            "line": {
             "width": 3
            },
            "marker": {
             "size": 9
            },
            "type": "scatter"
           }
          ],
          "scatter3d": [
           {
            "line": {
             "width": 3
            },
            "marker": {
             "size": 9
            },
            "type": "scatter3d"
           }
          ],
          "scattergeo": [
           {
            "line": {
             "width": 3
            },
            "marker": {
             "size": 9
            },
            "type": "scattergeo"
           }
          ],
          "scattergl": [
           {
            "line": {
             "width": 3
            },
            "marker": {
             "size": 9
            },
            "type": "scattergl"
           }
          ],
          "scatterpolar": [
           {
            "line": {
             "width": 3
            },
            "marker": {
             "size": 9
            },
            "type": "scatterpolar"
           }
          ],
          "scatterpolargl": [
           {
            "line": {
             "width": 3
            },
            "marker": {
             "size": 9
            },
            "type": "scatterpolargl"
           }
          ],
          "scatterternary": [
           {
            "line": {
             "width": 3
            },
            "marker": {
             "size": 9
            },
            "type": "scatterternary"
           }
          ],
          "table": [
           {
            "cells": {
             "height": 30
            },
            "header": {
             "height": 36
            },
            "type": "table"
           }
          ]
         },
         "layout": {
          "font": {
           "size": 18
          },
          "xaxis": {
           "title": {
            "standoff": 15
           }
          },
          "yaxis": {
           "title": {
            "standoff": 15
           }
          }
         }
        },
        "title": {
         "text": "1. Donor Behavior over Time, by Cohort"
        },
        "xaxis": {
         "anchor": "y",
         "domain": [
          0,
          1
         ],
         "title": {
          "text": "cohort_gift_year"
         }
        },
        "yaxis": {
         "anchor": "x",
         "domain": [
          0,
          1
         ],
         "title": {
          "text": "no_donors"
         }
        }
       }
      },
      "text/html": [
       "<div>\n",
       "        \n",
       "        \n",
       "            <div id=\"aad92e83-1424-456d-bb0b-c1547e391fe7\" class=\"plotly-graph-div\" style=\"height:500px; width:100%;\"></div>\n",
       "            <script type=\"text/javascript\">\n",
       "                require([\"plotly\"], function(Plotly) {\n",
       "                    window.PLOTLYENV=window.PLOTLYENV || {};\n",
       "                    \n",
       "                if (document.getElementById(\"aad92e83-1424-456d-bb0b-c1547e391fe7\")) {\n",
       "                    Plotly.newPlot(\n",
       "                        'aad92e83-1424-456d-bb0b-c1547e391fe7',\n",
       "                        [],\n",
       "                        {\"barmode\": \"group\", \"coloraxis\": {\"colorbar\": {\"title\": {\"text\": \"neg_yr\"}}, \"colorscale\": [[0.0, \"rgb(165,0,38)\"], [0.1, \"rgb(215,48,39)\"], [0.2, \"rgb(244,109,67)\"], [0.3, \"rgb(253,174,97)\"], [0.4, \"rgb(254,224,139)\"], [0.5, \"rgb(255,255,191)\"], [0.6, \"rgb(217,239,139)\"], [0.7, \"rgb(166,217,106)\"], [0.8, \"rgb(102,189,99)\"], [0.9, \"rgb(26,152,80)\"], [1.0, \"rgb(0,104,55)\"]], \"showscale\": false}, \"height\": 500, \"legend\": {\"orientation\": \"h\", \"tracegroupgap\": 0, \"x\": 1, \"xanchor\": \"right\", \"y\": 1.02, \"yanchor\": \"bottom\"}, \"showlegend\": true, \"template\": {\"data\": {\"pie\": [{\"automargin\": true, \"type\": \"pie\"}], \"scatter\": [{\"line\": {\"width\": 3}, \"marker\": {\"size\": 9}, \"type\": \"scatter\"}], \"scatter3d\": [{\"line\": {\"width\": 3}, \"marker\": {\"size\": 9}, \"type\": \"scatter3d\"}], \"scattergeo\": [{\"line\": {\"width\": 3}, \"marker\": {\"size\": 9}, \"type\": \"scattergeo\"}], \"scattergl\": [{\"line\": {\"width\": 3}, \"marker\": {\"size\": 9}, \"type\": \"scattergl\"}], \"scatterpolar\": [{\"line\": {\"width\": 3}, \"marker\": {\"size\": 9}, \"type\": \"scatterpolar\"}], \"scatterpolargl\": [{\"line\": {\"width\": 3}, \"marker\": {\"size\": 9}, \"type\": \"scatterpolargl\"}], \"scatterternary\": [{\"line\": {\"width\": 3}, \"marker\": {\"size\": 9}, \"type\": \"scatterternary\"}], \"table\": [{\"cells\": {\"height\": 30}, \"header\": {\"height\": 36}, \"type\": \"table\"}]}, \"layout\": {\"font\": {\"size\": 18}, \"xaxis\": {\"title\": {\"standoff\": 15}}, \"yaxis\": {\"title\": {\"standoff\": 15}}}}, \"title\": {\"text\": \"1. Donor Behavior over Time, by Cohort\"}, \"xaxis\": {\"anchor\": \"y\", \"domain\": [0.0, 1.0], \"title\": {\"text\": \"cohort_gift_year\"}}, \"yaxis\": {\"anchor\": \"x\", \"domain\": [0.0, 1.0], \"title\": {\"text\": \"no_donors\"}}},\n",
       "                        {\"responsive\": true}\n",
       "                    ).then(function(){\n",
       "                            \n",
       "var gd = document.getElementById('aad92e83-1424-456d-bb0b-c1547e391fe7');\n",
       "var x = new MutationObserver(function (mutations, observer) {{\n",
       "        var display = window.getComputedStyle(gd).display;\n",
       "        if (!display || display === 'none') {{\n",
       "            console.log([gd, 'removed!']);\n",
       "            Plotly.purge(gd);\n",
       "            observer.disconnect();\n",
       "        }}\n",
       "}});\n",
       "\n",
       "// Listen for the removal of the full notebook cells\n",
       "var notebookContainer = gd.closest('#notebook-container');\n",
       "if (notebookContainer) {{\n",
       "    x.observe(notebookContainer, {childList: true});\n",
       "}}\n",
       "\n",
       "// Listen for the clearing of the current output cell\n",
       "var outputEl = gd.closest('.output');\n",
       "if (outputEl) {{\n",
       "    x.observe(outputEl, {childList: true});\n",
       "}}\n",
       "\n",
       "                        })\n",
       "                };\n",
       "                });\n",
       "            </script>\n",
       "        </div>"
      ]
     },
     "metadata": {},
     "output_type": "display_data"
    }
   ],
   "source": [
    "data=df5.groupby(['cohort', 'cohort_gift_year', 'neg_yr']).sum().reset_index().query('cohort == 2013')\n",
    "x=\"cohort_gift_year\"\n",
    "y=\"no_donors\"\n",
    "color=\"neg_yr\"\n",
    "\n",
    "fig = px.bar(data, x=x, y=y, color=color, barmode='group',\n",
    "            title=\"1. Donor Behavior over Time, by Cohort\",\n",
    "            color_continuous_scale=\"RdYlGn\",                        \n",
    "           # hover_data=['cohort', 'no_donors', 'count_yr2'],\n",
    "            # labels={'cohort':'class'}, \n",
    "             height=500)\n",
    "\n",
    "fig.update_layout(legend=dict(\n",
    "    orientation=\"h\",\n",
    "    yanchor=\"bottom\",\n",
    "    y=1.02,\n",
    "    xanchor=\"right\",\n",
    "    x=1\n",
    "))\n",
    "\n",
    "fig.update_layout(coloraxis_showscale=False)\n",
    "fig.update_layout(showlegend=True)\n",
    "\n",
    "fig.show()"
   ]
  },
  {
   "cell_type": "code",
   "execution_count": 192,
   "metadata": {},
   "outputs": [
    {
     "ename": "ValueError",
     "evalue": "\n    Invalid value of type 'builtins.str' received for the 'color' property of bar.marker\n        Received value: 'no_donors'\n\n    The 'color' property is a color and may be specified as:\n      - A hex string (e.g. '#ff0000')\n      - An rgb/rgba string (e.g. 'rgb(255,0,0)')\n      - An hsl/hsla string (e.g. 'hsl(0,100%,50%)')\n      - An hsv/hsva string (e.g. 'hsv(0,100%,100%)')\n      - A named CSS color:\n            aliceblue, antiquewhite, aqua, aquamarine, azure,\n            beige, bisque, black, blanchedalmond, blue,\n            blueviolet, brown, burlywood, cadetblue,\n            chartreuse, chocolate, coral, cornflowerblue,\n            cornsilk, crimson, cyan, darkblue, darkcyan,\n            darkgoldenrod, darkgray, darkgrey, darkgreen,\n            darkkhaki, darkmagenta, darkolivegreen, darkorange,\n            darkorchid, darkred, darksalmon, darkseagreen,\n            darkslateblue, darkslategray, darkslategrey,\n            darkturquoise, darkviolet, deeppink, deepskyblue,\n            dimgray, dimgrey, dodgerblue, firebrick,\n            floralwhite, forestgreen, fuchsia, gainsboro,\n            ghostwhite, gold, goldenrod, gray, grey, green,\n            greenyellow, honeydew, hotpink, indianred, indigo,\n            ivory, khaki, lavender, lavenderblush, lawngreen,\n            lemonchiffon, lightblue, lightcoral, lightcyan,\n            lightgoldenrodyellow, lightgray, lightgrey,\n            lightgreen, lightpink, lightsalmon, lightseagreen,\n            lightskyblue, lightslategray, lightslategrey,\n            lightsteelblue, lightyellow, lime, limegreen,\n            linen, magenta, maroon, mediumaquamarine,\n            mediumblue, mediumorchid, mediumpurple,\n            mediumseagreen, mediumslateblue, mediumspringgreen,\n            mediumturquoise, mediumvioletred, midnightblue,\n            mintcream, mistyrose, moccasin, navajowhite, navy,\n            oldlace, olive, olivedrab, orange, orangered,\n            orchid, palegoldenrod, palegreen, paleturquoise,\n            palevioletred, papayawhip, peachpuff, peru, pink,\n            plum, powderblue, purple, red, rosybrown,\n            royalblue, rebeccapurple, saddlebrown, salmon,\n            sandybrown, seagreen, seashell, sienna, silver,\n            skyblue, slateblue, slategray, slategrey, snow,\n            springgreen, steelblue, tan, teal, thistle, tomato,\n            turquoise, violet, wheat, white, whitesmoke,\n            yellow, yellowgreen\n      - A number that will be interpreted as a color\n        according to bar.marker.colorscale\n      - A list or array of any of the above",
     "output_type": "error",
     "traceback": [
      "\u001b[1;31m---------------------------------------------------------------------------\u001b[0m",
      "\u001b[1;31mValueError\u001b[0m                                Traceback (most recent call last)",
      "\u001b[1;32m<ipython-input-192-29250c7b848c>\u001b[0m in \u001b[0;36m<module>\u001b[1;34m\u001b[0m\n\u001b[0;32m     20\u001b[0m fig = go.FigureWidget(data=[go.Bar(x=x, y=y,\n\u001b[0;32m     21\u001b[0m                                  marker={'color': y,\n\u001b[1;32m---> 22\u001b[1;33m                                                'colorscale': 'Viridis'})]) \n\u001b[0m\u001b[0;32m     23\u001b[0m \u001b[1;31m# fig.update_layout(coloraxis_colorbar=dict(\u001b[0m\u001b[1;33m\u001b[0m\u001b[1;33m\u001b[0m\u001b[1;33m\u001b[0m\u001b[0m\n\u001b[0;32m     24\u001b[0m \u001b[1;31m#     title=\"\",\u001b[0m\u001b[1;33m\u001b[0m\u001b[1;33m\u001b[0m\u001b[1;33m\u001b[0m\u001b[0m\n",
      "\u001b[1;32m~\\Anaconda3\\lib\\site-packages\\plotly\\graph_objs\\_bar.py\u001b[0m in \u001b[0;36m__init__\u001b[1;34m(self, arg, alignmentgroup, base, basesrc, cliponaxis, constraintext, customdata, customdatasrc, dx, dy, error_x, error_y, hoverinfo, hoverinfosrc, hoverlabel, hovertemplate, hovertemplatesrc, hovertext, hovertextsrc, ids, idssrc, insidetextanchor, insidetextfont, legendgroup, marker, meta, metasrc, name, offset, offsetgroup, offsetsrc, opacity, orientation, outsidetextfont, r, rsrc, selected, selectedpoints, showlegend, stream, t, text, textangle, textfont, textposition, textpositionsrc, textsrc, texttemplate, texttemplatesrc, tsrc, uid, uirevision, unselected, visible, width, widthsrc, x, x0, xaxis, xcalendar, xsrc, y, y0, yaxis, ycalendar, ysrc, **kwargs)\u001b[0m\n\u001b[0;32m   2749\u001b[0m         \u001b[0m_v\u001b[0m \u001b[1;33m=\u001b[0m \u001b[0mmarker\u001b[0m \u001b[1;32mif\u001b[0m \u001b[0mmarker\u001b[0m \u001b[1;32mis\u001b[0m \u001b[1;32mnot\u001b[0m \u001b[1;32mNone\u001b[0m \u001b[1;32melse\u001b[0m \u001b[0m_v\u001b[0m\u001b[1;33m\u001b[0m\u001b[1;33m\u001b[0m\u001b[0m\n\u001b[0;32m   2750\u001b[0m         \u001b[1;32mif\u001b[0m \u001b[0m_v\u001b[0m \u001b[1;32mis\u001b[0m \u001b[1;32mnot\u001b[0m \u001b[1;32mNone\u001b[0m\u001b[1;33m:\u001b[0m\u001b[1;33m\u001b[0m\u001b[1;33m\u001b[0m\u001b[0m\n\u001b[1;32m-> 2751\u001b[1;33m             \u001b[0mself\u001b[0m\u001b[1;33m[\u001b[0m\u001b[1;34m\"marker\"\u001b[0m\u001b[1;33m]\u001b[0m \u001b[1;33m=\u001b[0m \u001b[0m_v\u001b[0m\u001b[1;33m\u001b[0m\u001b[1;33m\u001b[0m\u001b[0m\n\u001b[0m\u001b[0;32m   2752\u001b[0m         \u001b[0m_v\u001b[0m \u001b[1;33m=\u001b[0m \u001b[0marg\u001b[0m\u001b[1;33m.\u001b[0m\u001b[0mpop\u001b[0m\u001b[1;33m(\u001b[0m\u001b[1;34m\"meta\"\u001b[0m\u001b[1;33m,\u001b[0m \u001b[1;32mNone\u001b[0m\u001b[1;33m)\u001b[0m\u001b[1;33m\u001b[0m\u001b[1;33m\u001b[0m\u001b[0m\n\u001b[0;32m   2753\u001b[0m         \u001b[0m_v\u001b[0m \u001b[1;33m=\u001b[0m \u001b[0mmeta\u001b[0m \u001b[1;32mif\u001b[0m \u001b[0mmeta\u001b[0m \u001b[1;32mis\u001b[0m \u001b[1;32mnot\u001b[0m \u001b[1;32mNone\u001b[0m \u001b[1;32melse\u001b[0m \u001b[0m_v\u001b[0m\u001b[1;33m\u001b[0m\u001b[1;33m\u001b[0m\u001b[0m\n",
      "\u001b[1;32m~\\Anaconda3\\lib\\site-packages\\plotly\\basedatatypes.py\u001b[0m in \u001b[0;36m__setitem__\u001b[1;34m(self, prop, value)\u001b[0m\n\u001b[0;32m   3980\u001b[0m                 \u001b[1;31m# ### Handle compound property ###\u001b[0m\u001b[1;33m\u001b[0m\u001b[1;33m\u001b[0m\u001b[1;33m\u001b[0m\u001b[0m\n\u001b[0;32m   3981\u001b[0m                 \u001b[1;32mif\u001b[0m \u001b[0misinstance\u001b[0m\u001b[1;33m(\u001b[0m\u001b[0mvalidator\u001b[0m\u001b[1;33m,\u001b[0m \u001b[0mCompoundValidator\u001b[0m\u001b[1;33m)\u001b[0m\u001b[1;33m:\u001b[0m\u001b[1;33m\u001b[0m\u001b[1;33m\u001b[0m\u001b[0m\n\u001b[1;32m-> 3982\u001b[1;33m                     \u001b[0mself\u001b[0m\u001b[1;33m.\u001b[0m\u001b[0m_set_compound_prop\u001b[0m\u001b[1;33m(\u001b[0m\u001b[0mprop\u001b[0m\u001b[1;33m,\u001b[0m \u001b[0mvalue\u001b[0m\u001b[1;33m)\u001b[0m\u001b[1;33m\u001b[0m\u001b[1;33m\u001b[0m\u001b[0m\n\u001b[0m\u001b[0;32m   3983\u001b[0m \u001b[1;33m\u001b[0m\u001b[0m\n\u001b[0;32m   3984\u001b[0m                 \u001b[1;31m# ### Handle compound array property ###\u001b[0m\u001b[1;33m\u001b[0m\u001b[1;33m\u001b[0m\u001b[1;33m\u001b[0m\u001b[0m\n",
      "\u001b[1;32m~\\Anaconda3\\lib\\site-packages\\plotly\\basedatatypes.py\u001b[0m in \u001b[0;36m_set_compound_prop\u001b[1;34m(self, prop, val)\u001b[0m\n\u001b[0;32m   4365\u001b[0m         \u001b[1;31m# ------------\u001b[0m\u001b[1;33m\u001b[0m\u001b[1;33m\u001b[0m\u001b[1;33m\u001b[0m\u001b[0m\n\u001b[0;32m   4366\u001b[0m         \u001b[0mvalidator\u001b[0m \u001b[1;33m=\u001b[0m \u001b[0mself\u001b[0m\u001b[1;33m.\u001b[0m\u001b[0m_get_validator\u001b[0m\u001b[1;33m(\u001b[0m\u001b[0mprop\u001b[0m\u001b[1;33m)\u001b[0m\u001b[1;33m\u001b[0m\u001b[1;33m\u001b[0m\u001b[0m\n\u001b[1;32m-> 4367\u001b[1;33m         \u001b[0mval\u001b[0m \u001b[1;33m=\u001b[0m \u001b[0mvalidator\u001b[0m\u001b[1;33m.\u001b[0m\u001b[0mvalidate_coerce\u001b[0m\u001b[1;33m(\u001b[0m\u001b[0mval\u001b[0m\u001b[1;33m,\u001b[0m \u001b[0mskip_invalid\u001b[0m\u001b[1;33m=\u001b[0m\u001b[0mself\u001b[0m\u001b[1;33m.\u001b[0m\u001b[0m_skip_invalid\u001b[0m\u001b[1;33m)\u001b[0m\u001b[1;33m\u001b[0m\u001b[1;33m\u001b[0m\u001b[0m\n\u001b[0m\u001b[0;32m   4368\u001b[0m \u001b[1;33m\u001b[0m\u001b[0m\n\u001b[0;32m   4369\u001b[0m         \u001b[1;31m# Save deep copies of current and new states\u001b[0m\u001b[1;33m\u001b[0m\u001b[1;33m\u001b[0m\u001b[1;33m\u001b[0m\u001b[0m\n",
      "\u001b[1;32m~\\Anaconda3\\lib\\site-packages\\_plotly_utils\\basevalidators.py\u001b[0m in \u001b[0;36mvalidate_coerce\u001b[1;34m(self, v, skip_invalid, _validate)\u001b[0m\n\u001b[0;32m   2444\u001b[0m \u001b[1;33m\u001b[0m\u001b[0m\n\u001b[0;32m   2445\u001b[0m         \u001b[1;32melif\u001b[0m \u001b[0misinstance\u001b[0m\u001b[1;33m(\u001b[0m\u001b[0mv\u001b[0m\u001b[1;33m,\u001b[0m \u001b[0mdict\u001b[0m\u001b[1;33m)\u001b[0m\u001b[1;33m:\u001b[0m\u001b[1;33m\u001b[0m\u001b[1;33m\u001b[0m\u001b[0m\n\u001b[1;32m-> 2446\u001b[1;33m             \u001b[0mv\u001b[0m \u001b[1;33m=\u001b[0m \u001b[0mself\u001b[0m\u001b[1;33m.\u001b[0m\u001b[0mdata_class\u001b[0m\u001b[1;33m(\u001b[0m\u001b[0mv\u001b[0m\u001b[1;33m,\u001b[0m \u001b[0mskip_invalid\u001b[0m\u001b[1;33m=\u001b[0m\u001b[0mskip_invalid\u001b[0m\u001b[1;33m,\u001b[0m \u001b[0m_validate\u001b[0m\u001b[1;33m=\u001b[0m\u001b[0m_validate\u001b[0m\u001b[1;33m)\u001b[0m\u001b[1;33m\u001b[0m\u001b[1;33m\u001b[0m\u001b[0m\n\u001b[0m\u001b[0;32m   2447\u001b[0m \u001b[1;33m\u001b[0m\u001b[0m\n\u001b[0;32m   2448\u001b[0m         \u001b[1;32melif\u001b[0m \u001b[0misinstance\u001b[0m\u001b[1;33m(\u001b[0m\u001b[0mv\u001b[0m\u001b[1;33m,\u001b[0m \u001b[0mself\u001b[0m\u001b[1;33m.\u001b[0m\u001b[0mdata_class\u001b[0m\u001b[1;33m)\u001b[0m\u001b[1;33m:\u001b[0m\u001b[1;33m\u001b[0m\u001b[1;33m\u001b[0m\u001b[0m\n",
      "\u001b[1;32m~\\Anaconda3\\lib\\site-packages\\plotly\\graph_objs\\bar\\_marker.py\u001b[0m in \u001b[0;36m__init__\u001b[1;34m(self, arg, autocolorscale, cauto, cmax, cmid, cmin, color, coloraxis, colorbar, colorscale, colorsrc, line, opacity, opacitysrc, reversescale, showscale, **kwargs)\u001b[0m\n\u001b[0;32m   1006\u001b[0m         \u001b[0m_v\u001b[0m \u001b[1;33m=\u001b[0m \u001b[0mcolor\u001b[0m \u001b[1;32mif\u001b[0m \u001b[0mcolor\u001b[0m \u001b[1;32mis\u001b[0m \u001b[1;32mnot\u001b[0m \u001b[1;32mNone\u001b[0m \u001b[1;32melse\u001b[0m \u001b[0m_v\u001b[0m\u001b[1;33m\u001b[0m\u001b[1;33m\u001b[0m\u001b[0m\n\u001b[0;32m   1007\u001b[0m         \u001b[1;32mif\u001b[0m \u001b[0m_v\u001b[0m \u001b[1;32mis\u001b[0m \u001b[1;32mnot\u001b[0m \u001b[1;32mNone\u001b[0m\u001b[1;33m:\u001b[0m\u001b[1;33m\u001b[0m\u001b[1;33m\u001b[0m\u001b[0m\n\u001b[1;32m-> 1008\u001b[1;33m             \u001b[0mself\u001b[0m\u001b[1;33m[\u001b[0m\u001b[1;34m\"color\"\u001b[0m\u001b[1;33m]\u001b[0m \u001b[1;33m=\u001b[0m \u001b[0m_v\u001b[0m\u001b[1;33m\u001b[0m\u001b[1;33m\u001b[0m\u001b[0m\n\u001b[0m\u001b[0;32m   1009\u001b[0m         \u001b[0m_v\u001b[0m \u001b[1;33m=\u001b[0m \u001b[0marg\u001b[0m\u001b[1;33m.\u001b[0m\u001b[0mpop\u001b[0m\u001b[1;33m(\u001b[0m\u001b[1;34m\"coloraxis\"\u001b[0m\u001b[1;33m,\u001b[0m \u001b[1;32mNone\u001b[0m\u001b[1;33m)\u001b[0m\u001b[1;33m\u001b[0m\u001b[1;33m\u001b[0m\u001b[0m\n\u001b[0;32m   1010\u001b[0m         \u001b[0m_v\u001b[0m \u001b[1;33m=\u001b[0m \u001b[0mcoloraxis\u001b[0m \u001b[1;32mif\u001b[0m \u001b[0mcoloraxis\u001b[0m \u001b[1;32mis\u001b[0m \u001b[1;32mnot\u001b[0m \u001b[1;32mNone\u001b[0m \u001b[1;32melse\u001b[0m \u001b[0m_v\u001b[0m\u001b[1;33m\u001b[0m\u001b[1;33m\u001b[0m\u001b[0m\n",
      "\u001b[1;32m~\\Anaconda3\\lib\\site-packages\\plotly\\basedatatypes.py\u001b[0m in \u001b[0;36m__setitem__\u001b[1;34m(self, prop, value)\u001b[0m\n\u001b[0;32m   3988\u001b[0m                 \u001b[1;31m# ### Handle simple property ###\u001b[0m\u001b[1;33m\u001b[0m\u001b[1;33m\u001b[0m\u001b[1;33m\u001b[0m\u001b[0m\n\u001b[0;32m   3989\u001b[0m                 \u001b[1;32melse\u001b[0m\u001b[1;33m:\u001b[0m\u001b[1;33m\u001b[0m\u001b[1;33m\u001b[0m\u001b[0m\n\u001b[1;32m-> 3990\u001b[1;33m                     \u001b[0mself\u001b[0m\u001b[1;33m.\u001b[0m\u001b[0m_set_prop\u001b[0m\u001b[1;33m(\u001b[0m\u001b[0mprop\u001b[0m\u001b[1;33m,\u001b[0m \u001b[0mvalue\u001b[0m\u001b[1;33m)\u001b[0m\u001b[1;33m\u001b[0m\u001b[1;33m\u001b[0m\u001b[0m\n\u001b[0m\u001b[0;32m   3991\u001b[0m             \u001b[1;32melse\u001b[0m\u001b[1;33m:\u001b[0m\u001b[1;33m\u001b[0m\u001b[1;33m\u001b[0m\u001b[0m\n\u001b[0;32m   3992\u001b[0m                 \u001b[1;31m# Make sure properties dict is initialized\u001b[0m\u001b[1;33m\u001b[0m\u001b[1;33m\u001b[0m\u001b[1;33m\u001b[0m\u001b[0m\n",
      "\u001b[1;32m~\\Anaconda3\\lib\\site-packages\\plotly\\basedatatypes.py\u001b[0m in \u001b[0;36m_set_prop\u001b[1;34m(self, prop, val)\u001b[0m\n\u001b[0;32m   4306\u001b[0m                 \u001b[1;32mreturn\u001b[0m\u001b[1;33m\u001b[0m\u001b[1;33m\u001b[0m\u001b[0m\n\u001b[0;32m   4307\u001b[0m             \u001b[1;32melse\u001b[0m\u001b[1;33m:\u001b[0m\u001b[1;33m\u001b[0m\u001b[1;33m\u001b[0m\u001b[0m\n\u001b[1;32m-> 4308\u001b[1;33m                 \u001b[1;32mraise\u001b[0m \u001b[0merr\u001b[0m\u001b[1;33m\u001b[0m\u001b[1;33m\u001b[0m\u001b[0m\n\u001b[0m\u001b[0;32m   4309\u001b[0m \u001b[1;33m\u001b[0m\u001b[0m\n\u001b[0;32m   4310\u001b[0m         \u001b[1;31m# val is None\u001b[0m\u001b[1;33m\u001b[0m\u001b[1;33m\u001b[0m\u001b[1;33m\u001b[0m\u001b[0m\n",
      "\u001b[1;32m~\\Anaconda3\\lib\\site-packages\\plotly\\basedatatypes.py\u001b[0m in \u001b[0;36m_set_prop\u001b[1;34m(self, prop, val)\u001b[0m\n\u001b[0;32m   4301\u001b[0m \u001b[1;33m\u001b[0m\u001b[0m\n\u001b[0;32m   4302\u001b[0m         \u001b[1;32mtry\u001b[0m\u001b[1;33m:\u001b[0m\u001b[1;33m\u001b[0m\u001b[1;33m\u001b[0m\u001b[0m\n\u001b[1;32m-> 4303\u001b[1;33m             \u001b[0mval\u001b[0m \u001b[1;33m=\u001b[0m \u001b[0mvalidator\u001b[0m\u001b[1;33m.\u001b[0m\u001b[0mvalidate_coerce\u001b[0m\u001b[1;33m(\u001b[0m\u001b[0mval\u001b[0m\u001b[1;33m)\u001b[0m\u001b[1;33m\u001b[0m\u001b[1;33m\u001b[0m\u001b[0m\n\u001b[0m\u001b[0;32m   4304\u001b[0m         \u001b[1;32mexcept\u001b[0m \u001b[0mValueError\u001b[0m \u001b[1;32mas\u001b[0m \u001b[0merr\u001b[0m\u001b[1;33m:\u001b[0m\u001b[1;33m\u001b[0m\u001b[1;33m\u001b[0m\u001b[0m\n\u001b[0;32m   4305\u001b[0m             \u001b[1;32mif\u001b[0m \u001b[0mself\u001b[0m\u001b[1;33m.\u001b[0m\u001b[0m_skip_invalid\u001b[0m\u001b[1;33m:\u001b[0m\u001b[1;33m\u001b[0m\u001b[1;33m\u001b[0m\u001b[0m\n",
      "\u001b[1;32m~\\Anaconda3\\lib\\site-packages\\_plotly_utils\\basevalidators.py\u001b[0m in \u001b[0;36mvalidate_coerce\u001b[1;34m(self, v, should_raise)\u001b[0m\n\u001b[0;32m   1359\u001b[0m             \u001b[0mvalidated_v\u001b[0m \u001b[1;33m=\u001b[0m \u001b[0mself\u001b[0m\u001b[1;33m.\u001b[0m\u001b[0mvc_scalar\u001b[0m\u001b[1;33m(\u001b[0m\u001b[0mv\u001b[0m\u001b[1;33m)\u001b[0m\u001b[1;33m\u001b[0m\u001b[1;33m\u001b[0m\u001b[0m\n\u001b[0;32m   1360\u001b[0m             \u001b[1;32mif\u001b[0m \u001b[0mvalidated_v\u001b[0m \u001b[1;32mis\u001b[0m \u001b[1;32mNone\u001b[0m \u001b[1;32mand\u001b[0m \u001b[0mshould_raise\u001b[0m\u001b[1;33m:\u001b[0m\u001b[1;33m\u001b[0m\u001b[1;33m\u001b[0m\u001b[0m\n\u001b[1;32m-> 1361\u001b[1;33m                 \u001b[0mself\u001b[0m\u001b[1;33m.\u001b[0m\u001b[0mraise_invalid_val\u001b[0m\u001b[1;33m(\u001b[0m\u001b[0mv\u001b[0m\u001b[1;33m)\u001b[0m\u001b[1;33m\u001b[0m\u001b[1;33m\u001b[0m\u001b[0m\n\u001b[0m\u001b[0;32m   1362\u001b[0m \u001b[1;33m\u001b[0m\u001b[0m\n\u001b[0;32m   1363\u001b[0m             \u001b[0mv\u001b[0m \u001b[1;33m=\u001b[0m \u001b[0mvalidated_v\u001b[0m\u001b[1;33m\u001b[0m\u001b[1;33m\u001b[0m\u001b[0m\n",
      "\u001b[1;32m~\\Anaconda3\\lib\\site-packages\\_plotly_utils\\basevalidators.py\u001b[0m in \u001b[0;36mraise_invalid_val\u001b[1;34m(self, v, inds)\u001b[0m\n\u001b[0;32m    283\u001b[0m                 \u001b[0mtyp\u001b[0m\u001b[1;33m=\u001b[0m\u001b[0mtype_str\u001b[0m\u001b[1;33m(\u001b[0m\u001b[0mv\u001b[0m\u001b[1;33m)\u001b[0m\u001b[1;33m,\u001b[0m\u001b[1;33m\u001b[0m\u001b[1;33m\u001b[0m\u001b[0m\n\u001b[0;32m    284\u001b[0m                 \u001b[0mv\u001b[0m\u001b[1;33m=\u001b[0m\u001b[0mrepr\u001b[0m\u001b[1;33m(\u001b[0m\u001b[0mv\u001b[0m\u001b[1;33m)\u001b[0m\u001b[1;33m,\u001b[0m\u001b[1;33m\u001b[0m\u001b[1;33m\u001b[0m\u001b[0m\n\u001b[1;32m--> 285\u001b[1;33m                 \u001b[0mvalid_clr_desc\u001b[0m\u001b[1;33m=\u001b[0m\u001b[0mself\u001b[0m\u001b[1;33m.\u001b[0m\u001b[0mdescription\u001b[0m\u001b[1;33m(\u001b[0m\u001b[1;33m)\u001b[0m\u001b[1;33m,\u001b[0m\u001b[1;33m\u001b[0m\u001b[1;33m\u001b[0m\u001b[0m\n\u001b[0m\u001b[0;32m    286\u001b[0m             )\n\u001b[0;32m    287\u001b[0m         )\n",
      "\u001b[1;31mValueError\u001b[0m: \n    Invalid value of type 'builtins.str' received for the 'color' property of bar.marker\n        Received value: 'no_donors'\n\n    The 'color' property is a color and may be specified as:\n      - A hex string (e.g. '#ff0000')\n      - An rgb/rgba string (e.g. 'rgb(255,0,0)')\n      - An hsl/hsla string (e.g. 'hsl(0,100%,50%)')\n      - An hsv/hsva string (e.g. 'hsv(0,100%,100%)')\n      - A named CSS color:\n            aliceblue, antiquewhite, aqua, aquamarine, azure,\n            beige, bisque, black, blanchedalmond, blue,\n            blueviolet, brown, burlywood, cadetblue,\n            chartreuse, chocolate, coral, cornflowerblue,\n            cornsilk, crimson, cyan, darkblue, darkcyan,\n            darkgoldenrod, darkgray, darkgrey, darkgreen,\n            darkkhaki, darkmagenta, darkolivegreen, darkorange,\n            darkorchid, darkred, darksalmon, darkseagreen,\n            darkslateblue, darkslategray, darkslategrey,\n            darkturquoise, darkviolet, deeppink, deepskyblue,\n            dimgray, dimgrey, dodgerblue, firebrick,\n            floralwhite, forestgreen, fuchsia, gainsboro,\n            ghostwhite, gold, goldenrod, gray, grey, green,\n            greenyellow, honeydew, hotpink, indianred, indigo,\n            ivory, khaki, lavender, lavenderblush, lawngreen,\n            lemonchiffon, lightblue, lightcoral, lightcyan,\n            lightgoldenrodyellow, lightgray, lightgrey,\n            lightgreen, lightpink, lightsalmon, lightseagreen,\n            lightskyblue, lightslategray, lightslategrey,\n            lightsteelblue, lightyellow, lime, limegreen,\n            linen, magenta, maroon, mediumaquamarine,\n            mediumblue, mediumorchid, mediumpurple,\n            mediumseagreen, mediumslateblue, mediumspringgreen,\n            mediumturquoise, mediumvioletred, midnightblue,\n            mintcream, mistyrose, moccasin, navajowhite, navy,\n            oldlace, olive, olivedrab, orange, orangered,\n            orchid, palegoldenrod, palegreen, paleturquoise,\n            palevioletred, papayawhip, peachpuff, peru, pink,\n            plum, powderblue, purple, red, rosybrown,\n            royalblue, rebeccapurple, saddlebrown, salmon,\n            sandybrown, seagreen, seashell, sienna, silver,\n            skyblue, slateblue, slategray, slategrey, snow,\n            springgreen, steelblue, tan, teal, thistle, tomato,\n            turquoise, violet, wheat, white, whitesmoke,\n            yellow, yellowgreen\n      - A number that will be interpreted as a color\n        according to bar.marker.colorscale\n      - A list or array of any of the above"
     ]
    }
   ],
   "source": [
    "data=df5.groupby(['cohort', 'cohort_gift_year', 'neg_yr']).sum().reset_index().query('cohort == 2013')\n",
    "x=\"cohort_gift_year\"\n",
    "y=\"no_donors\"\n",
    "color=\"neg_yr\"\n",
    "\n",
    "# fig = px.bar(data, x=x, y=y, color=color, barmode='group',\n",
    "#             title=\"1. Donor Behavior over Time, by Cohort\",\n",
    "#              color_continuous_scale=[(0.00, \"red\"),   (0.33, \"red\"), (0.33, \"red\"), (0.66, \"green\"), (0.66, \"green\"),  (1.00, \"green\")],\n",
    "# height=500)\n",
    "\n",
    "# fig.update_layout(coloraxis_colorbar=dict(\n",
    "#     title=\"\",\n",
    "#     thicknessmode=\"pixels\", thickness=50,\n",
    "#     lenmode=\"pixels\", len=200,\n",
    "#     yanchor=\"top\", y=1,\n",
    "#     ticks=\"outside\", ticksuffix=\" bills\",\n",
    "#     dtick=5\n",
    "# ))\n",
    "\n",
    "fig = go.FigureWidget(data=[go.Bar(x=x, y=y,\n",
    "                                 marker={'color': y,\n",
    "                                               'colorscale': 'Viridis'})]) \n",
    "# fig.update_layout(coloraxis_colorbar=dict(\n",
    "#     title=\"\",\n",
    "#     tickvals=[1,2],\n",
    "#     ticktext=[\"Donated\",\"Lapsed\"],\n",
    "#     lenmode=\"pixels\", len=100,\n",
    "#))\n",
    "fig.update_layout(coloraxis_showscale=True)\n",
    "fig.update_layout(showlegend=True)\n",
    "\n",
    "fig.show()"
   ]
  },
  {
   "cell_type": "code",
   "execution_count": 193,
   "metadata": {},
   "outputs": [
    {
     "data": {
      "application/vnd.jupyter.widget-view+json": {
       "model_id": "e1ef53febdcd403997114d485b0a94f0",
       "version_major": 2,
       "version_minor": 0
      },
      "text/plain": [
       "FigureWidget({\n",
       "    'data': [{'marker': {'color': array([], dtype=int64), 'colorscale': [[0.0, 'rgb(0,0,255)'],…"
      ]
     },
     "metadata": {},
     "output_type": "display_data"
    }
   ],
   "source": [
    "x = df5.groupby(['cohort', 'cohort_gift_year', 'neg_yr']).sum().reset_index().query('cohort == \"2013\"').cohort_gift_year\n",
    "y = df5.groupby(['cohort', 'cohort_gift_year', 'neg_yr']).sum().reset_index().query('cohort == \"2013\"').no_donors\n",
    "fig = go.FigureWidget(data=[go.Bar(x=x, y=y,\n",
    "                                 marker={'color': y,\n",
    "                                               'colorscale': 'Bluered'})]) \n",
    "fig"
   ]
  },
  {
   "cell_type": "code",
   "execution_count": 194,
   "metadata": {},
   "outputs": [
    {
     "data": {
      "application/vnd.jupyter.widget-view+json": {
       "model_id": "cc9bbaeaf1aa42bf9d2658e220f85b3a",
       "version_major": 2,
       "version_minor": 0
      },
      "text/plain": [
       "FigureWidget({\n",
       "    'data': [], 'layout': {'template': '...'}\n",
       "})"
      ]
     },
     "metadata": {},
     "output_type": "display_data"
    }
   ],
   "source": [
    "fig2 = go.FigureWidget(data=[go.Bar(x=[x], \n",
    "                                   y=[y],\n",
    "                                   name=x,\n",
    "                                   marker={'color': y, \n",
    "                                           'colorscale': 'RdYlGn'})\n",
    "                           for x, y in zip(x, y)]) \n",
    "fig2"
   ]
  },
  {
   "cell_type": "code",
   "execution_count": 84,
   "metadata": {},
   "outputs": [
    {
     "data": {
      "text/plain": [
       "False"
      ]
     },
     "execution_count": 84,
     "metadata": {},
     "output_type": "execute_result"
    }
   ],
   "source": [
    "fig.layout.coloraxis.showscale"
   ]
  },
  {
   "cell_type": "code",
   "execution_count": 195,
   "metadata": {},
   "outputs": [
    {
     "data": {
      "application/vnd.plotly.v1+json": {
       "config": {
        "plotlyServerURL": "https://plot.ly"
       },
       "data": [
        {
         "alignmentgroup": "True",
         "hovertemplate": "cohort_gift_year=yr0<br>cohort=%{x}<br>no_donors=%{y}<extra></extra>",
         "legendgroup": "yr0",
         "marker": {
          "color": "#1F77B4"
         },
         "name": "yr0",
         "offsetgroup": "yr0",
         "orientation": "v",
         "showlegend": true,
         "textposition": "auto",
         "type": "bar",
         "x": [
          "cohort13",
          "cohort14",
          "cohort15",
          "cohort16",
          "cohort17",
          "cohort18"
         ],
         "xaxis": "x",
         "y": [
          320069,
          320673,
          355137,
          445598,
          434991,
          147945
         ],
         "yaxis": "y"
        }
       ],
       "layout": {
        "barmode": "group",
        "height": 500,
        "legend": {
         "title": {
          "text": "cohort_gift_year"
         },
         "tracegroupgap": 0
        },
        "template": {
         "data": {
          "pie": [
           {
            "automargin": true,
            "type": "pie"
           }
          ],
          "scatter": [
           {
            "line": {
             "width": 3
            },
            "marker": {
             "size": 9
            },
            "type": "scatter"
           }
          ],
          "scatter3d": [
           {
            "line": {
             "width": 3
            },
            "marker": {
             "size": 9
            },
            "type": "scatter3d"
           }
          ],
          "scattergeo": [
           {
            "line": {
             "width": 3
            },
            "marker": {
             "size": 9
            },
            "type": "scattergeo"
           }
          ],
          "scattergl": [
           {
            "line": {
             "width": 3
            },
            "marker": {
             "size": 9
            },
            "type": "scattergl"
           }
          ],
          "scatterpolar": [
           {
            "line": {
             "width": 3
            },
            "marker": {
             "size": 9
            },
            "type": "scatterpolar"
           }
          ],
          "scatterpolargl": [
           {
            "line": {
             "width": 3
            },
            "marker": {
             "size": 9
            },
            "type": "scatterpolargl"
           }
          ],
          "scatterternary": [
           {
            "line": {
             "width": 3
            },
            "marker": {
             "size": 9
            },
            "type": "scatterternary"
           }
          ],
          "table": [
           {
            "cells": {
             "height": 30
            },
            "header": {
             "height": 36
            },
            "type": "table"
           }
          ]
         },
         "layout": {
          "font": {
           "size": 18
          },
          "xaxis": {
           "title": {
            "standoff": 15
           }
          },
          "yaxis": {
           "title": {
            "standoff": 15
           }
          }
         }
        },
        "title": {
         "text": "2. Number of Year 0 Donors, by Cohort"
        },
        "xaxis": {
         "anchor": "y",
         "domain": [
          0,
          1
         ],
         "title": {
          "text": "cohort"
         },
         "type": "category"
        },
        "yaxis": {
         "anchor": "x",
         "domain": [
          0,
          1
         ],
         "title": {
          "text": "no_donors"
         }
        }
       }
      },
      "text/html": [
       "<div>\n",
       "        \n",
       "        \n",
       "            <div id=\"ec316060-a35c-46ec-8c10-d712374c5795\" class=\"plotly-graph-div\" style=\"height:500px; width:100%;\"></div>\n",
       "            <script type=\"text/javascript\">\n",
       "                require([\"plotly\"], function(Plotly) {\n",
       "                    window.PLOTLYENV=window.PLOTLYENV || {};\n",
       "                    \n",
       "                if (document.getElementById(\"ec316060-a35c-46ec-8c10-d712374c5795\")) {\n",
       "                    Plotly.newPlot(\n",
       "                        'ec316060-a35c-46ec-8c10-d712374c5795',\n",
       "                        [{\"alignmentgroup\": \"True\", \"hovertemplate\": \"cohort_gift_year=yr0<br>cohort=%{x}<br>no_donors=%{y}<extra></extra>\", \"legendgroup\": \"yr0\", \"marker\": {\"color\": \"#1F77B4\"}, \"name\": \"yr0\", \"offsetgroup\": \"yr0\", \"orientation\": \"v\", \"showlegend\": true, \"textposition\": \"auto\", \"type\": \"bar\", \"x\": [\"cohort13\", \"cohort14\", \"cohort15\", \"cohort16\", \"cohort17\", \"cohort18\"], \"xaxis\": \"x\", \"y\": [320069, 320673, 355137, 445598, 434991, 147945], \"yaxis\": \"y\"}],\n",
       "                        {\"barmode\": \"group\", \"height\": 500, \"legend\": {\"title\": {\"text\": \"cohort_gift_year\"}, \"tracegroupgap\": 0}, \"template\": {\"data\": {\"pie\": [{\"automargin\": true, \"type\": \"pie\"}], \"scatter\": [{\"line\": {\"width\": 3}, \"marker\": {\"size\": 9}, \"type\": \"scatter\"}], \"scatter3d\": [{\"line\": {\"width\": 3}, \"marker\": {\"size\": 9}, \"type\": \"scatter3d\"}], \"scattergeo\": [{\"line\": {\"width\": 3}, \"marker\": {\"size\": 9}, \"type\": \"scattergeo\"}], \"scattergl\": [{\"line\": {\"width\": 3}, \"marker\": {\"size\": 9}, \"type\": \"scattergl\"}], \"scatterpolar\": [{\"line\": {\"width\": 3}, \"marker\": {\"size\": 9}, \"type\": \"scatterpolar\"}], \"scatterpolargl\": [{\"line\": {\"width\": 3}, \"marker\": {\"size\": 9}, \"type\": \"scatterpolargl\"}], \"scatterternary\": [{\"line\": {\"width\": 3}, \"marker\": {\"size\": 9}, \"type\": \"scatterternary\"}], \"table\": [{\"cells\": {\"height\": 30}, \"header\": {\"height\": 36}, \"type\": \"table\"}]}, \"layout\": {\"font\": {\"size\": 18}, \"xaxis\": {\"title\": {\"standoff\": 15}}, \"yaxis\": {\"title\": {\"standoff\": 15}}}}, \"title\": {\"text\": \"2. Number of Year 0 Donors, by Cohort\"}, \"xaxis\": {\"anchor\": \"y\", \"domain\": [0.0, 1.0], \"title\": {\"text\": \"cohort\"}, \"type\": \"category\"}, \"yaxis\": {\"anchor\": \"x\", \"domain\": [0.0, 1.0], \"title\": {\"text\": \"no_donors\"}}},\n",
       "                        {\"responsive\": true}\n",
       "                    ).then(function(){\n",
       "                            \n",
       "var gd = document.getElementById('ec316060-a35c-46ec-8c10-d712374c5795');\n",
       "var x = new MutationObserver(function (mutations, observer) {{\n",
       "        var display = window.getComputedStyle(gd).display;\n",
       "        if (!display || display === 'none') {{\n",
       "            console.log([gd, 'removed!']);\n",
       "            Plotly.purge(gd);\n",
       "            observer.disconnect();\n",
       "        }}\n",
       "}});\n",
       "\n",
       "// Listen for the removal of the full notebook cells\n",
       "var notebookContainer = gd.closest('#notebook-container');\n",
       "if (notebookContainer) {{\n",
       "    x.observe(notebookContainer, {childList: true});\n",
       "}}\n",
       "\n",
       "// Listen for the clearing of the current output cell\n",
       "var outputEl = gd.closest('.output');\n",
       "if (outputEl) {{\n",
       "    x.observe(outputEl, {childList: true});\n",
       "}}\n",
       "\n",
       "                        })\n",
       "                };\n",
       "                });\n",
       "            </script>\n",
       "        </div>"
      ]
     },
     "metadata": {},
     "output_type": "display_data"
    }
   ],
   "source": [
    "fig = px.bar(df5.query('cohort_gift_year == \"yr0\"'), x=\"cohort\", y='no_donors', color='cohort_gift_year', barmode='group',\n",
    "            title=\"2. Number of Year 0 Donors, by Cohort\",\n",
    "           # color_discrete_sequence =['red','seagreen', 'tomato', 'mediumseagreen'],\n",
    "           # hover_data=['cohort', 'no_donors', 'count_yr2'],\n",
    "            # labels={'cohort':'class'}, \n",
    "             height=500)\n",
    " #barmode='group', labels={'index':'year', 'y':'amount ($)'}, \n",
    "fig.update_xaxes(type='category')\n",
    "fig.show()"
   ]
  },
  {
   "cell_type": "code",
   "execution_count": 196,
   "metadata": {},
   "outputs": [
    {
     "data": {
      "application/vnd.plotly.v1+json": {
       "config": {
        "plotlyServerURL": "https://plot.ly"
       },
       "data": [
        {
         "alignmentgroup": "True",
         "hovertemplate": "cohort_gift_year=yr0<br>cohort=%{x}<br>no_donors=%{y}<extra></extra>",
         "legendgroup": "yr0",
         "marker": {
          "color": "#1F77B4"
         },
         "name": "yr0",
         "offsetgroup": "yr0",
         "orientation": "v",
         "showlegend": true,
         "textposition": "auto",
         "type": "bar",
         "x": [
          "cohort13",
          "cohort14",
          "cohort15",
          "cohort16",
          "cohort17",
          "cohort18"
         ],
         "xaxis": "x",
         "y": [
          320069,
          320673,
          355137,
          445598,
          434991,
          147945
         ],
         "yaxis": "y"
        }
       ],
       "layout": {
        "barmode": "group",
        "height": 500,
        "legend": {
         "title": {
          "text": "cohort_gift_year"
         },
         "tracegroupgap": 0
        },
        "template": {
         "data": {
          "pie": [
           {
            "automargin": true,
            "type": "pie"
           }
          ],
          "scatter": [
           {
            "line": {
             "width": 3
            },
            "marker": {
             "size": 9
            },
            "type": "scatter"
           }
          ],
          "scatter3d": [
           {
            "line": {
             "width": 3
            },
            "marker": {
             "size": 9
            },
            "type": "scatter3d"
           }
          ],
          "scattergeo": [
           {
            "line": {
             "width": 3
            },
            "marker": {
             "size": 9
            },
            "type": "scattergeo"
           }
          ],
          "scattergl": [
           {
            "line": {
             "width": 3
            },
            "marker": {
             "size": 9
            },
            "type": "scattergl"
           }
          ],
          "scatterpolar": [
           {
            "line": {
             "width": 3
            },
            "marker": {
             "size": 9
            },
            "type": "scatterpolar"
           }
          ],
          "scatterpolargl": [
           {
            "line": {
             "width": 3
            },
            "marker": {
             "size": 9
            },
            "type": "scatterpolargl"
           }
          ],
          "scatterternary": [
           {
            "line": {
             "width": 3
            },
            "marker": {
             "size": 9
            },
            "type": "scatterternary"
           }
          ],
          "table": [
           {
            "cells": {
             "height": 30
            },
            "header": {
             "height": 36
            },
            "type": "table"
           }
          ]
         },
         "layout": {
          "font": {
           "size": 18
          },
          "xaxis": {
           "title": {
            "standoff": 15
           }
          },
          "yaxis": {
           "title": {
            "standoff": 15
           }
          }
         }
        },
        "title": {
         "text": "2. Number of Year 0 Donors, by Cohort"
        },
        "xaxis": {
         "anchor": "y",
         "domain": [
          0,
          1
         ],
         "title": {
          "text": "cohort"
         },
         "type": "category"
        },
        "yaxis": {
         "anchor": "x",
         "domain": [
          0,
          1
         ],
         "title": {
          "text": "no_donors"
         }
        }
       }
      },
      "text/html": [
       "<div>\n",
       "        \n",
       "        \n",
       "            <div id=\"992d0bc1-4be4-4bcc-9971-035a6f969caf\" class=\"plotly-graph-div\" style=\"height:500px; width:100%;\"></div>\n",
       "            <script type=\"text/javascript\">\n",
       "                require([\"plotly\"], function(Plotly) {\n",
       "                    window.PLOTLYENV=window.PLOTLYENV || {};\n",
       "                    \n",
       "                if (document.getElementById(\"992d0bc1-4be4-4bcc-9971-035a6f969caf\")) {\n",
       "                    Plotly.newPlot(\n",
       "                        '992d0bc1-4be4-4bcc-9971-035a6f969caf',\n",
       "                        [{\"alignmentgroup\": \"True\", \"hovertemplate\": \"cohort_gift_year=yr0<br>cohort=%{x}<br>no_donors=%{y}<extra></extra>\", \"legendgroup\": \"yr0\", \"marker\": {\"color\": \"#1F77B4\"}, \"name\": \"yr0\", \"offsetgroup\": \"yr0\", \"orientation\": \"v\", \"showlegend\": true, \"textposition\": \"auto\", \"type\": \"bar\", \"x\": [\"cohort13\", \"cohort14\", \"cohort15\", \"cohort16\", \"cohort17\", \"cohort18\"], \"xaxis\": \"x\", \"y\": [320069, 320673, 355137, 445598, 434991, 147945], \"yaxis\": \"y\"}],\n",
       "                        {\"barmode\": \"group\", \"height\": 500, \"legend\": {\"title\": {\"text\": \"cohort_gift_year\"}, \"tracegroupgap\": 0}, \"template\": {\"data\": {\"pie\": [{\"automargin\": true, \"type\": \"pie\"}], \"scatter\": [{\"line\": {\"width\": 3}, \"marker\": {\"size\": 9}, \"type\": \"scatter\"}], \"scatter3d\": [{\"line\": {\"width\": 3}, \"marker\": {\"size\": 9}, \"type\": \"scatter3d\"}], \"scattergeo\": [{\"line\": {\"width\": 3}, \"marker\": {\"size\": 9}, \"type\": \"scattergeo\"}], \"scattergl\": [{\"line\": {\"width\": 3}, \"marker\": {\"size\": 9}, \"type\": \"scattergl\"}], \"scatterpolar\": [{\"line\": {\"width\": 3}, \"marker\": {\"size\": 9}, \"type\": \"scatterpolar\"}], \"scatterpolargl\": [{\"line\": {\"width\": 3}, \"marker\": {\"size\": 9}, \"type\": \"scatterpolargl\"}], \"scatterternary\": [{\"line\": {\"width\": 3}, \"marker\": {\"size\": 9}, \"type\": \"scatterternary\"}], \"table\": [{\"cells\": {\"height\": 30}, \"header\": {\"height\": 36}, \"type\": \"table\"}]}, \"layout\": {\"font\": {\"size\": 18}, \"xaxis\": {\"title\": {\"standoff\": 15}}, \"yaxis\": {\"title\": {\"standoff\": 15}}}}, \"title\": {\"text\": \"2. Number of Year 0 Donors, by Cohort\"}, \"xaxis\": {\"anchor\": \"y\", \"domain\": [0.0, 1.0], \"title\": {\"text\": \"cohort\"}, \"type\": \"category\"}, \"yaxis\": {\"anchor\": \"x\", \"domain\": [0.0, 1.0], \"title\": {\"text\": \"no_donors\"}}},\n",
       "                        {\"responsive\": true}\n",
       "                    ).then(function(){\n",
       "                            \n",
       "var gd = document.getElementById('992d0bc1-4be4-4bcc-9971-035a6f969caf');\n",
       "var x = new MutationObserver(function (mutations, observer) {{\n",
       "        var display = window.getComputedStyle(gd).display;\n",
       "        if (!display || display === 'none') {{\n",
       "            console.log([gd, 'removed!']);\n",
       "            Plotly.purge(gd);\n",
       "            observer.disconnect();\n",
       "        }}\n",
       "}});\n",
       "\n",
       "// Listen for the removal of the full notebook cells\n",
       "var notebookContainer = gd.closest('#notebook-container');\n",
       "if (notebookContainer) {{\n",
       "    x.observe(notebookContainer, {childList: true});\n",
       "}}\n",
       "\n",
       "// Listen for the clearing of the current output cell\n",
       "var outputEl = gd.closest('.output');\n",
       "if (outputEl) {{\n",
       "    x.observe(outputEl, {childList: true});\n",
       "}}\n",
       "\n",
       "                        })\n",
       "                };\n",
       "                });\n",
       "            </script>\n",
       "        </div>"
      ]
     },
     "metadata": {},
     "output_type": "display_data"
    }
   ],
   "source": [
    "fig = px.bar(df5.query('cohort_gift_year == \"yr0\"'), x=\"cohort\", y='no_donors', color='cohort_gift_year', barmode='group',\n",
    "            title=\"2. Number of Year 0 Donors, by Cohort\",\n",
    "           # color_discrete_sequence =['red','seagreen', 'tomato', 'mediumseagreen'],\n",
    "           # hover_data=['cohort', 'no_donors', 'count_yr2'],\n",
    "            # labels={'cohort':'class'}, \n",
    "             height=500)\n",
    " #barmode='group', labels={'index':'year', 'y':'amount ($)'}, \n",
    "fig.update_xaxes(type='category')\n",
    "fig.show()"
   ]
  },
  {
   "cell_type": "code",
   "execution_count": 197,
   "metadata": {},
   "outputs": [
    {
     "data": {
      "application/vnd.plotly.v1+json": {
       "config": {
        "plotlyServerURL": "https://plot.ly"
       },
       "data": [
        {
         "alignmentgroup": "True",
         "hovertemplate": "cohort_gift_year=yr0<br>cohort=%{x}<br>no_donors=%{y}<extra></extra>",
         "legendgroup": "yr0",
         "marker": {
          "color": "#1F77B4"
         },
         "name": "yr0",
         "offsetgroup": "yr0",
         "orientation": "v",
         "showlegend": true,
         "textposition": "auto",
         "type": "bar",
         "x": [
          "cohort13",
          "cohort14",
          "cohort15",
          "cohort16",
          "cohort17",
          "cohort18"
         ],
         "xaxis": "x",
         "y": [
          320069,
          320673,
          355137,
          445598,
          434991,
          147945
         ],
         "yaxis": "y"
        },
        {
         "alignmentgroup": "True",
         "hovertemplate": "cohort_gift_year=yr1<br>cohort=%{x}<br>no_donors=%{y}<extra></extra>",
         "legendgroup": "yr1",
         "marker": {
          "color": "#FF7F0E"
         },
         "name": "yr1",
         "offsetgroup": "yr1",
         "orientation": "v",
         "showlegend": true,
         "textposition": "auto",
         "type": "bar",
         "x": [
          "cohort13",
          "cohort14",
          "cohort15",
          "cohort16",
          "cohort17"
         ],
         "xaxis": "x",
         "y": [
          62130,
          48667,
          46078,
          56538,
          29990
         ],
         "yaxis": "y"
        }
       ],
       "layout": {
        "barmode": "group",
        "height": 500,
        "legend": {
         "title": {
          "text": "cohort_gift_year"
         },
         "tracegroupgap": 0
        },
        "template": {
         "data": {
          "pie": [
           {
            "automargin": true,
            "type": "pie"
           }
          ],
          "scatter": [
           {
            "line": {
             "width": 3
            },
            "marker": {
             "size": 9
            },
            "type": "scatter"
           }
          ],
          "scatter3d": [
           {
            "line": {
             "width": 3
            },
            "marker": {
             "size": 9
            },
            "type": "scatter3d"
           }
          ],
          "scattergeo": [
           {
            "line": {
             "width": 3
            },
            "marker": {
             "size": 9
            },
            "type": "scattergeo"
           }
          ],
          "scattergl": [
           {
            "line": {
             "width": 3
            },
            "marker": {
             "size": 9
            },
            "type": "scattergl"
           }
          ],
          "scatterpolar": [
           {
            "line": {
             "width": 3
            },
            "marker": {
             "size": 9
            },
            "type": "scatterpolar"
           }
          ],
          "scatterpolargl": [
           {
            "line": {
             "width": 3
            },
            "marker": {
             "size": 9
            },
            "type": "scatterpolargl"
           }
          ],
          "scatterternary": [
           {
            "line": {
             "width": 3
            },
            "marker": {
             "size": 9
            },
            "type": "scatterternary"
           }
          ],
          "table": [
           {
            "cells": {
             "height": 30
            },
            "header": {
             "height": 36
            },
            "type": "table"
           }
          ]
         },
         "layout": {
          "font": {
           "size": 18
          },
          "xaxis": {
           "title": {
            "standoff": 15
           }
          },
          "yaxis": {
           "title": {
            "standoff": 15
           }
          }
         }
        },
        "title": {
         "text": "2. Number of Year 0 Donors, by Cohort"
        },
        "xaxis": {
         "anchor": "y",
         "domain": [
          0,
          1
         ],
         "title": {
          "text": "cohort"
         }
        },
        "yaxis": {
         "anchor": "x",
         "domain": [
          0,
          1
         ],
         "title": {
          "text": "no_donors"
         }
        }
       }
      },
      "text/html": [
       "<div>\n",
       "        \n",
       "        \n",
       "            <div id=\"a6ce9f48-f4ae-48a6-b934-c51f62773d47\" class=\"plotly-graph-div\" style=\"height:500px; width:100%;\"></div>\n",
       "            <script type=\"text/javascript\">\n",
       "                require([\"plotly\"], function(Plotly) {\n",
       "                    window.PLOTLYENV=window.PLOTLYENV || {};\n",
       "                    \n",
       "                if (document.getElementById(\"a6ce9f48-f4ae-48a6-b934-c51f62773d47\")) {\n",
       "                    Plotly.newPlot(\n",
       "                        'a6ce9f48-f4ae-48a6-b934-c51f62773d47',\n",
       "                        [{\"alignmentgroup\": \"True\", \"hovertemplate\": \"cohort_gift_year=yr0<br>cohort=%{x}<br>no_donors=%{y}<extra></extra>\", \"legendgroup\": \"yr0\", \"marker\": {\"color\": \"#1F77B4\"}, \"name\": \"yr0\", \"offsetgroup\": \"yr0\", \"orientation\": \"v\", \"showlegend\": true, \"textposition\": \"auto\", \"type\": \"bar\", \"x\": [\"cohort13\", \"cohort14\", \"cohort15\", \"cohort16\", \"cohort17\", \"cohort18\"], \"xaxis\": \"x\", \"y\": [320069, 320673, 355137, 445598, 434991, 147945], \"yaxis\": \"y\"}, {\"alignmentgroup\": \"True\", \"hovertemplate\": \"cohort_gift_year=yr1<br>cohort=%{x}<br>no_donors=%{y}<extra></extra>\", \"legendgroup\": \"yr1\", \"marker\": {\"color\": \"#FF7F0E\"}, \"name\": \"yr1\", \"offsetgroup\": \"yr1\", \"orientation\": \"v\", \"showlegend\": true, \"textposition\": \"auto\", \"type\": \"bar\", \"x\": [\"cohort13\", \"cohort14\", \"cohort15\", \"cohort16\", \"cohort17\"], \"xaxis\": \"x\", \"y\": [62130, 48667, 46078, 56538, 29990], \"yaxis\": \"y\"}],\n",
       "                        {\"barmode\": \"group\", \"height\": 500, \"legend\": {\"title\": {\"text\": \"cohort_gift_year\"}, \"tracegroupgap\": 0}, \"template\": {\"data\": {\"pie\": [{\"automargin\": true, \"type\": \"pie\"}], \"scatter\": [{\"line\": {\"width\": 3}, \"marker\": {\"size\": 9}, \"type\": \"scatter\"}], \"scatter3d\": [{\"line\": {\"width\": 3}, \"marker\": {\"size\": 9}, \"type\": \"scatter3d\"}], \"scattergeo\": [{\"line\": {\"width\": 3}, \"marker\": {\"size\": 9}, \"type\": \"scattergeo\"}], \"scattergl\": [{\"line\": {\"width\": 3}, \"marker\": {\"size\": 9}, \"type\": \"scattergl\"}], \"scatterpolar\": [{\"line\": {\"width\": 3}, \"marker\": {\"size\": 9}, \"type\": \"scatterpolar\"}], \"scatterpolargl\": [{\"line\": {\"width\": 3}, \"marker\": {\"size\": 9}, \"type\": \"scatterpolargl\"}], \"scatterternary\": [{\"line\": {\"width\": 3}, \"marker\": {\"size\": 9}, \"type\": \"scatterternary\"}], \"table\": [{\"cells\": {\"height\": 30}, \"header\": {\"height\": 36}, \"type\": \"table\"}]}, \"layout\": {\"font\": {\"size\": 18}, \"xaxis\": {\"title\": {\"standoff\": 15}}, \"yaxis\": {\"title\": {\"standoff\": 15}}}}, \"title\": {\"text\": \"2. Number of Year 0 Donors, by Cohort\"}, \"xaxis\": {\"anchor\": \"y\", \"domain\": [0.0, 1.0], \"title\": {\"text\": \"cohort\"}}, \"yaxis\": {\"anchor\": \"x\", \"domain\": [0.0, 1.0], \"title\": {\"text\": \"no_donors\"}}},\n",
       "                        {\"responsive\": true}\n",
       "                    ).then(function(){\n",
       "                            \n",
       "var gd = document.getElementById('a6ce9f48-f4ae-48a6-b934-c51f62773d47');\n",
       "var x = new MutationObserver(function (mutations, observer) {{\n",
       "        var display = window.getComputedStyle(gd).display;\n",
       "        if (!display || display === 'none') {{\n",
       "            console.log([gd, 'removed!']);\n",
       "            Plotly.purge(gd);\n",
       "            observer.disconnect();\n",
       "        }}\n",
       "}});\n",
       "\n",
       "// Listen for the removal of the full notebook cells\n",
       "var notebookContainer = gd.closest('#notebook-container');\n",
       "if (notebookContainer) {{\n",
       "    x.observe(notebookContainer, {childList: true});\n",
       "}}\n",
       "\n",
       "// Listen for the clearing of the current output cell\n",
       "var outputEl = gd.closest('.output');\n",
       "if (outputEl) {{\n",
       "    x.observe(outputEl, {childList: true});\n",
       "}}\n",
       "\n",
       "                        })\n",
       "                };\n",
       "                });\n",
       "            </script>\n",
       "        </div>"
      ]
     },
     "metadata": {},
     "output_type": "display_data"
    }
   ],
   "source": [
    "df5.loc[:,\"neg_yr\"] = df5[\"neg_yr\"].astype(str)\n",
    "filter1=df5['cohort_gift_year'].isin([\"yr0\", \"yr1\"]) \n",
    "filter2=df5['neg_yr'].isin([\"1\"])\n",
    "  \n",
    "fig = px.bar(df5[filter1 & filter2], \n",
    "            # query('cohort_gift_year == [\"yr0\", | cohort_gift_year == \"yr1\" & neg_yr == 1'), \n",
    "             x=\"cohort\", y='no_donors', color='cohort_gift_year', barmode='group', title=\"2. Number of Year 0 Donors, by Cohort\",\n",
    "           # color_discrete_sequence =['red','seagreen', 'tomato', 'mediumseagreen'],\n",
    "           # hover_data=['cohort', 'no_donors', 'count_yr2'],\n",
    "            # labels={'cohort':'class'}, \n",
    "             height=500)\n",
    " #barmode='group', labels={'index':'year', 'y':'amount ($)'},\n",
    "fig.show()\n",
    "\n",
    "  # np.where((df['Salary_in_1000']>=100) & (df['Age']< 60) & (df['FT_Team']\n",
    "  #  df5.query(('cohort_gift_year == \"yr0\" | cohort_gift_year == \"yr1\"   \n",
    "    #                    & neg_yr == 1'), "
   ]
  },
  {
   "cell_type": "code",
   "execution_count": 198,
   "metadata": {},
   "outputs": [
    {
     "data": {
      "text/html": [
       "<div>\n",
       "<style scoped>\n",
       "    .dataframe tbody tr th:only-of-type {\n",
       "        vertical-align: middle;\n",
       "    }\n",
       "\n",
       "    .dataframe tbody tr th {\n",
       "        vertical-align: top;\n",
       "    }\n",
       "\n",
       "    .dataframe thead th {\n",
       "        text-align: right;\n",
       "    }\n",
       "</style>\n",
       "<table border=\"1\" class=\"dataframe\">\n",
       "  <thead>\n",
       "    <tr style=\"text-align: right;\">\n",
       "      <th></th>\n",
       "      <th>first_gift_year_year</th>\n",
       "      <th>cohort_TF</th>\n",
       "      <th>no_donors</th>\n",
       "      <th>amount_yr0</th>\n",
       "      <th>amount_yr1</th>\n",
       "      <th>amount_yr2</th>\n",
       "      <th>amount_yr3</th>\n",
       "      <th>amount_yr4</th>\n",
       "      <th>count_yr0</th>\n",
       "      <th>count_yr1</th>\n",
       "      <th>...</th>\n",
       "      <th>downgraded_amount_yr0</th>\n",
       "      <th>downgraded_amount_yr1</th>\n",
       "      <th>downgraded_amount_yr2</th>\n",
       "      <th>downgraded_amount_yr3</th>\n",
       "      <th>downgraded_amount_yr4</th>\n",
       "      <th>amount_total</th>\n",
       "      <th>count_total</th>\n",
       "      <th>neg_yr</th>\n",
       "      <th>cohort_gift_year</th>\n",
       "      <th>cohort</th>\n",
       "    </tr>\n",
       "  </thead>\n",
       "  <tbody>\n",
       "    <tr>\n",
       "      <td>1</td>\n",
       "      <td>2013</td>\n",
       "      <td>T</td>\n",
       "      <td>320069</td>\n",
       "      <td>30411763.60</td>\n",
       "      <td>15267703.98</td>\n",
       "      <td>12587307.39</td>\n",
       "      <td>11398269.65</td>\n",
       "      <td>11155755.22</td>\n",
       "      <td>573067</td>\n",
       "      <td>283622</td>\n",
       "      <td>...</td>\n",
       "      <td>0.0</td>\n",
       "      <td>4491997.15</td>\n",
       "      <td>3786826.85</td>\n",
       "      <td>2813452.88</td>\n",
       "      <td>2623391.85</td>\n",
       "      <td>80820799.84</td>\n",
       "      <td>1352157</td>\n",
       "      <td>1</td>\n",
       "      <td>yr0</td>\n",
       "      <td>cohort13</td>\n",
       "    </tr>\n",
       "    <tr>\n",
       "      <td>2</td>\n",
       "      <td>2014</td>\n",
       "      <td>T</td>\n",
       "      <td>320673</td>\n",
       "      <td>26174282.52</td>\n",
       "      <td>7745897.26</td>\n",
       "      <td>6437708.77</td>\n",
       "      <td>5818855.02</td>\n",
       "      <td>1874641.80</td>\n",
       "      <td>461347</td>\n",
       "      <td>131028</td>\n",
       "      <td>...</td>\n",
       "      <td>0.0</td>\n",
       "      <td>2633662.15</td>\n",
       "      <td>1618257.48</td>\n",
       "      <td>1510965.57</td>\n",
       "      <td>2001740.67</td>\n",
       "      <td>46176743.57</td>\n",
       "      <td>768060</td>\n",
       "      <td>1</td>\n",
       "      <td>yr0</td>\n",
       "      <td>cohort14</td>\n",
       "    </tr>\n",
       "    <tr>\n",
       "      <td>3</td>\n",
       "      <td>2015</td>\n",
       "      <td>T</td>\n",
       "      <td>355137</td>\n",
       "      <td>30146878.32</td>\n",
       "      <td>8280549.87</td>\n",
       "      <td>7444145.63</td>\n",
       "      <td>2329381.58</td>\n",
       "      <td>0.00</td>\n",
       "      <td>468181</td>\n",
       "      <td>112446</td>\n",
       "      <td>...</td>\n",
       "      <td>0.0</td>\n",
       "      <td>2560692.28</td>\n",
       "      <td>1665471.64</td>\n",
       "      <td>2580070.49</td>\n",
       "      <td>0.00</td>\n",
       "      <td>45871573.82</td>\n",
       "      <td>678938</td>\n",
       "      <td>1</td>\n",
       "      <td>yr0</td>\n",
       "      <td>cohort15</td>\n",
       "    </tr>\n",
       "    <tr>\n",
       "      <td>4</td>\n",
       "      <td>2016</td>\n",
       "      <td>T</td>\n",
       "      <td>445598</td>\n",
       "      <td>36530214.52</td>\n",
       "      <td>10475760.27</td>\n",
       "      <td>2885540.02</td>\n",
       "      <td>0.00</td>\n",
       "      <td>0.00</td>\n",
       "      <td>602717</td>\n",
       "      <td>177433</td>\n",
       "      <td>...</td>\n",
       "      <td>0.0</td>\n",
       "      <td>3301217.01</td>\n",
       "      <td>3056365.27</td>\n",
       "      <td>0.00</td>\n",
       "      <td>0.00</td>\n",
       "      <td>47005974.79</td>\n",
       "      <td>780150</td>\n",
       "      <td>1</td>\n",
       "      <td>yr0</td>\n",
       "      <td>cohort16</td>\n",
       "    </tr>\n",
       "    <tr>\n",
       "      <td>5</td>\n",
       "      <td>2017</td>\n",
       "      <td>T</td>\n",
       "      <td>434991</td>\n",
       "      <td>37973770.48</td>\n",
       "      <td>4549913.20</td>\n",
       "      <td>0.00</td>\n",
       "      <td>0.00</td>\n",
       "      <td>0.00</td>\n",
       "      <td>668558</td>\n",
       "      <td>71604</td>\n",
       "      <td>...</td>\n",
       "      <td>0.0</td>\n",
       "      <td>3282574.70</td>\n",
       "      <td>0.00</td>\n",
       "      <td>0.00</td>\n",
       "      <td>0.00</td>\n",
       "      <td>37973770.48</td>\n",
       "      <td>668558</td>\n",
       "      <td>1</td>\n",
       "      <td>yr0</td>\n",
       "      <td>cohort17</td>\n",
       "    </tr>\n",
       "    <tr>\n",
       "      <td>6</td>\n",
       "      <td>2018</td>\n",
       "      <td>T</td>\n",
       "      <td>147945</td>\n",
       "      <td>11275859.66</td>\n",
       "      <td>0.00</td>\n",
       "      <td>0.00</td>\n",
       "      <td>0.00</td>\n",
       "      <td>0.00</td>\n",
       "      <td>208824</td>\n",
       "      <td>0</td>\n",
       "      <td>...</td>\n",
       "      <td>0.0</td>\n",
       "      <td>0.00</td>\n",
       "      <td>0.00</td>\n",
       "      <td>0.00</td>\n",
       "      <td>0.00</td>\n",
       "      <td>0.00</td>\n",
       "      <td>0</td>\n",
       "      <td>1</td>\n",
       "      <td>yr0</td>\n",
       "      <td>cohort18</td>\n",
       "    </tr>\n",
       "    <tr>\n",
       "      <td>3</td>\n",
       "      <td>2013</td>\n",
       "      <td>TT</td>\n",
       "      <td>62130</td>\n",
       "      <td>13019180.74</td>\n",
       "      <td>15267703.98</td>\n",
       "      <td>10639814.50</td>\n",
       "      <td>9617948.37</td>\n",
       "      <td>9440854.98</td>\n",
       "      <td>245452</td>\n",
       "      <td>283622</td>\n",
       "      <td>...</td>\n",
       "      <td>0.0</td>\n",
       "      <td>4491997.15</td>\n",
       "      <td>3786826.85</td>\n",
       "      <td>2539792.45</td>\n",
       "      <td>2321927.22</td>\n",
       "      <td>57985502.57</td>\n",
       "      <td>947902</td>\n",
       "      <td>1</td>\n",
       "      <td>yr1</td>\n",
       "      <td>cohort13</td>\n",
       "    </tr>\n",
       "    <tr>\n",
       "      <td>5</td>\n",
       "      <td>2014</td>\n",
       "      <td>TT</td>\n",
       "      <td>48667</td>\n",
       "      <td>6789581.20</td>\n",
       "      <td>7745897.26</td>\n",
       "      <td>4717321.67</td>\n",
       "      <td>4212067.47</td>\n",
       "      <td>1383778.10</td>\n",
       "      <td>122484</td>\n",
       "      <td>131028</td>\n",
       "      <td>...</td>\n",
       "      <td>0.0</td>\n",
       "      <td>2633662.15</td>\n",
       "      <td>1618257.48</td>\n",
       "      <td>1257254.55</td>\n",
       "      <td>1720450.81</td>\n",
       "      <td>23464867.60</td>\n",
       "      <td>380811</td>\n",
       "      <td>1</td>\n",
       "      <td>yr1</td>\n",
       "      <td>cohort14</td>\n",
       "    </tr>\n",
       "    <tr>\n",
       "      <td>7</td>\n",
       "      <td>2015</td>\n",
       "      <td>TT</td>\n",
       "      <td>46078</td>\n",
       "      <td>6830760.01</td>\n",
       "      <td>8280549.87</td>\n",
       "      <td>5608529.39</td>\n",
       "      <td>1692588.95</td>\n",
       "      <td>0.00</td>\n",
       "      <td>94787</td>\n",
       "      <td>112446</td>\n",
       "      <td>...</td>\n",
       "      <td>0.0</td>\n",
       "      <td>2560692.28</td>\n",
       "      <td>1665471.64</td>\n",
       "      <td>2361760.54</td>\n",
       "      <td>0.00</td>\n",
       "      <td>20719839.27</td>\n",
       "      <td>277830</td>\n",
       "      <td>1</td>\n",
       "      <td>yr1</td>\n",
       "      <td>cohort15</td>\n",
       "    </tr>\n",
       "    <tr>\n",
       "      <td>9</td>\n",
       "      <td>2016</td>\n",
       "      <td>TT</td>\n",
       "      <td>56538</td>\n",
       "      <td>8690722.10</td>\n",
       "      <td>10475760.27</td>\n",
       "      <td>2121971.40</td>\n",
       "      <td>0.00</td>\n",
       "      <td>0.00</td>\n",
       "      <td>130683</td>\n",
       "      <td>177433</td>\n",
       "      <td>...</td>\n",
       "      <td>0.0</td>\n",
       "      <td>3301217.01</td>\n",
       "      <td>3056365.27</td>\n",
       "      <td>0.00</td>\n",
       "      <td>0.00</td>\n",
       "      <td>19166482.37</td>\n",
       "      <td>308116</td>\n",
       "      <td>1</td>\n",
       "      <td>yr1</td>\n",
       "      <td>cohort16</td>\n",
       "    </tr>\n",
       "    <tr>\n",
       "      <td>11</td>\n",
       "      <td>2017</td>\n",
       "      <td>TT</td>\n",
       "      <td>29990</td>\n",
       "      <td>6301026.03</td>\n",
       "      <td>4549913.20</td>\n",
       "      <td>0.00</td>\n",
       "      <td>0.00</td>\n",
       "      <td>0.00</td>\n",
       "      <td>100433</td>\n",
       "      <td>71604</td>\n",
       "      <td>...</td>\n",
       "      <td>0.0</td>\n",
       "      <td>3282574.70</td>\n",
       "      <td>0.00</td>\n",
       "      <td>0.00</td>\n",
       "      <td>0.00</td>\n",
       "      <td>6301026.03</td>\n",
       "      <td>100433</td>\n",
       "      <td>1</td>\n",
       "      <td>yr1</td>\n",
       "      <td>cohort17</td>\n",
       "    </tr>\n",
       "  </tbody>\n",
       "</table>\n",
       "<p>11 rows × 89 columns</p>\n",
       "</div>"
      ],
      "text/plain": [
       "   first_gift_year_year cohort_TF  no_donors   amount_yr0   amount_yr1  \\\n",
       "1                  2013         T     320069  30411763.60  15267703.98   \n",
       "2                  2014         T     320673  26174282.52   7745897.26   \n",
       "3                  2015         T     355137  30146878.32   8280549.87   \n",
       "4                  2016         T     445598  36530214.52  10475760.27   \n",
       "5                  2017         T     434991  37973770.48   4549913.20   \n",
       "6                  2018         T     147945  11275859.66         0.00   \n",
       "3                  2013        TT      62130  13019180.74  15267703.98   \n",
       "5                  2014        TT      48667   6789581.20   7745897.26   \n",
       "7                  2015        TT      46078   6830760.01   8280549.87   \n",
       "9                  2016        TT      56538   8690722.10  10475760.27   \n",
       "11                 2017        TT      29990   6301026.03   4549913.20   \n",
       "\n",
       "     amount_yr2   amount_yr3   amount_yr4  count_yr0  count_yr1  ...  \\\n",
       "1   12587307.39  11398269.65  11155755.22     573067     283622  ...   \n",
       "2    6437708.77   5818855.02   1874641.80     461347     131028  ...   \n",
       "3    7444145.63   2329381.58         0.00     468181     112446  ...   \n",
       "4    2885540.02         0.00         0.00     602717     177433  ...   \n",
       "5          0.00         0.00         0.00     668558      71604  ...   \n",
       "6          0.00         0.00         0.00     208824          0  ...   \n",
       "3   10639814.50   9617948.37   9440854.98     245452     283622  ...   \n",
       "5    4717321.67   4212067.47   1383778.10     122484     131028  ...   \n",
       "7    5608529.39   1692588.95         0.00      94787     112446  ...   \n",
       "9    2121971.40         0.00         0.00     130683     177433  ...   \n",
       "11         0.00         0.00         0.00     100433      71604  ...   \n",
       "\n",
       "    downgraded_amount_yr0  downgraded_amount_yr1  downgraded_amount_yr2  \\\n",
       "1                     0.0             4491997.15             3786826.85   \n",
       "2                     0.0             2633662.15             1618257.48   \n",
       "3                     0.0             2560692.28             1665471.64   \n",
       "4                     0.0             3301217.01             3056365.27   \n",
       "5                     0.0             3282574.70                   0.00   \n",
       "6                     0.0                   0.00                   0.00   \n",
       "3                     0.0             4491997.15             3786826.85   \n",
       "5                     0.0             2633662.15             1618257.48   \n",
       "7                     0.0             2560692.28             1665471.64   \n",
       "9                     0.0             3301217.01             3056365.27   \n",
       "11                    0.0             3282574.70                   0.00   \n",
       "\n",
       "    downgraded_amount_yr3  downgraded_amount_yr4  amount_total  count_total  \\\n",
       "1              2813452.88             2623391.85   80820799.84      1352157   \n",
       "2              1510965.57             2001740.67   46176743.57       768060   \n",
       "3              2580070.49                   0.00   45871573.82       678938   \n",
       "4                    0.00                   0.00   47005974.79       780150   \n",
       "5                    0.00                   0.00   37973770.48       668558   \n",
       "6                    0.00                   0.00          0.00            0   \n",
       "3              2539792.45             2321927.22   57985502.57       947902   \n",
       "5              1257254.55             1720450.81   23464867.60       380811   \n",
       "7              2361760.54                   0.00   20719839.27       277830   \n",
       "9                    0.00                   0.00   19166482.37       308116   \n",
       "11                   0.00                   0.00    6301026.03       100433   \n",
       "\n",
       "    neg_yr  cohort_gift_year    cohort  \n",
       "1        1               yr0  cohort13  \n",
       "2        1               yr0  cohort14  \n",
       "3        1               yr0  cohort15  \n",
       "4        1               yr0  cohort16  \n",
       "5        1               yr0  cohort17  \n",
       "6        1               yr0  cohort18  \n",
       "3        1               yr1  cohort13  \n",
       "5        1               yr1  cohort14  \n",
       "7        1               yr1  cohort15  \n",
       "9        1               yr1  cohort16  \n",
       "11       1               yr1  cohort17  \n",
       "\n",
       "[11 rows x 89 columns]"
      ]
     },
     "execution_count": 198,
     "metadata": {},
     "output_type": "execute_result"
    }
   ],
   "source": [
    "filter1=df5['cohort_gift_year'].isin([\"yr0\",\"yr1\"]) \n",
    "filter2=df5['neg_yr'].isin([\"1\"])\n",
    "df5[filter1&filter2]\n",
    "#df5.query('neg_yr == \"1\"')"
   ]
  },
  {
   "cell_type": "code",
   "execution_count": 199,
   "metadata": {},
   "outputs": [
    {
     "data": {
      "text/plain": [
       "(array([0, 1, 2, 3, 4, 5], dtype=int64),)"
      ]
     },
     "execution_count": 199,
     "metadata": {},
     "output_type": "execute_result"
    }
   ],
   "source": [
    "np.where((df5['cohort_gift_year'] == \"yr0\") | (df5['cohort_gift_year']==\"yr1\") & (df5['neg_yr']==1))"
   ]
  },
  {
   "cell_type": "code",
   "execution_count": 201,
   "metadata": {},
   "outputs": [
    {
     "data": {
      "text/html": [
       "<div>\n",
       "<style scoped>\n",
       "    .dataframe tbody tr th:only-of-type {\n",
       "        vertical-align: middle;\n",
       "    }\n",
       "\n",
       "    .dataframe tbody tr th {\n",
       "        vertical-align: top;\n",
       "    }\n",
       "\n",
       "    .dataframe thead th {\n",
       "        text-align: right;\n",
       "    }\n",
       "</style>\n",
       "<table border=\"1\" class=\"dataframe\">\n",
       "  <thead>\n",
       "    <tr style=\"text-align: right;\">\n",
       "      <th></th>\n",
       "      <th>first_gift_year_year</th>\n",
       "      <th>cohort_TF</th>\n",
       "      <th>no_donors</th>\n",
       "      <th>amount_yr0</th>\n",
       "      <th>amount_yr1</th>\n",
       "      <th>amount_yr2</th>\n",
       "      <th>amount_yr3</th>\n",
       "      <th>amount_yr4</th>\n",
       "      <th>count_yr0</th>\n",
       "      <th>count_yr1</th>\n",
       "      <th>...</th>\n",
       "      <th>upgraded_amount_yr4</th>\n",
       "      <th>downgraded_amount_yr0</th>\n",
       "      <th>downgraded_amount_yr1</th>\n",
       "      <th>downgraded_amount_yr2</th>\n",
       "      <th>downgraded_amount_yr3</th>\n",
       "      <th>downgraded_amount_yr4</th>\n",
       "      <th>amount_total</th>\n",
       "      <th>count_total</th>\n",
       "      <th>neg_yr</th>\n",
       "      <th>cohort_gift_year</th>\n",
       "    </tr>\n",
       "  </thead>\n",
       "  <tbody>\n",
       "    <tr>\n",
       "      <td>7</td>\n",
       "      <td>2013</td>\n",
       "      <td>TFFF</td>\n",
       "      <td>-232818</td>\n",
       "      <td>-14328057.51</td>\n",
       "      <td>-0.00</td>\n",
       "      <td>-0.00</td>\n",
       "      <td>-0.00</td>\n",
       "      <td>-532082.25</td>\n",
       "      <td>-288534</td>\n",
       "      <td>0</td>\n",
       "      <td>...</td>\n",
       "      <td>-0.00</td>\n",
       "      <td>-0.0</td>\n",
       "      <td>-0.00</td>\n",
       "      <td>-0.00</td>\n",
       "      <td>-0.00</td>\n",
       "      <td>-0.00</td>\n",
       "      <td>-14860139.76</td>\n",
       "      <td>-296647</td>\n",
       "      <td>-1</td>\n",
       "      <td>yr3</td>\n",
       "    </tr>\n",
       "    <tr>\n",
       "      <td>8</td>\n",
       "      <td>2013</td>\n",
       "      <td>TFFT</td>\n",
       "      <td>8968</td>\n",
       "      <td>766054.49</td>\n",
       "      <td>0.00</td>\n",
       "      <td>0.00</td>\n",
       "      <td>997826.97</td>\n",
       "      <td>457401.21</td>\n",
       "      <td>13123</td>\n",
       "      <td>0</td>\n",
       "      <td>...</td>\n",
       "      <td>211357.60</td>\n",
       "      <td>0.0</td>\n",
       "      <td>0.00</td>\n",
       "      <td>0.00</td>\n",
       "      <td>0.00</td>\n",
       "      <td>140241.32</td>\n",
       "      <td>2221282.67</td>\n",
       "      <td>36174</td>\n",
       "      <td>1</td>\n",
       "      <td>yr3</td>\n",
       "    </tr>\n",
       "    <tr>\n",
       "      <td>9</td>\n",
       "      <td>2013</td>\n",
       "      <td>TFTF</td>\n",
       "      <td>-11843</td>\n",
       "      <td>-1778151.37</td>\n",
       "      <td>-0.00</td>\n",
       "      <td>-1242211.83</td>\n",
       "      <td>-0.00</td>\n",
       "      <td>-184624.84</td>\n",
       "      <td>-18005</td>\n",
       "      <td>0</td>\n",
       "      <td>...</td>\n",
       "      <td>-0.00</td>\n",
       "      <td>-0.0</td>\n",
       "      <td>-0.00</td>\n",
       "      <td>-0.00</td>\n",
       "      <td>-0.00</td>\n",
       "      <td>-0.00</td>\n",
       "      <td>-3204988.04</td>\n",
       "      <td>-37271</td>\n",
       "      <td>-1</td>\n",
       "      <td>yr3</td>\n",
       "    </tr>\n",
       "    <tr>\n",
       "      <td>10</td>\n",
       "      <td>2013</td>\n",
       "      <td>TFTT</td>\n",
       "      <td>4310</td>\n",
       "      <td>520319.49</td>\n",
       "      <td>0.00</td>\n",
       "      <td>705281.06</td>\n",
       "      <td>782494.31</td>\n",
       "      <td>540791.94</td>\n",
       "      <td>7953</td>\n",
       "      <td>0</td>\n",
       "      <td>...</td>\n",
       "      <td>212530.84</td>\n",
       "      <td>0.0</td>\n",
       "      <td>0.00</td>\n",
       "      <td>0.00</td>\n",
       "      <td>273660.43</td>\n",
       "      <td>161223.31</td>\n",
       "      <td>2548886.80</td>\n",
       "      <td>34163</td>\n",
       "      <td>1</td>\n",
       "      <td>yr3</td>\n",
       "    </tr>\n",
       "    <tr>\n",
       "      <td>11</td>\n",
       "      <td>2013</td>\n",
       "      <td>TTFF</td>\n",
       "      <td>-31013</td>\n",
       "      <td>-3934282.11</td>\n",
       "      <td>-3381202.29</td>\n",
       "      <td>-0.00</td>\n",
       "      <td>-0.00</td>\n",
       "      <td>-285465.61</td>\n",
       "      <td>-71164</td>\n",
       "      <td>-56487</td>\n",
       "      <td>...</td>\n",
       "      <td>-0.00</td>\n",
       "      <td>-0.0</td>\n",
       "      <td>-1939923.41</td>\n",
       "      <td>-0.00</td>\n",
       "      <td>-0.00</td>\n",
       "      <td>-0.00</td>\n",
       "      <td>-7600950.01</td>\n",
       "      <td>-132213</td>\n",
       "      <td>-1</td>\n",
       "      <td>yr3</td>\n",
       "    </tr>\n",
       "    <tr>\n",
       "      <td>12</td>\n",
       "      <td>2013</td>\n",
       "      <td>TTFT</td>\n",
       "      <td>5037</td>\n",
       "      <td>739738.79</td>\n",
       "      <td>815366.07</td>\n",
       "      <td>0.00</td>\n",
       "      <td>819233.14</td>\n",
       "      <td>473806.14</td>\n",
       "      <td>12065</td>\n",
       "      <td>11675</td>\n",
       "      <td>...</td>\n",
       "      <td>204404.59</td>\n",
       "      <td>0.0</td>\n",
       "      <td>290557.49</td>\n",
       "      <td>0.00</td>\n",
       "      <td>0.00</td>\n",
       "      <td>179678.10</td>\n",
       "      <td>2848144.14</td>\n",
       "      <td>41448</td>\n",
       "      <td>1</td>\n",
       "      <td>yr3</td>\n",
       "    </tr>\n",
       "    <tr>\n",
       "      <td>13</td>\n",
       "      <td>2013</td>\n",
       "      <td>TTTF</td>\n",
       "      <td>-11760</td>\n",
       "      <td>-2011156.43</td>\n",
       "      <td>-2182563.26</td>\n",
       "      <td>-1754263.10</td>\n",
       "      <td>-0.00</td>\n",
       "      <td>-511597.68</td>\n",
       "      <td>-37427</td>\n",
       "      <td>-39751</td>\n",
       "      <td>...</td>\n",
       "      <td>-0.00</td>\n",
       "      <td>-0.0</td>\n",
       "      <td>-817974.54</td>\n",
       "      <td>-1064713.46</td>\n",
       "      <td>-0.00</td>\n",
       "      <td>-0.00</td>\n",
       "      <td>-6459580.47</td>\n",
       "      <td>-109893</td>\n",
       "      <td>-1</td>\n",
       "      <td>yr3</td>\n",
       "    </tr>\n",
       "    <tr>\n",
       "      <td>14</td>\n",
       "      <td>2013</td>\n",
       "      <td>TTTT</td>\n",
       "      <td>14320</td>\n",
       "      <td>6334003.41</td>\n",
       "      <td>8888572.36</td>\n",
       "      <td>8885551.40</td>\n",
       "      <td>8798715.23</td>\n",
       "      <td>8169985.55</td>\n",
       "      <td>124796</td>\n",
       "      <td>175709</td>\n",
       "      <td>...</td>\n",
       "      <td>2384702.55</td>\n",
       "      <td>0.0</td>\n",
       "      <td>1443541.71</td>\n",
       "      <td>2722113.39</td>\n",
       "      <td>2539792.45</td>\n",
       "      <td>2142249.12</td>\n",
       "      <td>41076827.95</td>\n",
       "      <td>664348</td>\n",
       "      <td>1</td>\n",
       "      <td>yr3</td>\n",
       "    </tr>\n",
       "    <tr>\n",
       "      <td>15</td>\n",
       "      <td>2014</td>\n",
       "      <td>TFFF</td>\n",
       "      <td>-248000</td>\n",
       "      <td>-17141972.95</td>\n",
       "      <td>-0.00</td>\n",
       "      <td>-0.00</td>\n",
       "      <td>-0.00</td>\n",
       "      <td>-158731.79</td>\n",
       "      <td>-302025</td>\n",
       "      <td>0</td>\n",
       "      <td>...</td>\n",
       "      <td>-0.00</td>\n",
       "      <td>-0.0</td>\n",
       "      <td>-0.00</td>\n",
       "      <td>-0.00</td>\n",
       "      <td>-0.00</td>\n",
       "      <td>-0.00</td>\n",
       "      <td>-17141972.95</td>\n",
       "      <td>-302025</td>\n",
       "      <td>-1</td>\n",
       "      <td>yr3</td>\n",
       "    </tr>\n",
       "    <tr>\n",
       "      <td>16</td>\n",
       "      <td>2014</td>\n",
       "      <td>TFFT</td>\n",
       "      <td>8220</td>\n",
       "      <td>731770.08</td>\n",
       "      <td>0.00</td>\n",
       "      <td>0.00</td>\n",
       "      <td>853320.27</td>\n",
       "      <td>119255.53</td>\n",
       "      <td>12027</td>\n",
       "      <td>0</td>\n",
       "      <td>...</td>\n",
       "      <td>39165.29</td>\n",
       "      <td>0.0</td>\n",
       "      <td>0.00</td>\n",
       "      <td>0.00</td>\n",
       "      <td>0.00</td>\n",
       "      <td>91916.98</td>\n",
       "      <td>1585090.35</td>\n",
       "      <td>25381</td>\n",
       "      <td>1</td>\n",
       "      <td>yr3</td>\n",
       "    </tr>\n",
       "    <tr>\n",
       "      <td>17</td>\n",
       "      <td>2014</td>\n",
       "      <td>TFTF</td>\n",
       "      <td>-11850</td>\n",
       "      <td>-1056218.21</td>\n",
       "      <td>-0.00</td>\n",
       "      <td>-1059848.19</td>\n",
       "      <td>-0.00</td>\n",
       "      <td>-60325.99</td>\n",
       "      <td>-17533</td>\n",
       "      <td>0</td>\n",
       "      <td>...</td>\n",
       "      <td>-0.00</td>\n",
       "      <td>-0.0</td>\n",
       "      <td>-0.00</td>\n",
       "      <td>-0.00</td>\n",
       "      <td>-0.00</td>\n",
       "      <td>-0.00</td>\n",
       "      <td>-2116066.40</td>\n",
       "      <td>-33436</td>\n",
       "      <td>-1</td>\n",
       "      <td>yr3</td>\n",
       "    </tr>\n",
       "    <tr>\n",
       "      <td>18</td>\n",
       "      <td>2014</td>\n",
       "      <td>TFTT</td>\n",
       "      <td>3936</td>\n",
       "      <td>454740.08</td>\n",
       "      <td>0.00</td>\n",
       "      <td>660538.91</td>\n",
       "      <td>753467.28</td>\n",
       "      <td>152550.39</td>\n",
       "      <td>7278</td>\n",
       "      <td>0</td>\n",
       "      <td>...</td>\n",
       "      <td>31981.83</td>\n",
       "      <td>0.0</td>\n",
       "      <td>0.00</td>\n",
       "      <td>0.00</td>\n",
       "      <td>253711.02</td>\n",
       "      <td>189372.88</td>\n",
       "      <td>1868746.27</td>\n",
       "      <td>26407</td>\n",
       "      <td>1</td>\n",
       "      <td>yr3</td>\n",
       "    </tr>\n",
       "    <tr>\n",
       "      <td>19</td>\n",
       "      <td>2014</td>\n",
       "      <td>TTFF</td>\n",
       "      <td>-28755</td>\n",
       "      <td>-3045809.91</td>\n",
       "      <td>-2866892.22</td>\n",
       "      <td>-0.00</td>\n",
       "      <td>-0.00</td>\n",
       "      <td>-75016.52</td>\n",
       "      <td>-53190</td>\n",
       "      <td>-46209</td>\n",
       "      <td>...</td>\n",
       "      <td>-0.00</td>\n",
       "      <td>-0.0</td>\n",
       "      <td>-1346926.66</td>\n",
       "      <td>-0.00</td>\n",
       "      <td>-0.00</td>\n",
       "      <td>-0.00</td>\n",
       "      <td>-5912702.13</td>\n",
       "      <td>-99399</td>\n",
       "      <td>-1</td>\n",
       "      <td>yr3</td>\n",
       "    </tr>\n",
       "    <tr>\n",
       "      <td>20</td>\n",
       "      <td>2014</td>\n",
       "      <td>TTFT</td>\n",
       "      <td>4173</td>\n",
       "      <td>588116.58</td>\n",
       "      <td>583665.69</td>\n",
       "      <td>0.00</td>\n",
       "      <td>610904.82</td>\n",
       "      <td>131431.80</td>\n",
       "      <td>9895</td>\n",
       "      <td>9473</td>\n",
       "      <td>...</td>\n",
       "      <td>40818.83</td>\n",
       "      <td>0.0</td>\n",
       "      <td>246619.27</td>\n",
       "      <td>0.00</td>\n",
       "      <td>0.00</td>\n",
       "      <td>101886.79</td>\n",
       "      <td>1782687.09</td>\n",
       "      <td>28128</td>\n",
       "      <td>1</td>\n",
       "      <td>yr3</td>\n",
       "    </tr>\n",
       "    <tr>\n",
       "      <td>21</td>\n",
       "      <td>2014</td>\n",
       "      <td>TTTF</td>\n",
       "      <td>-7778</td>\n",
       "      <td>-1127643.90</td>\n",
       "      <td>-1357101.64</td>\n",
       "      <td>-1081587.31</td>\n",
       "      <td>-0.00</td>\n",
       "      <td>-66830.01</td>\n",
       "      <td>-19719</td>\n",
       "      <td>-20915</td>\n",
       "      <td>...</td>\n",
       "      <td>-0.00</td>\n",
       "      <td>-0.0</td>\n",
       "      <td>-410333.87</td>\n",
       "      <td>-658208.71</td>\n",
       "      <td>-0.00</td>\n",
       "      <td>-0.00</td>\n",
       "      <td>-3566332.85</td>\n",
       "      <td>-55155</td>\n",
       "      <td>-1</td>\n",
       "      <td>yr3</td>\n",
       "    </tr>\n",
       "    <tr>\n",
       "      <td>22</td>\n",
       "      <td>2014</td>\n",
       "      <td>TTTT</td>\n",
       "      <td>7961</td>\n",
       "      <td>2028010.81</td>\n",
       "      <td>2938237.71</td>\n",
       "      <td>3635734.36</td>\n",
       "      <td>3601162.65</td>\n",
       "      <td>1110499.77</td>\n",
       "      <td>39680</td>\n",
       "      <td>54431</td>\n",
       "      <td>...</td>\n",
       "      <td>182109.72</td>\n",
       "      <td>0.0</td>\n",
       "      <td>629782.35</td>\n",
       "      <td>960048.77</td>\n",
       "      <td>1257254.55</td>\n",
       "      <td>1618564.02</td>\n",
       "      <td>12203145.53</td>\n",
       "      <td>198129</td>\n",
       "      <td>1</td>\n",
       "      <td>yr3</td>\n",
       "    </tr>\n",
       "    <tr>\n",
       "      <td>23</td>\n",
       "      <td>2015</td>\n",
       "      <td>TFFF</td>\n",
       "      <td>-289004</td>\n",
       "      <td>-21309497.16</td>\n",
       "      <td>-0.00</td>\n",
       "      <td>-0.00</td>\n",
       "      <td>-0.00</td>\n",
       "      <td>-0.00</td>\n",
       "      <td>-343664</td>\n",
       "      <td>0</td>\n",
       "      <td>...</td>\n",
       "      <td>-0.00</td>\n",
       "      <td>-0.0</td>\n",
       "      <td>-0.00</td>\n",
       "      <td>-0.00</td>\n",
       "      <td>-0.00</td>\n",
       "      <td>-0.00</td>\n",
       "      <td>-21309497.16</td>\n",
       "      <td>-343664</td>\n",
       "      <td>-1</td>\n",
       "      <td>yr3</td>\n",
       "    </tr>\n",
       "    <tr>\n",
       "      <td>24</td>\n",
       "      <td>2015</td>\n",
       "      <td>TFFT</td>\n",
       "      <td>3535</td>\n",
       "      <td>331432.62</td>\n",
       "      <td>0.00</td>\n",
       "      <td>0.00</td>\n",
       "      <td>347577.51</td>\n",
       "      <td>0.00</td>\n",
       "      <td>5081</td>\n",
       "      <td>0</td>\n",
       "      <td>...</td>\n",
       "      <td>0.00</td>\n",
       "      <td>0.0</td>\n",
       "      <td>0.00</td>\n",
       "      <td>0.00</td>\n",
       "      <td>0.00</td>\n",
       "      <td>0.00</td>\n",
       "      <td>331432.62</td>\n",
       "      <td>5081</td>\n",
       "      <td>1</td>\n",
       "      <td>yr3</td>\n",
       "    </tr>\n",
       "    <tr>\n",
       "      <td>25</td>\n",
       "      <td>2015</td>\n",
       "      <td>TFTF</td>\n",
       "      <td>-14405</td>\n",
       "      <td>-1411805.23</td>\n",
       "      <td>-0.00</td>\n",
       "      <td>-1418115.02</td>\n",
       "      <td>-0.00</td>\n",
       "      <td>-0.00</td>\n",
       "      <td>-20726</td>\n",
       "      <td>0</td>\n",
       "      <td>...</td>\n",
       "      <td>-0.00</td>\n",
       "      <td>-0.0</td>\n",
       "      <td>-0.00</td>\n",
       "      <td>-0.00</td>\n",
       "      <td>-0.00</td>\n",
       "      <td>-0.00</td>\n",
       "      <td>-2829920.25</td>\n",
       "      <td>-42128</td>\n",
       "      <td>-1</td>\n",
       "      <td>yr3</td>\n",
       "    </tr>\n",
       "    <tr>\n",
       "      <td>26</td>\n",
       "      <td>2015</td>\n",
       "      <td>TFTT</td>\n",
       "      <td>2115</td>\n",
       "      <td>263383.30</td>\n",
       "      <td>0.00</td>\n",
       "      <td>417501.22</td>\n",
       "      <td>289215.12</td>\n",
       "      <td>0.00</td>\n",
       "      <td>3923</td>\n",
       "      <td>0</td>\n",
       "      <td>...</td>\n",
       "      <td>0.00</td>\n",
       "      <td>0.0</td>\n",
       "      <td>0.00</td>\n",
       "      <td>0.00</td>\n",
       "      <td>218309.95</td>\n",
       "      <td>0.00</td>\n",
       "      <td>680884.52</td>\n",
       "      <td>10235</td>\n",
       "      <td>1</td>\n",
       "      <td>yr3</td>\n",
       "    </tr>\n",
       "    <tr>\n",
       "      <td>27</td>\n",
       "      <td>2015</td>\n",
       "      <td>TTFF</td>\n",
       "      <td>-29018</td>\n",
       "      <td>-3129086.44</td>\n",
       "      <td>-3115220.54</td>\n",
       "      <td>-0.00</td>\n",
       "      <td>-0.00</td>\n",
       "      <td>-0.00</td>\n",
       "      <td>-46146</td>\n",
       "      <td>-43812</td>\n",
       "      <td>...</td>\n",
       "      <td>-0.00</td>\n",
       "      <td>-0.0</td>\n",
       "      <td>-1293916.20</td>\n",
       "      <td>-0.00</td>\n",
       "      <td>-0.00</td>\n",
       "      <td>-0.00</td>\n",
       "      <td>-6244306.98</td>\n",
       "      <td>-89958</td>\n",
       "      <td>-1</td>\n",
       "      <td>yr3</td>\n",
       "    </tr>\n",
       "    <tr>\n",
       "      <td>28</td>\n",
       "      <td>2015</td>\n",
       "      <td>TTFT</td>\n",
       "      <td>1737</td>\n",
       "      <td>229616.69</td>\n",
       "      <td>225957.35</td>\n",
       "      <td>0.00</td>\n",
       "      <td>169344.46</td>\n",
       "      <td>0.00</td>\n",
       "      <td>3523</td>\n",
       "      <td>3517</td>\n",
       "      <td>...</td>\n",
       "      <td>0.00</td>\n",
       "      <td>0.0</td>\n",
       "      <td>101096.64</td>\n",
       "      <td>0.00</td>\n",
       "      <td>0.00</td>\n",
       "      <td>0.00</td>\n",
       "      <td>455574.04</td>\n",
       "      <td>7040</td>\n",
       "      <td>1</td>\n",
       "      <td>yr3</td>\n",
       "    </tr>\n",
       "    <tr>\n",
       "      <td>29</td>\n",
       "      <td>2015</td>\n",
       "      <td>TTTF</td>\n",
       "      <td>-10726</td>\n",
       "      <td>-1998490.47</td>\n",
       "      <td>-2279331.53</td>\n",
       "      <td>-1984104.35</td>\n",
       "      <td>-0.00</td>\n",
       "      <td>-0.00</td>\n",
       "      <td>-25441</td>\n",
       "      <td>-29200</td>\n",
       "      <td>...</td>\n",
       "      <td>-0.00</td>\n",
       "      <td>-0.0</td>\n",
       "      <td>-747205.07</td>\n",
       "      <td>-992987.83</td>\n",
       "      <td>-0.00</td>\n",
       "      <td>-0.00</td>\n",
       "      <td>-6261926.35</td>\n",
       "      <td>-79813</td>\n",
       "      <td>-1</td>\n",
       "      <td>yr3</td>\n",
       "    </tr>\n",
       "    <tr>\n",
       "      <td>30</td>\n",
       "      <td>2015</td>\n",
       "      <td>TTTT</td>\n",
       "      <td>4597</td>\n",
       "      <td>1473566.41</td>\n",
       "      <td>2660040.45</td>\n",
       "      <td>3624425.04</td>\n",
       "      <td>1523244.49</td>\n",
       "      <td>0.00</td>\n",
       "      <td>19677</td>\n",
       "      <td>35917</td>\n",
       "      <td>...</td>\n",
       "      <td>0.00</td>\n",
       "      <td>0.0</td>\n",
       "      <td>418474.37</td>\n",
       "      <td>672483.81</td>\n",
       "      <td>2361760.54</td>\n",
       "      <td>0.00</td>\n",
       "      <td>7758031.90</td>\n",
       "      <td>101019</td>\n",
       "      <td>1</td>\n",
       "      <td>yr3</td>\n",
       "    </tr>\n",
       "  </tbody>\n",
       "</table>\n",
       "<p>24 rows × 88 columns</p>\n",
       "</div>"
      ],
      "text/plain": [
       "    first_gift_year_year cohort_TF  no_donors   amount_yr0  amount_yr1  \\\n",
       "7                   2013      TFFF    -232818 -14328057.51       -0.00   \n",
       "8                   2013      TFFT       8968    766054.49        0.00   \n",
       "9                   2013      TFTF     -11843  -1778151.37       -0.00   \n",
       "10                  2013      TFTT       4310    520319.49        0.00   \n",
       "11                  2013      TTFF     -31013  -3934282.11 -3381202.29   \n",
       "12                  2013      TTFT       5037    739738.79   815366.07   \n",
       "13                  2013      TTTF     -11760  -2011156.43 -2182563.26   \n",
       "14                  2013      TTTT      14320   6334003.41  8888572.36   \n",
       "15                  2014      TFFF    -248000 -17141972.95       -0.00   \n",
       "16                  2014      TFFT       8220    731770.08        0.00   \n",
       "17                  2014      TFTF     -11850  -1056218.21       -0.00   \n",
       "18                  2014      TFTT       3936    454740.08        0.00   \n",
       "19                  2014      TTFF     -28755  -3045809.91 -2866892.22   \n",
       "20                  2014      TTFT       4173    588116.58   583665.69   \n",
       "21                  2014      TTTF      -7778  -1127643.90 -1357101.64   \n",
       "22                  2014      TTTT       7961   2028010.81  2938237.71   \n",
       "23                  2015      TFFF    -289004 -21309497.16       -0.00   \n",
       "24                  2015      TFFT       3535    331432.62        0.00   \n",
       "25                  2015      TFTF     -14405  -1411805.23       -0.00   \n",
       "26                  2015      TFTT       2115    263383.30        0.00   \n",
       "27                  2015      TTFF     -29018  -3129086.44 -3115220.54   \n",
       "28                  2015      TTFT       1737    229616.69   225957.35   \n",
       "29                  2015      TTTF     -10726  -1998490.47 -2279331.53   \n",
       "30                  2015      TTTT       4597   1473566.41  2660040.45   \n",
       "\n",
       "    amount_yr2  amount_yr3  amount_yr4  count_yr0  count_yr1  ...  \\\n",
       "7        -0.00       -0.00  -532082.25    -288534          0  ...   \n",
       "8         0.00   997826.97   457401.21      13123          0  ...   \n",
       "9  -1242211.83       -0.00  -184624.84     -18005          0  ...   \n",
       "10   705281.06   782494.31   540791.94       7953          0  ...   \n",
       "11       -0.00       -0.00  -285465.61     -71164     -56487  ...   \n",
       "12        0.00   819233.14   473806.14      12065      11675  ...   \n",
       "13 -1754263.10       -0.00  -511597.68     -37427     -39751  ...   \n",
       "14  8885551.40  8798715.23  8169985.55     124796     175709  ...   \n",
       "15       -0.00       -0.00  -158731.79    -302025          0  ...   \n",
       "16        0.00   853320.27   119255.53      12027          0  ...   \n",
       "17 -1059848.19       -0.00   -60325.99     -17533          0  ...   \n",
       "18   660538.91   753467.28   152550.39       7278          0  ...   \n",
       "19       -0.00       -0.00   -75016.52     -53190     -46209  ...   \n",
       "20        0.00   610904.82   131431.80       9895       9473  ...   \n",
       "21 -1081587.31       -0.00   -66830.01     -19719     -20915  ...   \n",
       "22  3635734.36  3601162.65  1110499.77      39680      54431  ...   \n",
       "23       -0.00       -0.00       -0.00    -343664          0  ...   \n",
       "24        0.00   347577.51        0.00       5081          0  ...   \n",
       "25 -1418115.02       -0.00       -0.00     -20726          0  ...   \n",
       "26   417501.22   289215.12        0.00       3923          0  ...   \n",
       "27       -0.00       -0.00       -0.00     -46146     -43812  ...   \n",
       "28        0.00   169344.46        0.00       3523       3517  ...   \n",
       "29 -1984104.35       -0.00       -0.00     -25441     -29200  ...   \n",
       "30  3624425.04  1523244.49        0.00      19677      35917  ...   \n",
       "\n",
       "    upgraded_amount_yr4  downgraded_amount_yr0  downgraded_amount_yr1  \\\n",
       "7                 -0.00                   -0.0                  -0.00   \n",
       "8             211357.60                    0.0                   0.00   \n",
       "9                 -0.00                   -0.0                  -0.00   \n",
       "10            212530.84                    0.0                   0.00   \n",
       "11                -0.00                   -0.0            -1939923.41   \n",
       "12            204404.59                    0.0              290557.49   \n",
       "13                -0.00                   -0.0             -817974.54   \n",
       "14           2384702.55                    0.0             1443541.71   \n",
       "15                -0.00                   -0.0                  -0.00   \n",
       "16             39165.29                    0.0                   0.00   \n",
       "17                -0.00                   -0.0                  -0.00   \n",
       "18             31981.83                    0.0                   0.00   \n",
       "19                -0.00                   -0.0            -1346926.66   \n",
       "20             40818.83                    0.0              246619.27   \n",
       "21                -0.00                   -0.0             -410333.87   \n",
       "22            182109.72                    0.0              629782.35   \n",
       "23                -0.00                   -0.0                  -0.00   \n",
       "24                 0.00                    0.0                   0.00   \n",
       "25                -0.00                   -0.0                  -0.00   \n",
       "26                 0.00                    0.0                   0.00   \n",
       "27                -0.00                   -0.0            -1293916.20   \n",
       "28                 0.00                    0.0              101096.64   \n",
       "29                -0.00                   -0.0             -747205.07   \n",
       "30                 0.00                    0.0              418474.37   \n",
       "\n",
       "    downgraded_amount_yr2  downgraded_amount_yr3  downgraded_amount_yr4  \\\n",
       "7                   -0.00                  -0.00                  -0.00   \n",
       "8                    0.00                   0.00              140241.32   \n",
       "9                   -0.00                  -0.00                  -0.00   \n",
       "10                   0.00              273660.43              161223.31   \n",
       "11                  -0.00                  -0.00                  -0.00   \n",
       "12                   0.00                   0.00              179678.10   \n",
       "13            -1064713.46                  -0.00                  -0.00   \n",
       "14             2722113.39             2539792.45             2142249.12   \n",
       "15                  -0.00                  -0.00                  -0.00   \n",
       "16                   0.00                   0.00               91916.98   \n",
       "17                  -0.00                  -0.00                  -0.00   \n",
       "18                   0.00              253711.02              189372.88   \n",
       "19                  -0.00                  -0.00                  -0.00   \n",
       "20                   0.00                   0.00              101886.79   \n",
       "21             -658208.71                  -0.00                  -0.00   \n",
       "22              960048.77             1257254.55             1618564.02   \n",
       "23                  -0.00                  -0.00                  -0.00   \n",
       "24                   0.00                   0.00                   0.00   \n",
       "25                  -0.00                  -0.00                  -0.00   \n",
       "26                   0.00              218309.95                   0.00   \n",
       "27                  -0.00                  -0.00                  -0.00   \n",
       "28                   0.00                   0.00                   0.00   \n",
       "29             -992987.83                  -0.00                  -0.00   \n",
       "30              672483.81             2361760.54                   0.00   \n",
       "\n",
       "    amount_total  count_total  neg_yr  cohort_gift_year  \n",
       "7   -14860139.76      -296647      -1               yr3  \n",
       "8     2221282.67        36174       1               yr3  \n",
       "9    -3204988.04       -37271      -1               yr3  \n",
       "10    2548886.80        34163       1               yr3  \n",
       "11   -7600950.01      -132213      -1               yr3  \n",
       "12    2848144.14        41448       1               yr3  \n",
       "13   -6459580.47      -109893      -1               yr3  \n",
       "14   41076827.95       664348       1               yr3  \n",
       "15  -17141972.95      -302025      -1               yr3  \n",
       "16    1585090.35        25381       1               yr3  \n",
       "17   -2116066.40       -33436      -1               yr3  \n",
       "18    1868746.27        26407       1               yr3  \n",
       "19   -5912702.13       -99399      -1               yr3  \n",
       "20    1782687.09        28128       1               yr3  \n",
       "21   -3566332.85       -55155      -1               yr3  \n",
       "22   12203145.53       198129       1               yr3  \n",
       "23  -21309497.16      -343664      -1               yr3  \n",
       "24     331432.62         5081       1               yr3  \n",
       "25   -2829920.25       -42128      -1               yr3  \n",
       "26     680884.52        10235       1               yr3  \n",
       "27   -6244306.98       -89958      -1               yr3  \n",
       "28     455574.04         7040       1               yr3  \n",
       "29   -6261926.35       -79813      -1               yr3  \n",
       "30    7758031.90       101019       1               yr3  \n",
       "\n",
       "[24 rows x 88 columns]"
      ]
     },
     "execution_count": 201,
     "metadata": {},
     "output_type": "execute_result"
    }
   ],
   "source": [
    "df5_y3"
   ]
  },
  {
   "cell_type": "code",
   "execution_count": 203,
   "metadata": {},
   "outputs": [],
   "source": [
    "df6_y3=df5_y3[['first_gift_year_year', 'cohort_yrTF', 'no_donors', 'amount_yr3']].copy()\n",
    "df6_y4=df5_y4[['first_gift_year_year', 'cohort_yr4_TF', 'no_donors', 'amount_yr4']].copy()"
   ]
  },
  {
   "cell_type": "code",
   "execution_count": 392,
   "metadata": {},
   "outputs": [],
   "source": [
    "df6_y4.rename(columns = {'cohort_yr4_TF':'4'}, inplace = True)"
   ]
  },
  {
   "cell_type": "code",
   "execution_count": 441,
   "metadata": {},
   "outputs": [
    {
     "data": {
      "text/html": [
       "<div>\n",
       "<style scoped>\n",
       "    .dataframe tbody tr th:only-of-type {\n",
       "        vertical-align: middle;\n",
       "    }\n",
       "\n",
       "    .dataframe tbody tr th {\n",
       "        vertical-align: top;\n",
       "    }\n",
       "\n",
       "    .dataframe thead th {\n",
       "        text-align: right;\n",
       "    }\n",
       "</style>\n",
       "<table border=\"1\" class=\"dataframe\">\n",
       "  <thead>\n",
       "    <tr style=\"text-align: right;\">\n",
       "      <th></th>\n",
       "      <th>cohort</th>\n",
       "      <th>cohort_yr0_TF</th>\n",
       "      <th>no_donors</th>\n",
       "      <th>amount_yr0</th>\n",
       "      <th>amount_yr1</th>\n",
       "      <th>amount_yr2</th>\n",
       "      <th>amount_yr3</th>\n",
       "      <th>amount_yr4</th>\n",
       "      <th>count_yr0</th>\n",
       "      <th>count_yr1</th>\n",
       "      <th>...</th>\n",
       "      <th>upgraded_amount_yr2</th>\n",
       "      <th>upgraded_amount_yr3</th>\n",
       "      <th>upgraded_amount_yr4</th>\n",
       "      <th>downgraded_amount_yr0</th>\n",
       "      <th>downgraded_amount_yr1</th>\n",
       "      <th>downgraded_amount_yr2</th>\n",
       "      <th>downgraded_amount_yr3</th>\n",
       "      <th>downgraded_amount_yr4</th>\n",
       "      <th>amount_total</th>\n",
       "      <th>count_total</th>\n",
       "    </tr>\n",
       "  </thead>\n",
       "  <tbody>\n",
       "    <tr>\n",
       "      <td>1</td>\n",
       "      <td>2013</td>\n",
       "      <td>T</td>\n",
       "      <td>320069</td>\n",
       "      <td>30411763.60</td>\n",
       "      <td>15267703.98</td>\n",
       "      <td>12587307.39</td>\n",
       "      <td>11398269.65</td>\n",
       "      <td>11155755.22</td>\n",
       "      <td>573067</td>\n",
       "      <td>283622</td>\n",
       "      <td>...</td>\n",
       "      <td>3355505.73</td>\n",
       "      <td>2803829.96</td>\n",
       "      <td>3012995.58</td>\n",
       "      <td>0.0</td>\n",
       "      <td>4491997.15</td>\n",
       "      <td>3786826.85</td>\n",
       "      <td>2813452.88</td>\n",
       "      <td>2623391.85</td>\n",
       "      <td>80820799.84</td>\n",
       "      <td>1352157</td>\n",
       "    </tr>\n",
       "    <tr>\n",
       "      <td>2</td>\n",
       "      <td>2014</td>\n",
       "      <td>T</td>\n",
       "      <td>320673</td>\n",
       "      <td>26174282.52</td>\n",
       "      <td>7745897.26</td>\n",
       "      <td>6437708.77</td>\n",
       "      <td>5818855.02</td>\n",
       "      <td>1874641.80</td>\n",
       "      <td>461347</td>\n",
       "      <td>131028</td>\n",
       "      <td>...</td>\n",
       "      <td>2040239.80</td>\n",
       "      <td>1569322.23</td>\n",
       "      <td>294075.67</td>\n",
       "      <td>0.0</td>\n",
       "      <td>2633662.15</td>\n",
       "      <td>1618257.48</td>\n",
       "      <td>1510965.57</td>\n",
       "      <td>2001740.67</td>\n",
       "      <td>46176743.57</td>\n",
       "      <td>768060</td>\n",
       "    </tr>\n",
       "    <tr>\n",
       "      <td>3</td>\n",
       "      <td>2015</td>\n",
       "      <td>T</td>\n",
       "      <td>355137</td>\n",
       "      <td>30146878.32</td>\n",
       "      <td>8280549.87</td>\n",
       "      <td>7444145.63</td>\n",
       "      <td>2329381.58</td>\n",
       "      <td>0.00</td>\n",
       "      <td>468181</td>\n",
       "      <td>112446</td>\n",
       "      <td>...</td>\n",
       "      <td>2334629.05</td>\n",
       "      <td>350603.84</td>\n",
       "      <td>0.00</td>\n",
       "      <td>0.0</td>\n",
       "      <td>2560692.28</td>\n",
       "      <td>1665471.64</td>\n",
       "      <td>2580070.49</td>\n",
       "      <td>0.00</td>\n",
       "      <td>45871573.82</td>\n",
       "      <td>678938</td>\n",
       "    </tr>\n",
       "    <tr>\n",
       "      <td>4</td>\n",
       "      <td>2016</td>\n",
       "      <td>T</td>\n",
       "      <td>445598</td>\n",
       "      <td>36530214.52</td>\n",
       "      <td>10475760.27</td>\n",
       "      <td>2885540.02</td>\n",
       "      <td>0.00</td>\n",
       "      <td>0.00</td>\n",
       "      <td>602717</td>\n",
       "      <td>177433</td>\n",
       "      <td>...</td>\n",
       "      <td>491086.63</td>\n",
       "      <td>0.00</td>\n",
       "      <td>0.00</td>\n",
       "      <td>0.0</td>\n",
       "      <td>3301217.01</td>\n",
       "      <td>3056365.27</td>\n",
       "      <td>0.00</td>\n",
       "      <td>0.00</td>\n",
       "      <td>47005974.79</td>\n",
       "      <td>780150</td>\n",
       "    </tr>\n",
       "    <tr>\n",
       "      <td>5</td>\n",
       "      <td>2017</td>\n",
       "      <td>T</td>\n",
       "      <td>434991</td>\n",
       "      <td>37973770.48</td>\n",
       "      <td>4549913.20</td>\n",
       "      <td>0.00</td>\n",
       "      <td>0.00</td>\n",
       "      <td>0.00</td>\n",
       "      <td>668558</td>\n",
       "      <td>71604</td>\n",
       "      <td>...</td>\n",
       "      <td>0.00</td>\n",
       "      <td>0.00</td>\n",
       "      <td>0.00</td>\n",
       "      <td>0.0</td>\n",
       "      <td>3282574.70</td>\n",
       "      <td>0.00</td>\n",
       "      <td>0.00</td>\n",
       "      <td>0.00</td>\n",
       "      <td>37973770.48</td>\n",
       "      <td>668558</td>\n",
       "    </tr>\n",
       "    <tr>\n",
       "      <td>6</td>\n",
       "      <td>2018</td>\n",
       "      <td>T</td>\n",
       "      <td>147945</td>\n",
       "      <td>11275859.66</td>\n",
       "      <td>0.00</td>\n",
       "      <td>0.00</td>\n",
       "      <td>0.00</td>\n",
       "      <td>0.00</td>\n",
       "      <td>208824</td>\n",
       "      <td>0</td>\n",
       "      <td>...</td>\n",
       "      <td>0.00</td>\n",
       "      <td>0.00</td>\n",
       "      <td>0.00</td>\n",
       "      <td>0.0</td>\n",
       "      <td>0.00</td>\n",
       "      <td>0.00</td>\n",
       "      <td>0.00</td>\n",
       "      <td>0.00</td>\n",
       "      <td>0.00</td>\n",
       "      <td>0</td>\n",
       "    </tr>\n",
       "  </tbody>\n",
       "</table>\n",
       "<p>6 rows × 86 columns</p>\n",
       "</div>"
      ],
      "text/plain": [
       "   cohort cohort_yr0_TF  no_donors   amount_yr0   amount_yr1   amount_yr2  \\\n",
       "1    2013             T     320069  30411763.60  15267703.98  12587307.39   \n",
       "2    2014             T     320673  26174282.52   7745897.26   6437708.77   \n",
       "3    2015             T     355137  30146878.32   8280549.87   7444145.63   \n",
       "4    2016             T     445598  36530214.52  10475760.27   2885540.02   \n",
       "5    2017             T     434991  37973770.48   4549913.20         0.00   \n",
       "6    2018             T     147945  11275859.66         0.00         0.00   \n",
       "\n",
       "    amount_yr3   amount_yr4  count_yr0  count_yr1  ...  upgraded_amount_yr2  \\\n",
       "1  11398269.65  11155755.22     573067     283622  ...           3355505.73   \n",
       "2   5818855.02   1874641.80     461347     131028  ...           2040239.80   \n",
       "3   2329381.58         0.00     468181     112446  ...           2334629.05   \n",
       "4         0.00         0.00     602717     177433  ...            491086.63   \n",
       "5         0.00         0.00     668558      71604  ...                 0.00   \n",
       "6         0.00         0.00     208824          0  ...                 0.00   \n",
       "\n",
       "   upgraded_amount_yr3  upgraded_amount_yr4  downgraded_amount_yr0  \\\n",
       "1           2803829.96           3012995.58                    0.0   \n",
       "2           1569322.23            294075.67                    0.0   \n",
       "3            350603.84                 0.00                    0.0   \n",
       "4                 0.00                 0.00                    0.0   \n",
       "5                 0.00                 0.00                    0.0   \n",
       "6                 0.00                 0.00                    0.0   \n",
       "\n",
       "   downgraded_amount_yr1  downgraded_amount_yr2  downgraded_amount_yr3  \\\n",
       "1             4491997.15             3786826.85             2813452.88   \n",
       "2             2633662.15             1618257.48             1510965.57   \n",
       "3             2560692.28             1665471.64             2580070.49   \n",
       "4             3301217.01             3056365.27                   0.00   \n",
       "5             3282574.70                   0.00                   0.00   \n",
       "6                   0.00                   0.00                   0.00   \n",
       "\n",
       "   downgraded_amount_yr4  amount_total  count_total  \n",
       "1             2623391.85   80820799.84      1352157  \n",
       "2             2001740.67   46176743.57       768060  \n",
       "3                   0.00   45871573.82       678938  \n",
       "4                   0.00   47005974.79       780150  \n",
       "5                   0.00   37973770.48       668558  \n",
       "6                   0.00          0.00            0  \n",
       "\n",
       "[6 rows x 86 columns]"
      ]
     },
     "execution_count": 441,
     "metadata": {},
     "output_type": "execute_result"
    }
   ],
   "source": [
    "df5_y0"
   ]
  },
  {
   "cell_type": "markdown",
   "metadata": {},
   "source": [
    "### melt columns for merge"
   ]
  },
  {
   "cell_type": "code",
   "execution_count": 451,
   "metadata": {},
   "outputs": [],
   "source": [
    "#yr0\n",
    "df6_y0=df5_y0[['cohort', 'cohort_yr0_TF', 'no_donors', 'amount_yr0']].copy()\n",
    "df6_y0.rename(columns = {'cohort_yr0_TF':'0'}, inplace = True)\n",
    "m1=pd.melt(df6_y0, id_vars =['cohort','no_donors','amount_yr0'], value_vars =['0'],var_name ='gift_year', value_name ='cohort_gift_pattern') \n",
    "m1.rename(columns = {'amount_yr0':'0'}, inplace = True)\n",
    "m2=pd.melt(m1, id_vars =['cohort','no_donors','gift_year', 'cohort_gift_pattern'], value_vars =['0'],var_name ='gift_year1', value_name ='amount') \n",
    "m2.rename(columns = {'no_donors':'0'}, inplace = True)\n",
    "m3=pd.melt(m2, id_vars =['cohort','gift_year', 'cohort_gift_pattern', 'gift_year1', 'amount'], value_vars =['0'],var_name ='gift_year2', value_name ='no_donors') \n",
    "yr0=m3.drop(['gift_year1', 'gift_year2'], axis=1)"
   ]
  },
  {
   "cell_type": "code",
   "execution_count": 450,
   "metadata": {},
   "outputs": [
    {
     "data": {
      "text/html": [
       "<div>\n",
       "<style scoped>\n",
       "    .dataframe tbody tr th:only-of-type {\n",
       "        vertical-align: middle;\n",
       "    }\n",
       "\n",
       "    .dataframe tbody tr th {\n",
       "        vertical-align: top;\n",
       "    }\n",
       "\n",
       "    .dataframe thead th {\n",
       "        text-align: right;\n",
       "    }\n",
       "</style>\n",
       "<table border=\"1\" class=\"dataframe\">\n",
       "  <thead>\n",
       "    <tr style=\"text-align: right;\">\n",
       "      <th></th>\n",
       "      <th>cohort</th>\n",
       "      <th>gift_year</th>\n",
       "      <th>cohort_gift_pattern</th>\n",
       "      <th>amount</th>\n",
       "      <th>no_donors</th>\n",
       "    </tr>\n",
       "  </thead>\n",
       "  <tbody>\n",
       "    <tr>\n",
       "      <td>0</td>\n",
       "      <td>2013</td>\n",
       "      <td>1</td>\n",
       "      <td>TF</td>\n",
       "      <td>-0.00</td>\n",
       "      <td>-257939</td>\n",
       "    </tr>\n",
       "    <tr>\n",
       "      <td>1</td>\n",
       "      <td>2013</td>\n",
       "      <td>1</td>\n",
       "      <td>TT</td>\n",
       "      <td>15267703.98</td>\n",
       "      <td>62130</td>\n",
       "    </tr>\n",
       "    <tr>\n",
       "      <td>2</td>\n",
       "      <td>2014</td>\n",
       "      <td>1</td>\n",
       "      <td>TF</td>\n",
       "      <td>-0.00</td>\n",
       "      <td>-272006</td>\n",
       "    </tr>\n",
       "    <tr>\n",
       "      <td>3</td>\n",
       "      <td>2014</td>\n",
       "      <td>1</td>\n",
       "      <td>TT</td>\n",
       "      <td>7745897.26</td>\n",
       "      <td>48667</td>\n",
       "    </tr>\n",
       "    <tr>\n",
       "      <td>4</td>\n",
       "      <td>2015</td>\n",
       "      <td>1</td>\n",
       "      <td>TF</td>\n",
       "      <td>-0.00</td>\n",
       "      <td>-309059</td>\n",
       "    </tr>\n",
       "    <tr>\n",
       "      <td>5</td>\n",
       "      <td>2015</td>\n",
       "      <td>1</td>\n",
       "      <td>TT</td>\n",
       "      <td>8280549.87</td>\n",
       "      <td>46078</td>\n",
       "    </tr>\n",
       "    <tr>\n",
       "      <td>6</td>\n",
       "      <td>2016</td>\n",
       "      <td>1</td>\n",
       "      <td>TF</td>\n",
       "      <td>-0.00</td>\n",
       "      <td>-389060</td>\n",
       "    </tr>\n",
       "    <tr>\n",
       "      <td>7</td>\n",
       "      <td>2016</td>\n",
       "      <td>1</td>\n",
       "      <td>TT</td>\n",
       "      <td>10475760.27</td>\n",
       "      <td>56538</td>\n",
       "    </tr>\n",
       "    <tr>\n",
       "      <td>8</td>\n",
       "      <td>2017</td>\n",
       "      <td>1</td>\n",
       "      <td>TF</td>\n",
       "      <td>-0.00</td>\n",
       "      <td>-405001</td>\n",
       "    </tr>\n",
       "    <tr>\n",
       "      <td>9</td>\n",
       "      <td>2017</td>\n",
       "      <td>1</td>\n",
       "      <td>TT</td>\n",
       "      <td>4549913.20</td>\n",
       "      <td>29990</td>\n",
       "    </tr>\n",
       "  </tbody>\n",
       "</table>\n",
       "</div>"
      ],
      "text/plain": [
       "   cohort gift_year cohort_gift_pattern       amount  no_donors\n",
       "0    2013         1                  TF        -0.00    -257939\n",
       "1    2013         1                  TT  15267703.98      62130\n",
       "2    2014         1                  TF        -0.00    -272006\n",
       "3    2014         1                  TT   7745897.26      48667\n",
       "4    2015         1                  TF        -0.00    -309059\n",
       "5    2015         1                  TT   8280549.87      46078\n",
       "6    2016         1                  TF        -0.00    -389060\n",
       "7    2016         1                  TT  10475760.27      56538\n",
       "8    2017         1                  TF        -0.00    -405001\n",
       "9    2017         1                  TT   4549913.20      29990"
      ]
     },
     "execution_count": 450,
     "metadata": {},
     "output_type": "execute_result"
    }
   ],
   "source": [
    "yr1"
   ]
  },
  {
   "cell_type": "code",
   "execution_count": 452,
   "metadata": {},
   "outputs": [],
   "source": [
    "#yr1\n",
    "df6_y1=df5_y1[['cohort', 'cohort_yr1_TF', 'no_donors', 'amount_yr1']].copy()\n",
    "df6_y1.rename(columns = {'cohort_yr1_TF':'1'}, inplace = True)\n",
    "m1=pd.melt(df6_y1, id_vars =['cohort','no_donors','amount_yr1'], value_vars =['1'],var_name ='gift_year', value_name ='cohort_gift_pattern') \n",
    "m1.rename(columns = {'amount_yr1':'1'}, inplace = True)\n",
    "m2=pd.melt(m1, id_vars =['cohort','no_donors','gift_year', 'cohort_gift_pattern'], value_vars =['1'],var_name ='gift_year1', value_name ='amount') \n",
    "m2.rename(columns = {'no_donors':'1'}, inplace = True)\n",
    "m3=pd.melt(m2, id_vars =['cohort','gift_year', 'cohort_gift_pattern', 'gift_year1', 'amount'], value_vars =['1'],var_name ='gift_year2', value_name ='no_donors') \n",
    "yr1=m3.drop(['gift_year1', 'gift_year2'], axis=1)"
   ]
  },
  {
   "cell_type": "code",
   "execution_count": 453,
   "metadata": {},
   "outputs": [],
   "source": [
    "#yr2\n",
    "df6_y2=df5_y2[['cohort', 'cohort_yr2_TF', 'no_donors', 'amount_yr2']].copy()\n",
    "df6_y2.rename(columns = {'cohort_yr2_TF':'2'}, inplace = True)\n",
    "m1=pd.melt(df6_y2, id_vars =['cohort','no_donors','amount_yr2'], value_vars =['2'],var_name ='gift_year', value_name ='cohort_gift_pattern') \n",
    "m1.rename(columns = {'amount_yr2':'2'}, inplace = True)\n",
    "m2=pd.melt(m1, id_vars =['cohort','no_donors','gift_year', 'cohort_gift_pattern'], value_vars =['2'],var_name ='gift_year1', value_name ='amount') \n",
    "m2.rename(columns = {'no_donors':'2'}, inplace = True)\n",
    "m3=pd.melt(m2, id_vars =['cohort','gift_year', 'cohort_gift_pattern', 'gift_year1', 'amount'], value_vars =['2'],var_name ='gift_year2', value_name ='no_donors') \n",
    "yr2=m3.drop(['gift_year1', 'gift_year2'], axis=1)"
   ]
  },
  {
   "cell_type": "code",
   "execution_count": 454,
   "metadata": {},
   "outputs": [],
   "source": [
    "#yr3\n",
    "df6_y3=df5_y3[['cohort', 'cohort_yr3_TF', 'no_donors', 'amount_yr3']].copy()\n",
    "df6_y3.rename(columns = {'cohort_yr3_TF':'3'}, inplace = True)\n",
    "m1=pd.melt(df6_y3, id_vars =['cohort','no_donors','amount_yr3'], value_vars =['3'],var_name ='gift_year', value_name ='cohort_gift_pattern') \n",
    "m1.rename(columns = {'amount_yr3':'3'}, inplace = True)\n",
    "m2=pd.melt(m1, id_vars =['cohort','no_donors','gift_year', 'cohort_gift_pattern'], value_vars =['3'],var_name ='gift_year1', value_name ='amount') \n",
    "m2.rename(columns = {'no_donors':'3'}, inplace = True)\n",
    "m3=pd.melt(m2, id_vars =['cohort','gift_year', 'cohort_gift_pattern', 'gift_year1', 'amount'], value_vars =['3'],var_name ='gift_year2', value_name ='no_donors') \n",
    "yr3=m3.drop(['gift_year1', 'gift_year2'], axis=1)"
   ]
  },
  {
   "cell_type": "code",
   "execution_count": 455,
   "metadata": {},
   "outputs": [],
   "source": [
    "#yr4\n",
    "df6_y4=df5_y4[['cohort', 'cohort_yr4_TF', 'no_donors', 'amount_yr4']].copy()\n",
    "df6_y4.rename(columns = {'cohort_yr4_TF':'4'}, inplace = True)\n",
    "m1=pd.melt(df6_y4, id_vars =['cohort','no_donors','amount_yr4'], value_vars =['4'],var_name ='gift_year', value_name ='cohort_gift_pattern') \n",
    "m1.rename(columns = {'amount_yr4':'4'}, inplace = True)\n",
    "m2=pd.melt(m1, id_vars =['cohort','no_donors','gift_year', 'cohort_gift_pattern'], value_vars =['4'],var_name ='gift_year1', value_name ='amount') \n",
    "m2.rename(columns = {'no_donors':'4'}, inplace = True)\n",
    "m3=pd.melt(m2, id_vars =['cohort','gift_year', 'cohort_gift_pattern', 'gift_year1', 'amount'], value_vars =['4'],var_name ='gift_year2', value_name ='no_donors') \n",
    "yr4=m3.drop(['gift_year1', 'gift_year2'], axis=1)"
   ]
  },
  {
   "cell_type": "code",
   "execution_count": 460,
   "metadata": {},
   "outputs": [],
   "source": [
    "years=pd.concat([yr0, yr1, yr2, yr3, yr4]) "
   ]
  },
  {
   "cell_type": "code",
   "execution_count": 461,
   "metadata": {},
   "outputs": [
    {
     "data": {
      "text/html": [
       "<div>\n",
       "<style scoped>\n",
       "    .dataframe tbody tr th:only-of-type {\n",
       "        vertical-align: middle;\n",
       "    }\n",
       "\n",
       "    .dataframe tbody tr th {\n",
       "        vertical-align: top;\n",
       "    }\n",
       "\n",
       "    .dataframe thead th {\n",
       "        text-align: right;\n",
       "    }\n",
       "</style>\n",
       "<table border=\"1\" class=\"dataframe\">\n",
       "  <thead>\n",
       "    <tr style=\"text-align: right;\">\n",
       "      <th></th>\n",
       "      <th>cohort</th>\n",
       "      <th>gift_year</th>\n",
       "      <th>cohort_gift_pattern</th>\n",
       "      <th>amount</th>\n",
       "      <th>no_donors</th>\n",
       "    </tr>\n",
       "  </thead>\n",
       "  <tbody>\n",
       "    <tr>\n",
       "      <td>0</td>\n",
       "      <td>2013</td>\n",
       "      <td>0</td>\n",
       "      <td>T</td>\n",
       "      <td>30411763.60</td>\n",
       "      <td>320069</td>\n",
       "    </tr>\n",
       "    <tr>\n",
       "      <td>1</td>\n",
       "      <td>2014</td>\n",
       "      <td>0</td>\n",
       "      <td>T</td>\n",
       "      <td>26174282.52</td>\n",
       "      <td>320673</td>\n",
       "    </tr>\n",
       "    <tr>\n",
       "      <td>2</td>\n",
       "      <td>2015</td>\n",
       "      <td>0</td>\n",
       "      <td>T</td>\n",
       "      <td>30146878.32</td>\n",
       "      <td>355137</td>\n",
       "    </tr>\n",
       "    <tr>\n",
       "      <td>3</td>\n",
       "      <td>2016</td>\n",
       "      <td>0</td>\n",
       "      <td>T</td>\n",
       "      <td>36530214.52</td>\n",
       "      <td>445598</td>\n",
       "    </tr>\n",
       "    <tr>\n",
       "      <td>4</td>\n",
       "      <td>2017</td>\n",
       "      <td>0</td>\n",
       "      <td>T</td>\n",
       "      <td>37973770.48</td>\n",
       "      <td>434991</td>\n",
       "    </tr>\n",
       "    <tr>\n",
       "      <td>...</td>\n",
       "      <td>...</td>\n",
       "      <td>...</td>\n",
       "      <td>...</td>\n",
       "      <td>...</td>\n",
       "      <td>...</td>\n",
       "    </tr>\n",
       "    <tr>\n",
       "      <td>27</td>\n",
       "      <td>2014</td>\n",
       "      <td>4</td>\n",
       "      <td>TTFTT</td>\n",
       "      <td>131431.80</td>\n",
       "      <td>853</td>\n",
       "    </tr>\n",
       "    <tr>\n",
       "      <td>28</td>\n",
       "      <td>2014</td>\n",
       "      <td>4</td>\n",
       "      <td>TTT</td>\n",
       "      <td>-0.00</td>\n",
       "      <td>-7150</td>\n",
       "    </tr>\n",
       "    <tr>\n",
       "      <td>29</td>\n",
       "      <td>2014</td>\n",
       "      <td>4</td>\n",
       "      <td>TTTFT</td>\n",
       "      <td>66830.01</td>\n",
       "      <td>628</td>\n",
       "    </tr>\n",
       "    <tr>\n",
       "      <td>30</td>\n",
       "      <td>2014</td>\n",
       "      <td>4</td>\n",
       "      <td>TTTT</td>\n",
       "      <td>-0.00</td>\n",
       "      <td>-4741</td>\n",
       "    </tr>\n",
       "    <tr>\n",
       "      <td>31</td>\n",
       "      <td>2014</td>\n",
       "      <td>4</td>\n",
       "      <td>TTTTT</td>\n",
       "      <td>1110499.77</td>\n",
       "      <td>3220</td>\n",
       "    </tr>\n",
       "  </tbody>\n",
       "</table>\n",
       "<p>88 rows × 5 columns</p>\n",
       "</div>"
      ],
      "text/plain": [
       "    cohort gift_year cohort_gift_pattern       amount  no_donors\n",
       "0     2013         0                   T  30411763.60     320069\n",
       "1     2014         0                   T  26174282.52     320673\n",
       "2     2015         0                   T  30146878.32     355137\n",
       "3     2016         0                   T  36530214.52     445598\n",
       "4     2017         0                   T  37973770.48     434991\n",
       "..     ...       ...                 ...          ...        ...\n",
       "27    2014         4               TTFTT    131431.80        853\n",
       "28    2014         4                 TTT        -0.00      -7150\n",
       "29    2014         4               TTTFT     66830.01        628\n",
       "30    2014         4                TTTT        -0.00      -4741\n",
       "31    2014         4               TTTTT   1110499.77       3220\n",
       "\n",
       "[88 rows x 5 columns]"
      ]
     },
     "execution_count": 461,
     "metadata": {},
     "output_type": "execute_result"
    }
   ],
   "source": [
    "years"
   ]
  },
  {
   "cell_type": "code",
   "execution_count": 500,
   "metadata": {},
   "outputs": [],
   "source": [
    "years.to_csv('years.csv')"
   ]
  },
  {
   "cell_type": "code",
   "execution_count": 464,
   "metadata": {},
   "outputs": [],
   "source": [
    "givers=years.query('no_donors > 0')"
   ]
  },
  {
   "cell_type": "code",
   "execution_count": 501,
   "metadata": {},
   "outputs": [],
   "source": [
    "givers.groupby(['gift_year', 'cohort']).sum().reset_index().to_csv('givers.csv')"
   ]
  },
  {
   "cell_type": "code",
   "execution_count": 502,
   "metadata": {},
   "outputs": [
    {
     "data": {
      "text/html": [
       "<div>\n",
       "<style scoped>\n",
       "    .dataframe tbody tr th:only-of-type {\n",
       "        vertical-align: middle;\n",
       "    }\n",
       "\n",
       "    .dataframe tbody tr th {\n",
       "        vertical-align: top;\n",
       "    }\n",
       "\n",
       "    .dataframe thead th {\n",
       "        text-align: right;\n",
       "    }\n",
       "</style>\n",
       "<table border=\"1\" class=\"dataframe\">\n",
       "  <thead>\n",
       "    <tr style=\"text-align: right;\">\n",
       "      <th></th>\n",
       "      <th>gift_year</th>\n",
       "      <th>cohort</th>\n",
       "      <th>amount</th>\n",
       "      <th>no_donors</th>\n",
       "    </tr>\n",
       "  </thead>\n",
       "  <tbody>\n",
       "    <tr>\n",
       "      <td>0</td>\n",
       "      <td>0</td>\n",
       "      <td>2013</td>\n",
       "      <td>30411763.60</td>\n",
       "      <td>320069</td>\n",
       "    </tr>\n",
       "    <tr>\n",
       "      <td>1</td>\n",
       "      <td>0</td>\n",
       "      <td>2014</td>\n",
       "      <td>26174282.52</td>\n",
       "      <td>320673</td>\n",
       "    </tr>\n",
       "    <tr>\n",
       "      <td>2</td>\n",
       "      <td>0</td>\n",
       "      <td>2015</td>\n",
       "      <td>30146878.32</td>\n",
       "      <td>355137</td>\n",
       "    </tr>\n",
       "    <tr>\n",
       "      <td>3</td>\n",
       "      <td>0</td>\n",
       "      <td>2016</td>\n",
       "      <td>36530214.52</td>\n",
       "      <td>445598</td>\n",
       "    </tr>\n",
       "    <tr>\n",
       "      <td>4</td>\n",
       "      <td>0</td>\n",
       "      <td>2017</td>\n",
       "      <td>37973770.48</td>\n",
       "      <td>434991</td>\n",
       "    </tr>\n",
       "    <tr>\n",
       "      <td>5</td>\n",
       "      <td>0</td>\n",
       "      <td>2018</td>\n",
       "      <td>11275859.66</td>\n",
       "      <td>147945</td>\n",
       "    </tr>\n",
       "    <tr>\n",
       "      <td>6</td>\n",
       "      <td>1</td>\n",
       "      <td>2013</td>\n",
       "      <td>15267703.98</td>\n",
       "      <td>62130</td>\n",
       "    </tr>\n",
       "    <tr>\n",
       "      <td>7</td>\n",
       "      <td>1</td>\n",
       "      <td>2014</td>\n",
       "      <td>7745897.26</td>\n",
       "      <td>48667</td>\n",
       "    </tr>\n",
       "    <tr>\n",
       "      <td>8</td>\n",
       "      <td>1</td>\n",
       "      <td>2015</td>\n",
       "      <td>8280549.87</td>\n",
       "      <td>46078</td>\n",
       "    </tr>\n",
       "    <tr>\n",
       "      <td>9</td>\n",
       "      <td>1</td>\n",
       "      <td>2016</td>\n",
       "      <td>10475760.27</td>\n",
       "      <td>56538</td>\n",
       "    </tr>\n",
       "    <tr>\n",
       "      <td>10</td>\n",
       "      <td>1</td>\n",
       "      <td>2017</td>\n",
       "      <td>4549913.20</td>\n",
       "      <td>29990</td>\n",
       "    </tr>\n",
       "    <tr>\n",
       "      <td>11</td>\n",
       "      <td>2</td>\n",
       "      <td>2013</td>\n",
       "      <td>12587307.39</td>\n",
       "      <td>42233</td>\n",
       "    </tr>\n",
       "    <tr>\n",
       "      <td>12</td>\n",
       "      <td>2</td>\n",
       "      <td>2014</td>\n",
       "      <td>6437708.77</td>\n",
       "      <td>31525</td>\n",
       "    </tr>\n",
       "    <tr>\n",
       "      <td>13</td>\n",
       "      <td>2</td>\n",
       "      <td>2015</td>\n",
       "      <td>7444145.63</td>\n",
       "      <td>31843</td>\n",
       "    </tr>\n",
       "    <tr>\n",
       "      <td>14</td>\n",
       "      <td>2</td>\n",
       "      <td>2016</td>\n",
       "      <td>2885540.02</td>\n",
       "      <td>18673</td>\n",
       "    </tr>\n",
       "    <tr>\n",
       "      <td>15</td>\n",
       "      <td>3</td>\n",
       "      <td>2013</td>\n",
       "      <td>11398269.65</td>\n",
       "      <td>32635</td>\n",
       "    </tr>\n",
       "    <tr>\n",
       "      <td>16</td>\n",
       "      <td>3</td>\n",
       "      <td>2014</td>\n",
       "      <td>5818855.02</td>\n",
       "      <td>24290</td>\n",
       "    </tr>\n",
       "    <tr>\n",
       "      <td>17</td>\n",
       "      <td>3</td>\n",
       "      <td>2015</td>\n",
       "      <td>2329381.58</td>\n",
       "      <td>11984</td>\n",
       "    </tr>\n",
       "    <tr>\n",
       "      <td>18</td>\n",
       "      <td>4</td>\n",
       "      <td>2013</td>\n",
       "      <td>11155755.22</td>\n",
       "      <td>26929</td>\n",
       "    </tr>\n",
       "    <tr>\n",
       "      <td>19</td>\n",
       "      <td>4</td>\n",
       "      <td>2014</td>\n",
       "      <td>1874641.80</td>\n",
       "      <td>9732</td>\n",
       "    </tr>\n",
       "  </tbody>\n",
       "</table>\n",
       "</div>"
      ],
      "text/plain": [
       "   gift_year cohort       amount  no_donors\n",
       "0          0   2013  30411763.60     320069\n",
       "1          0   2014  26174282.52     320673\n",
       "2          0   2015  30146878.32     355137\n",
       "3          0   2016  36530214.52     445598\n",
       "4          0   2017  37973770.48     434991\n",
       "5          0   2018  11275859.66     147945\n",
       "6          1   2013  15267703.98      62130\n",
       "7          1   2014   7745897.26      48667\n",
       "8          1   2015   8280549.87      46078\n",
       "9          1   2016  10475760.27      56538\n",
       "10         1   2017   4549913.20      29990\n",
       "11         2   2013  12587307.39      42233\n",
       "12         2   2014   6437708.77      31525\n",
       "13         2   2015   7444145.63      31843\n",
       "14         2   2016   2885540.02      18673\n",
       "15         3   2013  11398269.65      32635\n",
       "16         3   2014   5818855.02      24290\n",
       "17         3   2015   2329381.58      11984\n",
       "18         4   2013  11155755.22      26929\n",
       "19         4   2014   1874641.80       9732"
      ]
     },
     "execution_count": 502,
     "metadata": {},
     "output_type": "execute_result"
    }
   ],
   "source": [
    "givers.groupby(['gift_year', 'cohort']).sum().reset_index()"
   ]
  },
  {
   "cell_type": "code",
   "execution_count": 488,
   "metadata": {},
   "outputs": [],
   "source": [
    "givers.loc[:,\"gift_year\"] = givers[\"gift_year\"].astype(str)\n",
    "givers.loc[:,\"cohort\"] = givers[\"cohort\"].astype(str)"
   ]
  },
  {
   "cell_type": "code",
   "execution_count": 80,
   "metadata": {},
   "outputs": [
    {
     "ename": "NameError",
     "evalue": "name 'givers' is not defined",
     "output_type": "error",
     "traceback": [
      "\u001b[1;31m---------------------------------------------------------------------------\u001b[0m",
      "\u001b[1;31mNameError\u001b[0m                                 Traceback (most recent call last)",
      "\u001b[1;32m<ipython-input-80-5406c684aee6>\u001b[0m in \u001b[0;36m<module>\u001b[1;34m\u001b[0m\n\u001b[1;32m----> 1\u001b[1;33m fig = px.bar(givers.groupby(['gift_year', 'cohort']).sum()['no_donors'].reset_index(), x=\"gift_year\", y='no_donors', color='cohort', barmode='group',  \n\u001b[0m\u001b[0;32m      2\u001b[0m              title=\"Number of Donors per Year by Cohort\")\n\u001b[0;32m      3\u001b[0m \u001b[1;33m\u001b[0m\u001b[0m\n\u001b[0;32m      4\u001b[0m \u001b[1;31m#fig.update_xaxes(type='category')\u001b[0m\u001b[1;33m\u001b[0m\u001b[1;33m\u001b[0m\u001b[1;33m\u001b[0m\u001b[0m\n\u001b[0;32m      5\u001b[0m \u001b[0mfig\u001b[0m\u001b[1;33m.\u001b[0m\u001b[0mshow\u001b[0m\u001b[1;33m(\u001b[0m\u001b[1;33m)\u001b[0m\u001b[1;33m\u001b[0m\u001b[1;33m\u001b[0m\u001b[0m\n",
      "\u001b[1;31mNameError\u001b[0m: name 'givers' is not defined"
     ]
    }
   ],
   "source": [
    "fig = px.bar(givers.groupby(['gift_year', 'cohort']).sum()['no_donors'].reset_index(), x=\"gift_year\", y='no_donors', color='cohort', barmode='group',  \n",
    "             title=\"Number of Donors per Year by Cohort\")\n",
    "\n",
    "#fig.update_xaxes(type='category')\n",
    "fig.show()\n"
   ]
  },
  {
   "cell_type": "code",
   "execution_count": 498,
   "metadata": {},
   "outputs": [
    {
     "data": {
      "application/vnd.plotly.v1+json": {
       "config": {
        "plotlyServerURL": "https://plot.ly"
       },
       "data": [
        {
         "alignmentgroup": "True",
         "hovertemplate": "cohort=2013<br>gift_year=%{x}<br>amount=%{y}<extra></extra>",
         "legendgroup": "2013",
         "marker": {
          "color": "#636efa"
         },
         "name": "2013",
         "offsetgroup": "2013",
         "orientation": "v",
         "showlegend": true,
         "textposition": "auto",
         "type": "bar",
         "x": [
          "0",
          "1",
          "2",
          "3",
          "4"
         ],
         "xaxis": "x",
         "y": [
          30411763.6,
          15267703.98,
          12587307.39,
          11398269.65,
          11155755.22
         ],
         "yaxis": "y"
        },
        {
         "alignmentgroup": "True",
         "hovertemplate": "cohort=2014<br>gift_year=%{x}<br>amount=%{y}<extra></extra>",
         "legendgroup": "2014",
         "marker": {
          "color": "#EF553B"
         },
         "name": "2014",
         "offsetgroup": "2014",
         "orientation": "v",
         "showlegend": true,
         "textposition": "auto",
         "type": "bar",
         "x": [
          "0",
          "1",
          "2",
          "3",
          "4"
         ],
         "xaxis": "x",
         "y": [
          26174282.52,
          7745897.26,
          6437708.77,
          5818855.02,
          1874641.8
         ],
         "yaxis": "y"
        },
        {
         "alignmentgroup": "True",
         "hovertemplate": "cohort=2015<br>gift_year=%{x}<br>amount=%{y}<extra></extra>",
         "legendgroup": "2015",
         "marker": {
          "color": "#00cc96"
         },
         "name": "2015",
         "offsetgroup": "2015",
         "orientation": "v",
         "showlegend": true,
         "textposition": "auto",
         "type": "bar",
         "x": [
          "0",
          "1",
          "2",
          "3"
         ],
         "xaxis": "x",
         "y": [
          30146878.32,
          8280549.87,
          7444145.63,
          2329381.58
         ],
         "yaxis": "y"
        },
        {
         "alignmentgroup": "True",
         "hovertemplate": "cohort=2016<br>gift_year=%{x}<br>amount=%{y}<extra></extra>",
         "legendgroup": "2016",
         "marker": {
          "color": "#ab63fa"
         },
         "name": "2016",
         "offsetgroup": "2016",
         "orientation": "v",
         "showlegend": true,
         "textposition": "auto",
         "type": "bar",
         "x": [
          "0",
          "1",
          "2"
         ],
         "xaxis": "x",
         "y": [
          36530214.52,
          10475760.27,
          2885540.02
         ],
         "yaxis": "y"
        },
        {
         "alignmentgroup": "True",
         "hovertemplate": "cohort=2017<br>gift_year=%{x}<br>amount=%{y}<extra></extra>",
         "legendgroup": "2017",
         "marker": {
          "color": "#FFA15A"
         },
         "name": "2017",
         "offsetgroup": "2017",
         "orientation": "v",
         "showlegend": true,
         "textposition": "auto",
         "type": "bar",
         "x": [
          "0",
          "1"
         ],
         "xaxis": "x",
         "y": [
          37973770.48,
          4549913.2
         ],
         "yaxis": "y"
        },
        {
         "alignmentgroup": "True",
         "hovertemplate": "cohort=2018<br>gift_year=%{x}<br>amount=%{y}<extra></extra>",
         "legendgroup": "2018",
         "marker": {
          "color": "#19d3f3"
         },
         "name": "2018",
         "offsetgroup": "2018",
         "orientation": "v",
         "showlegend": true,
         "textposition": "auto",
         "type": "bar",
         "x": [
          "0"
         ],
         "xaxis": "x",
         "y": [
          11275859.66
         ],
         "yaxis": "y"
        }
       ],
       "layout": {
        "barmode": "group",
        "legend": {
         "title": {
          "text": "cohort"
         },
         "tracegroupgap": 0
        },
        "template": {
         "data": {
          "bar": [
           {
            "error_x": {
             "color": "#2a3f5f"
            },
            "error_y": {
             "color": "#2a3f5f"
            },
            "marker": {
             "line": {
              "color": "#E5ECF6",
              "width": 0.5
             }
            },
            "type": "bar"
           }
          ],
          "barpolar": [
           {
            "marker": {
             "line": {
              "color": "#E5ECF6",
              "width": 0.5
             }
            },
            "type": "barpolar"
           }
          ],
          "carpet": [
           {
            "aaxis": {
             "endlinecolor": "#2a3f5f",
             "gridcolor": "white",
             "linecolor": "white",
             "minorgridcolor": "white",
             "startlinecolor": "#2a3f5f"
            },
            "baxis": {
             "endlinecolor": "#2a3f5f",
             "gridcolor": "white",
             "linecolor": "white",
             "minorgridcolor": "white",
             "startlinecolor": "#2a3f5f"
            },
            "type": "carpet"
           }
          ],
          "choropleth": [
           {
            "colorbar": {
             "outlinewidth": 0,
             "ticks": ""
            },
            "type": "choropleth"
           }
          ],
          "contour": [
           {
            "colorbar": {
             "outlinewidth": 0,
             "ticks": ""
            },
            "colorscale": [
             [
              0,
              "#0d0887"
             ],
             [
              0.1111111111111111,
              "#46039f"
             ],
             [
              0.2222222222222222,
              "#7201a8"
             ],
             [
              0.3333333333333333,
              "#9c179e"
             ],
             [
              0.4444444444444444,
              "#bd3786"
             ],
             [
              0.5555555555555556,
              "#d8576b"
             ],
             [
              0.6666666666666666,
              "#ed7953"
             ],
             [
              0.7777777777777778,
              "#fb9f3a"
             ],
             [
              0.8888888888888888,
              "#fdca26"
             ],
             [
              1,
              "#f0f921"
             ]
            ],
            "type": "contour"
           }
          ],
          "contourcarpet": [
           {
            "colorbar": {
             "outlinewidth": 0,
             "ticks": ""
            },
            "type": "contourcarpet"
           }
          ],
          "heatmap": [
           {
            "colorbar": {
             "outlinewidth": 0,
             "ticks": ""
            },
            "colorscale": [
             [
              0,
              "#0d0887"
             ],
             [
              0.1111111111111111,
              "#46039f"
             ],
             [
              0.2222222222222222,
              "#7201a8"
             ],
             [
              0.3333333333333333,
              "#9c179e"
             ],
             [
              0.4444444444444444,
              "#bd3786"
             ],
             [
              0.5555555555555556,
              "#d8576b"
             ],
             [
              0.6666666666666666,
              "#ed7953"
             ],
             [
              0.7777777777777778,
              "#fb9f3a"
             ],
             [
              0.8888888888888888,
              "#fdca26"
             ],
             [
              1,
              "#f0f921"
             ]
            ],
            "type": "heatmap"
           }
          ],
          "heatmapgl": [
           {
            "colorbar": {
             "outlinewidth": 0,
             "ticks": ""
            },
            "colorscale": [
             [
              0,
              "#0d0887"
             ],
             [
              0.1111111111111111,
              "#46039f"
             ],
             [
              0.2222222222222222,
              "#7201a8"
             ],
             [
              0.3333333333333333,
              "#9c179e"
             ],
             [
              0.4444444444444444,
              "#bd3786"
             ],
             [
              0.5555555555555556,
              "#d8576b"
             ],
             [
              0.6666666666666666,
              "#ed7953"
             ],
             [
              0.7777777777777778,
              "#fb9f3a"
             ],
             [
              0.8888888888888888,
              "#fdca26"
             ],
             [
              1,
              "#f0f921"
             ]
            ],
            "type": "heatmapgl"
           }
          ],
          "histogram": [
           {
            "marker": {
             "colorbar": {
              "outlinewidth": 0,
              "ticks": ""
             }
            },
            "type": "histogram"
           }
          ],
          "histogram2d": [
           {
            "colorbar": {
             "outlinewidth": 0,
             "ticks": ""
            },
            "colorscale": [
             [
              0,
              "#0d0887"
             ],
             [
              0.1111111111111111,
              "#46039f"
             ],
             [
              0.2222222222222222,
              "#7201a8"
             ],
             [
              0.3333333333333333,
              "#9c179e"
             ],
             [
              0.4444444444444444,
              "#bd3786"
             ],
             [
              0.5555555555555556,
              "#d8576b"
             ],
             [
              0.6666666666666666,
              "#ed7953"
             ],
             [
              0.7777777777777778,
              "#fb9f3a"
             ],
             [
              0.8888888888888888,
              "#fdca26"
             ],
             [
              1,
              "#f0f921"
             ]
            ],
            "type": "histogram2d"
           }
          ],
          "histogram2dcontour": [
           {
            "colorbar": {
             "outlinewidth": 0,
             "ticks": ""
            },
            "colorscale": [
             [
              0,
              "#0d0887"
             ],
             [
              0.1111111111111111,
              "#46039f"
             ],
             [
              0.2222222222222222,
              "#7201a8"
             ],
             [
              0.3333333333333333,
              "#9c179e"
             ],
             [
              0.4444444444444444,
              "#bd3786"
             ],
             [
              0.5555555555555556,
              "#d8576b"
             ],
             [
              0.6666666666666666,
              "#ed7953"
             ],
             [
              0.7777777777777778,
              "#fb9f3a"
             ],
             [
              0.8888888888888888,
              "#fdca26"
             ],
             [
              1,
              "#f0f921"
             ]
            ],
            "type": "histogram2dcontour"
           }
          ],
          "mesh3d": [
           {
            "colorbar": {
             "outlinewidth": 0,
             "ticks": ""
            },
            "type": "mesh3d"
           }
          ],
          "parcoords": [
           {
            "line": {
             "colorbar": {
              "outlinewidth": 0,
              "ticks": ""
             }
            },
            "type": "parcoords"
           }
          ],
          "pie": [
           {
            "automargin": true,
            "type": "pie"
           }
          ],
          "scatter": [
           {
            "marker": {
             "colorbar": {
              "outlinewidth": 0,
              "ticks": ""
             }
            },
            "type": "scatter"
           }
          ],
          "scatter3d": [
           {
            "line": {
             "colorbar": {
              "outlinewidth": 0,
              "ticks": ""
             }
            },
            "marker": {
             "colorbar": {
              "outlinewidth": 0,
              "ticks": ""
             }
            },
            "type": "scatter3d"
           }
          ],
          "scattercarpet": [
           {
            "marker": {
             "colorbar": {
              "outlinewidth": 0,
              "ticks": ""
             }
            },
            "type": "scattercarpet"
           }
          ],
          "scattergeo": [
           {
            "marker": {
             "colorbar": {
              "outlinewidth": 0,
              "ticks": ""
             }
            },
            "type": "scattergeo"
           }
          ],
          "scattergl": [
           {
            "marker": {
             "colorbar": {
              "outlinewidth": 0,
              "ticks": ""
             }
            },
            "type": "scattergl"
           }
          ],
          "scattermapbox": [
           {
            "marker": {
             "colorbar": {
              "outlinewidth": 0,
              "ticks": ""
             }
            },
            "type": "scattermapbox"
           }
          ],
          "scatterpolar": [
           {
            "marker": {
             "colorbar": {
              "outlinewidth": 0,
              "ticks": ""
             }
            },
            "type": "scatterpolar"
           }
          ],
          "scatterpolargl": [
           {
            "marker": {
             "colorbar": {
              "outlinewidth": 0,
              "ticks": ""
             }
            },
            "type": "scatterpolargl"
           }
          ],
          "scatterternary": [
           {
            "marker": {
             "colorbar": {
              "outlinewidth": 0,
              "ticks": ""
             }
            },
            "type": "scatterternary"
           }
          ],
          "surface": [
           {
            "colorbar": {
             "outlinewidth": 0,
             "ticks": ""
            },
            "colorscale": [
             [
              0,
              "#0d0887"
             ],
             [
              0.1111111111111111,
              "#46039f"
             ],
             [
              0.2222222222222222,
              "#7201a8"
             ],
             [
              0.3333333333333333,
              "#9c179e"
             ],
             [
              0.4444444444444444,
              "#bd3786"
             ],
             [
              0.5555555555555556,
              "#d8576b"
             ],
             [
              0.6666666666666666,
              "#ed7953"
             ],
             [
              0.7777777777777778,
              "#fb9f3a"
             ],
             [
              0.8888888888888888,
              "#fdca26"
             ],
             [
              1,
              "#f0f921"
             ]
            ],
            "type": "surface"
           }
          ],
          "table": [
           {
            "cells": {
             "fill": {
              "color": "#EBF0F8"
             },
             "line": {
              "color": "white"
             }
            },
            "header": {
             "fill": {
              "color": "#C8D4E3"
             },
             "line": {
              "color": "white"
             }
            },
            "type": "table"
           }
          ]
         },
         "layout": {
          "annotationdefaults": {
           "arrowcolor": "#2a3f5f",
           "arrowhead": 0,
           "arrowwidth": 1
          },
          "coloraxis": {
           "colorbar": {
            "outlinewidth": 0,
            "ticks": ""
           }
          },
          "colorscale": {
           "diverging": [
            [
             0,
             "#8e0152"
            ],
            [
             0.1,
             "#c51b7d"
            ],
            [
             0.2,
             "#de77ae"
            ],
            [
             0.3,
             "#f1b6da"
            ],
            [
             0.4,
             "#fde0ef"
            ],
            [
             0.5,
             "#f7f7f7"
            ],
            [
             0.6,
             "#e6f5d0"
            ],
            [
             0.7,
             "#b8e186"
            ],
            [
             0.8,
             "#7fbc41"
            ],
            [
             0.9,
             "#4d9221"
            ],
            [
             1,
             "#276419"
            ]
           ],
           "sequential": [
            [
             0,
             "#0d0887"
            ],
            [
             0.1111111111111111,
             "#46039f"
            ],
            [
             0.2222222222222222,
             "#7201a8"
            ],
            [
             0.3333333333333333,
             "#9c179e"
            ],
            [
             0.4444444444444444,
             "#bd3786"
            ],
            [
             0.5555555555555556,
             "#d8576b"
            ],
            [
             0.6666666666666666,
             "#ed7953"
            ],
            [
             0.7777777777777778,
             "#fb9f3a"
            ],
            [
             0.8888888888888888,
             "#fdca26"
            ],
            [
             1,
             "#f0f921"
            ]
           ],
           "sequentialminus": [
            [
             0,
             "#0d0887"
            ],
            [
             0.1111111111111111,
             "#46039f"
            ],
            [
             0.2222222222222222,
             "#7201a8"
            ],
            [
             0.3333333333333333,
             "#9c179e"
            ],
            [
             0.4444444444444444,
             "#bd3786"
            ],
            [
             0.5555555555555556,
             "#d8576b"
            ],
            [
             0.6666666666666666,
             "#ed7953"
            ],
            [
             0.7777777777777778,
             "#fb9f3a"
            ],
            [
             0.8888888888888888,
             "#fdca26"
            ],
            [
             1,
             "#f0f921"
            ]
           ]
          },
          "colorway": [
           "#636efa",
           "#EF553B",
           "#00cc96",
           "#ab63fa",
           "#FFA15A",
           "#19d3f3",
           "#FF6692",
           "#B6E880",
           "#FF97FF",
           "#FECB52"
          ],
          "font": {
           "color": "#2a3f5f"
          },
          "geo": {
           "bgcolor": "white",
           "lakecolor": "white",
           "landcolor": "#E5ECF6",
           "showlakes": true,
           "showland": true,
           "subunitcolor": "white"
          },
          "hoverlabel": {
           "align": "left"
          },
          "hovermode": "closest",
          "mapbox": {
           "style": "light"
          },
          "paper_bgcolor": "white",
          "plot_bgcolor": "#E5ECF6",
          "polar": {
           "angularaxis": {
            "gridcolor": "white",
            "linecolor": "white",
            "ticks": ""
           },
           "bgcolor": "#E5ECF6",
           "radialaxis": {
            "gridcolor": "white",
            "linecolor": "white",
            "ticks": ""
           }
          },
          "scene": {
           "xaxis": {
            "backgroundcolor": "#E5ECF6",
            "gridcolor": "white",
            "gridwidth": 2,
            "linecolor": "white",
            "showbackground": true,
            "ticks": "",
            "zerolinecolor": "white"
           },
           "yaxis": {
            "backgroundcolor": "#E5ECF6",
            "gridcolor": "white",
            "gridwidth": 2,
            "linecolor": "white",
            "showbackground": true,
            "ticks": "",
            "zerolinecolor": "white"
           },
           "zaxis": {
            "backgroundcolor": "#E5ECF6",
            "gridcolor": "white",
            "gridwidth": 2,
            "linecolor": "white",
            "showbackground": true,
            "ticks": "",
            "zerolinecolor": "white"
           }
          },
          "shapedefaults": {
           "line": {
            "color": "#2a3f5f"
           }
          },
          "ternary": {
           "aaxis": {
            "gridcolor": "white",
            "linecolor": "white",
            "ticks": ""
           },
           "baxis": {
            "gridcolor": "white",
            "linecolor": "white",
            "ticks": ""
           },
           "bgcolor": "#E5ECF6",
           "caxis": {
            "gridcolor": "white",
            "linecolor": "white",
            "ticks": ""
           }
          },
          "title": {
           "x": 0.05
          },
          "xaxis": {
           "automargin": true,
           "gridcolor": "white",
           "linecolor": "white",
           "ticks": "",
           "title": {
            "standoff": 15
           },
           "zerolinecolor": "white",
           "zerolinewidth": 2
          },
          "yaxis": {
           "automargin": true,
           "gridcolor": "white",
           "linecolor": "white",
           "ticks": "",
           "title": {
            "standoff": 15
           },
           "zerolinecolor": "white",
           "zerolinewidth": 2
          }
         }
        },
        "title": {
         "text": "Donation Amount per Year by Cohort"
        },
        "xaxis": {
         "anchor": "y",
         "domain": [
          0,
          1
         ],
         "title": {
          "text": "gift_year"
         }
        },
        "yaxis": {
         "anchor": "x",
         "domain": [
          0,
          1
         ],
         "title": {
          "text": "amount"
         }
        }
       }
      },
      "text/html": [
       "<div>\n",
       "        \n",
       "        \n",
       "            <div id=\"2e4b2684-8e39-49dc-853e-a00478fc88f5\" class=\"plotly-graph-div\" style=\"height:525px; width:100%;\"></div>\n",
       "            <script type=\"text/javascript\">\n",
       "                require([\"plotly\"], function(Plotly) {\n",
       "                    window.PLOTLYENV=window.PLOTLYENV || {};\n",
       "                    \n",
       "                if (document.getElementById(\"2e4b2684-8e39-49dc-853e-a00478fc88f5\")) {\n",
       "                    Plotly.newPlot(\n",
       "                        '2e4b2684-8e39-49dc-853e-a00478fc88f5',\n",
       "                        [{\"alignmentgroup\": \"True\", \"hovertemplate\": \"cohort=2013<br>gift_year=%{x}<br>amount=%{y}<extra></extra>\", \"legendgroup\": \"2013\", \"marker\": {\"color\": \"#636efa\"}, \"name\": \"2013\", \"offsetgroup\": \"2013\", \"orientation\": \"v\", \"showlegend\": true, \"textposition\": \"auto\", \"type\": \"bar\", \"x\": [\"0\", \"1\", \"2\", \"3\", \"4\"], \"xaxis\": \"x\", \"y\": [30411763.6, 15267703.98, 12587307.39, 11398269.65, 11155755.22], \"yaxis\": \"y\"}, {\"alignmentgroup\": \"True\", \"hovertemplate\": \"cohort=2014<br>gift_year=%{x}<br>amount=%{y}<extra></extra>\", \"legendgroup\": \"2014\", \"marker\": {\"color\": \"#EF553B\"}, \"name\": \"2014\", \"offsetgroup\": \"2014\", \"orientation\": \"v\", \"showlegend\": true, \"textposition\": \"auto\", \"type\": \"bar\", \"x\": [\"0\", \"1\", \"2\", \"3\", \"4\"], \"xaxis\": \"x\", \"y\": [26174282.52, 7745897.26, 6437708.77, 5818855.02, 1874641.8], \"yaxis\": \"y\"}, {\"alignmentgroup\": \"True\", \"hovertemplate\": \"cohort=2015<br>gift_year=%{x}<br>amount=%{y}<extra></extra>\", \"legendgroup\": \"2015\", \"marker\": {\"color\": \"#00cc96\"}, \"name\": \"2015\", \"offsetgroup\": \"2015\", \"orientation\": \"v\", \"showlegend\": true, \"textposition\": \"auto\", \"type\": \"bar\", \"x\": [\"0\", \"1\", \"2\", \"3\"], \"xaxis\": \"x\", \"y\": [30146878.32, 8280549.87, 7444145.63, 2329381.58], \"yaxis\": \"y\"}, {\"alignmentgroup\": \"True\", \"hovertemplate\": \"cohort=2016<br>gift_year=%{x}<br>amount=%{y}<extra></extra>\", \"legendgroup\": \"2016\", \"marker\": {\"color\": \"#ab63fa\"}, \"name\": \"2016\", \"offsetgroup\": \"2016\", \"orientation\": \"v\", \"showlegend\": true, \"textposition\": \"auto\", \"type\": \"bar\", \"x\": [\"0\", \"1\", \"2\"], \"xaxis\": \"x\", \"y\": [36530214.52, 10475760.27, 2885540.02], \"yaxis\": \"y\"}, {\"alignmentgroup\": \"True\", \"hovertemplate\": \"cohort=2017<br>gift_year=%{x}<br>amount=%{y}<extra></extra>\", \"legendgroup\": \"2017\", \"marker\": {\"color\": \"#FFA15A\"}, \"name\": \"2017\", \"offsetgroup\": \"2017\", \"orientation\": \"v\", \"showlegend\": true, \"textposition\": \"auto\", \"type\": \"bar\", \"x\": [\"0\", \"1\"], \"xaxis\": \"x\", \"y\": [37973770.48, 4549913.2], \"yaxis\": \"y\"}, {\"alignmentgroup\": \"True\", \"hovertemplate\": \"cohort=2018<br>gift_year=%{x}<br>amount=%{y}<extra></extra>\", \"legendgroup\": \"2018\", \"marker\": {\"color\": \"#19d3f3\"}, \"name\": \"2018\", \"offsetgroup\": \"2018\", \"orientation\": \"v\", \"showlegend\": true, \"textposition\": \"auto\", \"type\": \"bar\", \"x\": [\"0\"], \"xaxis\": \"x\", \"y\": [11275859.66], \"yaxis\": \"y\"}],\n",
       "                        {\"barmode\": \"group\", \"legend\": {\"title\": {\"text\": \"cohort\"}, \"tracegroupgap\": 0}, \"template\": {\"data\": {\"bar\": [{\"error_x\": {\"color\": \"#2a3f5f\"}, \"error_y\": {\"color\": \"#2a3f5f\"}, \"marker\": {\"line\": {\"color\": \"#E5ECF6\", \"width\": 0.5}}, \"type\": \"bar\"}], \"barpolar\": [{\"marker\": {\"line\": {\"color\": \"#E5ECF6\", \"width\": 0.5}}, \"type\": \"barpolar\"}], \"carpet\": [{\"aaxis\": {\"endlinecolor\": \"#2a3f5f\", \"gridcolor\": \"white\", \"linecolor\": \"white\", \"minorgridcolor\": \"white\", \"startlinecolor\": \"#2a3f5f\"}, \"baxis\": {\"endlinecolor\": \"#2a3f5f\", \"gridcolor\": \"white\", \"linecolor\": \"white\", \"minorgridcolor\": \"white\", \"startlinecolor\": \"#2a3f5f\"}, \"type\": \"carpet\"}], \"choropleth\": [{\"colorbar\": {\"outlinewidth\": 0, \"ticks\": \"\"}, \"type\": \"choropleth\"}], \"contour\": [{\"colorbar\": {\"outlinewidth\": 0, \"ticks\": \"\"}, \"colorscale\": [[0.0, \"#0d0887\"], [0.1111111111111111, \"#46039f\"], [0.2222222222222222, \"#7201a8\"], [0.3333333333333333, \"#9c179e\"], [0.4444444444444444, \"#bd3786\"], [0.5555555555555556, \"#d8576b\"], [0.6666666666666666, \"#ed7953\"], [0.7777777777777778, \"#fb9f3a\"], [0.8888888888888888, \"#fdca26\"], [1.0, \"#f0f921\"]], \"type\": \"contour\"}], \"contourcarpet\": [{\"colorbar\": {\"outlinewidth\": 0, \"ticks\": \"\"}, \"type\": \"contourcarpet\"}], \"heatmap\": [{\"colorbar\": {\"outlinewidth\": 0, \"ticks\": \"\"}, \"colorscale\": [[0.0, \"#0d0887\"], [0.1111111111111111, \"#46039f\"], [0.2222222222222222, \"#7201a8\"], [0.3333333333333333, \"#9c179e\"], [0.4444444444444444, \"#bd3786\"], [0.5555555555555556, \"#d8576b\"], [0.6666666666666666, \"#ed7953\"], [0.7777777777777778, \"#fb9f3a\"], [0.8888888888888888, \"#fdca26\"], [1.0, \"#f0f921\"]], \"type\": \"heatmap\"}], \"heatmapgl\": [{\"colorbar\": {\"outlinewidth\": 0, \"ticks\": \"\"}, \"colorscale\": [[0.0, \"#0d0887\"], [0.1111111111111111, \"#46039f\"], [0.2222222222222222, \"#7201a8\"], [0.3333333333333333, \"#9c179e\"], [0.4444444444444444, \"#bd3786\"], [0.5555555555555556, \"#d8576b\"], [0.6666666666666666, \"#ed7953\"], [0.7777777777777778, \"#fb9f3a\"], [0.8888888888888888, \"#fdca26\"], [1.0, \"#f0f921\"]], \"type\": \"heatmapgl\"}], \"histogram\": [{\"marker\": {\"colorbar\": {\"outlinewidth\": 0, \"ticks\": \"\"}}, \"type\": \"histogram\"}], \"histogram2d\": [{\"colorbar\": {\"outlinewidth\": 0, \"ticks\": \"\"}, \"colorscale\": [[0.0, \"#0d0887\"], [0.1111111111111111, \"#46039f\"], [0.2222222222222222, \"#7201a8\"], [0.3333333333333333, \"#9c179e\"], [0.4444444444444444, \"#bd3786\"], [0.5555555555555556, \"#d8576b\"], [0.6666666666666666, \"#ed7953\"], [0.7777777777777778, \"#fb9f3a\"], [0.8888888888888888, \"#fdca26\"], [1.0, \"#f0f921\"]], \"type\": \"histogram2d\"}], \"histogram2dcontour\": [{\"colorbar\": {\"outlinewidth\": 0, \"ticks\": \"\"}, \"colorscale\": [[0.0, \"#0d0887\"], [0.1111111111111111, \"#46039f\"], [0.2222222222222222, \"#7201a8\"], [0.3333333333333333, \"#9c179e\"], [0.4444444444444444, \"#bd3786\"], [0.5555555555555556, \"#d8576b\"], [0.6666666666666666, \"#ed7953\"], [0.7777777777777778, \"#fb9f3a\"], [0.8888888888888888, \"#fdca26\"], [1.0, \"#f0f921\"]], \"type\": \"histogram2dcontour\"}], \"mesh3d\": [{\"colorbar\": {\"outlinewidth\": 0, \"ticks\": \"\"}, \"type\": \"mesh3d\"}], \"parcoords\": [{\"line\": {\"colorbar\": {\"outlinewidth\": 0, \"ticks\": \"\"}}, \"type\": \"parcoords\"}], \"pie\": [{\"automargin\": true, \"type\": \"pie\"}], \"scatter\": [{\"marker\": {\"colorbar\": {\"outlinewidth\": 0, \"ticks\": \"\"}}, \"type\": \"scatter\"}], \"scatter3d\": [{\"line\": {\"colorbar\": {\"outlinewidth\": 0, \"ticks\": \"\"}}, \"marker\": {\"colorbar\": {\"outlinewidth\": 0, \"ticks\": \"\"}}, \"type\": \"scatter3d\"}], \"scattercarpet\": [{\"marker\": {\"colorbar\": {\"outlinewidth\": 0, \"ticks\": \"\"}}, \"type\": \"scattercarpet\"}], \"scattergeo\": [{\"marker\": {\"colorbar\": {\"outlinewidth\": 0, \"ticks\": \"\"}}, \"type\": \"scattergeo\"}], \"scattergl\": [{\"marker\": {\"colorbar\": {\"outlinewidth\": 0, \"ticks\": \"\"}}, \"type\": \"scattergl\"}], \"scattermapbox\": [{\"marker\": {\"colorbar\": {\"outlinewidth\": 0, \"ticks\": \"\"}}, \"type\": \"scattermapbox\"}], \"scatterpolar\": [{\"marker\": {\"colorbar\": {\"outlinewidth\": 0, \"ticks\": \"\"}}, \"type\": \"scatterpolar\"}], \"scatterpolargl\": [{\"marker\": {\"colorbar\": {\"outlinewidth\": 0, \"ticks\": \"\"}}, \"type\": \"scatterpolargl\"}], \"scatterternary\": [{\"marker\": {\"colorbar\": {\"outlinewidth\": 0, \"ticks\": \"\"}}, \"type\": \"scatterternary\"}], \"surface\": [{\"colorbar\": {\"outlinewidth\": 0, \"ticks\": \"\"}, \"colorscale\": [[0.0, \"#0d0887\"], [0.1111111111111111, \"#46039f\"], [0.2222222222222222, \"#7201a8\"], [0.3333333333333333, \"#9c179e\"], [0.4444444444444444, \"#bd3786\"], [0.5555555555555556, \"#d8576b\"], [0.6666666666666666, \"#ed7953\"], [0.7777777777777778, \"#fb9f3a\"], [0.8888888888888888, \"#fdca26\"], [1.0, \"#f0f921\"]], \"type\": \"surface\"}], \"table\": [{\"cells\": {\"fill\": {\"color\": \"#EBF0F8\"}, \"line\": {\"color\": \"white\"}}, \"header\": {\"fill\": {\"color\": \"#C8D4E3\"}, \"line\": {\"color\": \"white\"}}, \"type\": \"table\"}]}, \"layout\": {\"annotationdefaults\": {\"arrowcolor\": \"#2a3f5f\", \"arrowhead\": 0, \"arrowwidth\": 1}, \"coloraxis\": {\"colorbar\": {\"outlinewidth\": 0, \"ticks\": \"\"}}, \"colorscale\": {\"diverging\": [[0, \"#8e0152\"], [0.1, \"#c51b7d\"], [0.2, \"#de77ae\"], [0.3, \"#f1b6da\"], [0.4, \"#fde0ef\"], [0.5, \"#f7f7f7\"], [0.6, \"#e6f5d0\"], [0.7, \"#b8e186\"], [0.8, \"#7fbc41\"], [0.9, \"#4d9221\"], [1, \"#276419\"]], \"sequential\": [[0.0, \"#0d0887\"], [0.1111111111111111, \"#46039f\"], [0.2222222222222222, \"#7201a8\"], [0.3333333333333333, \"#9c179e\"], [0.4444444444444444, \"#bd3786\"], [0.5555555555555556, \"#d8576b\"], [0.6666666666666666, \"#ed7953\"], [0.7777777777777778, \"#fb9f3a\"], [0.8888888888888888, \"#fdca26\"], [1.0, \"#f0f921\"]], \"sequentialminus\": [[0.0, \"#0d0887\"], [0.1111111111111111, \"#46039f\"], [0.2222222222222222, \"#7201a8\"], [0.3333333333333333, \"#9c179e\"], [0.4444444444444444, \"#bd3786\"], [0.5555555555555556, \"#d8576b\"], [0.6666666666666666, \"#ed7953\"], [0.7777777777777778, \"#fb9f3a\"], [0.8888888888888888, \"#fdca26\"], [1.0, \"#f0f921\"]]}, \"colorway\": [\"#636efa\", \"#EF553B\", \"#00cc96\", \"#ab63fa\", \"#FFA15A\", \"#19d3f3\", \"#FF6692\", \"#B6E880\", \"#FF97FF\", \"#FECB52\"], \"font\": {\"color\": \"#2a3f5f\"}, \"geo\": {\"bgcolor\": \"white\", \"lakecolor\": \"white\", \"landcolor\": \"#E5ECF6\", \"showlakes\": true, \"showland\": true, \"subunitcolor\": \"white\"}, \"hoverlabel\": {\"align\": \"left\"}, \"hovermode\": \"closest\", \"mapbox\": {\"style\": \"light\"}, \"paper_bgcolor\": \"white\", \"plot_bgcolor\": \"#E5ECF6\", \"polar\": {\"angularaxis\": {\"gridcolor\": \"white\", \"linecolor\": \"white\", \"ticks\": \"\"}, \"bgcolor\": \"#E5ECF6\", \"radialaxis\": {\"gridcolor\": \"white\", \"linecolor\": \"white\", \"ticks\": \"\"}}, \"scene\": {\"xaxis\": {\"backgroundcolor\": \"#E5ECF6\", \"gridcolor\": \"white\", \"gridwidth\": 2, \"linecolor\": \"white\", \"showbackground\": true, \"ticks\": \"\", \"zerolinecolor\": \"white\"}, \"yaxis\": {\"backgroundcolor\": \"#E5ECF6\", \"gridcolor\": \"white\", \"gridwidth\": 2, \"linecolor\": \"white\", \"showbackground\": true, \"ticks\": \"\", \"zerolinecolor\": \"white\"}, \"zaxis\": {\"backgroundcolor\": \"#E5ECF6\", \"gridcolor\": \"white\", \"gridwidth\": 2, \"linecolor\": \"white\", \"showbackground\": true, \"ticks\": \"\", \"zerolinecolor\": \"white\"}}, \"shapedefaults\": {\"line\": {\"color\": \"#2a3f5f\"}}, \"ternary\": {\"aaxis\": {\"gridcolor\": \"white\", \"linecolor\": \"white\", \"ticks\": \"\"}, \"baxis\": {\"gridcolor\": \"white\", \"linecolor\": \"white\", \"ticks\": \"\"}, \"bgcolor\": \"#E5ECF6\", \"caxis\": {\"gridcolor\": \"white\", \"linecolor\": \"white\", \"ticks\": \"\"}}, \"title\": {\"x\": 0.05}, \"xaxis\": {\"automargin\": true, \"gridcolor\": \"white\", \"linecolor\": \"white\", \"ticks\": \"\", \"title\": {\"standoff\": 15}, \"zerolinecolor\": \"white\", \"zerolinewidth\": 2}, \"yaxis\": {\"automargin\": true, \"gridcolor\": \"white\", \"linecolor\": \"white\", \"ticks\": \"\", \"title\": {\"standoff\": 15}, \"zerolinecolor\": \"white\", \"zerolinewidth\": 2}}}, \"title\": {\"text\": \"Donation Amount per Year by Cohort\"}, \"xaxis\": {\"anchor\": \"y\", \"domain\": [0.0, 1.0], \"title\": {\"text\": \"gift_year\"}}, \"yaxis\": {\"anchor\": \"x\", \"domain\": [0.0, 1.0], \"title\": {\"text\": \"amount\"}}},\n",
       "                        {\"responsive\": true}\n",
       "                    ).then(function(){\n",
       "                            \n",
       "var gd = document.getElementById('2e4b2684-8e39-49dc-853e-a00478fc88f5');\n",
       "var x = new MutationObserver(function (mutations, observer) {{\n",
       "        var display = window.getComputedStyle(gd).display;\n",
       "        if (!display || display === 'none') {{\n",
       "            console.log([gd, 'removed!']);\n",
       "            Plotly.purge(gd);\n",
       "            observer.disconnect();\n",
       "        }}\n",
       "}});\n",
       "\n",
       "// Listen for the removal of the full notebook cells\n",
       "var notebookContainer = gd.closest('#notebook-container');\n",
       "if (notebookContainer) {{\n",
       "    x.observe(notebookContainer, {childList: true});\n",
       "}}\n",
       "\n",
       "// Listen for the clearing of the current output cell\n",
       "var outputEl = gd.closest('.output');\n",
       "if (outputEl) {{\n",
       "    x.observe(outputEl, {childList: true});\n",
       "}}\n",
       "\n",
       "                        })\n",
       "                };\n",
       "                });\n",
       "            </script>\n",
       "        </div>"
      ]
     },
     "metadata": {},
     "output_type": "display_data"
    }
   ],
   "source": [
    "fig = px.bar(givers.groupby(['gift_year', 'cohort']).sum().reset_index(), x=\"gift_year\", y='amount', color='cohort', barmode='group',  \n",
    "             title=\"Donation Amount per Year by Cohort\")\n",
    "\n",
    "#fig.update_xaxes(type='category')\n",
    "fig.show()\n"
   ]
  },
  {
   "cell_type": "code",
   "execution_count": 499,
   "metadata": {},
   "outputs": [
    {
     "data": {
      "application/vnd.plotly.v1+json": {
       "config": {
        "plotlyServerURL": "https://plot.ly"
       },
       "data": [
        {
         "alignmentgroup": "True",
         "hovertemplate": "gift_year=0<br>cohort=%{x}<br>amount=%{y}<extra></extra>",
         "legendgroup": "0",
         "marker": {
          "color": "#636efa"
         },
         "name": "0",
         "offsetgroup": "0",
         "orientation": "v",
         "showlegend": true,
         "textposition": "auto",
         "type": "bar",
         "x": [
          "2013",
          "2014",
          "2015",
          "2016",
          "2017",
          "2018"
         ],
         "xaxis": "x",
         "y": [
          30411763.6,
          26174282.52,
          30146878.32,
          36530214.52,
          37973770.48,
          11275859.66
         ],
         "yaxis": "y"
        },
        {
         "alignmentgroup": "True",
         "hovertemplate": "gift_year=1<br>cohort=%{x}<br>amount=%{y}<extra></extra>",
         "legendgroup": "1",
         "marker": {
          "color": "#EF553B"
         },
         "name": "1",
         "offsetgroup": "1",
         "orientation": "v",
         "showlegend": true,
         "textposition": "auto",
         "type": "bar",
         "x": [
          "2013",
          "2014",
          "2015",
          "2016",
          "2017"
         ],
         "xaxis": "x",
         "y": [
          15267703.98,
          7745897.26,
          8280549.87,
          10475760.27,
          4549913.2
         ],
         "yaxis": "y"
        },
        {
         "alignmentgroup": "True",
         "hovertemplate": "gift_year=2<br>cohort=%{x}<br>amount=%{y}<extra></extra>",
         "legendgroup": "2",
         "marker": {
          "color": "#00cc96"
         },
         "name": "2",
         "offsetgroup": "2",
         "orientation": "v",
         "showlegend": true,
         "textposition": "auto",
         "type": "bar",
         "x": [
          "2013",
          "2014",
          "2015",
          "2016"
         ],
         "xaxis": "x",
         "y": [
          12587307.39,
          6437708.77,
          7444145.63,
          2885540.02
         ],
         "yaxis": "y"
        },
        {
         "alignmentgroup": "True",
         "hovertemplate": "gift_year=3<br>cohort=%{x}<br>amount=%{y}<extra></extra>",
         "legendgroup": "3",
         "marker": {
          "color": "#ab63fa"
         },
         "name": "3",
         "offsetgroup": "3",
         "orientation": "v",
         "showlegend": true,
         "textposition": "auto",
         "type": "bar",
         "x": [
          "2013",
          "2014",
          "2015"
         ],
         "xaxis": "x",
         "y": [
          11398269.65,
          5818855.02,
          2329381.58
         ],
         "yaxis": "y"
        },
        {
         "alignmentgroup": "True",
         "hovertemplate": "gift_year=4<br>cohort=%{x}<br>amount=%{y}<extra></extra>",
         "legendgroup": "4",
         "marker": {
          "color": "#FFA15A"
         },
         "name": "4",
         "offsetgroup": "4",
         "orientation": "v",
         "showlegend": true,
         "textposition": "auto",
         "type": "bar",
         "x": [
          "2013",
          "2014"
         ],
         "xaxis": "x",
         "y": [
          11155755.22,
          1874641.8
         ],
         "yaxis": "y"
        }
       ],
       "layout": {
        "barmode": "group",
        "legend": {
         "title": {
          "text": "gift_year"
         },
         "tracegroupgap": 0
        },
        "template": {
         "data": {
          "bar": [
           {
            "error_x": {
             "color": "#2a3f5f"
            },
            "error_y": {
             "color": "#2a3f5f"
            },
            "marker": {
             "line": {
              "color": "#E5ECF6",
              "width": 0.5
             }
            },
            "type": "bar"
           }
          ],
          "barpolar": [
           {
            "marker": {
             "line": {
              "color": "#E5ECF6",
              "width": 0.5
             }
            },
            "type": "barpolar"
           }
          ],
          "carpet": [
           {
            "aaxis": {
             "endlinecolor": "#2a3f5f",
             "gridcolor": "white",
             "linecolor": "white",
             "minorgridcolor": "white",
             "startlinecolor": "#2a3f5f"
            },
            "baxis": {
             "endlinecolor": "#2a3f5f",
             "gridcolor": "white",
             "linecolor": "white",
             "minorgridcolor": "white",
             "startlinecolor": "#2a3f5f"
            },
            "type": "carpet"
           }
          ],
          "choropleth": [
           {
            "colorbar": {
             "outlinewidth": 0,
             "ticks": ""
            },
            "type": "choropleth"
           }
          ],
          "contour": [
           {
            "colorbar": {
             "outlinewidth": 0,
             "ticks": ""
            },
            "colorscale": [
             [
              0,
              "#0d0887"
             ],
             [
              0.1111111111111111,
              "#46039f"
             ],
             [
              0.2222222222222222,
              "#7201a8"
             ],
             [
              0.3333333333333333,
              "#9c179e"
             ],
             [
              0.4444444444444444,
              "#bd3786"
             ],
             [
              0.5555555555555556,
              "#d8576b"
             ],
             [
              0.6666666666666666,
              "#ed7953"
             ],
             [
              0.7777777777777778,
              "#fb9f3a"
             ],
             [
              0.8888888888888888,
              "#fdca26"
             ],
             [
              1,
              "#f0f921"
             ]
            ],
            "type": "contour"
           }
          ],
          "contourcarpet": [
           {
            "colorbar": {
             "outlinewidth": 0,
             "ticks": ""
            },
            "type": "contourcarpet"
           }
          ],
          "heatmap": [
           {
            "colorbar": {
             "outlinewidth": 0,
             "ticks": ""
            },
            "colorscale": [
             [
              0,
              "#0d0887"
             ],
             [
              0.1111111111111111,
              "#46039f"
             ],
             [
              0.2222222222222222,
              "#7201a8"
             ],
             [
              0.3333333333333333,
              "#9c179e"
             ],
             [
              0.4444444444444444,
              "#bd3786"
             ],
             [
              0.5555555555555556,
              "#d8576b"
             ],
             [
              0.6666666666666666,
              "#ed7953"
             ],
             [
              0.7777777777777778,
              "#fb9f3a"
             ],
             [
              0.8888888888888888,
              "#fdca26"
             ],
             [
              1,
              "#f0f921"
             ]
            ],
            "type": "heatmap"
           }
          ],
          "heatmapgl": [
           {
            "colorbar": {
             "outlinewidth": 0,
             "ticks": ""
            },
            "colorscale": [
             [
              0,
              "#0d0887"
             ],
             [
              0.1111111111111111,
              "#46039f"
             ],
             [
              0.2222222222222222,
              "#7201a8"
             ],
             [
              0.3333333333333333,
              "#9c179e"
             ],
             [
              0.4444444444444444,
              "#bd3786"
             ],
             [
              0.5555555555555556,
              "#d8576b"
             ],
             [
              0.6666666666666666,
              "#ed7953"
             ],
             [
              0.7777777777777778,
              "#fb9f3a"
             ],
             [
              0.8888888888888888,
              "#fdca26"
             ],
             [
              1,
              "#f0f921"
             ]
            ],
            "type": "heatmapgl"
           }
          ],
          "histogram": [
           {
            "marker": {
             "colorbar": {
              "outlinewidth": 0,
              "ticks": ""
             }
            },
            "type": "histogram"
           }
          ],
          "histogram2d": [
           {
            "colorbar": {
             "outlinewidth": 0,
             "ticks": ""
            },
            "colorscale": [
             [
              0,
              "#0d0887"
             ],
             [
              0.1111111111111111,
              "#46039f"
             ],
             [
              0.2222222222222222,
              "#7201a8"
             ],
             [
              0.3333333333333333,
              "#9c179e"
             ],
             [
              0.4444444444444444,
              "#bd3786"
             ],
             [
              0.5555555555555556,
              "#d8576b"
             ],
             [
              0.6666666666666666,
              "#ed7953"
             ],
             [
              0.7777777777777778,
              "#fb9f3a"
             ],
             [
              0.8888888888888888,
              "#fdca26"
             ],
             [
              1,
              "#f0f921"
             ]
            ],
            "type": "histogram2d"
           }
          ],
          "histogram2dcontour": [
           {
            "colorbar": {
             "outlinewidth": 0,
             "ticks": ""
            },
            "colorscale": [
             [
              0,
              "#0d0887"
             ],
             [
              0.1111111111111111,
              "#46039f"
             ],
             [
              0.2222222222222222,
              "#7201a8"
             ],
             [
              0.3333333333333333,
              "#9c179e"
             ],
             [
              0.4444444444444444,
              "#bd3786"
             ],
             [
              0.5555555555555556,
              "#d8576b"
             ],
             [
              0.6666666666666666,
              "#ed7953"
             ],
             [
              0.7777777777777778,
              "#fb9f3a"
             ],
             [
              0.8888888888888888,
              "#fdca26"
             ],
             [
              1,
              "#f0f921"
             ]
            ],
            "type": "histogram2dcontour"
           }
          ],
          "mesh3d": [
           {
            "colorbar": {
             "outlinewidth": 0,
             "ticks": ""
            },
            "type": "mesh3d"
           }
          ],
          "parcoords": [
           {
            "line": {
             "colorbar": {
              "outlinewidth": 0,
              "ticks": ""
             }
            },
            "type": "parcoords"
           }
          ],
          "pie": [
           {
            "automargin": true,
            "type": "pie"
           }
          ],
          "scatter": [
           {
            "marker": {
             "colorbar": {
              "outlinewidth": 0,
              "ticks": ""
             }
            },
            "type": "scatter"
           }
          ],
          "scatter3d": [
           {
            "line": {
             "colorbar": {
              "outlinewidth": 0,
              "ticks": ""
             }
            },
            "marker": {
             "colorbar": {
              "outlinewidth": 0,
              "ticks": ""
             }
            },
            "type": "scatter3d"
           }
          ],
          "scattercarpet": [
           {
            "marker": {
             "colorbar": {
              "outlinewidth": 0,
              "ticks": ""
             }
            },
            "type": "scattercarpet"
           }
          ],
          "scattergeo": [
           {
            "marker": {
             "colorbar": {
              "outlinewidth": 0,
              "ticks": ""
             }
            },
            "type": "scattergeo"
           }
          ],
          "scattergl": [
           {
            "marker": {
             "colorbar": {
              "outlinewidth": 0,
              "ticks": ""
             }
            },
            "type": "scattergl"
           }
          ],
          "scattermapbox": [
           {
            "marker": {
             "colorbar": {
              "outlinewidth": 0,
              "ticks": ""
             }
            },
            "type": "scattermapbox"
           }
          ],
          "scatterpolar": [
           {
            "marker": {
             "colorbar": {
              "outlinewidth": 0,
              "ticks": ""
             }
            },
            "type": "scatterpolar"
           }
          ],
          "scatterpolargl": [
           {
            "marker": {
             "colorbar": {
              "outlinewidth": 0,
              "ticks": ""
             }
            },
            "type": "scatterpolargl"
           }
          ],
          "scatterternary": [
           {
            "marker": {
             "colorbar": {
              "outlinewidth": 0,
              "ticks": ""
             }
            },
            "type": "scatterternary"
           }
          ],
          "surface": [
           {
            "colorbar": {
             "outlinewidth": 0,
             "ticks": ""
            },
            "colorscale": [
             [
              0,
              "#0d0887"
             ],
             [
              0.1111111111111111,
              "#46039f"
             ],
             [
              0.2222222222222222,
              "#7201a8"
             ],
             [
              0.3333333333333333,
              "#9c179e"
             ],
             [
              0.4444444444444444,
              "#bd3786"
             ],
             [
              0.5555555555555556,
              "#d8576b"
             ],
             [
              0.6666666666666666,
              "#ed7953"
             ],
             [
              0.7777777777777778,
              "#fb9f3a"
             ],
             [
              0.8888888888888888,
              "#fdca26"
             ],
             [
              1,
              "#f0f921"
             ]
            ],
            "type": "surface"
           }
          ],
          "table": [
           {
            "cells": {
             "fill": {
              "color": "#EBF0F8"
             },
             "line": {
              "color": "white"
             }
            },
            "header": {
             "fill": {
              "color": "#C8D4E3"
             },
             "line": {
              "color": "white"
             }
            },
            "type": "table"
           }
          ]
         },
         "layout": {
          "annotationdefaults": {
           "arrowcolor": "#2a3f5f",
           "arrowhead": 0,
           "arrowwidth": 1
          },
          "coloraxis": {
           "colorbar": {
            "outlinewidth": 0,
            "ticks": ""
           }
          },
          "colorscale": {
           "diverging": [
            [
             0,
             "#8e0152"
            ],
            [
             0.1,
             "#c51b7d"
            ],
            [
             0.2,
             "#de77ae"
            ],
            [
             0.3,
             "#f1b6da"
            ],
            [
             0.4,
             "#fde0ef"
            ],
            [
             0.5,
             "#f7f7f7"
            ],
            [
             0.6,
             "#e6f5d0"
            ],
            [
             0.7,
             "#b8e186"
            ],
            [
             0.8,
             "#7fbc41"
            ],
            [
             0.9,
             "#4d9221"
            ],
            [
             1,
             "#276419"
            ]
           ],
           "sequential": [
            [
             0,
             "#0d0887"
            ],
            [
             0.1111111111111111,
             "#46039f"
            ],
            [
             0.2222222222222222,
             "#7201a8"
            ],
            [
             0.3333333333333333,
             "#9c179e"
            ],
            [
             0.4444444444444444,
             "#bd3786"
            ],
            [
             0.5555555555555556,
             "#d8576b"
            ],
            [
             0.6666666666666666,
             "#ed7953"
            ],
            [
             0.7777777777777778,
             "#fb9f3a"
            ],
            [
             0.8888888888888888,
             "#fdca26"
            ],
            [
             1,
             "#f0f921"
            ]
           ],
           "sequentialminus": [
            [
             0,
             "#0d0887"
            ],
            [
             0.1111111111111111,
             "#46039f"
            ],
            [
             0.2222222222222222,
             "#7201a8"
            ],
            [
             0.3333333333333333,
             "#9c179e"
            ],
            [
             0.4444444444444444,
             "#bd3786"
            ],
            [
             0.5555555555555556,
             "#d8576b"
            ],
            [
             0.6666666666666666,
             "#ed7953"
            ],
            [
             0.7777777777777778,
             "#fb9f3a"
            ],
            [
             0.8888888888888888,
             "#fdca26"
            ],
            [
             1,
             "#f0f921"
            ]
           ]
          },
          "colorway": [
           "#636efa",
           "#EF553B",
           "#00cc96",
           "#ab63fa",
           "#FFA15A",
           "#19d3f3",
           "#FF6692",
           "#B6E880",
           "#FF97FF",
           "#FECB52"
          ],
          "font": {
           "color": "#2a3f5f"
          },
          "geo": {
           "bgcolor": "white",
           "lakecolor": "white",
           "landcolor": "#E5ECF6",
           "showlakes": true,
           "showland": true,
           "subunitcolor": "white"
          },
          "hoverlabel": {
           "align": "left"
          },
          "hovermode": "closest",
          "mapbox": {
           "style": "light"
          },
          "paper_bgcolor": "white",
          "plot_bgcolor": "#E5ECF6",
          "polar": {
           "angularaxis": {
            "gridcolor": "white",
            "linecolor": "white",
            "ticks": ""
           },
           "bgcolor": "#E5ECF6",
           "radialaxis": {
            "gridcolor": "white",
            "linecolor": "white",
            "ticks": ""
           }
          },
          "scene": {
           "xaxis": {
            "backgroundcolor": "#E5ECF6",
            "gridcolor": "white",
            "gridwidth": 2,
            "linecolor": "white",
            "showbackground": true,
            "ticks": "",
            "zerolinecolor": "white"
           },
           "yaxis": {
            "backgroundcolor": "#E5ECF6",
            "gridcolor": "white",
            "gridwidth": 2,
            "linecolor": "white",
            "showbackground": true,
            "ticks": "",
            "zerolinecolor": "white"
           },
           "zaxis": {
            "backgroundcolor": "#E5ECF6",
            "gridcolor": "white",
            "gridwidth": 2,
            "linecolor": "white",
            "showbackground": true,
            "ticks": "",
            "zerolinecolor": "white"
           }
          },
          "shapedefaults": {
           "line": {
            "color": "#2a3f5f"
           }
          },
          "ternary": {
           "aaxis": {
            "gridcolor": "white",
            "linecolor": "white",
            "ticks": ""
           },
           "baxis": {
            "gridcolor": "white",
            "linecolor": "white",
            "ticks": ""
           },
           "bgcolor": "#E5ECF6",
           "caxis": {
            "gridcolor": "white",
            "linecolor": "white",
            "ticks": ""
           }
          },
          "title": {
           "x": 0.05
          },
          "xaxis": {
           "automargin": true,
           "gridcolor": "white",
           "linecolor": "white",
           "ticks": "",
           "title": {
            "standoff": 15
           },
           "zerolinecolor": "white",
           "zerolinewidth": 2
          },
          "yaxis": {
           "automargin": true,
           "gridcolor": "white",
           "linecolor": "white",
           "ticks": "",
           "title": {
            "standoff": 15
           },
           "zerolinecolor": "white",
           "zerolinewidth": 2
          }
         }
        },
        "title": {
         "text": "Donation Amount per Year by Cohort"
        },
        "xaxis": {
         "anchor": "y",
         "domain": [
          0,
          1
         ],
         "title": {
          "text": "cohort"
         }
        },
        "yaxis": {
         "anchor": "x",
         "domain": [
          0,
          1
         ],
         "title": {
          "text": "amount"
         }
        }
       }
      },
      "text/html": [
       "<div>\n",
       "        \n",
       "        \n",
       "            <div id=\"153c9625-17db-4375-ba38-4278d4c87907\" class=\"plotly-graph-div\" style=\"height:525px; width:100%;\"></div>\n",
       "            <script type=\"text/javascript\">\n",
       "                require([\"plotly\"], function(Plotly) {\n",
       "                    window.PLOTLYENV=window.PLOTLYENV || {};\n",
       "                    \n",
       "                if (document.getElementById(\"153c9625-17db-4375-ba38-4278d4c87907\")) {\n",
       "                    Plotly.newPlot(\n",
       "                        '153c9625-17db-4375-ba38-4278d4c87907',\n",
       "                        [{\"alignmentgroup\": \"True\", \"hovertemplate\": \"gift_year=0<br>cohort=%{x}<br>amount=%{y}<extra></extra>\", \"legendgroup\": \"0\", \"marker\": {\"color\": \"#636efa\"}, \"name\": \"0\", \"offsetgroup\": \"0\", \"orientation\": \"v\", \"showlegend\": true, \"textposition\": \"auto\", \"type\": \"bar\", \"x\": [\"2013\", \"2014\", \"2015\", \"2016\", \"2017\", \"2018\"], \"xaxis\": \"x\", \"y\": [30411763.6, 26174282.52, 30146878.32, 36530214.52, 37973770.48, 11275859.66], \"yaxis\": \"y\"}, {\"alignmentgroup\": \"True\", \"hovertemplate\": \"gift_year=1<br>cohort=%{x}<br>amount=%{y}<extra></extra>\", \"legendgroup\": \"1\", \"marker\": {\"color\": \"#EF553B\"}, \"name\": \"1\", \"offsetgroup\": \"1\", \"orientation\": \"v\", \"showlegend\": true, \"textposition\": \"auto\", \"type\": \"bar\", \"x\": [\"2013\", \"2014\", \"2015\", \"2016\", \"2017\"], \"xaxis\": \"x\", \"y\": [15267703.98, 7745897.26, 8280549.87, 10475760.27, 4549913.2], \"yaxis\": \"y\"}, {\"alignmentgroup\": \"True\", \"hovertemplate\": \"gift_year=2<br>cohort=%{x}<br>amount=%{y}<extra></extra>\", \"legendgroup\": \"2\", \"marker\": {\"color\": \"#00cc96\"}, \"name\": \"2\", \"offsetgroup\": \"2\", \"orientation\": \"v\", \"showlegend\": true, \"textposition\": \"auto\", \"type\": \"bar\", \"x\": [\"2013\", \"2014\", \"2015\", \"2016\"], \"xaxis\": \"x\", \"y\": [12587307.39, 6437708.77, 7444145.63, 2885540.02], \"yaxis\": \"y\"}, {\"alignmentgroup\": \"True\", \"hovertemplate\": \"gift_year=3<br>cohort=%{x}<br>amount=%{y}<extra></extra>\", \"legendgroup\": \"3\", \"marker\": {\"color\": \"#ab63fa\"}, \"name\": \"3\", \"offsetgroup\": \"3\", \"orientation\": \"v\", \"showlegend\": true, \"textposition\": \"auto\", \"type\": \"bar\", \"x\": [\"2013\", \"2014\", \"2015\"], \"xaxis\": \"x\", \"y\": [11398269.65, 5818855.02, 2329381.58], \"yaxis\": \"y\"}, {\"alignmentgroup\": \"True\", \"hovertemplate\": \"gift_year=4<br>cohort=%{x}<br>amount=%{y}<extra></extra>\", \"legendgroup\": \"4\", \"marker\": {\"color\": \"#FFA15A\"}, \"name\": \"4\", \"offsetgroup\": \"4\", \"orientation\": \"v\", \"showlegend\": true, \"textposition\": \"auto\", \"type\": \"bar\", \"x\": [\"2013\", \"2014\"], \"xaxis\": \"x\", \"y\": [11155755.22, 1874641.8], \"yaxis\": \"y\"}],\n",
       "                        {\"barmode\": \"group\", \"legend\": {\"title\": {\"text\": \"gift_year\"}, \"tracegroupgap\": 0}, \"template\": {\"data\": {\"bar\": [{\"error_x\": {\"color\": \"#2a3f5f\"}, \"error_y\": {\"color\": \"#2a3f5f\"}, \"marker\": {\"line\": {\"color\": \"#E5ECF6\", \"width\": 0.5}}, \"type\": \"bar\"}], \"barpolar\": [{\"marker\": {\"line\": {\"color\": \"#E5ECF6\", \"width\": 0.5}}, \"type\": \"barpolar\"}], \"carpet\": [{\"aaxis\": {\"endlinecolor\": \"#2a3f5f\", \"gridcolor\": \"white\", \"linecolor\": \"white\", \"minorgridcolor\": \"white\", \"startlinecolor\": \"#2a3f5f\"}, \"baxis\": {\"endlinecolor\": \"#2a3f5f\", \"gridcolor\": \"white\", \"linecolor\": \"white\", \"minorgridcolor\": \"white\", \"startlinecolor\": \"#2a3f5f\"}, \"type\": \"carpet\"}], \"choropleth\": [{\"colorbar\": {\"outlinewidth\": 0, \"ticks\": \"\"}, \"type\": \"choropleth\"}], \"contour\": [{\"colorbar\": {\"outlinewidth\": 0, \"ticks\": \"\"}, \"colorscale\": [[0.0, \"#0d0887\"], [0.1111111111111111, \"#46039f\"], [0.2222222222222222, \"#7201a8\"], [0.3333333333333333, \"#9c179e\"], [0.4444444444444444, \"#bd3786\"], [0.5555555555555556, \"#d8576b\"], [0.6666666666666666, \"#ed7953\"], [0.7777777777777778, \"#fb9f3a\"], [0.8888888888888888, \"#fdca26\"], [1.0, \"#f0f921\"]], \"type\": \"contour\"}], \"contourcarpet\": [{\"colorbar\": {\"outlinewidth\": 0, \"ticks\": \"\"}, \"type\": \"contourcarpet\"}], \"heatmap\": [{\"colorbar\": {\"outlinewidth\": 0, \"ticks\": \"\"}, \"colorscale\": [[0.0, \"#0d0887\"], [0.1111111111111111, \"#46039f\"], [0.2222222222222222, \"#7201a8\"], [0.3333333333333333, \"#9c179e\"], [0.4444444444444444, \"#bd3786\"], [0.5555555555555556, \"#d8576b\"], [0.6666666666666666, \"#ed7953\"], [0.7777777777777778, \"#fb9f3a\"], [0.8888888888888888, \"#fdca26\"], [1.0, \"#f0f921\"]], \"type\": \"heatmap\"}], \"heatmapgl\": [{\"colorbar\": {\"outlinewidth\": 0, \"ticks\": \"\"}, \"colorscale\": [[0.0, \"#0d0887\"], [0.1111111111111111, \"#46039f\"], [0.2222222222222222, \"#7201a8\"], [0.3333333333333333, \"#9c179e\"], [0.4444444444444444, \"#bd3786\"], [0.5555555555555556, \"#d8576b\"], [0.6666666666666666, \"#ed7953\"], [0.7777777777777778, \"#fb9f3a\"], [0.8888888888888888, \"#fdca26\"], [1.0, \"#f0f921\"]], \"type\": \"heatmapgl\"}], \"histogram\": [{\"marker\": {\"colorbar\": {\"outlinewidth\": 0, \"ticks\": \"\"}}, \"type\": \"histogram\"}], \"histogram2d\": [{\"colorbar\": {\"outlinewidth\": 0, \"ticks\": \"\"}, \"colorscale\": [[0.0, \"#0d0887\"], [0.1111111111111111, \"#46039f\"], [0.2222222222222222, \"#7201a8\"], [0.3333333333333333, \"#9c179e\"], [0.4444444444444444, \"#bd3786\"], [0.5555555555555556, \"#d8576b\"], [0.6666666666666666, \"#ed7953\"], [0.7777777777777778, \"#fb9f3a\"], [0.8888888888888888, \"#fdca26\"], [1.0, \"#f0f921\"]], \"type\": \"histogram2d\"}], \"histogram2dcontour\": [{\"colorbar\": {\"outlinewidth\": 0, \"ticks\": \"\"}, \"colorscale\": [[0.0, \"#0d0887\"], [0.1111111111111111, \"#46039f\"], [0.2222222222222222, \"#7201a8\"], [0.3333333333333333, \"#9c179e\"], [0.4444444444444444, \"#bd3786\"], [0.5555555555555556, \"#d8576b\"], [0.6666666666666666, \"#ed7953\"], [0.7777777777777778, \"#fb9f3a\"], [0.8888888888888888, \"#fdca26\"], [1.0, \"#f0f921\"]], \"type\": \"histogram2dcontour\"}], \"mesh3d\": [{\"colorbar\": {\"outlinewidth\": 0, \"ticks\": \"\"}, \"type\": \"mesh3d\"}], \"parcoords\": [{\"line\": {\"colorbar\": {\"outlinewidth\": 0, \"ticks\": \"\"}}, \"type\": \"parcoords\"}], \"pie\": [{\"automargin\": true, \"type\": \"pie\"}], \"scatter\": [{\"marker\": {\"colorbar\": {\"outlinewidth\": 0, \"ticks\": \"\"}}, \"type\": \"scatter\"}], \"scatter3d\": [{\"line\": {\"colorbar\": {\"outlinewidth\": 0, \"ticks\": \"\"}}, \"marker\": {\"colorbar\": {\"outlinewidth\": 0, \"ticks\": \"\"}}, \"type\": \"scatter3d\"}], \"scattercarpet\": [{\"marker\": {\"colorbar\": {\"outlinewidth\": 0, \"ticks\": \"\"}}, \"type\": \"scattercarpet\"}], \"scattergeo\": [{\"marker\": {\"colorbar\": {\"outlinewidth\": 0, \"ticks\": \"\"}}, \"type\": \"scattergeo\"}], \"scattergl\": [{\"marker\": {\"colorbar\": {\"outlinewidth\": 0, \"ticks\": \"\"}}, \"type\": \"scattergl\"}], \"scattermapbox\": [{\"marker\": {\"colorbar\": {\"outlinewidth\": 0, \"ticks\": \"\"}}, \"type\": \"scattermapbox\"}], \"scatterpolar\": [{\"marker\": {\"colorbar\": {\"outlinewidth\": 0, \"ticks\": \"\"}}, \"type\": \"scatterpolar\"}], \"scatterpolargl\": [{\"marker\": {\"colorbar\": {\"outlinewidth\": 0, \"ticks\": \"\"}}, \"type\": \"scatterpolargl\"}], \"scatterternary\": [{\"marker\": {\"colorbar\": {\"outlinewidth\": 0, \"ticks\": \"\"}}, \"type\": \"scatterternary\"}], \"surface\": [{\"colorbar\": {\"outlinewidth\": 0, \"ticks\": \"\"}, \"colorscale\": [[0.0, \"#0d0887\"], [0.1111111111111111, \"#46039f\"], [0.2222222222222222, \"#7201a8\"], [0.3333333333333333, \"#9c179e\"], [0.4444444444444444, \"#bd3786\"], [0.5555555555555556, \"#d8576b\"], [0.6666666666666666, \"#ed7953\"], [0.7777777777777778, \"#fb9f3a\"], [0.8888888888888888, \"#fdca26\"], [1.0, \"#f0f921\"]], \"type\": \"surface\"}], \"table\": [{\"cells\": {\"fill\": {\"color\": \"#EBF0F8\"}, \"line\": {\"color\": \"white\"}}, \"header\": {\"fill\": {\"color\": \"#C8D4E3\"}, \"line\": {\"color\": \"white\"}}, \"type\": \"table\"}]}, \"layout\": {\"annotationdefaults\": {\"arrowcolor\": \"#2a3f5f\", \"arrowhead\": 0, \"arrowwidth\": 1}, \"coloraxis\": {\"colorbar\": {\"outlinewidth\": 0, \"ticks\": \"\"}}, \"colorscale\": {\"diverging\": [[0, \"#8e0152\"], [0.1, \"#c51b7d\"], [0.2, \"#de77ae\"], [0.3, \"#f1b6da\"], [0.4, \"#fde0ef\"], [0.5, \"#f7f7f7\"], [0.6, \"#e6f5d0\"], [0.7, \"#b8e186\"], [0.8, \"#7fbc41\"], [0.9, \"#4d9221\"], [1, \"#276419\"]], \"sequential\": [[0.0, \"#0d0887\"], [0.1111111111111111, \"#46039f\"], [0.2222222222222222, \"#7201a8\"], [0.3333333333333333, \"#9c179e\"], [0.4444444444444444, \"#bd3786\"], [0.5555555555555556, \"#d8576b\"], [0.6666666666666666, \"#ed7953\"], [0.7777777777777778, \"#fb9f3a\"], [0.8888888888888888, \"#fdca26\"], [1.0, \"#f0f921\"]], \"sequentialminus\": [[0.0, \"#0d0887\"], [0.1111111111111111, \"#46039f\"], [0.2222222222222222, \"#7201a8\"], [0.3333333333333333, \"#9c179e\"], [0.4444444444444444, \"#bd3786\"], [0.5555555555555556, \"#d8576b\"], [0.6666666666666666, \"#ed7953\"], [0.7777777777777778, \"#fb9f3a\"], [0.8888888888888888, \"#fdca26\"], [1.0, \"#f0f921\"]]}, \"colorway\": [\"#636efa\", \"#EF553B\", \"#00cc96\", \"#ab63fa\", \"#FFA15A\", \"#19d3f3\", \"#FF6692\", \"#B6E880\", \"#FF97FF\", \"#FECB52\"], \"font\": {\"color\": \"#2a3f5f\"}, \"geo\": {\"bgcolor\": \"white\", \"lakecolor\": \"white\", \"landcolor\": \"#E5ECF6\", \"showlakes\": true, \"showland\": true, \"subunitcolor\": \"white\"}, \"hoverlabel\": {\"align\": \"left\"}, \"hovermode\": \"closest\", \"mapbox\": {\"style\": \"light\"}, \"paper_bgcolor\": \"white\", \"plot_bgcolor\": \"#E5ECF6\", \"polar\": {\"angularaxis\": {\"gridcolor\": \"white\", \"linecolor\": \"white\", \"ticks\": \"\"}, \"bgcolor\": \"#E5ECF6\", \"radialaxis\": {\"gridcolor\": \"white\", \"linecolor\": \"white\", \"ticks\": \"\"}}, \"scene\": {\"xaxis\": {\"backgroundcolor\": \"#E5ECF6\", \"gridcolor\": \"white\", \"gridwidth\": 2, \"linecolor\": \"white\", \"showbackground\": true, \"ticks\": \"\", \"zerolinecolor\": \"white\"}, \"yaxis\": {\"backgroundcolor\": \"#E5ECF6\", \"gridcolor\": \"white\", \"gridwidth\": 2, \"linecolor\": \"white\", \"showbackground\": true, \"ticks\": \"\", \"zerolinecolor\": \"white\"}, \"zaxis\": {\"backgroundcolor\": \"#E5ECF6\", \"gridcolor\": \"white\", \"gridwidth\": 2, \"linecolor\": \"white\", \"showbackground\": true, \"ticks\": \"\", \"zerolinecolor\": \"white\"}}, \"shapedefaults\": {\"line\": {\"color\": \"#2a3f5f\"}}, \"ternary\": {\"aaxis\": {\"gridcolor\": \"white\", \"linecolor\": \"white\", \"ticks\": \"\"}, \"baxis\": {\"gridcolor\": \"white\", \"linecolor\": \"white\", \"ticks\": \"\"}, \"bgcolor\": \"#E5ECF6\", \"caxis\": {\"gridcolor\": \"white\", \"linecolor\": \"white\", \"ticks\": \"\"}}, \"title\": {\"x\": 0.05}, \"xaxis\": {\"automargin\": true, \"gridcolor\": \"white\", \"linecolor\": \"white\", \"ticks\": \"\", \"title\": {\"standoff\": 15}, \"zerolinecolor\": \"white\", \"zerolinewidth\": 2}, \"yaxis\": {\"automargin\": true, \"gridcolor\": \"white\", \"linecolor\": \"white\", \"ticks\": \"\", \"title\": {\"standoff\": 15}, \"zerolinecolor\": \"white\", \"zerolinewidth\": 2}}}, \"title\": {\"text\": \"Donation Amount per Year by Cohort\"}, \"xaxis\": {\"anchor\": \"y\", \"domain\": [0.0, 1.0], \"title\": {\"text\": \"cohort\"}}, \"yaxis\": {\"anchor\": \"x\", \"domain\": [0.0, 1.0], \"title\": {\"text\": \"amount\"}}},\n",
       "                        {\"responsive\": true}\n",
       "                    ).then(function(){\n",
       "                            \n",
       "var gd = document.getElementById('153c9625-17db-4375-ba38-4278d4c87907');\n",
       "var x = new MutationObserver(function (mutations, observer) {{\n",
       "        var display = window.getComputedStyle(gd).display;\n",
       "        if (!display || display === 'none') {{\n",
       "            console.log([gd, 'removed!']);\n",
       "            Plotly.purge(gd);\n",
       "            observer.disconnect();\n",
       "        }}\n",
       "}});\n",
       "\n",
       "// Listen for the removal of the full notebook cells\n",
       "var notebookContainer = gd.closest('#notebook-container');\n",
       "if (notebookContainer) {{\n",
       "    x.observe(notebookContainer, {childList: true});\n",
       "}}\n",
       "\n",
       "// Listen for the clearing of the current output cell\n",
       "var outputEl = gd.closest('.output');\n",
       "if (outputEl) {{\n",
       "    x.observe(outputEl, {childList: true});\n",
       "}}\n",
       "\n",
       "                        })\n",
       "                };\n",
       "                });\n",
       "            </script>\n",
       "        </div>"
      ]
     },
     "metadata": {},
     "output_type": "display_data"
    }
   ],
   "source": [
    "fig = px.bar(givers.groupby(['gift_year', 'cohort']).sum().reset_index(), x=\"cohort\", y='amount', color='gift_year', barmode='group',  \n",
    "             title=\"Donation Amount per Year by Cohort\")\n",
    "\n",
    "#fig.update_xaxes(type='category')\n",
    "fig.show()\n"
   ]
  },
  {
   "cell_type": "code",
   "execution_count": 512,
   "metadata": {},
   "outputs": [
    {
     "data": {
      "application/vnd.plotly.v1+json": {
       "config": {
        "plotlyServerURL": "https://plot.ly"
       },
       "data": [
        {
         "alignmentgroup": "True",
         "customdata": [
          [
           2013,
           -257939,
           -25553
          ],
          [
           2014,
           -272006,
           -24544
          ],
          [
           2015,
           -309059,
           -27714
          ],
          [
           2016,
           -389060,
           -12290
          ],
          [
           2017,
           -405001,
           0
          ]
         ],
         "hovertemplate": "cohort_yr1_TF=TF<br>class=%{customdata[0]}<br>no_donors=%{customdata[1]}<br>count_yr2=%{customdata[2]}<extra></extra>",
         "legendgroup": "TF",
         "marker": {
          "color": "red"
         },
         "name": "TF",
         "offsetgroup": "TF",
         "orientation": "v",
         "showlegend": true,
         "textposition": "auto",
         "type": "bar",
         "x": [
          2013,
          2014,
          2015,
          2016,
          2017
         ],
         "xaxis": "x",
         "y": [
          -257939,
          -272006,
          -309059,
          -389060,
          -405001
         ],
         "yaxis": "y"
        },
        {
         "alignmentgroup": "True",
         "customdata": [
          [
           2013,
           62130,
           157873
          ],
          [
           2014,
           48667,
           65014
          ],
          [
           2015,
           46078,
           70597
          ],
          [
           2016,
           56538,
           33919
          ],
          [
           2017,
           29990,
           0
          ]
         ],
         "hovertemplate": "cohort_yr1_TF=TT<br>class=%{customdata[0]}<br>no_donors=%{customdata[1]}<br>count_yr2=%{customdata[2]}<extra></extra>",
         "legendgroup": "TT",
         "marker": {
          "color": "seagreen"
         },
         "name": "TT",
         "offsetgroup": "TT",
         "orientation": "v",
         "showlegend": true,
         "textposition": "auto",
         "type": "bar",
         "x": [
          2013,
          2014,
          2015,
          2016,
          2017
         ],
         "xaxis": "x",
         "y": [
          62130,
          48667,
          46078,
          56538,
          29990
         ],
         "yaxis": "y"
        }
       ],
       "layout": {
        "barmode": "relative",
        "height": 500,
        "legend": {
         "title": {
          "text": "cohort_yr1_TF"
         },
         "tracegroupgap": 0
        },
        "template": {
         "data": {
          "bar": [
           {
            "error_x": {
             "color": "#2a3f5f"
            },
            "error_y": {
             "color": "#2a3f5f"
            },
            "marker": {
             "line": {
              "color": "#E5ECF6",
              "width": 0.5
             }
            },
            "type": "bar"
           }
          ],
          "barpolar": [
           {
            "marker": {
             "line": {
              "color": "#E5ECF6",
              "width": 0.5
             }
            },
            "type": "barpolar"
           }
          ],
          "carpet": [
           {
            "aaxis": {
             "endlinecolor": "#2a3f5f",
             "gridcolor": "white",
             "linecolor": "white",
             "minorgridcolor": "white",
             "startlinecolor": "#2a3f5f"
            },
            "baxis": {
             "endlinecolor": "#2a3f5f",
             "gridcolor": "white",
             "linecolor": "white",
             "minorgridcolor": "white",
             "startlinecolor": "#2a3f5f"
            },
            "type": "carpet"
           }
          ],
          "choropleth": [
           {
            "colorbar": {
             "outlinewidth": 0,
             "ticks": ""
            },
            "type": "choropleth"
           }
          ],
          "contour": [
           {
            "colorbar": {
             "outlinewidth": 0,
             "ticks": ""
            },
            "colorscale": [
             [
              0,
              "#0d0887"
             ],
             [
              0.1111111111111111,
              "#46039f"
             ],
             [
              0.2222222222222222,
              "#7201a8"
             ],
             [
              0.3333333333333333,
              "#9c179e"
             ],
             [
              0.4444444444444444,
              "#bd3786"
             ],
             [
              0.5555555555555556,
              "#d8576b"
             ],
             [
              0.6666666666666666,
              "#ed7953"
             ],
             [
              0.7777777777777778,
              "#fb9f3a"
             ],
             [
              0.8888888888888888,
              "#fdca26"
             ],
             [
              1,
              "#f0f921"
             ]
            ],
            "type": "contour"
           }
          ],
          "contourcarpet": [
           {
            "colorbar": {
             "outlinewidth": 0,
             "ticks": ""
            },
            "type": "contourcarpet"
           }
          ],
          "heatmap": [
           {
            "colorbar": {
             "outlinewidth": 0,
             "ticks": ""
            },
            "colorscale": [
             [
              0,
              "#0d0887"
             ],
             [
              0.1111111111111111,
              "#46039f"
             ],
             [
              0.2222222222222222,
              "#7201a8"
             ],
             [
              0.3333333333333333,
              "#9c179e"
             ],
             [
              0.4444444444444444,
              "#bd3786"
             ],
             [
              0.5555555555555556,
              "#d8576b"
             ],
             [
              0.6666666666666666,
              "#ed7953"
             ],
             [
              0.7777777777777778,
              "#fb9f3a"
             ],
             [
              0.8888888888888888,
              "#fdca26"
             ],
             [
              1,
              "#f0f921"
             ]
            ],
            "type": "heatmap"
           }
          ],
          "heatmapgl": [
           {
            "colorbar": {
             "outlinewidth": 0,
             "ticks": ""
            },
            "colorscale": [
             [
              0,
              "#0d0887"
             ],
             [
              0.1111111111111111,
              "#46039f"
             ],
             [
              0.2222222222222222,
              "#7201a8"
             ],
             [
              0.3333333333333333,
              "#9c179e"
             ],
             [
              0.4444444444444444,
              "#bd3786"
             ],
             [
              0.5555555555555556,
              "#d8576b"
             ],
             [
              0.6666666666666666,
              "#ed7953"
             ],
             [
              0.7777777777777778,
              "#fb9f3a"
             ],
             [
              0.8888888888888888,
              "#fdca26"
             ],
             [
              1,
              "#f0f921"
             ]
            ],
            "type": "heatmapgl"
           }
          ],
          "histogram": [
           {
            "marker": {
             "colorbar": {
              "outlinewidth": 0,
              "ticks": ""
             }
            },
            "type": "histogram"
           }
          ],
          "histogram2d": [
           {
            "colorbar": {
             "outlinewidth": 0,
             "ticks": ""
            },
            "colorscale": [
             [
              0,
              "#0d0887"
             ],
             [
              0.1111111111111111,
              "#46039f"
             ],
             [
              0.2222222222222222,
              "#7201a8"
             ],
             [
              0.3333333333333333,
              "#9c179e"
             ],
             [
              0.4444444444444444,
              "#bd3786"
             ],
             [
              0.5555555555555556,
              "#d8576b"
             ],
             [
              0.6666666666666666,
              "#ed7953"
             ],
             [
              0.7777777777777778,
              "#fb9f3a"
             ],
             [
              0.8888888888888888,
              "#fdca26"
             ],
             [
              1,
              "#f0f921"
             ]
            ],
            "type": "histogram2d"
           }
          ],
          "histogram2dcontour": [
           {
            "colorbar": {
             "outlinewidth": 0,
             "ticks": ""
            },
            "colorscale": [
             [
              0,
              "#0d0887"
             ],
             [
              0.1111111111111111,
              "#46039f"
             ],
             [
              0.2222222222222222,
              "#7201a8"
             ],
             [
              0.3333333333333333,
              "#9c179e"
             ],
             [
              0.4444444444444444,
              "#bd3786"
             ],
             [
              0.5555555555555556,
              "#d8576b"
             ],
             [
              0.6666666666666666,
              "#ed7953"
             ],
             [
              0.7777777777777778,
              "#fb9f3a"
             ],
             [
              0.8888888888888888,
              "#fdca26"
             ],
             [
              1,
              "#f0f921"
             ]
            ],
            "type": "histogram2dcontour"
           }
          ],
          "mesh3d": [
           {
            "colorbar": {
             "outlinewidth": 0,
             "ticks": ""
            },
            "type": "mesh3d"
           }
          ],
          "parcoords": [
           {
            "line": {
             "colorbar": {
              "outlinewidth": 0,
              "ticks": ""
             }
            },
            "type": "parcoords"
           }
          ],
          "pie": [
           {
            "automargin": true,
            "type": "pie"
           }
          ],
          "scatter": [
           {
            "marker": {
             "colorbar": {
              "outlinewidth": 0,
              "ticks": ""
             }
            },
            "type": "scatter"
           }
          ],
          "scatter3d": [
           {
            "line": {
             "colorbar": {
              "outlinewidth": 0,
              "ticks": ""
             }
            },
            "marker": {
             "colorbar": {
              "outlinewidth": 0,
              "ticks": ""
             }
            },
            "type": "scatter3d"
           }
          ],
          "scattercarpet": [
           {
            "marker": {
             "colorbar": {
              "outlinewidth": 0,
              "ticks": ""
             }
            },
            "type": "scattercarpet"
           }
          ],
          "scattergeo": [
           {
            "marker": {
             "colorbar": {
              "outlinewidth": 0,
              "ticks": ""
             }
            },
            "type": "scattergeo"
           }
          ],
          "scattergl": [
           {
            "marker": {
             "colorbar": {
              "outlinewidth": 0,
              "ticks": ""
             }
            },
            "type": "scattergl"
           }
          ],
          "scattermapbox": [
           {
            "marker": {
             "colorbar": {
              "outlinewidth": 0,
              "ticks": ""
             }
            },
            "type": "scattermapbox"
           }
          ],
          "scatterpolar": [
           {
            "marker": {
             "colorbar": {
              "outlinewidth": 0,
              "ticks": ""
             }
            },
            "type": "scatterpolar"
           }
          ],
          "scatterpolargl": [
           {
            "marker": {
             "colorbar": {
              "outlinewidth": 0,
              "ticks": ""
             }
            },
            "type": "scatterpolargl"
           }
          ],
          "scatterternary": [
           {
            "marker": {
             "colorbar": {
              "outlinewidth": 0,
              "ticks": ""
             }
            },
            "type": "scatterternary"
           }
          ],
          "surface": [
           {
            "colorbar": {
             "outlinewidth": 0,
             "ticks": ""
            },
            "colorscale": [
             [
              0,
              "#0d0887"
             ],
             [
              0.1111111111111111,
              "#46039f"
             ],
             [
              0.2222222222222222,
              "#7201a8"
             ],
             [
              0.3333333333333333,
              "#9c179e"
             ],
             [
              0.4444444444444444,
              "#bd3786"
             ],
             [
              0.5555555555555556,
              "#d8576b"
             ],
             [
              0.6666666666666666,
              "#ed7953"
             ],
             [
              0.7777777777777778,
              "#fb9f3a"
             ],
             [
              0.8888888888888888,
              "#fdca26"
             ],
             [
              1,
              "#f0f921"
             ]
            ],
            "type": "surface"
           }
          ],
          "table": [
           {
            "cells": {
             "fill": {
              "color": "#EBF0F8"
             },
             "line": {
              "color": "white"
             }
            },
            "header": {
             "fill": {
              "color": "#C8D4E3"
             },
             "line": {
              "color": "white"
             }
            },
            "type": "table"
           }
          ]
         },
         "layout": {
          "annotationdefaults": {
           "arrowcolor": "#2a3f5f",
           "arrowhead": 0,
           "arrowwidth": 1
          },
          "coloraxis": {
           "colorbar": {
            "outlinewidth": 0,
            "ticks": ""
           }
          },
          "colorscale": {
           "diverging": [
            [
             0,
             "#8e0152"
            ],
            [
             0.1,
             "#c51b7d"
            ],
            [
             0.2,
             "#de77ae"
            ],
            [
             0.3,
             "#f1b6da"
            ],
            [
             0.4,
             "#fde0ef"
            ],
            [
             0.5,
             "#f7f7f7"
            ],
            [
             0.6,
             "#e6f5d0"
            ],
            [
             0.7,
             "#b8e186"
            ],
            [
             0.8,
             "#7fbc41"
            ],
            [
             0.9,
             "#4d9221"
            ],
            [
             1,
             "#276419"
            ]
           ],
           "sequential": [
            [
             0,
             "#0d0887"
            ],
            [
             0.1111111111111111,
             "#46039f"
            ],
            [
             0.2222222222222222,
             "#7201a8"
            ],
            [
             0.3333333333333333,
             "#9c179e"
            ],
            [
             0.4444444444444444,
             "#bd3786"
            ],
            [
             0.5555555555555556,
             "#d8576b"
            ],
            [
             0.6666666666666666,
             "#ed7953"
            ],
            [
             0.7777777777777778,
             "#fb9f3a"
            ],
            [
             0.8888888888888888,
             "#fdca26"
            ],
            [
             1,
             "#f0f921"
            ]
           ],
           "sequentialminus": [
            [
             0,
             "#0d0887"
            ],
            [
             0.1111111111111111,
             "#46039f"
            ],
            [
             0.2222222222222222,
             "#7201a8"
            ],
            [
             0.3333333333333333,
             "#9c179e"
            ],
            [
             0.4444444444444444,
             "#bd3786"
            ],
            [
             0.5555555555555556,
             "#d8576b"
            ],
            [
             0.6666666666666666,
             "#ed7953"
            ],
            [
             0.7777777777777778,
             "#fb9f3a"
            ],
            [
             0.8888888888888888,
             "#fdca26"
            ],
            [
             1,
             "#f0f921"
            ]
           ]
          },
          "colorway": [
           "#636efa",
           "#EF553B",
           "#00cc96",
           "#ab63fa",
           "#FFA15A",
           "#19d3f3",
           "#FF6692",
           "#B6E880",
           "#FF97FF",
           "#FECB52"
          ],
          "font": {
           "color": "#2a3f5f"
          },
          "geo": {
           "bgcolor": "white",
           "lakecolor": "white",
           "landcolor": "#E5ECF6",
           "showlakes": true,
           "showland": true,
           "subunitcolor": "white"
          },
          "hoverlabel": {
           "align": "left"
          },
          "hovermode": "closest",
          "mapbox": {
           "style": "light"
          },
          "paper_bgcolor": "white",
          "plot_bgcolor": "#E5ECF6",
          "polar": {
           "angularaxis": {
            "gridcolor": "white",
            "linecolor": "white",
            "ticks": ""
           },
           "bgcolor": "#E5ECF6",
           "radialaxis": {
            "gridcolor": "white",
            "linecolor": "white",
            "ticks": ""
           }
          },
          "scene": {
           "xaxis": {
            "backgroundcolor": "#E5ECF6",
            "gridcolor": "white",
            "gridwidth": 2,
            "linecolor": "white",
            "showbackground": true,
            "ticks": "",
            "zerolinecolor": "white"
           },
           "yaxis": {
            "backgroundcolor": "#E5ECF6",
            "gridcolor": "white",
            "gridwidth": 2,
            "linecolor": "white",
            "showbackground": true,
            "ticks": "",
            "zerolinecolor": "white"
           },
           "zaxis": {
            "backgroundcolor": "#E5ECF6",
            "gridcolor": "white",
            "gridwidth": 2,
            "linecolor": "white",
            "showbackground": true,
            "ticks": "",
            "zerolinecolor": "white"
           }
          },
          "shapedefaults": {
           "line": {
            "color": "#2a3f5f"
           }
          },
          "ternary": {
           "aaxis": {
            "gridcolor": "white",
            "linecolor": "white",
            "ticks": ""
           },
           "baxis": {
            "gridcolor": "white",
            "linecolor": "white",
            "ticks": ""
           },
           "bgcolor": "#E5ECF6",
           "caxis": {
            "gridcolor": "white",
            "linecolor": "white",
            "ticks": ""
           }
          },
          "title": {
           "x": 0.05
          },
          "xaxis": {
           "automargin": true,
           "gridcolor": "white",
           "linecolor": "white",
           "ticks": "",
           "title": {
            "standoff": 15
           },
           "zerolinecolor": "white",
           "zerolinewidth": 2
          },
          "yaxis": {
           "automargin": true,
           "gridcolor": "white",
           "linecolor": "white",
           "ticks": "",
           "title": {
            "standoff": 15
           },
           "zerolinecolor": "white",
           "zerolinewidth": 2
          }
         }
        },
        "title": {
         "text": "Year 1: Number of Donors"
        },
        "xaxis": {
         "anchor": "y",
         "domain": [
          0,
          1
         ],
         "title": {
          "text": "class"
         },
         "type": "category"
        },
        "yaxis": {
         "anchor": "x",
         "domain": [
          0,
          1
         ],
         "title": {
          "text": "no_donors"
         }
        }
       }
      },
      "text/html": [
       "<div>\n",
       "        \n",
       "        \n",
       "            <div id=\"f1a957af-0e99-4e0a-8ed0-3928bf2e25e3\" class=\"plotly-graph-div\" style=\"height:500px; width:100%;\"></div>\n",
       "            <script type=\"text/javascript\">\n",
       "                require([\"plotly\"], function(Plotly) {\n",
       "                    window.PLOTLYENV=window.PLOTLYENV || {};\n",
       "                    \n",
       "                if (document.getElementById(\"f1a957af-0e99-4e0a-8ed0-3928bf2e25e3\")) {\n",
       "                    Plotly.newPlot(\n",
       "                        'f1a957af-0e99-4e0a-8ed0-3928bf2e25e3',\n",
       "                        [{\"alignmentgroup\": \"True\", \"customdata\": [[2013, -257939, -25553], [2014, -272006, -24544], [2015, -309059, -27714], [2016, -389060, -12290], [2017, -405001, 0]], \"hovertemplate\": \"cohort_yr1_TF=TF<br>class=%{customdata[0]}<br>no_donors=%{customdata[1]}<br>count_yr2=%{customdata[2]}<extra></extra>\", \"legendgroup\": \"TF\", \"marker\": {\"color\": \"red\"}, \"name\": \"TF\", \"offsetgroup\": \"TF\", \"orientation\": \"v\", \"showlegend\": true, \"textposition\": \"auto\", \"type\": \"bar\", \"x\": [2013, 2014, 2015, 2016, 2017], \"xaxis\": \"x\", \"y\": [-257939, -272006, -309059, -389060, -405001], \"yaxis\": \"y\"}, {\"alignmentgroup\": \"True\", \"customdata\": [[2013, 62130, 157873], [2014, 48667, 65014], [2015, 46078, 70597], [2016, 56538, 33919], [2017, 29990, 0]], \"hovertemplate\": \"cohort_yr1_TF=TT<br>class=%{customdata[0]}<br>no_donors=%{customdata[1]}<br>count_yr2=%{customdata[2]}<extra></extra>\", \"legendgroup\": \"TT\", \"marker\": {\"color\": \"seagreen\"}, \"name\": \"TT\", \"offsetgroup\": \"TT\", \"orientation\": \"v\", \"showlegend\": true, \"textposition\": \"auto\", \"type\": \"bar\", \"x\": [2013, 2014, 2015, 2016, 2017], \"xaxis\": \"x\", \"y\": [62130, 48667, 46078, 56538, 29990], \"yaxis\": \"y\"}],\n",
       "                        {\"barmode\": \"relative\", \"height\": 500, \"legend\": {\"title\": {\"text\": \"cohort_yr1_TF\"}, \"tracegroupgap\": 0}, \"template\": {\"data\": {\"bar\": [{\"error_x\": {\"color\": \"#2a3f5f\"}, \"error_y\": {\"color\": \"#2a3f5f\"}, \"marker\": {\"line\": {\"color\": \"#E5ECF6\", \"width\": 0.5}}, \"type\": \"bar\"}], \"barpolar\": [{\"marker\": {\"line\": {\"color\": \"#E5ECF6\", \"width\": 0.5}}, \"type\": \"barpolar\"}], \"carpet\": [{\"aaxis\": {\"endlinecolor\": \"#2a3f5f\", \"gridcolor\": \"white\", \"linecolor\": \"white\", \"minorgridcolor\": \"white\", \"startlinecolor\": \"#2a3f5f\"}, \"baxis\": {\"endlinecolor\": \"#2a3f5f\", \"gridcolor\": \"white\", \"linecolor\": \"white\", \"minorgridcolor\": \"white\", \"startlinecolor\": \"#2a3f5f\"}, \"type\": \"carpet\"}], \"choropleth\": [{\"colorbar\": {\"outlinewidth\": 0, \"ticks\": \"\"}, \"type\": \"choropleth\"}], \"contour\": [{\"colorbar\": {\"outlinewidth\": 0, \"ticks\": \"\"}, \"colorscale\": [[0.0, \"#0d0887\"], [0.1111111111111111, \"#46039f\"], [0.2222222222222222, \"#7201a8\"], [0.3333333333333333, \"#9c179e\"], [0.4444444444444444, \"#bd3786\"], [0.5555555555555556, \"#d8576b\"], [0.6666666666666666, \"#ed7953\"], [0.7777777777777778, \"#fb9f3a\"], [0.8888888888888888, \"#fdca26\"], [1.0, \"#f0f921\"]], \"type\": \"contour\"}], \"contourcarpet\": [{\"colorbar\": {\"outlinewidth\": 0, \"ticks\": \"\"}, \"type\": \"contourcarpet\"}], \"heatmap\": [{\"colorbar\": {\"outlinewidth\": 0, \"ticks\": \"\"}, \"colorscale\": [[0.0, \"#0d0887\"], [0.1111111111111111, \"#46039f\"], [0.2222222222222222, \"#7201a8\"], [0.3333333333333333, \"#9c179e\"], [0.4444444444444444, \"#bd3786\"], [0.5555555555555556, \"#d8576b\"], [0.6666666666666666, \"#ed7953\"], [0.7777777777777778, \"#fb9f3a\"], [0.8888888888888888, \"#fdca26\"], [1.0, \"#f0f921\"]], \"type\": \"heatmap\"}], \"heatmapgl\": [{\"colorbar\": {\"outlinewidth\": 0, \"ticks\": \"\"}, \"colorscale\": [[0.0, \"#0d0887\"], [0.1111111111111111, \"#46039f\"], [0.2222222222222222, \"#7201a8\"], [0.3333333333333333, \"#9c179e\"], [0.4444444444444444, \"#bd3786\"], [0.5555555555555556, \"#d8576b\"], [0.6666666666666666, \"#ed7953\"], [0.7777777777777778, \"#fb9f3a\"], [0.8888888888888888, \"#fdca26\"], [1.0, \"#f0f921\"]], \"type\": \"heatmapgl\"}], \"histogram\": [{\"marker\": {\"colorbar\": {\"outlinewidth\": 0, \"ticks\": \"\"}}, \"type\": \"histogram\"}], \"histogram2d\": [{\"colorbar\": {\"outlinewidth\": 0, \"ticks\": \"\"}, \"colorscale\": [[0.0, \"#0d0887\"], [0.1111111111111111, \"#46039f\"], [0.2222222222222222, \"#7201a8\"], [0.3333333333333333, \"#9c179e\"], [0.4444444444444444, \"#bd3786\"], [0.5555555555555556, \"#d8576b\"], [0.6666666666666666, \"#ed7953\"], [0.7777777777777778, \"#fb9f3a\"], [0.8888888888888888, \"#fdca26\"], [1.0, \"#f0f921\"]], \"type\": \"histogram2d\"}], \"histogram2dcontour\": [{\"colorbar\": {\"outlinewidth\": 0, \"ticks\": \"\"}, \"colorscale\": [[0.0, \"#0d0887\"], [0.1111111111111111, \"#46039f\"], [0.2222222222222222, \"#7201a8\"], [0.3333333333333333, \"#9c179e\"], [0.4444444444444444, \"#bd3786\"], [0.5555555555555556, \"#d8576b\"], [0.6666666666666666, \"#ed7953\"], [0.7777777777777778, \"#fb9f3a\"], [0.8888888888888888, \"#fdca26\"], [1.0, \"#f0f921\"]], \"type\": \"histogram2dcontour\"}], \"mesh3d\": [{\"colorbar\": {\"outlinewidth\": 0, \"ticks\": \"\"}, \"type\": \"mesh3d\"}], \"parcoords\": [{\"line\": {\"colorbar\": {\"outlinewidth\": 0, \"ticks\": \"\"}}, \"type\": \"parcoords\"}], \"pie\": [{\"automargin\": true, \"type\": \"pie\"}], \"scatter\": [{\"marker\": {\"colorbar\": {\"outlinewidth\": 0, \"ticks\": \"\"}}, \"type\": \"scatter\"}], \"scatter3d\": [{\"line\": {\"colorbar\": {\"outlinewidth\": 0, \"ticks\": \"\"}}, \"marker\": {\"colorbar\": {\"outlinewidth\": 0, \"ticks\": \"\"}}, \"type\": \"scatter3d\"}], \"scattercarpet\": [{\"marker\": {\"colorbar\": {\"outlinewidth\": 0, \"ticks\": \"\"}}, \"type\": \"scattercarpet\"}], \"scattergeo\": [{\"marker\": {\"colorbar\": {\"outlinewidth\": 0, \"ticks\": \"\"}}, \"type\": \"scattergeo\"}], \"scattergl\": [{\"marker\": {\"colorbar\": {\"outlinewidth\": 0, \"ticks\": \"\"}}, \"type\": \"scattergl\"}], \"scattermapbox\": [{\"marker\": {\"colorbar\": {\"outlinewidth\": 0, \"ticks\": \"\"}}, \"type\": \"scattermapbox\"}], \"scatterpolar\": [{\"marker\": {\"colorbar\": {\"outlinewidth\": 0, \"ticks\": \"\"}}, \"type\": \"scatterpolar\"}], \"scatterpolargl\": [{\"marker\": {\"colorbar\": {\"outlinewidth\": 0, \"ticks\": \"\"}}, \"type\": \"scatterpolargl\"}], \"scatterternary\": [{\"marker\": {\"colorbar\": {\"outlinewidth\": 0, \"ticks\": \"\"}}, \"type\": \"scatterternary\"}], \"surface\": [{\"colorbar\": {\"outlinewidth\": 0, \"ticks\": \"\"}, \"colorscale\": [[0.0, \"#0d0887\"], [0.1111111111111111, \"#46039f\"], [0.2222222222222222, \"#7201a8\"], [0.3333333333333333, \"#9c179e\"], [0.4444444444444444, \"#bd3786\"], [0.5555555555555556, \"#d8576b\"], [0.6666666666666666, \"#ed7953\"], [0.7777777777777778, \"#fb9f3a\"], [0.8888888888888888, \"#fdca26\"], [1.0, \"#f0f921\"]], \"type\": \"surface\"}], \"table\": [{\"cells\": {\"fill\": {\"color\": \"#EBF0F8\"}, \"line\": {\"color\": \"white\"}}, \"header\": {\"fill\": {\"color\": \"#C8D4E3\"}, \"line\": {\"color\": \"white\"}}, \"type\": \"table\"}]}, \"layout\": {\"annotationdefaults\": {\"arrowcolor\": \"#2a3f5f\", \"arrowhead\": 0, \"arrowwidth\": 1}, \"coloraxis\": {\"colorbar\": {\"outlinewidth\": 0, \"ticks\": \"\"}}, \"colorscale\": {\"diverging\": [[0, \"#8e0152\"], [0.1, \"#c51b7d\"], [0.2, \"#de77ae\"], [0.3, \"#f1b6da\"], [0.4, \"#fde0ef\"], [0.5, \"#f7f7f7\"], [0.6, \"#e6f5d0\"], [0.7, \"#b8e186\"], [0.8, \"#7fbc41\"], [0.9, \"#4d9221\"], [1, \"#276419\"]], \"sequential\": [[0.0, \"#0d0887\"], [0.1111111111111111, \"#46039f\"], [0.2222222222222222, \"#7201a8\"], [0.3333333333333333, \"#9c179e\"], [0.4444444444444444, \"#bd3786\"], [0.5555555555555556, \"#d8576b\"], [0.6666666666666666, \"#ed7953\"], [0.7777777777777778, \"#fb9f3a\"], [0.8888888888888888, \"#fdca26\"], [1.0, \"#f0f921\"]], \"sequentialminus\": [[0.0, \"#0d0887\"], [0.1111111111111111, \"#46039f\"], [0.2222222222222222, \"#7201a8\"], [0.3333333333333333, \"#9c179e\"], [0.4444444444444444, \"#bd3786\"], [0.5555555555555556, \"#d8576b\"], [0.6666666666666666, \"#ed7953\"], [0.7777777777777778, \"#fb9f3a\"], [0.8888888888888888, \"#fdca26\"], [1.0, \"#f0f921\"]]}, \"colorway\": [\"#636efa\", \"#EF553B\", \"#00cc96\", \"#ab63fa\", \"#FFA15A\", \"#19d3f3\", \"#FF6692\", \"#B6E880\", \"#FF97FF\", \"#FECB52\"], \"font\": {\"color\": \"#2a3f5f\"}, \"geo\": {\"bgcolor\": \"white\", \"lakecolor\": \"white\", \"landcolor\": \"#E5ECF6\", \"showlakes\": true, \"showland\": true, \"subunitcolor\": \"white\"}, \"hoverlabel\": {\"align\": \"left\"}, \"hovermode\": \"closest\", \"mapbox\": {\"style\": \"light\"}, \"paper_bgcolor\": \"white\", \"plot_bgcolor\": \"#E5ECF6\", \"polar\": {\"angularaxis\": {\"gridcolor\": \"white\", \"linecolor\": \"white\", \"ticks\": \"\"}, \"bgcolor\": \"#E5ECF6\", \"radialaxis\": {\"gridcolor\": \"white\", \"linecolor\": \"white\", \"ticks\": \"\"}}, \"scene\": {\"xaxis\": {\"backgroundcolor\": \"#E5ECF6\", \"gridcolor\": \"white\", \"gridwidth\": 2, \"linecolor\": \"white\", \"showbackground\": true, \"ticks\": \"\", \"zerolinecolor\": \"white\"}, \"yaxis\": {\"backgroundcolor\": \"#E5ECF6\", \"gridcolor\": \"white\", \"gridwidth\": 2, \"linecolor\": \"white\", \"showbackground\": true, \"ticks\": \"\", \"zerolinecolor\": \"white\"}, \"zaxis\": {\"backgroundcolor\": \"#E5ECF6\", \"gridcolor\": \"white\", \"gridwidth\": 2, \"linecolor\": \"white\", \"showbackground\": true, \"ticks\": \"\", \"zerolinecolor\": \"white\"}}, \"shapedefaults\": {\"line\": {\"color\": \"#2a3f5f\"}}, \"ternary\": {\"aaxis\": {\"gridcolor\": \"white\", \"linecolor\": \"white\", \"ticks\": \"\"}, \"baxis\": {\"gridcolor\": \"white\", \"linecolor\": \"white\", \"ticks\": \"\"}, \"bgcolor\": \"#E5ECF6\", \"caxis\": {\"gridcolor\": \"white\", \"linecolor\": \"white\", \"ticks\": \"\"}}, \"title\": {\"x\": 0.05}, \"xaxis\": {\"automargin\": true, \"gridcolor\": \"white\", \"linecolor\": \"white\", \"ticks\": \"\", \"title\": {\"standoff\": 15}, \"zerolinecolor\": \"white\", \"zerolinewidth\": 2}, \"yaxis\": {\"automargin\": true, \"gridcolor\": \"white\", \"linecolor\": \"white\", \"ticks\": \"\", \"title\": {\"standoff\": 15}, \"zerolinecolor\": \"white\", \"zerolinewidth\": 2}}}, \"title\": {\"text\": \"Year 1: Number of Donors\"}, \"xaxis\": {\"anchor\": \"y\", \"domain\": [0.0, 1.0], \"title\": {\"text\": \"class\"}, \"type\": \"category\"}, \"yaxis\": {\"anchor\": \"x\", \"domain\": [0.0, 1.0], \"title\": {\"text\": \"no_donors\"}}},\n",
       "                        {\"responsive\": true}\n",
       "                    ).then(function(){\n",
       "                            \n",
       "var gd = document.getElementById('f1a957af-0e99-4e0a-8ed0-3928bf2e25e3');\n",
       "var x = new MutationObserver(function (mutations, observer) {{\n",
       "        var display = window.getComputedStyle(gd).display;\n",
       "        if (!display || display === 'none') {{\n",
       "            console.log([gd, 'removed!']);\n",
       "            Plotly.purge(gd);\n",
       "            observer.disconnect();\n",
       "        }}\n",
       "}});\n",
       "\n",
       "// Listen for the removal of the full notebook cells\n",
       "var notebookContainer = gd.closest('#notebook-container');\n",
       "if (notebookContainer) {{\n",
       "    x.observe(notebookContainer, {childList: true});\n",
       "}}\n",
       "\n",
       "// Listen for the clearing of the current output cell\n",
       "var outputEl = gd.closest('.output');\n",
       "if (outputEl) {{\n",
       "    x.observe(outputEl, {childList: true});\n",
       "}}\n",
       "\n",
       "                        })\n",
       "                };\n",
       "                });\n",
       "            </script>\n",
       "        </div>"
      ]
     },
     "metadata": {},
     "output_type": "display_data"
    }
   ],
   "source": [
    "fig = px.bar(df5_y1, x=\"cohort\", y='no_donors', color='cohort_yr1_TF',\n",
    "            title=\"Year 1: Number of Donors\",\n",
    "            color_discrete_sequence =['red','seagreen', 'tomato', 'mediumseagreen'],\n",
    "            hover_data=['cohort', 'no_donors', 'count_yr2'],\n",
    "             labels={'cohort':'class'}, height=500)\n",
    " #barmode='group', labels={'index':'year', 'y':'amount ($)'}, \n",
    "fig.update_xaxes(type='category')\n",
    "fig.show()"
   ]
  },
  {
   "cell_type": "code",
   "execution_count": 126,
   "metadata": {},
   "outputs": [
    {
     "data": {
      "application/vnd.plotly.v1+json": {
       "config": {
        "plotlyServerURL": "https://plot.ly"
       },
       "data": [
        {
         "alignmentgroup": "True",
         "customdata": [
          [
           2013,
           -241786,
           0
          ],
          [
           2014,
           -256220,
           0
          ],
          [
           2015,
           -292539,
           0
          ],
          [
           2016,
           -380722,
           0
          ]
         ],
         "hovertemplate": "cohort_yr2_TF=TFF<br>class=%{customdata[0]}<br>no_donors=%{customdata[1]}<br>count_yr2=%{customdata[2]}<extra></extra>",
         "legendgroup": "TFF",
         "marker": {
          "color": "tomato"
         },
         "name": "TFF",
         "offsetgroup": "TFF",
         "orientation": "v",
         "showlegend": true,
         "textposition": "auto",
         "type": "bar",
         "x": [
          2013,
          2014,
          2015,
          2016
         ],
         "xaxis": "x",
         "y": [
          -241786,
          -256220,
          -292539,
          -380722
         ],
         "yaxis": "y"
        },
        {
         "alignmentgroup": "True",
         "customdata": [
          [
           2013,
           16153,
           25553
          ],
          [
           2014,
           15786,
           24544
          ],
          [
           2015,
           16520,
           27714
          ],
          [
           2016,
           8338,
           12290
          ]
         ],
         "hovertemplate": "cohort_yr2_TF=TFT<br>class=%{customdata[0]}<br>no_donors=%{customdata[1]}<br>count_yr2=%{customdata[2]}<extra></extra>",
         "legendgroup": "TFT",
         "marker": {
          "color": "seagreen"
         },
         "name": "TFT",
         "offsetgroup": "TFT",
         "orientation": "v",
         "showlegend": true,
         "textposition": "auto",
         "type": "bar",
         "x": [
          2013,
          2014,
          2015,
          2016
         ],
         "xaxis": "x",
         "y": [
          16153,
          15786,
          16520,
          8338
         ],
         "yaxis": "y"
        },
        {
         "alignmentgroup": "True",
         "customdata": [
          [
           2013,
           -36050,
           0
          ],
          [
           2014,
           -32928,
           0
          ],
          [
           2015,
           -30755,
           0
          ],
          [
           2016,
           -46203,
           0
          ]
         ],
         "hovertemplate": "cohort_yr2_TF=TTF<br>class=%{customdata[0]}<br>no_donors=%{customdata[1]}<br>count_yr2=%{customdata[2]}<extra></extra>",
         "legendgroup": "TTF",
         "marker": {
          "color": "red"
         },
         "name": "TTF",
         "offsetgroup": "TTF",
         "orientation": "v",
         "showlegend": true,
         "textposition": "auto",
         "type": "bar",
         "x": [
          2013,
          2014,
          2015,
          2016
         ],
         "xaxis": "x",
         "y": [
          -36050,
          -32928,
          -30755,
          -46203
         ],
         "yaxis": "y"
        },
        {
         "alignmentgroup": "True",
         "customdata": [
          [
           2013,
           26080,
           157873
          ],
          [
           2014,
           15739,
           65014
          ],
          [
           2015,
           15323,
           70597
          ],
          [
           2016,
           10335,
           33919
          ]
         ],
         "hovertemplate": "cohort_yr2_TF=TTT<br>class=%{customdata[0]}<br>no_donors=%{customdata[1]}<br>count_yr2=%{customdata[2]}<extra></extra>",
         "legendgroup": "TTT",
         "marker": {
          "color": "mediumseagreen"
         },
         "name": "TTT",
         "offsetgroup": "TTT",
         "orientation": "v",
         "showlegend": true,
         "textposition": "auto",
         "type": "bar",
         "x": [
          2013,
          2014,
          2015,
          2016
         ],
         "xaxis": "x",
         "y": [
          26080,
          15739,
          15323,
          10335
         ],
         "yaxis": "y"
        }
       ],
       "layout": {
        "barmode": "relative",
        "height": 500,
        "legend": {
         "title": {
          "text": "cohort_yr2_TF"
         },
         "tracegroupgap": 0
        },
        "template": {
         "data": {
          "bar": [
           {
            "error_x": {
             "color": "#2a3f5f"
            },
            "error_y": {
             "color": "#2a3f5f"
            },
            "marker": {
             "line": {
              "color": "#E5ECF6",
              "width": 0.5
             }
            },
            "type": "bar"
           }
          ],
          "barpolar": [
           {
            "marker": {
             "line": {
              "color": "#E5ECF6",
              "width": 0.5
             }
            },
            "type": "barpolar"
           }
          ],
          "carpet": [
           {
            "aaxis": {
             "endlinecolor": "#2a3f5f",
             "gridcolor": "white",
             "linecolor": "white",
             "minorgridcolor": "white",
             "startlinecolor": "#2a3f5f"
            },
            "baxis": {
             "endlinecolor": "#2a3f5f",
             "gridcolor": "white",
             "linecolor": "white",
             "minorgridcolor": "white",
             "startlinecolor": "#2a3f5f"
            },
            "type": "carpet"
           }
          ],
          "choropleth": [
           {
            "colorbar": {
             "outlinewidth": 0,
             "ticks": ""
            },
            "type": "choropleth"
           }
          ],
          "contour": [
           {
            "colorbar": {
             "outlinewidth": 0,
             "ticks": ""
            },
            "colorscale": [
             [
              0,
              "#0d0887"
             ],
             [
              0.1111111111111111,
              "#46039f"
             ],
             [
              0.2222222222222222,
              "#7201a8"
             ],
             [
              0.3333333333333333,
              "#9c179e"
             ],
             [
              0.4444444444444444,
              "#bd3786"
             ],
             [
              0.5555555555555556,
              "#d8576b"
             ],
             [
              0.6666666666666666,
              "#ed7953"
             ],
             [
              0.7777777777777778,
              "#fb9f3a"
             ],
             [
              0.8888888888888888,
              "#fdca26"
             ],
             [
              1,
              "#f0f921"
             ]
            ],
            "type": "contour"
           }
          ],
          "contourcarpet": [
           {
            "colorbar": {
             "outlinewidth": 0,
             "ticks": ""
            },
            "type": "contourcarpet"
           }
          ],
          "heatmap": [
           {
            "colorbar": {
             "outlinewidth": 0,
             "ticks": ""
            },
            "colorscale": [
             [
              0,
              "#0d0887"
             ],
             [
              0.1111111111111111,
              "#46039f"
             ],
             [
              0.2222222222222222,
              "#7201a8"
             ],
             [
              0.3333333333333333,
              "#9c179e"
             ],
             [
              0.4444444444444444,
              "#bd3786"
             ],
             [
              0.5555555555555556,
              "#d8576b"
             ],
             [
              0.6666666666666666,
              "#ed7953"
             ],
             [
              0.7777777777777778,
              "#fb9f3a"
             ],
             [
              0.8888888888888888,
              "#fdca26"
             ],
             [
              1,
              "#f0f921"
             ]
            ],
            "type": "heatmap"
           }
          ],
          "heatmapgl": [
           {
            "colorbar": {
             "outlinewidth": 0,
             "ticks": ""
            },
            "colorscale": [
             [
              0,
              "#0d0887"
             ],
             [
              0.1111111111111111,
              "#46039f"
             ],
             [
              0.2222222222222222,
              "#7201a8"
             ],
             [
              0.3333333333333333,
              "#9c179e"
             ],
             [
              0.4444444444444444,
              "#bd3786"
             ],
             [
              0.5555555555555556,
              "#d8576b"
             ],
             [
              0.6666666666666666,
              "#ed7953"
             ],
             [
              0.7777777777777778,
              "#fb9f3a"
             ],
             [
              0.8888888888888888,
              "#fdca26"
             ],
             [
              1,
              "#f0f921"
             ]
            ],
            "type": "heatmapgl"
           }
          ],
          "histogram": [
           {
            "marker": {
             "colorbar": {
              "outlinewidth": 0,
              "ticks": ""
             }
            },
            "type": "histogram"
           }
          ],
          "histogram2d": [
           {
            "colorbar": {
             "outlinewidth": 0,
             "ticks": ""
            },
            "colorscale": [
             [
              0,
              "#0d0887"
             ],
             [
              0.1111111111111111,
              "#46039f"
             ],
             [
              0.2222222222222222,
              "#7201a8"
             ],
             [
              0.3333333333333333,
              "#9c179e"
             ],
             [
              0.4444444444444444,
              "#bd3786"
             ],
             [
              0.5555555555555556,
              "#d8576b"
             ],
             [
              0.6666666666666666,
              "#ed7953"
             ],
             [
              0.7777777777777778,
              "#fb9f3a"
             ],
             [
              0.8888888888888888,
              "#fdca26"
             ],
             [
              1,
              "#f0f921"
             ]
            ],
            "type": "histogram2d"
           }
          ],
          "histogram2dcontour": [
           {
            "colorbar": {
             "outlinewidth": 0,
             "ticks": ""
            },
            "colorscale": [
             [
              0,
              "#0d0887"
             ],
             [
              0.1111111111111111,
              "#46039f"
             ],
             [
              0.2222222222222222,
              "#7201a8"
             ],
             [
              0.3333333333333333,
              "#9c179e"
             ],
             [
              0.4444444444444444,
              "#bd3786"
             ],
             [
              0.5555555555555556,
              "#d8576b"
             ],
             [
              0.6666666666666666,
              "#ed7953"
             ],
             [
              0.7777777777777778,
              "#fb9f3a"
             ],
             [
              0.8888888888888888,
              "#fdca26"
             ],
             [
              1,
              "#f0f921"
             ]
            ],
            "type": "histogram2dcontour"
           }
          ],
          "mesh3d": [
           {
            "colorbar": {
             "outlinewidth": 0,
             "ticks": ""
            },
            "type": "mesh3d"
           }
          ],
          "parcoords": [
           {
            "line": {
             "colorbar": {
              "outlinewidth": 0,
              "ticks": ""
             }
            },
            "type": "parcoords"
           }
          ],
          "pie": [
           {
            "automargin": true,
            "type": "pie"
           }
          ],
          "scatter": [
           {
            "marker": {
             "colorbar": {
              "outlinewidth": 0,
              "ticks": ""
             }
            },
            "type": "scatter"
           }
          ],
          "scatter3d": [
           {
            "line": {
             "colorbar": {
              "outlinewidth": 0,
              "ticks": ""
             }
            },
            "marker": {
             "colorbar": {
              "outlinewidth": 0,
              "ticks": ""
             }
            },
            "type": "scatter3d"
           }
          ],
          "scattercarpet": [
           {
            "marker": {
             "colorbar": {
              "outlinewidth": 0,
              "ticks": ""
             }
            },
            "type": "scattercarpet"
           }
          ],
          "scattergeo": [
           {
            "marker": {
             "colorbar": {
              "outlinewidth": 0,
              "ticks": ""
             }
            },
            "type": "scattergeo"
           }
          ],
          "scattergl": [
           {
            "marker": {
             "colorbar": {
              "outlinewidth": 0,
              "ticks": ""
             }
            },
            "type": "scattergl"
           }
          ],
          "scattermapbox": [
           {
            "marker": {
             "colorbar": {
              "outlinewidth": 0,
              "ticks": ""
             }
            },
            "type": "scattermapbox"
           }
          ],
          "scatterpolar": [
           {
            "marker": {
             "colorbar": {
              "outlinewidth": 0,
              "ticks": ""
             }
            },
            "type": "scatterpolar"
           }
          ],
          "scatterpolargl": [
           {
            "marker": {
             "colorbar": {
              "outlinewidth": 0,
              "ticks": ""
             }
            },
            "type": "scatterpolargl"
           }
          ],
          "scatterternary": [
           {
            "marker": {
             "colorbar": {
              "outlinewidth": 0,
              "ticks": ""
             }
            },
            "type": "scatterternary"
           }
          ],
          "surface": [
           {
            "colorbar": {
             "outlinewidth": 0,
             "ticks": ""
            },
            "colorscale": [
             [
              0,
              "#0d0887"
             ],
             [
              0.1111111111111111,
              "#46039f"
             ],
             [
              0.2222222222222222,
              "#7201a8"
             ],
             [
              0.3333333333333333,
              "#9c179e"
             ],
             [
              0.4444444444444444,
              "#bd3786"
             ],
             [
              0.5555555555555556,
              "#d8576b"
             ],
             [
              0.6666666666666666,
              "#ed7953"
             ],
             [
              0.7777777777777778,
              "#fb9f3a"
             ],
             [
              0.8888888888888888,
              "#fdca26"
             ],
             [
              1,
              "#f0f921"
             ]
            ],
            "type": "surface"
           }
          ],
          "table": [
           {
            "cells": {
             "fill": {
              "color": "#EBF0F8"
             },
             "line": {
              "color": "white"
             }
            },
            "header": {
             "fill": {
              "color": "#C8D4E3"
             },
             "line": {
              "color": "white"
             }
            },
            "type": "table"
           }
          ]
         },
         "layout": {
          "annotationdefaults": {
           "arrowcolor": "#2a3f5f",
           "arrowhead": 0,
           "arrowwidth": 1
          },
          "coloraxis": {
           "colorbar": {
            "outlinewidth": 0,
            "ticks": ""
           }
          },
          "colorscale": {
           "diverging": [
            [
             0,
             "#8e0152"
            ],
            [
             0.1,
             "#c51b7d"
            ],
            [
             0.2,
             "#de77ae"
            ],
            [
             0.3,
             "#f1b6da"
            ],
            [
             0.4,
             "#fde0ef"
            ],
            [
             0.5,
             "#f7f7f7"
            ],
            [
             0.6,
             "#e6f5d0"
            ],
            [
             0.7,
             "#b8e186"
            ],
            [
             0.8,
             "#7fbc41"
            ],
            [
             0.9,
             "#4d9221"
            ],
            [
             1,
             "#276419"
            ]
           ],
           "sequential": [
            [
             0,
             "#0d0887"
            ],
            [
             0.1111111111111111,
             "#46039f"
            ],
            [
             0.2222222222222222,
             "#7201a8"
            ],
            [
             0.3333333333333333,
             "#9c179e"
            ],
            [
             0.4444444444444444,
             "#bd3786"
            ],
            [
             0.5555555555555556,
             "#d8576b"
            ],
            [
             0.6666666666666666,
             "#ed7953"
            ],
            [
             0.7777777777777778,
             "#fb9f3a"
            ],
            [
             0.8888888888888888,
             "#fdca26"
            ],
            [
             1,
             "#f0f921"
            ]
           ],
           "sequentialminus": [
            [
             0,
             "#0d0887"
            ],
            [
             0.1111111111111111,
             "#46039f"
            ],
            [
             0.2222222222222222,
             "#7201a8"
            ],
            [
             0.3333333333333333,
             "#9c179e"
            ],
            [
             0.4444444444444444,
             "#bd3786"
            ],
            [
             0.5555555555555556,
             "#d8576b"
            ],
            [
             0.6666666666666666,
             "#ed7953"
            ],
            [
             0.7777777777777778,
             "#fb9f3a"
            ],
            [
             0.8888888888888888,
             "#fdca26"
            ],
            [
             1,
             "#f0f921"
            ]
           ]
          },
          "colorway": [
           "#636efa",
           "#EF553B",
           "#00cc96",
           "#ab63fa",
           "#FFA15A",
           "#19d3f3",
           "#FF6692",
           "#B6E880",
           "#FF97FF",
           "#FECB52"
          ],
          "font": {
           "color": "#2a3f5f"
          },
          "geo": {
           "bgcolor": "white",
           "lakecolor": "white",
           "landcolor": "#E5ECF6",
           "showlakes": true,
           "showland": true,
           "subunitcolor": "white"
          },
          "hoverlabel": {
           "align": "left"
          },
          "hovermode": "closest",
          "mapbox": {
           "style": "light"
          },
          "paper_bgcolor": "white",
          "plot_bgcolor": "#E5ECF6",
          "polar": {
           "angularaxis": {
            "gridcolor": "white",
            "linecolor": "white",
            "ticks": ""
           },
           "bgcolor": "#E5ECF6",
           "radialaxis": {
            "gridcolor": "white",
            "linecolor": "white",
            "ticks": ""
           }
          },
          "scene": {
           "xaxis": {
            "backgroundcolor": "#E5ECF6",
            "gridcolor": "white",
            "gridwidth": 2,
            "linecolor": "white",
            "showbackground": true,
            "ticks": "",
            "zerolinecolor": "white"
           },
           "yaxis": {
            "backgroundcolor": "#E5ECF6",
            "gridcolor": "white",
            "gridwidth": 2,
            "linecolor": "white",
            "showbackground": true,
            "ticks": "",
            "zerolinecolor": "white"
           },
           "zaxis": {
            "backgroundcolor": "#E5ECF6",
            "gridcolor": "white",
            "gridwidth": 2,
            "linecolor": "white",
            "showbackground": true,
            "ticks": "",
            "zerolinecolor": "white"
           }
          },
          "shapedefaults": {
           "line": {
            "color": "#2a3f5f"
           }
          },
          "ternary": {
           "aaxis": {
            "gridcolor": "white",
            "linecolor": "white",
            "ticks": ""
           },
           "baxis": {
            "gridcolor": "white",
            "linecolor": "white",
            "ticks": ""
           },
           "bgcolor": "#E5ECF6",
           "caxis": {
            "gridcolor": "white",
            "linecolor": "white",
            "ticks": ""
           }
          },
          "title": {
           "x": 0.05
          },
          "xaxis": {
           "automargin": true,
           "gridcolor": "white",
           "linecolor": "white",
           "ticks": "",
           "title": {
            "standoff": 15
           },
           "zerolinecolor": "white",
           "zerolinewidth": 2
          },
          "yaxis": {
           "automargin": true,
           "gridcolor": "white",
           "linecolor": "white",
           "ticks": "",
           "title": {
            "standoff": 15
           },
           "zerolinecolor": "white",
           "zerolinewidth": 2
          }
         }
        },
        "title": {
         "text": "Year 2: Number of Donors"
        },
        "xaxis": {
         "anchor": "y",
         "domain": [
          0,
          1
         ],
         "title": {
          "text": "class"
         },
         "type": "category"
        },
        "yaxis": {
         "anchor": "x",
         "domain": [
          0,
          1
         ],
         "title": {
          "text": "no_donors"
         }
        }
       }
      },
      "text/html": [
       "<div>\n",
       "        \n",
       "        \n",
       "            <div id=\"a8ab3165-3dba-457b-8bbb-b230cae82549\" class=\"plotly-graph-div\" style=\"height:500px; width:100%;\"></div>\n",
       "            <script type=\"text/javascript\">\n",
       "                require([\"plotly\"], function(Plotly) {\n",
       "                    window.PLOTLYENV=window.PLOTLYENV || {};\n",
       "                    \n",
       "                if (document.getElementById(\"a8ab3165-3dba-457b-8bbb-b230cae82549\")) {\n",
       "                    Plotly.newPlot(\n",
       "                        'a8ab3165-3dba-457b-8bbb-b230cae82549',\n",
       "                        [{\"alignmentgroup\": \"True\", \"customdata\": [[2013, -241786, 0], [2014, -256220, 0], [2015, -292539, 0], [2016, -380722, 0]], \"hovertemplate\": \"cohort_yr2_TF=TFF<br>class=%{customdata[0]}<br>no_donors=%{customdata[1]}<br>count_yr2=%{customdata[2]}<extra></extra>\", \"legendgroup\": \"TFF\", \"marker\": {\"color\": \"tomato\"}, \"name\": \"TFF\", \"offsetgroup\": \"TFF\", \"orientation\": \"v\", \"showlegend\": true, \"textposition\": \"auto\", \"type\": \"bar\", \"x\": [2013, 2014, 2015, 2016], \"xaxis\": \"x\", \"y\": [-241786, -256220, -292539, -380722], \"yaxis\": \"y\"}, {\"alignmentgroup\": \"True\", \"customdata\": [[2013, 16153, 25553], [2014, 15786, 24544], [2015, 16520, 27714], [2016, 8338, 12290]], \"hovertemplate\": \"cohort_yr2_TF=TFT<br>class=%{customdata[0]}<br>no_donors=%{customdata[1]}<br>count_yr2=%{customdata[2]}<extra></extra>\", \"legendgroup\": \"TFT\", \"marker\": {\"color\": \"seagreen\"}, \"name\": \"TFT\", \"offsetgroup\": \"TFT\", \"orientation\": \"v\", \"showlegend\": true, \"textposition\": \"auto\", \"type\": \"bar\", \"x\": [2013, 2014, 2015, 2016], \"xaxis\": \"x\", \"y\": [16153, 15786, 16520, 8338], \"yaxis\": \"y\"}, {\"alignmentgroup\": \"True\", \"customdata\": [[2013, -36050, 0], [2014, -32928, 0], [2015, -30755, 0], [2016, -46203, 0]], \"hovertemplate\": \"cohort_yr2_TF=TTF<br>class=%{customdata[0]}<br>no_donors=%{customdata[1]}<br>count_yr2=%{customdata[2]}<extra></extra>\", \"legendgroup\": \"TTF\", \"marker\": {\"color\": \"red\"}, \"name\": \"TTF\", \"offsetgroup\": \"TTF\", \"orientation\": \"v\", \"showlegend\": true, \"textposition\": \"auto\", \"type\": \"bar\", \"x\": [2013, 2014, 2015, 2016], \"xaxis\": \"x\", \"y\": [-36050, -32928, -30755, -46203], \"yaxis\": \"y\"}, {\"alignmentgroup\": \"True\", \"customdata\": [[2013, 26080, 157873], [2014, 15739, 65014], [2015, 15323, 70597], [2016, 10335, 33919]], \"hovertemplate\": \"cohort_yr2_TF=TTT<br>class=%{customdata[0]}<br>no_donors=%{customdata[1]}<br>count_yr2=%{customdata[2]}<extra></extra>\", \"legendgroup\": \"TTT\", \"marker\": {\"color\": \"mediumseagreen\"}, \"name\": \"TTT\", \"offsetgroup\": \"TTT\", \"orientation\": \"v\", \"showlegend\": true, \"textposition\": \"auto\", \"type\": \"bar\", \"x\": [2013, 2014, 2015, 2016], \"xaxis\": \"x\", \"y\": [26080, 15739, 15323, 10335], \"yaxis\": \"y\"}],\n",
       "                        {\"barmode\": \"relative\", \"height\": 500, \"legend\": {\"title\": {\"text\": \"cohort_yr2_TF\"}, \"tracegroupgap\": 0}, \"template\": {\"data\": {\"bar\": [{\"error_x\": {\"color\": \"#2a3f5f\"}, \"error_y\": {\"color\": \"#2a3f5f\"}, \"marker\": {\"line\": {\"color\": \"#E5ECF6\", \"width\": 0.5}}, \"type\": \"bar\"}], \"barpolar\": [{\"marker\": {\"line\": {\"color\": \"#E5ECF6\", \"width\": 0.5}}, \"type\": \"barpolar\"}], \"carpet\": [{\"aaxis\": {\"endlinecolor\": \"#2a3f5f\", \"gridcolor\": \"white\", \"linecolor\": \"white\", \"minorgridcolor\": \"white\", \"startlinecolor\": \"#2a3f5f\"}, \"baxis\": {\"endlinecolor\": \"#2a3f5f\", \"gridcolor\": \"white\", \"linecolor\": \"white\", \"minorgridcolor\": \"white\", \"startlinecolor\": \"#2a3f5f\"}, \"type\": \"carpet\"}], \"choropleth\": [{\"colorbar\": {\"outlinewidth\": 0, \"ticks\": \"\"}, \"type\": \"choropleth\"}], \"contour\": [{\"colorbar\": {\"outlinewidth\": 0, \"ticks\": \"\"}, \"colorscale\": [[0.0, \"#0d0887\"], [0.1111111111111111, \"#46039f\"], [0.2222222222222222, \"#7201a8\"], [0.3333333333333333, \"#9c179e\"], [0.4444444444444444, \"#bd3786\"], [0.5555555555555556, \"#d8576b\"], [0.6666666666666666, \"#ed7953\"], [0.7777777777777778, \"#fb9f3a\"], [0.8888888888888888, \"#fdca26\"], [1.0, \"#f0f921\"]], \"type\": \"contour\"}], \"contourcarpet\": [{\"colorbar\": {\"outlinewidth\": 0, \"ticks\": \"\"}, \"type\": \"contourcarpet\"}], \"heatmap\": [{\"colorbar\": {\"outlinewidth\": 0, \"ticks\": \"\"}, \"colorscale\": [[0.0, \"#0d0887\"], [0.1111111111111111, \"#46039f\"], [0.2222222222222222, \"#7201a8\"], [0.3333333333333333, \"#9c179e\"], [0.4444444444444444, \"#bd3786\"], [0.5555555555555556, \"#d8576b\"], [0.6666666666666666, \"#ed7953\"], [0.7777777777777778, \"#fb9f3a\"], [0.8888888888888888, \"#fdca26\"], [1.0, \"#f0f921\"]], \"type\": \"heatmap\"}], \"heatmapgl\": [{\"colorbar\": {\"outlinewidth\": 0, \"ticks\": \"\"}, \"colorscale\": [[0.0, \"#0d0887\"], [0.1111111111111111, \"#46039f\"], [0.2222222222222222, \"#7201a8\"], [0.3333333333333333, \"#9c179e\"], [0.4444444444444444, \"#bd3786\"], [0.5555555555555556, \"#d8576b\"], [0.6666666666666666, \"#ed7953\"], [0.7777777777777778, \"#fb9f3a\"], [0.8888888888888888, \"#fdca26\"], [1.0, \"#f0f921\"]], \"type\": \"heatmapgl\"}], \"histogram\": [{\"marker\": {\"colorbar\": {\"outlinewidth\": 0, \"ticks\": \"\"}}, \"type\": \"histogram\"}], \"histogram2d\": [{\"colorbar\": {\"outlinewidth\": 0, \"ticks\": \"\"}, \"colorscale\": [[0.0, \"#0d0887\"], [0.1111111111111111, \"#46039f\"], [0.2222222222222222, \"#7201a8\"], [0.3333333333333333, \"#9c179e\"], [0.4444444444444444, \"#bd3786\"], [0.5555555555555556, \"#d8576b\"], [0.6666666666666666, \"#ed7953\"], [0.7777777777777778, \"#fb9f3a\"], [0.8888888888888888, \"#fdca26\"], [1.0, \"#f0f921\"]], \"type\": \"histogram2d\"}], \"histogram2dcontour\": [{\"colorbar\": {\"outlinewidth\": 0, \"ticks\": \"\"}, \"colorscale\": [[0.0, \"#0d0887\"], [0.1111111111111111, \"#46039f\"], [0.2222222222222222, \"#7201a8\"], [0.3333333333333333, \"#9c179e\"], [0.4444444444444444, \"#bd3786\"], [0.5555555555555556, \"#d8576b\"], [0.6666666666666666, \"#ed7953\"], [0.7777777777777778, \"#fb9f3a\"], [0.8888888888888888, \"#fdca26\"], [1.0, \"#f0f921\"]], \"type\": \"histogram2dcontour\"}], \"mesh3d\": [{\"colorbar\": {\"outlinewidth\": 0, \"ticks\": \"\"}, \"type\": \"mesh3d\"}], \"parcoords\": [{\"line\": {\"colorbar\": {\"outlinewidth\": 0, \"ticks\": \"\"}}, \"type\": \"parcoords\"}], \"pie\": [{\"automargin\": true, \"type\": \"pie\"}], \"scatter\": [{\"marker\": {\"colorbar\": {\"outlinewidth\": 0, \"ticks\": \"\"}}, \"type\": \"scatter\"}], \"scatter3d\": [{\"line\": {\"colorbar\": {\"outlinewidth\": 0, \"ticks\": \"\"}}, \"marker\": {\"colorbar\": {\"outlinewidth\": 0, \"ticks\": \"\"}}, \"type\": \"scatter3d\"}], \"scattercarpet\": [{\"marker\": {\"colorbar\": {\"outlinewidth\": 0, \"ticks\": \"\"}}, \"type\": \"scattercarpet\"}], \"scattergeo\": [{\"marker\": {\"colorbar\": {\"outlinewidth\": 0, \"ticks\": \"\"}}, \"type\": \"scattergeo\"}], \"scattergl\": [{\"marker\": {\"colorbar\": {\"outlinewidth\": 0, \"ticks\": \"\"}}, \"type\": \"scattergl\"}], \"scattermapbox\": [{\"marker\": {\"colorbar\": {\"outlinewidth\": 0, \"ticks\": \"\"}}, \"type\": \"scattermapbox\"}], \"scatterpolar\": [{\"marker\": {\"colorbar\": {\"outlinewidth\": 0, \"ticks\": \"\"}}, \"type\": \"scatterpolar\"}], \"scatterpolargl\": [{\"marker\": {\"colorbar\": {\"outlinewidth\": 0, \"ticks\": \"\"}}, \"type\": \"scatterpolargl\"}], \"scatterternary\": [{\"marker\": {\"colorbar\": {\"outlinewidth\": 0, \"ticks\": \"\"}}, \"type\": \"scatterternary\"}], \"surface\": [{\"colorbar\": {\"outlinewidth\": 0, \"ticks\": \"\"}, \"colorscale\": [[0.0, \"#0d0887\"], [0.1111111111111111, \"#46039f\"], [0.2222222222222222, \"#7201a8\"], [0.3333333333333333, \"#9c179e\"], [0.4444444444444444, \"#bd3786\"], [0.5555555555555556, \"#d8576b\"], [0.6666666666666666, \"#ed7953\"], [0.7777777777777778, \"#fb9f3a\"], [0.8888888888888888, \"#fdca26\"], [1.0, \"#f0f921\"]], \"type\": \"surface\"}], \"table\": [{\"cells\": {\"fill\": {\"color\": \"#EBF0F8\"}, \"line\": {\"color\": \"white\"}}, \"header\": {\"fill\": {\"color\": \"#C8D4E3\"}, \"line\": {\"color\": \"white\"}}, \"type\": \"table\"}]}, \"layout\": {\"annotationdefaults\": {\"arrowcolor\": \"#2a3f5f\", \"arrowhead\": 0, \"arrowwidth\": 1}, \"coloraxis\": {\"colorbar\": {\"outlinewidth\": 0, \"ticks\": \"\"}}, \"colorscale\": {\"diverging\": [[0, \"#8e0152\"], [0.1, \"#c51b7d\"], [0.2, \"#de77ae\"], [0.3, \"#f1b6da\"], [0.4, \"#fde0ef\"], [0.5, \"#f7f7f7\"], [0.6, \"#e6f5d0\"], [0.7, \"#b8e186\"], [0.8, \"#7fbc41\"], [0.9, \"#4d9221\"], [1, \"#276419\"]], \"sequential\": [[0.0, \"#0d0887\"], [0.1111111111111111, \"#46039f\"], [0.2222222222222222, \"#7201a8\"], [0.3333333333333333, \"#9c179e\"], [0.4444444444444444, \"#bd3786\"], [0.5555555555555556, \"#d8576b\"], [0.6666666666666666, \"#ed7953\"], [0.7777777777777778, \"#fb9f3a\"], [0.8888888888888888, \"#fdca26\"], [1.0, \"#f0f921\"]], \"sequentialminus\": [[0.0, \"#0d0887\"], [0.1111111111111111, \"#46039f\"], [0.2222222222222222, \"#7201a8\"], [0.3333333333333333, \"#9c179e\"], [0.4444444444444444, \"#bd3786\"], [0.5555555555555556, \"#d8576b\"], [0.6666666666666666, \"#ed7953\"], [0.7777777777777778, \"#fb9f3a\"], [0.8888888888888888, \"#fdca26\"], [1.0, \"#f0f921\"]]}, \"colorway\": [\"#636efa\", \"#EF553B\", \"#00cc96\", \"#ab63fa\", \"#FFA15A\", \"#19d3f3\", \"#FF6692\", \"#B6E880\", \"#FF97FF\", \"#FECB52\"], \"font\": {\"color\": \"#2a3f5f\"}, \"geo\": {\"bgcolor\": \"white\", \"lakecolor\": \"white\", \"landcolor\": \"#E5ECF6\", \"showlakes\": true, \"showland\": true, \"subunitcolor\": \"white\"}, \"hoverlabel\": {\"align\": \"left\"}, \"hovermode\": \"closest\", \"mapbox\": {\"style\": \"light\"}, \"paper_bgcolor\": \"white\", \"plot_bgcolor\": \"#E5ECF6\", \"polar\": {\"angularaxis\": {\"gridcolor\": \"white\", \"linecolor\": \"white\", \"ticks\": \"\"}, \"bgcolor\": \"#E5ECF6\", \"radialaxis\": {\"gridcolor\": \"white\", \"linecolor\": \"white\", \"ticks\": \"\"}}, \"scene\": {\"xaxis\": {\"backgroundcolor\": \"#E5ECF6\", \"gridcolor\": \"white\", \"gridwidth\": 2, \"linecolor\": \"white\", \"showbackground\": true, \"ticks\": \"\", \"zerolinecolor\": \"white\"}, \"yaxis\": {\"backgroundcolor\": \"#E5ECF6\", \"gridcolor\": \"white\", \"gridwidth\": 2, \"linecolor\": \"white\", \"showbackground\": true, \"ticks\": \"\", \"zerolinecolor\": \"white\"}, \"zaxis\": {\"backgroundcolor\": \"#E5ECF6\", \"gridcolor\": \"white\", \"gridwidth\": 2, \"linecolor\": \"white\", \"showbackground\": true, \"ticks\": \"\", \"zerolinecolor\": \"white\"}}, \"shapedefaults\": {\"line\": {\"color\": \"#2a3f5f\"}}, \"ternary\": {\"aaxis\": {\"gridcolor\": \"white\", \"linecolor\": \"white\", \"ticks\": \"\"}, \"baxis\": {\"gridcolor\": \"white\", \"linecolor\": \"white\", \"ticks\": \"\"}, \"bgcolor\": \"#E5ECF6\", \"caxis\": {\"gridcolor\": \"white\", \"linecolor\": \"white\", \"ticks\": \"\"}}, \"title\": {\"x\": 0.05}, \"xaxis\": {\"automargin\": true, \"gridcolor\": \"white\", \"linecolor\": \"white\", \"ticks\": \"\", \"title\": {\"standoff\": 15}, \"zerolinecolor\": \"white\", \"zerolinewidth\": 2}, \"yaxis\": {\"automargin\": true, \"gridcolor\": \"white\", \"linecolor\": \"white\", \"ticks\": \"\", \"title\": {\"standoff\": 15}, \"zerolinecolor\": \"white\", \"zerolinewidth\": 2}}}, \"title\": {\"text\": \"Year 2: Number of Donors\"}, \"xaxis\": {\"anchor\": \"y\", \"domain\": [0.0, 1.0], \"title\": {\"text\": \"class\"}, \"type\": \"category\"}, \"yaxis\": {\"anchor\": \"x\", \"domain\": [0.0, 1.0], \"title\": {\"text\": \"no_donors\"}}},\n",
       "                        {\"responsive\": true}\n",
       "                    ).then(function(){\n",
       "                            \n",
       "var gd = document.getElementById('a8ab3165-3dba-457b-8bbb-b230cae82549');\n",
       "var x = new MutationObserver(function (mutations, observer) {{\n",
       "        var display = window.getComputedStyle(gd).display;\n",
       "        if (!display || display === 'none') {{\n",
       "            console.log([gd, 'removed!']);\n",
       "            Plotly.purge(gd);\n",
       "            observer.disconnect();\n",
       "        }}\n",
       "}});\n",
       "\n",
       "// Listen for the removal of the full notebook cells\n",
       "var notebookContainer = gd.closest('#notebook-container');\n",
       "if (notebookContainer) {{\n",
       "    x.observe(notebookContainer, {childList: true});\n",
       "}}\n",
       "\n",
       "// Listen for the clearing of the current output cell\n",
       "var outputEl = gd.closest('.output');\n",
       "if (outputEl) {{\n",
       "    x.observe(outputEl, {childList: true});\n",
       "}}\n",
       "\n",
       "                        })\n",
       "                };\n",
       "                });\n",
       "            </script>\n",
       "        </div>"
      ]
     },
     "metadata": {},
     "output_type": "display_data"
    }
   ],
   "source": [
    "fig = px.bar(df5, x=\"cohort\", y='no_donors', color='cohort_yr2_TF',\n",
    "            title=\"Year 2: Number of Donors\",\n",
    "            color_discrete_sequence =['tomato','seagreen', 'red', 'mediumseagreen'],\n",
    "            hover_data=['cohort', 'no_donors', 'count_yr2'],\n",
    "             labels={'cohort':'class'}, height=500)\n",
    " #barmode='group', labels={'index':'year', 'y':'amount ($)'}, \n",
    "fig.update_xaxes(type='category')\n",
    "fig.show()"
   ]
  },
  {
   "cell_type": "code",
   "execution_count": 125,
   "metadata": {},
   "outputs": [
    {
     "data": {
      "application/vnd.plotly.v1+json": {
       "config": {
        "plotlyServerURL": "https://plot.ly"
       },
       "data": [
        {
         "alignmentgroup": "True",
         "hovertemplate": "cohort_yr2_TF=TFF<br>cohort=%{x}<br>amount_yr2=%{y}<extra></extra>",
         "legendgroup": "TFF",
         "marker": {
          "color": "orangered"
         },
         "name": "TFF",
         "offsetgroup": "TFF",
         "orientation": "v",
         "showlegend": true,
         "textposition": "auto",
         "type": "bar",
         "x": [
          2013,
          2014,
          2015,
          2016
         ],
         "xaxis": "x",
         "y": [
          0,
          0,
          0,
          0
         ],
         "yaxis": "y"
        },
        {
         "alignmentgroup": "True",
         "hovertemplate": "cohort_yr2_TF=TFT<br>cohort=%{x}<br>amount_yr2=%{y}<extra></extra>",
         "legendgroup": "TFT",
         "marker": {
          "color": "seagreen"
         },
         "name": "TFT",
         "offsetgroup": "TFT",
         "orientation": "v",
         "showlegend": true,
         "textposition": "auto",
         "type": "bar",
         "x": [
          2013,
          2014,
          2015,
          2016
         ],
         "xaxis": "x",
         "y": [
          1947492.89,
          1720387.1,
          1835616.24,
          763568.62
         ],
         "yaxis": "y"
        },
        {
         "alignmentgroup": "True",
         "hovertemplate": "cohort_yr2_TF=TTF<br>cohort=%{x}<br>amount_yr2=%{y}<extra></extra>",
         "legendgroup": "TTF",
         "marker": {
          "color": "red"
         },
         "name": "TTF",
         "offsetgroup": "TTF",
         "orientation": "v",
         "showlegend": true,
         "textposition": "auto",
         "type": "bar",
         "x": [
          2013,
          2014,
          2015,
          2016
         ],
         "xaxis": "x",
         "y": [
          0,
          0,
          0,
          0
         ],
         "yaxis": "y"
        },
        {
         "alignmentgroup": "True",
         "hovertemplate": "cohort_yr2_TF=TTT<br>cohort=%{x}<br>amount_yr2=%{y}<extra></extra>",
         "legendgroup": "TTT",
         "marker": {
          "color": "mediumseagreen"
         },
         "name": "TTT",
         "offsetgroup": "TTT",
         "orientation": "v",
         "showlegend": true,
         "textposition": "auto",
         "type": "bar",
         "x": [
          2013,
          2014,
          2015,
          2016
         ],
         "xaxis": "x",
         "y": [
          10639814.5,
          4717321.67,
          5608529.39,
          2121971.4
         ],
         "yaxis": "y"
        }
       ],
       "layout": {
        "barmode": "relative",
        "legend": {
         "title": {
          "text": "cohort_yr2_TF"
         },
         "tracegroupgap": 0
        },
        "template": {
         "data": {
          "bar": [
           {
            "error_x": {
             "color": "#2a3f5f"
            },
            "error_y": {
             "color": "#2a3f5f"
            },
            "marker": {
             "line": {
              "color": "#E5ECF6",
              "width": 0.5
             }
            },
            "type": "bar"
           }
          ],
          "barpolar": [
           {
            "marker": {
             "line": {
              "color": "#E5ECF6",
              "width": 0.5
             }
            },
            "type": "barpolar"
           }
          ],
          "carpet": [
           {
            "aaxis": {
             "endlinecolor": "#2a3f5f",
             "gridcolor": "white",
             "linecolor": "white",
             "minorgridcolor": "white",
             "startlinecolor": "#2a3f5f"
            },
            "baxis": {
             "endlinecolor": "#2a3f5f",
             "gridcolor": "white",
             "linecolor": "white",
             "minorgridcolor": "white",
             "startlinecolor": "#2a3f5f"
            },
            "type": "carpet"
           }
          ],
          "choropleth": [
           {
            "colorbar": {
             "outlinewidth": 0,
             "ticks": ""
            },
            "type": "choropleth"
           }
          ],
          "contour": [
           {
            "colorbar": {
             "outlinewidth": 0,
             "ticks": ""
            },
            "colorscale": [
             [
              0,
              "#0d0887"
             ],
             [
              0.1111111111111111,
              "#46039f"
             ],
             [
              0.2222222222222222,
              "#7201a8"
             ],
             [
              0.3333333333333333,
              "#9c179e"
             ],
             [
              0.4444444444444444,
              "#bd3786"
             ],
             [
              0.5555555555555556,
              "#d8576b"
             ],
             [
              0.6666666666666666,
              "#ed7953"
             ],
             [
              0.7777777777777778,
              "#fb9f3a"
             ],
             [
              0.8888888888888888,
              "#fdca26"
             ],
             [
              1,
              "#f0f921"
             ]
            ],
            "type": "contour"
           }
          ],
          "contourcarpet": [
           {
            "colorbar": {
             "outlinewidth": 0,
             "ticks": ""
            },
            "type": "contourcarpet"
           }
          ],
          "heatmap": [
           {
            "colorbar": {
             "outlinewidth": 0,
             "ticks": ""
            },
            "colorscale": [
             [
              0,
              "#0d0887"
             ],
             [
              0.1111111111111111,
              "#46039f"
             ],
             [
              0.2222222222222222,
              "#7201a8"
             ],
             [
              0.3333333333333333,
              "#9c179e"
             ],
             [
              0.4444444444444444,
              "#bd3786"
             ],
             [
              0.5555555555555556,
              "#d8576b"
             ],
             [
              0.6666666666666666,
              "#ed7953"
             ],
             [
              0.7777777777777778,
              "#fb9f3a"
             ],
             [
              0.8888888888888888,
              "#fdca26"
             ],
             [
              1,
              "#f0f921"
             ]
            ],
            "type": "heatmap"
           }
          ],
          "heatmapgl": [
           {
            "colorbar": {
             "outlinewidth": 0,
             "ticks": ""
            },
            "colorscale": [
             [
              0,
              "#0d0887"
             ],
             [
              0.1111111111111111,
              "#46039f"
             ],
             [
              0.2222222222222222,
              "#7201a8"
             ],
             [
              0.3333333333333333,
              "#9c179e"
             ],
             [
              0.4444444444444444,
              "#bd3786"
             ],
             [
              0.5555555555555556,
              "#d8576b"
             ],
             [
              0.6666666666666666,
              "#ed7953"
             ],
             [
              0.7777777777777778,
              "#fb9f3a"
             ],
             [
              0.8888888888888888,
              "#fdca26"
             ],
             [
              1,
              "#f0f921"
             ]
            ],
            "type": "heatmapgl"
           }
          ],
          "histogram": [
           {
            "marker": {
             "colorbar": {
              "outlinewidth": 0,
              "ticks": ""
             }
            },
            "type": "histogram"
           }
          ],
          "histogram2d": [
           {
            "colorbar": {
             "outlinewidth": 0,
             "ticks": ""
            },
            "colorscale": [
             [
              0,
              "#0d0887"
             ],
             [
              0.1111111111111111,
              "#46039f"
             ],
             [
              0.2222222222222222,
              "#7201a8"
             ],
             [
              0.3333333333333333,
              "#9c179e"
             ],
             [
              0.4444444444444444,
              "#bd3786"
             ],
             [
              0.5555555555555556,
              "#d8576b"
             ],
             [
              0.6666666666666666,
              "#ed7953"
             ],
             [
              0.7777777777777778,
              "#fb9f3a"
             ],
             [
              0.8888888888888888,
              "#fdca26"
             ],
             [
              1,
              "#f0f921"
             ]
            ],
            "type": "histogram2d"
           }
          ],
          "histogram2dcontour": [
           {
            "colorbar": {
             "outlinewidth": 0,
             "ticks": ""
            },
            "colorscale": [
             [
              0,
              "#0d0887"
             ],
             [
              0.1111111111111111,
              "#46039f"
             ],
             [
              0.2222222222222222,
              "#7201a8"
             ],
             [
              0.3333333333333333,
              "#9c179e"
             ],
             [
              0.4444444444444444,
              "#bd3786"
             ],
             [
              0.5555555555555556,
              "#d8576b"
             ],
             [
              0.6666666666666666,
              "#ed7953"
             ],
             [
              0.7777777777777778,
              "#fb9f3a"
             ],
             [
              0.8888888888888888,
              "#fdca26"
             ],
             [
              1,
              "#f0f921"
             ]
            ],
            "type": "histogram2dcontour"
           }
          ],
          "mesh3d": [
           {
            "colorbar": {
             "outlinewidth": 0,
             "ticks": ""
            },
            "type": "mesh3d"
           }
          ],
          "parcoords": [
           {
            "line": {
             "colorbar": {
              "outlinewidth": 0,
              "ticks": ""
             }
            },
            "type": "parcoords"
           }
          ],
          "pie": [
           {
            "automargin": true,
            "type": "pie"
           }
          ],
          "scatter": [
           {
            "marker": {
             "colorbar": {
              "outlinewidth": 0,
              "ticks": ""
             }
            },
            "type": "scatter"
           }
          ],
          "scatter3d": [
           {
            "line": {
             "colorbar": {
              "outlinewidth": 0,
              "ticks": ""
             }
            },
            "marker": {
             "colorbar": {
              "outlinewidth": 0,
              "ticks": ""
             }
            },
            "type": "scatter3d"
           }
          ],
          "scattercarpet": [
           {
            "marker": {
             "colorbar": {
              "outlinewidth": 0,
              "ticks": ""
             }
            },
            "type": "scattercarpet"
           }
          ],
          "scattergeo": [
           {
            "marker": {
             "colorbar": {
              "outlinewidth": 0,
              "ticks": ""
             }
            },
            "type": "scattergeo"
           }
          ],
          "scattergl": [
           {
            "marker": {
             "colorbar": {
              "outlinewidth": 0,
              "ticks": ""
             }
            },
            "type": "scattergl"
           }
          ],
          "scattermapbox": [
           {
            "marker": {
             "colorbar": {
              "outlinewidth": 0,
              "ticks": ""
             }
            },
            "type": "scattermapbox"
           }
          ],
          "scatterpolar": [
           {
            "marker": {
             "colorbar": {
              "outlinewidth": 0,
              "ticks": ""
             }
            },
            "type": "scatterpolar"
           }
          ],
          "scatterpolargl": [
           {
            "marker": {
             "colorbar": {
              "outlinewidth": 0,
              "ticks": ""
             }
            },
            "type": "scatterpolargl"
           }
          ],
          "scatterternary": [
           {
            "marker": {
             "colorbar": {
              "outlinewidth": 0,
              "ticks": ""
             }
            },
            "type": "scatterternary"
           }
          ],
          "surface": [
           {
            "colorbar": {
             "outlinewidth": 0,
             "ticks": ""
            },
            "colorscale": [
             [
              0,
              "#0d0887"
             ],
             [
              0.1111111111111111,
              "#46039f"
             ],
             [
              0.2222222222222222,
              "#7201a8"
             ],
             [
              0.3333333333333333,
              "#9c179e"
             ],
             [
              0.4444444444444444,
              "#bd3786"
             ],
             [
              0.5555555555555556,
              "#d8576b"
             ],
             [
              0.6666666666666666,
              "#ed7953"
             ],
             [
              0.7777777777777778,
              "#fb9f3a"
             ],
             [
              0.8888888888888888,
              "#fdca26"
             ],
             [
              1,
              "#f0f921"
             ]
            ],
            "type": "surface"
           }
          ],
          "table": [
           {
            "cells": {
             "fill": {
              "color": "#EBF0F8"
             },
             "line": {
              "color": "white"
             }
            },
            "header": {
             "fill": {
              "color": "#C8D4E3"
             },
             "line": {
              "color": "white"
             }
            },
            "type": "table"
           }
          ]
         },
         "layout": {
          "annotationdefaults": {
           "arrowcolor": "#2a3f5f",
           "arrowhead": 0,
           "arrowwidth": 1
          },
          "coloraxis": {
           "colorbar": {
            "outlinewidth": 0,
            "ticks": ""
           }
          },
          "colorscale": {
           "diverging": [
            [
             0,
             "#8e0152"
            ],
            [
             0.1,
             "#c51b7d"
            ],
            [
             0.2,
             "#de77ae"
            ],
            [
             0.3,
             "#f1b6da"
            ],
            [
             0.4,
             "#fde0ef"
            ],
            [
             0.5,
             "#f7f7f7"
            ],
            [
             0.6,
             "#e6f5d0"
            ],
            [
             0.7,
             "#b8e186"
            ],
            [
             0.8,
             "#7fbc41"
            ],
            [
             0.9,
             "#4d9221"
            ],
            [
             1,
             "#276419"
            ]
           ],
           "sequential": [
            [
             0,
             "#0d0887"
            ],
            [
             0.1111111111111111,
             "#46039f"
            ],
            [
             0.2222222222222222,
             "#7201a8"
            ],
            [
             0.3333333333333333,
             "#9c179e"
            ],
            [
             0.4444444444444444,
             "#bd3786"
            ],
            [
             0.5555555555555556,
             "#d8576b"
            ],
            [
             0.6666666666666666,
             "#ed7953"
            ],
            [
             0.7777777777777778,
             "#fb9f3a"
            ],
            [
             0.8888888888888888,
             "#fdca26"
            ],
            [
             1,
             "#f0f921"
            ]
           ],
           "sequentialminus": [
            [
             0,
             "#0d0887"
            ],
            [
             0.1111111111111111,
             "#46039f"
            ],
            [
             0.2222222222222222,
             "#7201a8"
            ],
            [
             0.3333333333333333,
             "#9c179e"
            ],
            [
             0.4444444444444444,
             "#bd3786"
            ],
            [
             0.5555555555555556,
             "#d8576b"
            ],
            [
             0.6666666666666666,
             "#ed7953"
            ],
            [
             0.7777777777777778,
             "#fb9f3a"
            ],
            [
             0.8888888888888888,
             "#fdca26"
            ],
            [
             1,
             "#f0f921"
            ]
           ]
          },
          "colorway": [
           "#636efa",
           "#EF553B",
           "#00cc96",
           "#ab63fa",
           "#FFA15A",
           "#19d3f3",
           "#FF6692",
           "#B6E880",
           "#FF97FF",
           "#FECB52"
          ],
          "font": {
           "color": "#2a3f5f"
          },
          "geo": {
           "bgcolor": "white",
           "lakecolor": "white",
           "landcolor": "#E5ECF6",
           "showlakes": true,
           "showland": true,
           "subunitcolor": "white"
          },
          "hoverlabel": {
           "align": "left"
          },
          "hovermode": "closest",
          "mapbox": {
           "style": "light"
          },
          "paper_bgcolor": "white",
          "plot_bgcolor": "#E5ECF6",
          "polar": {
           "angularaxis": {
            "gridcolor": "white",
            "linecolor": "white",
            "ticks": ""
           },
           "bgcolor": "#E5ECF6",
           "radialaxis": {
            "gridcolor": "white",
            "linecolor": "white",
            "ticks": ""
           }
          },
          "scene": {
           "xaxis": {
            "backgroundcolor": "#E5ECF6",
            "gridcolor": "white",
            "gridwidth": 2,
            "linecolor": "white",
            "showbackground": true,
            "ticks": "",
            "zerolinecolor": "white"
           },
           "yaxis": {
            "backgroundcolor": "#E5ECF6",
            "gridcolor": "white",
            "gridwidth": 2,
            "linecolor": "white",
            "showbackground": true,
            "ticks": "",
            "zerolinecolor": "white"
           },
           "zaxis": {
            "backgroundcolor": "#E5ECF6",
            "gridcolor": "white",
            "gridwidth": 2,
            "linecolor": "white",
            "showbackground": true,
            "ticks": "",
            "zerolinecolor": "white"
           }
          },
          "shapedefaults": {
           "line": {
            "color": "#2a3f5f"
           }
          },
          "ternary": {
           "aaxis": {
            "gridcolor": "white",
            "linecolor": "white",
            "ticks": ""
           },
           "baxis": {
            "gridcolor": "white",
            "linecolor": "white",
            "ticks": ""
           },
           "bgcolor": "#E5ECF6",
           "caxis": {
            "gridcolor": "white",
            "linecolor": "white",
            "ticks": ""
           }
          },
          "title": {
           "x": 0.05
          },
          "xaxis": {
           "automargin": true,
           "gridcolor": "white",
           "linecolor": "white",
           "ticks": "",
           "title": {
            "standoff": 15
           },
           "zerolinecolor": "white",
           "zerolinewidth": 2
          },
          "yaxis": {
           "automargin": true,
           "gridcolor": "white",
           "linecolor": "white",
           "ticks": "",
           "title": {
            "standoff": 15
           },
           "zerolinecolor": "white",
           "zerolinewidth": 2
          }
         }
        },
        "title": {
         "text": "Year 2: Amount Donated Year 2"
        },
        "xaxis": {
         "anchor": "y",
         "domain": [
          0,
          1
         ],
         "title": {
          "text": "cohort"
         },
         "type": "category"
        },
        "yaxis": {
         "anchor": "x",
         "domain": [
          0,
          1
         ],
         "title": {
          "text": "amount_yr2"
         }
        }
       }
      },
      "text/html": [
       "<div>\n",
       "        \n",
       "        \n",
       "            <div id=\"f396c39d-1b91-4e2f-b72e-8464c393dff0\" class=\"plotly-graph-div\" style=\"height:525px; width:100%;\"></div>\n",
       "            <script type=\"text/javascript\">\n",
       "                require([\"plotly\"], function(Plotly) {\n",
       "                    window.PLOTLYENV=window.PLOTLYENV || {};\n",
       "                    \n",
       "                if (document.getElementById(\"f396c39d-1b91-4e2f-b72e-8464c393dff0\")) {\n",
       "                    Plotly.newPlot(\n",
       "                        'f396c39d-1b91-4e2f-b72e-8464c393dff0',\n",
       "                        [{\"alignmentgroup\": \"True\", \"hovertemplate\": \"cohort_yr2_TF=TFF<br>cohort=%{x}<br>amount_yr2=%{y}<extra></extra>\", \"legendgroup\": \"TFF\", \"marker\": {\"color\": \"orangered\"}, \"name\": \"TFF\", \"offsetgroup\": \"TFF\", \"orientation\": \"v\", \"showlegend\": true, \"textposition\": \"auto\", \"type\": \"bar\", \"x\": [2013, 2014, 2015, 2016], \"xaxis\": \"x\", \"y\": [-0.0, -0.0, -0.0, -0.0], \"yaxis\": \"y\"}, {\"alignmentgroup\": \"True\", \"hovertemplate\": \"cohort_yr2_TF=TFT<br>cohort=%{x}<br>amount_yr2=%{y}<extra></extra>\", \"legendgroup\": \"TFT\", \"marker\": {\"color\": \"seagreen\"}, \"name\": \"TFT\", \"offsetgroup\": \"TFT\", \"orientation\": \"v\", \"showlegend\": true, \"textposition\": \"auto\", \"type\": \"bar\", \"x\": [2013, 2014, 2015, 2016], \"xaxis\": \"x\", \"y\": [1947492.89, 1720387.1, 1835616.24, 763568.62], \"yaxis\": \"y\"}, {\"alignmentgroup\": \"True\", \"hovertemplate\": \"cohort_yr2_TF=TTF<br>cohort=%{x}<br>amount_yr2=%{y}<extra></extra>\", \"legendgroup\": \"TTF\", \"marker\": {\"color\": \"red\"}, \"name\": \"TTF\", \"offsetgroup\": \"TTF\", \"orientation\": \"v\", \"showlegend\": true, \"textposition\": \"auto\", \"type\": \"bar\", \"x\": [2013, 2014, 2015, 2016], \"xaxis\": \"x\", \"y\": [-0.0, -0.0, -0.0, -0.0], \"yaxis\": \"y\"}, {\"alignmentgroup\": \"True\", \"hovertemplate\": \"cohort_yr2_TF=TTT<br>cohort=%{x}<br>amount_yr2=%{y}<extra></extra>\", \"legendgroup\": \"TTT\", \"marker\": {\"color\": \"mediumseagreen\"}, \"name\": \"TTT\", \"offsetgroup\": \"TTT\", \"orientation\": \"v\", \"showlegend\": true, \"textposition\": \"auto\", \"type\": \"bar\", \"x\": [2013, 2014, 2015, 2016], \"xaxis\": \"x\", \"y\": [10639814.5, 4717321.67, 5608529.39, 2121971.4], \"yaxis\": \"y\"}],\n",
       "                        {\"barmode\": \"relative\", \"legend\": {\"title\": {\"text\": \"cohort_yr2_TF\"}, \"tracegroupgap\": 0}, \"template\": {\"data\": {\"bar\": [{\"error_x\": {\"color\": \"#2a3f5f\"}, \"error_y\": {\"color\": \"#2a3f5f\"}, \"marker\": {\"line\": {\"color\": \"#E5ECF6\", \"width\": 0.5}}, \"type\": \"bar\"}], \"barpolar\": [{\"marker\": {\"line\": {\"color\": \"#E5ECF6\", \"width\": 0.5}}, \"type\": \"barpolar\"}], \"carpet\": [{\"aaxis\": {\"endlinecolor\": \"#2a3f5f\", \"gridcolor\": \"white\", \"linecolor\": \"white\", \"minorgridcolor\": \"white\", \"startlinecolor\": \"#2a3f5f\"}, \"baxis\": {\"endlinecolor\": \"#2a3f5f\", \"gridcolor\": \"white\", \"linecolor\": \"white\", \"minorgridcolor\": \"white\", \"startlinecolor\": \"#2a3f5f\"}, \"type\": \"carpet\"}], \"choropleth\": [{\"colorbar\": {\"outlinewidth\": 0, \"ticks\": \"\"}, \"type\": \"choropleth\"}], \"contour\": [{\"colorbar\": {\"outlinewidth\": 0, \"ticks\": \"\"}, \"colorscale\": [[0.0, \"#0d0887\"], [0.1111111111111111, \"#46039f\"], [0.2222222222222222, \"#7201a8\"], [0.3333333333333333, \"#9c179e\"], [0.4444444444444444, \"#bd3786\"], [0.5555555555555556, \"#d8576b\"], [0.6666666666666666, \"#ed7953\"], [0.7777777777777778, \"#fb9f3a\"], [0.8888888888888888, \"#fdca26\"], [1.0, \"#f0f921\"]], \"type\": \"contour\"}], \"contourcarpet\": [{\"colorbar\": {\"outlinewidth\": 0, \"ticks\": \"\"}, \"type\": \"contourcarpet\"}], \"heatmap\": [{\"colorbar\": {\"outlinewidth\": 0, \"ticks\": \"\"}, \"colorscale\": [[0.0, \"#0d0887\"], [0.1111111111111111, \"#46039f\"], [0.2222222222222222, \"#7201a8\"], [0.3333333333333333, \"#9c179e\"], [0.4444444444444444, \"#bd3786\"], [0.5555555555555556, \"#d8576b\"], [0.6666666666666666, \"#ed7953\"], [0.7777777777777778, \"#fb9f3a\"], [0.8888888888888888, \"#fdca26\"], [1.0, \"#f0f921\"]], \"type\": \"heatmap\"}], \"heatmapgl\": [{\"colorbar\": {\"outlinewidth\": 0, \"ticks\": \"\"}, \"colorscale\": [[0.0, \"#0d0887\"], [0.1111111111111111, \"#46039f\"], [0.2222222222222222, \"#7201a8\"], [0.3333333333333333, \"#9c179e\"], [0.4444444444444444, \"#bd3786\"], [0.5555555555555556, \"#d8576b\"], [0.6666666666666666, \"#ed7953\"], [0.7777777777777778, \"#fb9f3a\"], [0.8888888888888888, \"#fdca26\"], [1.0, \"#f0f921\"]], \"type\": \"heatmapgl\"}], \"histogram\": [{\"marker\": {\"colorbar\": {\"outlinewidth\": 0, \"ticks\": \"\"}}, \"type\": \"histogram\"}], \"histogram2d\": [{\"colorbar\": {\"outlinewidth\": 0, \"ticks\": \"\"}, \"colorscale\": [[0.0, \"#0d0887\"], [0.1111111111111111, \"#46039f\"], [0.2222222222222222, \"#7201a8\"], [0.3333333333333333, \"#9c179e\"], [0.4444444444444444, \"#bd3786\"], [0.5555555555555556, \"#d8576b\"], [0.6666666666666666, \"#ed7953\"], [0.7777777777777778, \"#fb9f3a\"], [0.8888888888888888, \"#fdca26\"], [1.0, \"#f0f921\"]], \"type\": \"histogram2d\"}], \"histogram2dcontour\": [{\"colorbar\": {\"outlinewidth\": 0, \"ticks\": \"\"}, \"colorscale\": [[0.0, \"#0d0887\"], [0.1111111111111111, \"#46039f\"], [0.2222222222222222, \"#7201a8\"], [0.3333333333333333, \"#9c179e\"], [0.4444444444444444, \"#bd3786\"], [0.5555555555555556, \"#d8576b\"], [0.6666666666666666, \"#ed7953\"], [0.7777777777777778, \"#fb9f3a\"], [0.8888888888888888, \"#fdca26\"], [1.0, \"#f0f921\"]], \"type\": \"histogram2dcontour\"}], \"mesh3d\": [{\"colorbar\": {\"outlinewidth\": 0, \"ticks\": \"\"}, \"type\": \"mesh3d\"}], \"parcoords\": [{\"line\": {\"colorbar\": {\"outlinewidth\": 0, \"ticks\": \"\"}}, \"type\": \"parcoords\"}], \"pie\": [{\"automargin\": true, \"type\": \"pie\"}], \"scatter\": [{\"marker\": {\"colorbar\": {\"outlinewidth\": 0, \"ticks\": \"\"}}, \"type\": \"scatter\"}], \"scatter3d\": [{\"line\": {\"colorbar\": {\"outlinewidth\": 0, \"ticks\": \"\"}}, \"marker\": {\"colorbar\": {\"outlinewidth\": 0, \"ticks\": \"\"}}, \"type\": \"scatter3d\"}], \"scattercarpet\": [{\"marker\": {\"colorbar\": {\"outlinewidth\": 0, \"ticks\": \"\"}}, \"type\": \"scattercarpet\"}], \"scattergeo\": [{\"marker\": {\"colorbar\": {\"outlinewidth\": 0, \"ticks\": \"\"}}, \"type\": \"scattergeo\"}], \"scattergl\": [{\"marker\": {\"colorbar\": {\"outlinewidth\": 0, \"ticks\": \"\"}}, \"type\": \"scattergl\"}], \"scattermapbox\": [{\"marker\": {\"colorbar\": {\"outlinewidth\": 0, \"ticks\": \"\"}}, \"type\": \"scattermapbox\"}], \"scatterpolar\": [{\"marker\": {\"colorbar\": {\"outlinewidth\": 0, \"ticks\": \"\"}}, \"type\": \"scatterpolar\"}], \"scatterpolargl\": [{\"marker\": {\"colorbar\": {\"outlinewidth\": 0, \"ticks\": \"\"}}, \"type\": \"scatterpolargl\"}], \"scatterternary\": [{\"marker\": {\"colorbar\": {\"outlinewidth\": 0, \"ticks\": \"\"}}, \"type\": \"scatterternary\"}], \"surface\": [{\"colorbar\": {\"outlinewidth\": 0, \"ticks\": \"\"}, \"colorscale\": [[0.0, \"#0d0887\"], [0.1111111111111111, \"#46039f\"], [0.2222222222222222, \"#7201a8\"], [0.3333333333333333, \"#9c179e\"], [0.4444444444444444, \"#bd3786\"], [0.5555555555555556, \"#d8576b\"], [0.6666666666666666, \"#ed7953\"], [0.7777777777777778, \"#fb9f3a\"], [0.8888888888888888, \"#fdca26\"], [1.0, \"#f0f921\"]], \"type\": \"surface\"}], \"table\": [{\"cells\": {\"fill\": {\"color\": \"#EBF0F8\"}, \"line\": {\"color\": \"white\"}}, \"header\": {\"fill\": {\"color\": \"#C8D4E3\"}, \"line\": {\"color\": \"white\"}}, \"type\": \"table\"}]}, \"layout\": {\"annotationdefaults\": {\"arrowcolor\": \"#2a3f5f\", \"arrowhead\": 0, \"arrowwidth\": 1}, \"coloraxis\": {\"colorbar\": {\"outlinewidth\": 0, \"ticks\": \"\"}}, \"colorscale\": {\"diverging\": [[0, \"#8e0152\"], [0.1, \"#c51b7d\"], [0.2, \"#de77ae\"], [0.3, \"#f1b6da\"], [0.4, \"#fde0ef\"], [0.5, \"#f7f7f7\"], [0.6, \"#e6f5d0\"], [0.7, \"#b8e186\"], [0.8, \"#7fbc41\"], [0.9, \"#4d9221\"], [1, \"#276419\"]], \"sequential\": [[0.0, \"#0d0887\"], [0.1111111111111111, \"#46039f\"], [0.2222222222222222, \"#7201a8\"], [0.3333333333333333, \"#9c179e\"], [0.4444444444444444, \"#bd3786\"], [0.5555555555555556, \"#d8576b\"], [0.6666666666666666, \"#ed7953\"], [0.7777777777777778, \"#fb9f3a\"], [0.8888888888888888, \"#fdca26\"], [1.0, \"#f0f921\"]], \"sequentialminus\": [[0.0, \"#0d0887\"], [0.1111111111111111, \"#46039f\"], [0.2222222222222222, \"#7201a8\"], [0.3333333333333333, \"#9c179e\"], [0.4444444444444444, \"#bd3786\"], [0.5555555555555556, \"#d8576b\"], [0.6666666666666666, \"#ed7953\"], [0.7777777777777778, \"#fb9f3a\"], [0.8888888888888888, \"#fdca26\"], [1.0, \"#f0f921\"]]}, \"colorway\": [\"#636efa\", \"#EF553B\", \"#00cc96\", \"#ab63fa\", \"#FFA15A\", \"#19d3f3\", \"#FF6692\", \"#B6E880\", \"#FF97FF\", \"#FECB52\"], \"font\": {\"color\": \"#2a3f5f\"}, \"geo\": {\"bgcolor\": \"white\", \"lakecolor\": \"white\", \"landcolor\": \"#E5ECF6\", \"showlakes\": true, \"showland\": true, \"subunitcolor\": \"white\"}, \"hoverlabel\": {\"align\": \"left\"}, \"hovermode\": \"closest\", \"mapbox\": {\"style\": \"light\"}, \"paper_bgcolor\": \"white\", \"plot_bgcolor\": \"#E5ECF6\", \"polar\": {\"angularaxis\": {\"gridcolor\": \"white\", \"linecolor\": \"white\", \"ticks\": \"\"}, \"bgcolor\": \"#E5ECF6\", \"radialaxis\": {\"gridcolor\": \"white\", \"linecolor\": \"white\", \"ticks\": \"\"}}, \"scene\": {\"xaxis\": {\"backgroundcolor\": \"#E5ECF6\", \"gridcolor\": \"white\", \"gridwidth\": 2, \"linecolor\": \"white\", \"showbackground\": true, \"ticks\": \"\", \"zerolinecolor\": \"white\"}, \"yaxis\": {\"backgroundcolor\": \"#E5ECF6\", \"gridcolor\": \"white\", \"gridwidth\": 2, \"linecolor\": \"white\", \"showbackground\": true, \"ticks\": \"\", \"zerolinecolor\": \"white\"}, \"zaxis\": {\"backgroundcolor\": \"#E5ECF6\", \"gridcolor\": \"white\", \"gridwidth\": 2, \"linecolor\": \"white\", \"showbackground\": true, \"ticks\": \"\", \"zerolinecolor\": \"white\"}}, \"shapedefaults\": {\"line\": {\"color\": \"#2a3f5f\"}}, \"ternary\": {\"aaxis\": {\"gridcolor\": \"white\", \"linecolor\": \"white\", \"ticks\": \"\"}, \"baxis\": {\"gridcolor\": \"white\", \"linecolor\": \"white\", \"ticks\": \"\"}, \"bgcolor\": \"#E5ECF6\", \"caxis\": {\"gridcolor\": \"white\", \"linecolor\": \"white\", \"ticks\": \"\"}}, \"title\": {\"x\": 0.05}, \"xaxis\": {\"automargin\": true, \"gridcolor\": \"white\", \"linecolor\": \"white\", \"ticks\": \"\", \"title\": {\"standoff\": 15}, \"zerolinecolor\": \"white\", \"zerolinewidth\": 2}, \"yaxis\": {\"automargin\": true, \"gridcolor\": \"white\", \"linecolor\": \"white\", \"ticks\": \"\", \"title\": {\"standoff\": 15}, \"zerolinecolor\": \"white\", \"zerolinewidth\": 2}}}, \"title\": {\"text\": \"Year 2: Amount Donated Year 2\"}, \"xaxis\": {\"anchor\": \"y\", \"domain\": [0.0, 1.0], \"title\": {\"text\": \"cohort\"}, \"type\": \"category\"}, \"yaxis\": {\"anchor\": \"x\", \"domain\": [0.0, 1.0], \"title\": {\"text\": \"amount_yr2\"}}},\n",
       "                        {\"responsive\": true}\n",
       "                    ).then(function(){\n",
       "                            \n",
       "var gd = document.getElementById('f396c39d-1b91-4e2f-b72e-8464c393dff0');\n",
       "var x = new MutationObserver(function (mutations, observer) {{\n",
       "        var display = window.getComputedStyle(gd).display;\n",
       "        if (!display || display === 'none') {{\n",
       "            console.log([gd, 'removed!']);\n",
       "            Plotly.purge(gd);\n",
       "            observer.disconnect();\n",
       "        }}\n",
       "}});\n",
       "\n",
       "// Listen for the removal of the full notebook cells\n",
       "var notebookContainer = gd.closest('#notebook-container');\n",
       "if (notebookContainer) {{\n",
       "    x.observe(notebookContainer, {childList: true});\n",
       "}}\n",
       "\n",
       "// Listen for the clearing of the current output cell\n",
       "var outputEl = gd.closest('.output');\n",
       "if (outputEl) {{\n",
       "    x.observe(outputEl, {childList: true});\n",
       "}}\n",
       "\n",
       "                        })\n",
       "                };\n",
       "                });\n",
       "            </script>\n",
       "        </div>"
      ]
     },
     "metadata": {},
     "output_type": "display_data"
    }
   ],
   "source": [
    "fig = px.bar(df5, x=\"cohort\", y='amount_yr2', color='cohort_yr2_TF',\n",
    "            title=\"Year 2: Amount Donated Year 2\",\n",
    "            color_discrete_sequence =['orangered','seagreen', 'red', 'mediumseagreen'])\n",
    " #barmode='group', labels={'index':'year', 'y':'amount ($)'}, \n",
    "fig.update_xaxes(type='category')\n",
    "fig.show()"
   ]
  },
  {
   "cell_type": "code",
   "execution_count": 6,
   "metadata": {},
   "outputs": [
    {
     "data": {
      "text/plain": [
       "first_gift_year\n",
       "2012-01-01       16421.14\n",
       "2013-01-01    15267703.98\n",
       "2014-01-01     7745897.26\n",
       "2015-01-01     8280549.87\n",
       "2016-01-01    10475760.27\n",
       "2017-01-01     4549913.20\n",
       "2018-01-01           0.00\n",
       "Name: amount_yr1, dtype: float64"
      ]
     },
     "execution_count": 6,
     "metadata": {},
     "output_type": "execute_result"
    }
   ],
   "source": [
    "donations_cohort_with_cycle.groupby('first_gift_year').sum()['amount_yr1'].round(2)"
   ]
  },
  {
   "cell_type": "code",
   "execution_count": 7,
   "metadata": {},
   "outputs": [
    {
     "data": {
      "text/plain": [
       "0,3,     17619\n",
       "0,3,4     3108\n",
       "Name: cohort_gift_pattern, dtype: int64"
      ]
     },
     "execution_count": 7,
     "metadata": {},
     "output_type": "execute_result"
    }
   ],
   "source": [
    "donations_cohort_with_cycle.query('cohort_3_first_gift > 0').cohort_gift_pattern.value_counts()"
   ]
  },
  {
   "cell_type": "code",
   "execution_count": 8,
   "metadata": {},
   "outputs": [
    {
     "name": "stdout",
     "output_type": "stream",
     "text": [
      "cohort_1_lapsed_after_first:  0,          1548735\n",
      "0,2,          44403\n",
      "0,3,          17619\n",
      "0,2,3,         7626\n",
      "0,4,           6912\n",
      "0,3,4          3108\n",
      "0,2,3,4,       2735\n",
      "0,2,4,         2035\n",
      "Name: cohort_gift_pattern, dtype: int64\n",
      "cohort_1_second_year:  0,1,          162004\n",
      "0,1,2,         37639\n",
      "0,1,2,3,       13781\n",
      "0,1,2,3,4,     13102\n",
      "0,1,3,          8134\n",
      "0,1,4,          2994\n",
      "0,1,2,4,        2967\n",
      "0,1,3,4,        2815\n",
      "Name: cohort_gift_pattern, dtype: int64\n"
     ]
    }
   ],
   "source": [
    "print(f'cohort_1_lapsed_after_first: ', donations_cohort_with_cycle.query('cohort_1_lapsed_after_first > 0').cohort_gift_pattern.value_counts())\n",
    "print(f'cohort_1_second_year: ', donations_cohort_with_cycle.query('cohort_1_second_year > 0').cohort_gift_pattern.value_counts())\n"
   ]
  },
  {
   "cell_type": "code",
   "execution_count": 9,
   "metadata": {},
   "outputs": [
    {
     "name": "stdout",
     "output_type": "stream",
     "text": [
      "cohort_2_lapsed_after_first_long:  0,       1143733\n",
      "0,3,       17619\n",
      "0,4,        6912\n",
      "0,3,4       3108\n",
      "Name: cohort_gift_pattern, dtype: int64\n",
      "cohort_2_lapsed_after_second:  0,1,        132013\n",
      "0,1,3,        8134\n",
      "0,1,4,        2994\n",
      "0,1,3,4,      2815\n",
      "Name: cohort_gift_pattern, dtype: int64\n",
      "cohort_2_multi_year:  0,1,2,        37639\n",
      "0,1,2,3,      13781\n",
      "0,1,2,3,4,    13102\n",
      "0,1,2,4,       2967\n",
      "Name: cohort_gift_pattern, dtype: int64\n",
      "cohort_2_second_with_gap:  0,2,        44403\n",
      "0,2,3,       7626\n",
      "0,2,3,4,     2735\n",
      "0,2,4,       2035\n",
      "Name: cohort_gift_pattern, dtype: int64\n"
     ]
    }
   ],
   "source": [
    "\n",
    "print(f'cohort_2_lapsed_after_first_long: ', donations_cohort_with_cycle.query('cohort_2_lapsed_after_first_long > 0').cohort_gift_pattern.value_counts())\n",
    "print(f'cohort_2_lapsed_after_second: ', donations_cohort_with_cycle.query('cohort_2_lapsed_after_second > 0').cohort_gift_pattern.value_counts())\n",
    "print(f'cohort_2_multi_year: ', donations_cohort_with_cycle.query('cohort_2_multi_year > 0').cohort_gift_pattern.value_counts())\n",
    "print(f'cohort_2_second_with_gap: ', donations_cohort_with_cycle.query('cohort_2_second_with_gap > 0').cohort_gift_pattern.value_counts())\n"
   ]
  },
  {
   "cell_type": "code",
   "execution_count": 10,
   "metadata": {},
   "outputs": [
    {
     "name": "stdout",
     "output_type": "stream",
     "text": [
      "cohort_3_first_gift:  0,3,     17619\n",
      "0,3,4     3108\n",
      "Name: cohort_gift_pattern, dtype: int64\n",
      "cohort_3_inconsistent_multi_year:  0,1,3,      8134\n",
      "0,2,3,      7626\n",
      "0,1,3,4,    2815\n",
      "0,2,3,4,    2735\n",
      "Name: cohort_gift_pattern, dtype: int64\n",
      "cohort_3_key_multi_year:  0,1,2,3,      13781\n",
      "0,1,2,3,4,    13102\n",
      "Name: cohort_gift_pattern, dtype: int64\n",
      "cohort_4_lapsed_after_second:  0,2,      36065\n",
      "0,2,4,     2035\n",
      "Name: cohort_gift_pattern, dtype: int64\n",
      "cohort_4_lapsed_long:  0,        763012\n",
      "0,1,       85811\n",
      "0,4,        6912\n",
      "0,1,4,      2994\n",
      "Name: cohort_gift_pattern, dtype: int64\n",
      "cohort_4_lapsed_multi_year:  0,1,2,      27304\n",
      "0,1,2,4,     2967\n",
      "Name: cohort_gift_pattern, dtype: int64\n"
     ]
    }
   ],
   "source": [
    "print(f'cohort_3_first_gift: ', donations_cohort_with_cycle.query('cohort_3_first_gift > 0').cohort_gift_pattern.value_counts())\n",
    "print(f'cohort_3_inconsistent_multi_year: ', donations_cohort_with_cycle.query('cohort_3_inconsistent_multi_year > 0').cohort_gift_pattern.value_counts())\n",
    "print(f'cohort_3_key_multi_year: ', donations_cohort_with_cycle.query('cohort_3_key_multi_year > 0').cohort_gift_pattern.value_counts())\n",
    "\n",
    "print(f'cohort_4_lapsed_after_second: ', donations_cohort_with_cycle.query('cohort_3_lapsed_after_second > 0').cohort_gift_pattern.value_counts())\n",
    "print(f'cohort_4_lapsed_long: ', donations_cohort_with_cycle.query('cohort_3_lapsed_long > 0').cohort_gift_pattern.value_counts())\n",
    "\n",
    "print(f'cohort_4_lapsed_multi_year: ', donations_cohort_with_cycle.query('cohort_3_lapsed_multi_year > 0').cohort_gift_pattern.value_counts())\n"
   ]
  },
  {
   "cell_type": "code",
   "execution_count": 11,
   "metadata": {},
   "outputs": [
    {
     "name": "stdout",
     "output_type": "stream",
     "text": [
      "cohort_4_first_gift:  0,4,      6912\n",
      "0,1,4,    2994\n",
      "Name: cohort_gift_pattern, dtype: int64\n",
      "cohort_4_inconsistent_multi_year:  0,2,4,    2035\n",
      "Name: cohort_gift_pattern, dtype: int64\n",
      "cohort_4_key_multi_year:  0,1,2,3,4,    13102\n",
      "Name: cohort_gift_pattern, dtype: int64\n",
      "cohort_4_lapsed_after_first:  0,3,    14084\n",
      "Name: cohort_gift_pattern, dtype: int64\n",
      "cohort_4_lapsed_key_multi_year:  0,1,2,3,    9184\n",
      "Name: cohort_gift_pattern, dtype: int64\n",
      "cohort_4_lapsed_long:  0,      474008\n",
      "0,1,     56793\n",
      "0,2,     21660\n",
      "Name: cohort_gift_pattern, dtype: int64\n",
      "cohort_4_lapsed_long_multi_year:  0,1,2,    16578\n",
      "Name: cohort_gift_pattern, dtype: int64\n",
      "cohort_4_lapsed_multi_year:  0,1,3,    6397\n",
      "0,2,3,    5511\n",
      "Name: cohort_gift_pattern, dtype: int64\n",
      "cohort_4_multi_year:  0,1,3,4,    2815\n",
      "0,2,3,4,    2735\n",
      "Name: cohort_gift_pattern, dtype: int64\n",
      "cohort_4_recovered_multi_year:  0,1,2,4,    2967\n",
      "Name: cohort_gift_pattern, dtype: int64\n",
      "cohort_4_second_year:  0,3,4    3108\n",
      "Name: cohort_gift_pattern, dtype: int64\n"
     ]
    }
   ],
   "source": [
    "print(f'cohort_4_first_gift: ', donations_cohort_with_cycle.query('cohort_4_first_gift > 0').cohort_gift_pattern.value_counts())\n",
    "print(f'cohort_4_inconsistent_multi_year: ', donations_cohort_with_cycle.query('cohort_4_inconsistent_multi_year > 0').cohort_gift_pattern.value_counts())\n",
    "print(f'cohort_4_key_multi_year: ', donations_cohort_with_cycle.query('cohort_4_key_multi_year > 0').cohort_gift_pattern.value_counts())\n",
    "\n",
    "print(f'cohort_4_lapsed_after_first: ', donations_cohort_with_cycle.query('cohort_4_lapsed_after_first > 0').cohort_gift_pattern.value_counts())\n",
    "print(f'cohort_4_lapsed_key_multi_year: ', donations_cohort_with_cycle.query('cohort_4_lapsed_key_multi_year > 0').cohort_gift_pattern.value_counts())\n",
    "print(f'cohort_4_lapsed_long: ', donations_cohort_with_cycle.query('cohort_4_lapsed_long > 0').cohort_gift_pattern.value_counts())\n",
    "print(f'cohort_4_lapsed_long_multi_year: ', donations_cohort_with_cycle.query('cohort_4_lapsed_long_multi_year > 0').cohort_gift_pattern.value_counts())\n",
    "\n",
    "print(f'cohort_4_lapsed_multi_year: ', donations_cohort_with_cycle.query('cohort_4_lapsed_multi_year > 0').cohort_gift_pattern.value_counts())\n",
    "print(f'cohort_4_multi_year: ', donations_cohort_with_cycle.query('cohort_4_multi_year > 0').cohort_gift_pattern.value_counts())\n",
    "print(f'cohort_4_recovered_multi_year: ', donations_cohort_with_cycle.query('cohort_4_recovered_multi_year > 0').cohort_gift_pattern.value_counts())\n",
    "print(f'cohort_4_second_year: ', donations_cohort_with_cycle.query('cohort_4_second_year > 0').cohort_gift_pattern.value_counts())\n"
   ]
  },
  {
   "cell_type": "code",
   "execution_count": 12,
   "metadata": {},
   "outputs": [
    {
     "name": "stdout",
     "output_type": "stream",
     "text": [
      "cohort_5_first_gift:  0,        1332\n",
      "0,1,       463\n",
      "0,1,2,     390\n",
      "0,2,       254\n",
      "Name: cohort_gift_pattern, dtype: int64\n",
      "cohort_5_inconsistent_multi_year:  0,1,2,4,    562\n",
      "Name: cohort_gift_pattern, dtype: int64\n",
      "cohort_5_key_multi_year:  0,1,2,3,4,    5115\n",
      "0,2,3,4,       606\n",
      "0,1,3,4,       570\n",
      "Name: cohort_gift_pattern, dtype: int64\n",
      "cohort_5_lapsed_after_first:  0,4,      4508\n",
      "0,1,4,    1826\n",
      "Name: cohort_gift_pattern, dtype: int64\n",
      "cohort_5_lapsed_after_first_long:  0,3,    6462\n",
      "Name: cohort_gift_pattern, dtype: int64\n",
      "cohort_5_lapsed_after_second:  0,3,4    1740\n",
      "Name: cohort_gift_pattern, dtype: int64\n",
      "cohort_5_lapsed_key_multi_year:  0,1,2,3,4,    4767\n",
      "Name: cohort_gift_pattern, dtype: int64\n",
      "cohort_5_lapsed_long:  0,      226577\n",
      "0,1,     28372\n",
      "0,2,     10138\n",
      "Name: cohort_gift_pattern, dtype: int64\n",
      "cohort_5_lapsed_long_key_multi_year:  0,1,2,3,    3925\n",
      "Name: cohort_gift_pattern, dtype: int64\n",
      "cohort_5_lapsed_long_multi_year:  0,1,2,    9038\n",
      "0,1,3,    2878\n",
      "0,2,3,    2231\n",
      "Name: cohort_gift_pattern, dtype: int64\n",
      "cohort_5_lapsed_multi_year:  0,1,2,4,    1777\n",
      "0,1,3,4,    1392\n",
      "0,2,3,4,    1292\n",
      "0,2,4,      1172\n",
      "Name: cohort_gift_pattern, dtype: int64\n",
      "cohort_5_multi_year:  0,3,4     455\n",
      "0,2,4,    281\n",
      "Name: cohort_gift_pattern, dtype: int64\n",
      "cohort_5_recovered_key_multi_year:  0,1,2,3,    518\n",
      "Name: cohort_gift_pattern, dtype: int64\n",
      "cohort_5_recovered_multi_year:  0,1,3,    199\n",
      "0,2,3,    181\n",
      "Name: cohort_gift_pattern, dtype: int64\n",
      "cohort_5_second_with_gap:  0,3,    315\n",
      "Name: cohort_gift_pattern, dtype: int64\n",
      "cohort_5_second_year:  0,4,      502\n",
      "0,1,4,    371\n",
      "Name: cohort_gift_pattern, dtype: int64\n"
     ]
    }
   ],
   "source": [
    "print(f'cohort_5_first_gift: ', donations_cohort_with_cycle.query('cohort_5_first_gift > 0').cohort_gift_pattern.value_counts())\n",
    "print(f'cohort_5_inconsistent_multi_year: ', donations_cohort_with_cycle.query('cohort_5_inconsistent_multi_year > 0').cohort_gift_pattern.value_counts())\n",
    "print(f'cohort_5_key_multi_year: ', donations_cohort_with_cycle.query('cohort_5_key_multi_year > 0').cohort_gift_pattern.value_counts())\n",
    "\n",
    "print(f'cohort_5_lapsed_after_first: ', donations_cohort_with_cycle.query('cohort_5_lapsed_after_first > 0').cohort_gift_pattern.value_counts())\n",
    "print(f'cohort_5_lapsed_after_first_long: ', donations_cohort_with_cycle.query('cohort_5_lapsed_after_first_long > 0').cohort_gift_pattern.value_counts())\n",
    "print(f'cohort_5_lapsed_after_second: ', donations_cohort_with_cycle.query('cohort_5_lapsed_after_second > 0').cohort_gift_pattern.value_counts())\n",
    "\n",
    "print(f'cohort_5_lapsed_key_multi_year: ', donations_cohort_with_cycle.query('cohort_5_lapsed_key_multi_year > 0').cohort_gift_pattern.value_counts())\n",
    "print(f'cohort_5_lapsed_long: ', donations_cohort_with_cycle.query('cohort_5_lapsed_long > 0').cohort_gift_pattern.value_counts())\n",
    "print(f'cohort_5_lapsed_long_key_multi_year: ', donations_cohort_with_cycle.query('cohort_5_lapsed_long_key_multi_year > 0').cohort_gift_pattern.value_counts())\n",
    "print(f'cohort_5_lapsed_long_multi_year: ', donations_cohort_with_cycle.query('cohort_5_lapsed_long_multi_year > 0').cohort_gift_pattern.value_counts())\n",
    "\n",
    "print(f'cohort_5_lapsed_multi_year: ', donations_cohort_with_cycle.query('cohort_5_lapsed_multi_year > 0').cohort_gift_pattern.value_counts())\n",
    "print(f'cohort_5_multi_year: ', donations_cohort_with_cycle.query('cohort_5_multi_year > 0').cohort_gift_pattern.value_counts())\n",
    "print(f'cohort_5_recovered_key_multi_year: ', donations_cohort_with_cycle.query('cohort_5_recovered_key_multi_year > 0').cohort_gift_pattern.value_counts())\n",
    "print(f'cohort_5_recovered_multi_year: ', donations_cohort_with_cycle.query('cohort_5_recovered_multi_year > 0').cohort_gift_pattern.value_counts())\n",
    "\n",
    "print(f'cohort_5_second_with_gap: ', donations_cohort_with_cycle.query('cohort_5_second_with_gap > 0').cohort_gift_pattern.value_counts())\n",
    "print(f'cohort_5_second_year: ', donations_cohort_with_cycle.query('cohort_5_second_year > 0').cohort_gift_pattern.value_counts())"
   ]
  },
  {
   "cell_type": "code",
   "execution_count": 13,
   "metadata": {},
   "outputs": [
    {
     "name": "stdout",
     "output_type": "stream",
     "text": [
      "cohort_6_first_gift:  0,    1\n",
      "Name: cohort_gift_pattern, dtype: int64\n",
      "cohort_6_key_multi_year:  0,1,2,3,4,    1\n",
      "Name: cohort_gift_pattern, dtype: int64\n",
      "cohort_6_lapsed_after_first:  0,    3\n",
      "Name: cohort_gift_pattern, dtype: int64\n",
      "cohort_6_lapsed_after_first_long:  0,1,4,    1\n",
      "Name: cohort_gift_pattern, dtype: int64\n",
      "cohort_6_lapsed_after_second:  0,3,    1\n",
      "Name: cohort_gift_pattern, dtype: int64\n",
      "cohort_6_lapsed_key_multi_year:  0,1,2,3,4,    2\n",
      "Name: cohort_gift_pattern, dtype: int64\n",
      "cohort_6_lapsed_long:  0,      98\n",
      "0,1,    18\n",
      "0,3,     3\n",
      "0,2,     2\n",
      "Name: cohort_gift_pattern, dtype: int64\n",
      "cohort_6_lapsed_long_key_multi_year:  0,1,2,3,4,    1\n",
      "Name: cohort_gift_pattern, dtype: int64\n",
      "cohort_6_lapsed_long_multi_year:  0,1,2,      5\n",
      "0,1,3,      2\n",
      "0,1,2,4,    1\n",
      "0,1,2,3,    1\n",
      "Name: cohort_gift_pattern, dtype: int64\n",
      "cohort_6_multi_year:  0,1,2,4,    1\n",
      "Name: cohort_gift_pattern, dtype: int64\n"
     ]
    }
   ],
   "source": [
    "print(f'cohort_6_first_gift: ', donations_cohort_with_cycle.query('cohort_6_first_gift > 0').cohort_gift_pattern.value_counts())\n",
    "print(f'cohort_6_key_multi_year: ', donations_cohort_with_cycle.query('cohort_6_key_multi_year > 0').cohort_gift_pattern.value_counts())\n",
    "\n",
    "print(f'cohort_6_lapsed_after_first: ', donations_cohort_with_cycle.query('cohort_6_lapsed_after_first > 0').cohort_gift_pattern.value_counts())\n",
    "print(f'cohort_6_lapsed_after_first_long: ', donations_cohort_with_cycle.query('cohort_6_lapsed_after_first_long > 0').cohort_gift_pattern.value_counts())\n",
    "print(f'cohort_6_lapsed_after_second: ', donations_cohort_with_cycle.query('cohort_6_lapsed_after_second > 0').cohort_gift_pattern.value_counts())\n",
    "\n",
    "print(f'cohort_6_lapsed_key_multi_year: ', donations_cohort_with_cycle.query('cohort_6_lapsed_key_multi_year > 0').cohort_gift_pattern.value_counts())\n",
    "print(f'cohort_6_lapsed_long: ', donations_cohort_with_cycle.query('cohort_6_lapsed_long > 0').cohort_gift_pattern.value_counts())\n",
    "print(f'cohort_6_lapsed_long_key_multi_year: ', donations_cohort_with_cycle.query('cohort_6_lapsed_long_key_multi_year > 0').cohort_gift_pattern.value_counts())\n",
    "print(f'cohort_6_lapsed_long_multi_year: ', donations_cohort_with_cycle.query('cohort_6_lapsed_long_multi_year > 0').cohort_gift_pattern.value_counts())\n",
    "\n",
    "print(f'cohort_6_multi_year: ', donations_cohort_with_cycle.query('cohort_6_multi_year > 0').cohort_gift_pattern.value_counts())"
   ]
  },
  {
   "cell_type": "code",
   "execution_count": 14,
   "metadata": {},
   "outputs": [
    {
     "data": {
      "text/html": [
       "<div>\n",
       "<style scoped>\n",
       "    .dataframe tbody tr th:only-of-type {\n",
       "        vertical-align: middle;\n",
       "    }\n",
       "\n",
       "    .dataframe tbody tr th {\n",
       "        vertical-align: top;\n",
       "    }\n",
       "\n",
       "    .dataframe thead th {\n",
       "        text-align: right;\n",
       "    }\n",
       "</style>\n",
       "<table border=\"1\" class=\"dataframe\">\n",
       "  <thead>\n",
       "    <tr style=\"text-align: right;\">\n",
       "      <th></th>\n",
       "      <th>id</th>\n",
       "      <th>first_gift_year</th>\n",
       "      <th>lapsed_count</th>\n",
       "      <th>recovered_count</th>\n",
       "      <th>max_consec_giving_years</th>\n",
       "      <th>total_giving_years</th>\n",
       "      <th>count_2013</th>\n",
       "      <th>count_2014</th>\n",
       "      <th>count_2015</th>\n",
       "      <th>count_2016</th>\n",
       "      <th>...</th>\n",
       "      <th>amount_06_2017</th>\n",
       "      <th>amount_07_2017</th>\n",
       "      <th>amount_08_2017</th>\n",
       "      <th>amount_09_2017</th>\n",
       "      <th>amount_10_2017</th>\n",
       "      <th>amount_11_2017</th>\n",
       "      <th>amount_12_2017</th>\n",
       "      <th>amount_total</th>\n",
       "      <th>count_total</th>\n",
       "      <th>cohort_gift_pattern</th>\n",
       "    </tr>\n",
       "  </thead>\n",
       "  <tbody>\n",
       "    <tr>\n",
       "      <td>545726</td>\n",
       "      <td>44f5e8002149cc536599f46eb1a40139</td>\n",
       "      <td>2012-01-01</td>\n",
       "      <td>7</td>\n",
       "      <td>6</td>\n",
       "      <td>3</td>\n",
       "      <td>6</td>\n",
       "      <td>1</td>\n",
       "      <td>1</td>\n",
       "      <td>0</td>\n",
       "      <td>2</td>\n",
       "      <td>...</td>\n",
       "      <td>0.0</td>\n",
       "      <td>0.0</td>\n",
       "      <td>116.28</td>\n",
       "      <td>131.8</td>\n",
       "      <td>0.0</td>\n",
       "      <td>0.0</td>\n",
       "      <td>0.0</td>\n",
       "      <td>1083.9</td>\n",
       "      <td>6</td>\n",
       "      <td>0,1,2,4,</td>\n",
       "    </tr>\n",
       "  </tbody>\n",
       "</table>\n",
       "<p>1 rows × 187 columns</p>\n",
       "</div>"
      ],
      "text/plain": [
       "                                      id first_gift_year  lapsed_count  \\\n",
       "545726  44f5e8002149cc536599f46eb1a40139      2012-01-01             7   \n",
       "\n",
       "        recovered_count  max_consec_giving_years  total_giving_years  \\\n",
       "545726                6                        3                   6   \n",
       "\n",
       "        count_2013  count_2014  count_2015  count_2016  ...  amount_06_2017  \\\n",
       "545726           1           1           0           2  ...             0.0   \n",
       "\n",
       "        amount_07_2017  amount_08_2017  amount_09_2017  amount_10_2017  \\\n",
       "545726             0.0          116.28           131.8             0.0   \n",
       "\n",
       "        amount_11_2017  amount_12_2017  amount_total  count_total  \\\n",
       "545726             0.0             0.0        1083.9            6   \n",
       "\n",
       "        cohort_gift_pattern  \n",
       "545726             0,1,2,4,  \n",
       "\n",
       "[1 rows x 187 columns]"
      ]
     },
     "execution_count": 14,
     "metadata": {},
     "output_type": "execute_result"
    }
   ],
   "source": [
    "donations_cohort_with_cycle.query('cohort_6_multi_year > 0')"
   ]
  },
  {
   "cell_type": "code",
   "execution_count": 15,
   "metadata": {},
   "outputs": [
    {
     "data": {
      "text/plain": [
       "4549913.200000005"
      ]
     },
     "execution_count": 15,
     "metadata": {},
     "output_type": "execute_result"
    }
   ],
   "source": [
    "donations_cohort_with_cycle.query('second_year > 0 & first_gift_year == \"2017-01-01\"').sum()['amount_yr1']"
   ]
  },
  {
   "cell_type": "code",
   "execution_count": 16,
   "metadata": {},
   "outputs": [],
   "source": [
    "c13=donations_cohort_with_cycle.query('first_gift_year ==\"2013-01-01\"')"
   ]
  },
  {
   "cell_type": "code",
   "execution_count": 17,
   "metadata": {},
   "outputs": [
    {
     "data": {
      "text/plain": [
       "320069"
      ]
     },
     "execution_count": 17,
     "metadata": {},
     "output_type": "execute_result"
    }
   ],
   "source": [
    "c13.cohort_0_first_gift.sum()"
   ]
  },
  {
   "cell_type": "code",
   "execution_count": 18,
   "metadata": {},
   "outputs": [
    {
     "data": {
      "text/plain": [
       "19.411439408377568"
      ]
     },
     "execution_count": 18,
     "metadata": {},
     "output_type": "execute_result"
    }
   ],
   "source": [
    "c13.cohort_1_second_year.sum()/c13.cohort_0_first_gift.sum()*100"
   ]
  },
  {
   "cell_type": "code",
   "execution_count": 19,
   "metadata": {},
   "outputs": [],
   "source": [
    "df=donations_cohort_with_cycle[[\n",
    "'id',\n",
    "'first_gift_year',\n",
    "'initial',\n",
    "'first_gift',\n",
    "'second_year',\n",
    "'second_with_gap',\n",
    "'multi_year',\n",
    "'key_multi_year',\n",
    "'recovered_multi_year',\n",
    "'inconsistent_multi_year ',\n",
    "'recovered_key_multi_year',\n",
    "'lapsed_after_first',\n",
    "'lapsed_after_first_long',\n",
    "'lapsed_after_second',\n",
    "'lapsed_multi_year',\n",
    "'lapsed_long_multi_year',\n",
    "'lapsed_key_multi_year',\n",
    "'lapsed_long',\n",
    "'cohort_0_first_gift',\n",
    "'cohort_1_lapsed_after_first',\n",
    "'cohort_1_second_year',\n",
    "'cohort_2_lapsed_after_first_long',\n",
    "'cohort_2_lapsed_after_second',\n",
    "'cohort_2_multi_year',\n",
    "'cohort_2_second_with_gap',\n",
    "'cohort_3_first_gift',\n",
    "'cohort_3_inconsistent_multi_year',\n",
    "'cohort_3_key_multi_year',\n",
    "'cohort_3_lapsed_after_second',\n",
    "'cohort_3_lapsed_long',\n",
    "'cohort_3_lapsed_multi_year',\n",
    "'cohort_4_first_gift',\n",
    "'cohort_4_inconsistent_multi_year',\n",
    "'cohort_4_key_multi_year',\n",
    "'cohort_4_lapsed_after_first',\n",
    "'cohort_4_lapsed_key_multi_year',\n",
    "'cohort_4_lapsed_long',\n",
    "'cohort_4_lapsed_long_multi_year',\n",
    "'cohort_4_lapsed_multi_year',\n",
    "'cohort_4_multi_year',\n",
    "'cohort_4_recovered_multi_year',\n",
    "'cohort_4_second_year',\n",
    "'cohort_5_first_gift',\n",
    "'cohort_5_inconsistent_multi_year',\n",
    "'cohort_5_key_multi_year',\n",
    "'cohort_5_lapsed_after_first',\n",
    "'cohort_5_lapsed_after_first_long',\n",
    "'cohort_5_lapsed_after_second',\n",
    "'cohort_5_lapsed_key_multi_year',\n",
    "'cohort_5_lapsed_long',\n",
    "'cohort_5_lapsed_long_key_multi_year',\n",
    "'cohort_5_lapsed_long_multi_year',\n",
    "'cohort_5_lapsed_multi_year',\n",
    "'cohort_5_multi_year',\n",
    "'cohort_5_recovered_key_multi_year',\n",
    "'cohort_5_recovered_multi_year',\n",
    "'cohort_5_second_with_gap',\n",
    "'cohort_5_second_year',\n",
    "'cohort_6_first_gift',\n",
    "'cohort_6_key_multi_year',\n",
    "'cohort_6_lapsed_after_first',\n",
    "'cohort_6_lapsed_after_first_long',\n",
    "'cohort_6_lapsed_after_second',\n",
    "'cohort_6_lapsed_key_multi_year',\n",
    "'cohort_6_lapsed_long',\n",
    "'cohort_6_lapsed_long_key_multi_year',\n",
    "'cohort_6_lapsed_long_multi_year',\n",
    "'cohort_6_multi_year'\n",
    "]].copy()"
   ]
  },
  {
   "cell_type": "code",
   "execution_count": 20,
   "metadata": {},
   "outputs": [
    {
     "data": {
      "text/html": [
       "<div>\n",
       "<style scoped>\n",
       "    .dataframe tbody tr th:only-of-type {\n",
       "        vertical-align: middle;\n",
       "    }\n",
       "\n",
       "    .dataframe tbody tr th {\n",
       "        vertical-align: top;\n",
       "    }\n",
       "\n",
       "    .dataframe thead th {\n",
       "        text-align: right;\n",
       "    }\n",
       "</style>\n",
       "<table border=\"1\" class=\"dataframe\">\n",
       "  <thead>\n",
       "    <tr style=\"text-align: right;\">\n",
       "      <th></th>\n",
       "      <th>id</th>\n",
       "      <th>first_gift_year</th>\n",
       "      <th>initial</th>\n",
       "      <th>first_gift</th>\n",
       "      <th>second_year</th>\n",
       "      <th>second_with_gap</th>\n",
       "      <th>multi_year</th>\n",
       "      <th>key_multi_year</th>\n",
       "      <th>recovered_multi_year</th>\n",
       "      <th>inconsistent_multi_year</th>\n",
       "      <th>...</th>\n",
       "      <th>cohort_6_first_gift</th>\n",
       "      <th>cohort_6_key_multi_year</th>\n",
       "      <th>cohort_6_lapsed_after_first</th>\n",
       "      <th>cohort_6_lapsed_after_first_long</th>\n",
       "      <th>cohort_6_lapsed_after_second</th>\n",
       "      <th>cohort_6_lapsed_key_multi_year</th>\n",
       "      <th>cohort_6_lapsed_long</th>\n",
       "      <th>cohort_6_lapsed_long_key_multi_year</th>\n",
       "      <th>cohort_6_lapsed_long_multi_year</th>\n",
       "      <th>cohort_6_multi_year</th>\n",
       "    </tr>\n",
       "  </thead>\n",
       "  <tbody>\n",
       "    <tr>\n",
       "      <td>0</td>\n",
       "      <td>00000ce845c00cbf0686c992fc369df4</td>\n",
       "      <td>2013-01-01</td>\n",
       "      <td>0</td>\n",
       "      <td>0</td>\n",
       "      <td>0</td>\n",
       "      <td>0</td>\n",
       "      <td>0</td>\n",
       "      <td>0</td>\n",
       "      <td>0</td>\n",
       "      <td>0</td>\n",
       "      <td>...</td>\n",
       "      <td>0</td>\n",
       "      <td>0</td>\n",
       "      <td>0</td>\n",
       "      <td>0</td>\n",
       "      <td>0</td>\n",
       "      <td>0</td>\n",
       "      <td>0</td>\n",
       "      <td>0</td>\n",
       "      <td>0</td>\n",
       "      <td>NaN</td>\n",
       "    </tr>\n",
       "    <tr>\n",
       "      <td>1</td>\n",
       "      <td>00002783bc5d108510f3f9666c8b1edd</td>\n",
       "      <td>2016-01-01</td>\n",
       "      <td>0</td>\n",
       "      <td>0</td>\n",
       "      <td>0</td>\n",
       "      <td>0</td>\n",
       "      <td>0</td>\n",
       "      <td>0</td>\n",
       "      <td>0</td>\n",
       "      <td>0</td>\n",
       "      <td>...</td>\n",
       "      <td>0</td>\n",
       "      <td>0</td>\n",
       "      <td>0</td>\n",
       "      <td>0</td>\n",
       "      <td>0</td>\n",
       "      <td>0</td>\n",
       "      <td>0</td>\n",
       "      <td>0</td>\n",
       "      <td>0</td>\n",
       "      <td>NaN</td>\n",
       "    </tr>\n",
       "    <tr>\n",
       "      <td>2</td>\n",
       "      <td>00002d44003ed46b066607c5455a999a</td>\n",
       "      <td>2016-01-01</td>\n",
       "      <td>0</td>\n",
       "      <td>0</td>\n",
       "      <td>1</td>\n",
       "      <td>0</td>\n",
       "      <td>0</td>\n",
       "      <td>0</td>\n",
       "      <td>0</td>\n",
       "      <td>0</td>\n",
       "      <td>...</td>\n",
       "      <td>0</td>\n",
       "      <td>0</td>\n",
       "      <td>0</td>\n",
       "      <td>0</td>\n",
       "      <td>0</td>\n",
       "      <td>0</td>\n",
       "      <td>0</td>\n",
       "      <td>0</td>\n",
       "      <td>0</td>\n",
       "      <td>NaN</td>\n",
       "    </tr>\n",
       "    <tr>\n",
       "      <td>3</td>\n",
       "      <td>00002eb25d60a09c318efbd0797bffb5</td>\n",
       "      <td>2015-01-01</td>\n",
       "      <td>0</td>\n",
       "      <td>0</td>\n",
       "      <td>0</td>\n",
       "      <td>0</td>\n",
       "      <td>0</td>\n",
       "      <td>1</td>\n",
       "      <td>0</td>\n",
       "      <td>0</td>\n",
       "      <td>...</td>\n",
       "      <td>0</td>\n",
       "      <td>0</td>\n",
       "      <td>0</td>\n",
       "      <td>0</td>\n",
       "      <td>0</td>\n",
       "      <td>0</td>\n",
       "      <td>0</td>\n",
       "      <td>0</td>\n",
       "      <td>0</td>\n",
       "      <td>NaN</td>\n",
       "    </tr>\n",
       "    <tr>\n",
       "      <td>4</td>\n",
       "      <td>0000300773fe015f870914b42528541b</td>\n",
       "      <td>2017-01-01</td>\n",
       "      <td>0</td>\n",
       "      <td>0</td>\n",
       "      <td>0</td>\n",
       "      <td>0</td>\n",
       "      <td>0</td>\n",
       "      <td>0</td>\n",
       "      <td>0</td>\n",
       "      <td>0</td>\n",
       "      <td>...</td>\n",
       "      <td>0</td>\n",
       "      <td>0</td>\n",
       "      <td>0</td>\n",
       "      <td>0</td>\n",
       "      <td>0</td>\n",
       "      <td>0</td>\n",
       "      <td>0</td>\n",
       "      <td>0</td>\n",
       "      <td>0</td>\n",
       "      <td>NaN</td>\n",
       "    </tr>\n",
       "  </tbody>\n",
       "</table>\n",
       "<p>5 rows × 68 columns</p>\n",
       "</div>"
      ],
      "text/plain": [
       "                                 id first_gift_year  initial  first_gift  \\\n",
       "0  00000ce845c00cbf0686c992fc369df4      2013-01-01        0           0   \n",
       "1  00002783bc5d108510f3f9666c8b1edd      2016-01-01        0           0   \n",
       "2  00002d44003ed46b066607c5455a999a      2016-01-01        0           0   \n",
       "3  00002eb25d60a09c318efbd0797bffb5      2015-01-01        0           0   \n",
       "4  0000300773fe015f870914b42528541b      2017-01-01        0           0   \n",
       "\n",
       "   second_year  second_with_gap  multi_year  key_multi_year  \\\n",
       "0            0                0           0               0   \n",
       "1            0                0           0               0   \n",
       "2            1                0           0               0   \n",
       "3            0                0           0               1   \n",
       "4            0                0           0               0   \n",
       "\n",
       "   recovered_multi_year  inconsistent_multi_year   ...  cohort_6_first_gift  \\\n",
       "0                     0                         0  ...                    0   \n",
       "1                     0                         0  ...                    0   \n",
       "2                     0                         0  ...                    0   \n",
       "3                     0                         0  ...                    0   \n",
       "4                     0                         0  ...                    0   \n",
       "\n",
       "   cohort_6_key_multi_year  cohort_6_lapsed_after_first  \\\n",
       "0                        0                            0   \n",
       "1                        0                            0   \n",
       "2                        0                            0   \n",
       "3                        0                            0   \n",
       "4                        0                            0   \n",
       "\n",
       "   cohort_6_lapsed_after_first_long  cohort_6_lapsed_after_second  \\\n",
       "0                                 0                             0   \n",
       "1                                 0                             0   \n",
       "2                                 0                             0   \n",
       "3                                 0                             0   \n",
       "4                                 0                             0   \n",
       "\n",
       "   cohort_6_lapsed_key_multi_year  cohort_6_lapsed_long  \\\n",
       "0                               0                     0   \n",
       "1                               0                     0   \n",
       "2                               0                     0   \n",
       "3                               0                     0   \n",
       "4                               0                     0   \n",
       "\n",
       "   cohort_6_lapsed_long_key_multi_year  cohort_6_lapsed_long_multi_year  \\\n",
       "0                                    0                                0   \n",
       "1                                    0                                0   \n",
       "2                                    0                                0   \n",
       "3                                    0                                0   \n",
       "4                                    0                                0   \n",
       "\n",
       "   cohort_6_multi_year  \n",
       "0                  NaN  \n",
       "1                  NaN  \n",
       "2                  NaN  \n",
       "3                  NaN  \n",
       "4                  NaN  \n",
       "\n",
       "[5 rows x 68 columns]"
      ]
     },
     "execution_count": 20,
     "metadata": {},
     "output_type": "execute_result"
    }
   ],
   "source": [
    "df.head()"
   ]
  },
  {
   "cell_type": "markdown",
   "metadata": {},
   "source": [
    "### Start here: recreating Pete's csv"
   ]
  },
  {
   "cell_type": "code",
   "execution_count": 50,
   "metadata": {},
   "outputs": [],
   "source": [
    "grouped=df.groupby('first_gift_year').sum().reset_index()"
   ]
  },
  {
   "cell_type": "code",
   "execution_count": 51,
   "metadata": {},
   "outputs": [
    {
     "data": {
      "text/html": [
       "<div>\n",
       "<style scoped>\n",
       "    .dataframe tbody tr th:only-of-type {\n",
       "        vertical-align: middle;\n",
       "    }\n",
       "\n",
       "    .dataframe tbody tr th {\n",
       "        vertical-align: top;\n",
       "    }\n",
       "\n",
       "    .dataframe thead th {\n",
       "        text-align: right;\n",
       "    }\n",
       "</style>\n",
       "<table border=\"1\" class=\"dataframe\">\n",
       "  <thead>\n",
       "    <tr style=\"text-align: right;\">\n",
       "      <th></th>\n",
       "      <th>first_gift_year</th>\n",
       "      <th>amount_yr0</th>\n",
       "      <th>amount_yr1</th>\n",
       "      <th>amount_yr2</th>\n",
       "      <th>amount_yr3</th>\n",
       "      <th>amount_yr4</th>\n",
       "      <th>count_yr0</th>\n",
       "      <th>count_yr1</th>\n",
       "      <th>count_yr2</th>\n",
       "      <th>count_yr3</th>\n",
       "      <th>...</th>\n",
       "      <th>upgraded_amount_yr3</th>\n",
       "      <th>upgraded_amount_yr4</th>\n",
       "      <th>downgraded_amount_yr0</th>\n",
       "      <th>downgraded_amount_yr1</th>\n",
       "      <th>downgraded_amount_yr2</th>\n",
       "      <th>downgraded_amount_yr3</th>\n",
       "      <th>downgraded_amount_yr4</th>\n",
       "      <th>amount_total</th>\n",
       "      <th>count_total</th>\n",
       "      <th>cohort</th>\n",
       "    </tr>\n",
       "  </thead>\n",
       "  <tbody>\n",
       "    <tr>\n",
       "      <td>0</td>\n",
       "      <td>2012-01-01</td>\n",
       "      <td>2.484264e+04</td>\n",
       "      <td>16421.14</td>\n",
       "      <td>19231.41</td>\n",
       "      <td>8218.47</td>\n",
       "      <td>5416.33</td>\n",
       "      <td>149</td>\n",
       "      <td>916</td>\n",
       "      <td>1639</td>\n",
       "      <td>727</td>\n",
       "      <td>...</td>\n",
       "      <td>246.31</td>\n",
       "      <td>1.00</td>\n",
       "      <td>0.0</td>\n",
       "      <td>905.00</td>\n",
       "      <td>524.00</td>\n",
       "      <td>11147.97</td>\n",
       "      <td>3307.96</td>\n",
       "      <td>5.303426e+04</td>\n",
       "      <td>3897</td>\n",
       "      <td>283692</td>\n",
       "    </tr>\n",
       "    <tr>\n",
       "      <td>1</td>\n",
       "      <td>2013-01-01</td>\n",
       "      <td>3.041176e+07</td>\n",
       "      <td>15267703.98</td>\n",
       "      <td>12587307.39</td>\n",
       "      <td>11398269.65</td>\n",
       "      <td>11155755.22</td>\n",
       "      <td>573067</td>\n",
       "      <td>283622</td>\n",
       "      <td>183426</td>\n",
       "      <td>152195</td>\n",
       "      <td>...</td>\n",
       "      <td>2803829.96</td>\n",
       "      <td>3012995.58</td>\n",
       "      <td>0.0</td>\n",
       "      <td>4491997.15</td>\n",
       "      <td>3786826.85</td>\n",
       "      <td>2813452.88</td>\n",
       "      <td>2623391.85</td>\n",
       "      <td>8.082080e+07</td>\n",
       "      <td>1352157</td>\n",
       "      <td>644298897</td>\n",
       "    </tr>\n",
       "    <tr>\n",
       "      <td>2</td>\n",
       "      <td>2014-01-01</td>\n",
       "      <td>2.617428e+07</td>\n",
       "      <td>7745897.26</td>\n",
       "      <td>6437708.77</td>\n",
       "      <td>5818855.02</td>\n",
       "      <td>1874641.80</td>\n",
       "      <td>461347</td>\n",
       "      <td>131028</td>\n",
       "      <td>89558</td>\n",
       "      <td>86127</td>\n",
       "      <td>...</td>\n",
       "      <td>1569322.23</td>\n",
       "      <td>294075.67</td>\n",
       "      <td>0.0</td>\n",
       "      <td>2633662.15</td>\n",
       "      <td>1618257.48</td>\n",
       "      <td>1510965.57</td>\n",
       "      <td>2001740.67</td>\n",
       "      <td>4.617674e+07</td>\n",
       "      <td>768060</td>\n",
       "      <td>645835422</td>\n",
       "    </tr>\n",
       "    <tr>\n",
       "      <td>3</td>\n",
       "      <td>2015-01-01</td>\n",
       "      <td>3.014688e+07</td>\n",
       "      <td>8280549.87</td>\n",
       "      <td>7444145.63</td>\n",
       "      <td>2329381.58</td>\n",
       "      <td>0.00</td>\n",
       "      <td>468181</td>\n",
       "      <td>112446</td>\n",
       "      <td>98311</td>\n",
       "      <td>29555</td>\n",
       "      <td>...</td>\n",
       "      <td>350603.84</td>\n",
       "      <td>0.00</td>\n",
       "      <td>0.0</td>\n",
       "      <td>2560692.28</td>\n",
       "      <td>1665471.64</td>\n",
       "      <td>2580070.49</td>\n",
       "      <td>0.00</td>\n",
       "      <td>4.587157e+07</td>\n",
       "      <td>678938</td>\n",
       "      <td>715601055</td>\n",
       "    </tr>\n",
       "    <tr>\n",
       "      <td>4</td>\n",
       "      <td>2016-01-01</td>\n",
       "      <td>3.653021e+07</td>\n",
       "      <td>10475760.27</td>\n",
       "      <td>2885540.02</td>\n",
       "      <td>0.00</td>\n",
       "      <td>0.00</td>\n",
       "      <td>602717</td>\n",
       "      <td>177433</td>\n",
       "      <td>46209</td>\n",
       "      <td>0</td>\n",
       "      <td>...</td>\n",
       "      <td>0.00</td>\n",
       "      <td>0.00</td>\n",
       "      <td>0.0</td>\n",
       "      <td>3301217.01</td>\n",
       "      <td>3056365.27</td>\n",
       "      <td>0.00</td>\n",
       "      <td>0.00</td>\n",
       "      <td>4.700597e+07</td>\n",
       "      <td>780150</td>\n",
       "      <td>898325568</td>\n",
       "    </tr>\n",
       "    <tr>\n",
       "      <td>5</td>\n",
       "      <td>2017-01-01</td>\n",
       "      <td>3.797377e+07</td>\n",
       "      <td>4549913.20</td>\n",
       "      <td>0.00</td>\n",
       "      <td>0.00</td>\n",
       "      <td>0.00</td>\n",
       "      <td>668558</td>\n",
       "      <td>71604</td>\n",
       "      <td>0</td>\n",
       "      <td>0</td>\n",
       "      <td>...</td>\n",
       "      <td>0.00</td>\n",
       "      <td>0.00</td>\n",
       "      <td>0.0</td>\n",
       "      <td>3282574.70</td>\n",
       "      <td>0.00</td>\n",
       "      <td>0.00</td>\n",
       "      <td>0.00</td>\n",
       "      <td>3.797377e+07</td>\n",
       "      <td>668558</td>\n",
       "      <td>877376847</td>\n",
       "    </tr>\n",
       "    <tr>\n",
       "      <td>6</td>\n",
       "      <td>2018-01-01</td>\n",
       "      <td>1.127586e+07</td>\n",
       "      <td>0.00</td>\n",
       "      <td>0.00</td>\n",
       "      <td>0.00</td>\n",
       "      <td>0.00</td>\n",
       "      <td>208824</td>\n",
       "      <td>0</td>\n",
       "      <td>0</td>\n",
       "      <td>0</td>\n",
       "      <td>...</td>\n",
       "      <td>0.00</td>\n",
       "      <td>0.00</td>\n",
       "      <td>0.0</td>\n",
       "      <td>0.00</td>\n",
       "      <td>0.00</td>\n",
       "      <td>0.00</td>\n",
       "      <td>0.00</td>\n",
       "      <td>0.000000e+00</td>\n",
       "      <td>0</td>\n",
       "      <td>298553010</td>\n",
       "    </tr>\n",
       "  </tbody>\n",
       "</table>\n",
       "<p>7 rows × 85 columns</p>\n",
       "</div>"
      ],
      "text/plain": [
       "  first_gift_year    amount_yr0   amount_yr1   amount_yr2   amount_yr3  \\\n",
       "0      2012-01-01  2.484264e+04     16421.14     19231.41      8218.47   \n",
       "1      2013-01-01  3.041176e+07  15267703.98  12587307.39  11398269.65   \n",
       "2      2014-01-01  2.617428e+07   7745897.26   6437708.77   5818855.02   \n",
       "3      2015-01-01  3.014688e+07   8280549.87   7444145.63   2329381.58   \n",
       "4      2016-01-01  3.653021e+07  10475760.27   2885540.02         0.00   \n",
       "5      2017-01-01  3.797377e+07   4549913.20         0.00         0.00   \n",
       "6      2018-01-01  1.127586e+07         0.00         0.00         0.00   \n",
       "\n",
       "    amount_yr4  count_yr0  count_yr1  count_yr2  count_yr3  ...  \\\n",
       "0      5416.33        149        916       1639        727  ...   \n",
       "1  11155755.22     573067     283622     183426     152195  ...   \n",
       "2   1874641.80     461347     131028      89558      86127  ...   \n",
       "3         0.00     468181     112446      98311      29555  ...   \n",
       "4         0.00     602717     177433      46209          0  ...   \n",
       "5         0.00     668558      71604          0          0  ...   \n",
       "6         0.00     208824          0          0          0  ...   \n",
       "\n",
       "   upgraded_amount_yr3  upgraded_amount_yr4  downgraded_amount_yr0  \\\n",
       "0               246.31                 1.00                    0.0   \n",
       "1           2803829.96           3012995.58                    0.0   \n",
       "2           1569322.23            294075.67                    0.0   \n",
       "3            350603.84                 0.00                    0.0   \n",
       "4                 0.00                 0.00                    0.0   \n",
       "5                 0.00                 0.00                    0.0   \n",
       "6                 0.00                 0.00                    0.0   \n",
       "\n",
       "   downgraded_amount_yr1  downgraded_amount_yr2  downgraded_amount_yr3  \\\n",
       "0                 905.00                 524.00               11147.97   \n",
       "1             4491997.15             3786826.85             2813452.88   \n",
       "2             2633662.15             1618257.48             1510965.57   \n",
       "3             2560692.28             1665471.64             2580070.49   \n",
       "4             3301217.01             3056365.27                   0.00   \n",
       "5             3282574.70                   0.00                   0.00   \n",
       "6                   0.00                   0.00                   0.00   \n",
       "\n",
       "   downgraded_amount_yr4  amount_total  count_total     cohort  \n",
       "0                3307.96  5.303426e+04         3897     283692  \n",
       "1             2623391.85  8.082080e+07      1352157  644298897  \n",
       "2             2001740.67  4.617674e+07       768060  645835422  \n",
       "3                   0.00  4.587157e+07       678938  715601055  \n",
       "4                   0.00  4.700597e+07       780150  898325568  \n",
       "5                   0.00  3.797377e+07       668558  877376847  \n",
       "6                   0.00  0.000000e+00            0  298553010  \n",
       "\n",
       "[7 rows x 85 columns]"
      ]
     },
     "execution_count": 51,
     "metadata": {},
     "output_type": "execute_result"
    }
   ],
   "source": [
    "grouped"
   ]
  },
  {
   "cell_type": "code",
   "execution_count": 52,
   "metadata": {},
   "outputs": [],
   "source": [
    "# here is the sql query I ran \n",
    "\n",
    "# select\n",
    "# first_gift_year,\n",
    "\n",
    "#sum(lifecycle_cohort_0_first_gift) as first_gift_cnt,\n",
    "first_gift_cnt=grouped.cohort_0_first_gift\n",
    "\n",
    "# sum(lifecycle_cohort_1_second_year)   as second_year_cnt,\n",
    "second_year_cnt=grouped.cohort_1_second_year\n",
    "\n",
    "# sum(lifecycle_cohort_2_lapsed_after_second)   as lapsed_after_second_cnt,\n",
    "lapsed_after_second_cnt=grouped.cohort_2_lapsed_after_second\n",
    "\n",
    "# sum(lifecycle_cohort_2_second_with_gap)   as second_with_gap_cnt,\n",
    "second_with_gap_cnt=grouped.cohort_2_second_with_gap\n",
    "\n",
    "# sum(lifecycle_cohort_2_lapsed_after_first_long)   as lapsed_after_first_long_cnt\n",
    "lapsed_after_first_long_cnt=grouped.cohort_2_lapsed_after_first_long\n",
    "\n",
    "# sum(lifecycle_cohort_2_multi_year)   as multi_year_cnt,\n",
    "multi_year_cnt=grouped.cohort_2_multi_year\n",
    "\n",
    "\n",
    "# ((sum(lifecycle_cohort_1_second_year * 1.0) ) / \n",
    "#  (sum(lifecycle_cohort_0_first_gift  * 1.0))) * 100.0 as second_year,\n",
    "second_year=second_year_cnt/first_gift_cnt*100\n",
    "\n",
    "# ((sum(lifecycle_cohort_1_second_year * cohort_amount_in_year_in_1) ) / \n",
    "#  (sum(lifecycle_cohort_1_second_year  * 1.0))) / 100.0 as second_year_avg,\n",
    "second_year_avg=second_year_avg=(donations_cohort_with_cycle.groupby('first_gift_year').sum()['amount_yr1'].reset_index()['amount_yr1'])/second_year_cnt\n",
    "\n",
    "# ((sum(lifecycle_cohort_1_lapsed_after_first * 1.0) ) / \n",
    "#  (sum(lifecycle_cohort_0_first_gift  * 1.0))) * 100.0 as lapsed_after_first,\n",
    "lapsed_after_first=grouped.cohort_1_lapsed_after_first/first_gift_cnt*100\n",
    "\n",
    "# ((sum(lifecycle_cohort_2_multi_year * 1.0) ) / \n",
    "#  (sum(lifecycle_cohort_1_second_year  * 1.0))) * 100.0 as multi_year,\n",
    "multi_year=grouped.cohort_2_multi_year/second_year_cnt*100\n",
    "\n",
    "\n",
    "# ((sum(lifecycle_cohort_2_multi_year * cohort_amount_in_year_in_2) ) / \n",
    "#  (sum(lifecycle_cohort_2_multi_year  * 1.0))) / 100.0 as multi_year_avg,\n",
    "multi_year_avg=(donations_cohort_with_cycle.query('cohort_2_multi_year > 0').groupby('first_gift_year').sum()['amount_yr2'].reset_index()['amount_yr2'])/multi_year_cnt\n",
    "\n",
    "\n",
    "# ((sum(lifecycle_cohort_2_lapsed_after_second * 1.0) ) / \n",
    "#  (sum(lifecycle_cohort_1_second_year  * 1.0))) * 100.0 as lapsed_after_second,\n",
    "lapsed_after_second=lapsed_after_second_cnt/second_year_cnt*100\n",
    "\n",
    "# ((sum(lifecycle_cohort_2_second_with_gap * 1.0) ) / \n",
    "#  (sum(lifecycle_cohort_1_lapsed_after_first  * 1.0))) * 100.0 as second_with_gap,\n",
    "second_with_gap=second_with_gap_cnt/grouped.cohort_1_lapsed_after_first*100\n",
    "\n",
    "\n",
    "# ((sum(lifecycle_cohort_2_second_with_gap * cohort_amount_in_year_in_2) ) / \n",
    "#  (sum(lifecycle_cohort_2_second_with_gap  * 1.0))) / 100.0 as second_with_gap_avg,\n",
    "second_with_gap_avg=(donations_cohort_with_cycle.query('cohort_2_second_with_gap > 0').groupby('first_gift_year').sum()['amount_yr2'].reset_index()['amount_yr2'])/second_with_gap_cnt\n",
    "\n",
    "# ((sum(lifecycle_cohort_2_lapsed_after_first_long * 1.0) ) / \n",
    "#  (sum(lifecycle_cohort_1_lapsed_after_first  * 1.0))) * 100.0 as lapsed_after_first_long,\n",
    "lapsed_after_first_long=lapsed_after_first_long_cnt/grouped.cohort_1_lapsed_after_first*100\n",
    "\n",
    "\n",
    "\n",
    "# from donationslifecycles\n",
    "# group by first_gift_year\n",
    "\n",
    "# which gives the attached csv which should show some of the power we can get in sql\n"
   ]
  },
  {
   "cell_type": "code",
   "execution_count": 53,
   "metadata": {},
   "outputs": [
    {
     "data": {
      "text/plain": [
       "0       16421.14\n",
       "1    15267703.98\n",
       "2     7745897.26\n",
       "3     8280549.87\n",
       "4    10475760.27\n",
       "5     4549913.20\n",
       "6           0.00\n",
       "Name: amount_yr1, dtype: float64"
      ]
     },
     "execution_count": 53,
     "metadata": {},
     "output_type": "execute_result"
    }
   ],
   "source": [
    "donations_cohort_with_cycle.groupby('first_gift_year').sum()['amount_yr1'].reset_index()['amount_yr1']"
   ]
  },
  {
   "cell_type": "code",
   "execution_count": 54,
   "metadata": {},
   "outputs": [
    {
     "data": {
      "text/plain": [
       "0       21842.64\n",
       "1    17392582.86\n",
       "2    19384701.32\n",
       "3    23316118.31\n",
       "4    27839492.42\n",
       "5    31672744.45\n",
       "Name: amount_yr0, dtype: float64"
      ]
     },
     "execution_count": 54,
     "metadata": {},
     "output_type": "execute_result"
    }
   ],
   "source": [
    "donations_cohort_with_cycle.query('cohort_1_lapsed_after_first > 0').groupby('first_gift_year').sum()['amount_yr0'].reset_index()['amount_yr0'].round(2)\n"
   ]
  },
  {
   "cell_type": "code",
   "execution_count": 55,
   "metadata": {},
   "outputs": [
    {
     "data": {
      "text/plain": [
       "0        3000.00\n",
       "1    13019180.74\n",
       "2     6789581.20\n",
       "3     6830760.01\n",
       "4     8690722.10\n",
       "5     6301026.03\n",
       "Name: amount_yr0, dtype: float64"
      ]
     },
     "execution_count": 55,
     "metadata": {},
     "output_type": "execute_result"
    }
   ],
   "source": [
    "donations_cohort_with_cycle.query('cohort_1_second_year > 0').groupby('first_gift_year').sum()['amount_yr0'].reset_index()['amount_yr0'].round(2)\n"
   ]
  },
  {
   "cell_type": "code",
   "execution_count": 56,
   "metadata": {},
   "outputs": [],
   "source": [
    "data = {\n",
    "    'cohort_year':grouped.first_gift_year,\n",
    "    'first_gift_cnt':first_gift_cnt,\n",
    "    'second_year':second_year,\n",
    "'second_year_cnt':second_year_cnt,\n",
    "'second_year_avg':second_year_avg,\n",
    "'lapsed_after_first':lapsed_after_first,\n",
    "'multi_year':multi_year,\n",
    "'multi_year_cnt':multi_year_cnt,\n",
    "'multi_year_avg':multi_year_avg,\n",
    "'lapsed_after_second':lapsed_after_second,\n",
    "'lapsed_after_second_cnt':lapsed_after_second_cnt,\n",
    "'second_with_gap':second_with_gap,\n",
    "'second_with_gap_cnt':second_with_gap_cnt,\n",
    "'second_with_gap_avg':second_with_gap_avg,\n",
    "'lapsed_after_first_long':lapsed_after_first_long,\n",
    "'lapsed_after_first_long_cnt':lapsed_after_first_long_cnt\n",
    "}\n",
    "\n",
    "\n"
   ]
  },
  {
   "cell_type": "code",
   "execution_count": 57,
   "metadata": {},
   "outputs": [
    {
     "data": {
      "text/plain": [
       "{'cohort_year': 0    2012-01-01\n",
       " 1    2013-01-01\n",
       " 2    2014-01-01\n",
       " 3    2015-01-01\n",
       " 4    2016-01-01\n",
       " 5    2017-01-01\n",
       " 6    2018-01-01\n",
       " Name: first_gift_year, dtype: object, 'first_gift_cnt': 0       141\n",
       " 1    320069\n",
       " 2    320673\n",
       " 3    355137\n",
       " 4    445598\n",
       " 5    434991\n",
       " 6    147945\n",
       " Name: cohort_0_first_gift, dtype: int64, 'second_year': 0    23.404255\n",
       " 1    19.411439\n",
       " 2    15.176519\n",
       " 3    12.974711\n",
       " 4    12.688118\n",
       " 5     6.894396\n",
       " 6     0.000000\n",
       " dtype: float64, 'second_year_cnt': 0       33\n",
       " 1    62130\n",
       " 2    48667\n",
       " 3    46078\n",
       " 4    56538\n",
       " 5    29990\n",
       " 6        0\n",
       " Name: cohort_1_second_year, dtype: int64, 'second_year_avg': 0    497.610303\n",
       " 1    245.738033\n",
       " 2    159.161182\n",
       " 3    179.707233\n",
       " 4    185.287068\n",
       " 5    151.714345\n",
       " 6           NaN\n",
       " dtype: float64, 'lapsed_after_first': 0    76.595745\n",
       " 1    80.588561\n",
       " 2    84.823481\n",
       " 3    87.025289\n",
       " 4    87.311882\n",
       " 5    93.105604\n",
       " 6     0.000000\n",
       " dtype: float64, 'multi_year': 0    36.363636\n",
       " 1    41.976501\n",
       " 2    32.340189\n",
       " 3    33.254482\n",
       " 4    18.279741\n",
       " 5     0.000000\n",
       " 6          NaN\n",
       " dtype: float64, 'multi_year_cnt': 0       12\n",
       " 1    26080\n",
       " 2    15739\n",
       " 3    15323\n",
       " 4    10335\n",
       " 5        0\n",
       " 6        0\n",
       " Name: cohort_2_multi_year, dtype: int64, 'multi_year_avg': 0    1597.260833\n",
       " 1     407.968347\n",
       " 2     299.721817\n",
       " 3     366.020322\n",
       " 4     205.318955\n",
       " 5            NaN\n",
       " 6            NaN\n",
       " dtype: float64, 'lapsed_after_second': 0    63.636364\n",
       " 1    58.023499\n",
       " 2    67.659811\n",
       " 3    66.745518\n",
       " 4    81.718490\n",
       " 5     0.000000\n",
       " 6          NaN\n",
       " dtype: float64, 'lapsed_after_second_cnt': 0       21\n",
       " 1    36050\n",
       " 2    32928\n",
       " 3    30755\n",
       " 4    46202\n",
       " 5        0\n",
       " 6        0\n",
       " Name: cohort_2_lapsed_after_second, dtype: int64, 'second_with_gap': 0    1.851852\n",
       " 1    6.262333\n",
       " 2    5.803548\n",
       " 3    5.345258\n",
       " 4    2.143114\n",
       " 5    0.000000\n",
       " 6         NaN\n",
       " dtype: float64, 'second_with_gap_cnt': 0        2\n",
       " 1    16153\n",
       " 2    15786\n",
       " 3    16520\n",
       " 4     8338\n",
       " 5        0\n",
       " 6        0\n",
       " Name: cohort_2_second_with_gap, dtype: int64, 'second_with_gap_avg': 0     32.140000\n",
       " 1    120.565399\n",
       " 2    108.981826\n",
       " 3    111.114785\n",
       " 4     91.576951\n",
       " 5           NaN\n",
       " 6           NaN\n",
       " dtype: float64, 'lapsed_after_first_long': 0    98.148148\n",
       " 1    93.737667\n",
       " 2    94.196452\n",
       " 3    94.654742\n",
       " 4    97.856629\n",
       " 5     0.000000\n",
       " 6          NaN\n",
       " dtype: float64, 'lapsed_after_first_long_cnt': 0       106\n",
       " 1    241786\n",
       " 2    256220\n",
       " 3    292539\n",
       " 4    380721\n",
       " 5         0\n",
       " 6         0\n",
       " Name: cohort_2_lapsed_after_first_long, dtype: int64}"
      ]
     },
     "execution_count": 57,
     "metadata": {},
     "output_type": "execute_result"
    }
   ],
   "source": [
    "data"
   ]
  },
  {
   "cell_type": "code",
   "execution_count": 58,
   "metadata": {},
   "outputs": [],
   "source": [
    "df4 = pd.DataFrame(data) "
   ]
  },
  {
   "cell_type": "code",
   "execution_count": 59,
   "metadata": {},
   "outputs": [
    {
     "data": {
      "text/html": [
       "<div>\n",
       "<style scoped>\n",
       "    .dataframe tbody tr th:only-of-type {\n",
       "        vertical-align: middle;\n",
       "    }\n",
       "\n",
       "    .dataframe tbody tr th {\n",
       "        vertical-align: top;\n",
       "    }\n",
       "\n",
       "    .dataframe thead th {\n",
       "        text-align: right;\n",
       "    }\n",
       "</style>\n",
       "<table border=\"1\" class=\"dataframe\">\n",
       "  <thead>\n",
       "    <tr style=\"text-align: right;\">\n",
       "      <th></th>\n",
       "      <th>cohort_year</th>\n",
       "      <th>first_gift_cnt</th>\n",
       "      <th>second_year</th>\n",
       "      <th>second_year_cnt</th>\n",
       "      <th>second_year_avg</th>\n",
       "      <th>lapsed_after_first</th>\n",
       "      <th>multi_year</th>\n",
       "      <th>multi_year_cnt</th>\n",
       "      <th>multi_year_avg</th>\n",
       "      <th>lapsed_after_second</th>\n",
       "      <th>lapsed_after_second_cnt</th>\n",
       "      <th>second_with_gap</th>\n",
       "      <th>second_with_gap_cnt</th>\n",
       "      <th>second_with_gap_avg</th>\n",
       "      <th>lapsed_after_first_long</th>\n",
       "      <th>lapsed_after_first_long_cnt</th>\n",
       "    </tr>\n",
       "  </thead>\n",
       "  <tbody>\n",
       "    <tr>\n",
       "      <td>0</td>\n",
       "      <td>2012-01-01</td>\n",
       "      <td>141</td>\n",
       "      <td>23.404255</td>\n",
       "      <td>33</td>\n",
       "      <td>497.610303</td>\n",
       "      <td>76.595745</td>\n",
       "      <td>36.363636</td>\n",
       "      <td>12</td>\n",
       "      <td>1597.260833</td>\n",
       "      <td>63.636364</td>\n",
       "      <td>21</td>\n",
       "      <td>1.851852</td>\n",
       "      <td>2</td>\n",
       "      <td>32.140000</td>\n",
       "      <td>98.148148</td>\n",
       "      <td>106</td>\n",
       "    </tr>\n",
       "    <tr>\n",
       "      <td>1</td>\n",
       "      <td>2013-01-01</td>\n",
       "      <td>320069</td>\n",
       "      <td>19.411439</td>\n",
       "      <td>62130</td>\n",
       "      <td>245.738033</td>\n",
       "      <td>80.588561</td>\n",
       "      <td>41.976501</td>\n",
       "      <td>26080</td>\n",
       "      <td>407.968347</td>\n",
       "      <td>58.023499</td>\n",
       "      <td>36050</td>\n",
       "      <td>6.262333</td>\n",
       "      <td>16153</td>\n",
       "      <td>120.565399</td>\n",
       "      <td>93.737667</td>\n",
       "      <td>241786</td>\n",
       "    </tr>\n",
       "    <tr>\n",
       "      <td>2</td>\n",
       "      <td>2014-01-01</td>\n",
       "      <td>320673</td>\n",
       "      <td>15.176519</td>\n",
       "      <td>48667</td>\n",
       "      <td>159.161182</td>\n",
       "      <td>84.823481</td>\n",
       "      <td>32.340189</td>\n",
       "      <td>15739</td>\n",
       "      <td>299.721817</td>\n",
       "      <td>67.659811</td>\n",
       "      <td>32928</td>\n",
       "      <td>5.803548</td>\n",
       "      <td>15786</td>\n",
       "      <td>108.981826</td>\n",
       "      <td>94.196452</td>\n",
       "      <td>256220</td>\n",
       "    </tr>\n",
       "    <tr>\n",
       "      <td>3</td>\n",
       "      <td>2015-01-01</td>\n",
       "      <td>355137</td>\n",
       "      <td>12.974711</td>\n",
       "      <td>46078</td>\n",
       "      <td>179.707233</td>\n",
       "      <td>87.025289</td>\n",
       "      <td>33.254482</td>\n",
       "      <td>15323</td>\n",
       "      <td>366.020322</td>\n",
       "      <td>66.745518</td>\n",
       "      <td>30755</td>\n",
       "      <td>5.345258</td>\n",
       "      <td>16520</td>\n",
       "      <td>111.114785</td>\n",
       "      <td>94.654742</td>\n",
       "      <td>292539</td>\n",
       "    </tr>\n",
       "    <tr>\n",
       "      <td>4</td>\n",
       "      <td>2016-01-01</td>\n",
       "      <td>445598</td>\n",
       "      <td>12.688118</td>\n",
       "      <td>56538</td>\n",
       "      <td>185.287068</td>\n",
       "      <td>87.311882</td>\n",
       "      <td>18.279741</td>\n",
       "      <td>10335</td>\n",
       "      <td>205.318955</td>\n",
       "      <td>81.718490</td>\n",
       "      <td>46202</td>\n",
       "      <td>2.143114</td>\n",
       "      <td>8338</td>\n",
       "      <td>91.576951</td>\n",
       "      <td>97.856629</td>\n",
       "      <td>380721</td>\n",
       "    </tr>\n",
       "    <tr>\n",
       "      <td>5</td>\n",
       "      <td>2017-01-01</td>\n",
       "      <td>434991</td>\n",
       "      <td>6.894396</td>\n",
       "      <td>29990</td>\n",
       "      <td>151.714345</td>\n",
       "      <td>93.105604</td>\n",
       "      <td>0.000000</td>\n",
       "      <td>0</td>\n",
       "      <td>NaN</td>\n",
       "      <td>0.000000</td>\n",
       "      <td>0</td>\n",
       "      <td>0.000000</td>\n",
       "      <td>0</td>\n",
       "      <td>NaN</td>\n",
       "      <td>0.000000</td>\n",
       "      <td>0</td>\n",
       "    </tr>\n",
       "    <tr>\n",
       "      <td>6</td>\n",
       "      <td>2018-01-01</td>\n",
       "      <td>147945</td>\n",
       "      <td>0.000000</td>\n",
       "      <td>0</td>\n",
       "      <td>NaN</td>\n",
       "      <td>0.000000</td>\n",
       "      <td>NaN</td>\n",
       "      <td>0</td>\n",
       "      <td>NaN</td>\n",
       "      <td>NaN</td>\n",
       "      <td>0</td>\n",
       "      <td>NaN</td>\n",
       "      <td>0</td>\n",
       "      <td>NaN</td>\n",
       "      <td>NaN</td>\n",
       "      <td>0</td>\n",
       "    </tr>\n",
       "  </tbody>\n",
       "</table>\n",
       "</div>"
      ],
      "text/plain": [
       "  cohort_year  first_gift_cnt  second_year  second_year_cnt  second_year_avg  \\\n",
       "0  2012-01-01             141    23.404255               33       497.610303   \n",
       "1  2013-01-01          320069    19.411439            62130       245.738033   \n",
       "2  2014-01-01          320673    15.176519            48667       159.161182   \n",
       "3  2015-01-01          355137    12.974711            46078       179.707233   \n",
       "4  2016-01-01          445598    12.688118            56538       185.287068   \n",
       "5  2017-01-01          434991     6.894396            29990       151.714345   \n",
       "6  2018-01-01          147945     0.000000                0              NaN   \n",
       "\n",
       "   lapsed_after_first  multi_year  multi_year_cnt  multi_year_avg  \\\n",
       "0           76.595745   36.363636              12     1597.260833   \n",
       "1           80.588561   41.976501           26080      407.968347   \n",
       "2           84.823481   32.340189           15739      299.721817   \n",
       "3           87.025289   33.254482           15323      366.020322   \n",
       "4           87.311882   18.279741           10335      205.318955   \n",
       "5           93.105604    0.000000               0             NaN   \n",
       "6            0.000000         NaN               0             NaN   \n",
       "\n",
       "   lapsed_after_second  lapsed_after_second_cnt  second_with_gap  \\\n",
       "0            63.636364                       21         1.851852   \n",
       "1            58.023499                    36050         6.262333   \n",
       "2            67.659811                    32928         5.803548   \n",
       "3            66.745518                    30755         5.345258   \n",
       "4            81.718490                    46202         2.143114   \n",
       "5             0.000000                        0         0.000000   \n",
       "6                  NaN                        0              NaN   \n",
       "\n",
       "   second_with_gap_cnt  second_with_gap_avg  lapsed_after_first_long  \\\n",
       "0                    2            32.140000                98.148148   \n",
       "1                16153           120.565399                93.737667   \n",
       "2                15786           108.981826                94.196452   \n",
       "3                16520           111.114785                94.654742   \n",
       "4                 8338            91.576951                97.856629   \n",
       "5                    0                  NaN                 0.000000   \n",
       "6                    0                  NaN                      NaN   \n",
       "\n",
       "   lapsed_after_first_long_cnt  \n",
       "0                          106  \n",
       "1                       241786  \n",
       "2                       256220  \n",
       "3                       292539  \n",
       "4                       380721  \n",
       "5                            0  \n",
       "6                            0  "
      ]
     },
     "execution_count": 59,
     "metadata": {},
     "output_type": "execute_result"
    }
   ],
   "source": [
    "df4"
   ]
  },
  {
   "cell_type": "code",
   "execution_count": 60,
   "metadata": {},
   "outputs": [],
   "source": [
    "df4.columns=['cohort_year', 'no_donors_yr0', 'retention_rate_yr1', 'no_donors_yr1', 'avg_donation_yr1', 'lapse_rate_yr1', 'retention_rate_from_previous_yr_yr2', 'no_donors_012_y2', 'avg_donation_012_donors_yr2', 'lapse_rate_from_previous_year_yr2', 'no_donors_lapsed_from_previous_year_yr2', 'percent_donors_returning_yr2_after_lapsing_yr1_02', 'no_donors_02_yr2', 'avg_donation_of_02_donor', 'percent_donors_lapsing_yr2_after_lapsing_yr1', 'no_donors_lapsing_yr2_after_lapsing_yr1']"
   ]
  },
  {
   "cell_type": "code",
   "execution_count": 61,
   "metadata": {},
   "outputs": [],
   "source": [
    "#df4.to_csv('df4.csv')"
   ]
  },
  {
   "cell_type": "code",
   "execution_count": 32,
   "metadata": {},
   "outputs": [],
   "source": [
    "df5=df4"
   ]
  },
  {
   "cell_type": "code",
   "execution_count": 34,
   "metadata": {},
   "outputs": [],
   "source": [
    "df5.columns=['cohort_year', 'no_donors_yr0', 'retention_rate_yr1', 'no_donors_yr1', 'avg_donation_yr1', 'lapse_rate_yr1', 'retention_rate_from_previous_yr_yr2', 'no_donors_012_y2', 'avg_donation_012_donors_yr2', 'lapse_rate_from_previous_year_yr2', 'no_donors_lapsed_from_previous_year_yr2', 'percent_donors_returning_yr2_after_lapsing_yr1_02', 'no_donors_02_yr2', 'avg_donation_of_02_donor', 'percent_donors_lapsing_yr2_after_lapsing_yr1', 'no_donors_lapsing_yr2_after_lapsing_yr1']"
   ]
  },
  {
   "cell_type": "code",
   "execution_count": 36,
   "metadata": {},
   "outputs": [],
   "source": [
    "df5['lapse_rate_yr1']=df5['lapse_rate_yr1']*-1"
   ]
  },
  {
   "cell_type": "code",
   "execution_count": 42,
   "metadata": {},
   "outputs": [],
   "source": [
    "df5['no_donors_lapsed_yr1']=(df5['no_donors_yr0']-df5['no_donors_yr1'])*-1"
   ]
  },
  {
   "cell_type": "code",
   "execution_count": 43,
   "metadata": {},
   "outputs": [
    {
     "data": {
      "text/html": [
       "<div>\n",
       "<style scoped>\n",
       "    .dataframe tbody tr th:only-of-type {\n",
       "        vertical-align: middle;\n",
       "    }\n",
       "\n",
       "    .dataframe tbody tr th {\n",
       "        vertical-align: top;\n",
       "    }\n",
       "\n",
       "    .dataframe thead th {\n",
       "        text-align: right;\n",
       "    }\n",
       "</style>\n",
       "<table border=\"1\" class=\"dataframe\">\n",
       "  <thead>\n",
       "    <tr style=\"text-align: right;\">\n",
       "      <th></th>\n",
       "      <th>cohort_year</th>\n",
       "      <th>no_donors_yr0</th>\n",
       "      <th>retention_rate_yr1</th>\n",
       "      <th>no_donors_yr1</th>\n",
       "      <th>avg_donation_yr1</th>\n",
       "      <th>lapse_rate_yr1</th>\n",
       "      <th>retention_rate_from_previous_yr_yr2</th>\n",
       "      <th>no_donors_012_y2</th>\n",
       "      <th>avg_donation_012_donors_yr2</th>\n",
       "      <th>lapse_rate_from_previous_year_yr2</th>\n",
       "      <th>no_donors_lapsed_from_previous_year_yr2</th>\n",
       "      <th>percent_donors_returning_yr2_after_lapsing_yr1_02</th>\n",
       "      <th>no_donors_02_yr2</th>\n",
       "      <th>avg_donation_of_02_donor</th>\n",
       "      <th>percent_donors_lapsing_yr2_after_lapsing_yr1</th>\n",
       "      <th>no_donors_lapsing_yr2_after_lapsing_yr1</th>\n",
       "      <th>no_donors_lapsed_yr1</th>\n",
       "    </tr>\n",
       "  </thead>\n",
       "  <tbody>\n",
       "    <tr>\n",
       "      <td>0</td>\n",
       "      <td>2012-01-01</td>\n",
       "      <td>141</td>\n",
       "      <td>23.404255</td>\n",
       "      <td>33</td>\n",
       "      <td>497.610303</td>\n",
       "      <td>-76.595745</td>\n",
       "      <td>36.363636</td>\n",
       "      <td>12</td>\n",
       "      <td>1597.260833</td>\n",
       "      <td>63.636364</td>\n",
       "      <td>21</td>\n",
       "      <td>1.851852</td>\n",
       "      <td>2</td>\n",
       "      <td>32.140000</td>\n",
       "      <td>98.148148</td>\n",
       "      <td>106</td>\n",
       "      <td>-108</td>\n",
       "    </tr>\n",
       "    <tr>\n",
       "      <td>1</td>\n",
       "      <td>2013-01-01</td>\n",
       "      <td>320069</td>\n",
       "      <td>19.411439</td>\n",
       "      <td>62130</td>\n",
       "      <td>245.738033</td>\n",
       "      <td>-80.588561</td>\n",
       "      <td>41.976501</td>\n",
       "      <td>26080</td>\n",
       "      <td>407.968347</td>\n",
       "      <td>58.023499</td>\n",
       "      <td>36050</td>\n",
       "      <td>6.262333</td>\n",
       "      <td>16153</td>\n",
       "      <td>120.565399</td>\n",
       "      <td>93.737667</td>\n",
       "      <td>241786</td>\n",
       "      <td>-257939</td>\n",
       "    </tr>\n",
       "    <tr>\n",
       "      <td>2</td>\n",
       "      <td>2014-01-01</td>\n",
       "      <td>320673</td>\n",
       "      <td>15.176519</td>\n",
       "      <td>48667</td>\n",
       "      <td>159.161182</td>\n",
       "      <td>-84.823481</td>\n",
       "      <td>32.340189</td>\n",
       "      <td>15739</td>\n",
       "      <td>299.721817</td>\n",
       "      <td>67.659811</td>\n",
       "      <td>32928</td>\n",
       "      <td>5.803548</td>\n",
       "      <td>15786</td>\n",
       "      <td>108.981826</td>\n",
       "      <td>94.196452</td>\n",
       "      <td>256220</td>\n",
       "      <td>-272006</td>\n",
       "    </tr>\n",
       "    <tr>\n",
       "      <td>3</td>\n",
       "      <td>2015-01-01</td>\n",
       "      <td>355137</td>\n",
       "      <td>12.974711</td>\n",
       "      <td>46078</td>\n",
       "      <td>179.707233</td>\n",
       "      <td>-87.025289</td>\n",
       "      <td>33.254482</td>\n",
       "      <td>15323</td>\n",
       "      <td>366.020322</td>\n",
       "      <td>66.745518</td>\n",
       "      <td>30755</td>\n",
       "      <td>5.345258</td>\n",
       "      <td>16520</td>\n",
       "      <td>111.114785</td>\n",
       "      <td>94.654742</td>\n",
       "      <td>292539</td>\n",
       "      <td>-309059</td>\n",
       "    </tr>\n",
       "    <tr>\n",
       "      <td>4</td>\n",
       "      <td>2016-01-01</td>\n",
       "      <td>445598</td>\n",
       "      <td>12.688118</td>\n",
       "      <td>56538</td>\n",
       "      <td>185.287068</td>\n",
       "      <td>-87.311882</td>\n",
       "      <td>18.279741</td>\n",
       "      <td>10335</td>\n",
       "      <td>205.318955</td>\n",
       "      <td>81.718490</td>\n",
       "      <td>46202</td>\n",
       "      <td>2.143114</td>\n",
       "      <td>8338</td>\n",
       "      <td>91.576951</td>\n",
       "      <td>97.856629</td>\n",
       "      <td>380721</td>\n",
       "      <td>-389060</td>\n",
       "    </tr>\n",
       "    <tr>\n",
       "      <td>5</td>\n",
       "      <td>2017-01-01</td>\n",
       "      <td>434991</td>\n",
       "      <td>6.894396</td>\n",
       "      <td>29990</td>\n",
       "      <td>151.714345</td>\n",
       "      <td>-93.105604</td>\n",
       "      <td>0.000000</td>\n",
       "      <td>0</td>\n",
       "      <td>NaN</td>\n",
       "      <td>0.000000</td>\n",
       "      <td>0</td>\n",
       "      <td>0.000000</td>\n",
       "      <td>0</td>\n",
       "      <td>NaN</td>\n",
       "      <td>0.000000</td>\n",
       "      <td>0</td>\n",
       "      <td>-405001</td>\n",
       "    </tr>\n",
       "    <tr>\n",
       "      <td>6</td>\n",
       "      <td>2018-01-01</td>\n",
       "      <td>147945</td>\n",
       "      <td>0.000000</td>\n",
       "      <td>0</td>\n",
       "      <td>NaN</td>\n",
       "      <td>-0.000000</td>\n",
       "      <td>NaN</td>\n",
       "      <td>0</td>\n",
       "      <td>NaN</td>\n",
       "      <td>NaN</td>\n",
       "      <td>0</td>\n",
       "      <td>NaN</td>\n",
       "      <td>0</td>\n",
       "      <td>NaN</td>\n",
       "      <td>NaN</td>\n",
       "      <td>0</td>\n",
       "      <td>-147945</td>\n",
       "    </tr>\n",
       "  </tbody>\n",
       "</table>\n",
       "</div>"
      ],
      "text/plain": [
       "  cohort_year  no_donors_yr0  retention_rate_yr1  no_donors_yr1  \\\n",
       "0  2012-01-01            141           23.404255             33   \n",
       "1  2013-01-01         320069           19.411439          62130   \n",
       "2  2014-01-01         320673           15.176519          48667   \n",
       "3  2015-01-01         355137           12.974711          46078   \n",
       "4  2016-01-01         445598           12.688118          56538   \n",
       "5  2017-01-01         434991            6.894396          29990   \n",
       "6  2018-01-01         147945            0.000000              0   \n",
       "\n",
       "   avg_donation_yr1  lapse_rate_yr1  retention_rate_from_previous_yr_yr2  \\\n",
       "0        497.610303      -76.595745                            36.363636   \n",
       "1        245.738033      -80.588561                            41.976501   \n",
       "2        159.161182      -84.823481                            32.340189   \n",
       "3        179.707233      -87.025289                            33.254482   \n",
       "4        185.287068      -87.311882                            18.279741   \n",
       "5        151.714345      -93.105604                             0.000000   \n",
       "6               NaN       -0.000000                                  NaN   \n",
       "\n",
       "   no_donors_012_y2  avg_donation_012_donors_yr2  \\\n",
       "0                12                  1597.260833   \n",
       "1             26080                   407.968347   \n",
       "2             15739                   299.721817   \n",
       "3             15323                   366.020322   \n",
       "4             10335                   205.318955   \n",
       "5                 0                          NaN   \n",
       "6                 0                          NaN   \n",
       "\n",
       "   lapse_rate_from_previous_year_yr2  no_donors_lapsed_from_previous_year_yr2  \\\n",
       "0                          63.636364                                       21   \n",
       "1                          58.023499                                    36050   \n",
       "2                          67.659811                                    32928   \n",
       "3                          66.745518                                    30755   \n",
       "4                          81.718490                                    46202   \n",
       "5                           0.000000                                        0   \n",
       "6                                NaN                                        0   \n",
       "\n",
       "   percent_donors_returning_yr2_after_lapsing_yr1_02  no_donors_02_yr2  \\\n",
       "0                                           1.851852                 2   \n",
       "1                                           6.262333             16153   \n",
       "2                                           5.803548             15786   \n",
       "3                                           5.345258             16520   \n",
       "4                                           2.143114              8338   \n",
       "5                                           0.000000                 0   \n",
       "6                                                NaN                 0   \n",
       "\n",
       "   avg_donation_of_02_donor  percent_donors_lapsing_yr2_after_lapsing_yr1  \\\n",
       "0                 32.140000                                     98.148148   \n",
       "1                120.565399                                     93.737667   \n",
       "2                108.981826                                     94.196452   \n",
       "3                111.114785                                     94.654742   \n",
       "4                 91.576951                                     97.856629   \n",
       "5                       NaN                                      0.000000   \n",
       "6                       NaN                                           NaN   \n",
       "\n",
       "   no_donors_lapsing_yr2_after_lapsing_yr1  no_donors_lapsed_yr1  \n",
       "0                                      106                  -108  \n",
       "1                                   241786               -257939  \n",
       "2                                   256220               -272006  \n",
       "3                                   292539               -309059  \n",
       "4                                   380721               -389060  \n",
       "5                                        0               -405001  \n",
       "6                                        0               -147945  "
      ]
     },
     "execution_count": 43,
     "metadata": {},
     "output_type": "execute_result"
    }
   ],
   "source": [
    "df5"
   ]
  },
  {
   "cell_type": "code",
   "execution_count": 39,
   "metadata": {},
   "outputs": [
    {
     "data": {
      "application/vnd.plotly.v1+json": {
       "config": {
        "plotlyServerURL": "https://plot.ly"
       },
       "data": [
        {
         "alignmentgroup": "True",
         "hovertemplate": "cohort_year=%{x}<br>no_donors_yr0=%{y}<extra></extra>",
         "legendgroup": "",
         "marker": {
          "color": "#636efa"
         },
         "name": "",
         "offsetgroup": "",
         "orientation": "v",
         "showlegend": false,
         "textposition": "auto",
         "type": "bar",
         "x": [
          "2012-01-01",
          "2013-01-01",
          "2014-01-01",
          "2015-01-01",
          "2016-01-01",
          "2017-01-01",
          "2018-01-01"
         ],
         "xaxis": "x",
         "y": [
          141,
          320069,
          320673,
          355137,
          445598,
          434991,
          147945
         ],
         "yaxis": "y"
        }
       ],
       "layout": {
        "barmode": "relative",
        "legend": {
         "tracegroupgap": 0
        },
        "template": {
         "data": {
          "bar": [
           {
            "error_x": {
             "color": "#2a3f5f"
            },
            "error_y": {
             "color": "#2a3f5f"
            },
            "marker": {
             "line": {
              "color": "#E5ECF6",
              "width": 0.5
             }
            },
            "type": "bar"
           }
          ],
          "barpolar": [
           {
            "marker": {
             "line": {
              "color": "#E5ECF6",
              "width": 0.5
             }
            },
            "type": "barpolar"
           }
          ],
          "carpet": [
           {
            "aaxis": {
             "endlinecolor": "#2a3f5f",
             "gridcolor": "white",
             "linecolor": "white",
             "minorgridcolor": "white",
             "startlinecolor": "#2a3f5f"
            },
            "baxis": {
             "endlinecolor": "#2a3f5f",
             "gridcolor": "white",
             "linecolor": "white",
             "minorgridcolor": "white",
             "startlinecolor": "#2a3f5f"
            },
            "type": "carpet"
           }
          ],
          "choropleth": [
           {
            "colorbar": {
             "outlinewidth": 0,
             "ticks": ""
            },
            "type": "choropleth"
           }
          ],
          "contour": [
           {
            "colorbar": {
             "outlinewidth": 0,
             "ticks": ""
            },
            "colorscale": [
             [
              0,
              "#0d0887"
             ],
             [
              0.1111111111111111,
              "#46039f"
             ],
             [
              0.2222222222222222,
              "#7201a8"
             ],
             [
              0.3333333333333333,
              "#9c179e"
             ],
             [
              0.4444444444444444,
              "#bd3786"
             ],
             [
              0.5555555555555556,
              "#d8576b"
             ],
             [
              0.6666666666666666,
              "#ed7953"
             ],
             [
              0.7777777777777778,
              "#fb9f3a"
             ],
             [
              0.8888888888888888,
              "#fdca26"
             ],
             [
              1,
              "#f0f921"
             ]
            ],
            "type": "contour"
           }
          ],
          "contourcarpet": [
           {
            "colorbar": {
             "outlinewidth": 0,
             "ticks": ""
            },
            "type": "contourcarpet"
           }
          ],
          "heatmap": [
           {
            "colorbar": {
             "outlinewidth": 0,
             "ticks": ""
            },
            "colorscale": [
             [
              0,
              "#0d0887"
             ],
             [
              0.1111111111111111,
              "#46039f"
             ],
             [
              0.2222222222222222,
              "#7201a8"
             ],
             [
              0.3333333333333333,
              "#9c179e"
             ],
             [
              0.4444444444444444,
              "#bd3786"
             ],
             [
              0.5555555555555556,
              "#d8576b"
             ],
             [
              0.6666666666666666,
              "#ed7953"
             ],
             [
              0.7777777777777778,
              "#fb9f3a"
             ],
             [
              0.8888888888888888,
              "#fdca26"
             ],
             [
              1,
              "#f0f921"
             ]
            ],
            "type": "heatmap"
           }
          ],
          "heatmapgl": [
           {
            "colorbar": {
             "outlinewidth": 0,
             "ticks": ""
            },
            "colorscale": [
             [
              0,
              "#0d0887"
             ],
             [
              0.1111111111111111,
              "#46039f"
             ],
             [
              0.2222222222222222,
              "#7201a8"
             ],
             [
              0.3333333333333333,
              "#9c179e"
             ],
             [
              0.4444444444444444,
              "#bd3786"
             ],
             [
              0.5555555555555556,
              "#d8576b"
             ],
             [
              0.6666666666666666,
              "#ed7953"
             ],
             [
              0.7777777777777778,
              "#fb9f3a"
             ],
             [
              0.8888888888888888,
              "#fdca26"
             ],
             [
              1,
              "#f0f921"
             ]
            ],
            "type": "heatmapgl"
           }
          ],
          "histogram": [
           {
            "marker": {
             "colorbar": {
              "outlinewidth": 0,
              "ticks": ""
             }
            },
            "type": "histogram"
           }
          ],
          "histogram2d": [
           {
            "colorbar": {
             "outlinewidth": 0,
             "ticks": ""
            },
            "colorscale": [
             [
              0,
              "#0d0887"
             ],
             [
              0.1111111111111111,
              "#46039f"
             ],
             [
              0.2222222222222222,
              "#7201a8"
             ],
             [
              0.3333333333333333,
              "#9c179e"
             ],
             [
              0.4444444444444444,
              "#bd3786"
             ],
             [
              0.5555555555555556,
              "#d8576b"
             ],
             [
              0.6666666666666666,
              "#ed7953"
             ],
             [
              0.7777777777777778,
              "#fb9f3a"
             ],
             [
              0.8888888888888888,
              "#fdca26"
             ],
             [
              1,
              "#f0f921"
             ]
            ],
            "type": "histogram2d"
           }
          ],
          "histogram2dcontour": [
           {
            "colorbar": {
             "outlinewidth": 0,
             "ticks": ""
            },
            "colorscale": [
             [
              0,
              "#0d0887"
             ],
             [
              0.1111111111111111,
              "#46039f"
             ],
             [
              0.2222222222222222,
              "#7201a8"
             ],
             [
              0.3333333333333333,
              "#9c179e"
             ],
             [
              0.4444444444444444,
              "#bd3786"
             ],
             [
              0.5555555555555556,
              "#d8576b"
             ],
             [
              0.6666666666666666,
              "#ed7953"
             ],
             [
              0.7777777777777778,
              "#fb9f3a"
             ],
             [
              0.8888888888888888,
              "#fdca26"
             ],
             [
              1,
              "#f0f921"
             ]
            ],
            "type": "histogram2dcontour"
           }
          ],
          "mesh3d": [
           {
            "colorbar": {
             "outlinewidth": 0,
             "ticks": ""
            },
            "type": "mesh3d"
           }
          ],
          "parcoords": [
           {
            "line": {
             "colorbar": {
              "outlinewidth": 0,
              "ticks": ""
             }
            },
            "type": "parcoords"
           }
          ],
          "pie": [
           {
            "automargin": true,
            "type": "pie"
           }
          ],
          "scatter": [
           {
            "marker": {
             "colorbar": {
              "outlinewidth": 0,
              "ticks": ""
             }
            },
            "type": "scatter"
           }
          ],
          "scatter3d": [
           {
            "line": {
             "colorbar": {
              "outlinewidth": 0,
              "ticks": ""
             }
            },
            "marker": {
             "colorbar": {
              "outlinewidth": 0,
              "ticks": ""
             }
            },
            "type": "scatter3d"
           }
          ],
          "scattercarpet": [
           {
            "marker": {
             "colorbar": {
              "outlinewidth": 0,
              "ticks": ""
             }
            },
            "type": "scattercarpet"
           }
          ],
          "scattergeo": [
           {
            "marker": {
             "colorbar": {
              "outlinewidth": 0,
              "ticks": ""
             }
            },
            "type": "scattergeo"
           }
          ],
          "scattergl": [
           {
            "marker": {
             "colorbar": {
              "outlinewidth": 0,
              "ticks": ""
             }
            },
            "type": "scattergl"
           }
          ],
          "scattermapbox": [
           {
            "marker": {
             "colorbar": {
              "outlinewidth": 0,
              "ticks": ""
             }
            },
            "type": "scattermapbox"
           }
          ],
          "scatterpolar": [
           {
            "marker": {
             "colorbar": {
              "outlinewidth": 0,
              "ticks": ""
             }
            },
            "type": "scatterpolar"
           }
          ],
          "scatterpolargl": [
           {
            "marker": {
             "colorbar": {
              "outlinewidth": 0,
              "ticks": ""
             }
            },
            "type": "scatterpolargl"
           }
          ],
          "scatterternary": [
           {
            "marker": {
             "colorbar": {
              "outlinewidth": 0,
              "ticks": ""
             }
            },
            "type": "scatterternary"
           }
          ],
          "surface": [
           {
            "colorbar": {
             "outlinewidth": 0,
             "ticks": ""
            },
            "colorscale": [
             [
              0,
              "#0d0887"
             ],
             [
              0.1111111111111111,
              "#46039f"
             ],
             [
              0.2222222222222222,
              "#7201a8"
             ],
             [
              0.3333333333333333,
              "#9c179e"
             ],
             [
              0.4444444444444444,
              "#bd3786"
             ],
             [
              0.5555555555555556,
              "#d8576b"
             ],
             [
              0.6666666666666666,
              "#ed7953"
             ],
             [
              0.7777777777777778,
              "#fb9f3a"
             ],
             [
              0.8888888888888888,
              "#fdca26"
             ],
             [
              1,
              "#f0f921"
             ]
            ],
            "type": "surface"
           }
          ],
          "table": [
           {
            "cells": {
             "fill": {
              "color": "#EBF0F8"
             },
             "line": {
              "color": "white"
             }
            },
            "header": {
             "fill": {
              "color": "#C8D4E3"
             },
             "line": {
              "color": "white"
             }
            },
            "type": "table"
           }
          ]
         },
         "layout": {
          "annotationdefaults": {
           "arrowcolor": "#2a3f5f",
           "arrowhead": 0,
           "arrowwidth": 1
          },
          "coloraxis": {
           "colorbar": {
            "outlinewidth": 0,
            "ticks": ""
           }
          },
          "colorscale": {
           "diverging": [
            [
             0,
             "#8e0152"
            ],
            [
             0.1,
             "#c51b7d"
            ],
            [
             0.2,
             "#de77ae"
            ],
            [
             0.3,
             "#f1b6da"
            ],
            [
             0.4,
             "#fde0ef"
            ],
            [
             0.5,
             "#f7f7f7"
            ],
            [
             0.6,
             "#e6f5d0"
            ],
            [
             0.7,
             "#b8e186"
            ],
            [
             0.8,
             "#7fbc41"
            ],
            [
             0.9,
             "#4d9221"
            ],
            [
             1,
             "#276419"
            ]
           ],
           "sequential": [
            [
             0,
             "#0d0887"
            ],
            [
             0.1111111111111111,
             "#46039f"
            ],
            [
             0.2222222222222222,
             "#7201a8"
            ],
            [
             0.3333333333333333,
             "#9c179e"
            ],
            [
             0.4444444444444444,
             "#bd3786"
            ],
            [
             0.5555555555555556,
             "#d8576b"
            ],
            [
             0.6666666666666666,
             "#ed7953"
            ],
            [
             0.7777777777777778,
             "#fb9f3a"
            ],
            [
             0.8888888888888888,
             "#fdca26"
            ],
            [
             1,
             "#f0f921"
            ]
           ],
           "sequentialminus": [
            [
             0,
             "#0d0887"
            ],
            [
             0.1111111111111111,
             "#46039f"
            ],
            [
             0.2222222222222222,
             "#7201a8"
            ],
            [
             0.3333333333333333,
             "#9c179e"
            ],
            [
             0.4444444444444444,
             "#bd3786"
            ],
            [
             0.5555555555555556,
             "#d8576b"
            ],
            [
             0.6666666666666666,
             "#ed7953"
            ],
            [
             0.7777777777777778,
             "#fb9f3a"
            ],
            [
             0.8888888888888888,
             "#fdca26"
            ],
            [
             1,
             "#f0f921"
            ]
           ]
          },
          "colorway": [
           "#636efa",
           "#EF553B",
           "#00cc96",
           "#ab63fa",
           "#FFA15A",
           "#19d3f3",
           "#FF6692",
           "#B6E880",
           "#FF97FF",
           "#FECB52"
          ],
          "font": {
           "color": "#2a3f5f"
          },
          "geo": {
           "bgcolor": "white",
           "lakecolor": "white",
           "landcolor": "#E5ECF6",
           "showlakes": true,
           "showland": true,
           "subunitcolor": "white"
          },
          "hoverlabel": {
           "align": "left"
          },
          "hovermode": "closest",
          "mapbox": {
           "style": "light"
          },
          "paper_bgcolor": "white",
          "plot_bgcolor": "#E5ECF6",
          "polar": {
           "angularaxis": {
            "gridcolor": "white",
            "linecolor": "white",
            "ticks": ""
           },
           "bgcolor": "#E5ECF6",
           "radialaxis": {
            "gridcolor": "white",
            "linecolor": "white",
            "ticks": ""
           }
          },
          "scene": {
           "xaxis": {
            "backgroundcolor": "#E5ECF6",
            "gridcolor": "white",
            "gridwidth": 2,
            "linecolor": "white",
            "showbackground": true,
            "ticks": "",
            "zerolinecolor": "white"
           },
           "yaxis": {
            "backgroundcolor": "#E5ECF6",
            "gridcolor": "white",
            "gridwidth": 2,
            "linecolor": "white",
            "showbackground": true,
            "ticks": "",
            "zerolinecolor": "white"
           },
           "zaxis": {
            "backgroundcolor": "#E5ECF6",
            "gridcolor": "white",
            "gridwidth": 2,
            "linecolor": "white",
            "showbackground": true,
            "ticks": "",
            "zerolinecolor": "white"
           }
          },
          "shapedefaults": {
           "line": {
            "color": "#2a3f5f"
           }
          },
          "ternary": {
           "aaxis": {
            "gridcolor": "white",
            "linecolor": "white",
            "ticks": ""
           },
           "baxis": {
            "gridcolor": "white",
            "linecolor": "white",
            "ticks": ""
           },
           "bgcolor": "#E5ECF6",
           "caxis": {
            "gridcolor": "white",
            "linecolor": "white",
            "ticks": ""
           }
          },
          "title": {
           "x": 0.05
          },
          "xaxis": {
           "automargin": true,
           "gridcolor": "white",
           "linecolor": "white",
           "ticks": "",
           "title": {
            "standoff": 15
           },
           "zerolinecolor": "white",
           "zerolinewidth": 2
          },
          "yaxis": {
           "automargin": true,
           "gridcolor": "white",
           "linecolor": "white",
           "ticks": "",
           "title": {
            "standoff": 15
           },
           "zerolinecolor": "white",
           "zerolinewidth": 2
          }
         }
        },
        "title": {
         "text": "Year 0: Number of Donors"
        },
        "xaxis": {
         "anchor": "y",
         "domain": [
          0,
          1
         ],
         "title": {
          "text": "cohort_year"
         },
         "type": "category"
        },
        "yaxis": {
         "anchor": "x",
         "domain": [
          0,
          1
         ],
         "title": {
          "text": "no_donors_yr0"
         }
        }
       }
      },
      "text/html": [
       "<div>\n",
       "        \n",
       "        \n",
       "            <div id=\"726c7f10-94fe-4bdc-a330-e3caffcc41d2\" class=\"plotly-graph-div\" style=\"height:525px; width:100%;\"></div>\n",
       "            <script type=\"text/javascript\">\n",
       "                require([\"plotly\"], function(Plotly) {\n",
       "                    window.PLOTLYENV=window.PLOTLYENV || {};\n",
       "                    \n",
       "                if (document.getElementById(\"726c7f10-94fe-4bdc-a330-e3caffcc41d2\")) {\n",
       "                    Plotly.newPlot(\n",
       "                        '726c7f10-94fe-4bdc-a330-e3caffcc41d2',\n",
       "                        [{\"alignmentgroup\": \"True\", \"hovertemplate\": \"cohort_year=%{x}<br>no_donors_yr0=%{y}<extra></extra>\", \"legendgroup\": \"\", \"marker\": {\"color\": \"#636efa\"}, \"name\": \"\", \"offsetgroup\": \"\", \"orientation\": \"v\", \"showlegend\": false, \"textposition\": \"auto\", \"type\": \"bar\", \"x\": [\"2012-01-01\", \"2013-01-01\", \"2014-01-01\", \"2015-01-01\", \"2016-01-01\", \"2017-01-01\", \"2018-01-01\"], \"xaxis\": \"x\", \"y\": [141, 320069, 320673, 355137, 445598, 434991, 147945], \"yaxis\": \"y\"}],\n",
       "                        {\"barmode\": \"relative\", \"legend\": {\"tracegroupgap\": 0}, \"template\": {\"data\": {\"bar\": [{\"error_x\": {\"color\": \"#2a3f5f\"}, \"error_y\": {\"color\": \"#2a3f5f\"}, \"marker\": {\"line\": {\"color\": \"#E5ECF6\", \"width\": 0.5}}, \"type\": \"bar\"}], \"barpolar\": [{\"marker\": {\"line\": {\"color\": \"#E5ECF6\", \"width\": 0.5}}, \"type\": \"barpolar\"}], \"carpet\": [{\"aaxis\": {\"endlinecolor\": \"#2a3f5f\", \"gridcolor\": \"white\", \"linecolor\": \"white\", \"minorgridcolor\": \"white\", \"startlinecolor\": \"#2a3f5f\"}, \"baxis\": {\"endlinecolor\": \"#2a3f5f\", \"gridcolor\": \"white\", \"linecolor\": \"white\", \"minorgridcolor\": \"white\", \"startlinecolor\": \"#2a3f5f\"}, \"type\": \"carpet\"}], \"choropleth\": [{\"colorbar\": {\"outlinewidth\": 0, \"ticks\": \"\"}, \"type\": \"choropleth\"}], \"contour\": [{\"colorbar\": {\"outlinewidth\": 0, \"ticks\": \"\"}, \"colorscale\": [[0.0, \"#0d0887\"], [0.1111111111111111, \"#46039f\"], [0.2222222222222222, \"#7201a8\"], [0.3333333333333333, \"#9c179e\"], [0.4444444444444444, \"#bd3786\"], [0.5555555555555556, \"#d8576b\"], [0.6666666666666666, \"#ed7953\"], [0.7777777777777778, \"#fb9f3a\"], [0.8888888888888888, \"#fdca26\"], [1.0, \"#f0f921\"]], \"type\": \"contour\"}], \"contourcarpet\": [{\"colorbar\": {\"outlinewidth\": 0, \"ticks\": \"\"}, \"type\": \"contourcarpet\"}], \"heatmap\": [{\"colorbar\": {\"outlinewidth\": 0, \"ticks\": \"\"}, \"colorscale\": [[0.0, \"#0d0887\"], [0.1111111111111111, \"#46039f\"], [0.2222222222222222, \"#7201a8\"], [0.3333333333333333, \"#9c179e\"], [0.4444444444444444, \"#bd3786\"], [0.5555555555555556, \"#d8576b\"], [0.6666666666666666, \"#ed7953\"], [0.7777777777777778, \"#fb9f3a\"], [0.8888888888888888, \"#fdca26\"], [1.0, \"#f0f921\"]], \"type\": \"heatmap\"}], \"heatmapgl\": [{\"colorbar\": {\"outlinewidth\": 0, \"ticks\": \"\"}, \"colorscale\": [[0.0, \"#0d0887\"], [0.1111111111111111, \"#46039f\"], [0.2222222222222222, \"#7201a8\"], [0.3333333333333333, \"#9c179e\"], [0.4444444444444444, \"#bd3786\"], [0.5555555555555556, \"#d8576b\"], [0.6666666666666666, \"#ed7953\"], [0.7777777777777778, \"#fb9f3a\"], [0.8888888888888888, \"#fdca26\"], [1.0, \"#f0f921\"]], \"type\": \"heatmapgl\"}], \"histogram\": [{\"marker\": {\"colorbar\": {\"outlinewidth\": 0, \"ticks\": \"\"}}, \"type\": \"histogram\"}], \"histogram2d\": [{\"colorbar\": {\"outlinewidth\": 0, \"ticks\": \"\"}, \"colorscale\": [[0.0, \"#0d0887\"], [0.1111111111111111, \"#46039f\"], [0.2222222222222222, \"#7201a8\"], [0.3333333333333333, \"#9c179e\"], [0.4444444444444444, \"#bd3786\"], [0.5555555555555556, \"#d8576b\"], [0.6666666666666666, \"#ed7953\"], [0.7777777777777778, \"#fb9f3a\"], [0.8888888888888888, \"#fdca26\"], [1.0, \"#f0f921\"]], \"type\": \"histogram2d\"}], \"histogram2dcontour\": [{\"colorbar\": {\"outlinewidth\": 0, \"ticks\": \"\"}, \"colorscale\": [[0.0, \"#0d0887\"], [0.1111111111111111, \"#46039f\"], [0.2222222222222222, \"#7201a8\"], [0.3333333333333333, \"#9c179e\"], [0.4444444444444444, \"#bd3786\"], [0.5555555555555556, \"#d8576b\"], [0.6666666666666666, \"#ed7953\"], [0.7777777777777778, \"#fb9f3a\"], [0.8888888888888888, \"#fdca26\"], [1.0, \"#f0f921\"]], \"type\": \"histogram2dcontour\"}], \"mesh3d\": [{\"colorbar\": {\"outlinewidth\": 0, \"ticks\": \"\"}, \"type\": \"mesh3d\"}], \"parcoords\": [{\"line\": {\"colorbar\": {\"outlinewidth\": 0, \"ticks\": \"\"}}, \"type\": \"parcoords\"}], \"pie\": [{\"automargin\": true, \"type\": \"pie\"}], \"scatter\": [{\"marker\": {\"colorbar\": {\"outlinewidth\": 0, \"ticks\": \"\"}}, \"type\": \"scatter\"}], \"scatter3d\": [{\"line\": {\"colorbar\": {\"outlinewidth\": 0, \"ticks\": \"\"}}, \"marker\": {\"colorbar\": {\"outlinewidth\": 0, \"ticks\": \"\"}}, \"type\": \"scatter3d\"}], \"scattercarpet\": [{\"marker\": {\"colorbar\": {\"outlinewidth\": 0, \"ticks\": \"\"}}, \"type\": \"scattercarpet\"}], \"scattergeo\": [{\"marker\": {\"colorbar\": {\"outlinewidth\": 0, \"ticks\": \"\"}}, \"type\": \"scattergeo\"}], \"scattergl\": [{\"marker\": {\"colorbar\": {\"outlinewidth\": 0, \"ticks\": \"\"}}, \"type\": \"scattergl\"}], \"scattermapbox\": [{\"marker\": {\"colorbar\": {\"outlinewidth\": 0, \"ticks\": \"\"}}, \"type\": \"scattermapbox\"}], \"scatterpolar\": [{\"marker\": {\"colorbar\": {\"outlinewidth\": 0, \"ticks\": \"\"}}, \"type\": \"scatterpolar\"}], \"scatterpolargl\": [{\"marker\": {\"colorbar\": {\"outlinewidth\": 0, \"ticks\": \"\"}}, \"type\": \"scatterpolargl\"}], \"scatterternary\": [{\"marker\": {\"colorbar\": {\"outlinewidth\": 0, \"ticks\": \"\"}}, \"type\": \"scatterternary\"}], \"surface\": [{\"colorbar\": {\"outlinewidth\": 0, \"ticks\": \"\"}, \"colorscale\": [[0.0, \"#0d0887\"], [0.1111111111111111, \"#46039f\"], [0.2222222222222222, \"#7201a8\"], [0.3333333333333333, \"#9c179e\"], [0.4444444444444444, \"#bd3786\"], [0.5555555555555556, \"#d8576b\"], [0.6666666666666666, \"#ed7953\"], [0.7777777777777778, \"#fb9f3a\"], [0.8888888888888888, \"#fdca26\"], [1.0, \"#f0f921\"]], \"type\": \"surface\"}], \"table\": [{\"cells\": {\"fill\": {\"color\": \"#EBF0F8\"}, \"line\": {\"color\": \"white\"}}, \"header\": {\"fill\": {\"color\": \"#C8D4E3\"}, \"line\": {\"color\": \"white\"}}, \"type\": \"table\"}]}, \"layout\": {\"annotationdefaults\": {\"arrowcolor\": \"#2a3f5f\", \"arrowhead\": 0, \"arrowwidth\": 1}, \"coloraxis\": {\"colorbar\": {\"outlinewidth\": 0, \"ticks\": \"\"}}, \"colorscale\": {\"diverging\": [[0, \"#8e0152\"], [0.1, \"#c51b7d\"], [0.2, \"#de77ae\"], [0.3, \"#f1b6da\"], [0.4, \"#fde0ef\"], [0.5, \"#f7f7f7\"], [0.6, \"#e6f5d0\"], [0.7, \"#b8e186\"], [0.8, \"#7fbc41\"], [0.9, \"#4d9221\"], [1, \"#276419\"]], \"sequential\": [[0.0, \"#0d0887\"], [0.1111111111111111, \"#46039f\"], [0.2222222222222222, \"#7201a8\"], [0.3333333333333333, \"#9c179e\"], [0.4444444444444444, \"#bd3786\"], [0.5555555555555556, \"#d8576b\"], [0.6666666666666666, \"#ed7953\"], [0.7777777777777778, \"#fb9f3a\"], [0.8888888888888888, \"#fdca26\"], [1.0, \"#f0f921\"]], \"sequentialminus\": [[0.0, \"#0d0887\"], [0.1111111111111111, \"#46039f\"], [0.2222222222222222, \"#7201a8\"], [0.3333333333333333, \"#9c179e\"], [0.4444444444444444, \"#bd3786\"], [0.5555555555555556, \"#d8576b\"], [0.6666666666666666, \"#ed7953\"], [0.7777777777777778, \"#fb9f3a\"], [0.8888888888888888, \"#fdca26\"], [1.0, \"#f0f921\"]]}, \"colorway\": [\"#636efa\", \"#EF553B\", \"#00cc96\", \"#ab63fa\", \"#FFA15A\", \"#19d3f3\", \"#FF6692\", \"#B6E880\", \"#FF97FF\", \"#FECB52\"], \"font\": {\"color\": \"#2a3f5f\"}, \"geo\": {\"bgcolor\": \"white\", \"lakecolor\": \"white\", \"landcolor\": \"#E5ECF6\", \"showlakes\": true, \"showland\": true, \"subunitcolor\": \"white\"}, \"hoverlabel\": {\"align\": \"left\"}, \"hovermode\": \"closest\", \"mapbox\": {\"style\": \"light\"}, \"paper_bgcolor\": \"white\", \"plot_bgcolor\": \"#E5ECF6\", \"polar\": {\"angularaxis\": {\"gridcolor\": \"white\", \"linecolor\": \"white\", \"ticks\": \"\"}, \"bgcolor\": \"#E5ECF6\", \"radialaxis\": {\"gridcolor\": \"white\", \"linecolor\": \"white\", \"ticks\": \"\"}}, \"scene\": {\"xaxis\": {\"backgroundcolor\": \"#E5ECF6\", \"gridcolor\": \"white\", \"gridwidth\": 2, \"linecolor\": \"white\", \"showbackground\": true, \"ticks\": \"\", \"zerolinecolor\": \"white\"}, \"yaxis\": {\"backgroundcolor\": \"#E5ECF6\", \"gridcolor\": \"white\", \"gridwidth\": 2, \"linecolor\": \"white\", \"showbackground\": true, \"ticks\": \"\", \"zerolinecolor\": \"white\"}, \"zaxis\": {\"backgroundcolor\": \"#E5ECF6\", \"gridcolor\": \"white\", \"gridwidth\": 2, \"linecolor\": \"white\", \"showbackground\": true, \"ticks\": \"\", \"zerolinecolor\": \"white\"}}, \"shapedefaults\": {\"line\": {\"color\": \"#2a3f5f\"}}, \"ternary\": {\"aaxis\": {\"gridcolor\": \"white\", \"linecolor\": \"white\", \"ticks\": \"\"}, \"baxis\": {\"gridcolor\": \"white\", \"linecolor\": \"white\", \"ticks\": \"\"}, \"bgcolor\": \"#E5ECF6\", \"caxis\": {\"gridcolor\": \"white\", \"linecolor\": \"white\", \"ticks\": \"\"}}, \"title\": {\"x\": 0.05}, \"xaxis\": {\"automargin\": true, \"gridcolor\": \"white\", \"linecolor\": \"white\", \"ticks\": \"\", \"title\": {\"standoff\": 15}, \"zerolinecolor\": \"white\", \"zerolinewidth\": 2}, \"yaxis\": {\"automargin\": true, \"gridcolor\": \"white\", \"linecolor\": \"white\", \"ticks\": \"\", \"title\": {\"standoff\": 15}, \"zerolinecolor\": \"white\", \"zerolinewidth\": 2}}}, \"title\": {\"text\": \"Year 0: Number of Donors\"}, \"xaxis\": {\"anchor\": \"y\", \"domain\": [0.0, 1.0], \"title\": {\"text\": \"cohort_year\"}, \"type\": \"category\"}, \"yaxis\": {\"anchor\": \"x\", \"domain\": [0.0, 1.0], \"title\": {\"text\": \"no_donors_yr0\"}}},\n",
       "                        {\"responsive\": true}\n",
       "                    ).then(function(){\n",
       "                            \n",
       "var gd = document.getElementById('726c7f10-94fe-4bdc-a330-e3caffcc41d2');\n",
       "var x = new MutationObserver(function (mutations, observer) {{\n",
       "        var display = window.getComputedStyle(gd).display;\n",
       "        if (!display || display === 'none') {{\n",
       "            console.log([gd, 'removed!']);\n",
       "            Plotly.purge(gd);\n",
       "            observer.disconnect();\n",
       "        }}\n",
       "}});\n",
       "\n",
       "// Listen for the removal of the full notebook cells\n",
       "var notebookContainer = gd.closest('#notebook-container');\n",
       "if (notebookContainer) {{\n",
       "    x.observe(notebookContainer, {childList: true});\n",
       "}}\n",
       "\n",
       "// Listen for the clearing of the current output cell\n",
       "var outputEl = gd.closest('.output');\n",
       "if (outputEl) {{\n",
       "    x.observe(outputEl, {childList: true});\n",
       "}}\n",
       "\n",
       "                        })\n",
       "                };\n",
       "                });\n",
       "            </script>\n",
       "        </div>"
      ]
     },
     "metadata": {},
     "output_type": "display_data"
    }
   ],
   "source": [
    "fig = px.bar(df5, x=\"cohort_year\", y='no_donors_yr0',\n",
    "            title=\"Year 0: Number of Donors\")\n",
    " #barmode='group', labels={'index':'year', 'y':'amount ($)'}, \n",
    "fig.update_xaxes(type='category')\n",
    "fig.show()"
   ]
  },
  {
   "cell_type": "code",
   "execution_count": 46,
   "metadata": {},
   "outputs": [
    {
     "data": {
      "application/vnd.plotly.v1+json": {
       "config": {
        "plotlyServerURL": "https://plot.ly"
       },
       "data": [
        {
         "alignmentgroup": "True",
         "hovertemplate": "variable=no_donors_yr1<br>cohort_year=%{x}<br>value=%{y}<extra></extra>",
         "legendgroup": "no_donors_yr1",
         "marker": {
          "color": "#636efa"
         },
         "name": "no_donors_yr1",
         "offsetgroup": "no_donors_yr1",
         "orientation": "v",
         "showlegend": true,
         "textposition": "auto",
         "type": "bar",
         "x": [
          "2012-01-01",
          "2013-01-01",
          "2014-01-01",
          "2015-01-01",
          "2016-01-01",
          "2017-01-01",
          "2018-01-01"
         ],
         "xaxis": "x",
         "y": [
          33,
          62130,
          48667,
          46078,
          56538,
          29990,
          0
         ],
         "yaxis": "y"
        },
        {
         "alignmentgroup": "True",
         "hovertemplate": "variable=no_donors_lapsed_yr1<br>cohort_year=%{x}<br>value=%{y}<extra></extra>",
         "legendgroup": "no_donors_lapsed_yr1",
         "marker": {
          "color": "#EF553B"
         },
         "name": "no_donors_lapsed_yr1",
         "offsetgroup": "no_donors_lapsed_yr1",
         "orientation": "v",
         "showlegend": true,
         "textposition": "auto",
         "type": "bar",
         "x": [
          "2012-01-01",
          "2013-01-01",
          "2014-01-01",
          "2015-01-01",
          "2016-01-01",
          "2017-01-01",
          "2018-01-01"
         ],
         "xaxis": "x",
         "y": [
          -108,
          -257939,
          -272006,
          -309059,
          -389060,
          -405001,
          -147945
         ],
         "yaxis": "y"
        }
       ],
       "layout": {
        "barmode": "relative",
        "legend": {
         "title": {
          "text": "variable"
         },
         "tracegroupgap": 0
        },
        "template": {
         "data": {
          "bar": [
           {
            "error_x": {
             "color": "#2a3f5f"
            },
            "error_y": {
             "color": "#2a3f5f"
            },
            "marker": {
             "line": {
              "color": "#E5ECF6",
              "width": 0.5
             }
            },
            "type": "bar"
           }
          ],
          "barpolar": [
           {
            "marker": {
             "line": {
              "color": "#E5ECF6",
              "width": 0.5
             }
            },
            "type": "barpolar"
           }
          ],
          "carpet": [
           {
            "aaxis": {
             "endlinecolor": "#2a3f5f",
             "gridcolor": "white",
             "linecolor": "white",
             "minorgridcolor": "white",
             "startlinecolor": "#2a3f5f"
            },
            "baxis": {
             "endlinecolor": "#2a3f5f",
             "gridcolor": "white",
             "linecolor": "white",
             "minorgridcolor": "white",
             "startlinecolor": "#2a3f5f"
            },
            "type": "carpet"
           }
          ],
          "choropleth": [
           {
            "colorbar": {
             "outlinewidth": 0,
             "ticks": ""
            },
            "type": "choropleth"
           }
          ],
          "contour": [
           {
            "colorbar": {
             "outlinewidth": 0,
             "ticks": ""
            },
            "colorscale": [
             [
              0,
              "#0d0887"
             ],
             [
              0.1111111111111111,
              "#46039f"
             ],
             [
              0.2222222222222222,
              "#7201a8"
             ],
             [
              0.3333333333333333,
              "#9c179e"
             ],
             [
              0.4444444444444444,
              "#bd3786"
             ],
             [
              0.5555555555555556,
              "#d8576b"
             ],
             [
              0.6666666666666666,
              "#ed7953"
             ],
             [
              0.7777777777777778,
              "#fb9f3a"
             ],
             [
              0.8888888888888888,
              "#fdca26"
             ],
             [
              1,
              "#f0f921"
             ]
            ],
            "type": "contour"
           }
          ],
          "contourcarpet": [
           {
            "colorbar": {
             "outlinewidth": 0,
             "ticks": ""
            },
            "type": "contourcarpet"
           }
          ],
          "heatmap": [
           {
            "colorbar": {
             "outlinewidth": 0,
             "ticks": ""
            },
            "colorscale": [
             [
              0,
              "#0d0887"
             ],
             [
              0.1111111111111111,
              "#46039f"
             ],
             [
              0.2222222222222222,
              "#7201a8"
             ],
             [
              0.3333333333333333,
              "#9c179e"
             ],
             [
              0.4444444444444444,
              "#bd3786"
             ],
             [
              0.5555555555555556,
              "#d8576b"
             ],
             [
              0.6666666666666666,
              "#ed7953"
             ],
             [
              0.7777777777777778,
              "#fb9f3a"
             ],
             [
              0.8888888888888888,
              "#fdca26"
             ],
             [
              1,
              "#f0f921"
             ]
            ],
            "type": "heatmap"
           }
          ],
          "heatmapgl": [
           {
            "colorbar": {
             "outlinewidth": 0,
             "ticks": ""
            },
            "colorscale": [
             [
              0,
              "#0d0887"
             ],
             [
              0.1111111111111111,
              "#46039f"
             ],
             [
              0.2222222222222222,
              "#7201a8"
             ],
             [
              0.3333333333333333,
              "#9c179e"
             ],
             [
              0.4444444444444444,
              "#bd3786"
             ],
             [
              0.5555555555555556,
              "#d8576b"
             ],
             [
              0.6666666666666666,
              "#ed7953"
             ],
             [
              0.7777777777777778,
              "#fb9f3a"
             ],
             [
              0.8888888888888888,
              "#fdca26"
             ],
             [
              1,
              "#f0f921"
             ]
            ],
            "type": "heatmapgl"
           }
          ],
          "histogram": [
           {
            "marker": {
             "colorbar": {
              "outlinewidth": 0,
              "ticks": ""
             }
            },
            "type": "histogram"
           }
          ],
          "histogram2d": [
           {
            "colorbar": {
             "outlinewidth": 0,
             "ticks": ""
            },
            "colorscale": [
             [
              0,
              "#0d0887"
             ],
             [
              0.1111111111111111,
              "#46039f"
             ],
             [
              0.2222222222222222,
              "#7201a8"
             ],
             [
              0.3333333333333333,
              "#9c179e"
             ],
             [
              0.4444444444444444,
              "#bd3786"
             ],
             [
              0.5555555555555556,
              "#d8576b"
             ],
             [
              0.6666666666666666,
              "#ed7953"
             ],
             [
              0.7777777777777778,
              "#fb9f3a"
             ],
             [
              0.8888888888888888,
              "#fdca26"
             ],
             [
              1,
              "#f0f921"
             ]
            ],
            "type": "histogram2d"
           }
          ],
          "histogram2dcontour": [
           {
            "colorbar": {
             "outlinewidth": 0,
             "ticks": ""
            },
            "colorscale": [
             [
              0,
              "#0d0887"
             ],
             [
              0.1111111111111111,
              "#46039f"
             ],
             [
              0.2222222222222222,
              "#7201a8"
             ],
             [
              0.3333333333333333,
              "#9c179e"
             ],
             [
              0.4444444444444444,
              "#bd3786"
             ],
             [
              0.5555555555555556,
              "#d8576b"
             ],
             [
              0.6666666666666666,
              "#ed7953"
             ],
             [
              0.7777777777777778,
              "#fb9f3a"
             ],
             [
              0.8888888888888888,
              "#fdca26"
             ],
             [
              1,
              "#f0f921"
             ]
            ],
            "type": "histogram2dcontour"
           }
          ],
          "mesh3d": [
           {
            "colorbar": {
             "outlinewidth": 0,
             "ticks": ""
            },
            "type": "mesh3d"
           }
          ],
          "parcoords": [
           {
            "line": {
             "colorbar": {
              "outlinewidth": 0,
              "ticks": ""
             }
            },
            "type": "parcoords"
           }
          ],
          "pie": [
           {
            "automargin": true,
            "type": "pie"
           }
          ],
          "scatter": [
           {
            "marker": {
             "colorbar": {
              "outlinewidth": 0,
              "ticks": ""
             }
            },
            "type": "scatter"
           }
          ],
          "scatter3d": [
           {
            "line": {
             "colorbar": {
              "outlinewidth": 0,
              "ticks": ""
             }
            },
            "marker": {
             "colorbar": {
              "outlinewidth": 0,
              "ticks": ""
             }
            },
            "type": "scatter3d"
           }
          ],
          "scattercarpet": [
           {
            "marker": {
             "colorbar": {
              "outlinewidth": 0,
              "ticks": ""
             }
            },
            "type": "scattercarpet"
           }
          ],
          "scattergeo": [
           {
            "marker": {
             "colorbar": {
              "outlinewidth": 0,
              "ticks": ""
             }
            },
            "type": "scattergeo"
           }
          ],
          "scattergl": [
           {
            "marker": {
             "colorbar": {
              "outlinewidth": 0,
              "ticks": ""
             }
            },
            "type": "scattergl"
           }
          ],
          "scattermapbox": [
           {
            "marker": {
             "colorbar": {
              "outlinewidth": 0,
              "ticks": ""
             }
            },
            "type": "scattermapbox"
           }
          ],
          "scatterpolar": [
           {
            "marker": {
             "colorbar": {
              "outlinewidth": 0,
              "ticks": ""
             }
            },
            "type": "scatterpolar"
           }
          ],
          "scatterpolargl": [
           {
            "marker": {
             "colorbar": {
              "outlinewidth": 0,
              "ticks": ""
             }
            },
            "type": "scatterpolargl"
           }
          ],
          "scatterternary": [
           {
            "marker": {
             "colorbar": {
              "outlinewidth": 0,
              "ticks": ""
             }
            },
            "type": "scatterternary"
           }
          ],
          "surface": [
           {
            "colorbar": {
             "outlinewidth": 0,
             "ticks": ""
            },
            "colorscale": [
             [
              0,
              "#0d0887"
             ],
             [
              0.1111111111111111,
              "#46039f"
             ],
             [
              0.2222222222222222,
              "#7201a8"
             ],
             [
              0.3333333333333333,
              "#9c179e"
             ],
             [
              0.4444444444444444,
              "#bd3786"
             ],
             [
              0.5555555555555556,
              "#d8576b"
             ],
             [
              0.6666666666666666,
              "#ed7953"
             ],
             [
              0.7777777777777778,
              "#fb9f3a"
             ],
             [
              0.8888888888888888,
              "#fdca26"
             ],
             [
              1,
              "#f0f921"
             ]
            ],
            "type": "surface"
           }
          ],
          "table": [
           {
            "cells": {
             "fill": {
              "color": "#EBF0F8"
             },
             "line": {
              "color": "white"
             }
            },
            "header": {
             "fill": {
              "color": "#C8D4E3"
             },
             "line": {
              "color": "white"
             }
            },
            "type": "table"
           }
          ]
         },
         "layout": {
          "annotationdefaults": {
           "arrowcolor": "#2a3f5f",
           "arrowhead": 0,
           "arrowwidth": 1
          },
          "coloraxis": {
           "colorbar": {
            "outlinewidth": 0,
            "ticks": ""
           }
          },
          "colorscale": {
           "diverging": [
            [
             0,
             "#8e0152"
            ],
            [
             0.1,
             "#c51b7d"
            ],
            [
             0.2,
             "#de77ae"
            ],
            [
             0.3,
             "#f1b6da"
            ],
            [
             0.4,
             "#fde0ef"
            ],
            [
             0.5,
             "#f7f7f7"
            ],
            [
             0.6,
             "#e6f5d0"
            ],
            [
             0.7,
             "#b8e186"
            ],
            [
             0.8,
             "#7fbc41"
            ],
            [
             0.9,
             "#4d9221"
            ],
            [
             1,
             "#276419"
            ]
           ],
           "sequential": [
            [
             0,
             "#0d0887"
            ],
            [
             0.1111111111111111,
             "#46039f"
            ],
            [
             0.2222222222222222,
             "#7201a8"
            ],
            [
             0.3333333333333333,
             "#9c179e"
            ],
            [
             0.4444444444444444,
             "#bd3786"
            ],
            [
             0.5555555555555556,
             "#d8576b"
            ],
            [
             0.6666666666666666,
             "#ed7953"
            ],
            [
             0.7777777777777778,
             "#fb9f3a"
            ],
            [
             0.8888888888888888,
             "#fdca26"
            ],
            [
             1,
             "#f0f921"
            ]
           ],
           "sequentialminus": [
            [
             0,
             "#0d0887"
            ],
            [
             0.1111111111111111,
             "#46039f"
            ],
            [
             0.2222222222222222,
             "#7201a8"
            ],
            [
             0.3333333333333333,
             "#9c179e"
            ],
            [
             0.4444444444444444,
             "#bd3786"
            ],
            [
             0.5555555555555556,
             "#d8576b"
            ],
            [
             0.6666666666666666,
             "#ed7953"
            ],
            [
             0.7777777777777778,
             "#fb9f3a"
            ],
            [
             0.8888888888888888,
             "#fdca26"
            ],
            [
             1,
             "#f0f921"
            ]
           ]
          },
          "colorway": [
           "#636efa",
           "#EF553B",
           "#00cc96",
           "#ab63fa",
           "#FFA15A",
           "#19d3f3",
           "#FF6692",
           "#B6E880",
           "#FF97FF",
           "#FECB52"
          ],
          "font": {
           "color": "#2a3f5f"
          },
          "geo": {
           "bgcolor": "white",
           "lakecolor": "white",
           "landcolor": "#E5ECF6",
           "showlakes": true,
           "showland": true,
           "subunitcolor": "white"
          },
          "hoverlabel": {
           "align": "left"
          },
          "hovermode": "closest",
          "mapbox": {
           "style": "light"
          },
          "paper_bgcolor": "white",
          "plot_bgcolor": "#E5ECF6",
          "polar": {
           "angularaxis": {
            "gridcolor": "white",
            "linecolor": "white",
            "ticks": ""
           },
           "bgcolor": "#E5ECF6",
           "radialaxis": {
            "gridcolor": "white",
            "linecolor": "white",
            "ticks": ""
           }
          },
          "scene": {
           "xaxis": {
            "backgroundcolor": "#E5ECF6",
            "gridcolor": "white",
            "gridwidth": 2,
            "linecolor": "white",
            "showbackground": true,
            "ticks": "",
            "zerolinecolor": "white"
           },
           "yaxis": {
            "backgroundcolor": "#E5ECF6",
            "gridcolor": "white",
            "gridwidth": 2,
            "linecolor": "white",
            "showbackground": true,
            "ticks": "",
            "zerolinecolor": "white"
           },
           "zaxis": {
            "backgroundcolor": "#E5ECF6",
            "gridcolor": "white",
            "gridwidth": 2,
            "linecolor": "white",
            "showbackground": true,
            "ticks": "",
            "zerolinecolor": "white"
           }
          },
          "shapedefaults": {
           "line": {
            "color": "#2a3f5f"
           }
          },
          "ternary": {
           "aaxis": {
            "gridcolor": "white",
            "linecolor": "white",
            "ticks": ""
           },
           "baxis": {
            "gridcolor": "white",
            "linecolor": "white",
            "ticks": ""
           },
           "bgcolor": "#E5ECF6",
           "caxis": {
            "gridcolor": "white",
            "linecolor": "white",
            "ticks": ""
           }
          },
          "title": {
           "x": 0.05
          },
          "xaxis": {
           "automargin": true,
           "gridcolor": "white",
           "linecolor": "white",
           "ticks": "",
           "title": {
            "standoff": 15
           },
           "zerolinecolor": "white",
           "zerolinewidth": 2
          },
          "yaxis": {
           "automargin": true,
           "gridcolor": "white",
           "linecolor": "white",
           "ticks": "",
           "title": {
            "standoff": 15
           },
           "zerolinecolor": "white",
           "zerolinewidth": 2
          }
         }
        },
        "title": {
         "text": "Year 1: Retention vs Lapse (# Donors)"
        },
        "xaxis": {
         "anchor": "y",
         "domain": [
          0,
          1
         ],
         "title": {
          "text": "cohort_year"
         },
         "type": "category"
        },
        "yaxis": {
         "anchor": "x",
         "domain": [
          0,
          1
         ],
         "title": {
          "text": "value"
         }
        }
       }
      },
      "text/html": [
       "<div>\n",
       "        \n",
       "        \n",
       "            <div id=\"60f87e8e-8298-4c09-a14a-1b779fbfa26e\" class=\"plotly-graph-div\" style=\"height:525px; width:100%;\"></div>\n",
       "            <script type=\"text/javascript\">\n",
       "                require([\"plotly\"], function(Plotly) {\n",
       "                    window.PLOTLYENV=window.PLOTLYENV || {};\n",
       "                    \n",
       "                if (document.getElementById(\"60f87e8e-8298-4c09-a14a-1b779fbfa26e\")) {\n",
       "                    Plotly.newPlot(\n",
       "                        '60f87e8e-8298-4c09-a14a-1b779fbfa26e',\n",
       "                        [{\"alignmentgroup\": \"True\", \"hovertemplate\": \"variable=no_donors_yr1<br>cohort_year=%{x}<br>value=%{y}<extra></extra>\", \"legendgroup\": \"no_donors_yr1\", \"marker\": {\"color\": \"#636efa\"}, \"name\": \"no_donors_yr1\", \"offsetgroup\": \"no_donors_yr1\", \"orientation\": \"v\", \"showlegend\": true, \"textposition\": \"auto\", \"type\": \"bar\", \"x\": [\"2012-01-01\", \"2013-01-01\", \"2014-01-01\", \"2015-01-01\", \"2016-01-01\", \"2017-01-01\", \"2018-01-01\"], \"xaxis\": \"x\", \"y\": [33, 62130, 48667, 46078, 56538, 29990, 0], \"yaxis\": \"y\"}, {\"alignmentgroup\": \"True\", \"hovertemplate\": \"variable=no_donors_lapsed_yr1<br>cohort_year=%{x}<br>value=%{y}<extra></extra>\", \"legendgroup\": \"no_donors_lapsed_yr1\", \"marker\": {\"color\": \"#EF553B\"}, \"name\": \"no_donors_lapsed_yr1\", \"offsetgroup\": \"no_donors_lapsed_yr1\", \"orientation\": \"v\", \"showlegend\": true, \"textposition\": \"auto\", \"type\": \"bar\", \"x\": [\"2012-01-01\", \"2013-01-01\", \"2014-01-01\", \"2015-01-01\", \"2016-01-01\", \"2017-01-01\", \"2018-01-01\"], \"xaxis\": \"x\", \"y\": [-108, -257939, -272006, -309059, -389060, -405001, -147945], \"yaxis\": \"y\"}],\n",
       "                        {\"barmode\": \"relative\", \"legend\": {\"title\": {\"text\": \"variable\"}, \"tracegroupgap\": 0}, \"template\": {\"data\": {\"bar\": [{\"error_x\": {\"color\": \"#2a3f5f\"}, \"error_y\": {\"color\": \"#2a3f5f\"}, \"marker\": {\"line\": {\"color\": \"#E5ECF6\", \"width\": 0.5}}, \"type\": \"bar\"}], \"barpolar\": [{\"marker\": {\"line\": {\"color\": \"#E5ECF6\", \"width\": 0.5}}, \"type\": \"barpolar\"}], \"carpet\": [{\"aaxis\": {\"endlinecolor\": \"#2a3f5f\", \"gridcolor\": \"white\", \"linecolor\": \"white\", \"minorgridcolor\": \"white\", \"startlinecolor\": \"#2a3f5f\"}, \"baxis\": {\"endlinecolor\": \"#2a3f5f\", \"gridcolor\": \"white\", \"linecolor\": \"white\", \"minorgridcolor\": \"white\", \"startlinecolor\": \"#2a3f5f\"}, \"type\": \"carpet\"}], \"choropleth\": [{\"colorbar\": {\"outlinewidth\": 0, \"ticks\": \"\"}, \"type\": \"choropleth\"}], \"contour\": [{\"colorbar\": {\"outlinewidth\": 0, \"ticks\": \"\"}, \"colorscale\": [[0.0, \"#0d0887\"], [0.1111111111111111, \"#46039f\"], [0.2222222222222222, \"#7201a8\"], [0.3333333333333333, \"#9c179e\"], [0.4444444444444444, \"#bd3786\"], [0.5555555555555556, \"#d8576b\"], [0.6666666666666666, \"#ed7953\"], [0.7777777777777778, \"#fb9f3a\"], [0.8888888888888888, \"#fdca26\"], [1.0, \"#f0f921\"]], \"type\": \"contour\"}], \"contourcarpet\": [{\"colorbar\": {\"outlinewidth\": 0, \"ticks\": \"\"}, \"type\": \"contourcarpet\"}], \"heatmap\": [{\"colorbar\": {\"outlinewidth\": 0, \"ticks\": \"\"}, \"colorscale\": [[0.0, \"#0d0887\"], [0.1111111111111111, \"#46039f\"], [0.2222222222222222, \"#7201a8\"], [0.3333333333333333, \"#9c179e\"], [0.4444444444444444, \"#bd3786\"], [0.5555555555555556, \"#d8576b\"], [0.6666666666666666, \"#ed7953\"], [0.7777777777777778, \"#fb9f3a\"], [0.8888888888888888, \"#fdca26\"], [1.0, \"#f0f921\"]], \"type\": \"heatmap\"}], \"heatmapgl\": [{\"colorbar\": {\"outlinewidth\": 0, \"ticks\": \"\"}, \"colorscale\": [[0.0, \"#0d0887\"], [0.1111111111111111, \"#46039f\"], [0.2222222222222222, \"#7201a8\"], [0.3333333333333333, \"#9c179e\"], [0.4444444444444444, \"#bd3786\"], [0.5555555555555556, \"#d8576b\"], [0.6666666666666666, \"#ed7953\"], [0.7777777777777778, \"#fb9f3a\"], [0.8888888888888888, \"#fdca26\"], [1.0, \"#f0f921\"]], \"type\": \"heatmapgl\"}], \"histogram\": [{\"marker\": {\"colorbar\": {\"outlinewidth\": 0, \"ticks\": \"\"}}, \"type\": \"histogram\"}], \"histogram2d\": [{\"colorbar\": {\"outlinewidth\": 0, \"ticks\": \"\"}, \"colorscale\": [[0.0, \"#0d0887\"], [0.1111111111111111, \"#46039f\"], [0.2222222222222222, \"#7201a8\"], [0.3333333333333333, \"#9c179e\"], [0.4444444444444444, \"#bd3786\"], [0.5555555555555556, \"#d8576b\"], [0.6666666666666666, \"#ed7953\"], [0.7777777777777778, \"#fb9f3a\"], [0.8888888888888888, \"#fdca26\"], [1.0, \"#f0f921\"]], \"type\": \"histogram2d\"}], \"histogram2dcontour\": [{\"colorbar\": {\"outlinewidth\": 0, \"ticks\": \"\"}, \"colorscale\": [[0.0, \"#0d0887\"], [0.1111111111111111, \"#46039f\"], [0.2222222222222222, \"#7201a8\"], [0.3333333333333333, \"#9c179e\"], [0.4444444444444444, \"#bd3786\"], [0.5555555555555556, \"#d8576b\"], [0.6666666666666666, \"#ed7953\"], [0.7777777777777778, \"#fb9f3a\"], [0.8888888888888888, \"#fdca26\"], [1.0, \"#f0f921\"]], \"type\": \"histogram2dcontour\"}], \"mesh3d\": [{\"colorbar\": {\"outlinewidth\": 0, \"ticks\": \"\"}, \"type\": \"mesh3d\"}], \"parcoords\": [{\"line\": {\"colorbar\": {\"outlinewidth\": 0, \"ticks\": \"\"}}, \"type\": \"parcoords\"}], \"pie\": [{\"automargin\": true, \"type\": \"pie\"}], \"scatter\": [{\"marker\": {\"colorbar\": {\"outlinewidth\": 0, \"ticks\": \"\"}}, \"type\": \"scatter\"}], \"scatter3d\": [{\"line\": {\"colorbar\": {\"outlinewidth\": 0, \"ticks\": \"\"}}, \"marker\": {\"colorbar\": {\"outlinewidth\": 0, \"ticks\": \"\"}}, \"type\": \"scatter3d\"}], \"scattercarpet\": [{\"marker\": {\"colorbar\": {\"outlinewidth\": 0, \"ticks\": \"\"}}, \"type\": \"scattercarpet\"}], \"scattergeo\": [{\"marker\": {\"colorbar\": {\"outlinewidth\": 0, \"ticks\": \"\"}}, \"type\": \"scattergeo\"}], \"scattergl\": [{\"marker\": {\"colorbar\": {\"outlinewidth\": 0, \"ticks\": \"\"}}, \"type\": \"scattergl\"}], \"scattermapbox\": [{\"marker\": {\"colorbar\": {\"outlinewidth\": 0, \"ticks\": \"\"}}, \"type\": \"scattermapbox\"}], \"scatterpolar\": [{\"marker\": {\"colorbar\": {\"outlinewidth\": 0, \"ticks\": \"\"}}, \"type\": \"scatterpolar\"}], \"scatterpolargl\": [{\"marker\": {\"colorbar\": {\"outlinewidth\": 0, \"ticks\": \"\"}}, \"type\": \"scatterpolargl\"}], \"scatterternary\": [{\"marker\": {\"colorbar\": {\"outlinewidth\": 0, \"ticks\": \"\"}}, \"type\": \"scatterternary\"}], \"surface\": [{\"colorbar\": {\"outlinewidth\": 0, \"ticks\": \"\"}, \"colorscale\": [[0.0, \"#0d0887\"], [0.1111111111111111, \"#46039f\"], [0.2222222222222222, \"#7201a8\"], [0.3333333333333333, \"#9c179e\"], [0.4444444444444444, \"#bd3786\"], [0.5555555555555556, \"#d8576b\"], [0.6666666666666666, \"#ed7953\"], [0.7777777777777778, \"#fb9f3a\"], [0.8888888888888888, \"#fdca26\"], [1.0, \"#f0f921\"]], \"type\": \"surface\"}], \"table\": [{\"cells\": {\"fill\": {\"color\": \"#EBF0F8\"}, \"line\": {\"color\": \"white\"}}, \"header\": {\"fill\": {\"color\": \"#C8D4E3\"}, \"line\": {\"color\": \"white\"}}, \"type\": \"table\"}]}, \"layout\": {\"annotationdefaults\": {\"arrowcolor\": \"#2a3f5f\", \"arrowhead\": 0, \"arrowwidth\": 1}, \"coloraxis\": {\"colorbar\": {\"outlinewidth\": 0, \"ticks\": \"\"}}, \"colorscale\": {\"diverging\": [[0, \"#8e0152\"], [0.1, \"#c51b7d\"], [0.2, \"#de77ae\"], [0.3, \"#f1b6da\"], [0.4, \"#fde0ef\"], [0.5, \"#f7f7f7\"], [0.6, \"#e6f5d0\"], [0.7, \"#b8e186\"], [0.8, \"#7fbc41\"], [0.9, \"#4d9221\"], [1, \"#276419\"]], \"sequential\": [[0.0, \"#0d0887\"], [0.1111111111111111, \"#46039f\"], [0.2222222222222222, \"#7201a8\"], [0.3333333333333333, \"#9c179e\"], [0.4444444444444444, \"#bd3786\"], [0.5555555555555556, \"#d8576b\"], [0.6666666666666666, \"#ed7953\"], [0.7777777777777778, \"#fb9f3a\"], [0.8888888888888888, \"#fdca26\"], [1.0, \"#f0f921\"]], \"sequentialminus\": [[0.0, \"#0d0887\"], [0.1111111111111111, \"#46039f\"], [0.2222222222222222, \"#7201a8\"], [0.3333333333333333, \"#9c179e\"], [0.4444444444444444, \"#bd3786\"], [0.5555555555555556, \"#d8576b\"], [0.6666666666666666, \"#ed7953\"], [0.7777777777777778, \"#fb9f3a\"], [0.8888888888888888, \"#fdca26\"], [1.0, \"#f0f921\"]]}, \"colorway\": [\"#636efa\", \"#EF553B\", \"#00cc96\", \"#ab63fa\", \"#FFA15A\", \"#19d3f3\", \"#FF6692\", \"#B6E880\", \"#FF97FF\", \"#FECB52\"], \"font\": {\"color\": \"#2a3f5f\"}, \"geo\": {\"bgcolor\": \"white\", \"lakecolor\": \"white\", \"landcolor\": \"#E5ECF6\", \"showlakes\": true, \"showland\": true, \"subunitcolor\": \"white\"}, \"hoverlabel\": {\"align\": \"left\"}, \"hovermode\": \"closest\", \"mapbox\": {\"style\": \"light\"}, \"paper_bgcolor\": \"white\", \"plot_bgcolor\": \"#E5ECF6\", \"polar\": {\"angularaxis\": {\"gridcolor\": \"white\", \"linecolor\": \"white\", \"ticks\": \"\"}, \"bgcolor\": \"#E5ECF6\", \"radialaxis\": {\"gridcolor\": \"white\", \"linecolor\": \"white\", \"ticks\": \"\"}}, \"scene\": {\"xaxis\": {\"backgroundcolor\": \"#E5ECF6\", \"gridcolor\": \"white\", \"gridwidth\": 2, \"linecolor\": \"white\", \"showbackground\": true, \"ticks\": \"\", \"zerolinecolor\": \"white\"}, \"yaxis\": {\"backgroundcolor\": \"#E5ECF6\", \"gridcolor\": \"white\", \"gridwidth\": 2, \"linecolor\": \"white\", \"showbackground\": true, \"ticks\": \"\", \"zerolinecolor\": \"white\"}, \"zaxis\": {\"backgroundcolor\": \"#E5ECF6\", \"gridcolor\": \"white\", \"gridwidth\": 2, \"linecolor\": \"white\", \"showbackground\": true, \"ticks\": \"\", \"zerolinecolor\": \"white\"}}, \"shapedefaults\": {\"line\": {\"color\": \"#2a3f5f\"}}, \"ternary\": {\"aaxis\": {\"gridcolor\": \"white\", \"linecolor\": \"white\", \"ticks\": \"\"}, \"baxis\": {\"gridcolor\": \"white\", \"linecolor\": \"white\", \"ticks\": \"\"}, \"bgcolor\": \"#E5ECF6\", \"caxis\": {\"gridcolor\": \"white\", \"linecolor\": \"white\", \"ticks\": \"\"}}, \"title\": {\"x\": 0.05}, \"xaxis\": {\"automargin\": true, \"gridcolor\": \"white\", \"linecolor\": \"white\", \"ticks\": \"\", \"title\": {\"standoff\": 15}, \"zerolinecolor\": \"white\", \"zerolinewidth\": 2}, \"yaxis\": {\"automargin\": true, \"gridcolor\": \"white\", \"linecolor\": \"white\", \"ticks\": \"\", \"title\": {\"standoff\": 15}, \"zerolinecolor\": \"white\", \"zerolinewidth\": 2}}}, \"title\": {\"text\": \"Year 1: Retention vs Lapse (# Donors)\"}, \"xaxis\": {\"anchor\": \"y\", \"domain\": [0.0, 1.0], \"title\": {\"text\": \"cohort_year\"}, \"type\": \"category\"}, \"yaxis\": {\"anchor\": \"x\", \"domain\": [0.0, 1.0], \"title\": {\"text\": \"value\"}}},\n",
       "                        {\"responsive\": true}\n",
       "                    ).then(function(){\n",
       "                            \n",
       "var gd = document.getElementById('60f87e8e-8298-4c09-a14a-1b779fbfa26e');\n",
       "var x = new MutationObserver(function (mutations, observer) {{\n",
       "        var display = window.getComputedStyle(gd).display;\n",
       "        if (!display || display === 'none') {{\n",
       "            console.log([gd, 'removed!']);\n",
       "            Plotly.purge(gd);\n",
       "            observer.disconnect();\n",
       "        }}\n",
       "}});\n",
       "\n",
       "// Listen for the removal of the full notebook cells\n",
       "var notebookContainer = gd.closest('#notebook-container');\n",
       "if (notebookContainer) {{\n",
       "    x.observe(notebookContainer, {childList: true});\n",
       "}}\n",
       "\n",
       "// Listen for the clearing of the current output cell\n",
       "var outputEl = gd.closest('.output');\n",
       "if (outputEl) {{\n",
       "    x.observe(outputEl, {childList: true});\n",
       "}}\n",
       "\n",
       "                        })\n",
       "                };\n",
       "                });\n",
       "            </script>\n",
       "        </div>"
      ]
     },
     "metadata": {},
     "output_type": "display_data"
    }
   ],
   "source": [
    "fig = px.bar(df5, x=\"cohort_year\", y=['no_donors_yr1', 'no_donors_lapsed_yr1'],\n",
    "            title=\"Year 1: Retention vs Lapse (# Donors)\")\n",
    " #barmode='group', labels={'index':'year', 'y':'amount ($)'}, \n",
    "fig.update_xaxes(type='category')\n",
    "fig.show()"
   ]
  },
  {
   "cell_type": "code",
   "execution_count": 47,
   "metadata": {},
   "outputs": [
    {
     "data": {
      "application/vnd.plotly.v1+json": {
       "config": {
        "plotlyServerURL": "https://plot.ly"
       },
       "data": [
        {
         "alignmentgroup": "True",
         "hovertemplate": "variable=retention_rate_yr1<br>cohort_year=%{x}<br>value=%{y}<extra></extra>",
         "legendgroup": "retention_rate_yr1",
         "marker": {
          "color": "#636efa"
         },
         "name": "retention_rate_yr1",
         "offsetgroup": "retention_rate_yr1",
         "orientation": "v",
         "showlegend": true,
         "textposition": "auto",
         "type": "bar",
         "x": [
          "2012-01-01",
          "2013-01-01",
          "2014-01-01",
          "2015-01-01",
          "2016-01-01",
          "2017-01-01",
          "2018-01-01"
         ],
         "xaxis": "x",
         "y": [
          23.404255319148938,
          19.411439408377568,
          15.176519382673314,
          12.97471116780285,
          12.688117989757583,
          6.894395516229071,
          0
         ],
         "yaxis": "y"
        },
        {
         "alignmentgroup": "True",
         "hovertemplate": "variable=lapse_rate_yr1<br>cohort_year=%{x}<br>value=%{y}<extra></extra>",
         "legendgroup": "lapse_rate_yr1",
         "marker": {
          "color": "#EF553B"
         },
         "name": "lapse_rate_yr1",
         "offsetgroup": "lapse_rate_yr1",
         "orientation": "v",
         "showlegend": true,
         "textposition": "auto",
         "type": "bar",
         "x": [
          "2012-01-01",
          "2013-01-01",
          "2014-01-01",
          "2015-01-01",
          "2016-01-01",
          "2017-01-01",
          "2018-01-01"
         ],
         "xaxis": "x",
         "y": [
          -76.59574468085107,
          -80.58856059162243,
          -84.82348061732668,
          -87.02528883219716,
          -87.31188201024241,
          -93.10560448377093,
          0
         ],
         "yaxis": "y"
        }
       ],
       "layout": {
        "barmode": "relative",
        "legend": {
         "title": {
          "text": "variable"
         },
         "tracegroupgap": 0
        },
        "template": {
         "data": {
          "bar": [
           {
            "error_x": {
             "color": "#2a3f5f"
            },
            "error_y": {
             "color": "#2a3f5f"
            },
            "marker": {
             "line": {
              "color": "#E5ECF6",
              "width": 0.5
             }
            },
            "type": "bar"
           }
          ],
          "barpolar": [
           {
            "marker": {
             "line": {
              "color": "#E5ECF6",
              "width": 0.5
             }
            },
            "type": "barpolar"
           }
          ],
          "carpet": [
           {
            "aaxis": {
             "endlinecolor": "#2a3f5f",
             "gridcolor": "white",
             "linecolor": "white",
             "minorgridcolor": "white",
             "startlinecolor": "#2a3f5f"
            },
            "baxis": {
             "endlinecolor": "#2a3f5f",
             "gridcolor": "white",
             "linecolor": "white",
             "minorgridcolor": "white",
             "startlinecolor": "#2a3f5f"
            },
            "type": "carpet"
           }
          ],
          "choropleth": [
           {
            "colorbar": {
             "outlinewidth": 0,
             "ticks": ""
            },
            "type": "choropleth"
           }
          ],
          "contour": [
           {
            "colorbar": {
             "outlinewidth": 0,
             "ticks": ""
            },
            "colorscale": [
             [
              0,
              "#0d0887"
             ],
             [
              0.1111111111111111,
              "#46039f"
             ],
             [
              0.2222222222222222,
              "#7201a8"
             ],
             [
              0.3333333333333333,
              "#9c179e"
             ],
             [
              0.4444444444444444,
              "#bd3786"
             ],
             [
              0.5555555555555556,
              "#d8576b"
             ],
             [
              0.6666666666666666,
              "#ed7953"
             ],
             [
              0.7777777777777778,
              "#fb9f3a"
             ],
             [
              0.8888888888888888,
              "#fdca26"
             ],
             [
              1,
              "#f0f921"
             ]
            ],
            "type": "contour"
           }
          ],
          "contourcarpet": [
           {
            "colorbar": {
             "outlinewidth": 0,
             "ticks": ""
            },
            "type": "contourcarpet"
           }
          ],
          "heatmap": [
           {
            "colorbar": {
             "outlinewidth": 0,
             "ticks": ""
            },
            "colorscale": [
             [
              0,
              "#0d0887"
             ],
             [
              0.1111111111111111,
              "#46039f"
             ],
             [
              0.2222222222222222,
              "#7201a8"
             ],
             [
              0.3333333333333333,
              "#9c179e"
             ],
             [
              0.4444444444444444,
              "#bd3786"
             ],
             [
              0.5555555555555556,
              "#d8576b"
             ],
             [
              0.6666666666666666,
              "#ed7953"
             ],
             [
              0.7777777777777778,
              "#fb9f3a"
             ],
             [
              0.8888888888888888,
              "#fdca26"
             ],
             [
              1,
              "#f0f921"
             ]
            ],
            "type": "heatmap"
           }
          ],
          "heatmapgl": [
           {
            "colorbar": {
             "outlinewidth": 0,
             "ticks": ""
            },
            "colorscale": [
             [
              0,
              "#0d0887"
             ],
             [
              0.1111111111111111,
              "#46039f"
             ],
             [
              0.2222222222222222,
              "#7201a8"
             ],
             [
              0.3333333333333333,
              "#9c179e"
             ],
             [
              0.4444444444444444,
              "#bd3786"
             ],
             [
              0.5555555555555556,
              "#d8576b"
             ],
             [
              0.6666666666666666,
              "#ed7953"
             ],
             [
              0.7777777777777778,
              "#fb9f3a"
             ],
             [
              0.8888888888888888,
              "#fdca26"
             ],
             [
              1,
              "#f0f921"
             ]
            ],
            "type": "heatmapgl"
           }
          ],
          "histogram": [
           {
            "marker": {
             "colorbar": {
              "outlinewidth": 0,
              "ticks": ""
             }
            },
            "type": "histogram"
           }
          ],
          "histogram2d": [
           {
            "colorbar": {
             "outlinewidth": 0,
             "ticks": ""
            },
            "colorscale": [
             [
              0,
              "#0d0887"
             ],
             [
              0.1111111111111111,
              "#46039f"
             ],
             [
              0.2222222222222222,
              "#7201a8"
             ],
             [
              0.3333333333333333,
              "#9c179e"
             ],
             [
              0.4444444444444444,
              "#bd3786"
             ],
             [
              0.5555555555555556,
              "#d8576b"
             ],
             [
              0.6666666666666666,
              "#ed7953"
             ],
             [
              0.7777777777777778,
              "#fb9f3a"
             ],
             [
              0.8888888888888888,
              "#fdca26"
             ],
             [
              1,
              "#f0f921"
             ]
            ],
            "type": "histogram2d"
           }
          ],
          "histogram2dcontour": [
           {
            "colorbar": {
             "outlinewidth": 0,
             "ticks": ""
            },
            "colorscale": [
             [
              0,
              "#0d0887"
             ],
             [
              0.1111111111111111,
              "#46039f"
             ],
             [
              0.2222222222222222,
              "#7201a8"
             ],
             [
              0.3333333333333333,
              "#9c179e"
             ],
             [
              0.4444444444444444,
              "#bd3786"
             ],
             [
              0.5555555555555556,
              "#d8576b"
             ],
             [
              0.6666666666666666,
              "#ed7953"
             ],
             [
              0.7777777777777778,
              "#fb9f3a"
             ],
             [
              0.8888888888888888,
              "#fdca26"
             ],
             [
              1,
              "#f0f921"
             ]
            ],
            "type": "histogram2dcontour"
           }
          ],
          "mesh3d": [
           {
            "colorbar": {
             "outlinewidth": 0,
             "ticks": ""
            },
            "type": "mesh3d"
           }
          ],
          "parcoords": [
           {
            "line": {
             "colorbar": {
              "outlinewidth": 0,
              "ticks": ""
             }
            },
            "type": "parcoords"
           }
          ],
          "pie": [
           {
            "automargin": true,
            "type": "pie"
           }
          ],
          "scatter": [
           {
            "marker": {
             "colorbar": {
              "outlinewidth": 0,
              "ticks": ""
             }
            },
            "type": "scatter"
           }
          ],
          "scatter3d": [
           {
            "line": {
             "colorbar": {
              "outlinewidth": 0,
              "ticks": ""
             }
            },
            "marker": {
             "colorbar": {
              "outlinewidth": 0,
              "ticks": ""
             }
            },
            "type": "scatter3d"
           }
          ],
          "scattercarpet": [
           {
            "marker": {
             "colorbar": {
              "outlinewidth": 0,
              "ticks": ""
             }
            },
            "type": "scattercarpet"
           }
          ],
          "scattergeo": [
           {
            "marker": {
             "colorbar": {
              "outlinewidth": 0,
              "ticks": ""
             }
            },
            "type": "scattergeo"
           }
          ],
          "scattergl": [
           {
            "marker": {
             "colorbar": {
              "outlinewidth": 0,
              "ticks": ""
             }
            },
            "type": "scattergl"
           }
          ],
          "scattermapbox": [
           {
            "marker": {
             "colorbar": {
              "outlinewidth": 0,
              "ticks": ""
             }
            },
            "type": "scattermapbox"
           }
          ],
          "scatterpolar": [
           {
            "marker": {
             "colorbar": {
              "outlinewidth": 0,
              "ticks": ""
             }
            },
            "type": "scatterpolar"
           }
          ],
          "scatterpolargl": [
           {
            "marker": {
             "colorbar": {
              "outlinewidth": 0,
              "ticks": ""
             }
            },
            "type": "scatterpolargl"
           }
          ],
          "scatterternary": [
           {
            "marker": {
             "colorbar": {
              "outlinewidth": 0,
              "ticks": ""
             }
            },
            "type": "scatterternary"
           }
          ],
          "surface": [
           {
            "colorbar": {
             "outlinewidth": 0,
             "ticks": ""
            },
            "colorscale": [
             [
              0,
              "#0d0887"
             ],
             [
              0.1111111111111111,
              "#46039f"
             ],
             [
              0.2222222222222222,
              "#7201a8"
             ],
             [
              0.3333333333333333,
              "#9c179e"
             ],
             [
              0.4444444444444444,
              "#bd3786"
             ],
             [
              0.5555555555555556,
              "#d8576b"
             ],
             [
              0.6666666666666666,
              "#ed7953"
             ],
             [
              0.7777777777777778,
              "#fb9f3a"
             ],
             [
              0.8888888888888888,
              "#fdca26"
             ],
             [
              1,
              "#f0f921"
             ]
            ],
            "type": "surface"
           }
          ],
          "table": [
           {
            "cells": {
             "fill": {
              "color": "#EBF0F8"
             },
             "line": {
              "color": "white"
             }
            },
            "header": {
             "fill": {
              "color": "#C8D4E3"
             },
             "line": {
              "color": "white"
             }
            },
            "type": "table"
           }
          ]
         },
         "layout": {
          "annotationdefaults": {
           "arrowcolor": "#2a3f5f",
           "arrowhead": 0,
           "arrowwidth": 1
          },
          "coloraxis": {
           "colorbar": {
            "outlinewidth": 0,
            "ticks": ""
           }
          },
          "colorscale": {
           "diverging": [
            [
             0,
             "#8e0152"
            ],
            [
             0.1,
             "#c51b7d"
            ],
            [
             0.2,
             "#de77ae"
            ],
            [
             0.3,
             "#f1b6da"
            ],
            [
             0.4,
             "#fde0ef"
            ],
            [
             0.5,
             "#f7f7f7"
            ],
            [
             0.6,
             "#e6f5d0"
            ],
            [
             0.7,
             "#b8e186"
            ],
            [
             0.8,
             "#7fbc41"
            ],
            [
             0.9,
             "#4d9221"
            ],
            [
             1,
             "#276419"
            ]
           ],
           "sequential": [
            [
             0,
             "#0d0887"
            ],
            [
             0.1111111111111111,
             "#46039f"
            ],
            [
             0.2222222222222222,
             "#7201a8"
            ],
            [
             0.3333333333333333,
             "#9c179e"
            ],
            [
             0.4444444444444444,
             "#bd3786"
            ],
            [
             0.5555555555555556,
             "#d8576b"
            ],
            [
             0.6666666666666666,
             "#ed7953"
            ],
            [
             0.7777777777777778,
             "#fb9f3a"
            ],
            [
             0.8888888888888888,
             "#fdca26"
            ],
            [
             1,
             "#f0f921"
            ]
           ],
           "sequentialminus": [
            [
             0,
             "#0d0887"
            ],
            [
             0.1111111111111111,
             "#46039f"
            ],
            [
             0.2222222222222222,
             "#7201a8"
            ],
            [
             0.3333333333333333,
             "#9c179e"
            ],
            [
             0.4444444444444444,
             "#bd3786"
            ],
            [
             0.5555555555555556,
             "#d8576b"
            ],
            [
             0.6666666666666666,
             "#ed7953"
            ],
            [
             0.7777777777777778,
             "#fb9f3a"
            ],
            [
             0.8888888888888888,
             "#fdca26"
            ],
            [
             1,
             "#f0f921"
            ]
           ]
          },
          "colorway": [
           "#636efa",
           "#EF553B",
           "#00cc96",
           "#ab63fa",
           "#FFA15A",
           "#19d3f3",
           "#FF6692",
           "#B6E880",
           "#FF97FF",
           "#FECB52"
          ],
          "font": {
           "color": "#2a3f5f"
          },
          "geo": {
           "bgcolor": "white",
           "lakecolor": "white",
           "landcolor": "#E5ECF6",
           "showlakes": true,
           "showland": true,
           "subunitcolor": "white"
          },
          "hoverlabel": {
           "align": "left"
          },
          "hovermode": "closest",
          "mapbox": {
           "style": "light"
          },
          "paper_bgcolor": "white",
          "plot_bgcolor": "#E5ECF6",
          "polar": {
           "angularaxis": {
            "gridcolor": "white",
            "linecolor": "white",
            "ticks": ""
           },
           "bgcolor": "#E5ECF6",
           "radialaxis": {
            "gridcolor": "white",
            "linecolor": "white",
            "ticks": ""
           }
          },
          "scene": {
           "xaxis": {
            "backgroundcolor": "#E5ECF6",
            "gridcolor": "white",
            "gridwidth": 2,
            "linecolor": "white",
            "showbackground": true,
            "ticks": "",
            "zerolinecolor": "white"
           },
           "yaxis": {
            "backgroundcolor": "#E5ECF6",
            "gridcolor": "white",
            "gridwidth": 2,
            "linecolor": "white",
            "showbackground": true,
            "ticks": "",
            "zerolinecolor": "white"
           },
           "zaxis": {
            "backgroundcolor": "#E5ECF6",
            "gridcolor": "white",
            "gridwidth": 2,
            "linecolor": "white",
            "showbackground": true,
            "ticks": "",
            "zerolinecolor": "white"
           }
          },
          "shapedefaults": {
           "line": {
            "color": "#2a3f5f"
           }
          },
          "ternary": {
           "aaxis": {
            "gridcolor": "white",
            "linecolor": "white",
            "ticks": ""
           },
           "baxis": {
            "gridcolor": "white",
            "linecolor": "white",
            "ticks": ""
           },
           "bgcolor": "#E5ECF6",
           "caxis": {
            "gridcolor": "white",
            "linecolor": "white",
            "ticks": ""
           }
          },
          "title": {
           "x": 0.05
          },
          "xaxis": {
           "automargin": true,
           "gridcolor": "white",
           "linecolor": "white",
           "ticks": "",
           "title": {
            "standoff": 15
           },
           "zerolinecolor": "white",
           "zerolinewidth": 2
          },
          "yaxis": {
           "automargin": true,
           "gridcolor": "white",
           "linecolor": "white",
           "ticks": "",
           "title": {
            "standoff": 15
           },
           "zerolinecolor": "white",
           "zerolinewidth": 2
          }
         }
        },
        "title": {
         "text": "Year 1: Retention vs Lapse (% of Donors)"
        },
        "xaxis": {
         "anchor": "y",
         "domain": [
          0,
          1
         ],
         "title": {
          "text": "cohort_year"
         },
         "type": "category"
        },
        "yaxis": {
         "anchor": "x",
         "domain": [
          0,
          1
         ],
         "title": {
          "text": "value"
         }
        }
       }
      },
      "text/html": [
       "<div>\n",
       "        \n",
       "        \n",
       "            <div id=\"74f1c430-3edd-4499-a091-6836e5d3ecb7\" class=\"plotly-graph-div\" style=\"height:525px; width:100%;\"></div>\n",
       "            <script type=\"text/javascript\">\n",
       "                require([\"plotly\"], function(Plotly) {\n",
       "                    window.PLOTLYENV=window.PLOTLYENV || {};\n",
       "                    \n",
       "                if (document.getElementById(\"74f1c430-3edd-4499-a091-6836e5d3ecb7\")) {\n",
       "                    Plotly.newPlot(\n",
       "                        '74f1c430-3edd-4499-a091-6836e5d3ecb7',\n",
       "                        [{\"alignmentgroup\": \"True\", \"hovertemplate\": \"variable=retention_rate_yr1<br>cohort_year=%{x}<br>value=%{y}<extra></extra>\", \"legendgroup\": \"retention_rate_yr1\", \"marker\": {\"color\": \"#636efa\"}, \"name\": \"retention_rate_yr1\", \"offsetgroup\": \"retention_rate_yr1\", \"orientation\": \"v\", \"showlegend\": true, \"textposition\": \"auto\", \"type\": \"bar\", \"x\": [\"2012-01-01\", \"2013-01-01\", \"2014-01-01\", \"2015-01-01\", \"2016-01-01\", \"2017-01-01\", \"2018-01-01\"], \"xaxis\": \"x\", \"y\": [23.404255319148938, 19.411439408377568, 15.176519382673314, 12.97471116780285, 12.688117989757583, 6.894395516229071, 0.0], \"yaxis\": \"y\"}, {\"alignmentgroup\": \"True\", \"hovertemplate\": \"variable=lapse_rate_yr1<br>cohort_year=%{x}<br>value=%{y}<extra></extra>\", \"legendgroup\": \"lapse_rate_yr1\", \"marker\": {\"color\": \"#EF553B\"}, \"name\": \"lapse_rate_yr1\", \"offsetgroup\": \"lapse_rate_yr1\", \"orientation\": \"v\", \"showlegend\": true, \"textposition\": \"auto\", \"type\": \"bar\", \"x\": [\"2012-01-01\", \"2013-01-01\", \"2014-01-01\", \"2015-01-01\", \"2016-01-01\", \"2017-01-01\", \"2018-01-01\"], \"xaxis\": \"x\", \"y\": [-76.59574468085107, -80.58856059162243, -84.82348061732668, -87.02528883219716, -87.31188201024241, -93.10560448377093, -0.0], \"yaxis\": \"y\"}],\n",
       "                        {\"barmode\": \"relative\", \"legend\": {\"title\": {\"text\": \"variable\"}, \"tracegroupgap\": 0}, \"template\": {\"data\": {\"bar\": [{\"error_x\": {\"color\": \"#2a3f5f\"}, \"error_y\": {\"color\": \"#2a3f5f\"}, \"marker\": {\"line\": {\"color\": \"#E5ECF6\", \"width\": 0.5}}, \"type\": \"bar\"}], \"barpolar\": [{\"marker\": {\"line\": {\"color\": \"#E5ECF6\", \"width\": 0.5}}, \"type\": \"barpolar\"}], \"carpet\": [{\"aaxis\": {\"endlinecolor\": \"#2a3f5f\", \"gridcolor\": \"white\", \"linecolor\": \"white\", \"minorgridcolor\": \"white\", \"startlinecolor\": \"#2a3f5f\"}, \"baxis\": {\"endlinecolor\": \"#2a3f5f\", \"gridcolor\": \"white\", \"linecolor\": \"white\", \"minorgridcolor\": \"white\", \"startlinecolor\": \"#2a3f5f\"}, \"type\": \"carpet\"}], \"choropleth\": [{\"colorbar\": {\"outlinewidth\": 0, \"ticks\": \"\"}, \"type\": \"choropleth\"}], \"contour\": [{\"colorbar\": {\"outlinewidth\": 0, \"ticks\": \"\"}, \"colorscale\": [[0.0, \"#0d0887\"], [0.1111111111111111, \"#46039f\"], [0.2222222222222222, \"#7201a8\"], [0.3333333333333333, \"#9c179e\"], [0.4444444444444444, \"#bd3786\"], [0.5555555555555556, \"#d8576b\"], [0.6666666666666666, \"#ed7953\"], [0.7777777777777778, \"#fb9f3a\"], [0.8888888888888888, \"#fdca26\"], [1.0, \"#f0f921\"]], \"type\": \"contour\"}], \"contourcarpet\": [{\"colorbar\": {\"outlinewidth\": 0, \"ticks\": \"\"}, \"type\": \"contourcarpet\"}], \"heatmap\": [{\"colorbar\": {\"outlinewidth\": 0, \"ticks\": \"\"}, \"colorscale\": [[0.0, \"#0d0887\"], [0.1111111111111111, \"#46039f\"], [0.2222222222222222, \"#7201a8\"], [0.3333333333333333, \"#9c179e\"], [0.4444444444444444, \"#bd3786\"], [0.5555555555555556, \"#d8576b\"], [0.6666666666666666, \"#ed7953\"], [0.7777777777777778, \"#fb9f3a\"], [0.8888888888888888, \"#fdca26\"], [1.0, \"#f0f921\"]], \"type\": \"heatmap\"}], \"heatmapgl\": [{\"colorbar\": {\"outlinewidth\": 0, \"ticks\": \"\"}, \"colorscale\": [[0.0, \"#0d0887\"], [0.1111111111111111, \"#46039f\"], [0.2222222222222222, \"#7201a8\"], [0.3333333333333333, \"#9c179e\"], [0.4444444444444444, \"#bd3786\"], [0.5555555555555556, \"#d8576b\"], [0.6666666666666666, \"#ed7953\"], [0.7777777777777778, \"#fb9f3a\"], [0.8888888888888888, \"#fdca26\"], [1.0, \"#f0f921\"]], \"type\": \"heatmapgl\"}], \"histogram\": [{\"marker\": {\"colorbar\": {\"outlinewidth\": 0, \"ticks\": \"\"}}, \"type\": \"histogram\"}], \"histogram2d\": [{\"colorbar\": {\"outlinewidth\": 0, \"ticks\": \"\"}, \"colorscale\": [[0.0, \"#0d0887\"], [0.1111111111111111, \"#46039f\"], [0.2222222222222222, \"#7201a8\"], [0.3333333333333333, \"#9c179e\"], [0.4444444444444444, \"#bd3786\"], [0.5555555555555556, \"#d8576b\"], [0.6666666666666666, \"#ed7953\"], [0.7777777777777778, \"#fb9f3a\"], [0.8888888888888888, \"#fdca26\"], [1.0, \"#f0f921\"]], \"type\": \"histogram2d\"}], \"histogram2dcontour\": [{\"colorbar\": {\"outlinewidth\": 0, \"ticks\": \"\"}, \"colorscale\": [[0.0, \"#0d0887\"], [0.1111111111111111, \"#46039f\"], [0.2222222222222222, \"#7201a8\"], [0.3333333333333333, \"#9c179e\"], [0.4444444444444444, \"#bd3786\"], [0.5555555555555556, \"#d8576b\"], [0.6666666666666666, \"#ed7953\"], [0.7777777777777778, \"#fb9f3a\"], [0.8888888888888888, \"#fdca26\"], [1.0, \"#f0f921\"]], \"type\": \"histogram2dcontour\"}], \"mesh3d\": [{\"colorbar\": {\"outlinewidth\": 0, \"ticks\": \"\"}, \"type\": \"mesh3d\"}], \"parcoords\": [{\"line\": {\"colorbar\": {\"outlinewidth\": 0, \"ticks\": \"\"}}, \"type\": \"parcoords\"}], \"pie\": [{\"automargin\": true, \"type\": \"pie\"}], \"scatter\": [{\"marker\": {\"colorbar\": {\"outlinewidth\": 0, \"ticks\": \"\"}}, \"type\": \"scatter\"}], \"scatter3d\": [{\"line\": {\"colorbar\": {\"outlinewidth\": 0, \"ticks\": \"\"}}, \"marker\": {\"colorbar\": {\"outlinewidth\": 0, \"ticks\": \"\"}}, \"type\": \"scatter3d\"}], \"scattercarpet\": [{\"marker\": {\"colorbar\": {\"outlinewidth\": 0, \"ticks\": \"\"}}, \"type\": \"scattercarpet\"}], \"scattergeo\": [{\"marker\": {\"colorbar\": {\"outlinewidth\": 0, \"ticks\": \"\"}}, \"type\": \"scattergeo\"}], \"scattergl\": [{\"marker\": {\"colorbar\": {\"outlinewidth\": 0, \"ticks\": \"\"}}, \"type\": \"scattergl\"}], \"scattermapbox\": [{\"marker\": {\"colorbar\": {\"outlinewidth\": 0, \"ticks\": \"\"}}, \"type\": \"scattermapbox\"}], \"scatterpolar\": [{\"marker\": {\"colorbar\": {\"outlinewidth\": 0, \"ticks\": \"\"}}, \"type\": \"scatterpolar\"}], \"scatterpolargl\": [{\"marker\": {\"colorbar\": {\"outlinewidth\": 0, \"ticks\": \"\"}}, \"type\": \"scatterpolargl\"}], \"scatterternary\": [{\"marker\": {\"colorbar\": {\"outlinewidth\": 0, \"ticks\": \"\"}}, \"type\": \"scatterternary\"}], \"surface\": [{\"colorbar\": {\"outlinewidth\": 0, \"ticks\": \"\"}, \"colorscale\": [[0.0, \"#0d0887\"], [0.1111111111111111, \"#46039f\"], [0.2222222222222222, \"#7201a8\"], [0.3333333333333333, \"#9c179e\"], [0.4444444444444444, \"#bd3786\"], [0.5555555555555556, \"#d8576b\"], [0.6666666666666666, \"#ed7953\"], [0.7777777777777778, \"#fb9f3a\"], [0.8888888888888888, \"#fdca26\"], [1.0, \"#f0f921\"]], \"type\": \"surface\"}], \"table\": [{\"cells\": {\"fill\": {\"color\": \"#EBF0F8\"}, \"line\": {\"color\": \"white\"}}, \"header\": {\"fill\": {\"color\": \"#C8D4E3\"}, \"line\": {\"color\": \"white\"}}, \"type\": \"table\"}]}, \"layout\": {\"annotationdefaults\": {\"arrowcolor\": \"#2a3f5f\", \"arrowhead\": 0, \"arrowwidth\": 1}, \"coloraxis\": {\"colorbar\": {\"outlinewidth\": 0, \"ticks\": \"\"}}, \"colorscale\": {\"diverging\": [[0, \"#8e0152\"], [0.1, \"#c51b7d\"], [0.2, \"#de77ae\"], [0.3, \"#f1b6da\"], [0.4, \"#fde0ef\"], [0.5, \"#f7f7f7\"], [0.6, \"#e6f5d0\"], [0.7, \"#b8e186\"], [0.8, \"#7fbc41\"], [0.9, \"#4d9221\"], [1, \"#276419\"]], \"sequential\": [[0.0, \"#0d0887\"], [0.1111111111111111, \"#46039f\"], [0.2222222222222222, \"#7201a8\"], [0.3333333333333333, \"#9c179e\"], [0.4444444444444444, \"#bd3786\"], [0.5555555555555556, \"#d8576b\"], [0.6666666666666666, \"#ed7953\"], [0.7777777777777778, \"#fb9f3a\"], [0.8888888888888888, \"#fdca26\"], [1.0, \"#f0f921\"]], \"sequentialminus\": [[0.0, \"#0d0887\"], [0.1111111111111111, \"#46039f\"], [0.2222222222222222, \"#7201a8\"], [0.3333333333333333, \"#9c179e\"], [0.4444444444444444, \"#bd3786\"], [0.5555555555555556, \"#d8576b\"], [0.6666666666666666, \"#ed7953\"], [0.7777777777777778, \"#fb9f3a\"], [0.8888888888888888, \"#fdca26\"], [1.0, \"#f0f921\"]]}, \"colorway\": [\"#636efa\", \"#EF553B\", \"#00cc96\", \"#ab63fa\", \"#FFA15A\", \"#19d3f3\", \"#FF6692\", \"#B6E880\", \"#FF97FF\", \"#FECB52\"], \"font\": {\"color\": \"#2a3f5f\"}, \"geo\": {\"bgcolor\": \"white\", \"lakecolor\": \"white\", \"landcolor\": \"#E5ECF6\", \"showlakes\": true, \"showland\": true, \"subunitcolor\": \"white\"}, \"hoverlabel\": {\"align\": \"left\"}, \"hovermode\": \"closest\", \"mapbox\": {\"style\": \"light\"}, \"paper_bgcolor\": \"white\", \"plot_bgcolor\": \"#E5ECF6\", \"polar\": {\"angularaxis\": {\"gridcolor\": \"white\", \"linecolor\": \"white\", \"ticks\": \"\"}, \"bgcolor\": \"#E5ECF6\", \"radialaxis\": {\"gridcolor\": \"white\", \"linecolor\": \"white\", \"ticks\": \"\"}}, \"scene\": {\"xaxis\": {\"backgroundcolor\": \"#E5ECF6\", \"gridcolor\": \"white\", \"gridwidth\": 2, \"linecolor\": \"white\", \"showbackground\": true, \"ticks\": \"\", \"zerolinecolor\": \"white\"}, \"yaxis\": {\"backgroundcolor\": \"#E5ECF6\", \"gridcolor\": \"white\", \"gridwidth\": 2, \"linecolor\": \"white\", \"showbackground\": true, \"ticks\": \"\", \"zerolinecolor\": \"white\"}, \"zaxis\": {\"backgroundcolor\": \"#E5ECF6\", \"gridcolor\": \"white\", \"gridwidth\": 2, \"linecolor\": \"white\", \"showbackground\": true, \"ticks\": \"\", \"zerolinecolor\": \"white\"}}, \"shapedefaults\": {\"line\": {\"color\": \"#2a3f5f\"}}, \"ternary\": {\"aaxis\": {\"gridcolor\": \"white\", \"linecolor\": \"white\", \"ticks\": \"\"}, \"baxis\": {\"gridcolor\": \"white\", \"linecolor\": \"white\", \"ticks\": \"\"}, \"bgcolor\": \"#E5ECF6\", \"caxis\": {\"gridcolor\": \"white\", \"linecolor\": \"white\", \"ticks\": \"\"}}, \"title\": {\"x\": 0.05}, \"xaxis\": {\"automargin\": true, \"gridcolor\": \"white\", \"linecolor\": \"white\", \"ticks\": \"\", \"title\": {\"standoff\": 15}, \"zerolinecolor\": \"white\", \"zerolinewidth\": 2}, \"yaxis\": {\"automargin\": true, \"gridcolor\": \"white\", \"linecolor\": \"white\", \"ticks\": \"\", \"title\": {\"standoff\": 15}, \"zerolinecolor\": \"white\", \"zerolinewidth\": 2}}}, \"title\": {\"text\": \"Year 1: Retention vs Lapse (% of Donors)\"}, \"xaxis\": {\"anchor\": \"y\", \"domain\": [0.0, 1.0], \"title\": {\"text\": \"cohort_year\"}, \"type\": \"category\"}, \"yaxis\": {\"anchor\": \"x\", \"domain\": [0.0, 1.0], \"title\": {\"text\": \"value\"}}},\n",
       "                        {\"responsive\": true}\n",
       "                    ).then(function(){\n",
       "                            \n",
       "var gd = document.getElementById('74f1c430-3edd-4499-a091-6836e5d3ecb7');\n",
       "var x = new MutationObserver(function (mutations, observer) {{\n",
       "        var display = window.getComputedStyle(gd).display;\n",
       "        if (!display || display === 'none') {{\n",
       "            console.log([gd, 'removed!']);\n",
       "            Plotly.purge(gd);\n",
       "            observer.disconnect();\n",
       "        }}\n",
       "}});\n",
       "\n",
       "// Listen for the removal of the full notebook cells\n",
       "var notebookContainer = gd.closest('#notebook-container');\n",
       "if (notebookContainer) {{\n",
       "    x.observe(notebookContainer, {childList: true});\n",
       "}}\n",
       "\n",
       "// Listen for the clearing of the current output cell\n",
       "var outputEl = gd.closest('.output');\n",
       "if (outputEl) {{\n",
       "    x.observe(outputEl, {childList: true});\n",
       "}}\n",
       "\n",
       "                        })\n",
       "                };\n",
       "                });\n",
       "            </script>\n",
       "        </div>"
      ]
     },
     "metadata": {},
     "output_type": "display_data"
    }
   ],
   "source": [
    "fig = px.bar(df5, x=\"cohort_year\", y=['retention_rate_yr1', 'lapse_rate_yr1'],\n",
    "            title=\"Year 1: Retention vs Lapse (% of Donors)\")\n",
    " #barmode='group', labels={'index':'year', 'y':'amount ($)'}, \n",
    "fig.update_xaxes(type='category')\n",
    "fig.show()"
   ]
  },
  {
   "cell_type": "code",
   "execution_count": null,
   "metadata": {},
   "outputs": [],
   "source": [
    "grouped.cohort_1_second_year"
   ]
  },
  {
   "cell_type": "code",
   "execution_count": 17,
   "metadata": {},
   "outputs": [
    {
     "ename": "SyntaxError",
     "evalue": "invalid syntax (<ipython-input-17-e2a269811057>, line 5)",
     "output_type": "error",
     "traceback": [
      "\u001b[1;36m  File \u001b[1;32m\"<ipython-input-17-e2a269811057>\"\u001b[1;36m, line \u001b[1;32m5\u001b[0m\n\u001b[1;33m    'first_gift', 'second_year': \"sum\",  # get the count of networks\u001b[0m\n\u001b[1;37m                ^\u001b[0m\n\u001b[1;31mSyntaxError\u001b[0m\u001b[1;31m:\u001b[0m invalid syntax\n"
     ]
    }
   ],
   "source": [
    "donations_cohort_with_cycle.groupby('first_gift_year').agg(\n",
    "    {'first_gift', 'second_year': \"sum\",  # get the count of networks\n",
    "    }\n",
    ")\n",
    "df.groupby('Category').agg({'Item':'size','shop1':['sum','mean','std'],'shop2':['sum','mean','std'],'shop3':['sum','mean','std']})\n"
   ]
  },
  {
   "cell_type": "code",
   "execution_count": null,
   "metadata": {},
   "outputs": [],
   "source": [
    "def filter_func(x):\n",
    "    return x['data2'].std() > 4"
   ]
  },
  {
   "cell_type": "code",
   "execution_count": 31,
   "metadata": {},
   "outputs": [],
   "source": [
    "##START HERE FRIDAY"
   ]
  },
  {
   "cell_type": "code",
   "execution_count": 39,
   "metadata": {},
   "outputs": [],
   "source": [
    "donations_cohort_with_cycle1=donations_cohort_with_cycle[['id','first_gift_year','amount_yr0','amount_yr1','amount_yr2','amount_yr3','amount_yr4','cohort_0_first_gift',\n",
    "'cohort_1_lapsed_after_first',\n",
    "'cohort_1_second_year',\n",
    "'cohort_2_lapsed_after_first_long',\n",
    "'cohort_2_lapsed_after_second',\n",
    "'cohort_2_multi_year',\n",
    "'cohort_2_second_with_gap',\n",
    "'cohort_3_first_gift',\n",
    "'cohort_3_inconsistent_multi_year',\n",
    "'cohort_3_key_multi_year',\n",
    "'cohort_3_lapsed_after_second',\n",
    "'cohort_3_lapsed_long',\n",
    "'cohort_3_lapsed_multi_year',\n",
    "'cohort_4_first_gift',\n",
    "'cohort_4_inconsistent_multi_year',\n",
    "'cohort_4_key_multi_year',\n",
    "'cohort_4_lapsed_after_first',\n",
    "'cohort_4_lapsed_key_multi_year',\n",
    "'cohort_4_lapsed_long',\n",
    "'cohort_4_lapsed_long_multi_year',\n",
    "'cohort_4_lapsed_multi_year',\n",
    "'cohort_4_multi_year',\n",
    "'cohort_4_recovered_multi_year',\n",
    "'cohort_4_second_year',\n",
    "'cohort_gift_pattern'                                                          \n",
    "]].copy()"
   ]
  },
  {
   "cell_type": "code",
   "execution_count": 40,
   "metadata": {},
   "outputs": [],
   "source": [
    "df01234=donations_cohort_with_cycle1.query('cohort_gift_pattern == \"0,1,2,3,4,\"')"
   ]
  },
  {
   "cell_type": "code",
   "execution_count": 41,
   "metadata": {},
   "outputs": [
    {
     "data": {
      "text/html": [
       "<div>\n",
       "<style scoped>\n",
       "    .dataframe tbody tr th:only-of-type {\n",
       "        vertical-align: middle;\n",
       "    }\n",
       "\n",
       "    .dataframe tbody tr th {\n",
       "        vertical-align: top;\n",
       "    }\n",
       "\n",
       "    .dataframe thead th {\n",
       "        text-align: right;\n",
       "    }\n",
       "</style>\n",
       "<table border=\"1\" class=\"dataframe\">\n",
       "  <thead>\n",
       "    <tr style=\"text-align: right;\">\n",
       "      <th></th>\n",
       "      <th>id</th>\n",
       "      <th>first_gift_year</th>\n",
       "      <th>amount_yr0</th>\n",
       "      <th>amount_yr1</th>\n",
       "      <th>amount_yr2</th>\n",
       "      <th>amount_yr3</th>\n",
       "      <th>amount_yr4</th>\n",
       "      <th>cohort_0_first_gift</th>\n",
       "      <th>cohort_1_lapsed_after_first</th>\n",
       "      <th>cohort_1_second_year</th>\n",
       "      <th>...</th>\n",
       "      <th>cohort_4_key_multi_year</th>\n",
       "      <th>cohort_4_lapsed_after_first</th>\n",
       "      <th>cohort_4_lapsed_key_multi_year</th>\n",
       "      <th>cohort_4_lapsed_long</th>\n",
       "      <th>cohort_4_lapsed_long_multi_year</th>\n",
       "      <th>cohort_4_lapsed_multi_year</th>\n",
       "      <th>cohort_4_multi_year</th>\n",
       "      <th>cohort_4_recovered_multi_year</th>\n",
       "      <th>cohort_4_second_year</th>\n",
       "      <th>cohort_gift_pattern</th>\n",
       "    </tr>\n",
       "  </thead>\n",
       "  <tbody>\n",
       "    <tr>\n",
       "      <td>41</td>\n",
       "      <td>0001107b9faa5c3bb42cfcecece1d587</td>\n",
       "      <td>2013-01-01</td>\n",
       "      <td>125.00</td>\n",
       "      <td>175.0</td>\n",
       "      <td>240.0</td>\n",
       "      <td>195.00</td>\n",
       "      <td>160.00</td>\n",
       "      <td>1</td>\n",
       "      <td>0</td>\n",
       "      <td>1</td>\n",
       "      <td>...</td>\n",
       "      <td>1</td>\n",
       "      <td>0</td>\n",
       "      <td>0</td>\n",
       "      <td>0</td>\n",
       "      <td>0</td>\n",
       "      <td>0</td>\n",
       "      <td>0</td>\n",
       "      <td>0</td>\n",
       "      <td>0</td>\n",
       "      <td>0,1,2,3,4,</td>\n",
       "    </tr>\n",
       "    <tr>\n",
       "      <td>107</td>\n",
       "      <td>0002bcb9f69cd91cbeae163fc9cd874f</td>\n",
       "      <td>2013-01-01</td>\n",
       "      <td>150.00</td>\n",
       "      <td>75.0</td>\n",
       "      <td>58.0</td>\n",
       "      <td>236.00</td>\n",
       "      <td>1139.59</td>\n",
       "      <td>1</td>\n",
       "      <td>0</td>\n",
       "      <td>1</td>\n",
       "      <td>...</td>\n",
       "      <td>1</td>\n",
       "      <td>0</td>\n",
       "      <td>0</td>\n",
       "      <td>0</td>\n",
       "      <td>0</td>\n",
       "      <td>0</td>\n",
       "      <td>0</td>\n",
       "      <td>0</td>\n",
       "      <td>0</td>\n",
       "      <td>0,1,2,3,4,</td>\n",
       "    </tr>\n",
       "    <tr>\n",
       "      <td>320</td>\n",
       "      <td>0009b8318c1914701e4d1063f2a008d8</td>\n",
       "      <td>2013-01-01</td>\n",
       "      <td>357.00</td>\n",
       "      <td>33.0</td>\n",
       "      <td>35.0</td>\n",
       "      <td>109.00</td>\n",
       "      <td>139.00</td>\n",
       "      <td>1</td>\n",
       "      <td>0</td>\n",
       "      <td>1</td>\n",
       "      <td>...</td>\n",
       "      <td>1</td>\n",
       "      <td>0</td>\n",
       "      <td>0</td>\n",
       "      <td>0</td>\n",
       "      <td>0</td>\n",
       "      <td>0</td>\n",
       "      <td>0</td>\n",
       "      <td>0</td>\n",
       "      <td>0</td>\n",
       "      <td>0,1,2,3,4,</td>\n",
       "    </tr>\n",
       "    <tr>\n",
       "      <td>374</td>\n",
       "      <td>000baeedb9c9756b6335a16918770e0f</td>\n",
       "      <td>2013-01-01</td>\n",
       "      <td>20.00</td>\n",
       "      <td>50.0</td>\n",
       "      <td>50.0</td>\n",
       "      <td>50.00</td>\n",
       "      <td>75.00</td>\n",
       "      <td>1</td>\n",
       "      <td>0</td>\n",
       "      <td>1</td>\n",
       "      <td>...</td>\n",
       "      <td>1</td>\n",
       "      <td>0</td>\n",
       "      <td>0</td>\n",
       "      <td>0</td>\n",
       "      <td>0</td>\n",
       "      <td>0</td>\n",
       "      <td>0</td>\n",
       "      <td>0</td>\n",
       "      <td>0</td>\n",
       "      <td>0,1,2,3,4,</td>\n",
       "    </tr>\n",
       "    <tr>\n",
       "      <td>688</td>\n",
       "      <td>0015dc157335e5ad6f569e5264bbf33e</td>\n",
       "      <td>2013-01-01</td>\n",
       "      <td>3756.36</td>\n",
       "      <td>189.5</td>\n",
       "      <td>110.0</td>\n",
       "      <td>50.00</td>\n",
       "      <td>300.00</td>\n",
       "      <td>1</td>\n",
       "      <td>0</td>\n",
       "      <td>1</td>\n",
       "      <td>...</td>\n",
       "      <td>1</td>\n",
       "      <td>0</td>\n",
       "      <td>0</td>\n",
       "      <td>0</td>\n",
       "      <td>0</td>\n",
       "      <td>0</td>\n",
       "      <td>0</td>\n",
       "      <td>0</td>\n",
       "      <td>0</td>\n",
       "      <td>0,1,2,3,4,</td>\n",
       "    </tr>\n",
       "    <tr>\n",
       "      <td>...</td>\n",
       "      <td>...</td>\n",
       "      <td>...</td>\n",
       "      <td>...</td>\n",
       "      <td>...</td>\n",
       "      <td>...</td>\n",
       "      <td>...</td>\n",
       "      <td>...</td>\n",
       "      <td>...</td>\n",
       "      <td>...</td>\n",
       "      <td>...</td>\n",
       "      <td>...</td>\n",
       "      <td>...</td>\n",
       "      <td>...</td>\n",
       "      <td>...</td>\n",
       "      <td>...</td>\n",
       "      <td>...</td>\n",
       "      <td>...</td>\n",
       "      <td>...</td>\n",
       "      <td>...</td>\n",
       "      <td>...</td>\n",
       "      <td>...</td>\n",
       "    </tr>\n",
       "    <tr>\n",
       "      <td>2023991</td>\n",
       "      <td>ffec50d779286cac79d867a8eb5de741</td>\n",
       "      <td>2013-01-01</td>\n",
       "      <td>100.00</td>\n",
       "      <td>150.0</td>\n",
       "      <td>10.0</td>\n",
       "      <td>150.00</td>\n",
       "      <td>100.00</td>\n",
       "      <td>1</td>\n",
       "      <td>0</td>\n",
       "      <td>1</td>\n",
       "      <td>...</td>\n",
       "      <td>1</td>\n",
       "      <td>0</td>\n",
       "      <td>0</td>\n",
       "      <td>0</td>\n",
       "      <td>0</td>\n",
       "      <td>0</td>\n",
       "      <td>0</td>\n",
       "      <td>0</td>\n",
       "      <td>0</td>\n",
       "      <td>0,1,2,3,4,</td>\n",
       "    </tr>\n",
       "    <tr>\n",
       "      <td>2023996</td>\n",
       "      <td>ffecc7551941f8850b616b7dc2e5c8fe</td>\n",
       "      <td>2014-01-01</td>\n",
       "      <td>100.00</td>\n",
       "      <td>50.0</td>\n",
       "      <td>300.0</td>\n",
       "      <td>50.00</td>\n",
       "      <td>50.00</td>\n",
       "      <td>1</td>\n",
       "      <td>0</td>\n",
       "      <td>1</td>\n",
       "      <td>...</td>\n",
       "      <td>1</td>\n",
       "      <td>0</td>\n",
       "      <td>0</td>\n",
       "      <td>0</td>\n",
       "      <td>0</td>\n",
       "      <td>0</td>\n",
       "      <td>0</td>\n",
       "      <td>0</td>\n",
       "      <td>0</td>\n",
       "      <td>0,1,2,3,4,</td>\n",
       "    </tr>\n",
       "    <tr>\n",
       "      <td>2024029</td>\n",
       "      <td>ffeda789400d5addb91599d79da83ea8</td>\n",
       "      <td>2013-01-01</td>\n",
       "      <td>110.00</td>\n",
       "      <td>140.0</td>\n",
       "      <td>130.0</td>\n",
       "      <td>160.79</td>\n",
       "      <td>110.00</td>\n",
       "      <td>1</td>\n",
       "      <td>0</td>\n",
       "      <td>1</td>\n",
       "      <td>...</td>\n",
       "      <td>1</td>\n",
       "      <td>0</td>\n",
       "      <td>0</td>\n",
       "      <td>0</td>\n",
       "      <td>0</td>\n",
       "      <td>0</td>\n",
       "      <td>0</td>\n",
       "      <td>0</td>\n",
       "      <td>0</td>\n",
       "      <td>0,1,2,3,4,</td>\n",
       "    </tr>\n",
       "    <tr>\n",
       "      <td>2024118</td>\n",
       "      <td>fff0c19388fb85f152dce64748f7d86b</td>\n",
       "      <td>2014-01-01</td>\n",
       "      <td>10.00</td>\n",
       "      <td>20.0</td>\n",
       "      <td>60.0</td>\n",
       "      <td>200.00</td>\n",
       "      <td>50.00</td>\n",
       "      <td>1</td>\n",
       "      <td>0</td>\n",
       "      <td>1</td>\n",
       "      <td>...</td>\n",
       "      <td>1</td>\n",
       "      <td>0</td>\n",
       "      <td>0</td>\n",
       "      <td>0</td>\n",
       "      <td>0</td>\n",
       "      <td>0</td>\n",
       "      <td>0</td>\n",
       "      <td>0</td>\n",
       "      <td>0</td>\n",
       "      <td>0,1,2,3,4,</td>\n",
       "    </tr>\n",
       "    <tr>\n",
       "      <td>2024346</td>\n",
       "      <td>fff83b3bc24713a15cf422704e2f02c0</td>\n",
       "      <td>2013-01-01</td>\n",
       "      <td>235.00</td>\n",
       "      <td>595.0</td>\n",
       "      <td>25.0</td>\n",
       "      <td>50.00</td>\n",
       "      <td>305.00</td>\n",
       "      <td>1</td>\n",
       "      <td>0</td>\n",
       "      <td>1</td>\n",
       "      <td>...</td>\n",
       "      <td>1</td>\n",
       "      <td>0</td>\n",
       "      <td>0</td>\n",
       "      <td>0</td>\n",
       "      <td>0</td>\n",
       "      <td>0</td>\n",
       "      <td>0</td>\n",
       "      <td>0</td>\n",
       "      <td>0</td>\n",
       "      <td>0,1,2,3,4,</td>\n",
       "    </tr>\n",
       "  </tbody>\n",
       "</table>\n",
       "<p>13102 rows × 32 columns</p>\n",
       "</div>"
      ],
      "text/plain": [
       "                                       id first_gift_year  amount_yr0  \\\n",
       "41       0001107b9faa5c3bb42cfcecece1d587      2013-01-01      125.00   \n",
       "107      0002bcb9f69cd91cbeae163fc9cd874f      2013-01-01      150.00   \n",
       "320      0009b8318c1914701e4d1063f2a008d8      2013-01-01      357.00   \n",
       "374      000baeedb9c9756b6335a16918770e0f      2013-01-01       20.00   \n",
       "688      0015dc157335e5ad6f569e5264bbf33e      2013-01-01     3756.36   \n",
       "...                                   ...             ...         ...   \n",
       "2023991  ffec50d779286cac79d867a8eb5de741      2013-01-01      100.00   \n",
       "2023996  ffecc7551941f8850b616b7dc2e5c8fe      2014-01-01      100.00   \n",
       "2024029  ffeda789400d5addb91599d79da83ea8      2013-01-01      110.00   \n",
       "2024118  fff0c19388fb85f152dce64748f7d86b      2014-01-01       10.00   \n",
       "2024346  fff83b3bc24713a15cf422704e2f02c0      2013-01-01      235.00   \n",
       "\n",
       "         amount_yr1  amount_yr2  amount_yr3  amount_yr4  cohort_0_first_gift  \\\n",
       "41            175.0       240.0      195.00      160.00                    1   \n",
       "107            75.0        58.0      236.00     1139.59                    1   \n",
       "320            33.0        35.0      109.00      139.00                    1   \n",
       "374            50.0        50.0       50.00       75.00                    1   \n",
       "688           189.5       110.0       50.00      300.00                    1   \n",
       "...             ...         ...         ...         ...                  ...   \n",
       "2023991       150.0        10.0      150.00      100.00                    1   \n",
       "2023996        50.0       300.0       50.00       50.00                    1   \n",
       "2024029       140.0       130.0      160.79      110.00                    1   \n",
       "2024118        20.0        60.0      200.00       50.00                    1   \n",
       "2024346       595.0        25.0       50.00      305.00                    1   \n",
       "\n",
       "         cohort_1_lapsed_after_first  cohort_1_second_year  ...  \\\n",
       "41                                 0                     1  ...   \n",
       "107                                0                     1  ...   \n",
       "320                                0                     1  ...   \n",
       "374                                0                     1  ...   \n",
       "688                                0                     1  ...   \n",
       "...                              ...                   ...  ...   \n",
       "2023991                            0                     1  ...   \n",
       "2023996                            0                     1  ...   \n",
       "2024029                            0                     1  ...   \n",
       "2024118                            0                     1  ...   \n",
       "2024346                            0                     1  ...   \n",
       "\n",
       "         cohort_4_key_multi_year  cohort_4_lapsed_after_first  \\\n",
       "41                             1                            0   \n",
       "107                            1                            0   \n",
       "320                            1                            0   \n",
       "374                            1                            0   \n",
       "688                            1                            0   \n",
       "...                          ...                          ...   \n",
       "2023991                        1                            0   \n",
       "2023996                        1                            0   \n",
       "2024029                        1                            0   \n",
       "2024118                        1                            0   \n",
       "2024346                        1                            0   \n",
       "\n",
       "         cohort_4_lapsed_key_multi_year  cohort_4_lapsed_long  \\\n",
       "41                                    0                     0   \n",
       "107                                   0                     0   \n",
       "320                                   0                     0   \n",
       "374                                   0                     0   \n",
       "688                                   0                     0   \n",
       "...                                 ...                   ...   \n",
       "2023991                               0                     0   \n",
       "2023996                               0                     0   \n",
       "2024029                               0                     0   \n",
       "2024118                               0                     0   \n",
       "2024346                               0                     0   \n",
       "\n",
       "         cohort_4_lapsed_long_multi_year  cohort_4_lapsed_multi_year  \\\n",
       "41                                     0                           0   \n",
       "107                                    0                           0   \n",
       "320                                    0                           0   \n",
       "374                                    0                           0   \n",
       "688                                    0                           0   \n",
       "...                                  ...                         ...   \n",
       "2023991                                0                           0   \n",
       "2023996                                0                           0   \n",
       "2024029                                0                           0   \n",
       "2024118                                0                           0   \n",
       "2024346                                0                           0   \n",
       "\n",
       "         cohort_4_multi_year  cohort_4_recovered_multi_year  \\\n",
       "41                         0                              0   \n",
       "107                        0                              0   \n",
       "320                        0                              0   \n",
       "374                        0                              0   \n",
       "688                        0                              0   \n",
       "...                      ...                            ...   \n",
       "2023991                    0                              0   \n",
       "2023996                    0                              0   \n",
       "2024029                    0                              0   \n",
       "2024118                    0                              0   \n",
       "2024346                    0                              0   \n",
       "\n",
       "         cohort_4_second_year  cohort_gift_pattern  \n",
       "41                          0           0,1,2,3,4,  \n",
       "107                         0           0,1,2,3,4,  \n",
       "320                         0           0,1,2,3,4,  \n",
       "374                         0           0,1,2,3,4,  \n",
       "688                         0           0,1,2,3,4,  \n",
       "...                       ...                  ...  \n",
       "2023991                     0           0,1,2,3,4,  \n",
       "2023996                     0           0,1,2,3,4,  \n",
       "2024029                     0           0,1,2,3,4,  \n",
       "2024118                     0           0,1,2,3,4,  \n",
       "2024346                     0           0,1,2,3,4,  \n",
       "\n",
       "[13102 rows x 32 columns]"
      ]
     },
     "execution_count": 41,
     "metadata": {},
     "output_type": "execute_result"
    }
   ],
   "source": [
    "df01234"
   ]
  },
  {
   "cell_type": "code",
   "execution_count": 42,
   "metadata": {},
   "outputs": [
    {
     "data": {
      "text/plain": [
       "id                                  0001107b9faa5c3bb42cfcecece1d5870002bcb9f69cd9...\n",
       "first_gift_year                     2013-01-012013-01-012013-01-012013-01-012013-0...\n",
       "amount_yr0                                                                6.22259e+06\n",
       "amount_yr1                                                                9.30266e+06\n",
       "amount_yr2                                                                1.01037e+07\n",
       "amount_yr3                                                                1.04825e+07\n",
       "amount_yr4                                                                9.28515e+06\n",
       "cohort_0_first_gift                                                             13102\n",
       "cohort_1_lapsed_after_first                                                         0\n",
       "cohort_1_second_year                                                            13102\n",
       "cohort_2_lapsed_after_first_long                                                    0\n",
       "cohort_2_lapsed_after_second                                                        0\n",
       "cohort_2_multi_year                                                             13102\n",
       "cohort_2_second_with_gap                                                            0\n",
       "cohort_3_first_gift                                                                 0\n",
       "cohort_3_inconsistent_multi_year                                                    0\n",
       "cohort_3_key_multi_year                                                         13102\n",
       "cohort_3_lapsed_after_second                                                        0\n",
       "cohort_3_lapsed_long                                                                0\n",
       "cohort_3_lapsed_multi_year                                                          0\n",
       "cohort_4_first_gift                                                                 0\n",
       "cohort_4_inconsistent_multi_year                                                    0\n",
       "cohort_4_key_multi_year                                                         13102\n",
       "cohort_4_lapsed_after_first                                                         0\n",
       "cohort_4_lapsed_key_multi_year                                                      0\n",
       "cohort_4_lapsed_long                                                                0\n",
       "cohort_4_lapsed_long_multi_year                                                     0\n",
       "cohort_4_lapsed_multi_year                                                          0\n",
       "cohort_4_multi_year                                                                 0\n",
       "cohort_4_recovered_multi_year                                                       0\n",
       "cohort_4_second_year                                                                0\n",
       "cohort_gift_pattern                 0,1,2,3,4,0,1,2,3,4,0,1,2,3,4,0,1,2,3,4,0,1,2,...\n",
       "dtype: object"
      ]
     },
     "execution_count": 42,
     "metadata": {},
     "output_type": "execute_result"
    }
   ],
   "source": [
    "df01234.sum()"
   ]
  },
  {
   "cell_type": "code",
   "execution_count": null,
   "metadata": {},
   "outputs": [],
   "source": []
  }
 ],
 "metadata": {
  "kernelspec": {
   "display_name": "Python 3",
   "language": "python",
   "name": "python3"
  },
  "language_info": {
   "codemirror_mode": {
    "name": "ipython",
    "version": 3
   },
   "file_extension": ".py",
   "mimetype": "text/x-python",
   "name": "python",
   "nbconvert_exporter": "python",
   "pygments_lexer": "ipython3",
   "version": "3.7.4"
  }
 },
 "nbformat": 4,
 "nbformat_minor": 2
}
