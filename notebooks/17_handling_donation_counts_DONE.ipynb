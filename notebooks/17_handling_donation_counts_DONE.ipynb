{
 "cells": [
  {
   "cell_type": "code",
   "execution_count": 1,
   "metadata": {},
   "outputs": [],
   "source": [
    "import numpy as np\n",
    "import pandas as pd\n",
    "\n",
    "import plotly.express as px\n",
    "import plotly.graph_objects as go\n",
    "import plotly.io as pio\n",
    "from plotly.subplots import make_subplots\n",
    "import plotly.figure_factory as ff\n",
    "\n",
    "from ipywidgets import widgets\n",
    "\n",
    "#import re\n",
    "# import dash\n",
    "# import dash_core_components as dcc\n",
    "# import dash_html_components as html\n",
    "\n",
    "import seaborn as sns\n",
    "import matplotlib.pyplot as plt\n",
    "sns.set_style(\"white\")\n",
    "%matplotlib inline"
   ]
  },
  {
   "cell_type": "code",
   "execution_count": 2,
   "metadata": {},
   "outputs": [],
   "source": [
    "donations=pd.read_pickle('donations_cohort_with_cycle.pkl')"
   ]
  },
  {
   "cell_type": "markdown",
   "metadata": {},
   "source": [
    "## Assessing donation counts."
   ]
  },
  {
   "cell_type": "markdown",
   "metadata": {},
   "source": [
    "#### 1. Create three donation count groups:  (i) never more than 1 donation / year,  (ii) at most, 2-52 donations/year, & (iii) at least once made greater than 52 donations/year."
   ]
  },
  {
   "cell_type": "code",
   "execution_count": 168,
   "metadata": {},
   "outputs": [
    {
     "name": "stdout",
     "output_type": "stream",
     "text": [
      "number donors donating 1x/yr:  1,622,801\n",
      "percentage of total donors:  80.16%\n"
     ]
    }
   ],
   "source": [
    "print(f'number donors donating 1x/yr: ', '{:,.0f}'.format(donations.query('count_yr0 <= 1 & count_yr1 <= 1 & count_yr2 <= 1 & count_yr3 <= 1 & count_yr4 <= 1').count()['id']))\n",
    "print(f'percentage of total donors: ', '{:.2%}'.format(donations.query('count_yr0 <= 1 & count_yr1 <= 1 & count_yr2 <= 1 & count_yr3 <= 1 & count_yr4 <= 1').count()['id']/donations.count()['id']))"
   ]
  },
  {
   "cell_type": "code",
   "execution_count": 170,
   "metadata": {},
   "outputs": [
    {
     "name": "stdout",
     "output_type": "stream",
     "text": [
      "number donors donating 2-52x/yr (at least one year), but never more than 52x/year:  399,990\n",
      "percentage of total donors:  19.76%\n"
     ]
    }
   ],
   "source": [
    "print(f'number donors donating 2-52x/yr (at least one year), but never more than 52x/year: ', \n",
    "      '{:,.0f}'.format(donations.query('count_yr0 <= 52 & count_yr1 <= 52 & count_yr2 <= 52 & count_yr3 <= 52 & count_yr4 <= 52 & (count_yr0 > 1 | count_yr1 > 1 | count_yr2 > 1 | count_yr3 > 1 | count_yr4 > 1)').count()['id']))\n",
    "print(f'percentage of total donors: ', '{:.2%}'.format((donations.query('count_yr0 <= 52 & count_yr1 <= 52 & count_yr2 <= 52 & count_yr3 <= 52 & count_yr4 <= 52 & (count_yr0 > 1 | count_yr1 > 1 | count_yr2 > 1 | count_yr3 > 1 | count_yr4 > 1)').count()['id'])/donations.count()['id']))"
   ]
  },
  {
   "cell_type": "code",
   "execution_count": 159,
   "metadata": {},
   "outputs": [
    {
     "name": "stdout",
     "output_type": "stream",
     "text": [
      "number donors donating > 52 times/yr (at least one year):  1,763\n",
      "percentage of total donors:  0.09%\n"
     ]
    }
   ],
   "source": [
    "print(f'number donors donating > 52 times/yr (at least one year): ', \n",
    "      '{:,.0f}'.format(donations.query('count_yr0 > 52 | count_yr1 > 52 | count_yr2 > 52 | count_yr3 > 52 | count_yr4 > 52').count()['id']))\n",
    "print(f'percentage of total donors: ', \n",
    "      '{:.2%}'.format(donations.query('count_yr0 > 52 | count_yr1 > 52 | count_yr2 > 52 | count_yr3 > 52 | count_yr4 > 52').count()['id']/donations.count()['id']))"
   ]
  },
  {
   "cell_type": "code",
   "execution_count": 11,
   "metadata": {},
   "outputs": [],
   "source": [
    "conditions=[(donations['count_yr0'] <= 1) & (donations['count_yr1'] <= 1) & (donations['count_yr2'] <= 1) & (donations['count_yr3'] <= 1) & (donations['count_yr4'] <= 1),\n",
    "            ((donations['count_yr0'] <= 52) & (donations['count_yr1'] <= 52) & (donations['count_yr2'] <= 52) & (donations['count_yr3'] <= 52) & (donations['count_yr4'] <= 52) & ((donations['count_yr0'] > 1) | (donations['count_yr1'] > 1) | (donations['count_yr2'] > 1) | (donations['count_yr3'] > 1) | (donations['count_yr4'] > 1))),\n",
    "            (donations['count_yr0'] > 52) | (donations['count_yr1'] > 52) | (donations['count_yr2'] > 52) | (donations['count_yr3'] > 52) | (donations['count_yr4'] > 52)]\n",
    "\n",
    "choices=['1x', '2-52x', '>52x']\n",
    "donations.loc[:, 'donation_counts']=np.select(conditions, choices, default='none')"
   ]
  },
  {
   "cell_type": "code",
   "execution_count": null,
   "metadata": {},
   "outputs": [],
   "source": [
    "#add this column into notebook 10 and create pickle."
   ]
  }
 ],
 "metadata": {
  "kernelspec": {
   "display_name": "Python 3",
   "language": "python",
   "name": "python3"
  },
  "language_info": {
   "codemirror_mode": {
    "name": "ipython",
    "version": 3
   },
   "file_extension": ".py",
   "mimetype": "text/x-python",
   "name": "python",
   "nbconvert_exporter": "python",
   "pygments_lexer": "ipython3",
   "version": "3.7.4"
  }
 },
 "nbformat": 4,
 "nbformat_minor": 2
}
