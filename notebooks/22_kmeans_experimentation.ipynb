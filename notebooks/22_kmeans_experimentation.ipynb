{
 "cells": [
  {
   "cell_type": "code",
   "execution_count": 9,
   "metadata": {},
   "outputs": [],
   "source": [
    "import matplotlib.pyplot as plt\n",
    "import numpy as np\n",
    "import pandas as pd\n",
    "from sklearn.cluster import KMeans"
   ]
  },
  {
   "cell_type": "code",
   "execution_count": 16,
   "metadata": {},
   "outputs": [
    {
     "name": "stdout",
     "output_type": "stream",
     "text": [
      "[[30.83333333 74.66666667]\n",
      " [55.1        46.1       ]\n",
      " [43.2        16.7       ]\n",
      " [27.75       55.        ]]\n"
     ]
    },
    {
     "data": {
      "image/png": "[encoded data removed]",
      "text/plain": [
       "<Figure size 432x288 with 1 Axes>"
      ]
     },
     "metadata": {
      "needs_background": "light"
     },
     "output_type": "display_data"
    }
   ],
   "source": [
    "#EXAMPLE\n",
    "Data = {'x': [25,34,22,27,33,33,31,22,35,34,67,54,57,43,50,57,59,52,65,47,49,48,35,33,44,45,38,43,51,46],\n",
    "        'y': [79,51,53,78,59,74,73,57,69,75,51,32,40,47,53,36,35,58,59,50,25,20,14,12,20,5,29,27,8,7]\n",
    "       }\n",
    "  \n",
    "df = DataFrame(Data,columns=['x','y'])\n",
    "  \n",
    "kmeans = KMeans(n_clusters=4).fit(df)\n",
    "centroids = kmeans.cluster_centers_\n",
    "print(centroids)\n",
    "\n",
    "plt.scatter(df['x'], df['y'], c= kmeans.labels_.astype(float), s=50, alpha=0.5)\n",
    "plt.scatter(centroids[:, 0], centroids[:, 1], c='red', s=50)\n",
    "plt.show()"
   ]
  },
  {
   "cell_type": "code",
   "execution_count": 5,
   "metadata": {},
   "outputs": [],
   "source": [
    "donations13to17=pd.read_feather('donations13to17.ftr')"
   ]
  },
  {
   "cell_type": "code",
   "execution_count": 6,
   "metadata": {},
   "outputs": [],
   "source": [
    "df=donations13to17[['id', 'cohort', 'yr0', 'yr1', 'amount_yr0', 'amount_yr1']].copy()"
   ]
  },
  {
   "cell_type": "code",
   "execution_count": 10,
   "metadata": {},
   "outputs": [],
   "source": [
    "conditions=[\n",
    "    df['cohort'] == \"cohort13\",\n",
    "    df['cohort'] == \"cohort14\",\n",
    "    df['cohort'] == \"cohort15\",\n",
    "    df['cohort'] == \"cohort16\",\n",
    "    df['cohort'] == \"cohort17\"\n",
    "]\n",
    "\n",
    "choices=[df.query('cohort == \"cohort13\"').groupby('cohort').sum()['yr1']/df.query('cohort == \"cohort13\"').groupby('cohort').sum()['yr0'],\n",
    "         df.query('cohort == \"cohort14\"').groupby('cohort').sum()['yr1']/df.query('cohort == \"cohort14\"').groupby('cohort').sum()['yr0'],\n",
    "         df.query('cohort == \"cohort15\"').groupby('cohort').sum()['yr1']/df.query('cohort == \"cohort15\"').groupby('cohort').sum()['yr0'],\n",
    "         df.query('cohort == \"cohort16\"').groupby('cohort').sum()['yr1']/df.query('cohort == \"cohort16\"').groupby('cohort').sum()['yr0'],\n",
    "         df.query('cohort == \"cohort17\"').groupby('cohort').sum()['yr1']/df.query('cohort == \"cohort17\"').groupby('cohort').sum()['yr0']]\n",
    "\n",
    "df['cohort_retention']=np.select(conditions, choices)"
   ]
  },
  {
   "cell_type": "code",
   "execution_count": 11,
   "metadata": {},
   "outputs": [],
   "source": [
    "conditions=[\n",
    "    df['cohort'] == \"cohort13\",\n",
    "    df['cohort'] == \"cohort14\",\n",
    "    df['cohort'] == \"cohort15\",\n",
    "    df['cohort'] == \"cohort16\",\n",
    "    df['cohort'] == \"cohort17\"\n",
    "]\n",
    "\n",
    "choices=[df['yr1']/df['yr0'],\n",
    "         df['yr1']/df['yr0'],\n",
    "         df['yr1']/df['yr0'],\n",
    "         df['yr1']/df['yr0'],\n",
    "         df['yr1']/df['yr0']]\n",
    "\n",
    "df['retention_yr1']=np.select(conditions, choices)"
   ]
  },
  {
   "cell_type": "code",
   "execution_count": 12,
   "metadata": {},
   "outputs": [],
   "source": [
    "df13=df[df['cohort'].isin(['cohort13'])]"
   ]
  },
  {
   "cell_type": "code",
   "execution_count": 13,
   "metadata": {},
   "outputs": [
    {
     "data": {
      "text/html": [
       "<div>\n",
       "<style scoped>\n",
       "    .dataframe tbody tr th:only-of-type {\n",
       "        vertical-align: middle;\n",
       "    }\n",
       "\n",
       "    .dataframe tbody tr th {\n",
       "        vertical-align: top;\n",
       "    }\n",
       "\n",
       "    .dataframe thead th {\n",
       "        text-align: right;\n",
       "    }\n",
       "</style>\n",
       "<table border=\"1\" class=\"dataframe\">\n",
       "  <thead>\n",
       "    <tr style=\"text-align: right;\">\n",
       "      <th></th>\n",
       "      <th>id</th>\n",
       "      <th>cohort</th>\n",
       "      <th>yr0</th>\n",
       "      <th>yr1</th>\n",
       "      <th>amount_yr0</th>\n",
       "      <th>amount_yr1</th>\n",
       "      <th>cohort_retention</th>\n",
       "      <th>retention_yr1</th>\n",
       "    </tr>\n",
       "  </thead>\n",
       "  <tbody>\n",
       "    <tr>\n",
       "      <th>0</th>\n",
       "      <td>00000ce845c00cbf0686c992fc369df4</td>\n",
       "      <td>cohort13</td>\n",
       "      <td>1</td>\n",
       "      <td>0</td>\n",
       "      <td>50.0</td>\n",
       "      <td>0.0</td>\n",
       "      <td>0.194114</td>\n",
       "      <td>0.0</td>\n",
       "    </tr>\n",
       "    <tr>\n",
       "      <th>9</th>\n",
       "      <td>00005f52c98eeaf92b2414a352b023a4</td>\n",
       "      <td>cohort13</td>\n",
       "      <td>1</td>\n",
       "      <td>1</td>\n",
       "      <td>10.0</td>\n",
       "      <td>10.0</td>\n",
       "      <td>0.194114</td>\n",
       "      <td>1.0</td>\n",
       "    </tr>\n",
       "    <tr>\n",
       "      <th>12</th>\n",
       "      <td>0000889adf4cc958a35daee1f2529b48</td>\n",
       "      <td>cohort13</td>\n",
       "      <td>1</td>\n",
       "      <td>0</td>\n",
       "      <td>10.0</td>\n",
       "      <td>0.0</td>\n",
       "      <td>0.194114</td>\n",
       "      <td>0.0</td>\n",
       "    </tr>\n",
       "    <tr>\n",
       "      <th>15</th>\n",
       "      <td>0000a2175753bc165e53c408589a3bd6</td>\n",
       "      <td>cohort13</td>\n",
       "      <td>1</td>\n",
       "      <td>1</td>\n",
       "      <td>25.0</td>\n",
       "      <td>25.0</td>\n",
       "      <td>0.194114</td>\n",
       "      <td>1.0</td>\n",
       "    </tr>\n",
       "    <tr>\n",
       "      <th>24</th>\n",
       "      <td>0000c14308c4cb9259a4fe51f692c9ef</td>\n",
       "      <td>cohort13</td>\n",
       "      <td>1</td>\n",
       "      <td>1</td>\n",
       "      <td>50.0</td>\n",
       "      <td>25.0</td>\n",
       "      <td>0.194114</td>\n",
       "      <td>1.0</td>\n",
       "    </tr>\n",
       "    <tr>\n",
       "      <th>...</th>\n",
       "      <td>...</td>\n",
       "      <td>...</td>\n",
       "      <td>...</td>\n",
       "      <td>...</td>\n",
       "      <td>...</td>\n",
       "      <td>...</td>\n",
       "      <td>...</td>\n",
       "      <td>...</td>\n",
       "    </tr>\n",
       "    <tr>\n",
       "      <th>1876435</th>\n",
       "      <td>fffeaaba624f657e461686b9bfc08a5b</td>\n",
       "      <td>cohort13</td>\n",
       "      <td>1</td>\n",
       "      <td>0</td>\n",
       "      <td>25.0</td>\n",
       "      <td>0.0</td>\n",
       "      <td>0.194114</td>\n",
       "      <td>0.0</td>\n",
       "    </tr>\n",
       "    <tr>\n",
       "      <th>1876436</th>\n",
       "      <td>fffeb06eb87c9f8353c3bd4899ee1295</td>\n",
       "      <td>cohort13</td>\n",
       "      <td>1</td>\n",
       "      <td>0</td>\n",
       "      <td>75.0</td>\n",
       "      <td>0.0</td>\n",
       "      <td>0.194114</td>\n",
       "      <td>0.0</td>\n",
       "    </tr>\n",
       "    <tr>\n",
       "      <th>1876437</th>\n",
       "      <td>fffebb489764c9b9a48db83125477e26</td>\n",
       "      <td>cohort13</td>\n",
       "      <td>1</td>\n",
       "      <td>0</td>\n",
       "      <td>15.0</td>\n",
       "      <td>0.0</td>\n",
       "      <td>0.194114</td>\n",
       "      <td>0.0</td>\n",
       "    </tr>\n",
       "    <tr>\n",
       "      <th>1876438</th>\n",
       "      <td>fffed4187f3b5f17cb58536f7fac8dee</td>\n",
       "      <td>cohort13</td>\n",
       "      <td>1</td>\n",
       "      <td>0</td>\n",
       "      <td>27.0</td>\n",
       "      <td>0.0</td>\n",
       "      <td>0.194114</td>\n",
       "      <td>0.0</td>\n",
       "    </tr>\n",
       "    <tr>\n",
       "      <th>1876442</th>\n",
       "      <td>ffff088c35d3455779a30898d1327b76</td>\n",
       "      <td>cohort13</td>\n",
       "      <td>1</td>\n",
       "      <td>0</td>\n",
       "      <td>25.0</td>\n",
       "      <td>0.0</td>\n",
       "      <td>0.194114</td>\n",
       "      <td>0.0</td>\n",
       "    </tr>\n",
       "  </tbody>\n",
       "</table>\n",
       "<p>320069 rows × 8 columns</p>\n",
       "</div>"
      ],
      "text/plain": [
       "                                       id    cohort  yr0  yr1  amount_yr0  \\\n",
       "0        00000ce845c00cbf0686c992fc369df4  cohort13    1    0        50.0   \n",
       "9        00005f52c98eeaf92b2414a352b023a4  cohort13    1    1        10.0   \n",
       "12       0000889adf4cc958a35daee1f2529b48  cohort13    1    0        10.0   \n",
       "15       0000a2175753bc165e53c408589a3bd6  cohort13    1    1        25.0   \n",
       "24       0000c14308c4cb9259a4fe51f692c9ef  cohort13    1    1        50.0   \n",
       "...                                   ...       ...  ...  ...         ...   \n",
       "1876435  fffeaaba624f657e461686b9bfc08a5b  cohort13    1    0        25.0   \n",
       "1876436  fffeb06eb87c9f8353c3bd4899ee1295  cohort13    1    0        75.0   \n",
       "1876437  fffebb489764c9b9a48db83125477e26  cohort13    1    0        15.0   \n",
       "1876438  fffed4187f3b5f17cb58536f7fac8dee  cohort13    1    0        27.0   \n",
       "1876442  ffff088c35d3455779a30898d1327b76  cohort13    1    0        25.0   \n",
       "\n",
       "         amount_yr1  cohort_retention  retention_yr1  \n",
       "0               0.0          0.194114            0.0  \n",
       "9              10.0          0.194114            1.0  \n",
       "12              0.0          0.194114            0.0  \n",
       "15             25.0          0.194114            1.0  \n",
       "24             25.0          0.194114            1.0  \n",
       "...             ...               ...            ...  \n",
       "1876435         0.0          0.194114            0.0  \n",
       "1876436         0.0          0.194114            0.0  \n",
       "1876437         0.0          0.194114            0.0  \n",
       "1876438         0.0          0.194114            0.0  \n",
       "1876442         0.0          0.194114            0.0  \n",
       "\n",
       "[320069 rows x 8 columns]"
      ]
     },
     "execution_count": 13,
     "metadata": {},
     "output_type": "execute_result"
    }
   ],
   "source": [
    "df13"
   ]
  },
  {
   "cell_type": "code",
   "execution_count": 19,
   "metadata": {},
   "outputs": [
    {
     "name": "stdout",
     "output_type": "stream",
     "text": [
      "[[9.36331318e+01 1.94111876e-01]\n",
      " [4.42794380e+05 1.00000000e+00]]\n"
     ]
    },
    {
     "data": {
      "image/png": "[encoded data removed]",
      "text/plain": [
       "<Figure size 432x288 with 1 Axes>"
      ]
     },
     "metadata": {
      "needs_background": "light"
     },
     "output_type": "display_data"
    }
   ],
   "source": [
    "df = df13[['amount_yr0','yr1']].copy()\n",
    "  \n",
    "kmeans = KMeans(n_clusters=2).fit(df)\n",
    "centroids = kmeans.cluster_centers_\n",
    "print(centroids)\n",
    "\n",
    "plt.scatter(df['amount_yr0'], df['yr1'], c= kmeans.labels_.astype(float), s=50, alpha=0.5)\n",
    "plt.scatter(centroids[:, 0], centroids[:, 1], c='red', s=50)\n",
    "plt.show()"
   ]
  },
  {
   "cell_type": "code",
   "execution_count": 21,
   "metadata": {},
   "outputs": [
    {
     "data": {
      "text/plain": [
       "93.6331318"
      ]
     },
     "execution_count": 21,
     "metadata": {},
     "output_type": "execute_result"
    }
   ],
   "source": [
    "9.36331318e+01*1"
   ]
  },
  {
   "cell_type": "code",
   "execution_count": 24,
   "metadata": {},
   "outputs": [],
   "source": [
    "d13a=df13.groupby('amount_yr0').count()['id'].reset_index()"
   ]
  },
  {
   "cell_type": "code",
   "execution_count": 25,
   "metadata": {},
   "outputs": [
    {
     "data": {
      "text/html": [
       "<div>\n",
       "<style scoped>\n",
       "    .dataframe tbody tr th:only-of-type {\n",
       "        vertical-align: middle;\n",
       "    }\n",
       "\n",
       "    .dataframe tbody tr th {\n",
       "        vertical-align: top;\n",
       "    }\n",
       "\n",
       "    .dataframe thead th {\n",
       "        text-align: right;\n",
       "    }\n",
       "</style>\n",
       "<table border=\"1\" class=\"dataframe\">\n",
       "  <thead>\n",
       "    <tr style=\"text-align: right;\">\n",
       "      <th></th>\n",
       "      <th>amount_yr0</th>\n",
       "      <th>id</th>\n",
       "    </tr>\n",
       "  </thead>\n",
       "  <tbody>\n",
       "    <tr>\n",
       "      <th>0</th>\n",
       "      <td>0.40</td>\n",
       "      <td>1</td>\n",
       "    </tr>\n",
       "    <tr>\n",
       "      <th>1</th>\n",
       "      <td>1.00</td>\n",
       "      <td>9492</td>\n",
       "    </tr>\n",
       "    <tr>\n",
       "      <th>2</th>\n",
       "      <td>1.02</td>\n",
       "      <td>1</td>\n",
       "    </tr>\n",
       "    <tr>\n",
       "      <th>3</th>\n",
       "      <td>1.15</td>\n",
       "      <td>1</td>\n",
       "    </tr>\n",
       "    <tr>\n",
       "      <th>4</th>\n",
       "      <td>1.19</td>\n",
       "      <td>1</td>\n",
       "    </tr>\n",
       "    <tr>\n",
       "      <th>...</th>\n",
       "      <td>...</td>\n",
       "      <td>...</td>\n",
       "    </tr>\n",
       "    <tr>\n",
       "      <th>22105</th>\n",
       "      <td>90140.60</td>\n",
       "      <td>1</td>\n",
       "    </tr>\n",
       "    <tr>\n",
       "      <th>22106</th>\n",
       "      <td>94901.50</td>\n",
       "      <td>1</td>\n",
       "    </tr>\n",
       "    <tr>\n",
       "      <th>22107</th>\n",
       "      <td>113360.94</td>\n",
       "      <td>1</td>\n",
       "    </tr>\n",
       "    <tr>\n",
       "      <th>22108</th>\n",
       "      <td>163192.85</td>\n",
       "      <td>1</td>\n",
       "    </tr>\n",
       "    <tr>\n",
       "      <th>22109</th>\n",
       "      <td>442794.38</td>\n",
       "      <td>1</td>\n",
       "    </tr>\n",
       "  </tbody>\n",
       "</table>\n",
       "<p>22110 rows × 2 columns</p>\n",
       "</div>"
      ],
      "text/plain": [
       "       amount_yr0    id\n",
       "0            0.40     1\n",
       "1            1.00  9492\n",
       "2            1.02     1\n",
       "3            1.15     1\n",
       "4            1.19     1\n",
       "...           ...   ...\n",
       "22105    90140.60     1\n",
       "22106    94901.50     1\n",
       "22107   113360.94     1\n",
       "22108   163192.85     1\n",
       "22109   442794.38     1\n",
       "\n",
       "[22110 rows x 2 columns]"
      ]
     },
     "execution_count": 25,
     "metadata": {},
     "output_type": "execute_result"
    }
   ],
   "source": [
    "d13a"
   ]
  },
  {
   "cell_type": "code",
   "execution_count": 31,
   "metadata": {},
   "outputs": [
    {
     "name": "stdout",
     "output_type": "stream",
     "text": [
      "[[4.73834140e+02 1.70244151e+00]\n",
      " [4.42794380e+05 1.00000000e+00]\n",
      " [9.49015000e+04 1.00000000e+00]\n",
      " [1.41321081e+04 1.06451613e+00]\n",
      " [7.03226090e+03 1.19000000e+00]\n",
      " [2.50000000e+01 6.49130000e+04]\n",
      " [4.71232800e+04 1.00000000e+00]\n",
      " [1.63192850e+05 1.00000000e+00]\n",
      " [1.36676540e+03 1.04424779e+00]\n",
      " [2.00000000e+01 3.13840000e+04]\n",
      " [2.63197850e+04 1.00000000e+00]\n",
      " [3.17991628e+03 1.07329843e+00]\n",
      " [1.10929590e+04 1.00000000e+00]\n",
      " [2.00077029e+04 1.00000000e+00]\n",
      " [1.21259552e+02 2.71952635e+00]\n",
      " [4.45127475e+03 1.00000000e+00]\n",
      " [8.35016200e+04 1.00000000e+00]\n",
      " [1.13360940e+05 1.00000000e+00]\n",
      " [3.66666667e+01 5.85600000e+03]\n",
      " [2.09554778e+03 1.03703704e+00]\n",
      " [3.48914900e+04 1.00000000e+00]\n",
      " [5.00000000e+01 5.15230000e+04]\n",
      " [8.42879817e+02 1.13870968e+00]\n",
      " [4.10800200e+04 1.00000000e+00]\n",
      " [8.97586080e+03 1.00000000e+00]\n",
      " [1.60531457e+04 1.00000000e+00]\n",
      " [3.30355481e+02 2.15632458e+00]\n",
      " [7.83750000e+01 3.03312500e+03]\n",
      " [5.42840300e+04 1.00000000e+00]\n",
      " [9.97053579e+03 1.21052632e+00]\n",
      " [6.15065441e+03 1.01694915e+00]\n",
      " [2.63496078e+03 1.02597403e+00]\n",
      " [6.40013437e+02 1.27973749e+00]\n",
      " [4.15522573e+01 4.37661812e+00]\n",
      " [1.00000000e+01 3.71510000e+04]\n",
      " [2.87677720e+04 1.00000000e+00]\n",
      " [7.87712327e+03 1.09090909e+00]\n",
      " [1.69556945e+03 1.10909091e+00]\n",
      " [2.46023333e+04 1.00000000e+00]\n",
      " [9.01406000e+04 1.00000000e+00]\n",
      " [1.23416418e+04 1.05882353e+00]\n",
      " [3.75505236e+03 1.06944444e+00]\n",
      " [2.14991064e+02 2.39657632e+00]\n",
      " [1.00000000e+02 2.76520000e+04]\n",
      " [2.15410989e+04 1.00000000e+00]\n",
      " [1.00000000e+00 9.49200000e+03]\n",
      " [1.09404386e+03 1.20109439e+00]\n",
      " [3.14033550e+04 1.00000000e+00]\n",
      " [5.24143328e+03 1.05970149e+00]\n",
      " [1.81158271e+04 1.00000000e+00]]\n"
     ]
    },
    {
     "data": {
      "image/png": "[encoded data removed]",
      "text/plain": [
       "<Figure size 432x288 with 1 Axes>"
      ]
     },
     "metadata": {
      "needs_background": "light"
     },
     "output_type": "display_data"
    }
   ],
   "source": [
    "df = d13a[['amount_yr0','id']].copy()\n",
    "  \n",
    "kmeans = KMeans(n_clusters=50).fit(df)\n",
    "centroids = kmeans.cluster_centers_\n",
    "print(centroids)\n",
    "\n",
    "plt.scatter(df['amount_yr0'], df['id'], c= kmeans.labels_.astype(float), s=50, alpha=0.5)\n",
    "plt.scatter(centroids[:, 0], centroids[:, 1], c='red', s=50)\n",
    "plt.show()"
   ]
  },
  {
   "cell_type": "code",
   "execution_count": null,
   "metadata": {},
   "outputs": [],
   "source": []
  }
 ],
 "metadata": {
  "kernelspec": {
   "display_name": "Python 3",
   "language": "python",
   "name": "python3"
  },
  "language_info": {
   "codemirror_mode": {
    "name": "ipython",
    "version": 3
   },
   "file_extension": ".py",
   "mimetype": "text/x-python",
   "name": "python",
   "nbconvert_exporter": "python",
   "pygments_lexer": "ipython3",
   "version": "3.7.4"
  }
 },
 "nbformat": 4,
 "nbformat_minor": 2
}
