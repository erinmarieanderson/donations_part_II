{
 "cells": [
  {
   "cell_type": "markdown",
   "metadata": {},
   "source": [
    "### Dataframes in this notebook\n",
    "\n",
    "* cohort13, cohort14, cohort15, cohort16, cohort17 <-- PICKLES created"
   ]
  },
  {
   "cell_type": "code",
   "execution_count": 1,
   "metadata": {},
   "outputs": [],
   "source": [
    "import numpy as np\n",
    "import pandas as pd\n",
    "import plotly.express as px\n",
    "\n",
    "import seaborn as sns\n",
    "import matplotlib.pyplot as plt\n",
    "sns.set_style(\"white\")\n",
    "%matplotlib inline"
   ]
  },
  {
   "cell_type": "code",
   "execution_count": 7,
   "metadata": {},
   "outputs": [],
   "source": [
    "donations_13to17=pd.read_pickle('donations_13to17.pkl')"
   ]
  },
  {
   "cell_type": "markdown",
   "metadata": {},
   "source": [
    "### Create cohort dataframes (based on first year donated)"
   ]
  },
  {
   "cell_type": "code",
   "execution_count": 8,
   "metadata": {},
   "outputs": [
    {
     "data": {
      "text/plain": [
       "first_gift_year\n",
       "2013-01-01    320069\n",
       "2014-01-01    320673\n",
       "2015-01-01    355137\n",
       "2016-01-01    445598\n",
       "2017-01-01    434991\n",
       "Name: id, dtype: int64"
      ]
     },
     "execution_count": 8,
     "metadata": {},
     "output_type": "execute_result"
    }
   ],
   "source": [
    "donations_13to17.groupby('first_gift_year').count()['id']"
   ]
  },
  {
   "cell_type": "code",
   "execution_count": 9,
   "metadata": {},
   "outputs": [],
   "source": [
    "#divide into cohorts\n",
    "cohort13 = donations_13to17.query(\"first_gift_year == '2013-01-01'\").reindex()\n",
    "cohort14 = donations_13to17.query(\"first_gift_year == '2014-01-01'\").reindex()\n",
    "cohort15 = donations_13to17.query(\"first_gift_year == '2015-01-01'\").reindex()\n",
    "cohort16 = donations_13to17.query(\"first_gift_year == '2016-01-01'\").reindex()\n",
    "cohort17 = donations_13to17.query(\"first_gift_year == '2017-01-01'\").reindex()"
   ]
  },
  {
   "cell_type": "code",
   "execution_count": 10,
   "metadata": {},
   "outputs": [
    {
     "name": "stdout",
     "output_type": "stream",
     "text": [
      "(320069, 203)\n",
      "(320673, 203)\n",
      "(355137, 203)\n",
      "(445598, 203)\n",
      "(434991, 203)\n"
     ]
    }
   ],
   "source": [
    "print(cohort13.shape)\n",
    "print(cohort14.shape)\n",
    "print(cohort15.shape)\n",
    "print(cohort16.shape)\n",
    "print(cohort17.shape)"
   ]
  },
  {
   "cell_type": "code",
   "execution_count": 11,
   "metadata": {},
   "outputs": [
    {
     "data": {
      "text/html": [
       "<div>\n",
       "<style scoped>\n",
       "    .dataframe tbody tr th:only-of-type {\n",
       "        vertical-align: middle;\n",
       "    }\n",
       "\n",
       "    .dataframe tbody tr th {\n",
       "        vertical-align: top;\n",
       "    }\n",
       "\n",
       "    .dataframe thead th {\n",
       "        text-align: right;\n",
       "    }\n",
       "</style>\n",
       "<table border=\"1\" class=\"dataframe\">\n",
       "  <thead>\n",
       "    <tr style=\"text-align: right;\">\n",
       "      <th></th>\n",
       "      <th>id</th>\n",
       "      <th>first_gift_year</th>\n",
       "      <th>lapsed_count</th>\n",
       "      <th>recovered_count</th>\n",
       "      <th>max_consec_giving_years</th>\n",
       "      <th>total_giving_years</th>\n",
       "      <th>count_2013</th>\n",
       "      <th>count_2014</th>\n",
       "      <th>count_2015</th>\n",
       "      <th>count_2016</th>\n",
       "      <th>...</th>\n",
       "      <th>behavior_2017</th>\n",
       "      <th>gainloss_2013</th>\n",
       "      <th>gainloss_2014</th>\n",
       "      <th>gainloss_2015</th>\n",
       "      <th>gainloss_2016</th>\n",
       "      <th>gainloss_2017</th>\n",
       "      <th>gainloss_2014_amt</th>\n",
       "      <th>gainloss_2015_amt</th>\n",
       "      <th>gainloss_2016_amt</th>\n",
       "      <th>gainloss_2017_amt</th>\n",
       "    </tr>\n",
       "  </thead>\n",
       "  <tbody>\n",
       "    <tr>\n",
       "      <td>6</td>\n",
       "      <td>8a1875762c85932fff192ea126ccdff2</td>\n",
       "      <td>2013-01-01</td>\n",
       "      <td>2</td>\n",
       "      <td>1</td>\n",
       "      <td>1</td>\n",
       "      <td>1</td>\n",
       "      <td>1</td>\n",
       "      <td>0</td>\n",
       "      <td>0</td>\n",
       "      <td>0</td>\n",
       "      <td>...</td>\n",
       "      <td>none</td>\n",
       "      <td>gain</td>\n",
       "      <td>loss</td>\n",
       "      <td>none</td>\n",
       "      <td>none</td>\n",
       "      <td>none</td>\n",
       "      <td>-50.0</td>\n",
       "      <td>0.0</td>\n",
       "      <td>0.0</td>\n",
       "      <td>0.0</td>\n",
       "    </tr>\n",
       "    <tr>\n",
       "      <td>7</td>\n",
       "      <td>a3f070e439d52de72ca62dc41f9b16a4</td>\n",
       "      <td>2013-01-01</td>\n",
       "      <td>2</td>\n",
       "      <td>1</td>\n",
       "      <td>1</td>\n",
       "      <td>1</td>\n",
       "      <td>1</td>\n",
       "      <td>0</td>\n",
       "      <td>0</td>\n",
       "      <td>0</td>\n",
       "      <td>...</td>\n",
       "      <td>none</td>\n",
       "      <td>gain</td>\n",
       "      <td>loss</td>\n",
       "      <td>none</td>\n",
       "      <td>none</td>\n",
       "      <td>none</td>\n",
       "      <td>-50.0</td>\n",
       "      <td>0.0</td>\n",
       "      <td>0.0</td>\n",
       "      <td>0.0</td>\n",
       "    </tr>\n",
       "    <tr>\n",
       "      <td>8</td>\n",
       "      <td>bd323208dc78b1c74b62664b768f3176</td>\n",
       "      <td>2013-01-01</td>\n",
       "      <td>4</td>\n",
       "      <td>3</td>\n",
       "      <td>3</td>\n",
       "      <td>3</td>\n",
       "      <td>2</td>\n",
       "      <td>2</td>\n",
       "      <td>1</td>\n",
       "      <td>0</td>\n",
       "      <td>...</td>\n",
       "      <td>none</td>\n",
       "      <td>gain</td>\n",
       "      <td>loss</td>\n",
       "      <td>none</td>\n",
       "      <td>loss</td>\n",
       "      <td>none</td>\n",
       "      <td>-40.0</td>\n",
       "      <td>0.0</td>\n",
       "      <td>-200.0</td>\n",
       "      <td>0.0</td>\n",
       "    </tr>\n",
       "    <tr>\n",
       "      <td>9</td>\n",
       "      <td>6dd6113f89f2766d3b0707ef2a46260c</td>\n",
       "      <td>2013-01-01</td>\n",
       "      <td>4</td>\n",
       "      <td>3</td>\n",
       "      <td>3</td>\n",
       "      <td>3</td>\n",
       "      <td>19</td>\n",
       "      <td>7</td>\n",
       "      <td>1</td>\n",
       "      <td>0</td>\n",
       "      <td>...</td>\n",
       "      <td>none</td>\n",
       "      <td>gain</td>\n",
       "      <td>loss</td>\n",
       "      <td>loss</td>\n",
       "      <td>loss</td>\n",
       "      <td>none</td>\n",
       "      <td>-151.0</td>\n",
       "      <td>-200.0</td>\n",
       "      <td>-20.0</td>\n",
       "      <td>0.0</td>\n",
       "    </tr>\n",
       "    <tr>\n",
       "      <td>10</td>\n",
       "      <td>391f14831940fc7bc41df2cd7fb06030</td>\n",
       "      <td>2013-01-01</td>\n",
       "      <td>2</td>\n",
       "      <td>1</td>\n",
       "      <td>1</td>\n",
       "      <td>1</td>\n",
       "      <td>1</td>\n",
       "      <td>0</td>\n",
       "      <td>0</td>\n",
       "      <td>0</td>\n",
       "      <td>...</td>\n",
       "      <td>none</td>\n",
       "      <td>gain</td>\n",
       "      <td>loss</td>\n",
       "      <td>none</td>\n",
       "      <td>none</td>\n",
       "      <td>none</td>\n",
       "      <td>-100.0</td>\n",
       "      <td>0.0</td>\n",
       "      <td>0.0</td>\n",
       "      <td>0.0</td>\n",
       "    </tr>\n",
       "  </tbody>\n",
       "</table>\n",
       "<p>5 rows × 203 columns</p>\n",
       "</div>"
      ],
      "text/plain": [
       "                                  id first_gift_year  lapsed_count  \\\n",
       "6   8a1875762c85932fff192ea126ccdff2      2013-01-01             2   \n",
       "7   a3f070e439d52de72ca62dc41f9b16a4      2013-01-01             2   \n",
       "8   bd323208dc78b1c74b62664b768f3176      2013-01-01             4   \n",
       "9   6dd6113f89f2766d3b0707ef2a46260c      2013-01-01             4   \n",
       "10  391f14831940fc7bc41df2cd7fb06030      2013-01-01             2   \n",
       "\n",
       "    recovered_count  max_consec_giving_years  total_giving_years  count_2013  \\\n",
       "6                 1                        1                   1           1   \n",
       "7                 1                        1                   1           1   \n",
       "8                 3                        3                   3           2   \n",
       "9                 3                        3                   3          19   \n",
       "10                1                        1                   1           1   \n",
       "\n",
       "    count_2014  count_2015  count_2016  ...  behavior_2017  gainloss_2013  \\\n",
       "6            0           0           0  ...           none           gain   \n",
       "7            0           0           0  ...           none           gain   \n",
       "8            2           1           0  ...           none           gain   \n",
       "9            7           1           0  ...           none           gain   \n",
       "10           0           0           0  ...           none           gain   \n",
       "\n",
       "    gainloss_2014  gainloss_2015  gainloss_2016  gainloss_2017  \\\n",
       "6            loss           none           none           none   \n",
       "7            loss           none           none           none   \n",
       "8            loss           none           loss           none   \n",
       "9            loss           loss           loss           none   \n",
       "10           loss           none           none           none   \n",
       "\n",
       "    gainloss_2014_amt  gainloss_2015_amt  gainloss_2016_amt  gainloss_2017_amt  \n",
       "6               -50.0                0.0                0.0                0.0  \n",
       "7               -50.0                0.0                0.0                0.0  \n",
       "8               -40.0                0.0             -200.0                0.0  \n",
       "9              -151.0             -200.0              -20.0                0.0  \n",
       "10             -100.0                0.0                0.0                0.0  \n",
       "\n",
       "[5 rows x 203 columns]"
      ]
     },
     "execution_count": 11,
     "metadata": {},
     "output_type": "execute_result"
    }
   ],
   "source": [
    "cohort13.head()"
   ]
  },
  {
   "cell_type": "code",
   "execution_count": 12,
   "metadata": {},
   "outputs": [],
   "source": [
    "cohort13.to_pickle('cohort13.pkl')\n",
    "cohort14.to_pickle('cohort14.pkl')\n",
    "cohort15.to_pickle('cohort15.pkl')\n",
    "cohort16.to_pickle('cohort16.pkl')\n",
    "cohort17.to_pickle('cohort17.pkl')"
   ]
  },
  {
   "cell_type": "code",
   "execution_count": 15,
   "metadata": {},
   "outputs": [
    {
     "data": {
      "text/html": [
       "<div>\n",
       "<style scoped>\n",
       "    .dataframe tbody tr th:only-of-type {\n",
       "        vertical-align: middle;\n",
       "    }\n",
       "\n",
       "    .dataframe tbody tr th {\n",
       "        vertical-align: top;\n",
       "    }\n",
       "\n",
       "    .dataframe thead th {\n",
       "        text-align: right;\n",
       "    }\n",
       "</style>\n",
       "<table border=\"1\" class=\"dataframe\">\n",
       "  <thead>\n",
       "    <tr style=\"text-align: right;\">\n",
       "      <th></th>\n",
       "      <th>gainloss_2017</th>\n",
       "      <th>behavior_2017</th>\n",
       "      <th>amount_2016</th>\n",
       "      <th>amount_2017</th>\n",
       "      <th>gainloss_2017_amt</th>\n",
       "    </tr>\n",
       "  </thead>\n",
       "  <tbody>\n",
       "    <tr>\n",
       "      <td>0</td>\n",
       "      <td>gain</td>\n",
       "      <td>upgrade</td>\n",
       "      <td>40085.15</td>\n",
       "      <td>62644.98</td>\n",
       "      <td>22559.83</td>\n",
       "    </tr>\n",
       "    <tr>\n",
       "      <td>19</td>\n",
       "      <td>gain</td>\n",
       "      <td>upgrade</td>\n",
       "      <td>50.00</td>\n",
       "      <td>125.00</td>\n",
       "      <td>75.00</td>\n",
       "    </tr>\n",
       "    <tr>\n",
       "      <td>24</td>\n",
       "      <td>gain</td>\n",
       "      <td>upgrade</td>\n",
       "      <td>22208.31</td>\n",
       "      <td>28238.40</td>\n",
       "      <td>6030.09</td>\n",
       "    </tr>\n",
       "    <tr>\n",
       "      <td>27</td>\n",
       "      <td>gain</td>\n",
       "      <td>upgrade</td>\n",
       "      <td>50.00</td>\n",
       "      <td>875.20</td>\n",
       "      <td>825.20</td>\n",
       "    </tr>\n",
       "    <tr>\n",
       "      <td>28</td>\n",
       "      <td>gain</td>\n",
       "      <td>upgrade</td>\n",
       "      <td>148.49</td>\n",
       "      <td>149.45</td>\n",
       "      <td>0.96</td>\n",
       "    </tr>\n",
       "    <tr>\n",
       "      <td>...</td>\n",
       "      <td>...</td>\n",
       "      <td>...</td>\n",
       "      <td>...</td>\n",
       "      <td>...</td>\n",
       "      <td>...</td>\n",
       "    </tr>\n",
       "    <tr>\n",
       "      <td>2009910</td>\n",
       "      <td>gain</td>\n",
       "      <td>upgrade</td>\n",
       "      <td>99.51</td>\n",
       "      <td>100.00</td>\n",
       "      <td>0.49</td>\n",
       "    </tr>\n",
       "    <tr>\n",
       "      <td>2013773</td>\n",
       "      <td>gain</td>\n",
       "      <td>upgrade</td>\n",
       "      <td>50.00</td>\n",
       "      <td>329.85</td>\n",
       "      <td>279.85</td>\n",
       "    </tr>\n",
       "    <tr>\n",
       "      <td>2014413</td>\n",
       "      <td>gain</td>\n",
       "      <td>upgrade</td>\n",
       "      <td>75.00</td>\n",
       "      <td>354.75</td>\n",
       "      <td>279.75</td>\n",
       "    </tr>\n",
       "    <tr>\n",
       "      <td>2016028</td>\n",
       "      <td>gain</td>\n",
       "      <td>upgrade</td>\n",
       "      <td>75.00</td>\n",
       "      <td>150.00</td>\n",
       "      <td>75.00</td>\n",
       "    </tr>\n",
       "    <tr>\n",
       "      <td>2018680</td>\n",
       "      <td>gain</td>\n",
       "      <td>upgrade</td>\n",
       "      <td>110.00</td>\n",
       "      <td>243.29</td>\n",
       "      <td>133.29</td>\n",
       "    </tr>\n",
       "  </tbody>\n",
       "</table>\n",
       "<p>43212 rows × 5 columns</p>\n",
       "</div>"
      ],
      "text/plain": [
       "        gainloss_2017 behavior_2017  amount_2016  amount_2017  \\\n",
       "0                gain       upgrade     40085.15     62644.98   \n",
       "19               gain       upgrade        50.00       125.00   \n",
       "24               gain       upgrade     22208.31     28238.40   \n",
       "27               gain       upgrade        50.00       875.20   \n",
       "28               gain       upgrade       148.49       149.45   \n",
       "...               ...           ...          ...          ...   \n",
       "2009910          gain       upgrade        99.51       100.00   \n",
       "2013773          gain       upgrade        50.00       329.85   \n",
       "2014413          gain       upgrade        75.00       354.75   \n",
       "2016028          gain       upgrade        75.00       150.00   \n",
       "2018680          gain       upgrade       110.00       243.29   \n",
       "\n",
       "         gainloss_2017_amt  \n",
       "0                 22559.83  \n",
       "19                   75.00  \n",
       "24                 6030.09  \n",
       "27                  825.20  \n",
       "28                    0.96  \n",
       "...                    ...  \n",
       "2009910               0.49  \n",
       "2013773             279.85  \n",
       "2014413             279.75  \n",
       "2016028              75.00  \n",
       "2018680             133.29  \n",
       "\n",
       "[43212 rows x 5 columns]"
      ]
     },
     "execution_count": 15,
     "metadata": {},
     "output_type": "execute_result"
    }
   ],
   "source": [
    "donations_13to17.query('behavior_2017 == \"upgrade\"')[['gainloss_2017','behavior_2017','amount_2016', 'amount_2017', 'gainloss_2017_amt']]"
   ]
  },
  {
   "cell_type": "code",
   "execution_count": 52,
   "metadata": {},
   "outputs": [],
   "source": [
    "g=donations_13to17.groupby(['gainloss_2017', 'behavior_2017'])"
   ]
  },
  {
   "cell_type": "code",
   "execution_count": 40,
   "metadata": {},
   "outputs": [
    {
     "name": "stdout",
     "output_type": "stream",
     "text": [
      "<pandas.core.groupby.generic.DataFrameGroupBy object at 0x000002370F57AC88>\n"
     ]
    }
   ],
   "source": [
    "print(g)"
   ]
  },
  {
   "cell_type": "code",
   "execution_count": 41,
   "metadata": {},
   "outputs": [
    {
     "name": "stdout",
     "output_type": "stream",
     "text": [
      "gain\n",
      "                                       id first_gift_year  lapsed_count  \\\n",
      "0        1f4b5b6e68445c6c4a0509b3aca93f38      2015-01-01             4   \n",
      "13       3fa001f7a31563bb2a7bc989f5bbe5b3      2017-01-01             2   \n",
      "14       c77b27c9837573aae3a278a6c3a92b8f      2017-01-01             2   \n",
      "15       43ca9835ccb5c7c24abd3f173732d26f      2017-01-01             2   \n",
      "16       6243c0acf1dc9a4d71b1630411d3c41b      2017-01-01             2   \n",
      "...                                   ...             ...           ...   \n",
      "2024543  a25266097aecab47f27454fb3e81a581      2017-01-01             2   \n",
      "2024544  803c217d092b6bccfbb1b14081b5eda1      2017-01-01             2   \n",
      "2024545  7a6f87b36993e5491d069db7dfd5b8ae      2017-01-01             2   \n",
      "2024546  8693f8bca1b7ff40b286dc67c296c0e0      2017-01-01             2   \n",
      "2024547  e844ec4058b27ae23ce64aca21748318      2017-01-01             2   \n",
      "\n",
      "         recovered_count  max_consec_giving_years  total_giving_years  \\\n",
      "0                      4                        4                   4   \n",
      "13                     1                        1                   1   \n",
      "14                     1                        1                   1   \n",
      "15                     1                        1                   1   \n",
      "16                     1                        1                   1   \n",
      "...                  ...                      ...                 ...   \n",
      "2024543                1                        1                   1   \n",
      "2024544                1                        1                   1   \n",
      "2024545                1                        1                   1   \n",
      "2024546                1                        1                   1   \n",
      "2024547                1                        1                   1   \n",
      "\n",
      "         count_2013  count_2014  count_2015  count_2016  ...  behavior_2017  \\\n",
      "0                 0           0          42          64  ...        upgrade   \n",
      "13                0           0           0           0  ...            new   \n",
      "14                0           0           0           0  ...            new   \n",
      "15                0           0           0           0  ...            new   \n",
      "16                0           0           0           0  ...            new   \n",
      "...             ...         ...         ...         ...  ...            ...   \n",
      "2024543           0           0           0           0  ...            new   \n",
      "2024544           0           0           0           0  ...            new   \n",
      "2024545           0           0           0           0  ...            new   \n",
      "2024546           0           0           0           0  ...            new   \n",
      "2024547           0           0           0           0  ...            new   \n",
      "\n",
      "         gainloss_2013  gainloss_2014  gainloss_2015  gainloss_2016  \\\n",
      "0                 none           none           gain           gain   \n",
      "13                none           none           none           none   \n",
      "14                none           none           none           none   \n",
      "15                none           none           none           none   \n",
      "16                none           none           none           none   \n",
      "...                ...            ...            ...            ...   \n",
      "2024543           none           none           none           none   \n",
      "2024544           none           none           none           none   \n",
      "2024545           none           none           none           none   \n",
      "2024546           none           none           none           none   \n",
      "2024547           none           none           none           none   \n",
      "\n",
      "         gainloss_2017  gainloss_2014_amt  gainloss_2015_amt  \\\n",
      "0                 gain                0.0           18211.38   \n",
      "13                gain                0.0               0.00   \n",
      "14                gain                0.0               0.00   \n",
      "15                gain                0.0               0.00   \n",
      "16                gain                0.0               0.00   \n",
      "...                ...                ...                ...   \n",
      "2024543           gain                0.0               0.00   \n",
      "2024544           gain                0.0               0.00   \n",
      "2024545           gain                0.0               0.00   \n",
      "2024546           gain                0.0               0.00   \n",
      "2024547           gain                0.0               0.00   \n",
      "\n",
      "         gainloss_2016_amt  gainloss_2017_amt  \n",
      "0                 21873.77           22559.83  \n",
      "13                    0.00             392.92  \n",
      "14                    0.00              65.00  \n",
      "15                    0.00             150.00  \n",
      "16                    0.00              25.00  \n",
      "...                    ...                ...  \n",
      "2024543               0.00              45.00  \n",
      "2024544               0.00              25.00  \n",
      "2024545               0.00              10.00  \n",
      "2024546               0.00              20.00  \n",
      "2024547               0.00              30.00  \n",
      "\n",
      "[518112 rows x 203 columns]\n",
      "loss\n",
      "                                       id first_gift_year  lapsed_count  \\\n",
      "1        4aaab6d244bf3599682239ed5591af8a      2016-01-01             2   \n",
      "2        0b0765dc9c759adc48a07688ba25e94e      2015-01-01             3   \n",
      "3        377944ad61f72d800b25ec1862aec363      2016-01-01             2   \n",
      "4        6d5b22d39e68c656071a842732c63a0c      2015-01-01             4   \n",
      "5        896c75c9b8d9a91c759746e566cd3f37      2016-01-01             2   \n",
      "...                                   ...             ...           ...   \n",
      "2024548  e6a4ef71c2ad1fae992b0ca093b41dad      2016-01-01             2   \n",
      "2024549  17349045834fff2e3a1644a240ada6a5      2016-01-01             2   \n",
      "2024550  07cbfd22c88371d0fc4e5d68799dc4cc      2016-01-01             2   \n",
      "2024551  90449de3dfeeac866d2ec5c88ac9da60      2016-01-01             2   \n",
      "2024552  071677d93e6f46454d8c53daa84a1463      2016-01-01             2   \n",
      "\n",
      "         recovered_count  max_consec_giving_years  total_giving_years  \\\n",
      "1                      1                        1                   1   \n",
      "2                      2                        2                   2   \n",
      "3                      1                        1                   1   \n",
      "4                      3                        2                   3   \n",
      "5                      1                        1                   1   \n",
      "...                  ...                      ...                 ...   \n",
      "2024548                1                        1                   1   \n",
      "2024549                1                        1                   1   \n",
      "2024550                1                        1                   1   \n",
      "2024551                1                        1                   1   \n",
      "2024552                1                        1                   1   \n",
      "\n",
      "         count_2013  count_2014  count_2015  count_2016  ...  behavior_2017  \\\n",
      "1                 0           0           0           1  ...      lapse_new   \n",
      "2                 0           0           2           2  ...   lapse_repeat   \n",
      "3                 0           0           0           1  ...      lapse_new   \n",
      "4                 0           0           1           1  ...   lapse_repeat   \n",
      "5                 0           0           0           1  ...      lapse_new   \n",
      "...             ...         ...         ...         ...  ...            ...   \n",
      "2024548           0           0           0           1  ...      lapse_new   \n",
      "2024549           0           0           0           1  ...      lapse_new   \n",
      "2024550           0           0           0           1  ...      lapse_new   \n",
      "2024551           0           0           0           1  ...      lapse_new   \n",
      "2024552           0           0           0           1  ...      lapse_new   \n",
      "\n",
      "         gainloss_2013  gainloss_2014  gainloss_2015  gainloss_2016  \\\n",
      "1                 none           none           none           gain   \n",
      "2                 none           none           gain           gain   \n",
      "3                 none           none           none           gain   \n",
      "4                 none           none           gain           loss   \n",
      "5                 none           none           none           gain   \n",
      "...                ...            ...            ...            ...   \n",
      "2024548           none           none           none           gain   \n",
      "2024549           none           none           none           gain   \n",
      "2024550           none           none           none           gain   \n",
      "2024551           none           none           none           gain   \n",
      "2024552           none           none           none           gain   \n",
      "\n",
      "         gainloss_2017  gainloss_2014_amt  gainloss_2015_amt  \\\n",
      "1                 loss                0.0                0.0   \n",
      "2                 loss                0.0               20.0   \n",
      "3                 loss                0.0                0.0   \n",
      "4                 loss                0.0               70.0   \n",
      "5                 loss                0.0                0.0   \n",
      "...                ...                ...                ...   \n",
      "2024548           loss                0.0                0.0   \n",
      "2024549           loss                0.0                0.0   \n",
      "2024550           loss                0.0                0.0   \n",
      "2024551           loss                0.0                0.0   \n",
      "2024552           loss                0.0                0.0   \n",
      "\n",
      "         gainloss_2016_amt  gainloss_2017_amt  \n",
      "1                     25.0              -25.0  \n",
      "2                     20.0              -40.0  \n",
      "3                     25.0              -25.0  \n",
      "4                    -45.0              -25.0  \n",
      "5                     15.0              -15.0  \n",
      "...                    ...                ...  \n",
      "2024548               20.0              -20.0  \n",
      "2024549               25.0              -25.0  \n",
      "2024550               50.0              -50.0  \n",
      "2024551               50.0              -50.0  \n",
      "2024552               10.0              -10.0  \n",
      "\n",
      "[498413 rows x 203 columns]\n",
      "none\n"
     ]
    },
    {
     "name": "stdout",
     "output_type": "stream",
     "text": [
      "                                       id first_gift_year  lapsed_count  \\\n",
      "6        8a1875762c85932fff192ea126ccdff2      2013-01-01             2   \n",
      "7        a3f070e439d52de72ca62dc41f9b16a4      2013-01-01             2   \n",
      "8        bd323208dc78b1c74b62664b768f3176      2013-01-01             4   \n",
      "9        6dd6113f89f2766d3b0707ef2a46260c      2013-01-01             4   \n",
      "10       391f14831940fc7bc41df2cd7fb06030      2013-01-01             2   \n",
      "...                                   ...             ...           ...   \n",
      "2024528  ca75eadff7766e701fe45ab46090edad      2014-01-01             2   \n",
      "2024529  ee760d6206845577be63a8a1c6d4dffa      2014-01-01             2   \n",
      "2024539  a57f138f9349498e1be41df74e77b78a      2014-01-01             2   \n",
      "2024540  56729cfddae7e622f7d49ba5877c4e5c      2013-01-01             2   \n",
      "2024541  9b260707ec97a87dc2073e9b5e958005      2013-01-01             2   \n",
      "\n",
      "         recovered_count  max_consec_giving_years  total_giving_years  \\\n",
      "6                      1                        1                   1   \n",
      "7                      1                        1                   1   \n",
      "8                      3                        3                   3   \n",
      "9                      3                        3                   3   \n",
      "10                     1                        1                   1   \n",
      "...                  ...                      ...                 ...   \n",
      "2024528                1                        1                   1   \n",
      "2024529                1                        1                   1   \n",
      "2024539                1                        1                   1   \n",
      "2024540                1                        1                   1   \n",
      "2024541                1                        1                   1   \n",
      "\n",
      "         count_2013  count_2014  count_2015  count_2016  ...  behavior_2017  \\\n",
      "6                 1           0           0           0  ...           none   \n",
      "7                 1           0           0           0  ...           none   \n",
      "8                 2           2           1           0  ...           none   \n",
      "9                19           7           1           0  ...           none   \n",
      "10                1           0           0           0  ...           none   \n",
      "...             ...         ...         ...         ...  ...            ...   \n",
      "2024528           0           1           0           0  ...           none   \n",
      "2024529           0           1           0           0  ...           none   \n",
      "2024539           0           1           0           0  ...           none   \n",
      "2024540           5           0           0           0  ...           none   \n",
      "2024541           1           0           0           0  ...           none   \n",
      "\n",
      "         gainloss_2013  gainloss_2014  gainloss_2015  gainloss_2016  \\\n",
      "6                 gain           loss           none           none   \n",
      "7                 gain           loss           none           none   \n",
      "8                 gain           loss           none           loss   \n",
      "9                 gain           loss           loss           loss   \n",
      "10                gain           loss           none           none   \n",
      "...                ...            ...            ...            ...   \n",
      "2024528           none           gain           loss           none   \n",
      "2024529           none           gain           loss           none   \n",
      "2024539           none           gain           loss           none   \n",
      "2024540           gain           loss           none           none   \n",
      "2024541           gain           loss           none           none   \n",
      "\n",
      "         gainloss_2017  gainloss_2014_amt  gainloss_2015_amt  \\\n",
      "6                 none             -50.00                0.0   \n",
      "7                 none             -50.00                0.0   \n",
      "8                 none             -40.00                0.0   \n",
      "9                 none            -151.00             -200.0   \n",
      "10                none            -100.00                0.0   \n",
      "...                ...                ...                ...   \n",
      "2024528           none              50.00              -50.0   \n",
      "2024529           none              25.00              -25.0   \n",
      "2024539           none              20.00              -20.0   \n",
      "2024540           none            -376.00                0.0   \n",
      "2024541           none            -343.21                0.0   \n",
      "\n",
      "         gainloss_2016_amt  gainloss_2017_amt  \n",
      "6                      0.0                0.0  \n",
      "7                      0.0                0.0  \n",
      "8                   -200.0                0.0  \n",
      "9                    -20.0                0.0  \n",
      "10                     0.0                0.0  \n",
      "...                    ...                ...  \n",
      "2024528                0.0                0.0  \n",
      "2024529                0.0                0.0  \n",
      "2024539                0.0                0.0  \n",
      "2024540                0.0                0.0  \n",
      "2024541                0.0                0.0  \n",
      "\n",
      "[859943 rows x 203 columns]\n"
     ]
    }
   ],
   "source": [
    "for beh, beh_df in g:\n",
    "    print(beh)\n",
    "    print(beh_df)"
   ]
  },
  {
   "cell_type": "code",
   "execution_count": 56,
   "metadata": {},
   "outputs": [],
   "source": [
    "a=g.get_group(('gain','new'))"
   ]
  },
  {
   "cell_type": "code",
   "execution_count": 57,
   "metadata": {},
   "outputs": [
    {
     "data": {
      "text/html": [
       "<div>\n",
       "<style scoped>\n",
       "    .dataframe tbody tr th:only-of-type {\n",
       "        vertical-align: middle;\n",
       "    }\n",
       "\n",
       "    .dataframe tbody tr th {\n",
       "        vertical-align: top;\n",
       "    }\n",
       "\n",
       "    .dataframe thead th {\n",
       "        text-align: right;\n",
       "    }\n",
       "</style>\n",
       "<table border=\"1\" class=\"dataframe\">\n",
       "  <thead>\n",
       "    <tr style=\"text-align: right;\">\n",
       "      <th></th>\n",
       "      <th>id</th>\n",
       "      <th>first_gift_year</th>\n",
       "      <th>lapsed_count</th>\n",
       "      <th>recovered_count</th>\n",
       "      <th>max_consec_giving_years</th>\n",
       "      <th>total_giving_years</th>\n",
       "      <th>count_2013</th>\n",
       "      <th>count_2014</th>\n",
       "      <th>count_2015</th>\n",
       "      <th>count_2016</th>\n",
       "      <th>...</th>\n",
       "      <th>behavior_2017</th>\n",
       "      <th>gainloss_2013</th>\n",
       "      <th>gainloss_2014</th>\n",
       "      <th>gainloss_2015</th>\n",
       "      <th>gainloss_2016</th>\n",
       "      <th>gainloss_2017</th>\n",
       "      <th>gainloss_2014_amt</th>\n",
       "      <th>gainloss_2015_amt</th>\n",
       "      <th>gainloss_2016_amt</th>\n",
       "      <th>gainloss_2017_amt</th>\n",
       "    </tr>\n",
       "  </thead>\n",
       "  <tbody>\n",
       "    <tr>\n",
       "      <td>13</td>\n",
       "      <td>3fa001f7a31563bb2a7bc989f5bbe5b3</td>\n",
       "      <td>2017-01-01</td>\n",
       "      <td>2</td>\n",
       "      <td>1</td>\n",
       "      <td>1</td>\n",
       "      <td>1</td>\n",
       "      <td>0</td>\n",
       "      <td>0</td>\n",
       "      <td>0</td>\n",
       "      <td>0</td>\n",
       "      <td>...</td>\n",
       "      <td>new</td>\n",
       "      <td>none</td>\n",
       "      <td>none</td>\n",
       "      <td>none</td>\n",
       "      <td>none</td>\n",
       "      <td>gain</td>\n",
       "      <td>0.0</td>\n",
       "      <td>0.0</td>\n",
       "      <td>0.0</td>\n",
       "      <td>392.92</td>\n",
       "    </tr>\n",
       "    <tr>\n",
       "      <td>14</td>\n",
       "      <td>c77b27c9837573aae3a278a6c3a92b8f</td>\n",
       "      <td>2017-01-01</td>\n",
       "      <td>2</td>\n",
       "      <td>1</td>\n",
       "      <td>1</td>\n",
       "      <td>1</td>\n",
       "      <td>0</td>\n",
       "      <td>0</td>\n",
       "      <td>0</td>\n",
       "      <td>0</td>\n",
       "      <td>...</td>\n",
       "      <td>new</td>\n",
       "      <td>none</td>\n",
       "      <td>none</td>\n",
       "      <td>none</td>\n",
       "      <td>none</td>\n",
       "      <td>gain</td>\n",
       "      <td>0.0</td>\n",
       "      <td>0.0</td>\n",
       "      <td>0.0</td>\n",
       "      <td>65.00</td>\n",
       "    </tr>\n",
       "    <tr>\n",
       "      <td>15</td>\n",
       "      <td>43ca9835ccb5c7c24abd3f173732d26f</td>\n",
       "      <td>2017-01-01</td>\n",
       "      <td>2</td>\n",
       "      <td>1</td>\n",
       "      <td>1</td>\n",
       "      <td>1</td>\n",
       "      <td>0</td>\n",
       "      <td>0</td>\n",
       "      <td>0</td>\n",
       "      <td>0</td>\n",
       "      <td>...</td>\n",
       "      <td>new</td>\n",
       "      <td>none</td>\n",
       "      <td>none</td>\n",
       "      <td>none</td>\n",
       "      <td>none</td>\n",
       "      <td>gain</td>\n",
       "      <td>0.0</td>\n",
       "      <td>0.0</td>\n",
       "      <td>0.0</td>\n",
       "      <td>150.00</td>\n",
       "    </tr>\n",
       "    <tr>\n",
       "      <td>16</td>\n",
       "      <td>6243c0acf1dc9a4d71b1630411d3c41b</td>\n",
       "      <td>2017-01-01</td>\n",
       "      <td>2</td>\n",
       "      <td>1</td>\n",
       "      <td>1</td>\n",
       "      <td>1</td>\n",
       "      <td>0</td>\n",
       "      <td>0</td>\n",
       "      <td>0</td>\n",
       "      <td>0</td>\n",
       "      <td>...</td>\n",
       "      <td>new</td>\n",
       "      <td>none</td>\n",
       "      <td>none</td>\n",
       "      <td>none</td>\n",
       "      <td>none</td>\n",
       "      <td>gain</td>\n",
       "      <td>0.0</td>\n",
       "      <td>0.0</td>\n",
       "      <td>0.0</td>\n",
       "      <td>25.00</td>\n",
       "    </tr>\n",
       "    <tr>\n",
       "      <td>18</td>\n",
       "      <td>28e3240a3a6714c41731725a1f199558</td>\n",
       "      <td>2017-01-01</td>\n",
       "      <td>2</td>\n",
       "      <td>1</td>\n",
       "      <td>1</td>\n",
       "      <td>1</td>\n",
       "      <td>0</td>\n",
       "      <td>0</td>\n",
       "      <td>0</td>\n",
       "      <td>0</td>\n",
       "      <td>...</td>\n",
       "      <td>new</td>\n",
       "      <td>none</td>\n",
       "      <td>none</td>\n",
       "      <td>none</td>\n",
       "      <td>none</td>\n",
       "      <td>gain</td>\n",
       "      <td>0.0</td>\n",
       "      <td>0.0</td>\n",
       "      <td>0.0</td>\n",
       "      <td>25.00</td>\n",
       "    </tr>\n",
       "    <tr>\n",
       "      <td>...</td>\n",
       "      <td>...</td>\n",
       "      <td>...</td>\n",
       "      <td>...</td>\n",
       "      <td>...</td>\n",
       "      <td>...</td>\n",
       "      <td>...</td>\n",
       "      <td>...</td>\n",
       "      <td>...</td>\n",
       "      <td>...</td>\n",
       "      <td>...</td>\n",
       "      <td>...</td>\n",
       "      <td>...</td>\n",
       "      <td>...</td>\n",
       "      <td>...</td>\n",
       "      <td>...</td>\n",
       "      <td>...</td>\n",
       "      <td>...</td>\n",
       "      <td>...</td>\n",
       "      <td>...</td>\n",
       "      <td>...</td>\n",
       "      <td>...</td>\n",
       "    </tr>\n",
       "    <tr>\n",
       "      <td>2024543</td>\n",
       "      <td>a25266097aecab47f27454fb3e81a581</td>\n",
       "      <td>2017-01-01</td>\n",
       "      <td>2</td>\n",
       "      <td>1</td>\n",
       "      <td>1</td>\n",
       "      <td>1</td>\n",
       "      <td>0</td>\n",
       "      <td>0</td>\n",
       "      <td>0</td>\n",
       "      <td>0</td>\n",
       "      <td>...</td>\n",
       "      <td>new</td>\n",
       "      <td>none</td>\n",
       "      <td>none</td>\n",
       "      <td>none</td>\n",
       "      <td>none</td>\n",
       "      <td>gain</td>\n",
       "      <td>0.0</td>\n",
       "      <td>0.0</td>\n",
       "      <td>0.0</td>\n",
       "      <td>45.00</td>\n",
       "    </tr>\n",
       "    <tr>\n",
       "      <td>2024544</td>\n",
       "      <td>803c217d092b6bccfbb1b14081b5eda1</td>\n",
       "      <td>2017-01-01</td>\n",
       "      <td>2</td>\n",
       "      <td>1</td>\n",
       "      <td>1</td>\n",
       "      <td>1</td>\n",
       "      <td>0</td>\n",
       "      <td>0</td>\n",
       "      <td>0</td>\n",
       "      <td>0</td>\n",
       "      <td>...</td>\n",
       "      <td>new</td>\n",
       "      <td>none</td>\n",
       "      <td>none</td>\n",
       "      <td>none</td>\n",
       "      <td>none</td>\n",
       "      <td>gain</td>\n",
       "      <td>0.0</td>\n",
       "      <td>0.0</td>\n",
       "      <td>0.0</td>\n",
       "      <td>25.00</td>\n",
       "    </tr>\n",
       "    <tr>\n",
       "      <td>2024545</td>\n",
       "      <td>7a6f87b36993e5491d069db7dfd5b8ae</td>\n",
       "      <td>2017-01-01</td>\n",
       "      <td>2</td>\n",
       "      <td>1</td>\n",
       "      <td>1</td>\n",
       "      <td>1</td>\n",
       "      <td>0</td>\n",
       "      <td>0</td>\n",
       "      <td>0</td>\n",
       "      <td>0</td>\n",
       "      <td>...</td>\n",
       "      <td>new</td>\n",
       "      <td>none</td>\n",
       "      <td>none</td>\n",
       "      <td>none</td>\n",
       "      <td>none</td>\n",
       "      <td>gain</td>\n",
       "      <td>0.0</td>\n",
       "      <td>0.0</td>\n",
       "      <td>0.0</td>\n",
       "      <td>10.00</td>\n",
       "    </tr>\n",
       "    <tr>\n",
       "      <td>2024546</td>\n",
       "      <td>8693f8bca1b7ff40b286dc67c296c0e0</td>\n",
       "      <td>2017-01-01</td>\n",
       "      <td>2</td>\n",
       "      <td>1</td>\n",
       "      <td>1</td>\n",
       "      <td>1</td>\n",
       "      <td>0</td>\n",
       "      <td>0</td>\n",
       "      <td>0</td>\n",
       "      <td>0</td>\n",
       "      <td>...</td>\n",
       "      <td>new</td>\n",
       "      <td>none</td>\n",
       "      <td>none</td>\n",
       "      <td>none</td>\n",
       "      <td>none</td>\n",
       "      <td>gain</td>\n",
       "      <td>0.0</td>\n",
       "      <td>0.0</td>\n",
       "      <td>0.0</td>\n",
       "      <td>20.00</td>\n",
       "    </tr>\n",
       "    <tr>\n",
       "      <td>2024547</td>\n",
       "      <td>e844ec4058b27ae23ce64aca21748318</td>\n",
       "      <td>2017-01-01</td>\n",
       "      <td>2</td>\n",
       "      <td>1</td>\n",
       "      <td>1</td>\n",
       "      <td>1</td>\n",
       "      <td>0</td>\n",
       "      <td>0</td>\n",
       "      <td>0</td>\n",
       "      <td>0</td>\n",
       "      <td>...</td>\n",
       "      <td>new</td>\n",
       "      <td>none</td>\n",
       "      <td>none</td>\n",
       "      <td>none</td>\n",
       "      <td>none</td>\n",
       "      <td>gain</td>\n",
       "      <td>0.0</td>\n",
       "      <td>0.0</td>\n",
       "      <td>0.0</td>\n",
       "      <td>30.00</td>\n",
       "    </tr>\n",
       "  </tbody>\n",
       "</table>\n",
       "<p>434991 rows × 203 columns</p>\n",
       "</div>"
      ],
      "text/plain": [
       "                                       id first_gift_year  lapsed_count  \\\n",
       "13       3fa001f7a31563bb2a7bc989f5bbe5b3      2017-01-01             2   \n",
       "14       c77b27c9837573aae3a278a6c3a92b8f      2017-01-01             2   \n",
       "15       43ca9835ccb5c7c24abd3f173732d26f      2017-01-01             2   \n",
       "16       6243c0acf1dc9a4d71b1630411d3c41b      2017-01-01             2   \n",
       "18       28e3240a3a6714c41731725a1f199558      2017-01-01             2   \n",
       "...                                   ...             ...           ...   \n",
       "2024543  a25266097aecab47f27454fb3e81a581      2017-01-01             2   \n",
       "2024544  803c217d092b6bccfbb1b14081b5eda1      2017-01-01             2   \n",
       "2024545  7a6f87b36993e5491d069db7dfd5b8ae      2017-01-01             2   \n",
       "2024546  8693f8bca1b7ff40b286dc67c296c0e0      2017-01-01             2   \n",
       "2024547  e844ec4058b27ae23ce64aca21748318      2017-01-01             2   \n",
       "\n",
       "         recovered_count  max_consec_giving_years  total_giving_years  \\\n",
       "13                     1                        1                   1   \n",
       "14                     1                        1                   1   \n",
       "15                     1                        1                   1   \n",
       "16                     1                        1                   1   \n",
       "18                     1                        1                   1   \n",
       "...                  ...                      ...                 ...   \n",
       "2024543                1                        1                   1   \n",
       "2024544                1                        1                   1   \n",
       "2024545                1                        1                   1   \n",
       "2024546                1                        1                   1   \n",
       "2024547                1                        1                   1   \n",
       "\n",
       "         count_2013  count_2014  count_2015  count_2016  ...  behavior_2017  \\\n",
       "13                0           0           0           0  ...            new   \n",
       "14                0           0           0           0  ...            new   \n",
       "15                0           0           0           0  ...            new   \n",
       "16                0           0           0           0  ...            new   \n",
       "18                0           0           0           0  ...            new   \n",
       "...             ...         ...         ...         ...  ...            ...   \n",
       "2024543           0           0           0           0  ...            new   \n",
       "2024544           0           0           0           0  ...            new   \n",
       "2024545           0           0           0           0  ...            new   \n",
       "2024546           0           0           0           0  ...            new   \n",
       "2024547           0           0           0           0  ...            new   \n",
       "\n",
       "         gainloss_2013  gainloss_2014  gainloss_2015  gainloss_2016  \\\n",
       "13                none           none           none           none   \n",
       "14                none           none           none           none   \n",
       "15                none           none           none           none   \n",
       "16                none           none           none           none   \n",
       "18                none           none           none           none   \n",
       "...                ...            ...            ...            ...   \n",
       "2024543           none           none           none           none   \n",
       "2024544           none           none           none           none   \n",
       "2024545           none           none           none           none   \n",
       "2024546           none           none           none           none   \n",
       "2024547           none           none           none           none   \n",
       "\n",
       "         gainloss_2017  gainloss_2014_amt  gainloss_2015_amt  \\\n",
       "13                gain                0.0                0.0   \n",
       "14                gain                0.0                0.0   \n",
       "15                gain                0.0                0.0   \n",
       "16                gain                0.0                0.0   \n",
       "18                gain                0.0                0.0   \n",
       "...                ...                ...                ...   \n",
       "2024543           gain                0.0                0.0   \n",
       "2024544           gain                0.0                0.0   \n",
       "2024545           gain                0.0                0.0   \n",
       "2024546           gain                0.0                0.0   \n",
       "2024547           gain                0.0                0.0   \n",
       "\n",
       "         gainloss_2016_amt  gainloss_2017_amt  \n",
       "13                     0.0             392.92  \n",
       "14                     0.0              65.00  \n",
       "15                     0.0             150.00  \n",
       "16                     0.0              25.00  \n",
       "18                     0.0              25.00  \n",
       "...                    ...                ...  \n",
       "2024543                0.0              45.00  \n",
       "2024544                0.0              25.00  \n",
       "2024545                0.0              10.00  \n",
       "2024546                0.0              20.00  \n",
       "2024547                0.0              30.00  \n",
       "\n",
       "[434991 rows x 203 columns]"
      ]
     },
     "execution_count": 57,
     "metadata": {},
     "output_type": "execute_result"
    }
   ],
   "source": [
    "a"
   ]
  },
  {
   "cell_type": "code",
   "execution_count": null,
   "metadata": {},
   "outputs": [],
   "source": [
    "b=donations_13to17.groupby(['gainloss_2017','behavior_2017'], as_index=False).agg({\"amount_2017\": \"sum\"})"
   ]
  },
  {
   "cell_type": "code",
   "execution_count": 70,
   "metadata": {},
   "outputs": [
    {
     "data": {
      "text/html": [
       "<div>\n",
       "<style scoped>\n",
       "    .dataframe tbody tr th:only-of-type {\n",
       "        vertical-align: middle;\n",
       "    }\n",
       "\n",
       "    .dataframe tbody tr th {\n",
       "        vertical-align: top;\n",
       "    }\n",
       "\n",
       "    .dataframe thead th {\n",
       "        text-align: right;\n",
       "    }\n",
       "</style>\n",
       "<table border=\"1\" class=\"dataframe\">\n",
       "  <thead>\n",
       "    <tr style=\"text-align: right;\">\n",
       "      <th></th>\n",
       "      <th>gainloss_2017</th>\n",
       "      <th>behavior_2017</th>\n",
       "      <th>id</th>\n",
       "    </tr>\n",
       "  </thead>\n",
       "  <tbody>\n",
       "    <tr>\n",
       "      <td>0</td>\n",
       "      <td>gain</td>\n",
       "      <td>new</td>\n",
       "      <td>434991</td>\n",
       "    </tr>\n",
       "    <tr>\n",
       "      <td>1</td>\n",
       "      <td>gain</td>\n",
       "      <td>recover</td>\n",
       "      <td>39909</td>\n",
       "    </tr>\n",
       "    <tr>\n",
       "      <td>2</td>\n",
       "      <td>gain</td>\n",
       "      <td>upgrade</td>\n",
       "      <td>43212</td>\n",
       "    </tr>\n",
       "    <tr>\n",
       "      <td>3</td>\n",
       "      <td>loss</td>\n",
       "      <td>downgrade</td>\n",
       "      <td>42268</td>\n",
       "    </tr>\n",
       "    <tr>\n",
       "      <td>4</td>\n",
       "      <td>loss</td>\n",
       "      <td>lapse_new</td>\n",
       "      <td>389060</td>\n",
       "    </tr>\n",
       "    <tr>\n",
       "      <td>5</td>\n",
       "      <td>loss</td>\n",
       "      <td>lapse_repeat</td>\n",
       "      <td>67085</td>\n",
       "    </tr>\n",
       "    <tr>\n",
       "      <td>6</td>\n",
       "      <td>none</td>\n",
       "      <td>maintain</td>\n",
       "      <td>14211</td>\n",
       "    </tr>\n",
       "    <tr>\n",
       "      <td>7</td>\n",
       "      <td>none</td>\n",
       "      <td>none</td>\n",
       "      <td>845732</td>\n",
       "    </tr>\n",
       "  </tbody>\n",
       "</table>\n",
       "</div>"
      ],
      "text/plain": [
       "  gainloss_2017 behavior_2017      id\n",
       "0          gain           new  434991\n",
       "1          gain       recover   39909\n",
       "2          gain       upgrade   43212\n",
       "3          loss     downgrade   42268\n",
       "4          loss     lapse_new  389060\n",
       "5          loss  lapse_repeat   67085\n",
       "6          none      maintain   14211\n",
       "7          none          none  845732"
      ]
     },
     "execution_count": 70,
     "metadata": {},
     "output_type": "execute_result"
    }
   ],
   "source": [
    "b"
   ]
  },
  {
   "cell_type": "code",
   "execution_count": 73,
   "metadata": {},
   "outputs": [
    {
     "data": {
      "application/vnd.plotly.v1+json": {
       "config": {
        "plotlyServerURL": "https://plot.ly"
       },
       "data": [
        {
         "hovertemplate": "behavior_2017=%{x}<br>id=%{y}<extra></extra>",
         "legendgroup": "",
         "line": {
          "color": "#636efa",
          "dash": "solid"
         },
         "mode": "lines",
         "name": "",
         "orientation": "v",
         "showlegend": false,
         "type": "scatter",
         "x": [
          "new",
          "recover",
          "upgrade",
          "downgrade",
          "lapse_new",
          "lapse_repeat",
          "maintain",
          "none"
         ],
         "xaxis": "x",
         "y": [
          434991,
          39909,
          43212,
          42268,
          389060,
          67085,
          14211,
          845732
         ],
         "yaxis": "y"
        }
       ],
       "layout": {
        "legend": {
         "tracegroupgap": 0
        },
        "margin": {
         "t": 60
        },
        "template": {
         "data": {
          "bar": [
           {
            "error_x": {
             "color": "#2a3f5f"
            },
            "error_y": {
             "color": "#2a3f5f"
            },
            "marker": {
             "line": {
              "color": "#E5ECF6",
              "width": 0.5
             }
            },
            "type": "bar"
           }
          ],
          "barpolar": [
           {
            "marker": {
             "line": {
              "color": "#E5ECF6",
              "width": 0.5
             }
            },
            "type": "barpolar"
           }
          ],
          "carpet": [
           {
            "aaxis": {
             "endlinecolor": "#2a3f5f",
             "gridcolor": "white",
             "linecolor": "white",
             "minorgridcolor": "white",
             "startlinecolor": "#2a3f5f"
            },
            "baxis": {
             "endlinecolor": "#2a3f5f",
             "gridcolor": "white",
             "linecolor": "white",
             "minorgridcolor": "white",
             "startlinecolor": "#2a3f5f"
            },
            "type": "carpet"
           }
          ],
          "choropleth": [
           {
            "colorbar": {
             "outlinewidth": 0,
             "ticks": ""
            },
            "type": "choropleth"
           }
          ],
          "contour": [
           {
            "colorbar": {
             "outlinewidth": 0,
             "ticks": ""
            },
            "colorscale": [
             [
              0,
              "#0d0887"
             ],
             [
              0.1111111111111111,
              "#46039f"
             ],
             [
              0.2222222222222222,
              "#7201a8"
             ],
             [
              0.3333333333333333,
              "#9c179e"
             ],
             [
              0.4444444444444444,
              "#bd3786"
             ],
             [
              0.5555555555555556,
              "#d8576b"
             ],
             [
              0.6666666666666666,
              "#ed7953"
             ],
             [
              0.7777777777777778,
              "#fb9f3a"
             ],
             [
              0.8888888888888888,
              "#fdca26"
             ],
             [
              1,
              "#f0f921"
             ]
            ],
            "type": "contour"
           }
          ],
          "contourcarpet": [
           {
            "colorbar": {
             "outlinewidth": 0,
             "ticks": ""
            },
            "type": "contourcarpet"
           }
          ],
          "heatmap": [
           {
            "colorbar": {
             "outlinewidth": 0,
             "ticks": ""
            },
            "colorscale": [
             [
              0,
              "#0d0887"
             ],
             [
              0.1111111111111111,
              "#46039f"
             ],
             [
              0.2222222222222222,
              "#7201a8"
             ],
             [
              0.3333333333333333,
              "#9c179e"
             ],
             [
              0.4444444444444444,
              "#bd3786"
             ],
             [
              0.5555555555555556,
              "#d8576b"
             ],
             [
              0.6666666666666666,
              "#ed7953"
             ],
             [
              0.7777777777777778,
              "#fb9f3a"
             ],
             [
              0.8888888888888888,
              "#fdca26"
             ],
             [
              1,
              "#f0f921"
             ]
            ],
            "type": "heatmap"
           }
          ],
          "heatmapgl": [
           {
            "colorbar": {
             "outlinewidth": 0,
             "ticks": ""
            },
            "colorscale": [
             [
              0,
              "#0d0887"
             ],
             [
              0.1111111111111111,
              "#46039f"
             ],
             [
              0.2222222222222222,
              "#7201a8"
             ],
             [
              0.3333333333333333,
              "#9c179e"
             ],
             [
              0.4444444444444444,
              "#bd3786"
             ],
             [
              0.5555555555555556,
              "#d8576b"
             ],
             [
              0.6666666666666666,
              "#ed7953"
             ],
             [
              0.7777777777777778,
              "#fb9f3a"
             ],
             [
              0.8888888888888888,
              "#fdca26"
             ],
             [
              1,
              "#f0f921"
             ]
            ],
            "type": "heatmapgl"
           }
          ],
          "histogram": [
           {
            "marker": {
             "colorbar": {
              "outlinewidth": 0,
              "ticks": ""
             }
            },
            "type": "histogram"
           }
          ],
          "histogram2d": [
           {
            "colorbar": {
             "outlinewidth": 0,
             "ticks": ""
            },
            "colorscale": [
             [
              0,
              "#0d0887"
             ],
             [
              0.1111111111111111,
              "#46039f"
             ],
             [
              0.2222222222222222,
              "#7201a8"
             ],
             [
              0.3333333333333333,
              "#9c179e"
             ],
             [
              0.4444444444444444,
              "#bd3786"
             ],
             [
              0.5555555555555556,
              "#d8576b"
             ],
             [
              0.6666666666666666,
              "#ed7953"
             ],
             [
              0.7777777777777778,
              "#fb9f3a"
             ],
             [
              0.8888888888888888,
              "#fdca26"
             ],
             [
              1,
              "#f0f921"
             ]
            ],
            "type": "histogram2d"
           }
          ],
          "histogram2dcontour": [
           {
            "colorbar": {
             "outlinewidth": 0,
             "ticks": ""
            },
            "colorscale": [
             [
              0,
              "#0d0887"
             ],
             [
              0.1111111111111111,
              "#46039f"
             ],
             [
              0.2222222222222222,
              "#7201a8"
             ],
             [
              0.3333333333333333,
              "#9c179e"
             ],
             [
              0.4444444444444444,
              "#bd3786"
             ],
             [
              0.5555555555555556,
              "#d8576b"
             ],
             [
              0.6666666666666666,
              "#ed7953"
             ],
             [
              0.7777777777777778,
              "#fb9f3a"
             ],
             [
              0.8888888888888888,
              "#fdca26"
             ],
             [
              1,
              "#f0f921"
             ]
            ],
            "type": "histogram2dcontour"
           }
          ],
          "mesh3d": [
           {
            "colorbar": {
             "outlinewidth": 0,
             "ticks": ""
            },
            "type": "mesh3d"
           }
          ],
          "parcoords": [
           {
            "line": {
             "colorbar": {
              "outlinewidth": 0,
              "ticks": ""
             }
            },
            "type": "parcoords"
           }
          ],
          "pie": [
           {
            "automargin": true,
            "type": "pie"
           }
          ],
          "scatter": [
           {
            "marker": {
             "colorbar": {
              "outlinewidth": 0,
              "ticks": ""
             }
            },
            "type": "scatter"
           }
          ],
          "scatter3d": [
           {
            "line": {
             "colorbar": {
              "outlinewidth": 0,
              "ticks": ""
             }
            },
            "marker": {
             "colorbar": {
              "outlinewidth": 0,
              "ticks": ""
             }
            },
            "type": "scatter3d"
           }
          ],
          "scattercarpet": [
           {
            "marker": {
             "colorbar": {
              "outlinewidth": 0,
              "ticks": ""
             }
            },
            "type": "scattercarpet"
           }
          ],
          "scattergeo": [
           {
            "marker": {
             "colorbar": {
              "outlinewidth": 0,
              "ticks": ""
             }
            },
            "type": "scattergeo"
           }
          ],
          "scattergl": [
           {
            "marker": {
             "colorbar": {
              "outlinewidth": 0,
              "ticks": ""
             }
            },
            "type": "scattergl"
           }
          ],
          "scattermapbox": [
           {
            "marker": {
             "colorbar": {
              "outlinewidth": 0,
              "ticks": ""
             }
            },
            "type": "scattermapbox"
           }
          ],
          "scatterpolar": [
           {
            "marker": {
             "colorbar": {
              "outlinewidth": 0,
              "ticks": ""
             }
            },
            "type": "scatterpolar"
           }
          ],
          "scatterpolargl": [
           {
            "marker": {
             "colorbar": {
              "outlinewidth": 0,
              "ticks": ""
             }
            },
            "type": "scatterpolargl"
           }
          ],
          "scatterternary": [
           {
            "marker": {
             "colorbar": {
              "outlinewidth": 0,
              "ticks": ""
             }
            },
            "type": "scatterternary"
           }
          ],
          "surface": [
           {
            "colorbar": {
             "outlinewidth": 0,
             "ticks": ""
            },
            "colorscale": [
             [
              0,
              "#0d0887"
             ],
             [
              0.1111111111111111,
              "#46039f"
             ],
             [
              0.2222222222222222,
              "#7201a8"
             ],
             [
              0.3333333333333333,
              "#9c179e"
             ],
             [
              0.4444444444444444,
              "#bd3786"
             ],
             [
              0.5555555555555556,
              "#d8576b"
             ],
             [
              0.6666666666666666,
              "#ed7953"
             ],
             [
              0.7777777777777778,
              "#fb9f3a"
             ],
             [
              0.8888888888888888,
              "#fdca26"
             ],
             [
              1,
              "#f0f921"
             ]
            ],
            "type": "surface"
           }
          ],
          "table": [
           {
            "cells": {
             "fill": {
              "color": "#EBF0F8"
             },
             "line": {
              "color": "white"
             }
            },
            "header": {
             "fill": {
              "color": "#C8D4E3"
             },
             "line": {
              "color": "white"
             }
            },
            "type": "table"
           }
          ]
         },
         "layout": {
          "annotationdefaults": {
           "arrowcolor": "#2a3f5f",
           "arrowhead": 0,
           "arrowwidth": 1
          },
          "coloraxis": {
           "colorbar": {
            "outlinewidth": 0,
            "ticks": ""
           }
          },
          "colorscale": {
           "diverging": [
            [
             0,
             "#8e0152"
            ],
            [
             0.1,
             "#c51b7d"
            ],
            [
             0.2,
             "#de77ae"
            ],
            [
             0.3,
             "#f1b6da"
            ],
            [
             0.4,
             "#fde0ef"
            ],
            [
             0.5,
             "#f7f7f7"
            ],
            [
             0.6,
             "#e6f5d0"
            ],
            [
             0.7,
             "#b8e186"
            ],
            [
             0.8,
             "#7fbc41"
            ],
            [
             0.9,
             "#4d9221"
            ],
            [
             1,
             "#276419"
            ]
           ],
           "sequential": [
            [
             0,
             "#0d0887"
            ],
            [
             0.1111111111111111,
             "#46039f"
            ],
            [
             0.2222222222222222,
             "#7201a8"
            ],
            [
             0.3333333333333333,
             "#9c179e"
            ],
            [
             0.4444444444444444,
             "#bd3786"
            ],
            [
             0.5555555555555556,
             "#d8576b"
            ],
            [
             0.6666666666666666,
             "#ed7953"
            ],
            [
             0.7777777777777778,
             "#fb9f3a"
            ],
            [
             0.8888888888888888,
             "#fdca26"
            ],
            [
             1,
             "#f0f921"
            ]
           ],
           "sequentialminus": [
            [
             0,
             "#0d0887"
            ],
            [
             0.1111111111111111,
             "#46039f"
            ],
            [
             0.2222222222222222,
             "#7201a8"
            ],
            [
             0.3333333333333333,
             "#9c179e"
            ],
            [
             0.4444444444444444,
             "#bd3786"
            ],
            [
             0.5555555555555556,
             "#d8576b"
            ],
            [
             0.6666666666666666,
             "#ed7953"
            ],
            [
             0.7777777777777778,
             "#fb9f3a"
            ],
            [
             0.8888888888888888,
             "#fdca26"
            ],
            [
             1,
             "#f0f921"
            ]
           ]
          },
          "colorway": [
           "#636efa",
           "#EF553B",
           "#00cc96",
           "#ab63fa",
           "#FFA15A",
           "#19d3f3",
           "#FF6692",
           "#B6E880",
           "#FF97FF",
           "#FECB52"
          ],
          "font": {
           "color": "#2a3f5f"
          },
          "geo": {
           "bgcolor": "white",
           "lakecolor": "white",
           "landcolor": "#E5ECF6",
           "showlakes": true,
           "showland": true,
           "subunitcolor": "white"
          },
          "hoverlabel": {
           "align": "left"
          },
          "hovermode": "closest",
          "mapbox": {
           "style": "light"
          },
          "paper_bgcolor": "white",
          "plot_bgcolor": "#E5ECF6",
          "polar": {
           "angularaxis": {
            "gridcolor": "white",
            "linecolor": "white",
            "ticks": ""
           },
           "bgcolor": "#E5ECF6",
           "radialaxis": {
            "gridcolor": "white",
            "linecolor": "white",
            "ticks": ""
           }
          },
          "scene": {
           "xaxis": {
            "backgroundcolor": "#E5ECF6",
            "gridcolor": "white",
            "gridwidth": 2,
            "linecolor": "white",
            "showbackground": true,
            "ticks": "",
            "zerolinecolor": "white"
           },
           "yaxis": {
            "backgroundcolor": "#E5ECF6",
            "gridcolor": "white",
            "gridwidth": 2,
            "linecolor": "white",
            "showbackground": true,
            "ticks": "",
            "zerolinecolor": "white"
           },
           "zaxis": {
            "backgroundcolor": "#E5ECF6",
            "gridcolor": "white",
            "gridwidth": 2,
            "linecolor": "white",
            "showbackground": true,
            "ticks": "",
            "zerolinecolor": "white"
           }
          },
          "shapedefaults": {
           "line": {
            "color": "#2a3f5f"
           }
          },
          "ternary": {
           "aaxis": {
            "gridcolor": "white",
            "linecolor": "white",
            "ticks": ""
           },
           "baxis": {
            "gridcolor": "white",
            "linecolor": "white",
            "ticks": ""
           },
           "bgcolor": "#E5ECF6",
           "caxis": {
            "gridcolor": "white",
            "linecolor": "white",
            "ticks": ""
           }
          },
          "title": {
           "x": 0.05
          },
          "xaxis": {
           "automargin": true,
           "gridcolor": "white",
           "linecolor": "white",
           "ticks": "",
           "title": {
            "standoff": 15
           },
           "zerolinecolor": "white",
           "zerolinewidth": 2
          },
          "yaxis": {
           "automargin": true,
           "gridcolor": "white",
           "linecolor": "white",
           "ticks": "",
           "title": {
            "standoff": 15
           },
           "zerolinecolor": "white",
           "zerolinewidth": 2
          }
         }
        },
        "xaxis": {
         "anchor": "y",
         "domain": [
          0,
          1
         ],
         "title": {
          "text": "behavior_2017"
         }
        },
        "yaxis": {
         "anchor": "x",
         "domain": [
          0,
          1
         ],
         "title": {
          "text": "id"
         }
        }
       }
      },
      "text/html": [
       "<div>\n",
       "        \n",
       "        \n",
       "            <div id=\"b89e0798-4dbb-441d-8831-c229d463bebf\" class=\"plotly-graph-div\" style=\"height:525px; width:100%;\"></div>\n",
       "            <script type=\"text/javascript\">\n",
       "                require([\"plotly\"], function(Plotly) {\n",
       "                    window.PLOTLYENV=window.PLOTLYENV || {};\n",
       "                    \n",
       "                if (document.getElementById(\"b89e0798-4dbb-441d-8831-c229d463bebf\")) {\n",
       "                    Plotly.newPlot(\n",
       "                        'b89e0798-4dbb-441d-8831-c229d463bebf',\n",
       "                        [{\"hovertemplate\": \"behavior_2017=%{x}<br>id=%{y}<extra></extra>\", \"legendgroup\": \"\", \"line\": {\"color\": \"#636efa\", \"dash\": \"solid\"}, \"mode\": \"lines\", \"name\": \"\", \"orientation\": \"v\", \"showlegend\": false, \"type\": \"scatter\", \"x\": [\"new\", \"recover\", \"upgrade\", \"downgrade\", \"lapse_new\", \"lapse_repeat\", \"maintain\", \"none\"], \"xaxis\": \"x\", \"y\": [434991, 39909, 43212, 42268, 389060, 67085, 14211, 845732], \"yaxis\": \"y\"}],\n",
       "                        {\"legend\": {\"tracegroupgap\": 0}, \"margin\": {\"t\": 60}, \"template\": {\"data\": {\"bar\": [{\"error_x\": {\"color\": \"#2a3f5f\"}, \"error_y\": {\"color\": \"#2a3f5f\"}, \"marker\": {\"line\": {\"color\": \"#E5ECF6\", \"width\": 0.5}}, \"type\": \"bar\"}], \"barpolar\": [{\"marker\": {\"line\": {\"color\": \"#E5ECF6\", \"width\": 0.5}}, \"type\": \"barpolar\"}], \"carpet\": [{\"aaxis\": {\"endlinecolor\": \"#2a3f5f\", \"gridcolor\": \"white\", \"linecolor\": \"white\", \"minorgridcolor\": \"white\", \"startlinecolor\": \"#2a3f5f\"}, \"baxis\": {\"endlinecolor\": \"#2a3f5f\", \"gridcolor\": \"white\", \"linecolor\": \"white\", \"minorgridcolor\": \"white\", \"startlinecolor\": \"#2a3f5f\"}, \"type\": \"carpet\"}], \"choropleth\": [{\"colorbar\": {\"outlinewidth\": 0, \"ticks\": \"\"}, \"type\": \"choropleth\"}], \"contour\": [{\"colorbar\": {\"outlinewidth\": 0, \"ticks\": \"\"}, \"colorscale\": [[0.0, \"#0d0887\"], [0.1111111111111111, \"#46039f\"], [0.2222222222222222, \"#7201a8\"], [0.3333333333333333, \"#9c179e\"], [0.4444444444444444, \"#bd3786\"], [0.5555555555555556, \"#d8576b\"], [0.6666666666666666, \"#ed7953\"], [0.7777777777777778, \"#fb9f3a\"], [0.8888888888888888, \"#fdca26\"], [1.0, \"#f0f921\"]], \"type\": \"contour\"}], \"contourcarpet\": [{\"colorbar\": {\"outlinewidth\": 0, \"ticks\": \"\"}, \"type\": \"contourcarpet\"}], \"heatmap\": [{\"colorbar\": {\"outlinewidth\": 0, \"ticks\": \"\"}, \"colorscale\": [[0.0, \"#0d0887\"], [0.1111111111111111, \"#46039f\"], [0.2222222222222222, \"#7201a8\"], [0.3333333333333333, \"#9c179e\"], [0.4444444444444444, \"#bd3786\"], [0.5555555555555556, \"#d8576b\"], [0.6666666666666666, \"#ed7953\"], [0.7777777777777778, \"#fb9f3a\"], [0.8888888888888888, \"#fdca26\"], [1.0, \"#f0f921\"]], \"type\": \"heatmap\"}], \"heatmapgl\": [{\"colorbar\": {\"outlinewidth\": 0, \"ticks\": \"\"}, \"colorscale\": [[0.0, \"#0d0887\"], [0.1111111111111111, \"#46039f\"], [0.2222222222222222, \"#7201a8\"], [0.3333333333333333, \"#9c179e\"], [0.4444444444444444, \"#bd3786\"], [0.5555555555555556, \"#d8576b\"], [0.6666666666666666, \"#ed7953\"], [0.7777777777777778, \"#fb9f3a\"], [0.8888888888888888, \"#fdca26\"], [1.0, \"#f0f921\"]], \"type\": \"heatmapgl\"}], \"histogram\": [{\"marker\": {\"colorbar\": {\"outlinewidth\": 0, \"ticks\": \"\"}}, \"type\": \"histogram\"}], \"histogram2d\": [{\"colorbar\": {\"outlinewidth\": 0, \"ticks\": \"\"}, \"colorscale\": [[0.0, \"#0d0887\"], [0.1111111111111111, \"#46039f\"], [0.2222222222222222, \"#7201a8\"], [0.3333333333333333, \"#9c179e\"], [0.4444444444444444, \"#bd3786\"], [0.5555555555555556, \"#d8576b\"], [0.6666666666666666, \"#ed7953\"], [0.7777777777777778, \"#fb9f3a\"], [0.8888888888888888, \"#fdca26\"], [1.0, \"#f0f921\"]], \"type\": \"histogram2d\"}], \"histogram2dcontour\": [{\"colorbar\": {\"outlinewidth\": 0, \"ticks\": \"\"}, \"colorscale\": [[0.0, \"#0d0887\"], [0.1111111111111111, \"#46039f\"], [0.2222222222222222, \"#7201a8\"], [0.3333333333333333, \"#9c179e\"], [0.4444444444444444, \"#bd3786\"], [0.5555555555555556, \"#d8576b\"], [0.6666666666666666, \"#ed7953\"], [0.7777777777777778, \"#fb9f3a\"], [0.8888888888888888, \"#fdca26\"], [1.0, \"#f0f921\"]], \"type\": \"histogram2dcontour\"}], \"mesh3d\": [{\"colorbar\": {\"outlinewidth\": 0, \"ticks\": \"\"}, \"type\": \"mesh3d\"}], \"parcoords\": [{\"line\": {\"colorbar\": {\"outlinewidth\": 0, \"ticks\": \"\"}}, \"type\": \"parcoords\"}], \"pie\": [{\"automargin\": true, \"type\": \"pie\"}], \"scatter\": [{\"marker\": {\"colorbar\": {\"outlinewidth\": 0, \"ticks\": \"\"}}, \"type\": \"scatter\"}], \"scatter3d\": [{\"line\": {\"colorbar\": {\"outlinewidth\": 0, \"ticks\": \"\"}}, \"marker\": {\"colorbar\": {\"outlinewidth\": 0, \"ticks\": \"\"}}, \"type\": \"scatter3d\"}], \"scattercarpet\": [{\"marker\": {\"colorbar\": {\"outlinewidth\": 0, \"ticks\": \"\"}}, \"type\": \"scattercarpet\"}], \"scattergeo\": [{\"marker\": {\"colorbar\": {\"outlinewidth\": 0, \"ticks\": \"\"}}, \"type\": \"scattergeo\"}], \"scattergl\": [{\"marker\": {\"colorbar\": {\"outlinewidth\": 0, \"ticks\": \"\"}}, \"type\": \"scattergl\"}], \"scattermapbox\": [{\"marker\": {\"colorbar\": {\"outlinewidth\": 0, \"ticks\": \"\"}}, \"type\": \"scattermapbox\"}], \"scatterpolar\": [{\"marker\": {\"colorbar\": {\"outlinewidth\": 0, \"ticks\": \"\"}}, \"type\": \"scatterpolar\"}], \"scatterpolargl\": [{\"marker\": {\"colorbar\": {\"outlinewidth\": 0, \"ticks\": \"\"}}, \"type\": \"scatterpolargl\"}], \"scatterternary\": [{\"marker\": {\"colorbar\": {\"outlinewidth\": 0, \"ticks\": \"\"}}, \"type\": \"scatterternary\"}], \"surface\": [{\"colorbar\": {\"outlinewidth\": 0, \"ticks\": \"\"}, \"colorscale\": [[0.0, \"#0d0887\"], [0.1111111111111111, \"#46039f\"], [0.2222222222222222, \"#7201a8\"], [0.3333333333333333, \"#9c179e\"], [0.4444444444444444, \"#bd3786\"], [0.5555555555555556, \"#d8576b\"], [0.6666666666666666, \"#ed7953\"], [0.7777777777777778, \"#fb9f3a\"], [0.8888888888888888, \"#fdca26\"], [1.0, \"#f0f921\"]], \"type\": \"surface\"}], \"table\": [{\"cells\": {\"fill\": {\"color\": \"#EBF0F8\"}, \"line\": {\"color\": \"white\"}}, \"header\": {\"fill\": {\"color\": \"#C8D4E3\"}, \"line\": {\"color\": \"white\"}}, \"type\": \"table\"}]}, \"layout\": {\"annotationdefaults\": {\"arrowcolor\": \"#2a3f5f\", \"arrowhead\": 0, \"arrowwidth\": 1}, \"coloraxis\": {\"colorbar\": {\"outlinewidth\": 0, \"ticks\": \"\"}}, \"colorscale\": {\"diverging\": [[0, \"#8e0152\"], [0.1, \"#c51b7d\"], [0.2, \"#de77ae\"], [0.3, \"#f1b6da\"], [0.4, \"#fde0ef\"], [0.5, \"#f7f7f7\"], [0.6, \"#e6f5d0\"], [0.7, \"#b8e186\"], [0.8, \"#7fbc41\"], [0.9, \"#4d9221\"], [1, \"#276419\"]], \"sequential\": [[0.0, \"#0d0887\"], [0.1111111111111111, \"#46039f\"], [0.2222222222222222, \"#7201a8\"], [0.3333333333333333, \"#9c179e\"], [0.4444444444444444, \"#bd3786\"], [0.5555555555555556, \"#d8576b\"], [0.6666666666666666, \"#ed7953\"], [0.7777777777777778, \"#fb9f3a\"], [0.8888888888888888, \"#fdca26\"], [1.0, \"#f0f921\"]], \"sequentialminus\": [[0.0, \"#0d0887\"], [0.1111111111111111, \"#46039f\"], [0.2222222222222222, \"#7201a8\"], [0.3333333333333333, \"#9c179e\"], [0.4444444444444444, \"#bd3786\"], [0.5555555555555556, \"#d8576b\"], [0.6666666666666666, \"#ed7953\"], [0.7777777777777778, \"#fb9f3a\"], [0.8888888888888888, \"#fdca26\"], [1.0, \"#f0f921\"]]}, \"colorway\": [\"#636efa\", \"#EF553B\", \"#00cc96\", \"#ab63fa\", \"#FFA15A\", \"#19d3f3\", \"#FF6692\", \"#B6E880\", \"#FF97FF\", \"#FECB52\"], \"font\": {\"color\": \"#2a3f5f\"}, \"geo\": {\"bgcolor\": \"white\", \"lakecolor\": \"white\", \"landcolor\": \"#E5ECF6\", \"showlakes\": true, \"showland\": true, \"subunitcolor\": \"white\"}, \"hoverlabel\": {\"align\": \"left\"}, \"hovermode\": \"closest\", \"mapbox\": {\"style\": \"light\"}, \"paper_bgcolor\": \"white\", \"plot_bgcolor\": \"#E5ECF6\", \"polar\": {\"angularaxis\": {\"gridcolor\": \"white\", \"linecolor\": \"white\", \"ticks\": \"\"}, \"bgcolor\": \"#E5ECF6\", \"radialaxis\": {\"gridcolor\": \"white\", \"linecolor\": \"white\", \"ticks\": \"\"}}, \"scene\": {\"xaxis\": {\"backgroundcolor\": \"#E5ECF6\", \"gridcolor\": \"white\", \"gridwidth\": 2, \"linecolor\": \"white\", \"showbackground\": true, \"ticks\": \"\", \"zerolinecolor\": \"white\"}, \"yaxis\": {\"backgroundcolor\": \"#E5ECF6\", \"gridcolor\": \"white\", \"gridwidth\": 2, \"linecolor\": \"white\", \"showbackground\": true, \"ticks\": \"\", \"zerolinecolor\": \"white\"}, \"zaxis\": {\"backgroundcolor\": \"#E5ECF6\", \"gridcolor\": \"white\", \"gridwidth\": 2, \"linecolor\": \"white\", \"showbackground\": true, \"ticks\": \"\", \"zerolinecolor\": \"white\"}}, \"shapedefaults\": {\"line\": {\"color\": \"#2a3f5f\"}}, \"ternary\": {\"aaxis\": {\"gridcolor\": \"white\", \"linecolor\": \"white\", \"ticks\": \"\"}, \"baxis\": {\"gridcolor\": \"white\", \"linecolor\": \"white\", \"ticks\": \"\"}, \"bgcolor\": \"#E5ECF6\", \"caxis\": {\"gridcolor\": \"white\", \"linecolor\": \"white\", \"ticks\": \"\"}}, \"title\": {\"x\": 0.05}, \"xaxis\": {\"automargin\": true, \"gridcolor\": \"white\", \"linecolor\": \"white\", \"ticks\": \"\", \"title\": {\"standoff\": 15}, \"zerolinecolor\": \"white\", \"zerolinewidth\": 2}, \"yaxis\": {\"automargin\": true, \"gridcolor\": \"white\", \"linecolor\": \"white\", \"ticks\": \"\", \"title\": {\"standoff\": 15}, \"zerolinecolor\": \"white\", \"zerolinewidth\": 2}}}, \"xaxis\": {\"anchor\": \"y\", \"domain\": [0.0, 1.0], \"title\": {\"text\": \"behavior_2017\"}}, \"yaxis\": {\"anchor\": \"x\", \"domain\": [0.0, 1.0], \"title\": {\"text\": \"id\"}}},\n",
       "                        {\"responsive\": true}\n",
       "                    ).then(function(){\n",
       "                            \n",
       "var gd = document.getElementById('b89e0798-4dbb-441d-8831-c229d463bebf');\n",
       "var x = new MutationObserver(function (mutations, observer) {{\n",
       "        var display = window.getComputedStyle(gd).display;\n",
       "        if (!display || display === 'none') {{\n",
       "            console.log([gd, 'removed!']);\n",
       "            Plotly.purge(gd);\n",
       "            observer.disconnect();\n",
       "        }}\n",
       "}});\n",
       "\n",
       "// Listen for the removal of the full notebook cells\n",
       "var notebookContainer = gd.closest('#notebook-container');\n",
       "if (notebookContainer) {{\n",
       "    x.observe(notebookContainer, {childList: true});\n",
       "}}\n",
       "\n",
       "// Listen for the clearing of the current output cell\n",
       "var outputEl = gd.closest('.output');\n",
       "if (outputEl) {{\n",
       "    x.observe(outputEl, {childList: true});\n",
       "}}\n",
       "\n",
       "                        })\n",
       "                };\n",
       "                });\n",
       "            </script>\n",
       "        </div>"
      ]
     },
     "metadata": {},
     "output_type": "display_data"
    }
   ],
   "source": [
    "fig = px.line(b, x=\"behavior_2017\", y=\"id\")\n",
    "fig.show()"
   ]
  },
  {
   "cell_type": "code",
   "execution_count": 66,
   "metadata": {},
   "outputs": [
    {
     "data": {
      "image/png": "[encoded data removed]",
      "text/plain": [
       "<Figure size 432x288 with 1 Axes>"
      ]
     },
     "metadata": {
      "needs_background": "light"
     },
     "output_type": "display_data"
    }
   ],
   "source": [
    "sns.barplot(data=b.query('behavior_2017 != \"none\"'), x='gainloss_2017', y='id', hue='behavior_2017');"
   ]
  },
  {
   "cell_type": "code",
   "execution_count": null,
   "metadata": {},
   "outputs": [],
   "source": []
  }
 ],
 "metadata": {
  "kernelspec": {
   "display_name": "Python 3",
   "language": "python",
   "name": "python3"
  },
  "language_info": {
   "codemirror_mode": {
    "name": "ipython",
    "version": 3
   },
   "file_extension": ".py",
   "mimetype": "text/x-python",
   "name": "python",
   "nbconvert_exporter": "python",
   "pygments_lexer": "ipython3",
   "version": "3.7.4"
  }
 },
 "nbformat": 4,
 "nbformat_minor": 2
}
